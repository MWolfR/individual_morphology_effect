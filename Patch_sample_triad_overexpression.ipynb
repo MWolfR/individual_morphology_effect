{
 "cells": [
  {
   "cell_type": "code",
   "execution_count": 3,
   "id": "8da81fd5",
   "metadata": {},
   "outputs": [],
   "source": [
    "import numpy, pandas\n",
    "import conntility\n",
    "import os\n",
    "import connalysis\n",
    "import tqdm\n",
    "\n",
    "from scipy.spatial import distance\n",
    "from matplotlib import pyplot as plt\n"
   ]
  },
  {
   "cell_type": "code",
   "execution_count": 25,
   "id": "a82f3159",
   "metadata": {},
   "outputs": [],
   "source": [
    "# Connectivity matrix to use\n",
    "fn_mat = \"/gpfs/bbp.cscs.ch/project/proj159/home/barros/conn_matrix/Human_960um_squared_funct_conmat_filtered_compressed.h5\"\n",
    "M = conntility.ConnectivityMatrix.from_h5(fn_mat)"
   ]
  },
  {
   "cell_type": "markdown",
   "id": "1c8fa1b3",
   "metadata": {},
   "source": [
    "## Patch sample and analysis helpers\n",
    "\n",
    "Functions to patch sample and evaluate triads and connection probabilities"
   ]
  },
  {
   "cell_type": "code",
   "execution_count": 4,
   "id": "8aa87727",
   "metadata": {},
   "outputs": [],
   "source": [
    "def partition_model_into_subvolumes(M, decomposition_plane, decomposition_sz, min_column_sz):\n",
    "    grps = conntility.circuit_models.neuron_groups.group_by_grid(M.vertices, decomposition_plane, decomposition_sz)\n",
    "    grps = grps.groupby(\"grid-subtarget\")[\"node_ids\"].apply(list)\n",
    "\n",
    "    Ms = []\n",
    "    for grp in grps:\n",
    "        m = M.subpopulation(grp)\n",
    "        if len(m) > min_column_sz:\n",
    "            Ms.append(m)\n",
    "    return Ms"
   ]
  },
  {
   "cell_type": "code",
   "execution_count": 5,
   "id": "0b1f99cb",
   "metadata": {},
   "outputs": [],
   "source": [
    "col_slc = [\"slice_x\", \"slice_y\"]\n",
    "\n",
    "def number_expected_er(P, N):\n",
    "    from connalysis.network.topology import triad_combinations\n",
    "    from scipy.stats import binom\n",
    "    num_edge_per_triad = numpy.array([2, 2, 2, 3, 3, 3, 3, 4, 4 ,4 ,4, 5, 6])\n",
    "    num_edge_per_non_triad = numpy.array([0, 1, 2])\n",
    "    non_triad_combinations = numpy.array([1, 6, 3])\n",
    "\n",
    "    p_er = triad_combinations * (P ** num_edge_per_triad) * ((1 - P) ** (6 - num_edge_per_triad))\n",
    "    p_er_non = non_triad_combinations * (P ** num_edge_per_non_triad) * ((1 - P) ** (6 - num_edge_per_non_triad))\n",
    "    assert numpy.abs(1 - (p_er.sum() + p_er_non.sum())) < 1E-6\n",
    "\n",
    "    distr_er = binom(N, (p_er / p_er.sum()))\n",
    "    return distr_er.mean(), distr_er.std()\n",
    "\n",
    "def sample_and_count_triads(m, mv_cv, n_patch=12, n_samples=25, slice_thickness=150):\n",
    "    counts = []\n",
    "    sum_pairs = 0\n",
    "    sum_connected = 0\n",
    "    sum_rc = 0\n",
    "    delta_rec = []\n",
    "    delta_con = []\n",
    "    delta_unc = []\n",
    "    for _ in tqdm.tqdm(range(n_samples)):\n",
    "        try:\n",
    "            s = m.slice(numpy.random.rand() * numpy.pi, (numpy.random.rand() - 0.5) * 50, slice_thickness)\n",
    "            s = s.patch_sample(n_patch, [0, 0], mv_cv, columns_xy=col_slc)\n",
    "            sum_pairs += (len(s) * (len(s) - 1))\n",
    "            sum_connected += s.matrix.nnz\n",
    "            sum_rc += s.to_reciprocal().matrix.nnz\n",
    "            counts.append(connalysis.network.topology.count_triads_fully_connected(s.matrix > 0, return_normalized=False))\n",
    "            D = s.vertices[col_slc].values.reshape((1, -1, 2)) - s.vertices[col_slc].values.reshape((-1, 1, 2))\n",
    "            delta_rec.append(pandas.DataFrame(\n",
    "                D[(s.array > 0) & (s.array.transpose() > 0)], columns=[\"horizontal\", \"vertical\"]\n",
    "            ))\n",
    "            delta_con.append(pandas.DataFrame(\n",
    "                D[(s.array > 0) & (s.array.transpose() == 0)], columns=[\"horizontal\", \"vertical\"]\n",
    "            ))\n",
    "            delta_unc.append(pandas.DataFrame(\n",
    "                D[(s.array == 0)], columns=[\"horizontal\", \"vertical\"]\n",
    "            ))\n",
    "        except:\n",
    "            pass\n",
    "    P = sum_connected / sum_pairs\n",
    "    Prec = sum_rc / sum_pairs\n",
    "    deltas = pandas.concat([\n",
    "        pandas.concat(delta_rec, axis=0, names=[\"sample\"], keys=range(len(delta_rec))),\n",
    "        pandas.concat(delta_con, axis=0, names=[\"sample\"], keys=range(len(delta_con))),\n",
    "        pandas.concat(delta_unc, axis=0, names=[\"sample\"], keys=range(len(delta_unc)))\n",
    "    ], axis=0, keys=[\"reciprocal\", \"unidirectional\", \"unconnected\"])\n",
    "    counts = numpy.vstack(counts).sum(axis=0)\n",
    "    return counts, (P, Prec), deltas\n"
   ]
  },
  {
   "cell_type": "markdown",
   "id": "c814fa40",
   "metadata": {},
   "source": [
    "Main entry point"
   ]
  },
  {
   "cell_type": "code",
   "execution_count": 6,
   "id": "a75c6d55",
   "metadata": {},
   "outputs": [],
   "source": [
    "def execute_slice_and_patch_campaign(M, param_dict):\n",
    "    if \"decomposition_plane\" in param_dict:\n",
    "        Ms = partition_model_into_subvolumes(M, param_dict[\"decomposition_plane\"],\n",
    "                                             param_dict[\"decomposition_sz\"], param_dict[\"min_column_sz\"])\n",
    "    else:\n",
    "        Ms = [M]\n",
    "    \n",
    "    all_counts = []\n",
    "    all_er = []\n",
    "    all_deltas = []\n",
    "\n",
    "    mv_cv = numpy.array(param_dict[\"mv_cv\"])\n",
    "    patch_kwargs = param_dict[\"patch_kwargs\"]\n",
    "    allP_u = []; allP_rc = []\n",
    "    for m in Ms:\n",
    "        counts, P, deltas = sample_and_count_triads(m, mv_cv, **patch_kwargs)\n",
    "        allP_u.append(P[0]); allP_rc.append(P[1])\n",
    "        count_er_mn, count_er_sd = number_expected_er(P[0], counts.sum())\n",
    "        all_counts.append((counts - count_er_mn) / count_er_sd)\n",
    "        all_deltas.append(deltas)\n",
    "\n",
    "    all_counts = pandas.DataFrame(all_counts,\n",
    "                     index=pandas.RangeIndex(len(all_counts), name=\"subvolume\"),\n",
    "                     columns=pandas.RangeIndex(13, name=\"motif\"))\n",
    "    all_deltas = pandas.concat(all_deltas, axis=0, names=[\"subvolume\"], keys=range(len(all_deltas)))\n",
    "    return all_counts, all_deltas, pandas.DataFrame({\"unidirectional\": allP_u,\n",
    "                                                     \"reciprocal\": allP_rc})\n",
    "    "
   ]
  },
  {
   "cell_type": "markdown",
   "id": "dc959d8c",
   "metadata": {},
   "source": [
    "## EXECUTE!"
   ]
  },
  {
   "cell_type": "markdown",
   "id": "304803f2",
   "metadata": {},
   "source": [
    "### Part I: Triad motifs for a realistic sampling\n",
    "Note: If you are only interested in part II, you can skip execution of this part."
   ]
  },
  {
   "cell_type": "code",
   "execution_count": null,
   "id": "286a6265",
   "metadata": {},
   "outputs": [
    {
     "name": "stderr",
     "output_type": "stream",
     "text": [
      "  4%|▎         | 2/55 [00:00<00:06,  8.60it/s]"
     ]
    },
    {
     "name": "stdout",
     "output_type": "stream",
     "text": [
      "Testing 66 potential triadic pairs\n",
      "Time spent finding triads: 0.0039310455322265625\n",
      "Found 146 connected triads\n",
      "Time spent classifying triads: 0.009203433990478516\n",
      "Testing 66 potential triadic pairs\n",
      "Time spent finding triads: 0.001363515853881836\n",
      "Found 152 connected triads\n",
      "Time spent classifying triads: 0.0062563419342041016\n"
     ]
    },
    {
     "name": "stderr",
     "output_type": "stream",
     "text": [
      "  7%|▋         | 4/55 [00:00<00:05,  8.73it/s]"
     ]
    },
    {
     "name": "stdout",
     "output_type": "stream",
     "text": [
      "Testing 66 potential triadic pairs\n",
      "Time spent finding triads: 0.001508474349975586\n",
      "Found 197 connected triads\n",
      "Time spent classifying triads: 0.011262178421020508\n",
      "Testing 65 potential triadic pairs\n",
      "Time spent finding triads: 0.0014414787292480469\n",
      "Found 163 connected triads\n",
      "Time spent classifying triads: 0.006545543670654297\n"
     ]
    },
    {
     "name": "stderr",
     "output_type": "stream",
     "text": [
      " 11%|█         | 6/55 [00:00<00:05,  9.00it/s]"
     ]
    },
    {
     "name": "stdout",
     "output_type": "stream",
     "text": [
      "Testing 34 potential triadic pairs\n",
      "Time spent finding triads: 0.001071929931640625\n",
      "Found 40 connected triads\n",
      "Time spent classifying triads: 0.003850698471069336\n",
      "Testing 65 potential triadic pairs\n",
      "Time spent finding triads: 0.0013453960418701172\n",
      "Found 148 connected triads\n",
      "Time spent classifying triads: 0.0059375762939453125\n"
     ]
    },
    {
     "name": "stderr",
     "output_type": "stream",
     "text": [
      " 15%|█▍        | 8/55 [00:00<00:05,  8.78it/s]"
     ]
    },
    {
     "name": "stdout",
     "output_type": "stream",
     "text": [
      "Testing 66 potential triadic pairs\n",
      "Time spent finding triads: 0.0014157295227050781\n",
      "Found 170 connected triads\n",
      "Time spent classifying triads: 0.015735387802124023\n",
      "Testing 66 potential triadic pairs\n",
      "Time spent finding triads: 0.0013766288757324219\n",
      "Found 184 connected triads\n",
      "Time spent classifying triads: 0.007283687591552734\n"
     ]
    },
    {
     "name": "stderr",
     "output_type": "stream",
     "text": [
      " 18%|█▊        | 10/55 [00:01<00:04,  9.17it/s]"
     ]
    },
    {
     "name": "stdout",
     "output_type": "stream",
     "text": [
      "Testing 38 potential triadic pairs\n",
      "Time spent finding triads: 0.0010859966278076172\n",
      "Found 36 connected triads\n",
      "Time spent classifying triads: 0.0034046173095703125\n",
      "Testing 55 potential triadic pairs\n",
      "Time spent finding triads: 0.0013468265533447266\n",
      "Found 90 connected triads\n",
      "Time spent classifying triads: 0.00360870361328125\n",
      "Testing 66 potential triadic pairs\n",
      "Time spent finding triads: 0.0013630390167236328\n",
      "Found 175 connected triads\n"
     ]
    },
    {
     "name": "stderr",
     "output_type": "stream",
     "text": [
      " 22%|██▏       | 12/55 [00:01<00:04,  9.13it/s]"
     ]
    },
    {
     "name": "stdout",
     "output_type": "stream",
     "text": [
      "Time spent classifying triads: 0.015317678451538086\n",
      "Testing 61 potential triadic pairs\n",
      "Time spent finding triads: 0.0011603832244873047\n",
      "Found 89 connected triads\n",
      "Time spent classifying triads: 0.0035924911499023438\n"
     ]
    },
    {
     "name": "stderr",
     "output_type": "stream",
     "text": [
      " 25%|██▌       | 14/55 [00:01<00:04,  9.37it/s]"
     ]
    },
    {
     "name": "stdout",
     "output_type": "stream",
     "text": [
      "Testing 40 potential triadic pairs\n",
      "Time spent finding triads: 0.001567840576171875\n",
      "Found 40 connected triads\n",
      "Time spent classifying triads: 0.0036678314208984375\n",
      "Testing 66 potential triadic pairs\n",
      "Time spent finding triads: 0.0013272762298583984\n",
      "Found 147 connected triads\n",
      "Time spent classifying triads: 0.007956743240356445\n",
      "Testing 32 potential triadic pairs\n",
      "Time spent finding triads: 0.0009355545043945312\n",
      "Found 30 connected triads\n",
      "Time spent classifying triads: 0.0012500286102294922\n"
     ]
    },
    {
     "name": "stderr",
     "output_type": "stream",
     "text": [
      " 31%|███       | 17/55 [00:01<00:04,  9.31it/s]"
     ]
    },
    {
     "name": "stdout",
     "output_type": "stream",
     "text": [
      "Testing 66 potential triadic pairs\n",
      "Time spent finding triads: 0.0014238357543945312\n",
      "Found 179 connected triads\n",
      "Time spent classifying triads: 0.01626420021057129\n",
      "Testing 66 potential triadic pairs\n",
      "Time spent finding triads: 0.0013074874877929688\n",
      "Found 142 connected triads\n",
      "Time spent classifying triads: 0.005606651306152344\n"
     ]
    },
    {
     "name": "stderr",
     "output_type": "stream",
     "text": [
      " 35%|███▍      | 19/55 [00:02<00:03,  9.25it/s]"
     ]
    },
    {
     "name": "stdout",
     "output_type": "stream",
     "text": [
      "Testing 63 potential triadic pairs\n",
      "Time spent finding triads: 0.002227783203125\n",
      "Found 91 connected triads\n",
      "Time spent classifying triads: 0.008600950241088867\n",
      "Testing 66 potential triadic pairs\n",
      "Time spent finding triads: 0.0014274120330810547\n",
      "Found 189 connected triads\n",
      "Time spent classifying triads: 0.008028984069824219\n"
     ]
    },
    {
     "name": "stderr",
     "output_type": "stream",
     "text": [
      " 38%|███▊      | 21/55 [00:02<00:03,  9.36it/s]"
     ]
    },
    {
     "name": "stdout",
     "output_type": "stream",
     "text": [
      "Testing 64 potential triadic pairs\n",
      "Time spent finding triads: 0.0020530223846435547\n",
      "Found 120 connected triads\n",
      "Time spent classifying triads: 0.007304191589355469\n",
      "Testing 61 potential triadic pairs\n",
      "Time spent finding triads: 0.0011680126190185547\n",
      "Found 86 connected triads\n",
      "Time spent classifying triads: 0.007128238677978516\n"
     ]
    },
    {
     "name": "stderr",
     "output_type": "stream",
     "text": [
      " 42%|████▏     | 23/55 [00:02<00:03,  9.44it/s]"
     ]
    },
    {
     "name": "stdout",
     "output_type": "stream",
     "text": [
      "Testing 63 potential triadic pairs\n",
      "Time spent finding triads: 0.0012536048889160156\n",
      "Found 97 connected triads\n",
      "Time spent classifying triads: 0.0047473907470703125\n",
      "Testing 34 potential triadic pairs\n",
      "Time spent finding triads: 0.001071929931640625\n",
      "Found 44 connected triads\n",
      "Time spent classifying triads: 0.004122257232666016\n"
     ]
    },
    {
     "name": "stderr",
     "output_type": "stream",
     "text": [
      "\r",
      " 44%|████▎     | 24/55 [00:02<00:03,  9.40it/s]"
     ]
    },
    {
     "name": "stdout",
     "output_type": "stream",
     "text": [
      "Testing 66 potential triadic pairs\n",
      "Time spent finding triads: 0.0026793479919433594\n",
      "Found 162 connected triads\n",
      "Time spent classifying triads: 0.008574247360229492\n",
      "Testing 22 potential triadic pairs\n",
      "Time spent finding triads: 0.0010437965393066406\n",
      "Found 26 connected triads\n",
      "Time spent classifying triads: 0.001111745834350586\n"
     ]
    },
    {
     "name": "stderr",
     "output_type": "stream",
     "text": [
      " 49%|████▉     | 27/55 [00:02<00:02,  9.44it/s]"
     ]
    },
    {
     "name": "stdout",
     "output_type": "stream",
     "text": [
      "Testing 66 potential triadic pairs\n",
      "Time spent finding triads: 0.0026366710662841797\n",
      "Found 196 connected triads\n",
      "Time spent classifying triads: 0.0102081298828125\n",
      "Testing 66 potential triadic pairs\n",
      "Time spent finding triads: 0.0013422966003417969\n",
      "Found 175 connected triads\n",
      "Time spent classifying triads: 0.0069732666015625\n"
     ]
    },
    {
     "name": "stderr",
     "output_type": "stream",
     "text": [
      " 53%|█████▎    | 29/55 [00:03<00:02,  9.46it/s]"
     ]
    },
    {
     "name": "stdout",
     "output_type": "stream",
     "text": [
      "Testing 66 potential triadic pairs\n",
      "Time spent finding triads: 0.0013971328735351562\n",
      "Found 149 connected triads\n",
      "Time spent classifying triads: 0.007734060287475586\n",
      "Testing 54 potential triadic pairs\n",
      "Time spent finding triads: 0.0011701583862304688\n",
      "Found 85 connected triads\n",
      "Time spent classifying triads: 0.0034742355346679688\n"
     ]
    },
    {
     "name": "stderr",
     "output_type": "stream",
     "text": [
      " 56%|█████▋    | 31/55 [00:03<00:02,  9.54it/s]"
     ]
    },
    {
     "name": "stdout",
     "output_type": "stream",
     "text": [
      "Testing 64 potential triadic pairs\n",
      "Time spent finding triads: 0.0020906925201416016\n",
      "Found 121 connected triads\n",
      "Time spent classifying triads: 0.00595855712890625\n",
      "Testing 55 potential triadic pairs\n",
      "Time spent finding triads: 0.0013120174407958984\n",
      "Found 72 connected triads\n",
      "Time spent classifying triads: 0.0029420852661132812\n"
     ]
    },
    {
     "name": "stderr",
     "output_type": "stream",
     "text": [
      " 60%|██████    | 33/55 [00:03<00:02,  9.32it/s]"
     ]
    },
    {
     "name": "stdout",
     "output_type": "stream",
     "text": [
      "Testing 40 potential triadic pairs\n",
      "Time spent finding triads: 0.001026153564453125\n",
      "Found 41 connected triads\n",
      "Time spent classifying triads: 0.003896951675415039\n",
      "Testing 66 potential triadic pairs\n",
      "Time spent finding triads: 0.0013086795806884766\n",
      "Found 140 connected triads\n",
      "Time spent classifying triads: 0.005548000335693359\n"
     ]
    },
    {
     "name": "stderr",
     "output_type": "stream",
     "text": [
      "\r",
      " 62%|██████▏   | 34/55 [00:03<00:02,  9.08it/s]"
     ]
    },
    {
     "name": "stdout",
     "output_type": "stream",
     "text": [
      "Testing 66 potential triadic pairs\n",
      "Time spent finding triads: 0.0013926029205322266\n",
      "Found 171 connected triads\n",
      "Time spent classifying triads: 0.015851974487304688\n",
      "Testing 61 potential triadic pairs\n",
      "Time spent finding triads: 0.0012030601501464844\n",
      "Found 84 connected triads\n",
      "Time spent classifying triads: 0.003421306610107422\n",
      "Testing 66 potential triadic pairs\n",
      "Time spent finding triads: 0.0013992786407470703\n",
      "Found 173 connected triads\n"
     ]
    }
   ],
   "source": [
    "campaign_cfg = {\n",
    "    \"decomposition_plane\": [\"x\", \"z\"], # What are the horizontal axes of the volume?Decomposition will happen in this plane.\n",
    "    \"decomposition_sz\": 250,\n",
    "    \"min_column_sz\": 500, # After decomposition, columns smaller than this will be discarded,\n",
    "    \"mv_cv\": [[145**2, 0], [0, 150**2]], # Describes the patch sampling spatial dimensions. 40 ** 2 will sample neuron pairs up to ~100 um.\n",
    "    \"patch_kwargs\": {\n",
    "        \"slice_thickness\": 200,\n",
    "        \"n_samples\": 55, # The number of times the patch sampling procedure will be applied\n",
    "        \"n_patch\": 12 # Up to this number of neurons will be sampled together\n",
    "    }\n",
    "}\n",
    "\n",
    "all_counts, all_deltas, P = execute_slice_and_patch_campaign(M, campaign_cfg)"
   ]
  },
  {
   "cell_type": "markdown",
   "id": "48f97040",
   "metadata": {},
   "source": [
    "#### Plot triads\n"
   ]
  },
  {
   "cell_type": "code",
   "execution_count": null,
   "id": "fb6ab8d1",
   "metadata": {},
   "outputs": [],
   "source": [
    "fig = plt.figure(figsize=(5, 3))\n",
    "ax = fig.gca()\n",
    "\n",
    "ax.bar(all_counts.columns, all_counts.mean())\n",
    "x = numpy.repeat(all_counts.columns.values.reshape((1, -1)), len(all_counts), axis=0)\n",
    "x = x + 0.25 * (numpy.random.rand(*x.shape) - 0.5)\n",
    "ax.plot(x, all_counts.values, color=\"black\", ls=\"None\", marker='s', ms=2)\n",
    "ax.plot([0, 13], [0, 0], color=\"grey\", lw=0.5)\n",
    "ax.set_frame_on(False)\n",
    "ax.set_xlabel(\"Triad #\")\n",
    "ax.set_ylabel(\"Z-score\")"
   ]
  },
  {
   "cell_type": "code",
   "execution_count": null,
   "id": "d6690bfe",
   "metadata": {},
   "outputs": [],
   "source": [
    "i = 0\n",
    "d = all_deltas.loc[i]\n",
    "d[\"distance\"] = numpy.linalg.norm(d, axis=1)\n",
    "dists = d.reset_index().groupby(\"level_0\")[\"distance\"].mean()\n",
    "\n",
    "fig = plt.figure(figsize=(5, 3))\n",
    "ax = fig.add_axes([0.1, 0.1, 0.5, 0.85])\n",
    "\n",
    "def sample_random_fraction(arr_in, frac):\n",
    "    assert frac <= 1\n",
    "    b = numpy.random.choice(len(arr_in), int(len(arr_in) * frac), replace=False)\n",
    "    return arr_in.iloc[b][\"horizontal\"], arr_in.iloc[b][\"vertical\"]\n",
    "\n",
    "cols_use = [[0.6, 0.6, 1.0], [0.1, 0.1, 0.7], [0.9, 0.3, 0.0]]\n",
    "\n",
    "ax.scatter(*sample_random_fraction(d.loc[\"unconnected\"], 0.5), color=cols_use[0], s=3, alpha=0.3, label=\"Unconnected\")\n",
    "ax.scatter(*sample_random_fraction(d.loc[\"unidirectional\"], 0.5), color=cols_use[1], s=3, alpha=0.6, label=\"Unidirectional\")\n",
    "ax.scatter(*sample_random_fraction(d.loc[\"reciprocal\"], 0.5), color=cols_use[2], s=3, alpha=0.8, label=\"Reciprocal\")\n",
    "ax.plot(0, 0, marker=\"^\", ms=8, color=\"black\")\n",
    "ax.set_xlabel(\"Horizontal offset (um)\")\n",
    "ax.set_ylabel(\"Vertical offset (um)\")\n",
    "ax.set_frame_on(False)\n",
    "# plt.axis(\"equal\")\n",
    "ax.set_xlim([-300, 300]); ax.set_xticks([-300, -150, 0, 150, 300]); ax.set_xticklabels([300, 150, 0, 150, 300])\n",
    "ax.set_ylim([-300, 300]); ax.set_yticks([-300, -150, 0, 150, 300]); ax.set_yticklabels([300, 150, 0, 150, 300])\n",
    "plt.legend()\n",
    "\n",
    "ax = fig.add_axes([0.725, 0.35, 0.275, 0.35])\n",
    "ax.bar(2, dists[\"reciprocal\"], color=cols_use[2])\n",
    "ax.bar(1, dists[\"unidirectional\"], color=cols_use[1])\n",
    "ax.bar(0, dists[\"unconnected\"], color=cols_use[0])\n",
    "ax.set_xticks([0, 1, 2]); ax.set_xticklabels([\"Unconnected\", \"Unidirectional\", \"Reciprocal\"], rotation=\"vertical\")\n",
    "ax.set_ylabel(\"Mean distance (um)\")\n",
    "ax.set_frame_on(False)"
   ]
  },
  {
   "cell_type": "markdown",
   "id": "742e6282",
   "metadata": {},
   "source": [
    "The purpose of the plot above is to show our sampling, and that it resembles in vitro sampling.\n",
    "To be compared to Peng et al., Figure 2A\n",
    "\n",
    "Also, we see that at this scale there is a bit of distance-dependence, but not much: Unconnected, unidirectionally connected and reciprocally connected pairs are at slightly different distances."
   ]
  },
  {
   "cell_type": "markdown",
   "id": "6a0de2fe",
   "metadata": {},
   "source": [
    "## Part II: How the scale over which we sample affects things\n",
    "This part includes a look at reciprocal connectivity: Is it over- or under-expressed?"
   ]
  },
  {
   "cell_type": "markdown",
   "id": "6b2bb28c",
   "metadata": {},
   "source": [
    "#### Validate connection probabilites\n",
    "To be compared to Peng et al., Figure 1B\n",
    "\n",
    "First panel showing that we closely match Peng et al. connection probabilities. But only with \"s2f\" pruning.\n"
   ]
  },
  {
   "cell_type": "code",
   "execution_count": 20,
   "id": "6da5be63",
   "metadata": {},
   "outputs": [],
   "source": [
    "fns = {\n",
    "    \"s2f\": \"/gpfs/bbp.cscs.ch/project/proj159/home/barros/conn_matrix/Human_NEWfunct_conmat_filtered_compressed.h5\",\n",
    "    \"E to T\": \"/gpfs/bbp.cscs.ch/project/proj159/home/barros/conn_matrix/Human_pruned_edges_to_touches.h5\",\n",
    "    \"T to T\": \"/gpfs/bbp.cscs.ch/project/proj159/home/barros/conn_matrix/Human_pruned_touches_to_touches.h5\",\n",
    "    \"E to E\": \"/gpfs/bbp.cscs.ch/project/proj159/home/barros/conn_matrix/Human_prunedEdges_conmat.h5\",\n",
    "    \"T to E\": \"/gpfs/bbp.cscs.ch/project/proj159/home/barros/conn_matrix/Human_prunedTouches_conmat.h5\"\n",
    "}\n",
    "\n",
    "Ms = dict([(k, conntility.ConnectivityMatrix.from_h5(v))\n",
    "           for k, v in fns.items()])"
   ]
  },
  {
   "cell_type": "markdown",
   "id": "be15757b",
   "metadata": {},
   "source": [
    "For context: Sampling at scales that resemble Peng et al (see above)."
   ]
  },
  {
   "cell_type": "code",
   "execution_count": 21,
   "id": "1877cefa",
   "metadata": {
    "scrolled": true
   },
   "outputs": [
    {
     "name": "stderr",
     "output_type": "stream",
     "text": [
      "  7%|▋         | 4/55 [00:00<00:03, 15.90it/s]"
     ]
    },
    {
     "name": "stdout",
     "output_type": "stream",
     "text": [
      "Testing 18 potential triadic pairs\n",
      "Time spent finding triads: 0.0009121894836425781\n",
      "Found 20 connected triads\n",
      "Time spent classifying triads: 0.0019435882568359375\n",
      "Testing 28 potential triadic pairs\n",
      "Time spent finding triads: 0.0009007453918457031\n",
      "Found 27 connected triads\n",
      "Time spent classifying triads: 0.0011031627655029297\n",
      "Testing 25 potential triadic pairs\n",
      "Time spent finding triads: 0.0008757114410400391\n",
      "Found 39 connected triads\n",
      "Time spent classifying triads: 0.0015549659729003906\n",
      "Testing 48 potential triadic pairs\n",
      "Time spent finding triads: 0.001016855239868164\n",
      "Found 56 connected triads\n",
      "Time spent classifying triads: 0.002210855484008789\n"
     ]
    },
    {
     "name": "stderr",
     "output_type": "stream",
     "text": [
      " 15%|█▍        | 8/55 [00:00<00:02, 16.06it/s]"
     ]
    },
    {
     "name": "stdout",
     "output_type": "stream",
     "text": [
      "Testing 47 potential triadic pairs\n",
      "Time spent finding triads: 0.001065969467163086\n",
      "Found 57 connected triads\n",
      "Time spent classifying triads: 0.0052967071533203125\n",
      "Testing 45 potential triadic pairs\n",
      "Time spent finding triads: 0.0009920597076416016\n",
      "Found 49 connected triads\n",
      "Time spent classifying triads: 0.0019321441650390625\n",
      "Testing 4 potential triadic pairs\n",
      "Time spent finding triads: 0.0007317066192626953\n",
      "Found 2 connected triads\n",
      "Time spent classifying triads: 0.00018024444580078125\n",
      "Testing 9 potential triadic pairs\n",
      "Time spent finding triads: 0.0007762908935546875\n",
      "Found 9 connected triads\n",
      "Time spent classifying triads: 0.00044798851013183594\n"
     ]
    },
    {
     "name": "stderr",
     "output_type": "stream",
     "text": [
      " 22%|██▏       | 12/55 [00:00<00:02, 15.94it/s]"
     ]
    },
    {
     "name": "stdout",
     "output_type": "stream",
     "text": [
      "Testing 37 potential triadic pairs\n",
      "Time spent finding triads: 0.00098419189453125\n",
      "Found 39 connected triads\n",
      "Time spent classifying triads: 0.0036411285400390625\n",
      "Testing 64 potential triadic pairs\n",
      "Time spent finding triads: 0.0011527538299560547\n",
      "Found 109 connected triads\n",
      "Time spent classifying triads: 0.004158735275268555\n",
      "Testing 26 potential triadic pairs\n",
      "Time spent finding triads: 0.0008726119995117188\n",
      "Found 20 connected triads\n",
      "Time spent classifying triads: 0.0008571147918701172\n",
      "Testing 22 potential triadic pairs\n",
      "Time spent finding triads: 0.0008523464202880859\n",
      "Found 31 connected triads\n",
      "Time spent classifying triads: 0.0012552738189697266\n"
     ]
    },
    {
     "name": "stderr",
     "output_type": "stream",
     "text": [
      " 29%|██▉       | 16/55 [00:01<00:02, 15.77it/s]"
     ]
    },
    {
     "name": "stdout",
     "output_type": "stream",
     "text": [
      "Testing 46 potential triadic pairs\n",
      "Time spent finding triads: 0.0010495185852050781\n",
      "Found 44 connected triads\n",
      "Time spent classifying triads: 0.004107236862182617\n",
      "Testing 57 potential triadic pairs\n",
      "Time spent finding triads: 0.0011031627655029297\n",
      "Found 90 connected triads\n",
      "Time spent classifying triads: 0.0034728050231933594\n",
      "Testing 18 potential triadic pairs\n",
      "Time spent finding triads: 0.0008351802825927734\n",
      "Found 18 connected triads\n",
      "Time spent classifying triads: 0.0007798671722412109\n",
      "Testing 55 potential triadic pairs\n",
      "Time spent finding triads: 0.001094818115234375\n",
      "Found 81 connected triads\n",
      "Time spent classifying triads: 0.003111124038696289\n"
     ]
    },
    {
     "name": "stderr",
     "output_type": "stream",
     "text": [
      " 36%|███▋      | 20/55 [00:01<00:02, 15.89it/s]"
     ]
    },
    {
     "name": "stdout",
     "output_type": "stream",
     "text": [
      "Testing 24 potential triadic pairs\n",
      "Time spent finding triads: 0.0009393692016601562\n",
      "Found 25 connected triads\n",
      "Time spent classifying triads: 0.002396106719970703\n",
      "Testing 38 potential triadic pairs\n",
      "Time spent finding triads: 0.0009489059448242188\n",
      "Found 40 connected triads\n",
      "Time spent classifying triads: 0.0016050338745117188\n",
      "Testing 22 potential triadic pairs\n",
      "Time spent finding triads: 0.0008549690246582031\n",
      "Found 20 connected triads\n",
      "Time spent classifying triads: 0.0008537769317626953\n",
      "Testing 29 potential triadic pairs\n",
      "Time spent finding triads: 0.0008966922760009766\n",
      "Found 39 connected triads\n",
      "Time spent classifying triads: 0.0015330314636230469\n"
     ]
    },
    {
     "name": "stderr",
     "output_type": "stream",
     "text": [
      " 44%|████▎     | 24/55 [00:01<00:01, 15.79it/s]"
     ]
    },
    {
     "name": "stdout",
     "output_type": "stream",
     "text": [
      "Testing 18 potential triadic pairs\n",
      "Time spent finding triads: 0.0008783340454101562\n",
      "Found 22 connected triads\n",
      "Time spent classifying triads: 0.002099752426147461\n",
      "Testing 59 potential triadic pairs\n",
      "Time spent finding triads: 0.001077413558959961\n",
      "Found 66 connected triads\n",
      "Time spent classifying triads: 0.002566099166870117\n",
      "Testing 10 potential triadic pairs\n",
      "Time spent finding triads: 0.0007810592651367188\n",
      "Found 10 connected triads\n",
      "Time spent classifying triads: 0.00047206878662109375\n",
      "Testing 62 potential triadic pairs\n",
      "Time spent finding triads: 0.001155853271484375\n",
      "Found 108 connected triads\n",
      "Time spent classifying triads: 0.0041348934173583984\n"
     ]
    },
    {
     "name": "stderr",
     "output_type": "stream",
     "text": [
      " 51%|█████     | 28/55 [00:01<00:01, 15.64it/s]"
     ]
    },
    {
     "name": "stdout",
     "output_type": "stream",
     "text": [
      "Testing 61 potential triadic pairs\n",
      "Time spent finding triads: 0.0011715888977050781\n",
      "Found 85 connected triads\n",
      "Time spent classifying triads: 0.00783085823059082\n",
      "Testing 61 potential triadic pairs\n",
      "Time spent finding triads: 0.001138925552368164\n",
      "Found 95 connected triads\n",
      "Time spent classifying triads: 0.0036399364471435547\n",
      "Testing 57 potential triadic pairs\n",
      "Time spent finding triads: 0.001093149185180664\n",
      "Found 82 connected triads\n",
      "Time spent classifying triads: 0.0031566619873046875\n",
      "Testing 29 potential triadic pairs\n",
      "Time spent finding triads: 0.0008969306945800781\n",
      "Found 28 connected triads\n",
      "Time spent classifying triads: 0.0011487007141113281\n"
     ]
    },
    {
     "name": "stderr",
     "output_type": "stream",
     "text": [
      " 58%|█████▊    | 32/55 [00:02<00:01, 15.94it/s]"
     ]
    },
    {
     "name": "stdout",
     "output_type": "stream",
     "text": [
      "Testing 53 potential triadic pairs\n",
      "Time spent finding triads: 0.0010805130004882812\n",
      "Found 51 connected triads\n",
      "Time spent classifying triads: 0.002538919448852539\n",
      "Testing 10 potential triadic pairs\n",
      "Time spent finding triads: 0.000774383544921875\n",
      "Found 10 connected triads\n",
      "Time spent classifying triads: 0.0004684925079345703\n",
      "Testing 27 potential triadic pairs\n",
      "Time spent finding triads: 0.0008823871612548828\n",
      "Found 30 connected triads\n",
      "Time spent classifying triads: 0.0012073516845703125\n",
      "Testing 19 potential triadic pairs\n",
      "Time spent finding triads: 0.0008230209350585938\n",
      "Found 15 connected triads\n",
      "Time spent classifying triads: 0.0006537437438964844\n"
     ]
    },
    {
     "name": "stderr",
     "output_type": "stream",
     "text": [
      " 65%|██████▌   | 36/55 [00:02<00:01, 15.85it/s]"
     ]
    },
    {
     "name": "stdout",
     "output_type": "stream",
     "text": [
      "Testing 37 potential triadic pairs\n",
      "Time spent finding triads: 0.001001119613647461\n",
      "Found 42 connected triads\n",
      "Time spent classifying triads: 0.0038988590240478516\n",
      "Testing 39 potential triadic pairs\n",
      "Time spent finding triads: 0.0009517669677734375\n",
      "Found 37 connected triads\n",
      "Time spent classifying triads: 0.0014908313751220703\n",
      "Testing 63 potential triadic pairs\n",
      "Time spent finding triads: 0.0011453628540039062\n",
      "Found 91 connected triads\n",
      "Time spent classifying triads: 0.0034749507904052734\n",
      "Testing 23 potential triadic pairs\n",
      "Time spent finding triads: 0.000865936279296875\n",
      "Found 21 connected triads\n",
      "Time spent classifying triads: 0.0008952617645263672\n"
     ]
    },
    {
     "name": "stderr",
     "output_type": "stream",
     "text": [
      " 73%|███████▎  | 40/55 [00:02<00:00, 15.78it/s]"
     ]
    },
    {
     "name": "stdout",
     "output_type": "stream",
     "text": [
      "Testing 47 potential triadic pairs\n",
      "Time spent finding triads: 0.0010952949523925781\n",
      "Found 67 connected triads\n",
      "Time spent classifying triads: 0.006207704544067383\n",
      "Testing 43 potential triadic pairs\n",
      "Time spent finding triads: 0.0009751319885253906\n",
      "Found 48 connected triads\n",
      "Time spent classifying triads: 0.001901865005493164\n",
      "Testing 63 potential triadic pairs\n",
      "Time spent finding triads: 0.0011436939239501953\n",
      "Found 106 connected triads\n",
      "Time spent classifying triads: 0.0040073394775390625\n",
      "Testing 58 potential triadic pairs\n",
      "Time spent finding triads: 0.0010972023010253906\n",
      "Found 81 connected triads\n",
      "Time spent classifying triads: 0.003108501434326172\n"
     ]
    },
    {
     "name": "stderr",
     "output_type": "stream",
     "text": [
      " 80%|████████  | 44/55 [00:02<00:00, 15.67it/s]"
     ]
    },
    {
     "name": "stdout",
     "output_type": "stream",
     "text": [
      "Testing 52 potential triadic pairs\n",
      "Time spent finding triads: 0.0010974407196044922\n",
      "Found 72 connected triads\n",
      "Time spent classifying triads: 0.006666898727416992\n",
      "Testing 53 potential triadic pairs\n",
      "Time spent finding triads: 0.0010726451873779297\n",
      "Found 67 connected triads\n",
      "Time spent classifying triads: 0.0025970935821533203\n",
      "Testing 46 potential triadic pairs\n",
      "Time spent finding triads: 0.0010089874267578125\n",
      "Found 60 connected triads\n",
      "Time spent classifying triads: 0.0023376941680908203\n",
      "Testing 25 potential triadic pairs\n",
      "Time spent finding triads: 0.0008816719055175781\n",
      "Found 23 connected triads\n",
      "Time spent classifying triads: 0.0009706020355224609\n"
     ]
    },
    {
     "name": "stderr",
     "output_type": "stream",
     "text": [
      " 87%|████████▋ | 48/55 [00:03<00:00, 15.65it/s]"
     ]
    },
    {
     "name": "stdout",
     "output_type": "stream",
     "text": [
      "Testing 19 potential triadic pairs\n",
      "Time spent finding triads: 0.0008914470672607422\n",
      "Found 19 connected triads\n",
      "Time spent classifying triads: 0.001828908920288086\n",
      "Testing 59 potential triadic pairs\n",
      "Time spent finding triads: 0.0011036396026611328\n",
      "Found 85 connected triads\n",
      "Time spent classifying triads: 0.0032384395599365234\n",
      "Testing 32 potential triadic pairs\n",
      "Time spent finding triads: 0.0009186267852783203\n",
      "Found 34 connected triads\n",
      "Time spent classifying triads: 0.0013837814331054688\n",
      "Testing 37 potential triadic pairs\n",
      "Time spent finding triads: 0.0009419918060302734\n",
      "Found 38 connected triads\n",
      "Time spent classifying triads: 0.0015153884887695312\n"
     ]
    },
    {
     "name": "stderr",
     "output_type": "stream",
     "text": [
      " 95%|█████████▍| 52/55 [00:03<00:00, 15.62it/s]"
     ]
    },
    {
     "name": "stdout",
     "output_type": "stream",
     "text": [
      "Testing 35 potential triadic pairs\n",
      "Time spent finding triads: 0.0009920597076416016\n",
      "Found 38 connected triads\n",
      "Time spent classifying triads: 0.0035796165466308594\n",
      "Testing 36 potential triadic pairs\n",
      "Time spent finding triads: 0.0009586811065673828\n",
      "Found 36 connected triads\n",
      "Time spent classifying triads: 0.0014722347259521484\n",
      "Testing 38 potential triadic pairs\n",
      "Time spent finding triads: 0.0009484291076660156\n",
      "Found 44 connected triads\n",
      "Time spent classifying triads: 0.0017621517181396484\n",
      "Testing 42 potential triadic pairs\n",
      "Time spent finding triads: 0.0009605884552001953\n",
      "Found 48 connected triads\n",
      "Time spent classifying triads: 0.0018765926361083984\n"
     ]
    },
    {
     "name": "stderr",
     "output_type": "stream",
     "text": [
      "100%|██████████| 55/55 [00:03<00:00, 15.71it/s]\n"
     ]
    },
    {
     "name": "stdout",
     "output_type": "stream",
     "text": [
      "Testing 53 potential triadic pairs\n",
      "Time spent finding triads: 0.0010857582092285156\n",
      "Found 55 connected triads\n",
      "Time spent classifying triads: 0.005092144012451172\n",
      "Testing 22 potential triadic pairs\n",
      "Time spent finding triads: 0.0008358955383300781\n",
      "Found 20 connected triads\n",
      "Time spent classifying triads: 0.0008482933044433594\n",
      "Testing 45 potential triadic pairs\n",
      "Time spent finding triads: 0.0010173320770263672\n",
      "Found 59 connected triads\n",
      "Time spent classifying triads: 0.0023069381713867188\n"
     ]
    },
    {
     "name": "stderr",
     "output_type": "stream",
     "text": [
      "  4%|▎         | 2/55 [00:00<00:03, 15.07it/s]"
     ]
    },
    {
     "name": "stdout",
     "output_type": "stream",
     "text": [
      "Testing 31 potential triadic pairs\n",
      "Time spent finding triads: 0.0009469985961914062\n",
      "Found 31 connected triads\n",
      "Time spent classifying triads: 0.0029268264770507812\n",
      "Testing 53 potential triadic pairs\n",
      "Time spent finding triads: 0.0010683536529541016\n",
      "Found 70 connected triads\n",
      "Time spent classifying triads: 0.0026967525482177734\n",
      "Testing 55 potential triadic pairs\n",
      "Time spent finding triads: 0.0011165142059326172\n",
      "Found 88 connected triads\n",
      "Time spent classifying triads: 0.003369569778442383\n",
      "Testing 52 potential triadic pairs\n",
      "Time spent finding triads: 0.0010466575622558594\n",
      "Found 68 connected triads\n",
      "Time spent classifying triads: 0.002627134323120117\n"
     ]
    },
    {
     "name": "stderr",
     "output_type": "stream",
     "text": [
      " 11%|█         | 6/55 [00:00<00:03, 14.98it/s]"
     ]
    },
    {
     "name": "stdout",
     "output_type": "stream",
     "text": [
      "Testing 33 potential triadic pairs\n",
      "Time spent finding triads: 0.001028299331665039\n",
      "Found 35 connected triads\n",
      "Time spent classifying triads: 0.003305196762084961\n",
      "Testing 20 potential triadic pairs\n",
      "Time spent finding triads: 0.0008466243743896484\n",
      "Found 18 connected triads\n",
      "Time spent classifying triads: 0.0007870197296142578\n",
      "Testing 36 potential triadic pairs\n",
      "Time spent finding triads: 0.0009489059448242188\n",
      "Found 48 connected triads\n",
      "Time spent classifying triads: 0.0018858909606933594\n",
      "Testing 56 potential triadic pairs\n",
      "Time spent finding triads: 0.0011281967163085938\n",
      "Found 89 connected triads\n",
      "Time spent classifying triads: 0.003429889678955078\n"
     ]
    },
    {
     "name": "stderr",
     "output_type": "stream",
     "text": [
      " 22%|██▏       | 12/55 [00:00<00:02, 15.13it/s]"
     ]
    },
    {
     "name": "stdout",
     "output_type": "stream",
     "text": [
      "Testing 51 potential triadic pairs\n",
      "Time spent finding triads: 0.0011150836944580078\n",
      "Found 79 connected triads\n",
      "Time spent classifying triads: 0.0072689056396484375\n",
      "Testing 12 potential triadic pairs\n",
      "Time spent finding triads: 0.0007975101470947266\n",
      "Found 12 connected triads\n",
      "Time spent classifying triads: 0.0005521774291992188\n",
      "Testing 49 potential triadic pairs\n",
      "Time spent finding triads: 0.0010271072387695312\n",
      "Found 60 connected triads\n",
      "Time spent classifying triads: 0.0023343563079833984\n",
      "Testing 39 potential triadic pairs\n",
      "Time spent finding triads: 0.0009543895721435547\n",
      "Found 40 connected triads\n",
      "Time spent classifying triads: 0.0015854835510253906\n"
     ]
    },
    {
     "name": "stderr",
     "output_type": "stream",
     "text": [
      " 29%|██▉       | 16/55 [00:01<00:02, 15.31it/s]"
     ]
    },
    {
     "name": "stdout",
     "output_type": "stream",
     "text": [
      "Testing 62 potential triadic pairs\n",
      "Time spent finding triads: 0.0011811256408691406\n",
      "Found 90 connected triads\n",
      "Time spent classifying triads: 0.008296489715576172\n",
      "Testing 25 potential triadic pairs\n",
      "Time spent finding triads: 0.0008740425109863281\n",
      "Found 21 connected triads\n",
      "Time spent classifying triads: 0.0008862018585205078\n",
      "Testing 20 potential triadic pairs\n",
      "Time spent finding triads: 0.0008375644683837891\n",
      "Found 24 connected triads\n",
      "Time spent classifying triads: 0.001003265380859375\n",
      "Testing 51 potential triadic pairs\n",
      "Time spent finding triads: 0.001028299331665039\n",
      "Found 60 connected triads\n",
      "Time spent classifying triads: 0.0023424625396728516\n"
     ]
    },
    {
     "name": "stderr",
     "output_type": "stream",
     "text": [
      " 36%|███▋      | 20/55 [00:01<00:02, 15.36it/s]"
     ]
    },
    {
     "name": "stdout",
     "output_type": "stream",
     "text": [
      "Testing 11 potential triadic pairs\n",
      "Time spent finding triads: 0.000843048095703125\n",
      "Found 11 connected triads\n",
      "Time spent classifying triads: 0.0011115074157714844\n",
      "Testing 64 potential triadic pairs\n",
      "Time spent finding triads: 0.0011372566223144531\n",
      "Found 95 connected triads\n",
      "Time spent classifying triads: 0.0036106109619140625\n",
      "Testing 46 potential triadic pairs\n",
      "Time spent finding triads: 0.0010030269622802734\n",
      "Found 55 connected triads\n",
      "Time spent classifying triads: 0.00213623046875\n",
      "Testing 34 potential triadic pairs\n",
      "Time spent finding triads: 0.0009644031524658203\n",
      "Found 52 connected triads\n",
      "Time spent classifying triads: 0.0020422935485839844\n"
     ]
    },
    {
     "name": "stderr",
     "output_type": "stream",
     "text": [
      "\r",
      " 40%|████      | 22/55 [00:01<00:02, 15.03it/s]"
     ]
    },
    {
     "name": "stdout",
     "output_type": "stream",
     "text": [
      "Testing 50 potential triadic pairs\n",
      "Time spent finding triads: 0.0011000633239746094\n",
      "Found 57 connected triads\n",
      "Time spent classifying triads: 0.005297660827636719\n",
      "Testing 65 potential triadic pairs\n",
      "Time spent finding triads: 0.0011658668518066406\n",
      "Found 113 connected triads\n",
      "Time spent classifying triads: 0.0042726993560791016\n",
      "Testing 55 potential triadic pairs\n",
      "Time spent finding triads: 0.0011005401611328125\n",
      "Found 68 connected triads\n",
      "Time spent classifying triads: 0.0062983036041259766\n",
      "Testing 50 potential triadic pairs\n",
      "Time spent finding triads: 0.0011043548583984375\n",
      "Found 58 connected triads\n",
      "Time spent classifying triads: 0.005397319793701172\n"
     ]
    },
    {
     "name": "stderr",
     "output_type": "stream",
     "text": [
      " 51%|█████     | 28/55 [00:01<00:01, 15.08it/s]"
     ]
    },
    {
     "name": "stdout",
     "output_type": "stream",
     "text": [
      "Testing 7 potential triadic pairs\n",
      "Time spent finding triads: 0.0008213520050048828\n",
      "Found 7 connected triads\n",
      "Time spent classifying triads: 0.0007448196411132812\n",
      "Testing 53 potential triadic pairs\n",
      "Time spent finding triads: 0.0010645389556884766\n",
      "Found 67 connected triads\n",
      "Time spent classifying triads: 0.0026133060455322266\n",
      "Testing 55 potential triadic pairs\n",
      "Time spent finding triads: 0.0010929107666015625\n",
      "Found 83 connected triads\n",
      "Time spent classifying triads: 0.0031638145446777344\n",
      "Testing 51 potential triadic pairs\n",
      "Time spent finding triads: 0.0010654926300048828\n",
      "Found 84 connected triads\n",
      "Time spent classifying triads: 0.0032227039337158203\n"
     ]
    },
    {
     "name": "stderr",
     "output_type": "stream",
     "text": [
      " 58%|█████▊    | 32/55 [00:02<00:01, 15.10it/s]"
     ]
    },
    {
     "name": "stdout",
     "output_type": "stream",
     "text": [
      "Testing 58 potential triadic pairs\n",
      "Time spent finding triads: 0.0011856555938720703\n",
      "Found 96 connected triads\n",
      "Time spent classifying triads: 0.00884103775024414\n",
      "Testing 26 potential triadic pairs\n",
      "Time spent finding triads: 0.0008690357208251953\n",
      "Found 26 connected triads\n",
      "Time spent classifying triads: 0.0010750293731689453\n",
      "Testing 36 potential triadic pairs\n",
      "Time spent finding triads: 0.0009453296661376953\n",
      "Found 38 connected triads\n",
      "Time spent classifying triads: 0.0015180110931396484\n",
      "Testing 48 potential triadic pairs\n",
      "Time spent finding triads: 0.0010378360748291016\n",
      "Found 66 connected triads\n",
      "Time spent classifying triads: 0.0025789737701416016\n"
     ]
    },
    {
     "name": "stderr",
     "output_type": "stream",
     "text": [
      " 65%|██████▌   | 36/55 [00:02<00:01, 15.26it/s]"
     ]
    },
    {
     "name": "stdout",
     "output_type": "stream",
     "text": [
      "Testing 48 potential triadic pairs\n",
      "Time spent finding triads: 0.0010707378387451172\n",
      "Found 53 connected triads\n",
      "Time spent classifying triads: 0.004935264587402344\n",
      "Testing 8 potential triadic pairs\n",
      "Time spent finding triads: 0.0007770061492919922\n",
      "Found 8 connected triads\n",
      "Time spent classifying triads: 0.00041103363037109375\n",
      "Testing 48 potential triadic pairs\n",
      "Time spent finding triads: 0.0010025501251220703\n",
      "Found 57 connected triads\n",
      "Time spent classifying triads: 0.002213716506958008\n",
      "Testing 9 potential triadic pairs\n",
      "Time spent finding triads: 0.0007774829864501953\n",
      "Found 7 connected triads\n",
      "Time spent classifying triads: 0.00036215782165527344\n"
     ]
    },
    {
     "name": "stderr",
     "output_type": "stream",
     "text": [
      "\r",
      " 69%|██████▉   | 38/55 [00:02<00:01, 14.72it/s]"
     ]
    },
    {
     "name": "stdout",
     "output_type": "stream",
     "text": [
      "Testing 65 potential triadic pairs\n",
      "Time spent finding triads: 0.001256704330444336\n",
      "Found 144 connected triads\n",
      "Time spent classifying triads: 0.013223409652709961\n",
      "Testing 49 potential triadic pairs\n",
      "Time spent finding triads: 0.0010352134704589844\n",
      "Found 68 connected triads\n",
      "Time spent classifying triads: 0.0026035308837890625\n",
      "Testing 47 potential triadic pairs\n",
      "Time spent finding triads: 0.0010387897491455078\n",
      "Found 71 connected triads\n",
      "Time spent classifying triads: 0.0027551651000976562\n",
      "Testing 64 potential triadic pairs\n",
      "Time spent finding triads: 0.0011985301971435547\n",
      "Found 122 connected triads\n",
      "Time spent classifying triads: 0.004909038543701172\n"
     ]
    },
    {
     "name": "stderr",
     "output_type": "stream",
     "text": [
      " 80%|████████  | 44/55 [00:02<00:00, 15.33it/s]"
     ]
    },
    {
     "name": "stdout",
     "output_type": "stream",
     "text": [
      "Testing 0 potential triadic pairs\n",
      "Time spent finding triads: 0.0007681846618652344\n",
      "Found 0 connected triads\n",
      "Time spent classifying triads: 7.510185241699219e-05\n",
      "Testing 23 potential triadic pairs\n",
      "Time spent finding triads: 0.0008633136749267578\n",
      "Found 19 connected triads\n",
      "Time spent classifying triads: 0.0008180141448974609\n",
      "Testing 30 potential triadic pairs\n",
      "Time spent finding triads: 0.0009047985076904297\n",
      "Found 41 connected triads\n",
      "Time spent classifying triads: 0.0016293525695800781\n",
      "Testing 37 potential triadic pairs\n",
      "Time spent finding triads: 0.0009522438049316406\n",
      "Found 43 connected triads\n",
      "Time spent classifying triads: 0.0017173290252685547\n"
     ]
    },
    {
     "name": "stderr",
     "output_type": "stream",
     "text": [
      " 87%|████████▋ | 48/55 [00:03<00:00, 15.42it/s]"
     ]
    },
    {
     "name": "stdout",
     "output_type": "stream",
     "text": [
      "Testing 11 potential triadic pairs\n",
      "Time spent finding triads: 0.0008342266082763672\n",
      "Found 11 connected triads\n",
      "Time spent classifying triads: 0.001125335693359375\n",
      "Testing 57 potential triadic pairs\n",
      "Time spent finding triads: 0.0011050701141357422\n",
      "Found 87 connected triads\n",
      "Time spent classifying triads: 0.0033397674560546875\n",
      "Testing 27 potential triadic pairs\n",
      "Time spent finding triads: 0.0008981227874755859\n",
      "Found 27 connected triads\n",
      "Time spent classifying triads: 0.0011131763458251953\n",
      "Testing 42 potential triadic pairs\n",
      "Time spent finding triads: 0.0009837150573730469\n",
      "Found 48 connected triads\n",
      "Time spent classifying triads: 0.0018773078918457031\n"
     ]
    },
    {
     "name": "stderr",
     "output_type": "stream",
     "text": [
      " 95%|█████████▍| 52/55 [00:03<00:00, 15.46it/s]"
     ]
    },
    {
     "name": "stdout",
     "output_type": "stream",
     "text": [
      "Testing 51 potential triadic pairs\n",
      "Time spent finding triads: 0.0010995864868164062\n",
      "Found 67 connected triads\n",
      "Time spent classifying triads: 0.003120899200439453\n",
      "Testing 55 potential triadic pairs\n",
      "Time spent finding triads: 0.001135110855102539\n",
      "Found 109 connected triads\n",
      "Time spent classifying triads: 0.004151821136474609\n",
      "Testing 16 potential triadic pairs\n",
      "Time spent finding triads: 0.0008144378662109375\n",
      "Found 14 connected triads\n",
      "Time spent classifying triads: 0.0006244182586669922\n",
      "Testing 19 potential triadic pairs\n",
      "Time spent finding triads: 0.0008401870727539062\n",
      "Found 23 connected triads\n",
      "Time spent classifying triads: 0.0009710788726806641\n"
     ]
    },
    {
     "name": "stderr",
     "output_type": "stream",
     "text": [
      "100%|██████████| 55/55 [00:03<00:00, 15.13it/s]\n"
     ]
    },
    {
     "name": "stdout",
     "output_type": "stream",
     "text": [
      "Testing 18 potential triadic pairs\n",
      "Time spent finding triads: 0.0008959770202636719\n",
      "Found 16 connected triads\n",
      "Time spent classifying triads: 0.0015926361083984375\n",
      "Testing 60 potential triadic pairs\n",
      "Time spent finding triads: 0.0011053085327148438\n",
      "Found 80 connected triads\n",
      "Time spent classifying triads: 0.003079652786254883\n",
      "Testing 39 potential triadic pairs\n",
      "Time spent finding triads: 0.0009791851043701172\n",
      "Found 60 connected triads\n",
      "Time spent classifying triads: 0.0023272037506103516\n"
     ]
    },
    {
     "name": "stderr",
     "output_type": "stream",
     "text": [
      "  7%|▋         | 4/55 [00:00<00:03, 16.79it/s]"
     ]
    },
    {
     "name": "stdout",
     "output_type": "stream",
     "text": [
      "Testing 56 potential triadic pairs\n",
      "Time spent finding triads: 0.0011374950408935547\n",
      "Found 88 connected triads\n",
      "Time spent classifying triads: 0.006365776062011719\n",
      "Testing 22 potential triadic pairs\n",
      "Time spent finding triads: 0.0008480548858642578\n",
      "Found 20 connected triads\n",
      "Time spent classifying triads: 0.0008459091186523438\n",
      "Testing 28 potential triadic pairs\n",
      "Time spent finding triads: 0.0010416507720947266\n",
      "Found 33 connected triads\n",
      "Time spent classifying triads: 0.0013484954833984375\n",
      "Testing 19 potential triadic pairs\n",
      "Time spent finding triads: 0.0008282661437988281\n",
      "Found 20 connected triads\n",
      "Time spent classifying triads: 0.0008559226989746094\n"
     ]
    },
    {
     "name": "stderr",
     "output_type": "stream",
     "text": [
      " 15%|█▍        | 8/55 [00:00<00:02, 16.62it/s]"
     ]
    },
    {
     "name": "stdout",
     "output_type": "stream",
     "text": [
      "Testing 36 potential triadic pairs\n",
      "Time spent finding triads: 0.0009922981262207031\n",
      "Found 42 connected triads\n",
      "Time spent classifying triads: 0.003924846649169922\n",
      "Testing 28 potential triadic pairs\n",
      "Time spent finding triads: 0.0008935928344726562\n",
      "Found 28 connected triads\n",
      "Time spent classifying triads: 0.0011532306671142578\n",
      "Testing 51 potential triadic pairs\n",
      "Time spent finding triads: 0.0010480880737304688\n",
      "Found 59 connected triads\n",
      "Time spent classifying triads: 0.0022916793823242188\n",
      "Testing 31 potential triadic pairs\n",
      "Time spent finding triads: 0.0009093284606933594\n",
      "Found 37 connected triads\n",
      "Time spent classifying triads: 0.0014891624450683594\n"
     ]
    },
    {
     "name": "stderr",
     "output_type": "stream",
     "text": [
      " 22%|██▏       | 12/55 [00:00<00:02, 17.05it/s]"
     ]
    },
    {
     "name": "stdout",
     "output_type": "stream",
     "text": [
      "Testing 54 potential triadic pairs\n",
      "Time spent finding triads: 0.0010905265808105469\n",
      "Found 56 connected triads\n",
      "Time spent classifying triads: 0.0030279159545898438\n",
      "Testing 37 potential triadic pairs\n",
      "Time spent finding triads: 0.0009434223175048828\n",
      "Found 38 connected triads\n",
      "Time spent classifying triads: 0.0015187263488769531\n",
      "Testing 0 potential triadic pairs\n",
      "Time spent finding triads: 0.0007040500640869141\n",
      "Found 0 connected triads\n",
      "Time spent classifying triads: 6.771087646484375e-05\n",
      "Testing 54 potential triadic pairs\n",
      "Time spent finding triads: 0.0010755062103271484\n",
      "Found 81 connected triads\n",
      "Time spent classifying triads: 0.003114938735961914\n"
     ]
    },
    {
     "name": "stderr",
     "output_type": "stream",
     "text": [
      " 29%|██▉       | 16/55 [00:00<00:02, 16.69it/s]"
     ]
    },
    {
     "name": "stdout",
     "output_type": "stream",
     "text": [
      "Testing 50 potential triadic pairs\n",
      "Time spent finding triads: 0.0010714530944824219\n",
      "Found 58 connected triads\n",
      "Time spent classifying triads: 0.0039937496185302734\n",
      "Testing 66 potential triadic pairs\n",
      "Time spent finding triads: 0.0011913776397705078\n",
      "Found 133 connected triads\n",
      "Time spent classifying triads: 0.00502777099609375\n",
      "Testing 4 potential triadic pairs\n",
      "Time spent finding triads: 0.0007345676422119141\n",
      "Found 4 connected triads\n",
      "Time spent classifying triads: 0.0002486705780029297\n",
      "Testing 60 potential triadic pairs\n",
      "Time spent finding triads: 0.0011620521545410156\n",
      "Found 118 connected triads\n",
      "Time spent classifying triads: 0.004467487335205078\n"
     ]
    },
    {
     "name": "stderr",
     "output_type": "stream",
     "text": [
      " 36%|███▋      | 20/55 [00:01<00:02, 16.80it/s]"
     ]
    },
    {
     "name": "stdout",
     "output_type": "stream",
     "text": [
      "Testing 7 potential triadic pairs\n",
      "Time spent finding triads: 0.0008065700531005859\n",
      "Found 7 connected triads\n",
      "Time spent classifying triads: 0.0007560253143310547\n",
      "Testing 8 potential triadic pairs\n",
      "Time spent finding triads: 0.0007681846618652344\n",
      "Found 8 connected triads\n",
      "Time spent classifying triads: 0.00040268898010253906\n",
      "Testing 34 potential triadic pairs\n",
      "Time spent finding triads: 0.0009243488311767578\n",
      "Found 33 connected triads\n",
      "Time spent classifying triads: 0.0013384819030761719\n",
      "Testing 11 potential triadic pairs\n",
      "Time spent finding triads: 0.0007817745208740234\n",
      "Found 13 connected triads\n",
      "Time spent classifying triads: 0.0005831718444824219\n"
     ]
    },
    {
     "name": "stderr",
     "output_type": "stream",
     "text": [
      " 44%|████▎     | 24/55 [00:01<00:01, 16.80it/s]"
     ]
    },
    {
     "name": "stdout",
     "output_type": "stream",
     "text": [
      "Testing 65 potential triadic pairs\n",
      "Time spent finding triads: 0.0012199878692626953\n",
      "Found 113 connected triads\n",
      "Time spent classifying triads: 0.010378599166870117\n",
      "Testing 40 potential triadic pairs\n",
      "Time spent finding triads: 0.0009493827819824219\n",
      "Found 38 connected triads\n",
      "Time spent classifying triads: 0.0015201568603515625\n",
      "Testing 49 potential triadic pairs\n",
      "Time spent finding triads: 0.0010387897491455078\n",
      "Found 65 connected triads\n",
      "Time spent classifying triads: 0.0025272369384765625\n",
      "Testing 43 potential triadic pairs\n",
      "Time spent finding triads: 0.0009894371032714844\n",
      "Found 51 connected triads\n",
      "Time spent classifying triads: 0.0020134449005126953\n"
     ]
    },
    {
     "name": "stderr",
     "output_type": "stream",
     "text": [
      " 51%|█████     | 28/55 [00:01<00:01, 16.73it/s]"
     ]
    },
    {
     "name": "stdout",
     "output_type": "stream",
     "text": [
      "Testing 47 potential triadic pairs\n",
      "Time spent finding triads: 0.0010766983032226562\n",
      "Found 71 connected triads\n",
      "Time spent classifying triads: 0.00655055046081543\n",
      "Testing 34 potential triadic pairs\n",
      "Time spent finding triads: 0.0009250640869140625\n",
      "Found 30 connected triads\n",
      "Time spent classifying triads: 0.0012369155883789062\n",
      "Testing 44 potential triadic pairs\n",
      "Time spent finding triads: 0.0009894371032714844\n",
      "Found 54 connected triads\n",
      "Time spent classifying triads: 0.0021085739135742188\n",
      "Testing 66 potential triadic pairs\n",
      "Time spent finding triads: 0.0012001991271972656\n",
      "Found 119 connected triads\n",
      "Time spent classifying triads: 0.004525899887084961\n"
     ]
    },
    {
     "name": "stderr",
     "output_type": "stream",
     "text": [
      " 58%|█████▊    | 32/55 [00:01<00:01, 17.30it/s]"
     ]
    },
    {
     "name": "stdout",
     "output_type": "stream",
     "text": [
      "Testing 65 potential triadic pairs\n",
      "Time spent finding triads: 0.0011899471282958984\n",
      "Found 98 connected triads\n",
      "Time spent classifying triads: 0.0053920745849609375\n",
      "Testing 59 potential triadic pairs\n",
      "Time spent finding triads: 0.0011096000671386719\n",
      "Found 95 connected triads\n",
      "Time spent classifying triads: 0.003606557846069336\n",
      "Testing 37 potential triadic pairs\n",
      "Time spent finding triads: 0.0009410381317138672\n",
      "Found 44 connected triads\n",
      "Time spent classifying triads: 0.0017375946044921875\n",
      "Testing 38 potential triadic pairs\n",
      "Time spent finding triads: 0.00093841552734375\n",
      "Found 42 connected triads\n",
      "Time spent classifying triads: 0.0016734600067138672\n"
     ]
    },
    {
     "name": "stderr",
     "output_type": "stream",
     "text": [
      " 65%|██████▌   | 36/55 [00:02<00:01, 16.93it/s]"
     ]
    },
    {
     "name": "stdout",
     "output_type": "stream",
     "text": [
      "Testing 61 potential triadic pairs\n",
      "Time spent finding triads: 0.0011708736419677734\n",
      "Found 98 connected triads\n",
      "Time spent classifying triads: 0.009021759033203125\n",
      "Testing 62 potential triadic pairs\n",
      "Time spent finding triads: 0.0011310577392578125\n",
      "Found 96 connected triads\n",
      "Time spent classifying triads: 0.0036573410034179688\n",
      "Testing 55 potential triadic pairs\n",
      "Time spent finding triads: 0.0010542869567871094\n",
      "Found 65 connected triads\n",
      "Time spent classifying triads: 0.0024940967559814453\n",
      "Testing 18 potential triadic pairs\n",
      "Time spent finding triads: 0.0008094310760498047\n",
      "Found 18 connected triads\n",
      "Time spent classifying triads: 0.0007727146148681641\n"
     ]
    },
    {
     "name": "stderr",
     "output_type": "stream",
     "text": [
      " 73%|███████▎  | 40/55 [00:02<00:00, 16.56it/s]"
     ]
    },
    {
     "name": "stdout",
     "output_type": "stream",
     "text": [
      "Testing 55 potential triadic pairs\n",
      "Time spent finding triads: 0.0011157989501953125\n",
      "Found 71 connected triads\n",
      "Time spent classifying triads: 0.006563425064086914\n",
      "Testing 19 potential triadic pairs\n",
      "Time spent finding triads: 0.0008254051208496094\n",
      "Found 24 connected triads\n",
      "Time spent classifying triads: 0.0009932518005371094\n",
      "Testing 61 potential triadic pairs\n",
      "Time spent finding triads: 0.0011434555053710938\n",
      "Found 96 connected triads\n",
      "Time spent classifying triads: 0.003692626953125\n",
      "Testing 59 potential triadic pairs\n",
      "Time spent finding triads: 0.0011072158813476562\n",
      "Found 80 connected triads\n",
      "Time spent classifying triads: 0.003080129623413086\n"
     ]
    },
    {
     "name": "stderr",
     "output_type": "stream",
     "text": [
      " 80%|████████  | 44/55 [00:02<00:00, 16.65it/s]"
     ]
    },
    {
     "name": "stdout",
     "output_type": "stream",
     "text": [
      "Testing 60 potential triadic pairs\n",
      "Time spent finding triads: 0.0011854171752929688\n",
      "Found 97 connected triads\n",
      "Time spent classifying triads: 0.008972883224487305\n",
      "Testing 10 potential triadic pairs\n",
      "Time spent finding triads: 0.0007789134979248047\n",
      "Found 8 connected triads\n",
      "Time spent classifying triads: 0.00040435791015625\n",
      "Testing 21 potential triadic pairs\n",
      "Time spent finding triads: 0.0008449554443359375\n",
      "Found 20 connected triads\n",
      "Time spent classifying triads: 0.0008561611175537109\n",
      "Testing 61 potential triadic pairs\n",
      "Time spent finding triads: 0.0010867118835449219\n",
      "Found 73 connected triads\n",
      "Time spent classifying triads: 0.0028252601623535156\n"
     ]
    },
    {
     "name": "stderr",
     "output_type": "stream",
     "text": [
      " 87%|████████▋ | 48/55 [00:02<00:00, 16.85it/s]"
     ]
    },
    {
     "name": "stdout",
     "output_type": "stream",
     "text": [
      "Testing 31 potential triadic pairs\n",
      "Time spent finding triads: 0.0009548664093017578\n",
      "Found 36 connected triads\n",
      "Time spent classifying triads: 0.003382444381713867\n",
      "Testing 58 potential triadic pairs\n",
      "Time spent finding triads: 0.0010688304901123047\n",
      "Found 75 connected triads\n",
      "Time spent classifying triads: 0.002855539321899414\n",
      "Testing 18 potential triadic pairs\n",
      "Time spent finding triads: 0.0008170604705810547\n",
      "Found 16 connected triads\n",
      "Time spent classifying triads: 0.00070953369140625\n",
      "Testing 1 potential triadic pairs\n",
      "Time spent finding triads: 0.0007216930389404297\n",
      "Found 1 connected triads\n",
      "Time spent classifying triads: 0.0001266002655029297\n"
     ]
    },
    {
     "name": "stderr",
     "output_type": "stream",
     "text": [
      " 95%|█████████▍| 52/55 [00:03<00:00, 16.42it/s]"
     ]
    },
    {
     "name": "stdout",
     "output_type": "stream",
     "text": [
      "Testing 49 potential triadic pairs\n",
      "Time spent finding triads: 0.0010869503021240234\n",
      "Found 66 connected triads\n",
      "Time spent classifying triads: 0.006131887435913086\n",
      "Testing 56 potential triadic pairs\n",
      "Time spent finding triads: 0.0011069774627685547\n",
      "Found 85 connected triads\n",
      "Time spent classifying triads: 0.0032875537872314453\n",
      "Testing 30 potential triadic pairs\n",
      "Time spent finding triads: 0.0009050369262695312\n",
      "Found 30 connected triads\n",
      "Time spent classifying triads: 0.0012273788452148438\n",
      "Testing 38 potential triadic pairs\n",
      "Time spent finding triads: 0.000946044921875\n",
      "Found 36 connected triads\n",
      "Time spent classifying triads: 0.001461029052734375\n"
     ]
    },
    {
     "name": "stderr",
     "output_type": "stream",
     "text": [
      "100%|██████████| 55/55 [00:03<00:00, 16.72it/s]\n"
     ]
    },
    {
     "name": "stdout",
     "output_type": "stream",
     "text": [
      "Testing 33 potential triadic pairs\n",
      "Time spent finding triads: 0.0009696483612060547\n",
      "Found 33 connected triads\n",
      "Time spent classifying triads: 0.003121614456176758\n",
      "Testing 48 potential triadic pairs\n",
      "Time spent finding triads: 0.0010254383087158203\n",
      "Found 61 connected triads\n",
      "Time spent classifying triads: 0.0023784637451171875\n",
      "Testing 40 potential triadic pairs\n",
      "Time spent finding triads: 0.0009496212005615234\n",
      "Found 41 connected triads\n",
      "Time spent classifying triads: 0.0016312599182128906\n"
     ]
    },
    {
     "name": "stderr",
     "output_type": "stream",
     "text": [
      "  4%|▎         | 2/55 [00:00<00:03, 14.16it/s]"
     ]
    },
    {
     "name": "stdout",
     "output_type": "stream",
     "text": [
      "Testing 13 potential triadic pairs\n",
      "Time spent finding triads: 0.0008327960968017578\n",
      "Found 13 connected triads\n",
      "Time spent classifying triads: 0.0012955665588378906\n",
      "Testing 50 potential triadic pairs\n",
      "Time spent finding triads: 0.0010561943054199219\n",
      "Found 61 connected triads\n",
      "Time spent classifying triads: 0.00240325927734375\n",
      "Testing 20 potential triadic pairs\n",
      "Time spent finding triads: 0.0008523464202880859\n",
      "Found 21 connected triads\n",
      "Time spent classifying triads: 0.0008914470672607422\n"
     ]
    },
    {
     "name": "stderr",
     "output_type": "stream",
     "text": [
      " 11%|█         | 6/55 [00:00<00:03, 13.96it/s]"
     ]
    },
    {
     "name": "stdout",
     "output_type": "stream",
     "text": [
      "Testing 65 potential triadic pairs\n",
      "Time spent finding triads: 0.0013523101806640625\n",
      "Found 107 connected triads\n",
      "Time spent classifying triads: 0.009879112243652344\n",
      "Testing 41 potential triadic pairs\n",
      "Time spent finding triads: 0.0009891986846923828\n",
      "Found 42 connected triads\n",
      "Time spent classifying triads: 0.0016589164733886719\n",
      "Testing 36 potential triadic pairs\n",
      "Time spent finding triads: 0.0009608268737792969\n",
      "Found 40 connected triads\n",
      "Time spent classifying triads: 0.0015883445739746094\n"
     ]
    },
    {
     "name": "stderr",
     "output_type": "stream",
     "text": [
      "\r",
      " 15%|█▍        | 8/55 [00:00<00:03, 14.15it/s]"
     ]
    },
    {
     "name": "stdout",
     "output_type": "stream",
     "text": [
      "Testing 22 potential triadic pairs\n",
      "Time spent finding triads: 0.0010788440704345703\n",
      "Found 20 connected triads\n",
      "Time spent classifying triads: 0.0019292831420898438\n",
      "Testing 13 potential triadic pairs\n",
      "Time spent finding triads: 0.0008020401000976562\n",
      "Found 11 connected triads\n",
      "Time spent classifying triads: 0.0005166530609130859\n",
      "Testing 7 potential triadic pairs\n",
      "Time spent finding triads: 0.0009200572967529297\n",
      "Found 7 connected triads\n",
      "Time spent classifying triads: 0.00036406517028808594\n",
      "Testing 25 potential triadic pairs\n",
      "Time spent finding triads: 0.0008766651153564453\n",
      "Found 24 connected triads\n",
      "Time spent classifying triads: 0.000997781753540039\n"
     ]
    },
    {
     "name": "stderr",
     "output_type": "stream",
     "text": [
      " 22%|██▏       | 12/55 [00:00<00:03, 14.20it/s]"
     ]
    },
    {
     "name": "stdout",
     "output_type": "stream",
     "text": [
      "Testing 20 potential triadic pairs\n",
      "Time spent finding triads: 0.0008943080902099609\n",
      "Found 16 connected triads\n",
      "Time spent classifying triads: 0.0015599727630615234\n",
      "Testing 60 potential triadic pairs\n",
      "Time spent finding triads: 0.001155853271484375\n",
      "Found 92 connected triads\n",
      "Time spent classifying triads: 0.003509521484375\n",
      "Testing 48 potential triadic pairs\n",
      "Time spent finding triads: 0.001018524169921875\n",
      "Found 55 connected triads\n",
      "Time spent classifying triads: 0.0021734237670898438\n"
     ]
    },
    {
     "name": "stderr",
     "output_type": "stream",
     "text": [
      " 29%|██▉       | 16/55 [00:01<00:02, 14.08it/s]"
     ]
    },
    {
     "name": "stdout",
     "output_type": "stream",
     "text": [
      "Testing 46 potential triadic pairs\n",
      "Time spent finding triads: 0.001088857650756836\n",
      "Found 56 connected triads\n",
      "Time spent classifying triads: 0.0051937103271484375\n",
      "Testing 62 potential triadic pairs\n",
      "Time spent finding triads: 0.0011615753173828125\n",
      "Found 111 connected triads\n",
      "Time spent classifying triads: 0.004218578338623047\n",
      "Testing 38 potential triadic pairs\n",
      "Time spent finding triads: 0.0009517669677734375\n",
      "Found 44 connected triads\n",
      "Time spent classifying triads: 0.00173187255859375\n"
     ]
    },
    {
     "name": "stderr",
     "output_type": "stream",
     "text": [
      "\r",
      " 33%|███▎      | 18/55 [00:01<00:02, 14.00it/s]"
     ]
    },
    {
     "name": "stdout",
     "output_type": "stream",
     "text": [
      "Testing 58 potential triadic pairs\n",
      "Time spent finding triads: 0.0011487007141113281\n",
      "Found 77 connected triads\n",
      "Time spent classifying triads: 0.007091522216796875\n",
      "Testing 13 potential triadic pairs\n",
      "Time spent finding triads: 0.0007991790771484375\n",
      "Found 11 connected triads\n",
      "Time spent classifying triads: 0.0005221366882324219\n",
      "Testing 52 potential triadic pairs\n",
      "Time spent finding triads: 0.0010590553283691406\n",
      "Found 58 connected triads\n",
      "Time spent classifying triads: 0.002269268035888672\n"
     ]
    },
    {
     "name": "stderr",
     "output_type": "stream",
     "text": [
      " 40%|████      | 22/55 [00:01<00:02, 14.14it/s]"
     ]
    },
    {
     "name": "stdout",
     "output_type": "stream",
     "text": [
      "Testing 20 potential triadic pairs\n",
      "Time spent finding triads: 0.0013434886932373047\n",
      "Found 23 connected triads\n",
      "Time spent classifying triads: 0.002201080322265625\n",
      "Testing 34 potential triadic pairs\n",
      "Time spent finding triads: 0.0010640621185302734\n",
      "Found 35 connected triads\n",
      "Time spent classifying triads: 0.0014052391052246094\n",
      "Testing 33 potential triadic pairs\n",
      "Time spent finding triads: 0.0009245872497558594\n",
      "Found 41 connected triads\n",
      "Time spent classifying triads: 0.0016300678253173828\n"
     ]
    },
    {
     "name": "stderr",
     "output_type": "stream",
     "text": [
      "\r",
      " 44%|████▎     | 24/55 [00:01<00:02, 14.01it/s]"
     ]
    },
    {
     "name": "stdout",
     "output_type": "stream",
     "text": [
      "Testing 54 potential triadic pairs\n",
      "Time spent finding triads: 0.0011248588562011719\n",
      "Found 68 connected triads\n",
      "Time spent classifying triads: 0.006273746490478516\n",
      "Testing 39 potential triadic pairs\n",
      "Time spent finding triads: 0.0009598731994628906\n",
      "Found 37 connected triads\n",
      "Time spent classifying triads: 0.0015039443969726562\n",
      "Testing 29 potential triadic pairs\n",
      "Time spent finding triads: 0.0008885860443115234\n",
      "Found 27 connected triads\n",
      "Time spent classifying triads: 0.0011169910430908203\n",
      "Testing 28 potential triadic pairs\n",
      "Time spent finding triads: 0.0009551048278808594\n",
      "Found 31 connected triads\n",
      "Time spent classifying triads: 0.0029230117797851562\n"
     ]
    },
    {
     "name": "stderr",
     "output_type": "stream",
     "text": [
      " 51%|█████     | 28/55 [00:01<00:01, 13.93it/s]"
     ]
    },
    {
     "name": "stdout",
     "output_type": "stream",
     "text": [
      "Testing 54 potential triadic pairs\n",
      "Time spent finding triads: 0.0011453628540039062\n",
      "Found 69 connected triads\n",
      "Time spent classifying triads: 0.006375789642333984\n",
      "Testing 40 potential triadic pairs\n",
      "Time spent finding triads: 0.000989675521850586\n",
      "Found 53 connected triads\n",
      "Time spent classifying triads: 0.0020630359649658203\n",
      "Testing 23 potential triadic pairs\n",
      "Time spent finding triads: 0.0008594989776611328\n",
      "Found 21 connected triads\n",
      "Time spent classifying triads: 0.0008931159973144531\n"
     ]
    },
    {
     "name": "stderr",
     "output_type": "stream",
     "text": [
      " 58%|█████▊    | 32/55 [00:02<00:01, 14.14it/s]"
     ]
    },
    {
     "name": "stdout",
     "output_type": "stream",
     "text": [
      "Testing 15 potential triadic pairs\n",
      "Time spent finding triads: 0.0014946460723876953\n",
      "Found 13 connected triads\n",
      "Time spent classifying triads: 0.001293182373046875\n",
      "Testing 33 potential triadic pairs\n",
      "Time spent finding triads: 0.0009424686431884766\n",
      "Found 35 connected triads\n",
      "Time spent classifying triads: 0.0014102458953857422\n",
      "Testing 49 potential triadic pairs\n",
      "Time spent finding triads: 0.001035451889038086\n",
      "Found 66 connected triads\n",
      "Time spent classifying triads: 0.0025501251220703125\n"
     ]
    },
    {
     "name": "stderr",
     "output_type": "stream",
     "text": [
      "\r",
      " 62%|██████▏   | 34/55 [00:02<00:01, 14.09it/s]"
     ]
    },
    {
     "name": "stdout",
     "output_type": "stream",
     "text": [
      "Testing 47 potential triadic pairs\n",
      "Time spent finding triads: 0.0015518665313720703\n",
      "Found 47 connected triads\n",
      "Time spent classifying triads: 0.004134416580200195\n",
      "Testing 28 potential triadic pairs\n",
      "Time spent finding triads: 0.0008857250213623047\n",
      "Found 28 connected triads\n",
      "Time spent classifying triads: 0.0011472702026367188\n",
      "Testing 46 potential triadic pairs\n",
      "Time spent finding triads: 0.0010304450988769531\n",
      "Found 70 connected triads\n",
      "Time spent classifying triads: 0.0026950836181640625\n"
     ]
    },
    {
     "name": "stderr",
     "output_type": "stream",
     "text": [
      " 69%|██████▉   | 38/55 [00:02<00:01, 14.01it/s]"
     ]
    },
    {
     "name": "stdout",
     "output_type": "stream",
     "text": [
      "Testing 66 potential triadic pairs\n",
      "Time spent finding triads: 0.0016934871673583984\n",
      "Found 130 connected triads\n",
      "Time spent classifying triads: 0.011861324310302734\n",
      "Testing 37 potential triadic pairs\n",
      "Time spent finding triads: 0.00093841552734375\n",
      "Found 40 connected triads\n",
      "Time spent classifying triads: 0.0015912055969238281\n",
      "Testing 5 potential triadic pairs\n",
      "Time spent finding triads: 0.0007569789886474609\n",
      "Found 5 connected triads\n",
      "Time spent classifying triads: 0.00029587745666503906\n"
     ]
    },
    {
     "name": "stderr",
     "output_type": "stream",
     "text": [
      "\r",
      " 73%|███████▎  | 40/55 [00:02<00:01, 14.08it/s]"
     ]
    },
    {
     "name": "stdout",
     "output_type": "stream",
     "text": [
      "Testing 21 potential triadic pairs\n",
      "Time spent finding triads: 0.0017726421356201172\n",
      "Found 19 connected triads\n",
      "Time spent classifying triads: 0.0015406608581542969\n",
      "Testing 24 potential triadic pairs\n",
      "Time spent finding triads: 0.0008609294891357422\n",
      "Found 20 connected triads\n",
      "Time spent classifying triads: 0.0008616447448730469\n",
      "Testing 47 potential triadic pairs\n",
      "Time spent finding triads: 0.0010097026824951172\n",
      "Found 54 connected triads\n",
      "Time spent classifying triads: 0.0021288394927978516\n",
      "Testing 9 potential triadic pairs\n",
      "Time spent finding triads: 0.0014286041259765625\n",
      "Found 7 connected triads\n",
      "Time spent classifying triads: 0.0007619857788085938\n"
     ]
    },
    {
     "name": "stderr",
     "output_type": "stream",
     "text": [
      " 80%|████████  | 44/55 [00:03<00:00, 13.41it/s]"
     ]
    },
    {
     "name": "stdout",
     "output_type": "stream",
     "text": [
      "Testing 40 potential triadic pairs\n",
      "Time spent finding triads: 0.0010349750518798828\n",
      "Found 47 connected triads\n",
      "Time spent classifying triads: 0.004369497299194336\n",
      "Testing 46 potential triadic pairs\n",
      "Time spent finding triads: 0.0016045570373535156\n",
      "Found 67 connected triads\n",
      "Time spent classifying triads: 0.003233194351196289\n",
      "Testing 31 potential triadic pairs\n",
      "Time spent finding triads: 0.0009183883666992188\n",
      "Found 31 connected triads\n",
      "Time spent classifying triads: 0.0012600421905517578\n"
     ]
    },
    {
     "name": "stderr",
     "output_type": "stream",
     "text": [
      " 87%|████████▋ | 48/55 [00:03<00:00, 13.97it/s]"
     ]
    },
    {
     "name": "stdout",
     "output_type": "stream",
     "text": [
      "Testing 16 potential triadic pairs\n",
      "Time spent finding triads: 0.0012149810791015625\n",
      "Found 18 connected triads\n",
      "Time spent classifying triads: 0.0014438629150390625\n",
      "Testing 27 potential triadic pairs\n",
      "Time spent finding triads: 0.0008931159973144531\n",
      "Found 28 connected triads\n",
      "Time spent classifying triads: 0.0011487007141113281\n",
      "Testing 19 potential triadic pairs\n",
      "Time spent finding triads: 0.0008385181427001953\n",
      "Found 21 connected triads\n",
      "Time spent classifying triads: 0.0009000301361083984\n"
     ]
    },
    {
     "name": "stderr",
     "output_type": "stream",
     "text": [
      "\r",
      " 91%|█████████ | 50/55 [00:03<00:00, 13.97it/s]"
     ]
    },
    {
     "name": "stdout",
     "output_type": "stream",
     "text": [
      "Testing 33 potential triadic pairs\n",
      "Time spent finding triads: 0.0016055107116699219\n",
      "Found 34 connected triads\n",
      "Time spent classifying triads: 0.0032083988189697266\n",
      "Testing 52 potential triadic pairs\n",
      "Time spent finding triads: 0.0010797977447509766\n",
      "Found 76 connected triads\n",
      "Time spent classifying triads: 0.0029311180114746094\n",
      "Testing 18 potential triadic pairs\n",
      "Time spent finding triads: 0.0008285045623779297\n",
      "Found 17 connected triads\n",
      "Time spent classifying triads: 0.0007498264312744141\n",
      "Testing 59 potential triadic pairs\n",
      "Time spent finding triads: 0.001134634017944336\n",
      "Found 95 connected triads\n",
      "Time spent classifying triads: 0.0076253414154052734\n"
     ]
    },
    {
     "name": "stderr",
     "output_type": "stream",
     "text": [
      "100%|██████████| 55/55 [00:03<00:00, 13.99it/s]\n"
     ]
    },
    {
     "name": "stdout",
     "output_type": "stream",
     "text": [
      "Testing 65 potential triadic pairs\n",
      "Time spent finding triads: 0.0012328624725341797\n",
      "Found 111 connected triads\n",
      "Time spent classifying triads: 0.005318880081176758\n",
      "Testing 50 potential triadic pairs\n",
      "Time spent finding triads: 0.001024484634399414\n",
      "Found 60 connected triads\n",
      "Time spent classifying triads: 0.0023195743560791016\n",
      "Testing 48 potential triadic pairs\n",
      "Time spent finding triads: 0.001012563705444336\n",
      "Found 54 connected triads\n",
      "Time spent classifying triads: 0.0021085739135742188\n"
     ]
    },
    {
     "name": "stderr",
     "output_type": "stream",
     "text": [
      "  7%|▋         | 4/55 [00:00<00:02, 17.76it/s]"
     ]
    },
    {
     "name": "stdout",
     "output_type": "stream",
     "text": [
      "Testing 8 potential triadic pairs\n",
      "Time spent finding triads: 0.0008041858673095703\n",
      "Found 8 connected triads\n",
      "Time spent classifying triads: 0.0008461475372314453\n",
      "Testing 10 potential triadic pairs\n",
      "Time spent finding triads: 0.0007774829864501953\n",
      "Found 8 connected triads\n",
      "Time spent classifying triads: 0.0004024505615234375\n",
      "Testing 62 potential triadic pairs\n",
      "Time spent finding triads: 0.001154184341430664\n",
      "Found 104 connected triads\n",
      "Time spent classifying triads: 0.003980875015258789\n",
      "Testing 24 potential triadic pairs\n",
      "Time spent finding triads: 0.0008614063262939453\n",
      "Found 22 connected triads\n",
      "Time spent classifying triads: 0.0009458065032958984\n"
     ]
    },
    {
     "name": "stderr",
     "output_type": "stream",
     "text": [
      " 15%|█▍        | 8/55 [00:00<00:02, 16.61it/s]"
     ]
    },
    {
     "name": "stdout",
     "output_type": "stream",
     "text": [
      "Testing 57 potential triadic pairs\n",
      "Time spent finding triads: 0.0011641979217529297\n",
      "Found 86 connected triads\n",
      "Time spent classifying triads: 0.007948637008666992\n",
      "Testing 18 potential triadic pairs\n",
      "Time spent finding triads: 0.0008242130279541016\n",
      "Found 18 connected triads\n",
      "Time spent classifying triads: 0.0007758140563964844\n",
      "Testing 36 potential triadic pairs\n",
      "Time spent finding triads: 0.0009415149688720703\n",
      "Found 38 connected triads\n",
      "Time spent classifying triads: 0.0015273094177246094\n",
      "Testing 50 potential triadic pairs\n",
      "Time spent finding triads: 0.0010366439819335938\n",
      "Found 68 connected triads\n",
      "Time spent classifying triads: 0.0025963783264160156\n"
     ]
    },
    {
     "name": "stderr",
     "output_type": "stream",
     "text": [
      " 22%|██▏       | 12/55 [00:00<00:02, 17.26it/s]"
     ]
    },
    {
     "name": "stdout",
     "output_type": "stream",
     "text": [
      "Testing 62 potential triadic pairs\n",
      "Time spent finding triads: 0.0011866092681884766\n",
      "Found 107 connected triads\n",
      "Time spent classifying triads: 0.004700899124145508\n",
      "Testing 18 potential triadic pairs\n",
      "Time spent finding triads: 0.0008165836334228516\n",
      "Found 16 connected triads\n",
      "Time spent classifying triads: 0.0007047653198242188\n",
      "Testing 32 potential triadic pairs\n",
      "Time spent finding triads: 0.0009024143218994141\n",
      "Found 31 connected triads\n",
      "Time spent classifying triads: 0.0012655258178710938\n",
      "Testing 52 potential triadic pairs\n",
      "Time spent finding triads: 0.0010445117950439453\n",
      "Found 62 connected triads\n",
      "Time spent classifying triads: 0.002413511276245117\n"
     ]
    },
    {
     "name": "stderr",
     "output_type": "stream",
     "text": [
      " 29%|██▉       | 16/55 [00:00<00:02, 16.97it/s]"
     ]
    },
    {
     "name": "stdout",
     "output_type": "stream",
     "text": [
      "Testing 61 potential triadic pairs\n",
      "Time spent finding triads: 0.0011658668518066406\n",
      "Found 85 connected triads\n",
      "Time spent classifying triads: 0.007804393768310547\n",
      "Testing 35 potential triadic pairs\n",
      "Time spent finding triads: 0.0009315013885498047\n",
      "Found 42 connected triads\n",
      "Time spent classifying triads: 0.0016644001007080078\n",
      "Testing 62 potential triadic pairs\n",
      "Time spent finding triads: 0.0011475086212158203\n",
      "Found 103 connected triads\n",
      "Time spent classifying triads: 0.003918170928955078\n",
      "Testing 20 potential triadic pairs\n",
      "Time spent finding triads: 0.0008301734924316406\n",
      "Found 18 connected triads\n",
      "Time spent classifying triads: 0.0007755756378173828\n"
     ]
    },
    {
     "name": "stderr",
     "output_type": "stream",
     "text": [
      " 36%|███▋      | 20/55 [00:01<00:02, 16.95it/s]"
     ]
    },
    {
     "name": "stdout",
     "output_type": "stream",
     "text": [
      "Testing 62 potential triadic pairs\n",
      "Time spent finding triads: 0.0011985301971435547\n",
      "Found 101 connected triads\n",
      "Time spent classifying triads: 0.009301424026489258\n",
      "Testing 48 potential triadic pairs\n",
      "Time spent finding triads: 0.0010046958923339844\n",
      "Found 59 connected triads\n",
      "Time spent classifying triads: 0.0022797584533691406\n",
      "Testing 11 potential triadic pairs\n",
      "Time spent finding triads: 0.0007786750793457031\n",
      "Found 9 connected triads\n",
      "Time spent classifying triads: 0.0004374980926513672\n",
      "Testing 25 potential triadic pairs\n",
      "Time spent finding triads: 0.0008795261383056641\n",
      "Found 31 connected triads\n",
      "Time spent classifying triads: 0.00124359130859375\n"
     ]
    },
    {
     "name": "stderr",
     "output_type": "stream",
     "text": [
      " 44%|████▎     | 24/55 [00:01<00:01, 16.91it/s]"
     ]
    },
    {
     "name": "stdout",
     "output_type": "stream",
     "text": [
      "Testing 14 potential triadic pairs\n",
      "Time spent finding triads: 0.0008466243743896484\n",
      "Found 12 connected triads\n",
      "Time spent classifying triads: 0.0012149810791015625\n",
      "Testing 41 potential triadic pairs\n",
      "Time spent finding triads: 0.0009586811065673828\n",
      "Found 39 connected triads\n",
      "Time spent classifying triads: 0.0015528202056884766\n",
      "Testing 48 potential triadic pairs\n",
      "Time spent finding triads: 0.0010344982147216797\n",
      "Found 64 connected triads\n",
      "Time spent classifying triads: 0.002470254898071289\n",
      "Testing 51 potential triadic pairs\n",
      "Time spent finding triads: 0.0010447502136230469\n",
      "Found 70 connected triads\n",
      "Time spent classifying triads: 0.002712726593017578\n"
     ]
    },
    {
     "name": "stderr",
     "output_type": "stream",
     "text": [
      " 51%|█████     | 28/55 [00:01<00:01, 17.15it/s]"
     ]
    },
    {
     "name": "stdout",
     "output_type": "stream",
     "text": [
      "Testing 4 potential triadic pairs\n",
      "Time spent finding triads: 0.00078582763671875\n",
      "Found 2 connected triads\n",
      "Time spent classifying triads: 0.0002799034118652344\n",
      "Testing 41 potential triadic pairs\n",
      "Time spent finding triads: 0.0009779930114746094\n",
      "Found 47 connected triads\n",
      "Time spent classifying triads: 0.0018393993377685547\n",
      "Testing 62 potential triadic pairs\n",
      "Time spent finding triads: 0.001142263412475586\n",
      "Found 99 connected triads\n",
      "Time spent classifying triads: 0.0037992000579833984\n",
      "Testing 44 potential triadic pairs\n",
      "Time spent finding triads: 0.0010008811950683594\n",
      "Found 60 connected triads\n",
      "Time spent classifying triads: 0.0023224353790283203\n"
     ]
    },
    {
     "name": "stderr",
     "output_type": "stream",
     "text": [
      " 58%|█████▊    | 32/55 [00:01<00:01, 17.34it/s]"
     ]
    },
    {
     "name": "stdout",
     "output_type": "stream",
     "text": [
      "Testing 66 potential triadic pairs\n",
      "Time spent finding triads: 0.0012416839599609375\n",
      "Found 115 connected triads\n",
      "Time spent classifying triads: 0.007398366928100586\n",
      "Testing 35 potential triadic pairs\n",
      "Time spent finding triads: 0.0009179115295410156\n",
      "Found 40 connected triads\n",
      "Time spent classifying triads: 0.0015919208526611328\n",
      "Testing 5 potential triadic pairs\n",
      "Time spent finding triads: 0.0007412433624267578\n",
      "Found 5 connected triads\n",
      "Time spent classifying triads: 0.00028777122497558594\n",
      "Testing 20 potential triadic pairs\n",
      "Time spent finding triads: 0.0008435249328613281\n",
      "Found 20 connected triads\n",
      "Time spent classifying triads: 0.0008566379547119141\n"
     ]
    },
    {
     "name": "stderr",
     "output_type": "stream",
     "text": [
      " 65%|██████▌   | 36/55 [00:02<00:01, 17.32it/s]"
     ]
    },
    {
     "name": "stdout",
     "output_type": "stream",
     "text": [
      "Testing 50 potential triadic pairs\n",
      "Time spent finding triads: 0.0010902881622314453\n",
      "Found 76 connected triads\n",
      "Time spent classifying triads: 0.00699615478515625\n",
      "Testing 64 potential triadic pairs\n",
      "Time spent finding triads: 0.0011479854583740234\n",
      "Found 102 connected triads\n",
      "Time spent classifying triads: 0.0038771629333496094\n",
      "Testing 38 potential triadic pairs\n",
      "Time spent finding triads: 0.0009670257568359375\n",
      "Found 42 connected triads\n",
      "Time spent classifying triads: 0.0016658306121826172\n",
      "Testing 22 potential triadic pairs\n",
      "Time spent finding triads: 0.0008487701416015625\n",
      "Found 20 connected triads\n",
      "Time spent classifying triads: 0.0008504390716552734\n"
     ]
    },
    {
     "name": "stderr",
     "output_type": "stream",
     "text": [
      " 73%|███████▎  | 40/55 [00:02<00:00, 17.09it/s]"
     ]
    },
    {
     "name": "stdout",
     "output_type": "stream",
     "text": [
      "Testing 54 potential triadic pairs\n",
      "Time spent finding triads: 0.0011355876922607422\n",
      "Found 80 connected triads\n",
      "Time spent classifying triads: 0.007382869720458984\n",
      "Testing 47 potential triadic pairs\n",
      "Time spent finding triads: 0.0010018348693847656\n",
      "Found 50 connected triads\n",
      "Time spent classifying triads: 0.001987457275390625\n",
      "Testing 64 potential triadic pairs\n",
      "Time spent finding triads: 0.0011243820190429688\n",
      "Found 90 connected triads\n",
      "Time spent classifying triads: 0.0034673213958740234\n",
      "Testing 45 potential triadic pairs\n",
      "Time spent finding triads: 0.000988006591796875\n",
      "Found 56 connected triads\n",
      "Time spent classifying triads: 0.0021791458129882812\n"
     ]
    },
    {
     "name": "stderr",
     "output_type": "stream",
     "text": [
      " 80%|████████  | 44/55 [00:02<00:00, 17.28it/s]"
     ]
    },
    {
     "name": "stdout",
     "output_type": "stream",
     "text": [
      "Testing 32 potential triadic pairs\n",
      "Time spent finding triads: 0.0009527206420898438\n",
      "Found 32 connected triads\n",
      "Time spent classifying triads: 0.0030138492584228516\n",
      "Testing 46 potential triadic pairs\n",
      "Time spent finding triads: 0.0010406970977783203\n",
      "Found 70 connected triads\n",
      "Time spent classifying triads: 0.0027103424072265625\n",
      "Testing 49 potential triadic pairs\n",
      "Time spent finding triads: 0.0010399818420410156\n",
      "Found 65 connected triads\n",
      "Time spent classifying triads: 0.0025060176849365234\n",
      "Testing 32 potential triadic pairs\n",
      "Time spent finding triads: 0.0009074211120605469\n",
      "Found 32 connected triads\n",
      "Time spent classifying triads: 0.0012917518615722656\n"
     ]
    },
    {
     "name": "stderr",
     "output_type": "stream",
     "text": [
      " 87%|████████▋ | 48/55 [00:02<00:00, 16.96it/s]"
     ]
    },
    {
     "name": "stdout",
     "output_type": "stream",
     "text": [
      "Testing 48 potential triadic pairs\n",
      "Time spent finding triads: 0.0010576248168945312\n",
      "Found 51 connected triads\n",
      "Time spent classifying triads: 0.004742145538330078\n",
      "Testing 63 potential triadic pairs\n",
      "Time spent finding triads: 0.0011272430419921875\n",
      "Found 80 connected triads\n",
      "Time spent classifying triads: 0.003101825714111328\n",
      "Testing 19 potential triadic pairs\n",
      "Time spent finding triads: 0.0008294582366943359\n",
      "Found 17 connected triads\n",
      "Time spent classifying triads: 0.0007476806640625\n",
      "Testing 24 potential triadic pairs\n",
      "Time spent finding triads: 0.0008654594421386719\n",
      "Found 22 connected triads\n",
      "Time spent classifying triads: 0.0009281635284423828\n"
     ]
    },
    {
     "name": "stderr",
     "output_type": "stream",
     "text": [
      " 95%|█████████▍| 52/55 [00:03<00:00, 16.88it/s]"
     ]
    },
    {
     "name": "stdout",
     "output_type": "stream",
     "text": [
      "Testing 12 potential triadic pairs\n",
      "Time spent finding triads: 0.0008499622344970703\n",
      "Found 10 connected triads\n",
      "Time spent classifying triads: 0.001032114028930664\n",
      "Testing 51 potential triadic pairs\n",
      "Time spent finding triads: 0.0010592937469482422\n",
      "Found 72 connected triads\n",
      "Time spent classifying triads: 0.002780437469482422\n",
      "Testing 37 potential triadic pairs\n",
      "Time spent finding triads: 0.0009427070617675781\n",
      "Found 53 connected triads\n",
      "Time spent classifying triads: 0.002079010009765625\n",
      "Testing 37 potential triadic pairs\n",
      "Time spent finding triads: 0.0009274482727050781\n",
      "Found 38 connected triads\n",
      "Time spent classifying triads: 0.001516580581665039\n"
     ]
    },
    {
     "name": "stderr",
     "output_type": "stream",
     "text": [
      "100%|██████████| 55/55 [00:03<00:00, 17.01it/s]\n"
     ]
    },
    {
     "name": "stdout",
     "output_type": "stream",
     "text": [
      "Testing 52 potential triadic pairs\n",
      "Time spent finding triads: 0.0010988712310791016\n",
      "Found 68 connected triads\n",
      "Time spent classifying triads: 0.006278514862060547\n",
      "Testing 16 potential triadic pairs\n",
      "Time spent finding triads: 0.0007975101470947266\n",
      "Found 14 connected triads\n",
      "Time spent classifying triads: 0.0006325244903564453\n",
      "Testing 23 potential triadic pairs\n",
      "Time spent finding triads: 0.0008633136749267578\n",
      "Found 25 connected triads\n",
      "Time spent classifying triads: 0.0010352134704589844\n"
     ]
    },
    {
     "name": "stderr",
     "output_type": "stream",
     "text": [
      "  7%|▋         | 4/55 [00:00<00:03, 15.57it/s]"
     ]
    },
    {
     "name": "stdout",
     "output_type": "stream",
     "text": [
      "Testing 65 potential triadic pairs\n",
      "Time spent finding triads: 0.0013620853424072266\n",
      "Found 133 connected triads\n",
      "Time spent classifying triads: 0.0066547393798828125\n",
      "Testing 48 potential triadic pairs\n",
      "Time spent finding triads: 0.0010437965393066406\n",
      "Found 68 connected triads\n",
      "Time spent classifying triads: 0.0026268959045410156\n",
      "Testing 48 potential triadic pairs\n",
      "Time spent finding triads: 0.0010247230529785156\n",
      "Found 51 connected triads\n",
      "Time spent classifying triads: 0.0020024776458740234\n",
      "Testing 50 potential triadic pairs\n",
      "Time spent finding triads: 0.0010223388671875\n",
      "Found 60 connected triads\n",
      "Time spent classifying triads: 0.0023577213287353516\n"
     ]
    },
    {
     "name": "stderr",
     "output_type": "stream",
     "text": [
      " 15%|█▍        | 8/55 [00:00<00:02, 15.80it/s]"
     ]
    },
    {
     "name": "stdout",
     "output_type": "stream",
     "text": [
      "Testing 28 potential triadic pairs\n",
      "Time spent finding triads: 0.0009589195251464844\n",
      "Found 26 connected triads\n",
      "Time spent classifying triads: 0.0024993419647216797\n",
      "Testing 54 potential triadic pairs\n",
      "Time spent finding triads: 0.0010857582092285156\n",
      "Found 73 connected triads\n",
      "Time spent classifying triads: 0.0028200149536132812\n",
      "Testing 33 potential triadic pairs\n",
      "Time spent finding triads: 0.0009210109710693359\n",
      "Found 34 connected triads\n",
      "Time spent classifying triads: 0.0013842582702636719\n",
      "Testing 57 potential triadic pairs\n",
      "Time spent finding triads: 0.0010728836059570312\n",
      "Found 71 connected triads\n",
      "Time spent classifying triads: 0.002768278121948242\n"
     ]
    },
    {
     "name": "stderr",
     "output_type": "stream",
     "text": [
      " 22%|██▏       | 12/55 [00:00<00:02, 15.87it/s]"
     ]
    },
    {
     "name": "stdout",
     "output_type": "stream",
     "text": [
      "Testing 14 potential triadic pairs\n",
      "Time spent finding triads: 0.0008618831634521484\n",
      "Found 12 connected triads\n",
      "Time spent classifying triads: 0.0012140274047851562\n",
      "Testing 32 potential triadic pairs\n",
      "Time spent finding triads: 0.0009138584136962891\n",
      "Found 33 connected triads\n",
      "Time spent classifying triads: 0.0013475418090820312\n",
      "Testing 48 potential triadic pairs\n",
      "Time spent finding triads: 0.0010151863098144531\n",
      "Found 51 connected triads\n",
      "Time spent classifying triads: 0.002013683319091797\n",
      "Testing 45 potential triadic pairs\n",
      "Time spent finding triads: 0.0010101795196533203\n",
      "Found 64 connected triads\n",
      "Time spent classifying triads: 0.0024814605712890625\n"
     ]
    },
    {
     "name": "stderr",
     "output_type": "stream",
     "text": [
      " 29%|██▉       | 16/55 [00:01<00:02, 16.00it/s]"
     ]
    },
    {
     "name": "stdout",
     "output_type": "stream",
     "text": [
      "Testing 59 potential triadic pairs\n",
      "Time spent finding triads: 0.001140594482421875\n",
      "Found 76 connected triads\n",
      "Time spent classifying triads: 0.00702977180480957\n",
      "Testing 25 potential triadic pairs\n",
      "Time spent finding triads: 0.0008761882781982422\n",
      "Found 28 connected triads\n",
      "Time spent classifying triads: 0.0011522769927978516\n",
      "Testing 35 potential triadic pairs\n",
      "Time spent finding triads: 0.0009267330169677734\n",
      "Found 38 connected triads\n",
      "Time spent classifying triads: 0.001940011978149414\n",
      "Testing 10 potential triadic pairs\n",
      "Time spent finding triads: 0.0007700920104980469\n",
      "Found 10 connected triads\n",
      "Time spent classifying triads: 0.0004780292510986328\n"
     ]
    },
    {
     "name": "stderr",
     "output_type": "stream",
     "text": [
      " 36%|███▋      | 20/55 [00:01<00:02, 13.04it/s]"
     ]
    },
    {
     "name": "stdout",
     "output_type": "stream",
     "text": [
      "Testing 30 potential triadic pairs\n",
      "Time spent finding triads: 0.0009846687316894531\n",
      "Found 34 connected triads\n",
      "Time spent classifying triads: 0.003212451934814453\n",
      "Testing 16 potential triadic pairs\n",
      "Time spent finding triads: 0.0008111000061035156\n",
      "Found 18 connected triads\n",
      "Time spent classifying triads: 0.0007808208465576172\n",
      "Testing 14 potential triadic pairs\n",
      "Time spent finding triads: 0.0007958412170410156\n",
      "Found 14 connected triads\n",
      "Time spent classifying triads: 0.0006310939788818359\n",
      "Testing 55 potential triadic pairs\n",
      "Time spent finding triads: 0.0010685920715332031\n",
      "Found 79 connected triads\n",
      "Time spent classifying triads: 0.0030345916748046875\n"
     ]
    },
    {
     "name": "stderr",
     "output_type": "stream",
     "text": [
      " 44%|████▎     | 24/55 [00:01<00:02, 14.17it/s]"
     ]
    },
    {
     "name": "stdout",
     "output_type": "stream",
     "text": [
      "Testing 60 potential triadic pairs\n",
      "Time spent finding triads: 0.0011665821075439453\n",
      "Found 84 connected triads\n",
      "Time spent classifying triads: 0.007737636566162109\n",
      "Testing 61 potential triadic pairs\n",
      "Time spent finding triads: 0.001140594482421875\n",
      "Found 100 connected triads\n",
      "Time spent classifying triads: 0.0038344860076904297\n",
      "Testing 34 potential triadic pairs\n",
      "Time spent finding triads: 0.0009188652038574219\n",
      "Found 34 connected triads\n",
      "Time spent classifying triads: 0.0013761520385742188\n",
      "Testing 31 potential triadic pairs\n",
      "Time spent finding triads: 0.0009317398071289062\n",
      "Found 48 connected triads\n",
      "Time spent classifying triads: 0.0018918514251708984\n"
     ]
    },
    {
     "name": "stderr",
     "output_type": "stream",
     "text": [
      " 51%|█████     | 28/55 [00:01<00:01, 14.95it/s]"
     ]
    },
    {
     "name": "stdout",
     "output_type": "stream",
     "text": [
      "Testing 31 potential triadic pairs\n",
      "Time spent finding triads: 0.0009694099426269531\n",
      "Found 38 connected triads\n",
      "Time spent classifying triads: 0.0035660266876220703\n",
      "Testing 62 potential triadic pairs\n",
      "Time spent finding triads: 0.0011494159698486328\n",
      "Found 109 connected triads\n",
      "Time spent classifying triads: 0.0041162967681884766\n",
      "Testing 65 potential triadic pairs\n",
      "Time spent finding triads: 0.001196146011352539\n",
      "Found 124 connected triads\n",
      "Time spent classifying triads: 0.004674673080444336\n",
      "Testing 12 potential triadic pairs\n",
      "Time spent finding triads: 0.0007908344268798828\n",
      "Found 12 connected triads\n",
      "Time spent classifying triads: 0.0005528926849365234\n"
     ]
    },
    {
     "name": "stderr",
     "output_type": "stream",
     "text": [
      " 58%|█████▊    | 32/55 [00:02<00:01, 15.54it/s]"
     ]
    },
    {
     "name": "stdout",
     "output_type": "stream",
     "text": [
      "Testing 39 potential triadic pairs\n",
      "Time spent finding triads: 0.0010268688201904297\n",
      "Found 36 connected triads\n",
      "Time spent classifying triads: 0.0033822059631347656\n",
      "Testing 38 potential triadic pairs\n",
      "Time spent finding triads: 0.0009458065032958984\n",
      "Found 41 connected triads\n",
      "Time spent classifying triads: 0.0016493797302246094\n",
      "Testing 21 potential triadic pairs\n",
      "Time spent finding triads: 0.0008411407470703125\n",
      "Found 19 connected triads\n",
      "Time spent classifying triads: 0.0008130073547363281\n",
      "Testing 23 potential triadic pairs\n",
      "Time spent finding triads: 0.0008544921875\n",
      "Found 19 connected triads\n",
      "Time spent classifying triads: 0.0008261203765869141\n"
     ]
    },
    {
     "name": "stderr",
     "output_type": "stream",
     "text": [
      " 65%|██████▌   | 36/55 [00:02<00:01, 15.80it/s]"
     ]
    },
    {
     "name": "stdout",
     "output_type": "stream",
     "text": [
      "Testing 19 potential triadic pairs\n",
      "Time spent finding triads: 0.0008845329284667969\n",
      "Found 21 connected triads\n",
      "Time spent classifying triads: 0.0020296573638916016\n",
      "Testing 34 potential triadic pairs\n",
      "Time spent finding triads: 0.0009126663208007812\n",
      "Found 32 connected triads\n",
      "Time spent classifying triads: 0.0012891292572021484\n",
      "Testing 37 potential triadic pairs\n",
      "Time spent finding triads: 0.0009310245513916016\n",
      "Found 34 connected triads\n",
      "Time spent classifying triads: 0.0013818740844726562\n",
      "Testing 51 potential triadic pairs\n",
      "Time spent finding triads: 0.0010662078857421875\n",
      "Found 81 connected triads\n",
      "Time spent classifying triads: 0.003100156784057617\n"
     ]
    },
    {
     "name": "stderr",
     "output_type": "stream",
     "text": [
      " 73%|███████▎  | 40/55 [00:02<00:00, 15.81it/s]"
     ]
    },
    {
     "name": "stdout",
     "output_type": "stream",
     "text": [
      "Testing 54 potential triadic pairs\n",
      "Time spent finding triads: 0.001119375228881836\n",
      "Found 71 connected triads\n",
      "Time spent classifying triads: 0.006568431854248047\n",
      "Testing 55 potential triadic pairs\n",
      "Time spent finding triads: 0.0010569095611572266\n",
      "Found 69 connected triads\n",
      "Time spent classifying triads: 0.0026586055755615234\n",
      "Testing 13 potential triadic pairs\n",
      "Time spent finding triads: 0.0008020401000976562\n",
      "Found 11 connected triads\n",
      "Time spent classifying triads: 0.0005202293395996094\n",
      "Testing 61 potential triadic pairs\n",
      "Time spent finding triads: 0.0011448860168457031\n",
      "Found 105 connected triads\n",
      "Time spent classifying triads: 0.0039899349212646484\n"
     ]
    },
    {
     "name": "stderr",
     "output_type": "stream",
     "text": [
      " 80%|████████  | 44/55 [00:02<00:00, 15.85it/s]"
     ]
    },
    {
     "name": "stdout",
     "output_type": "stream",
     "text": [
      "Testing 27 potential triadic pairs\n",
      "Time spent finding triads: 0.0009372234344482422\n",
      "Found 23 connected triads\n",
      "Time spent classifying triads: 0.002362966537475586\n",
      "Testing 13 potential triadic pairs\n",
      "Time spent finding triads: 0.0008006095886230469\n",
      "Found 11 connected triads\n",
      "Time spent classifying triads: 0.0005273818969726562\n",
      "Testing 45 potential triadic pairs\n",
      "Time spent finding triads: 0.001003265380859375\n",
      "Found 58 connected triads\n",
      "Time spent classifying triads: 0.0022902488708496094\n",
      "Testing 34 potential triadic pairs\n",
      "Time spent finding triads: 0.0009300708770751953\n",
      "Found 35 connected triads\n",
      "Time spent classifying triads: 0.001415252685546875\n"
     ]
    },
    {
     "name": "stderr",
     "output_type": "stream",
     "text": [
      " 87%|████████▋ | 48/55 [00:03<00:00, 15.63it/s]"
     ]
    },
    {
     "name": "stdout",
     "output_type": "stream",
     "text": [
      "Testing 51 potential triadic pairs\n",
      "Time spent finding triads: 0.0010805130004882812\n",
      "Found 50 connected triads\n",
      "Time spent classifying triads: 0.004650115966796875\n",
      "Testing 9 potential triadic pairs\n",
      "Time spent finding triads: 0.0007770061492919922\n",
      "Found 11 connected triads\n",
      "Time spent classifying triads: 0.0005104541778564453\n",
      "Testing 32 potential triadic pairs\n",
      "Time spent finding triads: 0.0009162425994873047\n",
      "Found 35 connected triads\n",
      "Time spent classifying triads: 0.0014183521270751953\n",
      "Testing 62 potential triadic pairs\n",
      "Time spent finding triads: 0.0011286735534667969\n",
      "Found 94 connected triads\n",
      "Time spent classifying triads: 0.003592967987060547\n"
     ]
    },
    {
     "name": "stderr",
     "output_type": "stream",
     "text": [
      " 95%|█████████▍| 52/55 [00:03<00:00, 15.65it/s]"
     ]
    },
    {
     "name": "stdout",
     "output_type": "stream",
     "text": [
      "Testing 46 potential triadic pairs\n",
      "Time spent finding triads: 0.001069784164428711\n",
      "Found 57 connected triads\n",
      "Time spent classifying triads: 0.005277156829833984\n",
      "Testing 40 potential triadic pairs\n",
      "Time spent finding triads: 0.0009675025939941406\n",
      "Found 41 connected triads\n",
      "Time spent classifying triads: 0.0016374588012695312\n",
      "Testing 35 potential triadic pairs\n",
      "Time spent finding triads: 0.00093841552734375\n",
      "Found 37 connected triads\n",
      "Time spent classifying triads: 0.0014848709106445312\n",
      "Testing 36 potential triadic pairs\n",
      "Time spent finding triads: 0.00093841552734375\n",
      "Found 43 connected triads\n",
      "Time spent classifying triads: 0.0017092227935791016\n"
     ]
    },
    {
     "name": "stderr",
     "output_type": "stream",
     "text": [
      "100%|██████████| 55/55 [00:03<00:00, 15.17it/s]\n"
     ]
    },
    {
     "name": "stdout",
     "output_type": "stream",
     "text": [
      "Testing 62 potential triadic pairs\n",
      "Time spent finding triads: 0.0012288093566894531\n",
      "Found 125 connected triads\n",
      "Time spent classifying triads: 0.011495828628540039\n",
      "Testing 47 potential triadic pairs\n",
      "Time spent finding triads: 0.0009961128234863281\n",
      "Found 44 connected triads\n",
      "Time spent classifying triads: 0.0017499923706054688\n",
      "Testing 59 potential triadic pairs\n",
      "Time spent finding triads: 0.0011096000671386719\n",
      "Found 93 connected triads\n",
      "Time spent classifying triads: 0.003590822219848633\n"
     ]
    },
    {
     "name": "stderr",
     "output_type": "stream",
     "text": [
      "  7%|▋         | 4/55 [00:00<00:03, 16.40it/s]"
     ]
    },
    {
     "name": "stdout",
     "output_type": "stream",
     "text": [
      "Testing 46 potential triadic pairs\n",
      "Time spent finding triads: 0.0010378360748291016\n",
      "Found 54 connected triads\n",
      "Time spent classifying triads: 0.005015850067138672\n",
      "Testing 37 potential triadic pairs\n",
      "Time spent finding triads: 0.0009362697601318359\n",
      "Found 39 connected triads\n",
      "Time spent classifying triads: 0.0015625953674316406\n",
      "Testing 49 potential triadic pairs\n",
      "Time spent finding triads: 0.001035928726196289\n",
      "Found 71 connected triads\n",
      "Time spent classifying triads: 0.002749204635620117\n",
      "Testing 6 potential triadic pairs\n",
      "Time spent finding triads: 0.0007519721984863281\n",
      "Found 6 connected triads\n",
      "Time spent classifying triads: 0.0003368854522705078\n"
     ]
    },
    {
     "name": "stderr",
     "output_type": "stream",
     "text": [
      " 15%|█▍        | 8/55 [00:00<00:02, 16.23it/s]"
     ]
    },
    {
     "name": "stdout",
     "output_type": "stream",
     "text": [
      "Testing 39 potential triadic pairs\n",
      "Time spent finding triads: 0.0010042190551757812\n",
      "Found 41 connected triads\n",
      "Time spent classifying triads: 0.0038309097290039062\n",
      "Testing 29 potential triadic pairs\n",
      "Time spent finding triads: 0.0008919239044189453\n",
      "Found 32 connected triads\n",
      "Time spent classifying triads: 0.0012938976287841797\n",
      "Testing 22 potential triadic pairs\n",
      "Time spent finding triads: 0.0008380413055419922\n",
      "Found 18 connected triads\n",
      "Time spent classifying triads: 0.0007755756378173828\n",
      "Testing 51 potential triadic pairs\n",
      "Time spent finding triads: 0.0010941028594970703\n",
      "Found 63 connected triads\n",
      "Time spent classifying triads: 0.002521038055419922\n"
     ]
    },
    {
     "name": "stderr",
     "output_type": "stream",
     "text": [
      " 22%|██▏       | 12/55 [00:00<00:02, 16.16it/s]"
     ]
    },
    {
     "name": "stdout",
     "output_type": "stream",
     "text": [
      "Testing 42 potential triadic pairs\n",
      "Time spent finding triads: 0.0010190010070800781\n",
      "Found 41 connected triads\n",
      "Time spent classifying triads: 0.0038383007049560547\n",
      "Testing 31 potential triadic pairs\n",
      "Time spent finding triads: 0.0008873939514160156\n",
      "Found 29 connected triads\n",
      "Time spent classifying triads: 0.0011856555938720703\n",
      "Testing 30 potential triadic pairs\n",
      "Time spent finding triads: 0.0008940696716308594\n",
      "Found 29 connected triads\n",
      "Time spent classifying triads: 0.001188039779663086\n",
      "Testing 61 potential triadic pairs\n",
      "Time spent finding triads: 0.0011534690856933594\n",
      "Found 120 connected triads\n",
      "Time spent classifying triads: 0.0045397281646728516\n"
     ]
    },
    {
     "name": "stderr",
     "output_type": "stream",
     "text": [
      " 29%|██▉       | 16/55 [00:00<00:02, 16.28it/s]"
     ]
    },
    {
     "name": "stdout",
     "output_type": "stream",
     "text": [
      "Testing 61 potential triadic pairs\n",
      "Time spent finding triads: 0.0011990070343017578\n",
      "Found 90 connected triads\n",
      "Time spent classifying triads: 0.008285045623779297\n",
      "Testing 56 potential triadic pairs\n",
      "Time spent finding triads: 0.001073598861694336\n",
      "Found 77 connected triads\n",
      "Time spent classifying triads: 0.0029773712158203125\n",
      "Testing 41 potential triadic pairs\n",
      "Time spent finding triads: 0.0010607242584228516\n",
      "Found 54 connected triads\n",
      "Time spent classifying triads: 0.002118349075317383\n",
      "Testing 36 potential triadic pairs\n",
      "Time spent finding triads: 0.0009417533874511719\n",
      "Found 44 connected triads\n",
      "Time spent classifying triads: 0.0017523765563964844\n"
     ]
    },
    {
     "name": "stderr",
     "output_type": "stream",
     "text": [
      " 36%|███▋      | 20/55 [00:01<00:02, 15.98it/s]"
     ]
    },
    {
     "name": "stdout",
     "output_type": "stream",
     "text": [
      "Testing 57 potential triadic pairs\n",
      "Time spent finding triads: 0.0011391639709472656\n",
      "Found 76 connected triads\n",
      "Time spent classifying triads: 0.007010936737060547\n",
      "Testing 25 potential triadic pairs\n",
      "Time spent finding triads: 0.0008745193481445312\n",
      "Found 26 connected triads\n",
      "Time spent classifying triads: 0.001088857650756836\n",
      "Testing 40 potential triadic pairs\n",
      "Time spent finding triads: 0.0009672641754150391\n",
      "Found 46 connected triads\n",
      "Time spent classifying triads: 0.0018227100372314453\n",
      "Testing 26 potential triadic pairs\n",
      "Time spent finding triads: 0.0008752346038818359\n",
      "Found 24 connected triads\n",
      "Time spent classifying triads: 0.0010042190551757812\n"
     ]
    },
    {
     "name": "stderr",
     "output_type": "stream",
     "text": [
      " 44%|████▎     | 24/55 [00:01<00:01, 15.84it/s]"
     ]
    },
    {
     "name": "stdout",
     "output_type": "stream",
     "text": [
      "Testing 45 potential triadic pairs\n",
      "Time spent finding triads: 0.0010552406311035156\n",
      "Found 58 connected triads\n",
      "Time spent classifying triads: 0.005382537841796875\n",
      "Testing 39 potential triadic pairs\n",
      "Time spent finding triads: 0.0009548664093017578\n",
      "Found 44 connected triads\n",
      "Time spent classifying triads: 0.001733541488647461\n",
      "Testing 64 potential triadic pairs\n",
      "Time spent finding triads: 0.0011591911315917969\n",
      "Found 108 connected triads\n",
      "Time spent classifying triads: 0.004058837890625\n",
      "Testing 39 potential triadic pairs\n",
      "Time spent finding triads: 0.0009417533874511719\n",
      "Found 35 connected triads\n",
      "Time spent classifying triads: 0.00140380859375\n"
     ]
    },
    {
     "name": "stderr",
     "output_type": "stream",
     "text": [
      " 51%|█████     | 28/55 [00:01<00:01, 15.79it/s]"
     ]
    },
    {
     "name": "stdout",
     "output_type": "stream",
     "text": [
      "Testing 57 potential triadic pairs\n",
      "Time spent finding triads: 0.0011472702026367188\n",
      "Found 82 connected triads\n",
      "Time spent classifying triads: 0.007520914077758789\n",
      "Testing 65 potential triadic pairs\n",
      "Time spent finding triads: 0.0011644363403320312\n",
      "Found 103 connected triads\n",
      "Time spent classifying triads: 0.003911256790161133\n",
      "Testing 37 potential triadic pairs\n",
      "Time spent finding triads: 0.0009372234344482422\n",
      "Found 35 connected triads\n",
      "Time spent classifying triads: 0.0014009475708007812\n",
      "Testing 33 potential triadic pairs\n",
      "Time spent finding triads: 0.0009222030639648438\n",
      "Found 32 connected triads\n",
      "Time spent classifying triads: 0.0013027191162109375\n"
     ]
    },
    {
     "name": "stderr",
     "output_type": "stream",
     "text": [
      " 58%|█████▊    | 32/55 [00:02<00:01, 15.69it/s]"
     ]
    },
    {
     "name": "stdout",
     "output_type": "stream",
     "text": [
      "Testing 41 potential triadic pairs\n",
      "Time spent finding triads: 0.0010406970977783203\n",
      "Found 53 connected triads\n",
      "Time spent classifying triads: 0.004904747009277344\n",
      "Testing 51 potential triadic pairs\n",
      "Time spent finding triads: 0.0010747909545898438\n",
      "Found 78 connected triads\n",
      "Time spent classifying triads: 0.003007173538208008\n",
      "Testing 63 potential triadic pairs\n",
      "Time spent finding triads: 0.0011966228485107422\n",
      "Found 115 connected triads\n",
      "Time spent classifying triads: 0.0044078826904296875\n",
      "Testing 38 potential triadic pairs\n",
      "Time spent finding triads: 0.0009479522705078125\n",
      "Found 45 connected triads\n",
      "Time spent classifying triads: 0.0017764568328857422\n"
     ]
    },
    {
     "name": "stderr",
     "output_type": "stream",
     "text": [
      " 65%|██████▌   | 36/55 [00:02<00:01, 16.00it/s]"
     ]
    },
    {
     "name": "stdout",
     "output_type": "stream",
     "text": [
      "Testing 44 potential triadic pairs\n",
      "Time spent finding triads: 0.0010242462158203125\n",
      "Found 48 connected triads\n",
      "Time spent classifying triads: 0.004462242126464844\n",
      "Testing 19 potential triadic pairs\n",
      "Time spent finding triads: 0.0008373260498046875\n",
      "Found 17 connected triads\n",
      "Time spent classifying triads: 0.0007383823394775391\n",
      "Testing 3 potential triadic pairs\n",
      "Time spent finding triads: 0.0007283687591552734\n",
      "Found 3 connected triads\n",
      "Time spent classifying triads: 0.00021028518676757812\n",
      "Testing 56 potential triadic pairs\n",
      "Time spent finding triads: 0.0010640621185302734\n",
      "Found 76 connected triads\n",
      "Time spent classifying triads: 0.002932310104370117\n"
     ]
    },
    {
     "name": "stderr",
     "output_type": "stream",
     "text": [
      " 73%|███████▎  | 40/55 [00:02<00:00, 16.19it/s]"
     ]
    },
    {
     "name": "stdout",
     "output_type": "stream",
     "text": [
      "Testing 7 potential triadic pairs\n",
      "Time spent finding triads: 0.0008015632629394531\n",
      "Found 7 connected triads\n",
      "Time spent classifying triads: 0.0007522106170654297\n",
      "Testing 57 potential triadic pairs\n",
      "Time spent finding triads: 0.0011148452758789062\n",
      "Found 93 connected triads\n",
      "Time spent classifying triads: 0.0035622119903564453\n",
      "Testing 30 potential triadic pairs\n",
      "Time spent finding triads: 0.000904083251953125\n",
      "Found 31 connected triads\n",
      "Time spent classifying triads: 0.0012667179107666016\n",
      "Testing 29 potential triadic pairs\n",
      "Time spent finding triads: 0.0008909702301025391\n",
      "Found 27 connected triads\n",
      "Time spent classifying triads: 0.0011107921600341797\n"
     ]
    },
    {
     "name": "stderr",
     "output_type": "stream",
     "text": [
      " 80%|████████  | 44/55 [00:02<00:00, 15.74it/s]"
     ]
    },
    {
     "name": "stdout",
     "output_type": "stream",
     "text": [
      "Testing 48 potential triadic pairs\n",
      "Time spent finding triads: 0.0010991096496582031\n",
      "Found 68 connected triads\n",
      "Time spent classifying triads: 0.0063037872314453125\n",
      "Testing 48 potential triadic pairs\n",
      "Time spent finding triads: 0.0010755062103271484\n",
      "Found 60 connected triads\n",
      "Time spent classifying triads: 0.0023272037506103516\n",
      "Testing 64 potential triadic pairs\n",
      "Time spent finding triads: 0.0011217594146728516\n",
      "Found 80 connected triads\n",
      "Time spent classifying triads: 0.003053426742553711\n",
      "Testing 44 potential triadic pairs\n",
      "Time spent finding triads: 0.0010161399841308594\n",
      "Found 57 connected triads\n",
      "Time spent classifying triads: 0.0022361278533935547\n"
     ]
    },
    {
     "name": "stderr",
     "output_type": "stream",
     "text": [
      " 87%|████████▋ | 48/55 [00:03<00:00, 15.68it/s]"
     ]
    },
    {
     "name": "stdout",
     "output_type": "stream",
     "text": [
      "Testing 60 potential triadic pairs\n",
      "Time spent finding triads: 0.001180410385131836\n",
      "Found 89 connected triads\n",
      "Time spent classifying triads: 0.005698442459106445\n",
      "Testing 23 potential triadic pairs\n",
      "Time spent finding triads: 0.0008592605590820312\n",
      "Found 21 connected triads\n",
      "Time spent classifying triads: 0.0008845329284667969\n",
      "Testing 43 potential triadic pairs\n",
      "Time spent finding triads: 0.000988006591796875\n",
      "Found 57 connected triads\n",
      "Time spent classifying triads: 0.0022139549255371094\n",
      "Testing 53 potential triadic pairs\n",
      "Time spent finding triads: 0.00107574462890625\n",
      "Found 73 connected triads\n",
      "Time spent classifying triads: 0.002834796905517578\n"
     ]
    },
    {
     "name": "stderr",
     "output_type": "stream",
     "text": [
      " 95%|█████████▍| 52/55 [00:03<00:00, 15.85it/s]"
     ]
    },
    {
     "name": "stdout",
     "output_type": "stream",
     "text": [
      "Testing 47 potential triadic pairs\n",
      "Time spent finding triads: 0.0010747909545898438\n",
      "Found 65 connected triads\n",
      "Time spent classifying triads: 0.006020307540893555\n",
      "Testing 21 potential triadic pairs\n",
      "Time spent finding triads: 0.0008547306060791016\n",
      "Found 23 connected triads\n",
      "Time spent classifying triads: 0.0009565353393554688\n",
      "Testing 37 potential triadic pairs\n",
      "Time spent finding triads: 0.0009520053863525391\n",
      "Found 48 connected triads\n",
      "Time spent classifying triads: 0.0018875598907470703\n",
      "Testing 6 potential triadic pairs\n",
      "Time spent finding triads: 0.0007529258728027344\n",
      "Found 4 connected triads\n",
      "Time spent classifying triads: 0.0002589225769042969\n"
     ]
    },
    {
     "name": "stderr",
     "output_type": "stream",
     "text": [
      "100%|██████████| 55/55 [00:03<00:00, 15.90it/s]\n"
     ]
    },
    {
     "name": "stdout",
     "output_type": "stream",
     "text": [
      "Testing 36 potential triadic pairs\n",
      "Time spent finding triads: 0.000988006591796875\n",
      "Found 39 connected triads\n",
      "Time spent classifying triads: 0.0036444664001464844\n",
      "Testing 38 potential triadic pairs\n",
      "Time spent finding triads: 0.0009391307830810547\n",
      "Found 36 connected triads\n",
      "Time spent classifying triads: 0.0014557838439941406\n",
      "Testing 37 potential triadic pairs\n",
      "Time spent finding triads: 0.0009374618530273438\n",
      "Found 43 connected triads\n",
      "Time spent classifying triads: 0.0017275810241699219\n"
     ]
    },
    {
     "name": "stderr",
     "output_type": "stream",
     "text": [
      "  7%|▋         | 4/55 [00:00<00:03, 15.25it/s]"
     ]
    },
    {
     "name": "stdout",
     "output_type": "stream",
     "text": [
      "Testing 44 potential triadic pairs\n",
      "Time spent finding triads: 0.0010521411895751953\n",
      "Found 53 connected triads\n",
      "Time spent classifying triads: 0.004953622817993164\n",
      "Testing 8 potential triadic pairs\n",
      "Time spent finding triads: 0.0007598400115966797\n",
      "Found 8 connected triads\n",
      "Time spent classifying triads: 0.0004100799560546875\n",
      "Testing 20 potential triadic pairs\n",
      "Time spent finding triads: 0.0008306503295898438\n",
      "Found 20 connected triads\n",
      "Time spent classifying triads: 0.0008571147918701172\n",
      "Testing 22 potential triadic pairs\n",
      "Time spent finding triads: 0.0008568763732910156\n",
      "Found 25 connected triads\n",
      "Time spent classifying triads: 0.001050710678100586\n"
     ]
    },
    {
     "name": "stderr",
     "output_type": "stream",
     "text": [
      " 15%|█▍        | 8/55 [00:00<00:03, 15.29it/s]"
     ]
    },
    {
     "name": "stdout",
     "output_type": "stream",
     "text": [
      "Testing 23 potential triadic pairs\n",
      "Time spent finding triads: 0.0009195804595947266\n",
      "Found 21 connected triads\n",
      "Time spent classifying triads: 0.0020253658294677734\n",
      "Testing 5 potential triadic pairs\n",
      "Time spent finding triads: 0.000759124755859375\n",
      "Found 5 connected triads\n",
      "Time spent classifying triads: 0.0002913475036621094\n",
      "Testing 9 potential triadic pairs\n",
      "Time spent finding triads: 0.0007808208465576172\n",
      "Found 7 connected triads\n",
      "Time spent classifying triads: 0.00036454200744628906\n",
      "Testing 29 potential triadic pairs\n",
      "Time spent finding triads: 0.0008988380432128906\n",
      "Found 29 connected triads\n",
      "Time spent classifying triads: 0.0012044906616210938\n"
     ]
    },
    {
     "name": "stderr",
     "output_type": "stream",
     "text": [
      " 22%|██▏       | 12/55 [00:00<00:02, 15.36it/s]"
     ]
    },
    {
     "name": "stdout",
     "output_type": "stream",
     "text": [
      "Testing 18 potential triadic pairs\n",
      "Time spent finding triads: 0.0008831024169921875\n",
      "Found 16 connected triads\n",
      "Time spent classifying triads: 0.0014221668243408203\n",
      "Testing 43 potential triadic pairs\n",
      "Time spent finding triads: 0.000993490219116211\n",
      "Found 53 connected triads\n",
      "Time spent classifying triads: 0.0020682811737060547\n",
      "Testing 18 potential triadic pairs\n",
      "Time spent finding triads: 0.0008361339569091797\n",
      "Found 14 connected triads\n",
      "Time spent classifying triads: 0.0006270408630371094\n",
      "Testing 37 potential triadic pairs\n",
      "Time spent finding triads: 0.0009493827819824219\n",
      "Found 40 connected triads\n",
      "Time spent classifying triads: 0.0015869140625\n"
     ]
    },
    {
     "name": "stderr",
     "output_type": "stream",
     "text": [
      " 29%|██▉       | 16/55 [00:01<00:02, 15.30it/s]"
     ]
    },
    {
     "name": "stdout",
     "output_type": "stream",
     "text": [
      "Testing 7 potential triadic pairs\n",
      "Time spent finding triads: 0.0008289813995361328\n",
      "Found 7 connected triads\n",
      "Time spent classifying triads: 0.0007524490356445312\n",
      "Testing 44 potential triadic pairs\n",
      "Time spent finding triads: 0.0009951591491699219\n",
      "Found 51 connected triads\n",
      "Time spent classifying triads: 0.0020041465759277344\n",
      "Testing 24 potential triadic pairs\n",
      "Time spent finding triads: 0.0008714199066162109\n",
      "Found 20 connected triads\n",
      "Time spent classifying triads: 0.0008561611175537109\n",
      "Testing 30 potential triadic pairs\n",
      "Time spent finding triads: 0.0009202957153320312\n",
      "Found 35 connected triads\n",
      "Time spent classifying triads: 0.001405477523803711\n"
     ]
    },
    {
     "name": "stderr",
     "output_type": "stream",
     "text": [
      " 36%|███▋      | 20/55 [00:01<00:02, 15.21it/s]"
     ]
    },
    {
     "name": "stdout",
     "output_type": "stream",
     "text": [
      "Testing 18 potential triadic pairs\n",
      "Time spent finding triads: 0.0008955001831054688\n",
      "Found 18 connected triads\n",
      "Time spent classifying triads: 0.0017626285552978516\n",
      "Testing 16 potential triadic pairs\n",
      "Time spent finding triads: 0.0008196830749511719\n",
      "Found 21 connected triads\n",
      "Time spent classifying triads: 0.0019953250885009766\n",
      "Testing 29 potential triadic pairs\n",
      "Time spent finding triads: 0.0008938312530517578\n",
      "Found 27 connected triads\n",
      "Time spent classifying triads: 0.0011217594146728516\n",
      "Testing 19 potential triadic pairs\n",
      "Time spent finding triads: 0.0008389949798583984\n",
      "Found 21 connected triads\n",
      "Time spent classifying triads: 0.0008876323699951172\n"
     ]
    },
    {
     "name": "stderr",
     "output_type": "stream",
     "text": [
      " 44%|████▎     | 24/55 [00:01<00:02, 15.19it/s]"
     ]
    },
    {
     "name": "stdout",
     "output_type": "stream",
     "text": [
      "Testing 15 potential triadic pairs\n",
      "Time spent finding triads: 0.0008900165557861328\n",
      "Found 15 connected triads\n",
      "Time spent classifying triads: 0.0014908313751220703\n",
      "Testing 23 potential triadic pairs\n",
      "Time spent finding triads: 0.0008611679077148438\n",
      "Found 23 connected triads\n",
      "Time spent classifying triads: 0.0009677410125732422\n",
      "Testing 22 potential triadic pairs\n",
      "Time spent finding triads: 0.0008544921875\n",
      "Found 20 connected triads\n",
      "Time spent classifying triads: 0.000873565673828125\n",
      "Testing 10 potential triadic pairs\n",
      "Time spent finding triads: 0.0007781982421875\n",
      "Found 8 connected triads\n",
      "Time spent classifying triads: 0.0004010200500488281\n"
     ]
    },
    {
     "name": "stderr",
     "output_type": "stream",
     "text": [
      " 51%|█████     | 28/55 [00:01<00:01, 15.24it/s]"
     ]
    },
    {
     "name": "stdout",
     "output_type": "stream",
     "text": [
      "Testing 27 potential triadic pairs\n",
      "Time spent finding triads: 0.0009450912475585938\n",
      "Found 29 connected triads\n",
      "Time spent classifying triads: 0.0027480125427246094\n",
      "Testing 15 potential triadic pairs\n",
      "Time spent finding triads: 0.0008153915405273438\n",
      "Found 14 connected triads\n",
      "Time spent classifying triads: 0.0006275177001953125\n",
      "Testing 25 potential triadic pairs\n",
      "Time spent finding triads: 0.0008718967437744141\n",
      "Found 25 connected triads\n",
      "Time spent classifying triads: 0.001039266586303711\n",
      "Testing 27 potential triadic pairs\n",
      "Time spent finding triads: 0.0008823871612548828\n",
      "Found 29 connected triads\n",
      "Time spent classifying triads: 0.0011792182922363281\n"
     ]
    },
    {
     "name": "stderr",
     "output_type": "stream",
     "text": [
      " 58%|█████▊    | 32/55 [00:02<00:01, 15.21it/s]"
     ]
    },
    {
     "name": "stdout",
     "output_type": "stream",
     "text": [
      "Testing 14 potential triadic pairs\n",
      "Time spent finding triads: 0.0008807182312011719\n",
      "Found 12 connected triads\n",
      "Time spent classifying triads: 0.0009300708770751953\n",
      "Testing 26 potential triadic pairs\n",
      "Time spent finding triads: 0.0008635520935058594\n",
      "Found 22 connected triads\n",
      "Time spent classifying triads: 0.0009341239929199219\n",
      "Testing 31 potential triadic pairs\n",
      "Time spent finding triads: 0.0009057521820068359\n",
      "Found 40 connected triads\n",
      "Time spent classifying triads: 0.001596689224243164\n",
      "Testing 28 potential triadic pairs\n",
      "Time spent finding triads: 0.0009050369262695312\n",
      "Found 40 connected triads\n",
      "Time spent classifying triads: 0.0015938282012939453\n"
     ]
    },
    {
     "name": "stderr",
     "output_type": "stream",
     "text": [
      " 65%|██████▌   | 36/55 [00:02<00:01, 15.35it/s]"
     ]
    },
    {
     "name": "stdout",
     "output_type": "stream",
     "text": [
      "Testing 15 potential triadic pairs\n",
      "Time spent finding triads: 0.0008749961853027344\n",
      "Found 13 connected triads\n",
      "Time spent classifying triads: 0.0010004043579101562\n",
      "Testing 34 potential triadic pairs\n",
      "Time spent finding triads: 0.0009124279022216797\n",
      "Found 30 connected triads\n",
      "Time spent classifying triads: 0.0012259483337402344\n",
      "Testing 24 potential triadic pairs\n",
      "Time spent finding triads: 0.0008642673492431641\n",
      "Found 24 connected triads\n",
      "Time spent classifying triads: 0.0010077953338623047\n",
      "Testing 16 potential triadic pairs\n",
      "Time spent finding triads: 0.0008196830749511719\n",
      "Found 16 connected triads\n",
      "Time spent classifying triads: 0.0007159709930419922\n"
     ]
    },
    {
     "name": "stderr",
     "output_type": "stream",
     "text": [
      " 73%|███████▎  | 40/55 [00:02<00:00, 15.23it/s]"
     ]
    },
    {
     "name": "stdout",
     "output_type": "stream",
     "text": [
      "Testing 19 potential triadic pairs\n",
      "Time spent finding triads: 0.0008819103240966797\n",
      "Found 21 connected triads\n",
      "Time spent classifying triads: 0.0020186901092529297\n",
      "Testing 29 potential triadic pairs\n",
      "Time spent finding triads: 0.0009014606475830078\n",
      "Found 41 connected triads\n",
      "Time spent classifying triads: 0.0016326904296875\n",
      "Testing 37 potential triadic pairs\n",
      "Time spent finding triads: 0.0009541511535644531\n",
      "Found 39 connected triads\n",
      "Time spent classifying triads: 0.001573801040649414\n",
      "Testing 26 potential triadic pairs\n",
      "Time spent finding triads: 0.0008912086486816406\n",
      "Found 26 connected triads\n",
      "Time spent classifying triads: 0.0010819435119628906\n"
     ]
    },
    {
     "name": "stderr",
     "output_type": "stream",
     "text": [
      " 80%|████████  | 44/55 [00:02<00:00, 15.17it/s]"
     ]
    },
    {
     "name": "stdout",
     "output_type": "stream",
     "text": [
      "Testing 38 potential triadic pairs\n",
      "Time spent finding triads: 0.000997304916381836\n",
      "Found 36 connected triads\n",
      "Time spent classifying triads: 0.0033779144287109375\n",
      "Testing 23 potential triadic pairs\n",
      "Time spent finding triads: 0.0008587837219238281\n",
      "Found 23 connected triads\n",
      "Time spent classifying triads: 0.0009708404541015625\n",
      "Testing 27 potential triadic pairs\n",
      "Time spent finding triads: 0.0008785724639892578\n",
      "Found 23 connected triads\n",
      "Time spent classifying triads: 0.0009715557098388672\n",
      "Testing 16 potential triadic pairs\n",
      "Time spent finding triads: 0.0008039474487304688\n",
      "Found 16 connected triads\n",
      "Time spent classifying triads: 0.0007030963897705078\n"
     ]
    },
    {
     "name": "stderr",
     "output_type": "stream",
     "text": [
      " 87%|████████▋ | 48/55 [00:03<00:00, 15.24it/s]"
     ]
    },
    {
     "name": "stdout",
     "output_type": "stream",
     "text": [
      "Testing 6 potential triadic pairs\n",
      "Time spent finding triads: 0.0008060932159423828\n",
      "Found 6 connected triads\n",
      "Time spent classifying triads: 0.0006725788116455078\n",
      "Testing 38 potential triadic pairs\n",
      "Time spent finding triads: 0.0009405612945556641\n",
      "Found 42 connected triads\n",
      "Time spent classifying triads: 0.0016565322875976562\n",
      "Testing 15 potential triadic pairs\n",
      "Time spent finding triads: 0.0008149147033691406\n",
      "Found 17 connected triads\n",
      "Time spent classifying triads: 0.0007486343383789062\n",
      "Testing 12 potential triadic pairs\n",
      "Time spent finding triads: 0.0007951259613037109\n",
      "Found 12 connected triads\n",
      "Time spent classifying triads: 0.00054931640625\n"
     ]
    },
    {
     "name": "stderr",
     "output_type": "stream",
     "text": [
      " 95%|█████████▍| 52/55 [00:03<00:00, 15.26it/s]"
     ]
    },
    {
     "name": "stdout",
     "output_type": "stream",
     "text": [
      "Testing 9 potential triadic pairs\n",
      "Time spent finding triads: 0.0008335113525390625\n",
      "Found 9 connected triads\n",
      "Time spent classifying triads: 0.0009324550628662109\n",
      "Testing 29 potential triadic pairs\n",
      "Time spent finding triads: 0.00089263916015625\n",
      "Found 23 connected triads\n",
      "Time spent classifying triads: 0.0009608268737792969\n",
      "Testing 8 potential triadic pairs\n",
      "Time spent finding triads: 0.0007734298706054688\n",
      "Found 6 connected triads\n",
      "Time spent classifying triads: 0.0003387928009033203\n",
      "Testing 36 potential triadic pairs\n",
      "Time spent finding triads: 0.0009415149688720703\n",
      "Found 45 connected triads\n",
      "Time spent classifying triads: 0.001779317855834961\n"
     ]
    },
    {
     "name": "stderr",
     "output_type": "stream",
     "text": [
      "100%|██████████| 55/55 [00:03<00:00, 15.21it/s]\n"
     ]
    },
    {
     "name": "stdout",
     "output_type": "stream",
     "text": [
      "Testing 20 potential triadic pairs\n",
      "Time spent finding triads: 0.0008955001831054688\n",
      "Found 20 connected triads\n",
      "Time spent classifying triads: 0.0019447803497314453\n",
      "Testing 21 potential triadic pairs\n",
      "Time spent finding triads: 0.0008435249328613281\n",
      "Found 29 connected triads\n",
      "Time spent classifying triads: 0.0011990070343017578\n",
      "Testing 36 potential triadic pairs\n",
      "Time spent finding triads: 0.0009427070617675781\n",
      "Found 42 connected triads\n",
      "Time spent classifying triads: 0.0016777515411376953\n"
     ]
    },
    {
     "name": "stderr",
     "output_type": "stream",
     "text": [
      "  4%|▎         | 2/55 [00:00<00:03, 14.62it/s]"
     ]
    },
    {
     "name": "stdout",
     "output_type": "stream",
     "text": [
      "Testing 14 potential triadic pairs\n",
      "Time spent finding triads: 0.0008373260498046875\n",
      "Found 14 connected triads\n",
      "Time spent classifying triads: 0.0013933181762695312\n",
      "Testing 12 potential triadic pairs\n",
      "Time spent finding triads: 0.0007996559143066406\n",
      "Found 12 connected triads\n",
      "Time spent classifying triads: 0.0005552768707275391\n",
      "Testing 29 potential triadic pairs\n",
      "Time spent finding triads: 0.0008974075317382812\n",
      "Found 25 connected triads\n",
      "Time spent classifying triads: 0.0019578933715820312\n",
      "Testing 37 potential triadic pairs\n",
      "Time spent finding triads: 0.0009362697601318359\n",
      "Found 33 connected triads\n",
      "Time spent classifying triads: 0.001340627670288086\n"
     ]
    },
    {
     "name": "stderr",
     "output_type": "stream",
     "text": [
      " 11%|█         | 6/55 [00:00<00:03, 14.56it/s]"
     ]
    },
    {
     "name": "stdout",
     "output_type": "stream",
     "text": [
      "Testing 46 potential triadic pairs\n",
      "Time spent finding triads: 0.001062154769897461\n",
      "Found 55 connected triads\n",
      "Time spent classifying triads: 0.005125761032104492\n",
      "Testing 14 potential triadic pairs\n",
      "Time spent finding triads: 0.0008087158203125\n",
      "Found 12 connected triads\n",
      "Time spent classifying triads: 0.0005524158477783203\n",
      "Testing 17 potential triadic pairs\n",
      "Time spent finding triads: 0.0009734630584716797\n",
      "Found 15 connected triads\n",
      "Time spent classifying triads: 0.0006844997406005859\n",
      "Testing 43 potential triadic pairs\n",
      "Time spent finding triads: 0.0011250972747802734\n",
      "Found 50 connected triads\n",
      "Time spent classifying triads: 0.0046617984771728516\n"
     ]
    },
    {
     "name": "stderr",
     "output_type": "stream",
     "text": [
      " 18%|█▊        | 10/55 [00:00<00:03, 14.36it/s]"
     ]
    },
    {
     "name": "stdout",
     "output_type": "stream",
     "text": [
      "Testing 30 potential triadic pairs\n",
      "Time spent finding triads: 0.0009551048278808594\n",
      "Found 32 connected triads\n",
      "Time spent classifying triads: 0.0030319690704345703\n",
      "Testing 25 potential triadic pairs\n",
      "Time spent finding triads: 0.0008738040924072266\n",
      "Found 25 connected triads\n",
      "Time spent classifying triads: 0.0010514259338378906\n",
      "Testing 45 potential triadic pairs\n",
      "Time spent finding triads: 0.0010237693786621094\n",
      "Found 59 connected triads\n",
      "Time spent classifying triads: 0.002307891845703125\n"
     ]
    },
    {
     "name": "stderr",
     "output_type": "stream",
     "text": [
      " 25%|██▌       | 14/55 [00:00<00:02, 14.47it/s]"
     ]
    },
    {
     "name": "stdout",
     "output_type": "stream",
     "text": [
      "Testing 32 potential triadic pairs\n",
      "Time spent finding triads: 0.0014071464538574219\n",
      "Found 30 connected triads\n",
      "Time spent classifying triads: 0.0028374195098876953\n",
      "Testing 19 potential triadic pairs\n",
      "Time spent finding triads: 0.000843048095703125\n",
      "Found 21 connected triads\n",
      "Time spent classifying triads: 0.0008931159973144531\n",
      "Testing 19 potential triadic pairs\n",
      "Time spent finding triads: 0.0008258819580078125\n",
      "Found 19 connected triads\n",
      "Time spent classifying triads: 0.0008137226104736328\n",
      "Testing 19 potential triadic pairs\n",
      "Time spent finding triads: 0.0008413791656494141\n",
      "Found 27 connected triads\n",
      "Time spent classifying triads: 0.0011157989501953125\n"
     ]
    },
    {
     "name": "stderr",
     "output_type": "stream",
     "text": [
      " 33%|███▎      | 18/55 [00:01<00:02, 14.84it/s]"
     ]
    },
    {
     "name": "stdout",
     "output_type": "stream",
     "text": [
      "Testing 22 potential triadic pairs\n",
      "Time spent finding triads: 0.0009136199951171875\n",
      "Found 22 connected triads\n",
      "Time spent classifying triads: 0.0021088123321533203\n",
      "Testing 30 potential triadic pairs\n",
      "Time spent finding triads: 0.0009205341339111328\n",
      "Found 38 connected triads\n",
      "Time spent classifying triads: 0.0015304088592529297\n",
      "Testing 9 potential triadic pairs\n",
      "Time spent finding triads: 0.0007786750793457031\n",
      "Found 7 connected triads\n",
      "Time spent classifying triads: 0.0003674030303955078\n",
      "Testing 32 potential triadic pairs\n",
      "Time spent finding triads: 0.0009169578552246094\n",
      "Found 32 connected triads\n",
      "Time spent classifying triads: 0.0012874603271484375\n"
     ]
    },
    {
     "name": "stderr",
     "output_type": "stream",
     "text": [
      " 40%|████      | 22/55 [00:01<00:02, 14.77it/s]"
     ]
    },
    {
     "name": "stdout",
     "output_type": "stream",
     "text": [
      "Testing 19 potential triadic pairs\n",
      "Time spent finding triads: 0.00090789794921875\n",
      "Found 23 connected triads\n",
      "Time spent classifying triads: 0.002215147018432617\n",
      "Testing 1 potential triadic pairs\n",
      "Time spent finding triads: 0.0007517337799072266\n",
      "Found 1 connected triads\n",
      "Time spent classifying triads: 0.00018477439880371094\n",
      "Testing 48 potential triadic pairs\n",
      "Time spent finding triads: 0.0010154247283935547\n",
      "Found 59 connected triads\n",
      "Time spent classifying triads: 0.0022802352905273438\n",
      "Testing 14 potential triadic pairs\n",
      "Time spent finding triads: 0.0008070468902587891\n",
      "Found 16 connected triads\n",
      "Time spent classifying triads: 0.0006997585296630859\n"
     ]
    },
    {
     "name": "stderr",
     "output_type": "stream",
     "text": [
      " 47%|████▋     | 26/55 [00:01<00:01, 14.67it/s]"
     ]
    },
    {
     "name": "stdout",
     "output_type": "stream",
     "text": [
      "Testing 29 potential triadic pairs\n",
      "Time spent finding triads: 0.0009665489196777344\n",
      "Found 29 connected triads\n",
      "Time spent classifying triads: 0.0027544498443603516\n",
      "Testing 5 potential triadic pairs\n",
      "Time spent finding triads: 0.0007543563842773438\n",
      "Found 5 connected triads\n",
      "Time spent classifying triads: 0.00029206275939941406\n",
      "Testing 26 potential triadic pairs\n",
      "Time spent finding triads: 0.00087738037109375\n",
      "Found 28 connected triads\n",
      "Time spent classifying triads: 0.0011479854583740234\n",
      "Testing 30 potential triadic pairs\n",
      "Time spent finding triads: 0.0009100437164306641\n",
      "Found 28 connected triads\n",
      "Time spent classifying triads: 0.0011544227600097656\n"
     ]
    },
    {
     "name": "stderr",
     "output_type": "stream",
     "text": [
      " 55%|█████▍    | 30/55 [00:02<00:01, 14.71it/s]"
     ]
    },
    {
     "name": "stdout",
     "output_type": "stream",
     "text": [
      "Testing 22 potential triadic pairs\n",
      "Time spent finding triads: 0.0009224414825439453\n",
      "Found 20 connected triads\n",
      "Time spent classifying triads: 0.0019483566284179688\n",
      "Testing 45 potential triadic pairs\n",
      "Time spent finding triads: 0.0010027885437011719\n",
      "Found 55 connected triads\n",
      "Time spent classifying triads: 0.0025446414947509766\n",
      "Testing 37 potential triadic pairs\n",
      "Time spent finding triads: 0.0009427070617675781\n",
      "Found 40 connected triads\n",
      "Time spent classifying triads: 0.0016057491302490234\n",
      "Testing 46 potential triadic pairs\n",
      "Time spent finding triads: 0.0011181831359863281\n",
      "Found 52 connected triads\n",
      "Time spent classifying triads: 0.004834890365600586\n"
     ]
    },
    {
     "name": "stderr",
     "output_type": "stream",
     "text": [
      " 62%|██████▏   | 34/55 [00:02<00:01, 14.51it/s]"
     ]
    },
    {
     "name": "stdout",
     "output_type": "stream",
     "text": [
      "Testing 26 potential triadic pairs\n",
      "Time spent finding triads: 0.0009462833404541016\n",
      "Found 29 connected triads\n",
      "Time spent classifying triads: 0.0027396678924560547\n",
      "Testing 39 potential triadic pairs\n",
      "Time spent finding triads: 0.0009555816650390625\n",
      "Found 43 connected triads\n",
      "Time spent classifying triads: 0.0017113685607910156\n",
      "Testing 7 potential triadic pairs\n",
      "Time spent finding triads: 0.0007700920104980469\n",
      "Found 7 connected triads\n",
      "Time spent classifying triads: 0.0003654956817626953\n",
      "Testing 12 potential triadic pairs\n",
      "Time spent finding triads: 0.000804901123046875\n",
      "Found 10 connected triads\n",
      "Time spent classifying triads: 0.0004794597625732422\n"
     ]
    },
    {
     "name": "stderr",
     "output_type": "stream",
     "text": [
      " 69%|██████▉   | 38/55 [00:02<00:01, 14.69it/s]"
     ]
    },
    {
     "name": "stdout",
     "output_type": "stream",
     "text": [
      "Testing 11 potential triadic pairs\n",
      "Time spent finding triads: 0.000850677490234375\n",
      "Found 13 connected triads\n",
      "Time spent classifying triads: 0.0012907981872558594\n",
      "Testing 29 potential triadic pairs\n",
      "Time spent finding triads: 0.0008909702301025391\n",
      "Found 27 connected triads\n",
      "Time spent classifying triads: 0.0011107921600341797\n",
      "Testing 15 potential triadic pairs\n",
      "Time spent finding triads: 0.0008220672607421875\n",
      "Found 15 connected triads\n",
      "Time spent classifying triads: 0.0006749629974365234\n"
     ]
    },
    {
     "name": "stderr",
     "output_type": "stream",
     "text": [
      " 76%|███████▋  | 42/55 [00:02<00:00, 14.73it/s]"
     ]
    },
    {
     "name": "stdout",
     "output_type": "stream",
     "text": [
      "Testing 9 potential triadic pairs\n",
      "Time spent finding triads: 0.0014259815216064453\n",
      "Found 9 connected triads\n",
      "Time spent classifying triads: 0.0009386539459228516\n",
      "Testing 28 potential triadic pairs\n",
      "Time spent finding triads: 0.0009000301361083984\n",
      "Found 33 connected triads\n",
      "Time spent classifying triads: 0.001325845718383789\n",
      "Testing 10 potential triadic pairs\n",
      "Time spent finding triads: 0.0007901191711425781\n",
      "Found 10 connected triads\n",
      "Time spent classifying triads: 0.0004868507385253906\n",
      "Testing 7 potential triadic pairs\n",
      "Time spent finding triads: 0.0007691383361816406\n",
      "Found 7 connected triads\n",
      "Time spent classifying triads: 0.00037550926208496094\n"
     ]
    },
    {
     "name": "stderr",
     "output_type": "stream",
     "text": [
      "\r",
      " 80%|████████  | 44/55 [00:03<00:00, 14.67it/s]"
     ]
    },
    {
     "name": "stdout",
     "output_type": "stream",
     "text": [
      "Testing 5 potential triadic pairs\n",
      "Time spent finding triads: 0.0008096694946289062\n",
      "Found 5 connected triads\n",
      "Time spent classifying triads: 0.0005681514739990234\n",
      "Testing 40 potential triadic pairs\n",
      "Time spent finding triads: 0.0009746551513671875\n",
      "Found 44 connected triads\n",
      "Time spent classifying triads: 0.0017421245574951172\n",
      "Testing 42 potential triadic pairs\n",
      "Time spent finding triads: 0.0009799003601074219\n",
      "Found 50 connected triads\n",
      "Time spent classifying triads: 0.0024292469024658203\n",
      "Testing 7 potential triadic pairs\n",
      "Time spent finding triads: 0.0007579326629638672\n",
      "Found 7 connected triads\n",
      "Time spent classifying triads: 0.0003750324249267578\n"
     ]
    },
    {
     "name": "stderr",
     "output_type": "stream",
     "text": [
      " 87%|████████▋ | 48/55 [00:03<00:00, 14.58it/s]"
     ]
    },
    {
     "name": "stdout",
     "output_type": "stream",
     "text": [
      "Testing 24 potential triadic pairs\n",
      "Time spent finding triads: 0.0012581348419189453\n",
      "Found 28 connected triads\n",
      "Time spent classifying triads: 0.0011773109436035156\n",
      "Testing 44 potential triadic pairs\n",
      "Time spent finding triads: 0.0010249614715576172\n",
      "Found 64 connected triads\n",
      "Time spent classifying triads: 0.0024938583374023438\n",
      "Testing 43 potential triadic pairs\n",
      "Time spent finding triads: 0.0010044574737548828\n",
      "Found 46 connected triads\n",
      "Time spent classifying triads: 0.0018224716186523438\n"
     ]
    },
    {
     "name": "stderr",
     "output_type": "stream",
     "text": [
      " 95%|█████████▍| 52/55 [00:03<00:00, 14.58it/s]"
     ]
    },
    {
     "name": "stdout",
     "output_type": "stream",
     "text": [
      "Testing 33 potential triadic pairs\n",
      "Time spent finding triads: 0.001505136489868164\n",
      "Found 33 connected triads\n",
      "Time spent classifying triads: 0.0026979446411132812\n",
      "Testing 4 potential triadic pairs\n",
      "Time spent finding triads: 0.0007548332214355469\n",
      "Found 4 connected triads\n",
      "Time spent classifying triads: 0.0002486705780029297\n",
      "Testing 24 potential triadic pairs\n",
      "Time spent finding triads: 0.0008761882781982422\n",
      "Found 24 connected triads\n",
      "Time spent classifying triads: 0.0009982585906982422\n"
     ]
    },
    {
     "name": "stderr",
     "output_type": "stream",
     "text": [
      "100%|██████████| 55/55 [00:03<00:00, 14.59it/s]\n"
     ]
    },
    {
     "name": "stdout",
     "output_type": "stream",
     "text": [
      "Testing 11 potential triadic pairs\n",
      "Time spent finding triads: 0.0013611316680908203\n",
      "Found 9 connected triads\n",
      "Time spent classifying triads: 0.0007996559143066406\n",
      "Testing 15 potential triadic pairs\n",
      "Time spent finding triads: 0.0008063316345214844\n",
      "Found 13 connected triads\n",
      "Time spent classifying triads: 0.0005977153778076172\n",
      "Testing 27 potential triadic pairs\n",
      "Time spent finding triads: 0.0008862018585205078\n",
      "Found 29 connected triads\n",
      "Time spent classifying triads: 0.0011887550354003906\n"
     ]
    },
    {
     "name": "stderr",
     "output_type": "stream",
     "text": [
      "  7%|▋         | 4/55 [00:00<00:03, 16.66it/s]"
     ]
    },
    {
     "name": "stdout",
     "output_type": "stream",
     "text": [
      "Testing 20 potential triadic pairs\n",
      "Time spent finding triads: 0.0008788108825683594\n",
      "Found 16 connected triads\n",
      "Time spent classifying triads: 0.001577615737915039\n",
      "Testing 32 potential triadic pairs\n",
      "Time spent finding triads: 0.0009164810180664062\n",
      "Found 30 connected triads\n",
      "Time spent classifying triads: 0.0012271404266357422\n",
      "Testing 42 potential triadic pairs\n",
      "Time spent finding triads: 0.0009772777557373047\n",
      "Found 55 connected triads\n",
      "Time spent classifying triads: 0.0021767616271972656\n",
      "Testing 30 potential triadic pairs\n",
      "Time spent finding triads: 0.0008940696716308594\n",
      "Found 30 connected triads\n",
      "Time spent classifying triads: 0.0012302398681640625\n"
     ]
    },
    {
     "name": "stderr",
     "output_type": "stream",
     "text": [
      " 15%|█▍        | 8/55 [00:00<00:02, 16.65it/s]"
     ]
    },
    {
     "name": "stdout",
     "output_type": "stream",
     "text": [
      "Testing 28 potential triadic pairs\n",
      "Time spent finding triads: 0.0009396076202392578\n",
      "Found 28 connected triads\n",
      "Time spent classifying triads: 0.0027141571044921875\n",
      "Testing 29 potential triadic pairs\n",
      "Time spent finding triads: 0.0008990764617919922\n",
      "Found 37 connected triads\n",
      "Time spent classifying triads: 0.0014770030975341797\n",
      "Testing 32 potential triadic pairs\n",
      "Time spent finding triads: 0.0009057521820068359\n",
      "Found 30 connected triads\n",
      "Time spent classifying triads: 0.001245260238647461\n",
      "Testing 8 potential triadic pairs\n",
      "Time spent finding triads: 0.000759124755859375\n",
      "Found 8 connected triads\n",
      "Time spent classifying triads: 0.0004000663757324219\n"
     ]
    },
    {
     "name": "stderr",
     "output_type": "stream",
     "text": [
      " 22%|██▏       | 12/55 [00:00<00:02, 16.54it/s]"
     ]
    },
    {
     "name": "stdout",
     "output_type": "stream",
     "text": [
      "Testing 22 potential triadic pairs\n",
      "Time spent finding triads: 0.0009286403656005859\n",
      "Found 26 connected triads\n",
      "Time spent classifying triads: 0.0024509429931640625\n",
      "Testing 42 potential triadic pairs\n",
      "Time spent finding triads: 0.0009725093841552734\n",
      "Found 43 connected triads\n",
      "Time spent classifying triads: 0.0017209053039550781\n",
      "Testing 29 potential triadic pairs\n",
      "Time spent finding triads: 0.0008969306945800781\n",
      "Found 31 connected triads\n",
      "Time spent classifying triads: 0.0012786388397216797\n",
      "Testing 36 potential triadic pairs\n",
      "Time spent finding triads: 0.0009267330169677734\n",
      "Found 32 connected triads\n",
      "Time spent classifying triads: 0.0013003349304199219\n"
     ]
    },
    {
     "name": "stderr",
     "output_type": "stream",
     "text": [
      " 29%|██▉       | 16/55 [00:00<00:02, 16.82it/s]"
     ]
    },
    {
     "name": "stdout",
     "output_type": "stream",
     "text": [
      "Testing 23 potential triadic pairs\n",
      "Time spent finding triads: 0.0009050369262695312\n",
      "Found 31 connected triads\n",
      "Time spent classifying triads: 0.0029294490814208984\n",
      "Testing 40 potential triadic pairs\n",
      "Time spent finding triads: 0.0009601116180419922\n",
      "Found 47 connected triads\n",
      "Time spent classifying triads: 0.0018687248229980469\n",
      "Testing 21 potential triadic pairs\n",
      "Time spent finding triads: 0.0008413791656494141\n",
      "Found 20 connected triads\n",
      "Time spent classifying triads: 0.0008530616760253906\n",
      "Testing 21 potential triadic pairs\n",
      "Time spent finding triads: 0.0008540153503417969\n",
      "Found 23 connected triads\n",
      "Time spent classifying triads: 0.0009615421295166016\n"
     ]
    },
    {
     "name": "stderr",
     "output_type": "stream",
     "text": [
      " 36%|███▋      | 20/55 [00:01<00:02, 16.94it/s]"
     ]
    },
    {
     "name": "stdout",
     "output_type": "stream",
     "text": [
      "Testing 26 potential triadic pairs\n",
      "Time spent finding triads: 0.00093841552734375\n",
      "Found 28 connected triads\n",
      "Time spent classifying triads: 0.002681255340576172\n",
      "Testing 9 potential triadic pairs\n",
      "Time spent finding triads: 0.0007758140563964844\n",
      "Found 7 connected triads\n",
      "Time spent classifying triads: 0.0003743171691894531\n",
      "Testing 27 potential triadic pairs\n",
      "Time spent finding triads: 0.0008645057678222656\n",
      "Found 27 connected triads\n",
      "Time spent classifying triads: 0.0011212825775146484\n",
      "Testing 7 potential triadic pairs\n",
      "Time spent finding triads: 0.0007522106170654297\n",
      "Found 7 connected triads\n",
      "Time spent classifying triads: 0.00036144256591796875\n"
     ]
    },
    {
     "name": "stderr",
     "output_type": "stream",
     "text": [
      " 44%|████▎     | 24/55 [00:01<00:01, 16.90it/s]"
     ]
    },
    {
     "name": "stdout",
     "output_type": "stream",
     "text": [
      "Testing 37 potential triadic pairs\n",
      "Time spent finding triads: 0.000989675521850586\n",
      "Found 36 connected triads\n",
      "Time spent classifying triads: 0.0033826828002929688\n",
      "Testing 33 potential triadic pairs\n",
      "Time spent finding triads: 0.0009109973907470703\n",
      "Found 34 connected triads\n",
      "Time spent classifying triads: 0.0013780593872070312\n",
      "Testing 26 potential triadic pairs\n",
      "Time spent finding triads: 0.0008628368377685547\n",
      "Found 26 connected triads\n",
      "Time spent classifying triads: 0.0010688304901123047\n",
      "Testing 7 potential triadic pairs\n",
      "Time spent finding triads: 0.0007605552673339844\n",
      "Found 7 connected triads\n",
      "Time spent classifying triads: 0.0003631114959716797\n"
     ]
    },
    {
     "name": "stderr",
     "output_type": "stream",
     "text": [
      " 51%|█████     | 28/55 [00:01<00:01, 16.56it/s]"
     ]
    },
    {
     "name": "stdout",
     "output_type": "stream",
     "text": [
      "Testing 10 potential triadic pairs\n",
      "Time spent finding triads: 0.0008232593536376953\n",
      "Found 10 connected triads\n",
      "Time spent classifying triads: 0.0010223388671875\n",
      "Testing 21 potential triadic pairs\n",
      "Time spent finding triads: 0.0008533000946044922\n",
      "Found 21 connected triads\n",
      "Time spent classifying triads: 0.0009026527404785156\n",
      "Testing 36 potential triadic pairs\n",
      "Time spent finding triads: 0.0009572505950927734\n",
      "Found 43 connected triads\n",
      "Time spent classifying triads: 0.0017268657684326172\n",
      "Testing 26 potential triadic pairs\n",
      "Time spent finding triads: 0.0008807182312011719\n",
      "Found 29 connected triads\n",
      "Time spent classifying triads: 0.0011894702911376953\n"
     ]
    },
    {
     "name": "stderr",
     "output_type": "stream",
     "text": [
      " 58%|█████▊    | 32/55 [00:01<00:01, 16.31it/s]"
     ]
    },
    {
     "name": "stdout",
     "output_type": "stream",
     "text": [
      "Testing 13 potential triadic pairs\n",
      "Time spent finding triads: 0.0008473396301269531\n",
      "Found 11 connected triads\n",
      "Time spent classifying triads: 0.0011165142059326172\n",
      "Testing 50 potential triadic pairs\n",
      "Time spent finding triads: 0.0010132789611816406\n",
      "Found 63 connected triads\n",
      "Time spent classifying triads: 0.002459287643432617\n",
      "Testing 41 potential triadic pairs\n",
      "Time spent finding triads: 0.0009624958038330078\n",
      "Found 49 connected triads\n",
      "Time spent classifying triads: 0.0019245147705078125\n",
      "Testing 52 potential triadic pairs\n",
      "Time spent finding triads: 0.0010352134704589844\n",
      "Found 65 connected triads\n",
      "Time spent classifying triads: 0.0025243759155273438\n"
     ]
    },
    {
     "name": "stderr",
     "output_type": "stream",
     "text": [
      " 65%|██████▌   | 36/55 [00:02<00:01, 16.98it/s]"
     ]
    },
    {
     "name": "stdout",
     "output_type": "stream",
     "text": [
      "Testing 18 potential triadic pairs\n",
      "Time spent finding triads: 0.0008857250213623047\n",
      "Found 16 connected triads\n",
      "Time spent classifying triads: 0.0015673637390136719\n",
      "Testing 34 potential triadic pairs\n",
      "Time spent finding triads: 0.0009210109710693359\n",
      "Found 32 connected triads\n",
      "Time spent classifying triads: 0.0013244152069091797\n",
      "Testing 48 potential triadic pairs\n",
      "Time spent finding triads: 0.0010097026824951172\n",
      "Found 50 connected triads\n",
      "Time spent classifying triads: 0.001973867416381836\n",
      "Testing 3 potential triadic pairs\n",
      "Time spent finding triads: 0.0007269382476806641\n",
      "Found 3 connected triads\n",
      "Time spent classifying triads: 0.00022149085998535156\n"
     ]
    },
    {
     "name": "stderr",
     "output_type": "stream",
     "text": [
      " 73%|███████▎  | 40/55 [00:02<00:00, 16.47it/s]"
     ]
    },
    {
     "name": "stdout",
     "output_type": "stream",
     "text": [
      "Testing 30 potential triadic pairs\n",
      "Time spent finding triads: 0.0009462833404541016\n",
      "Found 30 connected triads\n",
      "Time spent classifying triads: 0.002839326858520508\n",
      "Testing 23 potential triadic pairs\n",
      "Time spent finding triads: 0.0008587837219238281\n",
      "Found 21 connected triads\n",
      "Time spent classifying triads: 0.0008924007415771484\n",
      "Testing 9 potential triadic pairs\n",
      "Time spent finding triads: 0.0007748603820800781\n",
      "Found 9 connected triads\n",
      "Time spent classifying triads: 0.0004355907440185547\n",
      "Testing 14 potential triadic pairs\n",
      "Time spent finding triads: 0.0007963180541992188\n",
      "Found 12 connected triads\n",
      "Time spent classifying triads: 0.0005631446838378906\n"
     ]
    },
    {
     "name": "stderr",
     "output_type": "stream",
     "text": [
      " 80%|████████  | 44/55 [00:02<00:00, 16.28it/s]"
     ]
    },
    {
     "name": "stdout",
     "output_type": "stream",
     "text": [
      "Testing 46 potential triadic pairs\n",
      "Time spent finding triads: 0.001070261001586914\n",
      "Found 54 connected triads\n",
      "Time spent classifying triads: 0.0040187835693359375\n",
      "Testing 21 potential triadic pairs\n",
      "Time spent finding triads: 0.0008418560028076172\n",
      "Found 23 connected triads\n",
      "Time spent classifying triads: 0.0009582042694091797\n",
      "Testing 13 potential triadic pairs\n",
      "Time spent finding triads: 0.0008077621459960938\n",
      "Found 13 connected triads\n",
      "Time spent classifying triads: 0.0005979537963867188\n",
      "Testing 4 potential triadic pairs\n",
      "Time spent finding triads: 0.0007314682006835938\n",
      "Found 4 connected triads\n",
      "Time spent classifying triads: 0.0002617835998535156\n"
     ]
    },
    {
     "name": "stderr",
     "output_type": "stream",
     "text": [
      " 87%|████████▋ | 48/55 [00:02<00:00, 16.73it/s]"
     ]
    },
    {
     "name": "stdout",
     "output_type": "stream",
     "text": [
      "Testing 25 potential triadic pairs\n",
      "Time spent finding triads: 0.0009329319000244141\n",
      "Found 33 connected triads\n",
      "Time spent classifying triads: 0.003129243850708008\n",
      "Testing 8 potential triadic pairs\n",
      "Time spent finding triads: 0.0007548332214355469\n",
      "Found 6 connected triads\n",
      "Time spent classifying triads: 0.00033545494079589844\n",
      "Testing 25 potential triadic pairs\n",
      "Time spent finding triads: 0.0008714199066162109\n",
      "Found 23 connected triads\n",
      "Time spent classifying triads: 0.0009753704071044922\n",
      "Testing 42 potential triadic pairs\n",
      "Time spent finding triads: 0.0009655952453613281\n",
      "Found 46 connected triads\n",
      "Time spent classifying triads: 0.0018227100372314453\n"
     ]
    },
    {
     "name": "stderr",
     "output_type": "stream",
     "text": [
      " 95%|█████████▍| 52/55 [00:03<00:00, 16.43it/s]"
     ]
    },
    {
     "name": "stdout",
     "output_type": "stream",
     "text": [
      "Testing 3 potential triadic pairs\n",
      "Time spent finding triads: 0.0007929801940917969\n",
      "Found 3 connected triads\n",
      "Time spent classifying triads: 0.0003802776336669922\n",
      "Testing 3 potential triadic pairs\n",
      "Time spent finding triads: 0.0007350444793701172\n",
      "Found 3 connected triads\n",
      "Time spent classifying triads: 0.0002117156982421875\n",
      "Testing 42 potential triadic pairs\n",
      "Time spent finding triads: 0.0009753704071044922\n",
      "Found 58 connected triads\n",
      "Time spent classifying triads: 0.0022597312927246094\n",
      "Testing 18 potential triadic pairs\n",
      "Time spent finding triads: 0.0008304119110107422\n",
      "Found 21 connected triads\n",
      "Time spent classifying triads: 0.0008974075317382812\n"
     ]
    },
    {
     "name": "stderr",
     "output_type": "stream",
     "text": [
      "100%|██████████| 55/55 [00:03<00:00, 16.55it/s]\n"
     ]
    },
    {
     "name": "stdout",
     "output_type": "stream",
     "text": [
      "Testing 47 potential triadic pairs\n",
      "Time spent finding triads: 0.001066446304321289\n",
      "Found 56 connected triads\n",
      "Time spent classifying triads: 0.005206584930419922\n",
      "Testing 23 potential triadic pairs\n",
      "Time spent finding triads: 0.0008580684661865234\n",
      "Found 35 connected triads\n",
      "Time spent classifying triads: 0.0014107227325439453\n",
      "Testing 29 potential triadic pairs\n",
      "Time spent finding triads: 0.0009007453918457031\n",
      "Found 32 connected triads\n",
      "Time spent classifying triads: 0.0013017654418945312\n"
     ]
    },
    {
     "name": "stderr",
     "output_type": "stream",
     "text": [
      "  4%|▎         | 2/55 [00:00<00:03, 13.37it/s]"
     ]
    },
    {
     "name": "stdout",
     "output_type": "stream",
     "text": [
      "Testing 20 potential triadic pairs\n",
      "Time spent finding triads: 0.0008914470672607422\n",
      "Found 20 connected triads\n",
      "Time spent classifying triads: 0.0013446807861328125\n",
      "Testing 24 potential triadic pairs\n",
      "Time spent finding triads: 0.0008580684661865234\n",
      "Found 30 connected triads\n",
      "Time spent classifying triads: 0.0012252330780029297\n",
      "Testing 15 potential triadic pairs\n",
      "Time spent finding triads: 0.00081634521484375\n",
      "Found 15 connected triads\n",
      "Time spent classifying triads: 0.0006718635559082031\n"
     ]
    },
    {
     "name": "stderr",
     "output_type": "stream",
     "text": [
      " 11%|█         | 6/55 [00:00<00:03, 13.22it/s]"
     ]
    },
    {
     "name": "stdout",
     "output_type": "stream",
     "text": [
      "Testing 41 potential triadic pairs\n",
      "Time spent finding triads: 0.0010344982147216797\n",
      "Found 53 connected triads\n",
      "Time spent classifying triads: 0.0049211978912353516\n",
      "Testing 15 potential triadic pairs\n",
      "Time spent finding triads: 0.00081634521484375\n",
      "Found 11 connected triads\n",
      "Time spent classifying triads: 0.0005176067352294922\n",
      "Testing 23 potential triadic pairs\n",
      "Time spent finding triads: 0.0008587837219238281\n",
      "Found 27 connected triads\n",
      "Time spent classifying triads: 0.0011060237884521484\n"
     ]
    },
    {
     "name": "stderr",
     "output_type": "stream",
     "text": [
      "\r",
      " 15%|█▍        | 8/55 [00:00<00:03, 13.15it/s]"
     ]
    },
    {
     "name": "stdout",
     "output_type": "stream",
     "text": [
      "Testing 33 potential triadic pairs\n",
      "Time spent finding triads: 0.0009980201721191406\n",
      "Found 43 connected triads\n",
      "Time spent classifying triads: 0.00402069091796875\n",
      "Testing 36 potential triadic pairs\n",
      "Time spent finding triads: 0.0009338855743408203\n",
      "Found 38 connected triads\n",
      "Time spent classifying triads: 0.001529693603515625\n",
      "Testing 5 potential triadic pairs\n",
      "Time spent finding triads: 0.0007560253143310547\n",
      "Found 5 connected triads\n",
      "Time spent classifying triads: 0.0002923011779785156\n"
     ]
    },
    {
     "name": "stderr",
     "output_type": "stream",
     "text": [
      " 22%|██▏       | 12/55 [00:00<00:03, 13.25it/s]"
     ]
    },
    {
     "name": "stdout",
     "output_type": "stream",
     "text": [
      "Testing 41 potential triadic pairs\n",
      "Time spent finding triads: 0.0010349750518798828\n",
      "Found 46 connected triads\n",
      "Time spent classifying triads: 0.004294157028198242\n",
      "Testing 29 potential triadic pairs\n",
      "Time spent finding triads: 0.0009016990661621094\n",
      "Found 29 connected triads\n",
      "Time spent classifying triads: 0.0011954307556152344\n",
      "Testing 17 potential triadic pairs\n",
      "Time spent finding triads: 0.000823974609375\n",
      "Found 15 connected triads\n",
      "Time spent classifying triads: 0.0006804466247558594\n"
     ]
    },
    {
     "name": "stderr",
     "output_type": "stream",
     "text": [
      "\r",
      " 25%|██▌       | 14/55 [00:01<00:03, 13.28it/s]"
     ]
    },
    {
     "name": "stdout",
     "output_type": "stream",
     "text": [
      "Testing 20 potential triadic pairs\n",
      "Time spent finding triads: 0.0009033679962158203\n",
      "Found 18 connected triads\n",
      "Time spent classifying triads: 0.001752614974975586\n",
      "Testing 33 potential triadic pairs\n",
      "Time spent finding triads: 0.0009295940399169922\n",
      "Found 42 connected triads\n",
      "Time spent classifying triads: 0.0016765594482421875\n",
      "Testing 19 potential triadic pairs\n",
      "Time spent finding triads: 0.0008442401885986328\n",
      "Found 19 connected triads\n",
      "Time spent classifying triads: 0.0008258819580078125\n"
     ]
    },
    {
     "name": "stderr",
     "output_type": "stream",
     "text": [
      " 33%|███▎      | 18/55 [00:01<00:02, 13.31it/s]"
     ]
    },
    {
     "name": "stdout",
     "output_type": "stream",
     "text": [
      "Testing 19 potential triadic pairs\n",
      "Time spent finding triads: 0.0008988380432128906\n",
      "Found 19 connected triads\n",
      "Time spent classifying triads: 0.001842498779296875\n",
      "Testing 34 potential triadic pairs\n",
      "Time spent finding triads: 0.0009367465972900391\n",
      "Found 30 connected triads\n",
      "Time spent classifying triads: 0.0012323856353759766\n",
      "Testing 32 potential triadic pairs\n",
      "Time spent finding triads: 0.0009257793426513672\n",
      "Found 38 connected triads\n",
      "Time spent classifying triads: 0.0015244483947753906\n"
     ]
    },
    {
     "name": "stderr",
     "output_type": "stream",
     "text": [
      "\r",
      " 36%|███▋      | 20/55 [00:01<00:02, 13.23it/s]"
     ]
    },
    {
     "name": "stdout",
     "output_type": "stream",
     "text": [
      "Testing 25 potential triadic pairs\n",
      "Time spent finding triads: 0.0009284019470214844\n",
      "Found 29 connected triads\n",
      "Time spent classifying triads: 0.002739429473876953\n",
      "Testing 32 potential triadic pairs\n",
      "Time spent finding triads: 0.0009396076202392578\n",
      "Found 41 connected triads\n",
      "Time spent classifying triads: 0.001641988754272461\n",
      "Testing 22 potential triadic pairs\n",
      "Time spent finding triads: 0.0008556842803955078\n",
      "Found 18 connected triads\n",
      "Time spent classifying triads: 0.0007796287536621094\n"
     ]
    },
    {
     "name": "stderr",
     "output_type": "stream",
     "text": [
      " 44%|████▎     | 24/55 [00:01<00:02, 13.22it/s]"
     ]
    },
    {
     "name": "stdout",
     "output_type": "stream",
     "text": [
      "Testing 21 potential triadic pairs\n",
      "Time spent finding triads: 0.0009031295776367188\n",
      "Found 21 connected triads\n",
      "Time spent classifying triads: 0.002036571502685547\n",
      "Testing 30 potential triadic pairs\n",
      "Time spent finding triads: 0.0009181499481201172\n",
      "Found 33 connected triads\n",
      "Time spent classifying triads: 0.001325368881225586\n",
      "Testing 39 potential triadic pairs\n",
      "Time spent finding triads: 0.0009791851043701172\n",
      "Found 42 connected triads\n",
      "Time spent classifying triads: 0.0016963481903076172\n"
     ]
    },
    {
     "name": "stderr",
     "output_type": "stream",
     "text": [
      "\r",
      " 47%|████▋     | 26/55 [00:01<00:02, 13.12it/s]"
     ]
    },
    {
     "name": "stdout",
     "output_type": "stream",
     "text": [
      "Testing 41 potential triadic pairs\n",
      "Time spent finding triads: 0.001016378402709961\n",
      "Found 39 connected triads\n",
      "Time spent classifying triads: 0.0036275386810302734\n",
      "Testing 44 potential triadic pairs\n",
      "Time spent finding triads: 0.0009984970092773438\n",
      "Found 46 connected triads\n",
      "Time spent classifying triads: 0.0018231868743896484\n",
      "Testing 17 potential triadic pairs\n",
      "Time spent finding triads: 0.0008244514465332031\n",
      "Found 15 connected triads\n",
      "Time spent classifying triads: 0.0006589889526367188\n"
     ]
    },
    {
     "name": "stderr",
     "output_type": "stream",
     "text": [
      " 55%|█████▍    | 30/55 [00:02<00:01, 13.10it/s]"
     ]
    },
    {
     "name": "stdout",
     "output_type": "stream",
     "text": [
      "Testing 37 potential triadic pairs\n",
      "Time spent finding triads: 0.001001596450805664\n",
      "Found 39 connected triads\n",
      "Time spent classifying triads: 0.0036478042602539062\n",
      "Testing 47 potential triadic pairs\n",
      "Time spent finding triads: 0.0010259151458740234\n",
      "Found 59 connected triads\n",
      "Time spent classifying triads: 0.002305746078491211\n",
      "Testing 8 potential triadic pairs\n",
      "Time spent finding triads: 0.0007662773132324219\n",
      "Found 6 connected triads\n",
      "Time spent classifying triads: 0.00033855438232421875\n"
     ]
    },
    {
     "name": "stderr",
     "output_type": "stream",
     "text": [
      "\r",
      " 58%|█████▊    | 32/55 [00:02<00:01, 13.14it/s]"
     ]
    },
    {
     "name": "stdout",
     "output_type": "stream",
     "text": [
      "Testing 32 potential triadic pairs\n",
      "Time spent finding triads: 0.0009670257568359375\n",
      "Found 28 connected triads\n",
      "Time spent classifying triads: 0.0026590824127197266\n",
      "Testing 9 potential triadic pairs\n",
      "Time spent finding triads: 0.0007851123809814453\n",
      "Found 7 connected triads\n",
      "Time spent classifying triads: 0.0003693103790283203\n",
      "Testing 37 potential triadic pairs\n",
      "Time spent finding triads: 0.0009615421295166016\n",
      "Found 45 connected triads\n",
      "Time spent classifying triads: 0.0017821788787841797\n"
     ]
    },
    {
     "name": "stderr",
     "output_type": "stream",
     "text": [
      " 65%|██████▌   | 36/55 [00:02<00:01, 13.25it/s]"
     ]
    },
    {
     "name": "stdout",
     "output_type": "stream",
     "text": [
      "Testing 51 potential triadic pairs\n",
      "Time spent finding triads: 0.0011053085327148438\n",
      "Found 51 connected triads\n",
      "Time spent classifying triads: 0.003692150115966797\n",
      "Testing 6 potential triadic pairs\n",
      "Time spent finding triads: 0.0007700920104980469\n",
      "Found 6 connected triads\n",
      "Time spent classifying triads: 0.00032806396484375\n",
      "Testing 23 potential triadic pairs\n",
      "Time spent finding triads: 0.0008726119995117188\n",
      "Found 23 connected triads\n",
      "Time spent classifying triads: 0.0009717941284179688\n"
     ]
    },
    {
     "name": "stderr",
     "output_type": "stream",
     "text": [
      "\r",
      " 69%|██████▉   | 38/55 [00:02<00:01, 13.17it/s]"
     ]
    },
    {
     "name": "stdout",
     "output_type": "stream",
     "text": [
      "Testing 26 potential triadic pairs\n",
      "Time spent finding triads: 0.0009431838989257812\n",
      "Found 30 connected triads\n",
      "Time spent classifying triads: 0.0028486251831054688\n",
      "Testing 24 potential triadic pairs\n",
      "Time spent finding triads: 0.000865936279296875\n",
      "Found 22 connected triads\n",
      "Time spent classifying triads: 0.0009238719940185547\n",
      "Testing 11 potential triadic pairs\n",
      "Time spent finding triads: 0.0007987022399902344\n",
      "Found 9 connected triads\n",
      "Time spent classifying triads: 0.0004401206970214844\n"
     ]
    },
    {
     "name": "stderr",
     "output_type": "stream",
     "text": [
      " 76%|███████▋  | 42/55 [00:03<00:00, 13.19it/s]"
     ]
    },
    {
     "name": "stdout",
     "output_type": "stream",
     "text": [
      "Testing 23 potential triadic pairs\n",
      "Time spent finding triads: 0.0009424686431884766\n",
      "Found 25 connected triads\n",
      "Time spent classifying triads: 0.002397775650024414\n",
      "Testing 24 potential triadic pairs\n",
      "Time spent finding triads: 0.0008716583251953125\n",
      "Found 22 connected triads\n",
      "Time spent classifying triads: 0.0009233951568603516\n",
      "Testing 33 potential triadic pairs\n",
      "Time spent finding triads: 0.0009429454803466797\n",
      "Found 40 connected triads\n",
      "Time spent classifying triads: 0.0015909671783447266\n"
     ]
    },
    {
     "name": "stderr",
     "output_type": "stream",
     "text": [
      "\r",
      " 80%|████████  | 44/55 [00:03<00:00, 13.17it/s]"
     ]
    },
    {
     "name": "stdout",
     "output_type": "stream",
     "text": [
      "Testing 3 potential triadic pairs\n",
      "Time spent finding triads: 0.00078582763671875\n",
      "Found 3 connected triads\n",
      "Time spent classifying triads: 0.0003898143768310547\n",
      "Testing 46 potential triadic pairs\n",
      "Time spent finding triads: 0.0010020732879638672\n",
      "Found 51 connected triads\n",
      "Time spent classifying triads: 0.0020062923431396484\n",
      "Testing 28 potential triadic pairs\n",
      "Time spent finding triads: 0.0009014606475830078\n",
      "Found 32 connected triads\n",
      "Time spent classifying triads: 0.0013132095336914062\n"
     ]
    },
    {
     "name": "stderr",
     "output_type": "stream",
     "text": [
      " 87%|████████▋ | 48/55 [00:03<00:00, 13.30it/s]"
     ]
    },
    {
     "name": "stdout",
     "output_type": "stream",
     "text": [
      "Testing 9 potential triadic pairs\n",
      "Time spent finding triads: 0.0008363723754882812\n",
      "Found 9 connected triads\n",
      "Time spent classifying triads: 0.0009446144104003906\n",
      "Testing 5 potential triadic pairs\n",
      "Time spent finding triads: 0.0007460117340087891\n",
      "Found 5 connected triads\n",
      "Time spent classifying triads: 0.00029969215393066406\n",
      "Testing 18 potential triadic pairs\n",
      "Time spent finding triads: 0.0008308887481689453\n",
      "Found 14 connected triads\n",
      "Time spent classifying triads: 0.0006341934204101562\n"
     ]
    },
    {
     "name": "stderr",
     "output_type": "stream",
     "text": [
      "\r",
      " 91%|█████████ | 50/55 [00:03<00:00, 13.24it/s]"
     ]
    },
    {
     "name": "stdout",
     "output_type": "stream",
     "text": [
      "Testing 15 potential triadic pairs\n",
      "Time spent finding triads: 0.0008609294891357422\n",
      "Found 13 connected triads\n",
      "Time spent classifying triads: 0.0012917518615722656\n",
      "Testing 47 potential triadic pairs\n",
      "Time spent finding triads: 0.0010247230529785156\n",
      "Found 49 connected triads\n",
      "Time spent classifying triads: 0.0019409656524658203\n",
      "Testing 7 potential triadic pairs\n",
      "Time spent finding triads: 0.0007734298706054688\n",
      "Found 7 connected triads\n",
      "Time spent classifying triads: 0.0003628730773925781\n"
     ]
    },
    {
     "name": "stderr",
     "output_type": "stream",
     "text": [
      " 98%|█████████▊| 54/55 [00:04<00:00, 13.29it/s]"
     ]
    },
    {
     "name": "stdout",
     "output_type": "stream",
     "text": [
      "Testing 12 potential triadic pairs\n",
      "Time spent finding triads: 0.0008571147918701172\n",
      "Found 10 connected triads\n",
      "Time spent classifying triads: 0.0010352134704589844\n",
      "Testing 24 potential triadic pairs\n",
      "Time spent finding triads: 0.0008783340454101562\n",
      "Found 26 connected triads\n",
      "Time spent classifying triads: 0.0010786056518554688\n",
      "Testing 31 potential triadic pairs\n",
      "Time spent finding triads: 0.0009329319000244141\n",
      "Found 31 connected triads\n",
      "Time spent classifying triads: 0.0012617111206054688\n"
     ]
    },
    {
     "name": "stderr",
     "output_type": "stream",
     "text": [
      "100%|██████████| 55/55 [00:04<00:00, 13.19it/s]\n"
     ]
    },
    {
     "name": "stdout",
     "output_type": "stream",
     "text": [
      "Testing 47 potential triadic pairs\n",
      "Time spent finding triads: 0.001051187515258789\n",
      "Found 50 connected triads\n",
      "Time spent classifying triads: 0.004517316818237305\n"
     ]
    },
    {
     "name": "stderr",
     "output_type": "stream",
     "text": [
      "  4%|▎         | 2/55 [00:00<00:03, 16.95it/s]"
     ]
    },
    {
     "name": "stdout",
     "output_type": "stream",
     "text": [
      "Testing 24 potential triadic pairs\n",
      "Time spent finding triads: 0.0009186267852783203\n",
      "Found 22 connected triads\n",
      "Time spent classifying triads: 0.002115964889526367\n",
      "Testing 31 potential triadic pairs\n",
      "Time spent finding triads: 0.0009081363677978516\n",
      "Found 32 connected triads\n",
      "Time spent classifying triads: 0.0012917518615722656\n"
     ]
    },
    {
     "name": "stderr",
     "output_type": "stream",
     "text": [
      "\r",
      "  7%|▋         | 4/55 [00:00<00:03, 16.44it/s]"
     ]
    },
    {
     "name": "stdout",
     "output_type": "stream",
     "text": [
      "Testing 5 potential triadic pairs\n",
      "Time spent finding triads: 0.0010716915130615234\n",
      "Found 5 connected triads\n",
      "Time spent classifying triads: 0.0003008842468261719\n",
      "Testing 22 potential triadic pairs\n",
      "Time spent finding triads: 0.0008561611175537109\n",
      "Found 18 connected triads\n",
      "Time spent classifying triads: 0.0007774829864501953\n"
     ]
    },
    {
     "name": "stderr",
     "output_type": "stream",
     "text": [
      "\r",
      " 11%|█         | 6/55 [00:00<00:02, 16.88it/s]"
     ]
    },
    {
     "name": "stdout",
     "output_type": "stream",
     "text": [
      "Testing 16 potential triadic pairs\n",
      "Time spent finding triads: 0.0008783340454101562\n",
      "Found 14 connected triads\n",
      "Time spent classifying triads: 0.0013935565948486328\n",
      "Testing 4 potential triadic pairs\n",
      "Time spent finding triads: 0.00074005126953125\n",
      "Found 4 connected triads\n",
      "Time spent classifying triads: 0.0002522468566894531\n"
     ]
    },
    {
     "name": "stderr",
     "output_type": "stream",
     "text": [
      "\r",
      " 15%|█▍        | 8/55 [00:00<00:02, 17.12it/s]"
     ]
    },
    {
     "name": "stdout",
     "output_type": "stream",
     "text": [
      "Testing 44 potential triadic pairs\n",
      "Time spent finding triads: 0.001031637191772461\n",
      "Found 38 connected triads\n",
      "Time spent classifying triads: 0.0035867691040039062\n",
      "Testing 41 potential triadic pairs\n",
      "Time spent finding triads: 0.0009682178497314453\n",
      "Found 50 connected triads\n",
      "Time spent classifying triads: 0.0019636154174804688\n"
     ]
    },
    {
     "name": "stderr",
     "output_type": "stream",
     "text": [
      "\r",
      " 18%|█▊        | 10/55 [00:00<00:02, 16.60it/s]"
     ]
    },
    {
     "name": "stdout",
     "output_type": "stream",
     "text": [
      "Testing 31 potential triadic pairs\n",
      "Time spent finding triads: 0.0009679794311523438\n",
      "Found 33 connected triads\n",
      "Time spent classifying triads: 0.0031158924102783203\n",
      "Testing 13 potential triadic pairs\n",
      "Time spent finding triads: 0.0008013248443603516\n",
      "Found 13 connected triads\n",
      "Time spent classifying triads: 0.0005908012390136719\n"
     ]
    },
    {
     "name": "stderr",
     "output_type": "stream",
     "text": [
      "\r",
      " 22%|██▏       | 12/55 [00:00<00:02, 16.75it/s]"
     ]
    },
    {
     "name": "stdout",
     "output_type": "stream",
     "text": [
      "Testing 2 potential triadic pairs\n",
      "Time spent finding triads: 0.0007882118225097656\n",
      "Found 2 connected triads\n",
      "Time spent classifying triads: 0.0002949237823486328\n",
      "Testing 27 potential triadic pairs\n",
      "Time spent finding triads: 0.0008881092071533203\n",
      "Found 37 connected triads\n",
      "Time spent classifying triads: 0.0015077590942382812\n"
     ]
    },
    {
     "name": "stderr",
     "output_type": "stream",
     "text": [
      "\r",
      " 25%|██▌       | 14/55 [00:00<00:02, 16.91it/s]"
     ]
    },
    {
     "name": "stdout",
     "output_type": "stream",
     "text": [
      "Testing 13 potential triadic pairs\n",
      "Time spent finding triads: 0.0008544921875\n",
      "Found 15 connected triads\n",
      "Time spent classifying triads: 0.0014925003051757812\n",
      "Testing 25 potential triadic pairs\n",
      "Time spent finding triads: 0.0008654594421386719\n",
      "Found 23 connected triads\n",
      "Time spent classifying triads: 0.0009627342224121094\n"
     ]
    },
    {
     "name": "stderr",
     "output_type": "stream",
     "text": [
      "\r",
      " 29%|██▉       | 16/55 [00:00<00:02, 17.14it/s]"
     ]
    },
    {
     "name": "stdout",
     "output_type": "stream",
     "text": [
      "Testing 8 potential triadic pairs\n",
      "Time spent finding triads: 0.0008091926574707031\n",
      "Found 8 connected triads\n",
      "Time spent classifying triads: 0.0008435249328613281\n",
      "Testing 23 potential triadic pairs\n",
      "Time spent finding triads: 0.0008580684661865234\n",
      "Found 23 connected triads\n",
      "Time spent classifying triads: 0.0009720325469970703\n"
     ]
    },
    {
     "name": "stderr",
     "output_type": "stream",
     "text": [
      "\r",
      " 33%|███▎      | 18/55 [00:01<00:02, 17.20it/s]"
     ]
    },
    {
     "name": "stdout",
     "output_type": "stream",
     "text": [
      "Testing 25 potential triadic pairs\n",
      "Time spent finding triads: 0.0009181499481201172\n",
      "Found 33 connected triads\n",
      "Time spent classifying triads: 0.0031168460845947266\n",
      "Testing 23 potential triadic pairs\n",
      "Time spent finding triads: 0.0008466243743896484\n",
      "Found 21 connected triads\n",
      "Time spent classifying triads: 0.0008962154388427734\n"
     ]
    },
    {
     "name": "stderr",
     "output_type": "stream",
     "text": [
      "\r",
      " 36%|███▋      | 20/55 [00:01<00:02, 16.59it/s]"
     ]
    },
    {
     "name": "stdout",
     "output_type": "stream",
     "text": [
      "Testing 34 potential triadic pairs\n",
      "Time spent finding triads: 0.0009768009185791016\n",
      "Found 33 connected triads\n",
      "Time spent classifying triads: 0.003154277801513672\n",
      "Testing 40 potential triadic pairs\n",
      "Time spent finding triads: 0.0009615421295166016\n",
      "Found 44 connected triads\n",
      "Time spent classifying triads: 0.0017538070678710938\n"
     ]
    },
    {
     "name": "stderr",
     "output_type": "stream",
     "text": [
      "\r",
      " 40%|████      | 22/55 [00:01<00:01, 16.51it/s]"
     ]
    },
    {
     "name": "stdout",
     "output_type": "stream",
     "text": [
      "Testing 35 potential triadic pairs\n",
      "Time spent finding triads: 0.0009696483612060547\n",
      "Found 31 connected triads\n",
      "Time spent classifying triads: 0.002935647964477539\n",
      "Testing 22 potential triadic pairs\n",
      "Time spent finding triads: 0.0008528232574462891\n",
      "Found 20 connected triads\n",
      "Time spent classifying triads: 0.0008618831634521484\n"
     ]
    },
    {
     "name": "stderr",
     "output_type": "stream",
     "text": [
      "\r",
      " 44%|████▎     | 24/55 [00:01<00:01, 16.58it/s]"
     ]
    },
    {
     "name": "stdout",
     "output_type": "stream",
     "text": [
      "Testing 40 potential triadic pairs\n",
      "Time spent finding triads: 0.0010104179382324219\n",
      "Found 44 connected triads\n",
      "Time spent classifying triads: 0.00410914421081543\n",
      "Testing 40 potential triadic pairs\n",
      "Time spent finding triads: 0.0009577274322509766\n",
      "Found 42 connected triads\n",
      "Time spent classifying triads: 0.001661539077758789\n"
     ]
    },
    {
     "name": "stderr",
     "output_type": "stream",
     "text": [
      "\r",
      " 47%|████▋     | 26/55 [00:01<00:01, 16.25it/s]"
     ]
    },
    {
     "name": "stdout",
     "output_type": "stream",
     "text": [
      "Testing 38 potential triadic pairs\n",
      "Time spent finding triads: 0.0009925365447998047\n",
      "Found 40 connected triads\n",
      "Time spent classifying triads: 0.0037436485290527344\n",
      "Testing 5 potential triadic pairs\n",
      "Time spent finding triads: 0.0007507801055908203\n",
      "Found 5 connected triads\n",
      "Time spent classifying triads: 0.00028777122497558594\n"
     ]
    },
    {
     "name": "stderr",
     "output_type": "stream",
     "text": [
      "\r",
      " 51%|█████     | 28/55 [00:01<00:01, 16.47it/s]"
     ]
    },
    {
     "name": "stdout",
     "output_type": "stream",
     "text": [
      "Testing 49 potential triadic pairs\n",
      "Time spent finding triads: 0.0010924339294433594\n",
      "Found 70 connected triads\n",
      "Time spent classifying triads: 0.006444692611694336\n",
      "Testing 20 potential triadic pairs\n",
      "Time spent finding triads: 0.0008401870727539062\n",
      "Found 18 connected triads\n",
      "Time spent classifying triads: 0.0007810592651367188\n"
     ]
    },
    {
     "name": "stderr",
     "output_type": "stream",
     "text": [
      "\r",
      " 55%|█████▍    | 30/55 [00:01<00:01, 16.61it/s]"
     ]
    },
    {
     "name": "stdout",
     "output_type": "stream",
     "text": [
      "Testing 20 potential triadic pairs\n",
      "Time spent finding triads: 0.0008933544158935547\n",
      "Found 18 connected triads\n",
      "Time spent classifying triads: 0.0017371177673339844\n",
      "Testing 10 potential triadic pairs\n",
      "Time spent finding triads: 0.0007910728454589844\n",
      "Found 10 connected triads\n",
      "Time spent classifying triads: 0.0004832744598388672\n"
     ]
    },
    {
     "name": "stderr",
     "output_type": "stream",
     "text": [
      "\r",
      " 58%|█████▊    | 32/55 [00:01<00:01, 16.38it/s]"
     ]
    },
    {
     "name": "stdout",
     "output_type": "stream",
     "text": [
      "Testing 15 potential triadic pairs\n",
      "Time spent finding triads: 0.0008618831634521484\n",
      "Found 15 connected triads\n",
      "Time spent classifying triads: 0.0014843940734863281\n",
      "Testing 32 potential triadic pairs\n",
      "Time spent finding triads: 0.0009162425994873047\n",
      "Found 37 connected triads\n",
      "Time spent classifying triads: 0.0014870166778564453\n"
     ]
    },
    {
     "name": "stderr",
     "output_type": "stream",
     "text": [
      "\r",
      " 62%|██████▏   | 34/55 [00:02<00:01, 16.58it/s]"
     ]
    },
    {
     "name": "stdout",
     "output_type": "stream",
     "text": [
      "Testing 29 potential triadic pairs\n",
      "Time spent finding triads: 0.0009529590606689453\n",
      "Found 27 connected triads\n",
      "Time spent classifying triads: 0.002604246139526367\n",
      "Testing 21 potential triadic pairs\n",
      "Time spent finding triads: 0.0008456707000732422\n",
      "Found 21 connected triads\n",
      "Time spent classifying triads: 0.0008852481842041016\n"
     ]
    },
    {
     "name": "stderr",
     "output_type": "stream",
     "text": [
      "\r",
      " 65%|██████▌   | 36/55 [00:02<00:01, 16.96it/s]"
     ]
    },
    {
     "name": "stdout",
     "output_type": "stream",
     "text": [
      "Testing 14 potential triadic pairs\n",
      "Time spent finding triads: 0.0008330345153808594\n",
      "Found 16 connected triads\n",
      "Time spent classifying triads: 0.0015690326690673828\n",
      "Testing 9 potential triadic pairs\n",
      "Time spent finding triads: 0.0007636547088623047\n",
      "Found 7 connected triads\n",
      "Time spent classifying triads: 0.00037217140197753906\n"
     ]
    },
    {
     "name": "stderr",
     "output_type": "stream",
     "text": [
      "\r",
      " 69%|██████▉   | 38/55 [00:02<00:01, 16.58it/s]"
     ]
    },
    {
     "name": "stdout",
     "output_type": "stream",
     "text": [
      "Testing 15 potential triadic pairs\n",
      "Time spent finding triads: 0.0008580684661865234\n",
      "Found 15 connected triads\n",
      "Time spent classifying triads: 0.0014872550964355469\n",
      "Testing 25 potential triadic pairs\n",
      "Time spent finding triads: 0.000881195068359375\n",
      "Found 29 connected triads\n",
      "Time spent classifying triads: 0.0011823177337646484\n"
     ]
    },
    {
     "name": "stderr",
     "output_type": "stream",
     "text": [
      "\r",
      " 73%|███████▎  | 40/55 [00:02<00:00, 16.38it/s]"
     ]
    },
    {
     "name": "stdout",
     "output_type": "stream",
     "text": [
      "Testing 17 potential triadic pairs\n",
      "Time spent finding triads: 0.0008776187896728516\n",
      "Found 19 connected triads\n",
      "Time spent classifying triads: 0.0018253326416015625\n",
      "Testing 32 potential triadic pairs\n",
      "Time spent finding triads: 0.0009083747863769531\n",
      "Found 34 connected triads\n",
      "Time spent classifying triads: 0.0013718605041503906\n"
     ]
    },
    {
     "name": "stderr",
     "output_type": "stream",
     "text": [
      "\r",
      " 76%|███████▋  | 42/55 [00:02<00:00, 16.30it/s]"
     ]
    },
    {
     "name": "stdout",
     "output_type": "stream",
     "text": [
      "Testing 6 potential triadic pairs\n",
      "Time spent finding triads: 0.0008063316345214844\n",
      "Found 6 connected triads\n",
      "Time spent classifying triads: 0.0006585121154785156\n",
      "Testing 19 potential triadic pairs\n",
      "Time spent finding triads: 0.0008406639099121094\n",
      "Found 18 connected triads\n",
      "Time spent classifying triads: 0.0007729530334472656\n"
     ]
    },
    {
     "name": "stderr",
     "output_type": "stream",
     "text": [
      "\r",
      " 80%|████████  | 44/55 [00:02<00:00, 16.58it/s]"
     ]
    },
    {
     "name": "stdout",
     "output_type": "stream",
     "text": [
      "Testing 21 potential triadic pairs\n",
      "Time spent finding triads: 0.0008845329284667969\n",
      "Found 23 connected triads\n",
      "Time spent classifying triads: 0.002209901809692383\n",
      "Testing 14 potential triadic pairs\n",
      "Time spent finding triads: 0.0008006095886230469\n",
      "Found 18 connected triads\n",
      "Time spent classifying triads: 0.0007722377777099609\n"
     ]
    },
    {
     "name": "stderr",
     "output_type": "stream",
     "text": [
      "\r",
      " 84%|████████▎ | 46/55 [00:02<00:00, 16.57it/s]"
     ]
    },
    {
     "name": "stdout",
     "output_type": "stream",
     "text": [
      "Testing 18 potential triadic pairs\n",
      "Time spent finding triads: 0.0008645057678222656\n",
      "Found 16 connected triads\n",
      "Time spent classifying triads: 0.0015745162963867188\n",
      "Testing 22 potential triadic pairs\n",
      "Time spent finding triads: 0.0008451938629150391\n",
      "Found 27 connected triads\n",
      "Time spent classifying triads: 0.00110626220703125\n"
     ]
    },
    {
     "name": "stderr",
     "output_type": "stream",
     "text": [
      "\r",
      " 87%|████████▋ | 48/55 [00:02<00:00, 16.61it/s]"
     ]
    },
    {
     "name": "stdout",
     "output_type": "stream",
     "text": [
      "Testing 5 potential triadic pairs\n",
      "Time spent finding triads: 0.0007853507995605469\n",
      "Found 5 connected triads\n",
      "Time spent classifying triads: 0.0005750656127929688\n",
      "Testing 19 potential triadic pairs\n",
      "Time spent finding triads: 0.0008385181427001953\n",
      "Found 22 connected triads\n",
      "Time spent classifying triads: 0.0009293556213378906\n"
     ]
    },
    {
     "name": "stderr",
     "output_type": "stream",
     "text": [
      "\r",
      " 91%|█████████ | 50/55 [00:03<00:00, 16.37it/s]"
     ]
    },
    {
     "name": "stdout",
     "output_type": "stream",
     "text": [
      "Testing 43 potential triadic pairs\n",
      "Time spent finding triads: 0.0010271072387695312\n",
      "Found 41 connected triads\n",
      "Time spent classifying triads: 0.0038259029388427734\n",
      "Testing 33 potential triadic pairs\n",
      "Time spent finding triads: 0.0009174346923828125\n",
      "Found 31 connected triads\n",
      "Time spent classifying triads: 0.0012714862823486328\n"
     ]
    },
    {
     "name": "stderr",
     "output_type": "stream",
     "text": [
      "\r",
      " 95%|█████████▍| 52/55 [00:03<00:00, 16.55it/s]"
     ]
    },
    {
     "name": "stdout",
     "output_type": "stream",
     "text": [
      "Testing 12 potential triadic pairs\n",
      "Time spent finding triads: 0.0008482933044433594\n",
      "Found 16 connected triads\n",
      "Time spent classifying triads: 0.0015869140625\n",
      "Testing 10 potential triadic pairs\n",
      "Time spent finding triads: 0.0007839202880859375\n",
      "Found 8 connected triads\n",
      "Time spent classifying triads: 0.0004093647003173828\n"
     ]
    },
    {
     "name": "stderr",
     "output_type": "stream",
     "text": [
      "\r",
      " 98%|█████████▊| 54/55 [00:03<00:00, 16.21it/s]"
     ]
    },
    {
     "name": "stdout",
     "output_type": "stream",
     "text": [
      "Testing 39 potential triadic pairs\n",
      "Time spent finding triads: 0.0010073184967041016\n",
      "Found 47 connected triads\n",
      "Time spent classifying triads: 0.004374504089355469\n",
      "Testing 17 potential triadic pairs\n",
      "Time spent finding triads: 0.0008285045623779297\n",
      "Found 15 connected triads\n",
      "Time spent classifying triads: 0.0006697177886962891\n"
     ]
    },
    {
     "name": "stderr",
     "output_type": "stream",
     "text": [
      "100%|██████████| 55/55 [00:03<00:00, 16.57it/s]\n"
     ]
    },
    {
     "name": "stdout",
     "output_type": "stream",
     "text": [
      "Testing 38 potential triadic pairs\n",
      "Time spent finding triads: 0.0010111331939697266\n",
      "Found 38 connected triads\n",
      "Time spent classifying triads: 0.0035736560821533203\n"
     ]
    },
    {
     "name": "stderr",
     "output_type": "stream",
     "text": [
      "  4%|▎         | 2/55 [00:00<00:03, 15.09it/s]"
     ]
    },
    {
     "name": "stdout",
     "output_type": "stream",
     "text": [
      "Testing 35 potential triadic pairs\n",
      "Time spent finding triads: 0.0009779930114746094\n",
      "Found 35 connected triads\n",
      "Time spent classifying triads: 0.0033087730407714844\n",
      "Testing 28 potential triadic pairs\n",
      "Time spent finding triads: 0.0008921623229980469\n",
      "Found 30 connected triads\n",
      "Time spent classifying triads: 0.0012302398681640625\n",
      "Testing 33 potential triadic pairs\n",
      "Time spent finding triads: 0.0013272762298583984\n",
      "Found 34 connected triads\n",
      "Time spent classifying triads: 0.003211498260498047\n",
      "Testing 30 potential triadic pairs\n",
      "Time spent finding triads: 0.0008997917175292969\n",
      "Found 28 connected triads\n",
      "Time spent classifying triads: 0.001155853271484375\n"
     ]
    },
    {
     "name": "stderr",
     "output_type": "stream",
     "text": [
      "\r",
      "  7%|▋         | 4/55 [00:00<00:03, 14.87it/s]"
     ]
    },
    {
     "name": "stdout",
     "output_type": "stream",
     "text": [
      "Testing 37 potential triadic pairs\n",
      "Time spent finding triads: 0.0010194778442382812\n",
      "Found 47 connected triads\n",
      "Time spent classifying triads: 0.004427671432495117\n",
      "Testing 25 potential triadic pairs\n",
      "Time spent finding triads: 0.0008807182312011719\n",
      "Found 23 connected triads\n",
      "Time spent classifying triads: 0.0017926692962646484\n"
     ]
    },
    {
     "name": "stderr",
     "output_type": "stream",
     "text": [
      " 15%|█▍        | 8/55 [00:00<00:03, 14.94it/s]"
     ]
    },
    {
     "name": "stdout",
     "output_type": "stream",
     "text": [
      "Testing 3 potential triadic pairs\n",
      "Time spent finding triads: 0.0007975101470947266\n",
      "Found 3 connected triads\n",
      "Time spent classifying triads: 0.0003867149353027344\n",
      "Testing 10 potential triadic pairs\n",
      "Time spent finding triads: 0.0007753372192382812\n",
      "Found 8 connected triads\n",
      "Time spent classifying triads: 0.0004203319549560547\n"
     ]
    },
    {
     "name": "stderr",
     "output_type": "stream",
     "text": [
      "\r",
      " 18%|█▊        | 10/55 [00:00<00:02, 15.20it/s]"
     ]
    },
    {
     "name": "stdout",
     "output_type": "stream",
     "text": [
      "Testing 1 potential triadic pairs\n",
      "Time spent finding triads: 0.0007729530334472656\n",
      "Found 1 connected triads\n",
      "Time spent classifying triads: 0.00018167495727539062\n",
      "Testing 20 potential triadic pairs\n",
      "Time spent finding triads: 0.0008440017700195312\n",
      "Found 22 connected triads\n",
      "Time spent classifying triads: 0.0009224414825439453\n"
     ]
    },
    {
     "name": "stderr",
     "output_type": "stream",
     "text": [
      "\r",
      " 22%|██▏       | 12/55 [00:00<00:02, 15.29it/s]"
     ]
    },
    {
     "name": "stdout",
     "output_type": "stream",
     "text": [
      "Testing 6 potential triadic pairs\n",
      "Time spent finding triads: 0.0008203983306884766\n",
      "Found 6 connected triads\n",
      "Time spent classifying triads: 0.0006690025329589844\n",
      "Testing 4 potential triadic pairs\n",
      "Time spent finding triads: 0.0007414817810058594\n",
      "Found 4 connected triads\n",
      "Time spent classifying triads: 0.0002522468566894531\n",
      "Testing 55 potential triadic pairs\n",
      "Time spent finding triads: 0.0011186599731445312\n",
      "Found 64 connected triads\n",
      "Time spent classifying triads: 0.005942821502685547\n",
      "Testing 44 potential triadic pairs\n",
      "Time spent finding triads: 0.0009949207305908203\n",
      "Found 49 connected triads\n",
      "Time spent classifying triads: 0.0019326210021972656\n"
     ]
    },
    {
     "name": "stderr",
     "output_type": "stream",
     "text": [
      "\r",
      " 25%|██▌       | 14/55 [00:00<00:02, 14.88it/s]"
     ]
    },
    {
     "name": "stdout",
     "output_type": "stream",
     "text": [
      "Testing 32 potential triadic pairs\n",
      "Time spent finding triads: 0.0009753704071044922\n",
      "Found 31 connected triads\n",
      "Time spent classifying triads: 0.002938985824584961\n",
      "Testing 48 potential triadic pairs\n",
      "Time spent finding triads: 0.0010514259338378906\n",
      "Found 54 connected triads\n"
     ]
    },
    {
     "name": "stderr",
     "output_type": "stream",
     "text": [
      "\r",
      " 29%|██▉       | 16/55 [00:01<00:02, 14.69it/s]"
     ]
    },
    {
     "name": "stdout",
     "output_type": "stream",
     "text": [
      "Time spent classifying triads: 0.00531315803527832\n",
      "Testing 49 potential triadic pairs\n",
      "Time spent finding triads: 0.001155853271484375\n",
      "Found 52 connected triads\n",
      "Time spent classifying triads: 0.002049684524536133\n",
      "Testing 45 potential triadic pairs\n",
      "Time spent finding triads: 0.000993967056274414\n",
      "Found 49 connected triads\n",
      "Time spent classifying triads: 0.002347230911254883\n"
     ]
    },
    {
     "name": "stderr",
     "output_type": "stream",
     "text": [
      "\r",
      " 33%|███▎      | 18/55 [00:01<00:02, 14.86it/s]"
     ]
    },
    {
     "name": "stdout",
     "output_type": "stream",
     "text": [
      "Testing 17 potential triadic pairs\n",
      "Time spent finding triads: 0.0008873939514160156\n",
      "Found 17 connected triads\n",
      "Time spent classifying triads: 0.0016684532165527344\n"
     ]
    },
    {
     "name": "stderr",
     "output_type": "stream",
     "text": [
      " 40%|████      | 22/55 [00:01<00:02, 15.01it/s]"
     ]
    },
    {
     "name": "stdout",
     "output_type": "stream",
     "text": [
      "Testing 40 potential triadic pairs\n",
      "Time spent finding triads: 0.0010237693786621094\n",
      "Found 41 connected triads\n",
      "Time spent classifying triads: 0.0038487911224365234\n",
      "Testing 16 potential triadic pairs\n",
      "Time spent finding triads: 0.0008230209350585938\n",
      "Found 16 connected triads\n",
      "Time spent classifying triads: 0.0007090568542480469\n",
      "Testing 15 potential triadic pairs\n",
      "Time spent finding triads: 0.0008058547973632812\n",
      "Found 15 connected triads\n",
      "Time spent classifying triads: 0.0006570816040039062\n",
      "Testing 13 potential triadic pairs\n",
      "Time spent finding triads: 0.0008606910705566406\n",
      "Found 15 connected triads\n",
      "Time spent classifying triads: 0.0014808177947998047\n"
     ]
    },
    {
     "name": "stderr",
     "output_type": "stream",
     "text": [
      " 47%|████▋     | 26/55 [00:01<00:01, 15.09it/s]"
     ]
    },
    {
     "name": "stdout",
     "output_type": "stream",
     "text": [
      "Testing 5 potential triadic pairs\n",
      "Time spent finding triads: 0.0008041858673095703\n",
      "Found 5 connected triads\n",
      "Time spent classifying triads: 0.0005750656127929688\n",
      "Testing 20 potential triadic pairs\n",
      "Time spent finding triads: 0.0008497238159179688\n",
      "Found 20 connected triads\n",
      "Time spent classifying triads: 0.0008504390716552734\n",
      "Testing 26 potential triadic pairs\n",
      "Time spent finding triads: 0.0008757114410400391\n",
      "Found 24 connected triads\n",
      "Time spent classifying triads: 0.0010118484497070312\n",
      "Testing 29 potential triadic pairs\n",
      "Time spent finding triads: 0.0009717941284179688\n",
      "Found 32 connected triads\n",
      "Time spent classifying triads: 0.0030393600463867188\n"
     ]
    },
    {
     "name": "stderr",
     "output_type": "stream",
     "text": [
      " 55%|█████▍    | 30/55 [00:02<00:01, 15.15it/s]"
     ]
    },
    {
     "name": "stdout",
     "output_type": "stream",
     "text": [
      "Testing 29 potential triadic pairs\n",
      "Time spent finding triads: 0.0009598731994628906\n",
      "Found 27 connected triads\n",
      "Time spent classifying triads: 0.002591371536254883\n",
      "Testing 24 potential triadic pairs\n",
      "Time spent finding triads: 0.0008590221405029297\n",
      "Found 24 connected triads\n",
      "Time spent classifying triads: 0.0010085105895996094\n",
      "Testing 17 potential triadic pairs\n",
      "Time spent finding triads: 0.0008206367492675781\n",
      "Found 15 connected triads\n",
      "Time spent classifying triads: 0.0006668567657470703\n",
      "Testing 39 potential triadic pairs\n",
      "Time spent finding triads: 0.0010249614715576172\n",
      "Found 42 connected triads\n",
      "Time spent classifying triads: 0.003955364227294922\n"
     ]
    },
    {
     "name": "stderr",
     "output_type": "stream",
     "text": [
      " 62%|██████▏   | 34/55 [00:02<00:01, 15.21it/s]"
     ]
    },
    {
     "name": "stdout",
     "output_type": "stream",
     "text": [
      "Testing 24 potential triadic pairs\n",
      "Time spent finding triads: 0.0009198188781738281\n",
      "Found 26 connected triads\n",
      "Time spent classifying triads: 0.0024802684783935547\n",
      "Testing 27 potential triadic pairs\n",
      "Time spent finding triads: 0.00087738037109375\n",
      "Found 29 connected triads\n",
      "Time spent classifying triads: 0.0011856555938720703\n",
      "Testing 39 potential triadic pairs\n",
      "Time spent finding triads: 0.0009584426879882812\n",
      "Found 42 connected triads\n",
      "Time spent classifying triads: 0.0016753673553466797\n",
      "Testing 30 potential triadic pairs\n",
      "Time spent finding triads: 0.0009653568267822266\n",
      "Found 38 connected triads\n",
      "Time spent classifying triads: 0.0018613338470458984\n"
     ]
    },
    {
     "name": "stderr",
     "output_type": "stream",
     "text": [
      " 69%|██████▉   | 38/55 [00:02<00:01, 15.39it/s]"
     ]
    },
    {
     "name": "stdout",
     "output_type": "stream",
     "text": [
      "Testing 24 potential triadic pairs\n",
      "Time spent finding triads: 0.0009343624114990234\n",
      "Found 27 connected triads\n",
      "Time spent classifying triads: 0.0025594234466552734\n",
      "Testing 11 potential triadic pairs\n",
      "Time spent finding triads: 0.0007915496826171875\n",
      "Found 16 connected triads\n",
      "Time spent classifying triads: 0.0007112026214599609\n",
      "Testing 29 potential triadic pairs\n",
      "Time spent finding triads: 0.0009131431579589844\n",
      "Found 27 connected triads\n",
      "Time spent classifying triads: 0.0011143684387207031\n",
      "Testing 15 potential triadic pairs\n",
      "Time spent finding triads: 0.0008826255798339844\n",
      "Found 19 connected triads\n",
      "Time spent classifying triads: 0.0018491744995117188\n"
     ]
    },
    {
     "name": "stderr",
     "output_type": "stream",
     "text": [
      " 76%|███████▋  | 42/55 [00:02<00:00, 15.29it/s]"
     ]
    },
    {
     "name": "stdout",
     "output_type": "stream",
     "text": [
      "Testing 28 potential triadic pairs\n",
      "Time spent finding triads: 0.00096893310546875\n",
      "Found 24 connected triads\n",
      "Time spent classifying triads: 0.0023119449615478516\n",
      "Testing 49 potential triadic pairs\n",
      "Time spent finding triads: 0.001062154769897461\n",
      "Found 77 connected triads\n",
      "Time spent classifying triads: 0.0029754638671875\n",
      "Testing 60 potential triadic pairs\n",
      "Time spent finding triads: 0.001104593276977539\n",
      "Found 82 connected triads\n",
      "Time spent classifying triads: 0.0031795501708984375\n",
      "Testing 5 potential triadic pairs\n",
      "Time spent finding triads: 0.0008103847503662109\n",
      "Found 5 connected triads\n",
      "Time spent classifying triads: 0.0005695819854736328\n"
     ]
    },
    {
     "name": "stderr",
     "output_type": "stream",
     "text": [
      "\r",
      " 80%|████████  | 44/55 [00:02<00:00, 14.96it/s]"
     ]
    },
    {
     "name": "stdout",
     "output_type": "stream",
     "text": [
      "Testing 45 potential triadic pairs\n",
      "Time spent finding triads: 0.0010578632354736328\n",
      "Found 54 connected triads\n",
      "Time spent classifying triads: 0.005012989044189453\n",
      "Testing 28 potential triadic pairs\n",
      "Time spent finding triads: 0.0010335445404052734\n",
      "Found 28 connected triads\n",
      "Time spent classifying triads: 0.001150369644165039\n"
     ]
    },
    {
     "name": "stderr",
     "output_type": "stream",
     "text": [
      "\r",
      " 84%|████████▎ | 46/55 [00:03<00:00, 14.91it/s]"
     ]
    },
    {
     "name": "stdout",
     "output_type": "stream",
     "text": [
      "Testing 39 potential triadic pairs\n",
      "Time spent finding triads: 0.0014421939849853516\n",
      "Found 46 connected triads\n",
      "Time spent classifying triads: 0.0042743682861328125\n",
      "Testing 48 potential triadic pairs\n",
      "Time spent finding triads: 0.0010058879852294922\n",
      "Found 49 connected triads\n",
      "Time spent classifying triads: 0.0019428730010986328\n"
     ]
    },
    {
     "name": "stderr",
     "output_type": "stream",
     "text": [
      "\r",
      " 87%|████████▋ | 48/55 [00:03<00:00, 14.96it/s]"
     ]
    },
    {
     "name": "stdout",
     "output_type": "stream",
     "text": [
      "Testing 18 potential triadic pairs\n",
      "Time spent finding triads: 0.0008819103240966797\n",
      "Found 18 connected triads\n",
      "Time spent classifying triads: 0.0017547607421875\n",
      "Testing 37 potential triadic pairs\n",
      "Time spent finding triads: 0.0009553432464599609\n",
      "Found 41 connected triads\n",
      "Time spent classifying triads: 0.0016336441040039062\n"
     ]
    },
    {
     "name": "stderr",
     "output_type": "stream",
     "text": [
      "\r",
      " 91%|█████████ | 50/55 [00:03<00:00, 15.10it/s]"
     ]
    },
    {
     "name": "stdout",
     "output_type": "stream",
     "text": [
      "Testing 24 potential triadic pairs\n",
      "Time spent finding triads: 0.0009377002716064453\n",
      "Found 29 connected triads\n",
      "Time spent classifying triads: 0.0027871131896972656\n",
      "Testing 32 potential triadic pairs\n",
      "Time spent finding triads: 0.000926971435546875\n",
      "Found 30 connected triads\n",
      "Time spent classifying triads: 0.001238107681274414\n"
     ]
    },
    {
     "name": "stderr",
     "output_type": "stream",
     "text": [
      "\r",
      " 95%|█████████▍| 52/55 [00:03<00:00, 14.94it/s]"
     ]
    },
    {
     "name": "stdout",
     "output_type": "stream",
     "text": [
      "Testing 31 potential triadic pairs\n",
      "Time spent finding triads: 0.0009760856628417969\n",
      "Found 36 connected triads\n",
      "Time spent classifying triads: 0.00337982177734375\n",
      "Testing 27 potential triadic pairs\n",
      "Time spent finding triads: 0.000881195068359375\n",
      "Found 28 connected triads\n",
      "Time spent classifying triads: 0.0011439323425292969\n"
     ]
    },
    {
     "name": "stderr",
     "output_type": "stream",
     "text": [
      "\r",
      " 98%|█████████▊| 54/55 [00:03<00:00, 14.92it/s]"
     ]
    },
    {
     "name": "stdout",
     "output_type": "stream",
     "text": [
      "Testing 38 potential triadic pairs\n",
      "Time spent finding triads: 0.0010123252868652344\n",
      "Found 41 connected triads\n",
      "Time spent classifying triads: 0.0038449764251708984\n",
      "Testing 23 potential triadic pairs\n",
      "Time spent finding triads: 0.0009217262268066406\n",
      "Found 21 connected triads\n",
      "Time spent classifying triads: 0.002026081085205078\n"
     ]
    },
    {
     "name": "stderr",
     "output_type": "stream",
     "text": [
      "100%|██████████| 55/55 [00:03<00:00, 15.01it/s]\n",
      "  0%|          | 0/55 [00:00<?, ?it/s]"
     ]
    },
    {
     "name": "stdout",
     "output_type": "stream",
     "text": [
      "Testing 20 potential triadic pairs\n",
      "Time spent finding triads: 0.0008935928344726562\n",
      "Found 21 connected triads\n",
      "Time spent classifying triads: 0.0020325183868408203\n"
     ]
    },
    {
     "name": "stderr",
     "output_type": "stream",
     "text": [
      "  7%|▋         | 4/55 [00:00<00:03, 15.78it/s]"
     ]
    },
    {
     "name": "stdout",
     "output_type": "stream",
     "text": [
      "Testing 14 potential triadic pairs\n",
      "Time spent finding triads: 0.0008680820465087891\n",
      "Found 12 connected triads\n",
      "Time spent classifying triads: 0.0012080669403076172\n",
      "Testing 20 potential triadic pairs\n",
      "Time spent finding triads: 0.0008502006530761719\n",
      "Found 26 connected triads\n",
      "Time spent classifying triads: 0.0010869503021240234\n",
      "Testing 24 potential triadic pairs\n",
      "Time spent finding triads: 0.0008625984191894531\n",
      "Found 20 connected triads\n",
      "Time spent classifying triads: 0.0008633136749267578\n",
      "Testing 24 potential triadic pairs\n",
      "Time spent finding triads: 0.0009324550628662109\n",
      "Found 24 connected triads\n",
      "Time spent classifying triads: 0.0023145675659179688\n"
     ]
    },
    {
     "name": "stderr",
     "output_type": "stream",
     "text": [
      " 15%|█▍        | 8/55 [00:00<00:03, 15.35it/s]"
     ]
    },
    {
     "name": "stdout",
     "output_type": "stream",
     "text": [
      "Testing 42 potential triadic pairs\n",
      "Time spent finding triads: 0.0010342597961425781\n",
      "Found 46 connected triads\n",
      "Time spent classifying triads: 0.0043163299560546875\n",
      "Testing 52 potential triadic pairs\n",
      "Time spent finding triads: 0.0010523796081542969\n",
      "Found 66 connected triads\n",
      "Time spent classifying triads: 0.0025796890258789062\n",
      "Testing 31 potential triadic pairs\n",
      "Time spent finding triads: 0.0009174346923828125\n",
      "Found 31 connected triads\n",
      "Time spent classifying triads: 0.0012669563293457031\n",
      "Testing 36 potential triadic pairs\n",
      "Time spent finding triads: 0.001004934310913086\n",
      "Found 46 connected triads\n",
      "Time spent classifying triads: 0.0043010711669921875\n"
     ]
    },
    {
     "name": "stderr",
     "output_type": "stream",
     "text": [
      " 22%|██▏       | 12/55 [00:00<00:02, 15.46it/s]"
     ]
    },
    {
     "name": "stdout",
     "output_type": "stream",
     "text": [
      "Testing 28 potential triadic pairs\n",
      "Time spent finding triads: 0.0009396076202392578\n",
      "Found 28 connected triads\n",
      "Time spent classifying triads: 0.002663850784301758\n",
      "Testing 28 potential triadic pairs\n",
      "Time spent finding triads: 0.000896453857421875\n",
      "Found 26 connected triads\n",
      "Time spent classifying triads: 0.0010905265808105469\n",
      "Testing 8 potential triadic pairs\n",
      "Time spent finding triads: 0.0007717609405517578\n",
      "Found 8 connected triads\n",
      "Time spent classifying triads: 0.00040435791015625\n",
      "Testing 28 potential triadic pairs\n",
      "Time spent finding triads: 0.0009543895721435547\n",
      "Found 30 connected triads\n",
      "Time spent classifying triads: 0.0028488636016845703\n"
     ]
    },
    {
     "name": "stderr",
     "output_type": "stream",
     "text": [
      " 29%|██▉       | 16/55 [00:01<00:02, 15.32it/s]"
     ]
    },
    {
     "name": "stdout",
     "output_type": "stream",
     "text": [
      "Testing 26 potential triadic pairs\n",
      "Time spent finding triads: 0.0009603500366210938\n",
      "Found 34 connected triads\n",
      "Time spent classifying triads: 0.0031995773315429688\n",
      "Testing 26 potential triadic pairs\n",
      "Time spent finding triads: 0.0008759498596191406\n",
      "Found 22 connected triads\n",
      "Time spent classifying triads: 0.0009446144104003906\n",
      "Testing 39 potential triadic pairs\n",
      "Time spent finding triads: 0.0009593963623046875\n",
      "Found 41 connected triads\n",
      "Time spent classifying triads: 0.0016317367553710938\n",
      "Testing 20 potential triadic pairs\n",
      "Time spent finding triads: 0.0009002685546875\n",
      "Found 20 connected triads\n",
      "Time spent classifying triads: 0.001941680908203125\n"
     ]
    },
    {
     "name": "stderr",
     "output_type": "stream",
     "text": [
      " 36%|███▋      | 20/55 [00:01<00:02, 15.46it/s]"
     ]
    },
    {
     "name": "stdout",
     "output_type": "stream",
     "text": [
      "Testing 24 potential triadic pairs\n",
      "Time spent finding triads: 0.0009255409240722656\n",
      "Found 27 connected triads\n",
      "Time spent classifying triads: 0.0025322437286376953\n",
      "Testing 19 potential triadic pairs\n",
      "Time spent finding triads: 0.0008492469787597656\n",
      "Found 19 connected triads\n",
      "Time spent classifying triads: 0.0008189678192138672\n",
      "Testing 32 potential triadic pairs\n",
      "Time spent finding triads: 0.00092315673828125\n",
      "Found 41 connected triads\n",
      "Time spent classifying triads: 0.0016434192657470703\n",
      "Testing 53 potential triadic pairs\n",
      "Time spent finding triads: 0.0011088848114013672\n",
      "Found 67 connected triads\n",
      "Time spent classifying triads: 0.0040912628173828125\n"
     ]
    },
    {
     "name": "stderr",
     "output_type": "stream",
     "text": [
      " 44%|████▎     | 24/55 [00:01<00:02, 15.49it/s]"
     ]
    },
    {
     "name": "stdout",
     "output_type": "stream",
     "text": [
      "Testing 10 potential triadic pairs\n",
      "Time spent finding triads: 0.0008366107940673828\n",
      "Found 8 connected triads\n",
      "Time spent classifying triads: 0.0008475780487060547\n",
      "Testing 31 potential triadic pairs\n",
      "Time spent finding triads: 0.0009112358093261719\n",
      "Found 36 connected triads\n",
      "Time spent classifying triads: 0.001461029052734375\n",
      "Testing 4 potential triadic pairs\n",
      "Time spent finding triads: 0.0007579326629638672\n",
      "Found 6 connected triads\n",
      "Time spent classifying triads: 0.0003306865692138672\n",
      "Testing 30 potential triadic pairs\n",
      "Time spent finding triads: 0.0009605884552001953\n",
      "Found 28 connected triads\n",
      "Time spent classifying triads: 0.002646207809448242\n"
     ]
    },
    {
     "name": "stderr",
     "output_type": "stream",
     "text": [
      " 51%|█████     | 28/55 [00:01<00:01, 15.54it/s]"
     ]
    },
    {
     "name": "stdout",
     "output_type": "stream",
     "text": [
      "Testing 5 potential triadic pairs\n",
      "Time spent finding triads: 0.0008070468902587891\n",
      "Found 5 connected triads\n",
      "Time spent classifying triads: 0.0005791187286376953\n",
      "Testing 8 potential triadic pairs\n",
      "Time spent finding triads: 0.0007774829864501953\n",
      "Found 8 connected triads\n",
      "Time spent classifying triads: 0.00040221214294433594\n",
      "Testing 42 potential triadic pairs\n",
      "Time spent finding triads: 0.0009860992431640625\n",
      "Found 57 connected triads\n",
      "Time spent classifying triads: 0.0022199153900146484\n",
      "Testing 27 potential triadic pairs\n",
      "Time spent finding triads: 0.0009369850158691406\n",
      "Found 31 connected triads\n",
      "Time spent classifying triads: 0.0029201507568359375\n"
     ]
    },
    {
     "name": "stderr",
     "output_type": "stream",
     "text": [
      "\r",
      " 55%|█████▍    | 30/55 [00:01<00:01, 15.12it/s]"
     ]
    },
    {
     "name": "stdout",
     "output_type": "stream",
     "text": [
      "Testing 21 potential triadic pairs\n",
      "Time spent finding triads: 0.0009074211120605469\n",
      "Found 21 connected triads\n",
      "Time spent classifying triads: 0.0020093917846679688\n",
      "Testing 16 potential triadic pairs\n",
      "Time spent finding triads: 0.0008709430694580078\n",
      "Found 16 connected triads\n",
      "Time spent classifying triads: 0.0015714168548583984\n"
     ]
    },
    {
     "name": "stderr",
     "output_type": "stream",
     "text": [
      " 62%|██████▏   | 34/55 [00:02<00:01, 12.90it/s]"
     ]
    },
    {
     "name": "stdout",
     "output_type": "stream",
     "text": [
      "Testing 31 potential triadic pairs\n",
      "Time spent finding triads: 0.0009419918060302734\n",
      "Found 39 connected triads\n",
      "Time spent classifying triads: 0.003665924072265625\n",
      "Testing 43 potential triadic pairs\n",
      "Time spent finding triads: 0.0009789466857910156\n",
      "Found 55 connected triads\n",
      "Time spent classifying triads: 0.0021309852600097656\n",
      "Testing 19 potential triadic pairs\n",
      "Time spent finding triads: 0.0008320808410644531\n",
      "Found 21 connected triads\n",
      "Time spent classifying triads: 0.0008988380432128906\n",
      "Testing 47 potential triadic pairs\n",
      "Time spent finding triads: 0.0010695457458496094\n",
      "Found 60 connected triads\n",
      "Time spent classifying triads: 0.00554656982421875\n"
     ]
    },
    {
     "name": "stderr",
     "output_type": "stream",
     "text": [
      " 69%|██████▉   | 38/55 [00:02<00:01, 14.09it/s]"
     ]
    },
    {
     "name": "stdout",
     "output_type": "stream",
     "text": [
      "Testing 19 potential triadic pairs\n",
      "Time spent finding triads: 0.0008766651153564453\n",
      "Found 21 connected triads\n",
      "Time spent classifying triads: 0.002025127410888672\n",
      "Testing 8 potential triadic pairs\n",
      "Time spent finding triads: 0.0007748603820800781\n",
      "Found 8 connected triads\n",
      "Time spent classifying triads: 0.0004067420959472656\n",
      "Testing 44 potential triadic pairs\n",
      "Time spent finding triads: 0.0009982585906982422\n",
      "Found 59 connected triads\n",
      "Time spent classifying triads: 0.002291440963745117\n",
      "Testing 30 potential triadic pairs\n",
      "Time spent finding triads: 0.0009601116180419922\n",
      "Found 26 connected triads\n",
      "Time spent classifying triads: 0.0024690628051757812\n"
     ]
    },
    {
     "name": "stderr",
     "output_type": "stream",
     "text": [
      " 76%|███████▋  | 42/55 [00:02<00:00, 14.82it/s]"
     ]
    },
    {
     "name": "stdout",
     "output_type": "stream",
     "text": [
      "Testing 31 potential triadic pairs\n",
      "Time spent finding triads: 0.0009589195251464844\n",
      "Found 31 connected triads\n",
      "Time spent classifying triads: 0.002931833267211914\n",
      "Testing 29 potential triadic pairs\n",
      "Time spent finding triads: 0.0008845329284667969\n",
      "Found 27 connected triads\n",
      "Time spent classifying triads: 0.0011229515075683594\n",
      "Testing 11 potential triadic pairs\n",
      "Time spent finding triads: 0.0007879734039306641\n",
      "Found 16 connected triads\n",
      "Time spent classifying triads: 0.0007100105285644531\n",
      "Testing 14 potential triadic pairs\n",
      "Time spent finding triads: 0.0008528232574462891\n",
      "Found 12 connected triads\n",
      "Time spent classifying triads: 0.0012142658233642578\n"
     ]
    },
    {
     "name": "stderr",
     "output_type": "stream",
     "text": [
      " 84%|████████▎ | 46/55 [00:03<00:00, 15.23it/s]"
     ]
    },
    {
     "name": "stdout",
     "output_type": "stream",
     "text": [
      "Testing 15 potential triadic pairs\n",
      "Time spent finding triads: 0.0008611679077148438\n",
      "Found 15 connected triads\n",
      "Time spent classifying triads: 0.0014760494232177734\n",
      "Testing 44 potential triadic pairs\n",
      "Time spent finding triads: 0.0009806156158447266\n",
      "Found 43 connected triads\n",
      "Time spent classifying triads: 0.0017249584197998047\n",
      "Testing 48 potential triadic pairs\n",
      "Time spent finding triads: 0.0010151863098144531\n",
      "Found 53 connected triads\n",
      "Time spent classifying triads: 0.0020761489868164062\n",
      "Testing 27 potential triadic pairs\n",
      "Time spent finding triads: 0.0009372234344482422\n",
      "Found 27 connected triads\n",
      "Time spent classifying triads: 0.002572774887084961\n"
     ]
    },
    {
     "name": "stderr",
     "output_type": "stream",
     "text": [
      " 91%|█████████ | 50/55 [00:03<00:00, 15.37it/s]"
     ]
    },
    {
     "name": "stdout",
     "output_type": "stream",
     "text": [
      "Testing 18 potential triadic pairs\n",
      "Time spent finding triads: 0.0008900165557861328\n",
      "Found 16 connected triads\n",
      "Time spent classifying triads: 0.0015761852264404297\n",
      "Testing 2 potential triadic pairs\n",
      "Time spent finding triads: 0.0007257461547851562\n",
      "Found 2 connected triads\n",
      "Time spent classifying triads: 0.00017142295837402344\n",
      "Testing 25 potential triadic pairs\n",
      "Time spent finding triads: 0.0008730888366699219\n",
      "Found 23 connected triads\n",
      "Time spent classifying triads: 0.0009641647338867188\n",
      "Testing 6 potential triadic pairs\n",
      "Time spent finding triads: 0.0008149147033691406\n",
      "Found 6 connected triads\n",
      "Time spent classifying triads: 0.0006582736968994141\n"
     ]
    },
    {
     "name": "stderr",
     "output_type": "stream",
     "text": [
      "\r",
      " 95%|█████████▍| 52/55 [00:03<00:00, 15.30it/s]"
     ]
    },
    {
     "name": "stdout",
     "output_type": "stream",
     "text": [
      "Testing 42 potential triadic pairs\n",
      "Time spent finding triads: 0.0010306835174560547\n",
      "Found 47 connected triads\n",
      "Time spent classifying triads: 0.0043904781341552734\n",
      "Testing 38 potential triadic pairs\n",
      "Time spent finding triads: 0.0009596347808837891\n",
      "Found 49 connected triads\n",
      "Time spent classifying triads: 0.0019097328186035156\n",
      "Testing 40 potential triadic pairs\n",
      "Time spent finding triads: 0.0009670257568359375\n",
      "Found 45 connected triads\n",
      "Time spent classifying triads: 0.0017635822296142578\n"
     ]
    },
    {
     "name": "stderr",
     "output_type": "stream",
     "text": [
      "100%|██████████| 55/55 [00:03<00:00, 14.90it/s]"
     ]
    },
    {
     "name": "stdout",
     "output_type": "stream",
     "text": [
      "Testing 3 potential triadic pairs\n",
      "Time spent finding triads: 0.0008029937744140625\n",
      "Found 3 connected triads\n",
      "Time spent classifying triads: 0.00038743019104003906\n"
     ]
    },
    {
     "name": "stderr",
     "output_type": "stream",
     "text": [
      "\n",
      "  5%|▌         | 3/55 [00:00<00:05, 10.17it/s]"
     ]
    },
    {
     "name": "stdout",
     "output_type": "stream",
     "text": [
      "Testing 41 potential triadic pairs\n",
      "Time spent finding triads: 0.0010497570037841797\n",
      "Found 46 connected triads\n",
      "Time spent classifying triads: 0.004269599914550781\n",
      "Testing 66 potential triadic pairs\n",
      "Time spent finding triads: 0.0012254714965820312\n",
      "Found 129 connected triads\n",
      "Time spent classifying triads: 0.004891157150268555\n",
      "Testing 66 potential triadic pairs\n",
      "Time spent finding triads: 0.0012080669403076172\n",
      "Found 123 connected triads\n",
      "Time spent classifying triads: 0.004671573638916016\n"
     ]
    },
    {
     "name": "stderr",
     "output_type": "stream",
     "text": [
      "\r",
      "  9%|▉         | 5/55 [00:00<00:05, 10.00it/s]"
     ]
    },
    {
     "name": "stdout",
     "output_type": "stream",
     "text": [
      "Testing 59 potential triadic pairs\n",
      "Time spent finding triads: 0.0012328624725341797\n",
      "Found 100 connected triads\n",
      "Time spent classifying triads: 0.006346464157104492\n",
      "Testing 66 potential triadic pairs\n",
      "Time spent finding triads: 0.0013303756713867188\n",
      "Found 189 connected triads\n",
      "Time spent classifying triads: 0.0062143802642822266\n",
      "Testing 66 potential triadic pairs\n",
      "Time spent finding triads: 0.0013432502746582031\n",
      "Found 189 connected triads\n",
      "Time spent classifying triads: 0.014923572540283203\n"
     ]
    },
    {
     "name": "stderr",
     "output_type": "stream",
     "text": [
      " 15%|█▍        | 8/55 [00:00<00:04,  9.64it/s]"
     ]
    },
    {
     "name": "stdout",
     "output_type": "stream",
     "text": [
      "Testing 66 potential triadic pairs\n",
      "Time spent finding triads: 0.0015299320220947266\n",
      "Found 188 connected triads\n",
      "Time spent classifying triads: 0.008605241775512695\n",
      "Testing 64 potential triadic pairs\n",
      "Time spent finding triads: 0.0012497901916503906\n",
      "Found 154 connected triads\n",
      "Time spent classifying triads: 0.008268117904663086\n"
     ]
    },
    {
     "name": "stderr",
     "output_type": "stream",
     "text": [
      " 18%|█▊        | 10/55 [00:01<00:04,  9.64it/s]"
     ]
    },
    {
     "name": "stdout",
     "output_type": "stream",
     "text": [
      "Testing 66 potential triadic pairs\n",
      "Time spent finding triads: 0.0023522377014160156\n",
      "Found 130 connected triads\n",
      "Time spent classifying triads: 0.011630773544311523\n",
      "Testing 44 potential triadic pairs\n",
      "Time spent finding triads: 0.0009970664978027344\n",
      "Found 50 connected triads\n",
      "Time spent classifying triads: 0.001973867416381836\n",
      "Testing 65 potential triadic pairs\n",
      "Time spent finding triads: 0.0011444091796875\n",
      "Found 84 connected triads\n",
      "Time spent classifying triads: 0.0032126903533935547\n"
     ]
    },
    {
     "name": "stderr",
     "output_type": "stream",
     "text": [
      " 25%|██▌       | 14/55 [00:01<00:04,  9.85it/s]"
     ]
    },
    {
     "name": "stdout",
     "output_type": "stream",
     "text": [
      "Testing 66 potential triadic pairs\n",
      "Time spent finding triads: 0.0013675689697265625\n",
      "Found 174 connected triads\n",
      "Time spent classifying triads: 0.015878677368164062\n",
      "Testing 40 potential triadic pairs\n",
      "Time spent finding triads: 0.0009677410125732422\n",
      "Found 38 connected triads\n",
      "Time spent classifying triads: 0.0015270709991455078\n",
      "Testing 66 potential triadic pairs\n",
      "Time spent finding triads: 0.0012581348419189453\n",
      "Found 156 connected triads\n",
      "Time spent classifying triads: 0.005959033966064453\n"
     ]
    },
    {
     "name": "stderr",
     "output_type": "stream",
     "text": [
      " 29%|██▉       | 16/55 [00:01<00:04,  9.67it/s]"
     ]
    },
    {
     "name": "stdout",
     "output_type": "stream",
     "text": [
      "Testing 66 potential triadic pairs\n",
      "Time spent finding triads: 0.0013675689697265625\n",
      "Found 168 connected triads\n",
      "Time spent classifying triads: 0.015090227127075195\n",
      "Testing 66 potential triadic pairs\n",
      "Time spent finding triads: 0.0012969970703125\n",
      "Found 163 connected triads\n",
      "Time spent classifying triads: 0.006159305572509766\n",
      "Testing 40 potential triadic pairs\n",
      "Time spent finding triads: 0.000993490219116211\n",
      "Found 56 connected triads\n",
      "Time spent classifying triads: 0.002195596694946289\n"
     ]
    },
    {
     "name": "stderr",
     "output_type": "stream",
     "text": [
      " 35%|███▍      | 19/55 [00:01<00:03,  9.56it/s]"
     ]
    },
    {
     "name": "stdout",
     "output_type": "stream",
     "text": [
      "Testing 66 potential triadic pairs\n",
      "Time spent finding triads: 0.0014317035675048828\n",
      "Found 191 connected triads\n",
      "Time spent classifying triads: 0.017441511154174805\n",
      "Testing 36 potential triadic pairs\n",
      "Time spent finding triads: 0.0009400844573974609\n",
      "Found 43 connected triads\n",
      "Time spent classifying triads: 0.0016977787017822266\n",
      "Testing 63 potential triadic pairs\n",
      "Time spent finding triads: 0.0011913776397705078\n",
      "Found 107 connected triads\n",
      "Time spent classifying triads: 0.009811162948608398\n"
     ]
    },
    {
     "name": "stderr",
     "output_type": "stream",
     "text": [
      " 40%|████      | 22/55 [00:02<00:03,  9.44it/s]"
     ]
    },
    {
     "name": "stdout",
     "output_type": "stream",
     "text": [
      "Testing 55 potential triadic pairs\n",
      "Time spent finding triads: 0.0011935234069824219\n",
      "Found 97 connected triads\n",
      "Time spent classifying triads: 0.0059664249420166016\n",
      "Testing 66 potential triadic pairs\n",
      "Time spent finding triads: 0.0013301372528076172\n",
      "Found 179 connected triads\n",
      "Time spent classifying triads: 0.011353254318237305\n"
     ]
    },
    {
     "name": "stderr",
     "output_type": "stream",
     "text": [
      " 44%|████▎     | 24/55 [00:02<00:03,  9.45it/s]"
     ]
    },
    {
     "name": "stdout",
     "output_type": "stream",
     "text": [
      "Testing 59 potential triadic pairs\n",
      "Time spent finding triads: 0.0011925697326660156\n",
      "Found 99 connected triads\n",
      "Time spent classifying triads: 0.00908803939819336\n",
      "Testing 59 potential triadic pairs\n",
      "Time spent finding triads: 0.0011112689971923828\n",
      "Found 81 connected triads\n",
      "Time spent classifying triads: 0.007393836975097656\n",
      "Testing 59 potential triadic pairs\n",
      "Time spent finding triads: 0.0011169910430908203\n",
      "Found 74 connected triads\n",
      "Time spent classifying triads: 0.003506183624267578\n"
     ]
    },
    {
     "name": "stderr",
     "output_type": "stream",
     "text": [
      " 51%|█████     | 28/55 [00:02<00:02, 10.10it/s]"
     ]
    },
    {
     "name": "stdout",
     "output_type": "stream",
     "text": [
      "Testing 47 potential triadic pairs\n",
      "Time spent finding triads: 0.0011086463928222656\n",
      "Found 62 connected triads\n",
      "Time spent classifying triads: 0.005734682083129883\n",
      "Testing 24 potential triadic pairs\n",
      "Time spent finding triads: 0.0008611679077148438\n",
      "Found 22 connected triads\n",
      "Time spent classifying triads: 0.000919342041015625\n",
      "Testing 41 potential triadic pairs\n",
      "Time spent finding triads: 0.0009930133819580078\n",
      "Found 51 connected triads\n",
      "Time spent classifying triads: 0.0020101070404052734\n"
     ]
    },
    {
     "name": "stderr",
     "output_type": "stream",
     "text": [
      " 55%|█████▍    | 30/55 [00:03<00:02,  9.55it/s]"
     ]
    },
    {
     "name": "stdout",
     "output_type": "stream",
     "text": [
      "Testing 66 potential triadic pairs\n",
      "Time spent finding triads: 0.0013186931610107422\n",
      "Found 161 connected triads\n",
      "Time spent classifying triads: 0.014766693115234375\n",
      "Testing 47 potential triadic pairs\n",
      "Time spent finding triads: 0.0010132789611816406\n",
      "Found 58 connected triads\n",
      "Time spent classifying triads: 0.0022678375244140625\n"
     ]
    },
    {
     "name": "stderr",
     "output_type": "stream",
     "text": [
      " 58%|█████▊    | 32/55 [00:03<00:02,  9.47it/s]"
     ]
    },
    {
     "name": "stdout",
     "output_type": "stream",
     "text": [
      "Testing 66 potential triadic pairs\n",
      "Time spent finding triads: 0.001878976821899414\n",
      "Found 127 connected triads\n",
      "Time spent classifying triads: 0.011413335800170898\n",
      "Testing 66 potential triadic pairs\n",
      "Time spent finding triads: 0.0012714862823486328\n",
      "Found 156 connected triads\n",
      "Time spent classifying triads: 0.010857343673706055\n",
      "Testing 64 potential triadic pairs\n",
      "Time spent finding triads: 0.0011837482452392578\n",
      "Found 109 connected triads\n",
      "Time spent classifying triads: 0.009250879287719727\n"
     ]
    },
    {
     "name": "stderr",
     "output_type": "stream",
     "text": [
      " 64%|██████▎   | 35/55 [00:03<00:02,  9.64it/s]"
     ]
    },
    {
     "name": "stdout",
     "output_type": "stream",
     "text": [
      "Testing 60 potential triadic pairs\n",
      "Time spent finding triads: 0.0011742115020751953\n",
      "Found 79 connected triads\n",
      "Time spent classifying triads: 0.00729680061340332\n",
      "Testing 66 potential triadic pairs\n",
      "Time spent finding triads: 0.0012891292572021484\n",
      "Found 157 connected triads\n",
      "Time spent classifying triads: 0.005982637405395508\n",
      "Testing 60 potential triadic pairs\n",
      "Time spent finding triads: 0.0011506080627441406\n",
      "Found 100 connected triads\n",
      "Time spent classifying triads: 0.0038652420043945312\n"
     ]
    },
    {
     "name": "stderr",
     "output_type": "stream",
     "text": [
      " 69%|██████▉   | 38/55 [00:03<00:01,  9.50it/s]"
     ]
    },
    {
     "name": "stdout",
     "output_type": "stream",
     "text": [
      "Testing 66 potential triadic pairs\n",
      "Time spent finding triads: 0.0014233589172363281\n",
      "Found 188 connected triads\n",
      "Time spent classifying triads: 0.01721930503845215\n",
      "Testing 66 potential triadic pairs\n",
      "Time spent finding triads: 0.001207113265991211\n",
      "Found 136 connected triads\n",
      "Time spent classifying triads: 0.005220890045166016\n",
      "Testing 61 potential triadic pairs\n",
      "Time spent finding triads: 0.0011348724365234375\n",
      "Found 92 connected triads\n"
     ]
    },
    {
     "name": "stderr",
     "output_type": "stream",
     "text": [
      " 73%|███████▎  | 40/55 [00:04<00:01,  9.69it/s]"
     ]
    },
    {
     "name": "stdout",
     "output_type": "stream",
     "text": [
      "Time spent classifying triads: 0.0042324066162109375\n",
      "Testing 66 potential triadic pairs\n",
      "Time spent finding triads: 0.0012822151184082031\n",
      "Found 158 connected triads\n",
      "Time spent classifying triads: 0.005984783172607422\n",
      "Testing 44 potential triadic pairs\n",
      "Time spent finding triads: 0.001008749008178711\n",
      "Found 56 connected triads\n",
      "Time spent classifying triads: 0.003239154815673828\n"
     ]
    },
    {
     "name": "stderr",
     "output_type": "stream",
     "text": [
      " 78%|███████▊  | 43/55 [00:04<00:01,  9.87it/s]"
     ]
    },
    {
     "name": "stdout",
     "output_type": "stream",
     "text": [
      "Testing 15 potential triadic pairs\n",
      "Time spent finding triads: 0.0008816719055175781\n",
      "Found 13 connected triads\n",
      "Time spent classifying triads: 0.001294851303100586\n",
      "Testing 66 potential triadic pairs\n",
      "Time spent finding triads: 0.001287221908569336\n",
      "Found 157 connected triads\n",
      "Time spent classifying triads: 0.005978822708129883\n",
      "Testing 66 potential triadic pairs\n",
      "Time spent finding triads: 0.0012900829315185547\n",
      "Found 156 connected triads\n",
      "Time spent classifying triads: 0.006058692932128906\n"
     ]
    },
    {
     "name": "stderr",
     "output_type": "stream",
     "text": [
      " 85%|████████▌ | 47/55 [00:04<00:00,  9.87it/s]"
     ]
    },
    {
     "name": "stdout",
     "output_type": "stream",
     "text": [
      "Testing 66 potential triadic pairs\n",
      "Time spent finding triads: 0.001322031021118164\n",
      "Found 150 connected triads\n",
      "Time spent classifying triads: 0.013755559921264648\n",
      "Testing 52 potential triadic pairs\n",
      "Time spent finding triads: 0.0010499954223632812\n",
      "Found 70 connected triads\n",
      "Time spent classifying triads: 0.004061460494995117\n",
      "Testing 66 potential triadic pairs\n",
      "Time spent finding triads: 0.0012612342834472656\n",
      "Found 154 connected triads\n",
      "Time spent classifying triads: 0.0058863162994384766\n"
     ]
    },
    {
     "name": "stderr",
     "output_type": "stream",
     "text": [
      " 89%|████████▉ | 49/55 [00:05<00:00,  9.63it/s]"
     ]
    },
    {
     "name": "stdout",
     "output_type": "stream",
     "text": [
      "Testing 65 potential triadic pairs\n",
      "Time spent finding triads: 0.0013082027435302734\n",
      "Found 143 connected triads\n",
      "Time spent classifying triads: 0.013116598129272461\n",
      "Testing 66 potential triadic pairs\n",
      "Time spent finding triads: 0.0013594627380371094\n",
      "Found 193 connected triads\n",
      "Time spent classifying triads: 0.007334709167480469\n",
      "Testing 66 potential triadic pairs\n",
      "Time spent finding triads: 0.0013682842254638672\n",
      "Found 207 connected triads\n"
     ]
    },
    {
     "name": "stderr",
     "output_type": "stream",
     "text": [
      " 93%|█████████▎| 51/55 [00:05<00:00,  9.37it/s]"
     ]
    },
    {
     "name": "stdout",
     "output_type": "stream",
     "text": [
      "Time spent classifying triads: 0.015210628509521484\n",
      "Testing 66 potential triadic pairs\n",
      "Time spent finding triads: 0.0013256072998046875\n",
      "Found 193 connected triads\n",
      "Time spent classifying triads: 0.0072824954986572266\n"
     ]
    },
    {
     "name": "stderr",
     "output_type": "stream",
     "text": [
      "\r",
      " 95%|█████████▍| 52/55 [00:05<00:00,  9.17it/s]"
     ]
    },
    {
     "name": "stdout",
     "output_type": "stream",
     "text": [
      "Testing 66 potential triadic pairs\n",
      "Time spent finding triads: 0.0025992393493652344\n",
      "Found 169 connected triads\n",
      "Time spent classifying triads: 0.015175580978393555\n",
      "Testing 36 potential triadic pairs\n",
      "Time spent finding triads: 0.0009510517120361328\n",
      "Found 45 connected triads\n",
      "Time spent classifying triads: 0.001796722412109375\n",
      "Testing 66 potential triadic pairs\n",
      "Time spent finding triads: 0.0014274120330810547\n",
      "Found 213 connected triads\n",
      "Time spent classifying triads: 0.008072137832641602\n"
     ]
    },
    {
     "name": "stderr",
     "output_type": "stream",
     "text": [
      "100%|██████████| 55/55 [00:05<00:00,  9.60it/s]\n"
     ]
    },
    {
     "name": "stdout",
     "output_type": "stream",
     "text": [
      "Testing 66 potential triadic pairs\n",
      "Time spent finding triads: 0.0014190673828125\n",
      "Found 176 connected triads\n",
      "Time spent classifying triads: 0.015874862670898438\n"
     ]
    },
    {
     "name": "stderr",
     "output_type": "stream",
     "text": [
      "  2%|▏         | 1/55 [00:00<00:05,  9.53it/s]"
     ]
    },
    {
     "name": "stdout",
     "output_type": "stream",
     "text": [
      "Testing 51 potential triadic pairs\n",
      "Time spent finding triads: 0.0011065006256103516\n",
      "Found 63 connected triads\n",
      "Time spent classifying triads: 0.005846977233886719\n"
     ]
    },
    {
     "name": "stderr",
     "output_type": "stream",
     "text": [
      "\r",
      "  4%|▎         | 2/55 [00:00<00:05,  9.32it/s]"
     ]
    },
    {
     "name": "stdout",
     "output_type": "stream",
     "text": [
      "Testing 53 potential triadic pairs\n",
      "Time spent finding triads: 0.0011391639709472656\n",
      "Found 81 connected triads\n",
      "Time spent classifying triads: 0.00748133659362793\n"
     ]
    },
    {
     "name": "stderr",
     "output_type": "stream",
     "text": [
      "\r",
      "  5%|▌         | 3/55 [00:00<00:05,  9.20it/s]"
     ]
    },
    {
     "name": "stdout",
     "output_type": "stream",
     "text": [
      "Testing 66 potential triadic pairs\n",
      "Time spent finding triads: 0.0014853477478027344\n",
      "Found 161 connected triads\n",
      "Time spent classifying triads: 0.008732318878173828\n"
     ]
    },
    {
     "name": "stderr",
     "output_type": "stream",
     "text": [
      "\r",
      "  7%|▋         | 4/55 [00:00<00:05,  8.92it/s]"
     ]
    },
    {
     "name": "stdout",
     "output_type": "stream",
     "text": [
      "Testing 66 potential triadic pairs\n",
      "Time spent finding triads: 0.001617431640625\n",
      "Found 190 connected triads\n",
      "Time spent classifying triads: 0.017299175262451172\n"
     ]
    },
    {
     "name": "stderr",
     "output_type": "stream",
     "text": [
      "\r",
      "  9%|▉         | 5/55 [00:00<00:05,  8.94it/s]"
     ]
    },
    {
     "name": "stdout",
     "output_type": "stream",
     "text": [
      "Testing 66 potential triadic pairs\n",
      "Time spent finding triads: 0.0014481544494628906\n",
      "Found 206 connected triads\n",
      "Time spent classifying triads: 0.009118795394897461\n"
     ]
    },
    {
     "name": "stderr",
     "output_type": "stream",
     "text": [
      "\r",
      " 11%|█         | 6/55 [00:00<00:05,  8.57it/s]"
     ]
    },
    {
     "name": "stdout",
     "output_type": "stream",
     "text": [
      "Testing 51 potential triadic pairs\n",
      "Time spent finding triads: 0.0010845661163330078\n",
      "Found 60 connected triads\n",
      "Time spent classifying triads: 0.005551576614379883\n"
     ]
    },
    {
     "name": "stderr",
     "output_type": "stream",
     "text": [
      "\r",
      " 13%|█▎        | 7/55 [00:00<00:05,  8.58it/s]"
     ]
    },
    {
     "name": "stdout",
     "output_type": "stream",
     "text": [
      "Testing 66 potential triadic pairs\n",
      "Time spent finding triads: 0.0013399124145507812\n",
      "Found 168 connected triads\n",
      "Time spent classifying triads: 0.015312433242797852\n",
      "Testing 49 potential triadic pairs\n",
      "Time spent finding triads: 0.001092672348022461\n",
      "Found 75 connected triads\n",
      "Time spent classifying triads: 0.0031952857971191406\n",
      "Testing 66 potential triadic pairs\n",
      "Time spent finding triads: 0.001325845718383789\n",
      "Found 176 connected triads\n",
      "Time spent classifying triads: 0.006639003753662109\n"
     ]
    },
    {
     "name": "stderr",
     "output_type": "stream",
     "text": [
      " 20%|██        | 11/55 [00:01<00:04,  9.25it/s]"
     ]
    },
    {
     "name": "stdout",
     "output_type": "stream",
     "text": [
      "Testing 62 potential triadic pairs\n",
      "Time spent finding triads: 0.0012373924255371094\n",
      "Found 114 connected triads\n",
      "Time spent classifying triads: 0.010415792465209961\n",
      "Testing 53 potential triadic pairs\n",
      "Time spent finding triads: 0.0010662078857421875\n",
      "Found 58 connected triads\n",
      "Time spent classifying triads: 0.002293825149536133\n",
      "Testing 52 potential triadic pairs\n",
      "Time spent finding triads: 0.00104522705078125\n",
      "Found 60 connected triads\n",
      "Time spent classifying triads: 0.0024039745330810547\n"
     ]
    },
    {
     "name": "stderr",
     "output_type": "stream",
     "text": [
      " 25%|██▌       | 14/55 [00:01<00:04,  9.31it/s]"
     ]
    },
    {
     "name": "stdout",
     "output_type": "stream",
     "text": [
      "Testing 66 potential triadic pairs\n",
      "Time spent finding triads: 0.0013630390167236328\n",
      "Found 171 connected triads\n",
      "Time spent classifying triads: 0.008923768997192383\n",
      "Testing 65 potential triadic pairs\n",
      "Time spent finding triads: 0.0012204647064208984\n",
      "Found 129 connected triads\n",
      "Time spent classifying triads: 0.011770486831665039\n"
     ]
    },
    {
     "name": "stderr",
     "output_type": "stream",
     "text": [
      " 29%|██▉       | 16/55 [00:01<00:04,  9.03it/s]"
     ]
    },
    {
     "name": "stdout",
     "output_type": "stream",
     "text": [
      "Testing 66 potential triadic pairs\n",
      "Time spent finding triads: 0.0015513896942138672\n",
      "Found 201 connected triads\n",
      "Time spent classifying triads: 0.018357038497924805\n",
      "Testing 63 potential triadic pairs\n",
      "Time spent finding triads: 0.0011589527130126953\n",
      "Found 100 connected triads\n",
      "Time spent classifying triads: 0.0038344860076904297\n"
     ]
    },
    {
     "name": "stderr",
     "output_type": "stream",
     "text": [
      " 33%|███▎      | 18/55 [00:01<00:04,  8.88it/s]"
     ]
    },
    {
     "name": "stdout",
     "output_type": "stream",
     "text": [
      "Testing 66 potential triadic pairs\n",
      "Time spent finding triads: 0.0013663768768310547\n",
      "Found 180 connected triads\n",
      "Time spent classifying triads: 0.01653599739074707\n",
      "Testing 61 potential triadic pairs\n",
      "Time spent finding triads: 0.0012602806091308594\n",
      "Found 122 connected triads\n",
      "Time spent classifying triads: 0.005419015884399414\n"
     ]
    },
    {
     "name": "stderr",
     "output_type": "stream",
     "text": [
      " 36%|███▋      | 20/55 [00:02<00:04,  8.25it/s]"
     ]
    },
    {
     "name": "stdout",
     "output_type": "stream",
     "text": [
      "Testing 66 potential triadic pairs\n",
      "Time spent finding triads: 0.0013630390167236328\n",
      "Found 174 connected triads\n",
      "Time spent classifying triads: 0.014859199523925781\n",
      "Testing 65 potential triadic pairs\n",
      "Time spent finding triads: 0.0013461112976074219\n",
      "Found 125 connected triads\n",
      "Time spent classifying triads: 0.006319761276245117\n"
     ]
    },
    {
     "name": "stderr",
     "output_type": "stream",
     "text": [
      "\r",
      " 38%|███▊      | 21/55 [00:02<00:04,  8.42it/s]"
     ]
    },
    {
     "name": "stdout",
     "output_type": "stream",
     "text": [
      "Testing 66 potential triadic pairs\n",
      "Time spent finding triads: 0.0012826919555664062\n",
      "Found 139 connected triads\n",
      "Time spent classifying triads: 0.008618593215942383\n",
      "Testing 58 potential triadic pairs\n",
      "Time spent finding triads: 0.001245260238647461\n",
      "Found 69 connected triads\n",
      "Time spent classifying triads: 0.002705097198486328\n",
      "Testing 66 potential triadic pairs\n",
      "Time spent finding triads: 0.0014109611511230469\n",
      "Found 209 connected triads\n"
     ]
    },
    {
     "name": "stderr",
     "output_type": "stream",
     "text": [
      " 44%|████▎     | 24/55 [00:02<00:03,  8.96it/s]"
     ]
    },
    {
     "name": "stdout",
     "output_type": "stream",
     "text": [
      "Time spent classifying triads: 0.015260696411132812\n",
      "Testing 56 potential triadic pairs\n",
      "Time spent finding triads: 0.0011091232299804688\n",
      "Found 86 connected triads\n",
      "Time spent classifying triads: 0.0033195018768310547\n"
     ]
    },
    {
     "name": "stderr",
     "output_type": "stream",
     "text": [
      " 47%|████▋     | 26/55 [00:02<00:03,  8.90it/s]"
     ]
    },
    {
     "name": "stdout",
     "output_type": "stream",
     "text": [
      "Testing 39 potential triadic pairs\n",
      "Time spent finding triads: 0.002106189727783203\n",
      "Found 62 connected triads\n",
      "Time spent classifying triads: 0.005793571472167969\n",
      "Testing 66 potential triadic pairs\n",
      "Time spent finding triads: 0.0012912750244140625\n",
      "Found 165 connected triads\n",
      "Time spent classifying triads: 0.006322622299194336\n"
     ]
    },
    {
     "name": "stderr",
     "output_type": "stream",
     "text": [
      " 51%|█████     | 28/55 [00:03<00:03,  8.61it/s]"
     ]
    },
    {
     "name": "stdout",
     "output_type": "stream",
     "text": [
      "Testing 66 potential triadic pairs\n",
      "Time spent finding triads: 0.0013942718505859375\n",
      "Found 188 connected triads\n",
      "Time spent classifying triads: 0.014968395233154297\n",
      "Testing 66 potential triadic pairs\n",
      "Time spent finding triads: 0.0014262199401855469\n",
      "Found 206 connected triads\n",
      "Time spent classifying triads: 0.007836580276489258\n"
     ]
    },
    {
     "name": "stderr",
     "output_type": "stream",
     "text": [
      " 55%|█████▍    | 30/55 [00:03<00:02,  8.80it/s]"
     ]
    },
    {
     "name": "stdout",
     "output_type": "stream",
     "text": [
      "Testing 58 potential triadic pairs\n",
      "Time spent finding triads: 0.001209259033203125\n",
      "Found 109 connected triads\n",
      "Time spent classifying triads: 0.010007143020629883\n",
      "Testing 66 potential triadic pairs\n",
      "Time spent finding triads: 0.0013661384582519531\n",
      "Found 190 connected triads\n",
      "Time spent classifying triads: 0.007246732711791992\n"
     ]
    },
    {
     "name": "stderr",
     "output_type": "stream",
     "text": [
      " 58%|█████▊    | 32/55 [00:03<00:02,  8.89it/s]"
     ]
    },
    {
     "name": "stdout",
     "output_type": "stream",
     "text": [
      "Testing 65 potential triadic pairs\n",
      "Time spent finding triads: 0.0025665760040283203\n",
      "Found 166 connected triads\n",
      "Time spent classifying triads: 0.014547586441040039\n",
      "Testing 66 potential triadic pairs\n",
      "Time spent finding triads: 0.0013434886932373047\n",
      "Found 184 connected triads\n",
      "Time spent classifying triads: 0.006999015808105469\n"
     ]
    },
    {
     "name": "stderr",
     "output_type": "stream",
     "text": [
      " 62%|██████▏   | 34/55 [00:03<00:02,  9.23it/s]"
     ]
    },
    {
     "name": "stdout",
     "output_type": "stream",
     "text": [
      "Testing 47 potential triadic pairs\n",
      "Time spent finding triads: 0.0010766983032226562\n",
      "Found 54 connected triads\n",
      "Time spent classifying triads: 0.005035400390625\n",
      "Testing 44 potential triadic pairs\n",
      "Time spent finding triads: 0.0011241436004638672\n",
      "Found 55 connected triads\n",
      "Time spent classifying triads: 0.004566669464111328\n"
     ]
    },
    {
     "name": "stderr",
     "output_type": "stream",
     "text": [
      " 65%|██████▌   | 36/55 [00:04<00:02,  8.98it/s]"
     ]
    },
    {
     "name": "stdout",
     "output_type": "stream",
     "text": [
      "Testing 66 potential triadic pairs\n",
      "Time spent finding triads: 0.0013785362243652344\n",
      "Found 171 connected triads\n",
      "Time spent classifying triads: 0.015544652938842773\n",
      "Testing 66 potential triadic pairs\n",
      "Time spent finding triads: 0.0012612342834472656\n",
      "Found 151 connected triads\n",
      "Time spent classifying triads: 0.0057828426361083984\n"
     ]
    },
    {
     "name": "stderr",
     "output_type": "stream",
     "text": [
      " 69%|██████▉   | 38/55 [00:04<00:01,  8.86it/s]"
     ]
    },
    {
     "name": "stdout",
     "output_type": "stream",
     "text": [
      "Testing 66 potential triadic pairs\n",
      "Time spent finding triads: 0.0013325214385986328\n",
      "Found 173 connected triads\n",
      "Time spent classifying triads: 0.01580047607421875\n",
      "Testing 66 potential triadic pairs\n",
      "Time spent finding triads: 0.0012950897216796875\n",
      "Found 166 connected triads\n",
      "Time spent classifying triads: 0.006343364715576172\n"
     ]
    },
    {
     "name": "stderr",
     "output_type": "stream",
     "text": [
      " 73%|███████▎  | 40/55 [00:04<00:01,  9.19it/s]"
     ]
    },
    {
     "name": "stdout",
     "output_type": "stream",
     "text": [
      "Testing 66 potential triadic pairs\n",
      "Time spent finding triads: 0.0023436546325683594\n",
      "Found 159 connected triads\n",
      "Time spent classifying triads: 0.014492273330688477\n",
      "Testing 58 potential triadic pairs\n",
      "Time spent finding triads: 0.0011005401611328125\n",
      "Found 71 connected triads\n",
      "Time spent classifying triads: 0.0027701854705810547\n",
      "Testing 66 potential triadic pairs\n",
      "Time spent finding triads: 0.0013921260833740234\n",
      "Found 203 connected triads\n"
     ]
    },
    {
     "name": "stderr",
     "output_type": "stream",
     "text": [
      " 76%|███████▋  | 42/55 [00:04<00:01,  9.23it/s]"
     ]
    },
    {
     "name": "stdout",
     "output_type": "stream",
     "text": [
      "Time spent classifying triads: 0.015228748321533203\n",
      "Testing 66 potential triadic pairs\n",
      "Time spent finding triads: 0.0012421607971191406\n",
      "Found 138 connected triads\n",
      "Time spent classifying triads: 0.0052700042724609375\n",
      "Testing 57 potential triadic pairs\n",
      "Time spent finding triads: 0.0011742115020751953\n",
      "Found 74 connected triads\n",
      "Time spent classifying triads: 0.002885580062866211\n"
     ]
    },
    {
     "name": "stderr",
     "output_type": "stream",
     "text": [
      " 82%|████████▏ | 45/55 [00:05<00:01,  9.30it/s]"
     ]
    },
    {
     "name": "stdout",
     "output_type": "stream",
     "text": [
      "Testing 64 potential triadic pairs\n",
      "Time spent finding triads: 0.0012269020080566406\n",
      "Found 93 connected triads\n",
      "Time spent classifying triads: 0.006299734115600586\n",
      "Testing 55 potential triadic pairs\n",
      "Time spent finding triads: 0.0011887550354003906\n",
      "Found 122 connected triads\n",
      "Time spent classifying triads: 0.011050939559936523\n"
     ]
    },
    {
     "name": "stderr",
     "output_type": "stream",
     "text": [
      " 85%|████████▌ | 47/55 [00:05<00:00,  9.45it/s]"
     ]
    },
    {
     "name": "stdout",
     "output_type": "stream",
     "text": [
      "Testing 51 potential triadic pairs\n",
      "Time spent finding triads: 0.001108407974243164\n",
      "Found 55 connected triads\n",
      "Time spent classifying triads: 0.005083799362182617\n",
      "Testing 57 potential triadic pairs\n",
      "Time spent finding triads: 0.001260995864868164\n",
      "Found 81 connected triads\n",
      "Time spent classifying triads: 0.0031464099884033203\n"
     ]
    },
    {
     "name": "stderr",
     "output_type": "stream",
     "text": [
      "\r",
      " 87%|████████▋ | 48/55 [00:05<00:00,  8.98it/s]"
     ]
    },
    {
     "name": "stdout",
     "output_type": "stream",
     "text": [
      "Testing 66 potential triadic pairs\n",
      "Time spent finding triads: 0.0012776851654052734\n",
      "Found 147 connected triads\n",
      "Time spent classifying triads: 0.012609243392944336\n",
      "Testing 66 potential triadic pairs\n",
      "Time spent finding triads: 0.0012176036834716797\n",
      "Found 121 connected triads\n",
      "Time spent classifying triads: 0.004609823226928711\n",
      "Testing 65 potential triadic pairs\n",
      "Time spent finding triads: 0.0012459754943847656\n",
      "Found 144 connected triads\n",
      "Time spent classifying triads: 0.005572080612182617\n"
     ]
    },
    {
     "name": "stderr",
     "output_type": "stream",
     "text": [
      " 95%|█████████▍| 52/55 [00:05<00:00,  9.26it/s]"
     ]
    },
    {
     "name": "stdout",
     "output_type": "stream",
     "text": [
      "Testing 66 potential triadic pairs\n",
      "Time spent finding triads: 0.0013976097106933594\n",
      "Found 169 connected triads\n",
      "Time spent classifying triads: 0.015557289123535156\n",
      "Testing 66 potential triadic pairs\n",
      "Time spent finding triads: 0.0012836456298828125\n",
      "Found 142 connected triads\n",
      "Time spent classifying triads: 0.005408287048339844\n"
     ]
    },
    {
     "name": "stderr",
     "output_type": "stream",
     "text": [
      " 98%|█████████▊| 54/55 [00:05<00:00,  9.21it/s]"
     ]
    },
    {
     "name": "stdout",
     "output_type": "stream",
     "text": [
      "Testing 41 potential triadic pairs\n",
      "Time spent finding triads: 0.0010399818420410156\n",
      "Found 51 connected triads\n",
      "Time spent classifying triads: 0.004736900329589844\n",
      "Testing 65 potential triadic pairs\n",
      "Time spent finding triads: 0.001184701919555664\n",
      "Found 107 connected triads\n",
      "Time spent classifying triads: 0.00415492057800293\n"
     ]
    },
    {
     "name": "stderr",
     "output_type": "stream",
     "text": [
      "100%|██████████| 55/55 [00:06<00:00,  8.99it/s]\n"
     ]
    },
    {
     "name": "stdout",
     "output_type": "stream",
     "text": [
      "Testing 66 potential triadic pairs\n",
      "Time spent finding triads: 0.001333475112915039\n",
      "Found 163 connected triads\n",
      "Time spent classifying triads: 0.014943599700927734\n"
     ]
    },
    {
     "name": "stderr",
     "output_type": "stream",
     "text": [
      "  2%|▏         | 1/55 [00:00<00:05,  9.73it/s]"
     ]
    },
    {
     "name": "stdout",
     "output_type": "stream",
     "text": [
      "Testing 56 potential triadic pairs\n",
      "Time spent finding triads: 0.0011761188507080078\n",
      "Found 90 connected triads\n",
      "Time spent classifying triads: 0.008297920227050781\n"
     ]
    },
    {
     "name": "stderr",
     "output_type": "stream",
     "text": [
      "\r",
      "  4%|▎         | 2/55 [00:00<00:05,  9.85it/s]"
     ]
    },
    {
     "name": "stdout",
     "output_type": "stream",
     "text": [
      "Testing 66 potential triadic pairs\n",
      "Time spent finding triads: 0.001489877700805664\n",
      "Found 196 connected triads\n",
      "Time spent classifying triads: 0.017908096313476562\n",
      "Testing 66 potential triadic pairs\n",
      "Time spent finding triads: 0.001374959945678711\n",
      "Found 192 connected triads\n",
      "Time spent classifying triads: 0.007307767868041992\n"
     ]
    },
    {
     "name": "stderr",
     "output_type": "stream",
     "text": [
      "\r",
      "  7%|▋         | 4/55 [00:00<00:05, 10.17it/s]"
     ]
    },
    {
     "name": "stdout",
     "output_type": "stream",
     "text": [
      "Testing 63 potential triadic pairs\n",
      "Time spent finding triads: 0.0012886524200439453\n",
      "Found 128 connected triads\n",
      "Time spent classifying triads: 0.009371519088745117\n",
      "Testing 66 potential triadic pairs\n",
      "Time spent finding triads: 0.0014507770538330078\n",
      "Found 196 connected triads\n",
      "Time spent classifying triads: 0.017919301986694336\n",
      "Testing 66 potential triadic pairs\n",
      "Time spent finding triads: 0.0013377666473388672\n",
      "Found 190 connected triads\n",
      "Time spent classifying triads: 0.007160186767578125\n"
     ]
    },
    {
     "name": "stderr",
     "output_type": "stream",
     "text": [
      "\r",
      " 11%|█         | 6/55 [00:00<00:04, 10.11it/s]"
     ]
    },
    {
     "name": "stdout",
     "output_type": "stream",
     "text": [
      "Testing 66 potential triadic pairs\n",
      "Time spent finding triads: 0.0013785362243652344\n",
      "Found 177 connected triads\n",
      "Time spent classifying triads: 0.016247987747192383\n"
     ]
    },
    {
     "name": "stderr",
     "output_type": "stream",
     "text": [
      "\r",
      " 15%|█▍        | 8/55 [00:00<00:04,  9.91it/s]"
     ]
    },
    {
     "name": "stdout",
     "output_type": "stream",
     "text": [
      "Testing 65 potential triadic pairs\n",
      "Time spent finding triads: 0.0012705326080322266\n",
      "Found 117 connected triads\n",
      "Time spent classifying triads: 0.010742902755737305\n",
      "Testing 66 potential triadic pairs\n",
      "Time spent finding triads: 0.0013167858123779297\n",
      "Found 184 connected triads\n",
      "Time spent classifying triads: 0.006984710693359375\n"
     ]
    },
    {
     "name": "stderr",
     "output_type": "stream",
     "text": [
      "\r",
      " 18%|█▊        | 10/55 [00:00<00:04, 10.44it/s]"
     ]
    },
    {
     "name": "stdout",
     "output_type": "stream",
     "text": [
      "Testing 66 potential triadic pairs\n",
      "Time spent finding triads: 0.0013413429260253906\n",
      "Found 167 connected triads\n",
      "Time spent classifying triads: 0.01530146598815918\n"
     ]
    },
    {
     "name": "stderr",
     "output_type": "stream",
     "text": [
      "\r",
      " 22%|██▏       | 12/55 [00:01<00:04, 10.44it/s]"
     ]
    },
    {
     "name": "stdout",
     "output_type": "stream",
     "text": [
      "Testing 65 potential triadic pairs\n",
      "Time spent finding triads: 0.0012488365173339844\n",
      "Found 109 connected triads\n",
      "Time spent classifying triads: 0.010017156600952148\n",
      "Testing 66 potential triadic pairs\n",
      "Time spent finding triads: 0.0013127326965332031\n",
      "Found 163 connected triads\n",
      "Time spent classifying triads: 0.0061550140380859375\n",
      "Testing 65 potential triadic pairs\n",
      "Time spent finding triads: 0.0013794898986816406\n",
      "Found 175 connected triads\n",
      "Time spent classifying triads: 0.008758544921875\n"
     ]
    },
    {
     "name": "stderr",
     "output_type": "stream",
     "text": [
      "\r",
      " 25%|██▌       | 14/55 [00:01<00:03, 10.67it/s]"
     ]
    },
    {
     "name": "stdout",
     "output_type": "stream",
     "text": [
      "Testing 66 potential triadic pairs\n",
      "Time spent finding triads: 0.0013651847839355469\n",
      "Found 170 connected triads\n",
      "Time spent classifying triads: 0.01015019416809082\n",
      "Testing 66 potential triadic pairs\n",
      "Time spent finding triads: 0.0013632774353027344\n",
      "Found 186 connected triads\n",
      "Time spent classifying triads: 0.007054805755615234\n"
     ]
    },
    {
     "name": "stderr",
     "output_type": "stream",
     "text": [
      "\r",
      " 29%|██▉       | 16/55 [00:01<00:03, 10.75it/s]"
     ]
    },
    {
     "name": "stdout",
     "output_type": "stream",
     "text": [
      "Testing 66 potential triadic pairs\n",
      "Time spent finding triads: 0.0015132427215576172\n",
      "Found 209 connected triads\n",
      "Time spent classifying triads: 0.00869894027709961\n"
     ]
    },
    {
     "name": "stderr",
     "output_type": "stream",
     "text": [
      "\r",
      " 33%|███▎      | 18/55 [00:01<00:03, 10.86it/s]"
     ]
    },
    {
     "name": "stdout",
     "output_type": "stream",
     "text": [
      "Testing 66 potential triadic pairs\n",
      "Time spent finding triads: 0.0014276504516601562\n",
      "Found 196 connected triads\n",
      "Time spent classifying triads: 0.017928123474121094\n",
      "Testing 50 potential triadic pairs\n",
      "Time spent finding triads: 0.0010538101196289062\n",
      "Found 70 connected triads\n",
      "Time spent classifying triads: 0.002734661102294922\n",
      "Testing 51 potential triadic pairs\n",
      "Time spent finding triads: 0.0011157989501953125\n",
      "Found 73 connected triads\n",
      "Time spent classifying triads: 0.0067424774169921875\n"
     ]
    },
    {
     "name": "stderr",
     "output_type": "stream",
     "text": [
      "\r",
      " 36%|███▋      | 20/55 [00:01<00:03, 10.87it/s]"
     ]
    },
    {
     "name": "stdout",
     "output_type": "stream",
     "text": [
      "Testing 62 potential triadic pairs\n",
      "Time spent finding triads: 0.0012135505676269531\n",
      "Found 94 connected triads\n",
      "Time spent classifying triads: 0.00866556167602539\n",
      "Testing 66 potential triadic pairs\n",
      "Time spent finding triads: 0.0013802051544189453\n",
      "Found 196 connected triads\n",
      "Time spent classifying triads: 0.007492542266845703\n"
     ]
    },
    {
     "name": "stderr",
     "output_type": "stream",
     "text": [
      "\r",
      " 40%|████      | 22/55 [00:02<00:03, 10.75it/s]"
     ]
    },
    {
     "name": "stdout",
     "output_type": "stream",
     "text": [
      "Testing 34 potential triadic pairs\n",
      "Time spent finding triads: 0.0010123252868652344\n",
      "Found 38 connected triads\n",
      "Time spent classifying triads: 0.003583192825317383\n"
     ]
    },
    {
     "name": "stderr",
     "output_type": "stream",
     "text": [
      "\r",
      " 44%|████▎     | 24/55 [00:02<00:02, 10.80it/s]"
     ]
    },
    {
     "name": "stdout",
     "output_type": "stream",
     "text": [
      "Testing 21 potential triadic pairs\n",
      "Time spent finding triads: 0.0009255409240722656\n",
      "Found 25 connected triads\n",
      "Time spent classifying triads: 0.002374410629272461\n",
      "Testing 66 potential triadic pairs\n",
      "Time spent finding triads: 0.0012538433074951172\n",
      "Found 146 connected triads\n",
      "Time spent classifying triads: 0.005553245544433594\n",
      "Testing 66 potential triadic pairs\n",
      "Time spent finding triads: 0.0014028549194335938\n",
      "Found 177 connected triads\n",
      "Time spent classifying triads: 0.016164541244506836\n"
     ]
    },
    {
     "name": "stderr",
     "output_type": "stream",
     "text": [
      "\r",
      " 47%|████▋     | 26/55 [00:02<00:02, 10.32it/s]"
     ]
    },
    {
     "name": "stdout",
     "output_type": "stream",
     "text": [
      "Testing 65 potential triadic pairs\n",
      "Time spent finding triads: 0.0013265609741210938\n",
      "Found 154 connected triads\n",
      "Time spent classifying triads: 0.014078617095947266\n",
      "Testing 28 potential triadic pairs\n",
      "Time spent finding triads: 0.0009105205535888672\n",
      "Found 26 connected triads\n",
      "Time spent classifying triads: 0.0010759830474853516\n"
     ]
    },
    {
     "name": "stderr",
     "output_type": "stream",
     "text": [
      "\r",
      " 51%|█████     | 28/55 [00:02<00:02, 10.66it/s]"
     ]
    },
    {
     "name": "stdout",
     "output_type": "stream",
     "text": [
      "Testing 51 potential triadic pairs\n",
      "Time spent finding triads: 0.0011315345764160156\n",
      "Found 67 connected triads\n",
      "Time spent classifying triads: 0.0032684803009033203\n"
     ]
    },
    {
     "name": "stderr",
     "output_type": "stream",
     "text": [
      "\r",
      " 55%|█████▍    | 30/55 [00:02<00:02, 10.75it/s]"
     ]
    },
    {
     "name": "stdout",
     "output_type": "stream",
     "text": [
      "Testing 64 potential triadic pairs\n",
      "Time spent finding triads: 0.0012459754943847656\n",
      "Found 120 connected triads\n",
      "Time spent classifying triads: 0.007205486297607422\n",
      "Testing 59 potential triadic pairs\n",
      "Time spent finding triads: 0.001287698745727539\n",
      "Found 85 connected triads\n",
      "Time spent classifying triads: 0.0032579898834228516\n",
      "Testing 50 potential triadic pairs\n",
      "Time spent finding triads: 0.0010721683502197266\n",
      "Found 51 connected triads\n",
      "Time spent classifying triads: 0.0047454833984375\n"
     ]
    },
    {
     "name": "stderr",
     "output_type": "stream",
     "text": [
      "\r",
      " 58%|█████▊    | 32/55 [00:03<00:02, 10.75it/s]"
     ]
    },
    {
     "name": "stdout",
     "output_type": "stream",
     "text": [
      "Testing 66 potential triadic pairs\n",
      "Time spent finding triads: 0.0013821125030517578\n",
      "Found 178 connected triads\n",
      "Time spent classifying triads: 0.01633930206298828\n",
      "Testing 66 potential triadic pairs\n",
      "Time spent finding triads: 0.001466989517211914\n",
      "Found 204 connected triads\n",
      "Time spent classifying triads: 0.017622947692871094\n",
      "Testing 43 potential triadic pairs\n",
      "Time spent finding triads: 0.0010023117065429688\n",
      "Found 54 connected triads\n"
     ]
    },
    {
     "name": "stderr",
     "output_type": "stream",
     "text": [
      "\r",
      " 62%|██████▏   | 34/55 [00:03<00:02, 10.42it/s]"
     ]
    },
    {
     "name": "stdout",
     "output_type": "stream",
     "text": [
      "Time spent classifying triads: 0.0046234130859375\n",
      "Testing 48 potential triadic pairs\n",
      "Time spent finding triads: 0.0010476112365722656\n",
      "Found 77 connected triads\n",
      "Time spent classifying triads: 0.002986907958984375\n"
     ]
    },
    {
     "name": "stderr",
     "output_type": "stream",
     "text": [
      "\r",
      " 65%|██████▌   | 36/55 [00:03<00:01, 10.66it/s]"
     ]
    },
    {
     "name": "stdout",
     "output_type": "stream",
     "text": [
      "Testing 66 potential triadic pairs\n",
      "Time spent finding triads: 0.0014514923095703125\n",
      "Found 202 connected triads\n",
      "Time spent classifying triads: 0.012978076934814453\n"
     ]
    },
    {
     "name": "stderr",
     "output_type": "stream",
     "text": [
      "\r",
      " 69%|██████▉   | 38/55 [00:03<00:01, 10.72it/s]"
     ]
    },
    {
     "name": "stdout",
     "output_type": "stream",
     "text": [
      "Testing 59 potential triadic pairs\n",
      "Time spent finding triads: 0.0011632442474365234\n",
      "Found 84 connected triads\n",
      "Time spent classifying triads: 0.007735013961791992\n",
      "Testing 66 potential triadic pairs\n",
      "Time spent finding triads: 0.00131988525390625\n",
      "Found 176 connected triads\n",
      "Time spent classifying triads: 0.0067331790924072266\n",
      "Testing 63 potential triadic pairs\n",
      "Time spent finding triads: 0.0012619495391845703\n",
      "Found 116 connected triads\n",
      "Time spent classifying triads: 0.010677099227905273\n"
     ]
    },
    {
     "name": "stderr",
     "output_type": "stream",
     "text": [
      "\r",
      " 73%|███████▎  | 40/55 [00:03<00:01, 10.43it/s]"
     ]
    },
    {
     "name": "stdout",
     "output_type": "stream",
     "text": [
      "Testing 66 potential triadic pairs\n",
      "Time spent finding triads: 0.001432657241821289\n",
      "Found 203 connected triads\n",
      "Time spent classifying triads: 0.018681049346923828\n",
      "Testing 49 potential triadic pairs\n",
      "Time spent finding triads: 0.0010571479797363281\n",
      "Found 70 connected triads\n",
      "Time spent classifying triads: 0.002853870391845703\n"
     ]
    },
    {
     "name": "stderr",
     "output_type": "stream",
     "text": [
      "\r",
      " 76%|███████▋  | 42/55 [00:03<00:01, 10.87it/s]"
     ]
    },
    {
     "name": "stdout",
     "output_type": "stream",
     "text": [
      "Testing 30 potential triadic pairs\n",
      "Time spent finding triads: 0.0009737014770507812\n",
      "Found 26 connected triads\n",
      "Time spent classifying triads: 0.002498626708984375\n"
     ]
    },
    {
     "name": "stderr",
     "output_type": "stream",
     "text": [
      "\r",
      " 80%|████████  | 44/55 [00:04<00:01, 10.83it/s]"
     ]
    },
    {
     "name": "stdout",
     "output_type": "stream",
     "text": [
      "Testing 57 potential triadic pairs\n",
      "Time spent finding triads: 0.0011794567108154297\n",
      "Found 85 connected triads\n",
      "Time spent classifying triads: 0.00785684585571289\n",
      "Testing 63 potential triadic pairs\n",
      "Time spent finding triads: 0.0011630058288574219\n",
      "Found 107 connected triads\n",
      "Time spent classifying triads: 0.0040435791015625\n",
      "Testing 61 potential triadic pairs\n",
      "Time spent finding triads: 0.0012018680572509766\n",
      "Found 91 connected triads\n",
      "Time spent classifying triads: 0.008381366729736328\n"
     ]
    },
    {
     "name": "stderr",
     "output_type": "stream",
     "text": [
      "\r",
      " 84%|████████▎ | 46/55 [00:04<00:00, 10.75it/s]"
     ]
    },
    {
     "name": "stdout",
     "output_type": "stream",
     "text": [
      "Testing 66 potential triadic pairs\n",
      "Time spent finding triads: 0.0013010501861572266\n",
      "Found 143 connected triads\n",
      "Time spent classifying triads: 0.01310420036315918\n",
      "Testing 53 potential triadic pairs\n",
      "Time spent finding triads: 0.0011279582977294922\n",
      "Found 89 connected triads\n",
      "Time spent classifying triads: 0.003403186798095703\n"
     ]
    },
    {
     "name": "stderr",
     "output_type": "stream",
     "text": [
      "\r",
      " 87%|████████▋ | 48/55 [00:04<00:00, 10.75it/s]"
     ]
    },
    {
     "name": "stdout",
     "output_type": "stream",
     "text": [
      "Testing 65 potential triadic pairs\n",
      "Time spent finding triads: 0.0012516975402832031\n",
      "Found 106 connected triads\n",
      "Time spent classifying triads: 0.009786605834960938\n"
     ]
    },
    {
     "name": "stderr",
     "output_type": "stream",
     "text": [
      "\r",
      " 91%|█████████ | 50/55 [00:04<00:00, 10.79it/s]"
     ]
    },
    {
     "name": "stdout",
     "output_type": "stream",
     "text": [
      "Testing 66 potential triadic pairs\n",
      "Time spent finding triads: 0.0013532638549804688\n",
      "Found 162 connected triads\n",
      "Time spent classifying triads: 0.008446216583251953\n",
      "Testing 66 potential triadic pairs\n",
      "Time spent finding triads: 0.0014040470123291016\n",
      "Found 207 connected triads\n",
      "Time spent classifying triads: 0.0088043212890625\n",
      "Testing 64 potential triadic pairs\n",
      "Time spent finding triads: 0.0012407302856445312\n",
      "Found 92 connected triads\n",
      "Time spent classifying triads: 0.008476495742797852\n"
     ]
    },
    {
     "name": "stderr",
     "output_type": "stream",
     "text": [
      "\r",
      " 95%|█████████▍| 52/55 [00:04<00:00,  9.69it/s]"
     ]
    },
    {
     "name": "stdout",
     "output_type": "stream",
     "text": [
      "Testing 66 potential triadic pairs\n",
      "Time spent finding triads: 0.0023186206817626953\n",
      "Found 179 connected triads\n",
      "Time spent classifying triads: 0.01450204849243164\n"
     ]
    },
    {
     "name": "stderr",
     "output_type": "stream",
     "text": [
      "\r",
      " 98%|█████████▊| 54/55 [00:05<00:00, 10.32it/s]"
     ]
    },
    {
     "name": "stdout",
     "output_type": "stream",
     "text": [
      "Testing 66 potential triadic pairs\n",
      "Time spent finding triads: 0.0013706684112548828\n",
      "Found 189 connected triads\n",
      "Time spent classifying triads: 0.008050680160522461\n",
      "Testing 49 potential triadic pairs\n",
      "Time spent finding triads: 0.0010228157043457031\n",
      "Found 60 connected triads\n",
      "Time spent classifying triads: 0.002352476119995117\n"
     ]
    },
    {
     "name": "stderr",
     "output_type": "stream",
     "text": [
      "\r",
      "100%|██████████| 55/55 [00:05<00:00, 10.54it/s]"
     ]
    },
    {
     "name": "stdout",
     "output_type": "stream",
     "text": [
      "Testing 66 potential triadic pairs\n",
      "Time spent finding triads: 0.0012710094451904297\n",
      "Found 128 connected triads\n",
      "Time spent classifying triads: 0.007208824157714844\n"
     ]
    },
    {
     "name": "stderr",
     "output_type": "stream",
     "text": [
      "\n",
      "  2%|▏         | 1/55 [00:00<00:06,  8.32it/s]"
     ]
    },
    {
     "name": "stdout",
     "output_type": "stream",
     "text": [
      "Testing 62 potential triadic pairs\n",
      "Time spent finding triads: 0.001201629638671875\n",
      "Found 101 connected triads\n",
      "Time spent classifying triads: 0.005120754241943359\n"
     ]
    },
    {
     "name": "stderr",
     "output_type": "stream",
     "text": [
      "\r",
      "  4%|▎         | 2/55 [00:00<00:06,  8.22it/s]"
     ]
    },
    {
     "name": "stdout",
     "output_type": "stream",
     "text": [
      "Testing 42 potential triadic pairs\n",
      "Time spent finding triads: 0.0010263919830322266\n",
      "Found 38 connected triads\n",
      "Time spent classifying triads: 0.0035636425018310547\n"
     ]
    },
    {
     "name": "stderr",
     "output_type": "stream",
     "text": [
      "\r",
      "  5%|▌         | 3/55 [00:00<00:06,  8.14it/s]"
     ]
    },
    {
     "name": "stdout",
     "output_type": "stream",
     "text": [
      "Testing 30 potential triadic pairs\n",
      "Time spent finding triads: 0.000946044921875\n",
      "Found 28 connected triads\n",
      "Time spent classifying triads: 0.002649545669555664\n"
     ]
    },
    {
     "name": "stderr",
     "output_type": "stream",
     "text": [
      "\r",
      "  7%|▋         | 4/55 [00:00<00:06,  7.87it/s]"
     ]
    },
    {
     "name": "stdout",
     "output_type": "stream",
     "text": [
      "Testing 66 potential triadic pairs\n",
      "Time spent finding triads: 0.0014171600341796875\n",
      "Found 183 connected triads\n",
      "Time spent classifying triads: 0.016660451889038086\n"
     ]
    },
    {
     "name": "stderr",
     "output_type": "stream",
     "text": [
      "\r",
      "  9%|▉         | 5/55 [00:00<00:06,  7.58it/s]"
     ]
    },
    {
     "name": "stdout",
     "output_type": "stream",
     "text": [
      "Testing 66 potential triadic pairs\n",
      "Time spent finding triads: 0.0015108585357666016\n",
      "Found 211 connected triads\n",
      "Time spent classifying triads: 0.019322633743286133\n"
     ]
    },
    {
     "name": "stderr",
     "output_type": "stream",
     "text": [
      "\r",
      " 11%|█         | 6/55 [00:00<00:06,  7.73it/s]"
     ]
    },
    {
     "name": "stdout",
     "output_type": "stream",
     "text": [
      "Testing 66 potential triadic pairs\n",
      "Time spent finding triads: 0.001340627670288086\n",
      "Found 157 connected triads\n",
      "Time spent classifying triads: 0.006308555603027344\n"
     ]
    },
    {
     "name": "stderr",
     "output_type": "stream",
     "text": [
      "\r",
      " 13%|█▎        | 7/55 [00:00<00:06,  7.69it/s]"
     ]
    },
    {
     "name": "stdout",
     "output_type": "stream",
     "text": [
      "Testing 42 potential triadic pairs\n",
      "Time spent finding triads: 0.0010313987731933594\n",
      "Found 51 connected triads\n",
      "Time spent classifying triads: 0.004759788513183594\n"
     ]
    },
    {
     "name": "stderr",
     "output_type": "stream",
     "text": [
      "\r",
      " 15%|█▍        | 8/55 [00:01<00:06,  7.63it/s]"
     ]
    },
    {
     "name": "stdout",
     "output_type": "stream",
     "text": [
      "Testing 65 potential triadic pairs\n",
      "Time spent finding triads: 0.0012421607971191406\n",
      "Found 106 connected triads\n",
      "Time spent classifying triads: 0.009728193283081055\n"
     ]
    },
    {
     "name": "stderr",
     "output_type": "stream",
     "text": [
      "\r",
      " 16%|█▋        | 9/55 [00:01<00:05,  7.69it/s]"
     ]
    },
    {
     "name": "stdout",
     "output_type": "stream",
     "text": [
      "Testing 54 potential triadic pairs\n",
      "Time spent finding triads: 0.0011649131774902344\n",
      "Found 85 connected triads\n",
      "Time spent classifying triads: 0.00658106803894043\n"
     ]
    },
    {
     "name": "stderr",
     "output_type": "stream",
     "text": [
      "\r",
      " 18%|█▊        | 10/55 [00:01<00:06,  7.25it/s]"
     ]
    },
    {
     "name": "stdout",
     "output_type": "stream",
     "text": [
      "Testing 63 potential triadic pairs\n",
      "Time spent finding triads: 0.0012311935424804688\n",
      "Found 115 connected triads\n",
      "Time spent classifying triads: 0.010437726974487305\n"
     ]
    },
    {
     "name": "stderr",
     "output_type": "stream",
     "text": [
      "\r",
      " 20%|██        | 11/55 [00:01<00:05,  7.39it/s]"
     ]
    },
    {
     "name": "stdout",
     "output_type": "stream",
     "text": [
      "Testing 66 potential triadic pairs\n",
      "Time spent finding triads: 0.001299142837524414\n",
      "Found 144 connected triads\n",
      "Time spent classifying triads: 0.011695623397827148\n"
     ]
    },
    {
     "name": "stderr",
     "output_type": "stream",
     "text": [
      "\r",
      " 22%|██▏       | 12/55 [00:01<00:05,  7.43it/s]"
     ]
    },
    {
     "name": "stdout",
     "output_type": "stream",
     "text": [
      "Testing 66 potential triadic pairs\n",
      "Time spent finding triads: 0.0014271736145019531\n",
      "Found 208 connected triads\n",
      "Time spent classifying triads: 0.018960237503051758\n"
     ]
    },
    {
     "name": "stderr",
     "output_type": "stream",
     "text": [
      "\r",
      " 24%|██▎       | 13/55 [00:01<00:05,  7.47it/s]"
     ]
    },
    {
     "name": "stdout",
     "output_type": "stream",
     "text": [
      "Testing 66 potential triadic pairs\n",
      "Time spent finding triads: 0.0014095306396484375\n",
      "Found 190 connected triads\n",
      "Time spent classifying triads: 0.015056133270263672\n"
     ]
    },
    {
     "name": "stderr",
     "output_type": "stream",
     "text": [
      "\r",
      " 25%|██▌       | 14/55 [00:01<00:05,  7.61it/s]"
     ]
    },
    {
     "name": "stdout",
     "output_type": "stream",
     "text": [
      "Testing 63 potential triadic pairs\n",
      "Time spent finding triads: 0.0012230873107910156\n",
      "Found 111 connected triads\n",
      "Time spent classifying triads: 0.010156869888305664\n"
     ]
    },
    {
     "name": "stderr",
     "output_type": "stream",
     "text": [
      "\r",
      " 27%|██▋       | 15/55 [00:01<00:05,  7.61it/s]"
     ]
    },
    {
     "name": "stdout",
     "output_type": "stream",
     "text": [
      "Testing 64 potential triadic pairs\n",
      "Time spent finding triads: 0.0013017654418945312\n",
      "Found 143 connected triads\n",
      "Time spent classifying triads: 0.013067245483398438\n"
     ]
    },
    {
     "name": "stderr",
     "output_type": "stream",
     "text": [
      "\r",
      " 29%|██▉       | 16/55 [00:02<00:05,  7.76it/s]"
     ]
    },
    {
     "name": "stdout",
     "output_type": "stream",
     "text": [
      "Testing 58 potential triadic pairs\n",
      "Time spent finding triads: 0.0011620521545410156\n",
      "Found 74 connected triads\n",
      "Time spent classifying triads: 0.006807565689086914\n"
     ]
    },
    {
     "name": "stderr",
     "output_type": "stream",
     "text": [
      "\r",
      " 31%|███       | 17/55 [00:02<00:04,  7.97it/s]"
     ]
    },
    {
     "name": "stdout",
     "output_type": "stream",
     "text": [
      "Testing 45 potential triadic pairs\n",
      "Time spent finding triads: 0.0010571479797363281\n",
      "Found 56 connected triads\n",
      "Time spent classifying triads: 0.005248546600341797\n"
     ]
    },
    {
     "name": "stderr",
     "output_type": "stream",
     "text": [
      "\r",
      " 33%|███▎      | 18/55 [00:02<00:04,  8.02it/s]"
     ]
    },
    {
     "name": "stdout",
     "output_type": "stream",
     "text": [
      "Testing 50 potential triadic pairs\n",
      "Time spent finding triads: 0.0011153221130371094\n",
      "Found 73 connected triads\n",
      "Time spent classifying triads: 0.006770610809326172\n"
     ]
    },
    {
     "name": "stderr",
     "output_type": "stream",
     "text": [
      "\r",
      " 35%|███▍      | 19/55 [00:02<00:04,  7.77it/s]"
     ]
    },
    {
     "name": "stdout",
     "output_type": "stream",
     "text": [
      "Testing 66 potential triadic pairs\n",
      "Time spent finding triads: 0.0014448165893554688\n",
      "Found 202 connected triads\n",
      "Time spent classifying triads: 0.01843571662902832\n"
     ]
    },
    {
     "name": "stderr",
     "output_type": "stream",
     "text": [
      "\r",
      " 36%|███▋      | 20/55 [00:02<00:04,  7.66it/s]"
     ]
    },
    {
     "name": "stdout",
     "output_type": "stream",
     "text": [
      "Testing 66 potential triadic pairs\n",
      "Time spent finding triads: 0.001318216323852539\n",
      "Found 151 connected triads\n",
      "Time spent classifying triads: 0.013770103454589844\n"
     ]
    },
    {
     "name": "stderr",
     "output_type": "stream",
     "text": [
      "\r",
      " 38%|███▊      | 21/55 [00:02<00:04,  7.56it/s]"
     ]
    },
    {
     "name": "stdout",
     "output_type": "stream",
     "text": [
      "Testing 66 potential triadic pairs\n",
      "Time spent finding triads: 0.0014379024505615234\n",
      "Found 204 connected triads\n",
      "Time spent classifying triads: 0.018547773361206055\n"
     ]
    },
    {
     "name": "stderr",
     "output_type": "stream",
     "text": [
      "\r",
      " 40%|████      | 22/55 [00:02<00:04,  7.58it/s]"
     ]
    },
    {
     "name": "stdout",
     "output_type": "stream",
     "text": [
      "Testing 65 potential triadic pairs\n",
      "Time spent finding triads: 0.0013248920440673828\n",
      "Found 155 connected triads\n",
      "Time spent classifying triads: 0.014186859130859375\n"
     ]
    },
    {
     "name": "stderr",
     "output_type": "stream",
     "text": [
      "\r",
      " 42%|████▏     | 23/55 [00:02<00:04,  7.62it/s]"
     ]
    },
    {
     "name": "stdout",
     "output_type": "stream",
     "text": [
      "Testing 66 potential triadic pairs\n",
      "Time spent finding triads: 0.0013515949249267578\n",
      "Found 170 connected triads\n",
      "Time spent classifying triads: 0.015532732009887695\n"
     ]
    },
    {
     "name": "stderr",
     "output_type": "stream",
     "text": [
      "\r",
      " 44%|████▎     | 24/55 [00:03<00:04,  6.90it/s]"
     ]
    },
    {
     "name": "stdout",
     "output_type": "stream",
     "text": [
      "Testing 66 potential triadic pairs\n",
      "Time spent finding triads: 0.0027594566345214844\n",
      "Found 153 connected triads\n",
      "Time spent classifying triads: 0.012122154235839844\n",
      "Testing 44 potential triadic pairs\n",
      "Time spent finding triads: 0.0019237995147705078\n",
      "Found 46 connected triads\n",
      "Time spent classifying triads: 0.0036902427673339844\n"
     ]
    },
    {
     "name": "stderr",
     "output_type": "stream",
     "text": [
      " 47%|████▋     | 26/55 [00:03<00:06,  4.65it/s]"
     ]
    },
    {
     "name": "stdout",
     "output_type": "stream",
     "text": [
      "Testing 66 potential triadic pairs\n",
      "Time spent finding triads: 0.0024085044860839844\n",
      "Found 136 connected triads\n",
      "Time spent classifying triads: 0.01445627212524414\n"
     ]
    },
    {
     "name": "stderr",
     "output_type": "stream",
     "text": [
      "\r",
      " 49%|████▉     | 27/55 [00:03<00:06,  4.33it/s]"
     ]
    },
    {
     "name": "stdout",
     "output_type": "stream",
     "text": [
      "Testing 66 potential triadic pairs\n",
      "Time spent finding triads: 0.002591371536254883\n",
      "Found 173 connected triads\n",
      "Time spent classifying triads: 0.017537593841552734\n",
      "Testing 53 potential triadic pairs\n",
      "Time spent finding triads: 0.0021457672119140625\n",
      "Found 93 connected triads\n",
      "Time spent classifying triads: 0.007666826248168945\n"
     ]
    },
    {
     "name": "stderr",
     "output_type": "stream",
     "text": [
      " 53%|█████▎    | 29/55 [00:04<00:05,  4.59it/s]"
     ]
    },
    {
     "name": "stdout",
     "output_type": "stream",
     "text": [
      "Testing 56 potential triadic pairs\n",
      "Time spent finding triads: 0.002176523208618164\n",
      "Found 81 connected triads\n",
      "Time spent classifying triads: 0.006582736968994141\n",
      "Testing 66 potential triadic pairs\n",
      "Time spent finding triads: 0.0023398399353027344\n",
      "Found 139 connected triads\n",
      "Time spent classifying triads: 0.011108875274658203\n"
     ]
    },
    {
     "name": "stderr",
     "output_type": "stream",
     "text": [
      " 58%|█████▊    | 32/55 [00:04<00:04,  5.04it/s]"
     ]
    },
    {
     "name": "stdout",
     "output_type": "stream",
     "text": [
      "Testing 66 potential triadic pairs\n",
      "Time spent finding triads: 0.0024263858795166016\n",
      "Found 175 connected triads\n",
      "Time spent classifying triads: 0.013974428176879883\n",
      "Testing 66 potential triadic pairs\n",
      "Time spent finding triads: 0.0011897087097167969\n",
      "Found 107 connected triads\n",
      "Time spent classifying triads: 0.0041065216064453125\n"
     ]
    },
    {
     "name": "stderr",
     "output_type": "stream",
     "text": [
      " 62%|██████▏   | 34/55 [00:05<00:03,  6.40it/s]"
     ]
    },
    {
     "name": "stdout",
     "output_type": "stream",
     "text": [
      "Testing 32 potential triadic pairs\n",
      "Time spent finding triads: 0.0009808540344238281\n",
      "Found 32 connected triads\n",
      "Time spent classifying triads: 0.0030364990234375\n",
      "Testing 59 potential triadic pairs\n",
      "Time spent finding triads: 0.0011341571807861328\n",
      "Found 87 connected triads\n",
      "Time spent classifying triads: 0.0033407211303710938\n"
     ]
    },
    {
     "name": "stderr",
     "output_type": "stream",
     "text": [
      " 65%|██████▌   | 36/55 [00:05<00:02,  7.09it/s]"
     ]
    },
    {
     "name": "stdout",
     "output_type": "stream",
     "text": [
      "Testing 66 potential triadic pairs\n",
      "Time spent finding triads: 0.0013501644134521484\n",
      "Found 176 connected triads\n",
      "Time spent classifying triads: 0.016056537628173828\n",
      "Testing 66 potential triadic pairs\n",
      "Time spent finding triads: 0.0013260841369628906\n",
      "Found 172 connected triads\n",
      "Time spent classifying triads: 0.006463289260864258\n"
     ]
    },
    {
     "name": "stderr",
     "output_type": "stream",
     "text": [
      " 69%|██████▉   | 38/55 [00:05<00:02,  7.64it/s]"
     ]
    },
    {
     "name": "stdout",
     "output_type": "stream",
     "text": [
      "Testing 66 potential triadic pairs\n",
      "Time spent finding triads: 0.0012667179107666016\n",
      "Found 134 connected triads\n",
      "Time spent classifying triads: 0.006088733673095703\n",
      "Testing 63 potential triadic pairs\n",
      "Time spent finding triads: 0.0012013912200927734\n",
      "Found 117 connected triads\n",
      "Time spent classifying triads: 0.00446319580078125\n"
     ]
    },
    {
     "name": "stderr",
     "output_type": "stream",
     "text": [
      " 73%|███████▎  | 40/55 [00:05<00:01,  8.03it/s]"
     ]
    },
    {
     "name": "stdout",
     "output_type": "stream",
     "text": [
      "Testing 39 potential triadic pairs\n",
      "Time spent finding triads: 0.0010368824005126953\n",
      "Found 47 connected triads\n",
      "Time spent classifying triads: 0.004384279251098633\n",
      "Testing 52 potential triadic pairs\n",
      "Time spent finding triads: 0.0010921955108642578\n",
      "Found 85 connected triads\n",
      "Time spent classifying triads: 0.0033769607543945312\n"
     ]
    },
    {
     "name": "stderr",
     "output_type": "stream",
     "text": [
      " 76%|███████▋  | 42/55 [00:06<00:01,  7.98it/s]"
     ]
    },
    {
     "name": "stdout",
     "output_type": "stream",
     "text": [
      "Testing 64 potential triadic pairs\n",
      "Time spent finding triads: 0.0012335777282714844\n",
      "Found 108 connected triads\n",
      "Time spent classifying triads: 0.009876251220703125\n",
      "Testing 66 potential triadic pairs\n",
      "Time spent finding triads: 0.0012683868408203125\n",
      "Found 154 connected triads\n",
      "Time spent classifying triads: 0.005837202072143555\n"
     ]
    },
    {
     "name": "stderr",
     "output_type": "stream",
     "text": [
      " 80%|████████  | 44/55 [00:06<00:01,  8.13it/s]"
     ]
    },
    {
     "name": "stdout",
     "output_type": "stream",
     "text": [
      "Testing 55 potential triadic pairs\n",
      "Time spent finding triads: 0.0011258125305175781\n",
      "Found 69 connected triads\n",
      "Time spent classifying triads: 0.0063970088958740234\n",
      "Testing 65 potential triadic pairs\n",
      "Time spent finding triads: 0.0012946128845214844\n",
      "Found 162 connected triads\n",
      "Time spent classifying triads: 0.006114006042480469\n"
     ]
    },
    {
     "name": "stderr",
     "output_type": "stream",
     "text": [
      " 84%|████████▎ | 46/55 [00:06<00:01,  8.18it/s]"
     ]
    },
    {
     "name": "stdout",
     "output_type": "stream",
     "text": [
      "Testing 54 potential triadic pairs\n",
      "Time spent finding triads: 0.0011401176452636719\n",
      "Found 79 connected triads\n",
      "Time spent classifying triads: 0.007350921630859375\n",
      "Testing 66 potential triadic pairs\n",
      "Time spent finding triads: 0.0013418197631835938\n",
      "Found 183 connected triads\n",
      "Time spent classifying triads: 0.006904125213623047\n"
     ]
    },
    {
     "name": "stderr",
     "output_type": "stream",
     "text": [
      " 87%|████████▋ | 48/55 [00:06<00:00,  8.30it/s]"
     ]
    },
    {
     "name": "stdout",
     "output_type": "stream",
     "text": [
      "Testing 29 potential triadic pairs\n",
      "Time spent finding triads: 0.0009722709655761719\n",
      "Found 32 connected triads\n",
      "Time spent classifying triads: 0.0030601024627685547\n",
      "Testing 57 potential triadic pairs\n",
      "Time spent finding triads: 0.0011358261108398438\n",
      "Found 99 connected triads\n",
      "Time spent classifying triads: 0.0038063526153564453\n"
     ]
    },
    {
     "name": "stderr",
     "output_type": "stream",
     "text": [
      " 91%|█████████ | 50/55 [00:07<00:00,  8.19it/s]"
     ]
    },
    {
     "name": "stdout",
     "output_type": "stream",
     "text": [
      "Testing 66 potential triadic pairs\n",
      "Time spent finding triads: 0.0013854503631591797\n",
      "Found 186 connected triads\n",
      "Time spent classifying triads: 0.016247987747192383\n",
      "Testing 65 potential triadic pairs\n",
      "Time spent finding triads: 0.0012252330780029297\n",
      "Found 136 connected triads\n",
      "Time spent classifying triads: 0.005198955535888672\n"
     ]
    },
    {
     "name": "stderr",
     "output_type": "stream",
     "text": [
      " 95%|█████████▍| 52/55 [00:07<00:00,  7.95it/s]"
     ]
    },
    {
     "name": "stdout",
     "output_type": "stream",
     "text": [
      "Testing 51 potential triadic pairs\n",
      "Time spent finding triads: 0.0011289119720458984\n",
      "Found 67 connected triads\n",
      "Time spent classifying triads: 0.006237030029296875\n",
      "Testing 44 potential triadic pairs\n",
      "Time spent finding triads: 0.0009927749633789062\n",
      "Found 52 connected triads\n",
      "Time spent classifying triads: 0.0020596981048583984\n"
     ]
    },
    {
     "name": "stderr",
     "output_type": "stream",
     "text": [
      " 98%|█████████▊| 54/55 [00:07<00:00,  8.02it/s]"
     ]
    },
    {
     "name": "stdout",
     "output_type": "stream",
     "text": [
      "Testing 66 potential triadic pairs\n",
      "Time spent finding triads: 0.001338958740234375\n",
      "Found 164 connected triads\n",
      "Time spent classifying triads: 0.013765096664428711\n",
      "Testing 66 potential triadic pairs\n",
      "Time spent finding triads: 0.0012700557708740234\n",
      "Found 159 connected triads\n",
      "Time spent classifying triads: 0.006047964096069336\n"
     ]
    },
    {
     "name": "stderr",
     "output_type": "stream",
     "text": [
      "100%|██████████| 55/55 [00:07<00:00,  7.03it/s]\n"
     ]
    },
    {
     "name": "stdout",
     "output_type": "stream",
     "text": [
      "Testing 66 potential triadic pairs\n",
      "Time spent finding triads: 0.0014190673828125\n",
      "Found 200 connected triads\n",
      "Time spent classifying triads: 0.018369674682617188\n"
     ]
    },
    {
     "name": "stderr",
     "output_type": "stream",
     "text": [
      "  4%|▎         | 2/55 [00:00<00:04, 11.97it/s]"
     ]
    },
    {
     "name": "stdout",
     "output_type": "stream",
     "text": [
      "Testing 46 potential triadic pairs\n",
      "Time spent finding triads: 0.0010514259338378906\n",
      "Found 50 connected triads\n",
      "Time spent classifying triads: 0.004662752151489258\n",
      "Testing 66 potential triadic pairs\n",
      "Time spent finding triads: 0.0012345314025878906\n",
      "Found 136 connected triads\n",
      "Time spent classifying triads: 0.005202293395996094\n",
      "Testing 51 potential triadic pairs\n",
      "Time spent finding triads: 0.0011129379272460938\n",
      "Found 64 connected triads\n",
      "Time spent classifying triads: 0.0059356689453125\n"
     ]
    },
    {
     "name": "stderr",
     "output_type": "stream",
     "text": [
      "\r",
      "  7%|▋         | 4/55 [00:00<00:04, 11.81it/s]"
     ]
    },
    {
     "name": "stdout",
     "output_type": "stream",
     "text": [
      "Testing 66 potential triadic pairs\n",
      "Time spent finding triads: 0.0013477802276611328\n",
      "Found 165 connected triads\n",
      "Time spent classifying triads: 0.013157367706298828\n",
      "Testing 66 potential triadic pairs\n",
      "Time spent finding triads: 0.001239776611328125\n",
      "Found 136 connected triads\n",
      "Time spent classifying triads: 0.005170106887817383\n"
     ]
    },
    {
     "name": "stderr",
     "output_type": "stream",
     "text": [
      "\r",
      " 11%|█         | 6/55 [00:00<00:04, 11.35it/s]"
     ]
    },
    {
     "name": "stdout",
     "output_type": "stream",
     "text": [
      "Testing 66 potential triadic pairs\n",
      "Time spent finding triads: 0.0012748241424560547\n",
      "Found 107 connected triads\n",
      "Time spent classifying triads: 0.007042407989501953\n"
     ]
    },
    {
     "name": "stderr",
     "output_type": "stream",
     "text": [
      "\r",
      " 15%|█▍        | 8/55 [00:00<00:04, 10.95it/s]"
     ]
    },
    {
     "name": "stdout",
     "output_type": "stream",
     "text": [
      "Testing 66 potential triadic pairs\n",
      "Time spent finding triads: 0.0013222694396972656\n",
      "Found 156 connected triads\n",
      "Time spent classifying triads: 0.014220714569091797\n",
      "Testing 66 potential triadic pairs\n",
      "Time spent finding triads: 0.0012710094451904297\n",
      "Found 154 connected triads\n",
      "Time spent classifying triads: 0.00582122802734375\n",
      "Testing 63 potential triadic pairs\n",
      "Time spent finding triads: 0.0012357234954833984\n",
      "Found 112 connected triads\n",
      "Time spent classifying triads: 0.01028752326965332\n"
     ]
    },
    {
     "name": "stderr",
     "output_type": "stream",
     "text": [
      "\r",
      " 18%|█▊        | 10/55 [00:00<00:04, 10.73it/s]"
     ]
    },
    {
     "name": "stdout",
     "output_type": "stream",
     "text": [
      "Testing 66 potential triadic pairs\n",
      "Time spent finding triads: 0.001384735107421875\n",
      "Found 169 connected triads\n",
      "Time spent classifying triads: 0.015502691268920898\n",
      "Testing 65 potential triadic pairs\n",
      "Time spent finding triads: 0.0012450218200683594\n",
      "Found 141 connected triads\n",
      "Time spent classifying triads: 0.005374431610107422\n"
     ]
    },
    {
     "name": "stderr",
     "output_type": "stream",
     "text": [
      "\r",
      " 22%|██▏       | 12/55 [00:01<00:03, 10.76it/s]"
     ]
    },
    {
     "name": "stdout",
     "output_type": "stream",
     "text": [
      "Testing 66 potential triadic pairs\n",
      "Time spent finding triads: 0.0013127326965332031\n",
      "Found 146 connected triads\n",
      "Time spent classifying triads: 0.013387918472290039\n"
     ]
    },
    {
     "name": "stderr",
     "output_type": "stream",
     "text": [
      "\r",
      " 25%|██▌       | 14/55 [00:01<00:03, 10.98it/s]"
     ]
    },
    {
     "name": "stdout",
     "output_type": "stream",
     "text": [
      "Testing 66 potential triadic pairs\n",
      "Time spent finding triads: 0.001293182373046875\n",
      "Found 143 connected triads\n",
      "Time spent classifying triads: 0.01313018798828125\n",
      "Testing 38 potential triadic pairs\n",
      "Time spent finding triads: 0.0009617805480957031\n",
      "Found 39 connected triads\n",
      "Time spent classifying triads: 0.0015752315521240234\n",
      "Testing 66 potential triadic pairs\n",
      "Time spent finding triads: 0.001397848129272461\n",
      "Found 184 connected triads\n",
      "Time spent classifying triads: 0.007652997970581055\n"
     ]
    },
    {
     "name": "stderr",
     "output_type": "stream",
     "text": [
      "\r",
      " 29%|██▉       | 16/55 [00:01<00:03, 11.03it/s]"
     ]
    },
    {
     "name": "stdout",
     "output_type": "stream",
     "text": [
      "Testing 66 potential triadic pairs\n",
      "Time spent finding triads: 0.0013363361358642578\n",
      "Found 173 connected triads\n",
      "Time spent classifying triads: 0.015837907791137695\n",
      "Testing 36 potential triadic pairs\n",
      "Time spent finding triads: 0.0009572505950927734\n",
      "Found 39 connected triads\n",
      "Time spent classifying triads: 0.0015718936920166016\n"
     ]
    },
    {
     "name": "stderr",
     "output_type": "stream",
     "text": [
      "\r",
      " 33%|███▎      | 18/55 [00:01<00:03, 11.22it/s]"
     ]
    },
    {
     "name": "stdout",
     "output_type": "stream",
     "text": [
      "Testing 66 potential triadic pairs\n",
      "Time spent finding triads: 0.0012235641479492188\n",
      "Found 92 connected triads\n",
      "Time spent classifying triads: 0.008477210998535156\n"
     ]
    },
    {
     "name": "stderr",
     "output_type": "stream",
     "text": [
      "\r",
      " 36%|███▋      | 20/55 [00:01<00:03, 11.54it/s]"
     ]
    },
    {
     "name": "stdout",
     "output_type": "stream",
     "text": [
      "Testing 56 potential triadic pairs\n",
      "Time spent finding triads: 0.0011548995971679688\n",
      "Found 78 connected triads\n",
      "Time spent classifying triads: 0.0072269439697265625\n",
      "Testing 60 potential triadic pairs\n",
      "Time spent finding triads: 0.0012531280517578125\n",
      "Found 144 connected triads\n",
      "Time spent classifying triads: 0.005449056625366211\n",
      "Testing 45 potential triadic pairs\n",
      "Time spent finding triads: 0.0010776519775390625\n",
      "Found 56 connected triads\n",
      "Time spent classifying triads: 0.005200386047363281\n"
     ]
    },
    {
     "name": "stderr",
     "output_type": "stream",
     "text": [
      "\r",
      " 40%|████      | 22/55 [00:01<00:02, 11.60it/s]"
     ]
    },
    {
     "name": "stdout",
     "output_type": "stream",
     "text": [
      "Testing 19 potential triadic pairs\n",
      "Time spent finding triads: 0.0008864402770996094\n",
      "Found 17 connected triads\n",
      "Time spent classifying triads: 0.001659393310546875\n",
      "Testing 49 potential triadic pairs\n",
      "Time spent finding triads: 0.001049041748046875\n",
      "Found 66 connected triads\n",
      "Time spent classifying triads: 0.0025649070739746094\n"
     ]
    },
    {
     "name": "stderr",
     "output_type": "stream",
     "text": [
      "\r",
      " 44%|████▎     | 24/55 [00:02<00:02, 11.50it/s]"
     ]
    },
    {
     "name": "stdout",
     "output_type": "stream",
     "text": [
      "Testing 44 potential triadic pairs\n",
      "Time spent finding triads: 0.0010609626770019531\n",
      "Found 48 connected triads\n",
      "Time spent classifying triads: 0.004496335983276367\n"
     ]
    },
    {
     "name": "stderr",
     "output_type": "stream",
     "text": [
      "\r",
      " 47%|████▋     | 26/55 [00:02<00:02, 11.33it/s]"
     ]
    },
    {
     "name": "stdout",
     "output_type": "stream",
     "text": [
      "Testing 66 potential triadic pairs\n",
      "Time spent finding triads: 0.0012967586517333984\n",
      "Found 133 connected triads\n",
      "Time spent classifying triads: 0.012223243713378906\n",
      "Testing 66 potential triadic pairs\n",
      "Time spent finding triads: 0.0013914108276367188\n",
      "Found 200 connected triads\n",
      "Time spent classifying triads: 0.007669925689697266\n",
      "Testing 64 potential triadic pairs\n",
      "Time spent finding triads: 0.0012471675872802734\n",
      "Found 113 connected triads\n",
      "Time spent classifying triads: 0.010372161865234375\n"
     ]
    },
    {
     "name": "stderr",
     "output_type": "stream",
     "text": [
      "\r",
      " 51%|█████     | 28/55 [00:02<00:02, 11.31it/s]"
     ]
    },
    {
     "name": "stdout",
     "output_type": "stream",
     "text": [
      "Testing 56 potential triadic pairs\n",
      "Time spent finding triads: 0.0011680126190185547\n",
      "Found 85 connected triads\n",
      "Time spent classifying triads: 0.007830619812011719\n",
      "Testing 66 potential triadic pairs\n",
      "Time spent finding triads: 0.0012977123260498047\n",
      "Found 169 connected triads\n",
      "Time spent classifying triads: 0.0064504146575927734\n"
     ]
    },
    {
     "name": "stderr",
     "output_type": "stream",
     "text": [
      "\r",
      " 55%|█████▍    | 30/55 [00:02<00:02, 11.29it/s]"
     ]
    },
    {
     "name": "stdout",
     "output_type": "stream",
     "text": [
      "Testing 62 potential triadic pairs\n",
      "Time spent finding triads: 0.0012059211730957031\n",
      "Found 97 connected triads\n",
      "Time spent classifying triads: 0.008933544158935547\n"
     ]
    },
    {
     "name": "stderr",
     "output_type": "stream",
     "text": [
      "\r",
      " 58%|█████▊    | 32/55 [00:02<00:01, 11.60it/s]"
     ]
    },
    {
     "name": "stdout",
     "output_type": "stream",
     "text": [
      "Testing 48 potential triadic pairs\n",
      "Time spent finding triads: 0.001087188720703125\n",
      "Found 71 connected triads\n",
      "Time spent classifying triads: 0.00656580924987793\n",
      "Testing 64 potential triadic pairs\n",
      "Time spent finding triads: 0.0012052059173583984\n",
      "Found 118 connected triads\n",
      "Time spent classifying triads: 0.004518032073974609\n",
      "Testing 66 potential triadic pairs\n",
      "Time spent finding triads: 0.0013699531555175781\n",
      "Found 188 connected triads\n",
      "Time spent classifying triads: 0.017150402069091797\n"
     ]
    },
    {
     "name": "stderr",
     "output_type": "stream",
     "text": [
      "\r",
      " 62%|██████▏   | 34/55 [00:03<00:01, 10.90it/s]"
     ]
    },
    {
     "name": "stdout",
     "output_type": "stream",
     "text": [
      "Testing 66 potential triadic pairs\n",
      "Time spent finding triads: 0.0014064311981201172\n",
      "Found 187 connected triads\n",
      "Time spent classifying triads: 0.01281285285949707\n",
      "Testing 66 potential triadic pairs\n",
      "Time spent finding triads: 0.0012841224670410156\n",
      "Found 174 connected triads\n",
      "Time spent classifying triads: 0.006571769714355469\n"
     ]
    },
    {
     "name": "stderr",
     "output_type": "stream",
     "text": [
      "\r",
      " 65%|██████▌   | 36/55 [00:03<00:01, 10.92it/s]"
     ]
    },
    {
     "name": "stdout",
     "output_type": "stream",
     "text": [
      "Testing 66 potential triadic pairs\n",
      "Time spent finding triads: 0.0013425350189208984\n",
      "Found 159 connected triads\n",
      "Time spent classifying triads: 0.014587879180908203\n"
     ]
    },
    {
     "name": "stderr",
     "output_type": "stream",
     "text": [
      "\r",
      " 69%|██████▉   | 38/55 [00:03<00:01, 10.93it/s]"
     ]
    },
    {
     "name": "stdout",
     "output_type": "stream",
     "text": [
      "Testing 59 potential triadic pairs\n",
      "Time spent finding triads: 0.0011718273162841797\n",
      "Found 74 connected triads\n",
      "Time spent classifying triads: 0.006819486618041992\n",
      "Testing 30 potential triadic pairs\n",
      "Time spent finding triads: 0.0009236335754394531\n",
      "Found 33 connected triads\n",
      "Time spent classifying triads: 0.0013370513916015625\n",
      "Testing 39 potential triadic pairs\n",
      "Time spent finding triads: 0.0010199546813964844\n",
      "Found 41 connected triads\n",
      "Time spent classifying triads: 0.0038056373596191406\n"
     ]
    },
    {
     "name": "stderr",
     "output_type": "stream",
     "text": [
      "\r",
      " 73%|███████▎  | 40/55 [00:03<00:01, 10.92it/s]"
     ]
    },
    {
     "name": "stdout",
     "output_type": "stream",
     "text": [
      "Testing 51 potential triadic pairs\n",
      "Time spent finding triads: 0.001116037368774414\n",
      "Found 66 connected triads\n",
      "Time spent classifying triads: 0.006117105484008789\n",
      "Testing 66 potential triadic pairs\n",
      "Time spent finding triads: 0.0011892318725585938\n",
      "Found 120 connected triads\n",
      "Time spent classifying triads: 0.004578113555908203\n"
     ]
    },
    {
     "name": "stderr",
     "output_type": "stream",
     "text": [
      "\r",
      " 76%|███████▋  | 42/55 [00:03<00:01, 11.17it/s]"
     ]
    },
    {
     "name": "stdout",
     "output_type": "stream",
     "text": [
      "Testing 45 potential triadic pairs\n",
      "Time spent finding triads: 0.0010685920715332031\n",
      "Found 51 connected triads\n",
      "Time spent classifying triads: 0.004735708236694336\n"
     ]
    },
    {
     "name": "stderr",
     "output_type": "stream",
     "text": [
      "\r",
      " 80%|████████  | 44/55 [00:03<00:00, 11.26it/s]"
     ]
    },
    {
     "name": "stdout",
     "output_type": "stream",
     "text": [
      "Testing 66 potential triadic pairs\n",
      "Time spent finding triads: 0.001245260238647461\n",
      "Found 117 connected triads\n",
      "Time spent classifying triads: 0.0056798458099365234\n",
      "Testing 58 potential triadic pairs\n",
      "Time spent finding triads: 0.0011057853698730469\n",
      "Found 78 connected triads\n",
      "Time spent classifying triads: 0.003012418746948242\n",
      "Testing 65 potential triadic pairs\n",
      "Time spent finding triads: 0.0012483596801757812\n",
      "Found 112 connected triads\n",
      "Time spent classifying triads: 0.010280609130859375\n"
     ]
    },
    {
     "name": "stderr",
     "output_type": "stream",
     "text": [
      "\r",
      " 84%|████████▎ | 46/55 [00:04<00:00, 11.00it/s]"
     ]
    },
    {
     "name": "stdout",
     "output_type": "stream",
     "text": [
      "Testing 46 potential triadic pairs\n",
      "Time spent finding triads: 0.0010700225830078125\n",
      "Found 46 connected triads\n",
      "Time spent classifying triads: 0.0043027400970458984\n",
      "Testing 66 potential triadic pairs\n",
      "Time spent finding triads: 0.0012941360473632812\n",
      "Found 171 connected triads\n",
      "Time spent classifying triads: 0.006473541259765625\n",
      "Testing 66 potential triadic pairs\n",
      "Time spent finding triads: 0.0014293193817138672\n",
      "Found 191 connected triads\n",
      "Time spent classifying triads: 0.017430543899536133\n"
     ]
    },
    {
     "name": "stderr",
     "output_type": "stream",
     "text": [
      " 91%|█████████ | 50/55 [00:04<00:00, 10.72it/s]"
     ]
    },
    {
     "name": "stdout",
     "output_type": "stream",
     "text": [
      "Testing 66 potential triadic pairs\n",
      "Time spent finding triads: 0.0013415813446044922\n",
      "Found 172 connected triads\n",
      "Time spent classifying triads: 0.015574455261230469\n",
      "Testing 63 potential triadic pairs\n",
      "Time spent finding triads: 0.0011899471282958984\n",
      "Found 113 connected triads\n",
      "Time spent classifying triads: 0.00427699089050293\n",
      "Testing 49 potential triadic pairs\n",
      "Time spent finding triads: 0.0011246204376220703\n",
      "Found 68 connected triads\n",
      "Time spent classifying triads: 0.006289243698120117\n"
     ]
    },
    {
     "name": "stderr",
     "output_type": "stream",
     "text": [
      "\r",
      " 95%|█████████▍| 52/55 [00:04<00:00, 10.75it/s]"
     ]
    },
    {
     "name": "stdout",
     "output_type": "stream",
     "text": [
      "Testing 58 potential triadic pairs\n",
      "Time spent finding triads: 0.0011570453643798828\n",
      "Found 74 connected triads\n",
      "Time spent classifying triads: 0.006836891174316406\n",
      "Testing 65 potential triadic pairs\n",
      "Time spent finding triads: 0.0012547969818115234\n",
      "Found 143 connected triads\n",
      "Time spent classifying triads: 0.0054705142974853516\n"
     ]
    },
    {
     "name": "stderr",
     "output_type": "stream",
     "text": [
      "\r",
      " 98%|█████████▊| 54/55 [00:04<00:00, 10.65it/s]"
     ]
    },
    {
     "name": "stdout",
     "output_type": "stream",
     "text": [
      "Testing 44 potential triadic pairs\n",
      "Time spent finding triads: 0.0010612010955810547\n",
      "Found 46 connected triads\n",
      "Time spent classifying triads: 0.004282474517822266\n"
     ]
    },
    {
     "name": "stderr",
     "output_type": "stream",
     "text": [
      "100%|██████████| 55/55 [00:04<00:00, 11.05it/s]\n"
     ]
    },
    {
     "name": "stdout",
     "output_type": "stream",
     "text": [
      "Testing 66 potential triadic pairs\n",
      "Time spent finding triads: 0.0014374256134033203\n",
      "Found 207 connected triads\n",
      "Time spent classifying triads: 0.01836991310119629\n"
     ]
    },
    {
     "name": "stderr",
     "output_type": "stream",
     "text": [
      "\r",
      "  0%|          | 0/55 [00:00<?, ?it/s]"
     ]
    },
    {
     "name": "stdout",
     "output_type": "stream",
     "text": [
      "Testing 48 potential triadic pairs\n",
      "Time spent finding triads: 0.0010671615600585938\n",
      "Found 52 connected triads\n",
      "Time spent classifying triads: 0.0048563480377197266\n"
     ]
    },
    {
     "name": "stderr",
     "output_type": "stream",
     "text": [
      "\r",
      "  4%|▎         | 2/55 [00:00<00:05,  9.72it/s]"
     ]
    },
    {
     "name": "stdout",
     "output_type": "stream",
     "text": [
      "Testing 66 potential triadic pairs\n",
      "Time spent finding triads: 0.0014178752899169922\n",
      "Found 190 connected triads\n",
      "Time spent classifying triads: 0.013689517974853516\n",
      "Testing 56 potential triadic pairs\n",
      "Time spent finding triads: 0.0012102127075195312\n",
      "Found 83 connected triads\n"
     ]
    },
    {
     "name": "stderr",
     "output_type": "stream",
     "text": [
      "\r",
      "  5%|▌         | 3/55 [00:00<00:05,  9.81it/s]"
     ]
    },
    {
     "name": "stdout",
     "output_type": "stream",
     "text": [
      "Time spent classifying triads: 0.007937431335449219\n",
      "Testing 64 potential triadic pairs\n",
      "Time spent finding triads: 0.0011949539184570312\n",
      "Found 128 connected triads\n"
     ]
    },
    {
     "name": "stderr",
     "output_type": "stream",
     "text": [
      "\r",
      "  7%|▋         | 4/55 [00:00<00:05,  9.60it/s]"
     ]
    },
    {
     "name": "stdout",
     "output_type": "stream",
     "text": [
      "Time spent classifying triads: 0.010827779769897461\n",
      "Testing 47 potential triadic pairs\n",
      "Time spent finding triads: 0.0010259151458740234\n",
      "Found 58 connected triads\n",
      "Time spent classifying triads: 0.0022962093353271484\n"
     ]
    },
    {
     "name": "stderr",
     "output_type": "stream",
     "text": [
      "\r",
      " 11%|█         | 6/55 [00:00<00:05,  9.77it/s]"
     ]
    },
    {
     "name": "stdout",
     "output_type": "stream",
     "text": [
      "Testing 48 potential triadic pairs\n",
      "Time spent finding triads: 0.0011129379272460938\n",
      "Found 67 connected triads\n",
      "Time spent classifying triads: 0.006166219711303711\n"
     ]
    },
    {
     "name": "stderr",
     "output_type": "stream",
     "text": [
      "\r",
      " 13%|█▎        | 7/55 [00:00<00:04,  9.79it/s]"
     ]
    },
    {
     "name": "stdout",
     "output_type": "stream",
     "text": [
      "Testing 41 potential triadic pairs\n",
      "Time spent finding triads: 0.0010576248168945312\n",
      "Found 51 connected triads\n",
      "Time spent classifying triads: 0.0047528743743896484\n",
      "Testing 56 potential triadic pairs\n",
      "Time spent finding triads: 0.0010836124420166016\n",
      "Found 66 connected triads\n",
      "Time spent classifying triads: 0.0025594234466552734\n"
     ]
    },
    {
     "name": "stderr",
     "output_type": "stream",
     "text": [
      "\r",
      " 16%|█▋        | 9/55 [00:00<00:04,  9.95it/s]"
     ]
    },
    {
     "name": "stdout",
     "output_type": "stream",
     "text": [
      "Testing 65 potential triadic pairs\n",
      "Time spent finding triads: 0.0013248920440673828\n",
      "Found 150 connected triads\n",
      "Time spent classifying triads: 0.009782791137695312\n"
     ]
    },
    {
     "name": "stderr",
     "output_type": "stream",
     "text": [
      "\r",
      " 18%|█▊        | 10/55 [00:01<00:04,  9.68it/s]"
     ]
    },
    {
     "name": "stdout",
     "output_type": "stream",
     "text": [
      "Testing 66 potential triadic pairs\n",
      "Time spent finding triads: 0.0013017654418945312\n",
      "Found 142 connected triads\n",
      "Time spent classifying triads: 0.012991189956665039\n"
     ]
    },
    {
     "name": "stderr",
     "output_type": "stream",
     "text": [
      "\r",
      " 20%|██        | 11/55 [00:01<00:04,  9.54it/s]"
     ]
    },
    {
     "name": "stdout",
     "output_type": "stream",
     "text": [
      "Testing 66 potential triadic pairs\n",
      "Time spent finding triads: 0.0012903213500976562\n",
      "Found 136 connected triads\n",
      "Time spent classifying triads: 0.012455463409423828\n",
      "Testing 66 potential triadic pairs\n",
      "Time spent finding triads: 0.0013954639434814453\n",
      "Found 203 connected triads\n"
     ]
    },
    {
     "name": "stderr",
     "output_type": "stream",
     "text": [
      "\r",
      " 22%|██▏       | 12/55 [00:01<00:04,  9.47it/s]"
     ]
    },
    {
     "name": "stdout",
     "output_type": "stream",
     "text": [
      "Time spent classifying triads: 0.016685009002685547\n",
      "Testing 66 potential triadic pairs\n",
      "Time spent finding triads: 0.0013115406036376953\n",
      "Found 174 connected triads\n",
      "Time spent classifying triads: 0.01390385627746582\n"
     ]
    },
    {
     "name": "stderr",
     "output_type": "stream",
     "text": [
      " 25%|██▌       | 14/55 [00:01<00:04,  9.38it/s]"
     ]
    },
    {
     "name": "stdout",
     "output_type": "stream",
     "text": [
      "Testing 58 potential triadic pairs\n",
      "Time spent finding triads: 0.0011491775512695312\n",
      "Found 71 connected triads\n",
      "Time spent classifying triads: 0.005690336227416992\n",
      "Testing 47 potential triadic pairs\n",
      "Time spent finding triads: 0.0010170936584472656\n",
      "Found 52 connected triads\n",
      "Time spent classifying triads: 0.002048969268798828\n",
      "Testing 66 potential triadic pairs\n",
      "Time spent finding triads: 0.0013897418975830078\n",
      "Found 204 connected triads\n",
      "Time spent classifying triads: 0.007701396942138672\n"
     ]
    },
    {
     "name": "stderr",
     "output_type": "stream",
     "text": [
      " 31%|███       | 17/55 [00:01<00:03,  9.66it/s]"
     ]
    },
    {
     "name": "stdout",
     "output_type": "stream",
     "text": [
      "Testing 63 potential triadic pairs\n",
      "Time spent finding triads: 0.0012392997741699219\n",
      "Found 109 connected triads\n",
      "Time spent classifying triads: 0.010003328323364258\n",
      "Testing 65 potential triadic pairs\n",
      "Time spent finding triads: 0.0012919902801513672\n",
      "Found 156 connected triads\n",
      "Time spent classifying triads: 0.0059239864349365234\n",
      "Testing 66 potential triadic pairs\n",
      "Time spent finding triads: 0.0013096332550048828\n",
      "Found 166 connected triads\n",
      "Time spent classifying triads: 0.006331443786621094\n"
     ]
    },
    {
     "name": "stderr",
     "output_type": "stream",
     "text": [
      " 38%|███▊      | 21/55 [00:02<00:04,  8.48it/s]"
     ]
    },
    {
     "name": "stdout",
     "output_type": "stream",
     "text": [
      "Testing 24 potential triadic pairs\n",
      "Time spent finding triads: 0.0017337799072265625\n",
      "Found 26 connected triads\n",
      "Time spent classifying triads: 0.0021779537200927734\n",
      "Testing 66 potential triadic pairs\n",
      "Time spent finding triads: 0.002460002899169922\n",
      "Found 170 connected triads\n",
      "Time spent classifying triads: 0.013223648071289062\n"
     ]
    },
    {
     "name": "stderr",
     "output_type": "stream",
     "text": [
      " 42%|████▏     | 23/55 [00:02<00:04,  7.89it/s]"
     ]
    },
    {
     "name": "stdout",
     "output_type": "stream",
     "text": [
      "Testing 55 potential triadic pairs\n",
      "Time spent finding triads: 0.0017669200897216797\n",
      "Found 81 connected triads\n",
      "Time spent classifying triads: 0.00448298454284668\n",
      "Testing 66 potential triadic pairs\n",
      "Time spent finding triads: 0.0020172595977783203\n",
      "Found 202 connected triads\n",
      "Time spent classifying triads: 0.010876655578613281\n"
     ]
    },
    {
     "name": "stderr",
     "output_type": "stream",
     "text": [
      " 45%|████▌     | 25/55 [00:02<00:04,  7.22it/s]"
     ]
    },
    {
     "name": "stdout",
     "output_type": "stream",
     "text": [
      "Testing 65 potential triadic pairs\n",
      "Time spent finding triads: 0.002184152603149414\n",
      "Found 130 connected triads\n",
      "Time spent classifying triads: 0.00763702392578125\n",
      "Testing 64 potential triadic pairs\n",
      "Time spent finding triads: 0.0017232894897460938\n",
      "Found 118 connected triads\n",
      "Time spent classifying triads: 0.006617307662963867\n"
     ]
    },
    {
     "name": "stderr",
     "output_type": "stream",
     "text": [
      " 49%|████▉     | 27/55 [00:03<00:04,  6.81it/s]"
     ]
    },
    {
     "name": "stdout",
     "output_type": "stream",
     "text": [
      "Testing 66 potential triadic pairs\n",
      "Time spent finding triads: 0.002123117446899414\n",
      "Found 149 connected triads\n",
      "Time spent classifying triads: 0.009092330932617188\n",
      "Testing 23 potential triadic pairs\n",
      "Time spent finding triads: 0.0021789073944091797\n",
      "Found 35 connected triads\n",
      "Time spent classifying triads: 0.002863645553588867\n"
     ]
    },
    {
     "name": "stderr",
     "output_type": "stream",
     "text": [
      "\r",
      " 51%|█████     | 28/55 [00:03<00:04,  6.23it/s]"
     ]
    },
    {
     "name": "stdout",
     "output_type": "stream",
     "text": [
      "Testing 19 potential triadic pairs\n",
      "Time spent finding triads: 0.0048711299896240234\n",
      "Found 25 connected triads\n",
      "Time spent classifying triads: 0.004094839096069336\n"
     ]
    },
    {
     "name": "stderr",
     "output_type": "stream",
     "text": [
      "\r",
      " 53%|█████▎    | 29/55 [00:03<00:05,  5.05it/s]"
     ]
    },
    {
     "name": "stdout",
     "output_type": "stream",
     "text": [
      "Testing 66 potential triadic pairs\n",
      "Time spent finding triads: 0.007837295532226562\n",
      "Found 129 connected triads\n",
      "Time spent classifying triads: 0.012176275253295898\n"
     ]
    },
    {
     "name": "stderr",
     "output_type": "stream",
     "text": [
      " 56%|█████▋    | 31/55 [00:03<00:04,  5.21it/s]"
     ]
    },
    {
     "name": "stdout",
     "output_type": "stream",
     "text": [
      "Testing 59 potential triadic pairs\n",
      "Time spent finding triads: 0.002190828323364258\n",
      "Found 89 connected triads\n",
      "Time spent classifying triads: 0.007115602493286133\n",
      "Testing 60 potential triadic pairs\n",
      "Time spent finding triads: 0.0020995140075683594\n",
      "Found 79 connected triads\n",
      "Time spent classifying triads: 0.0064487457275390625\n"
     ]
    },
    {
     "name": "stderr",
     "output_type": "stream",
     "text": [
      " 60%|██████    | 33/55 [00:04<00:03,  5.64it/s]"
     ]
    },
    {
     "name": "stdout",
     "output_type": "stream",
     "text": [
      "Testing 66 potential triadic pairs\n",
      "Time spent finding triads: 0.0025827884674072266\n",
      "Found 184 connected triads\n",
      "Time spent classifying triads: 0.014899492263793945\n",
      "Testing 63 potential triadic pairs\n",
      "Time spent finding triads: 0.002209186553955078\n",
      "Found 108 connected triads\n",
      "Time spent classifying triads: 0.008667707443237305\n"
     ]
    },
    {
     "name": "stderr",
     "output_type": "stream",
     "text": [
      " 64%|██████▎   | 35/55 [00:04<00:03,  5.93it/s]"
     ]
    },
    {
     "name": "stdout",
     "output_type": "stream",
     "text": [
      "Testing 60 potential triadic pairs\n",
      "Time spent finding triads: 0.0021147727966308594\n",
      "Found 74 connected triads\n",
      "Time spent classifying triads: 0.006031990051269531\n",
      "Testing 41 potential triadic pairs\n",
      "Time spent finding triads: 0.0009891986846923828\n",
      "Found 56 connected triads\n",
      "Time spent classifying triads: 0.0022101402282714844\n"
     ]
    },
    {
     "name": "stderr",
     "output_type": "stream",
     "text": [
      " 69%|██████▉   | 38/55 [00:04<00:02,  8.00it/s]"
     ]
    },
    {
     "name": "stdout",
     "output_type": "stream",
     "text": [
      "Testing 66 potential triadic pairs\n",
      "Time spent finding triads: 0.0013241767883300781\n",
      "Found 155 connected triads\n",
      "Time spent classifying triads: 0.014206409454345703\n",
      "Testing 51 potential triadic pairs\n",
      "Time spent finding triads: 0.0010628700256347656\n",
      "Found 65 connected triads\n",
      "Time spent classifying triads: 0.002538442611694336\n",
      "Testing 53 potential triadic pairs\n",
      "Time spent finding triads: 0.0010938644409179688\n",
      "Found 80 connected triads\n",
      "Time spent classifying triads: 0.0031087398529052734\n"
     ]
    },
    {
     "name": "stderr",
     "output_type": "stream",
     "text": [
      "\r",
      " 71%|███████   | 39/55 [00:05<00:01,  8.12it/s]"
     ]
    },
    {
     "name": "stdout",
     "output_type": "stream",
     "text": [
      "Testing 66 potential triadic pairs\n",
      "Time spent finding triads: 0.0013976097106933594\n",
      "Found 174 connected triads\n",
      "Time spent classifying triads: 0.015969514846801758\n",
      "Testing 65 potential triadic pairs\n",
      "Time spent finding triads: 0.001201629638671875\n",
      "Found 121 connected triads\n",
      "Time spent classifying triads: 0.004602193832397461\n",
      "Testing 66 potential triadic pairs\n",
      "Time spent finding triads: 0.0013349056243896484\n",
      "Found 184 connected triads\n",
      "Time spent classifying triads: 0.006047487258911133\n"
     ]
    },
    {
     "name": "stderr",
     "output_type": "stream",
     "text": [
      " 78%|███████▊  | 43/55 [00:05<00:01,  9.05it/s]"
     ]
    },
    {
     "name": "stdout",
     "output_type": "stream",
     "text": [
      "Testing 66 potential triadic pairs\n",
      "Time spent finding triads: 0.0013997554779052734\n",
      "Found 171 connected triads\n",
      "Time spent classifying triads: 0.015680313110351562\n",
      "Testing 58 potential triadic pairs\n",
      "Time spent finding triads: 0.0011818408966064453\n",
      "Found 115 connected triads\n",
      "Time spent classifying triads: 0.004386186599731445\n",
      "Testing 55 potential triadic pairs\n",
      "Time spent finding triads: 0.0010578632354736328\n",
      "Found 60 connected triads\n",
      "Time spent classifying triads: 0.0023756027221679688\n"
     ]
    },
    {
     "name": "stderr",
     "output_type": "stream",
     "text": [
      " 84%|████████▎ | 46/55 [00:05<00:00,  9.13it/s]"
     ]
    },
    {
     "name": "stdout",
     "output_type": "stream",
     "text": [
      "Testing 66 potential triadic pairs\n",
      "Time spent finding triads: 0.0013804435729980469\n",
      "Found 179 connected triads\n",
      "Time spent classifying triads: 0.016423702239990234\n",
      "Testing 66 potential triadic pairs\n",
      "Time spent finding triads: 0.0013856887817382812\n",
      "Found 201 connected triads\n",
      "Time spent classifying triads: 0.018381118774414062\n",
      "Testing 57 potential triadic pairs\n",
      "Time spent finding triads: 0.0011279582977294922\n",
      "Found 88 connected triads\n",
      "Time spent classifying triads: 0.0033910274505615234\n"
     ]
    },
    {
     "name": "stderr",
     "output_type": "stream",
     "text": [
      " 89%|████████▉ | 49/55 [00:06<00:00,  9.56it/s]"
     ]
    },
    {
     "name": "stdout",
     "output_type": "stream",
     "text": [
      "Testing 66 potential triadic pairs\n",
      "Time spent finding triads: 0.0014119148254394531\n",
      "Found 187 connected triads\n",
      "Time spent classifying triads: 0.017153501510620117\n",
      "Testing 60 potential triadic pairs\n",
      "Time spent finding triads: 0.0011451244354248047\n",
      "Found 93 connected triads\n",
      "Time spent classifying triads: 0.0035767555236816406\n",
      "Testing 48 potential triadic pairs\n",
      "Time spent finding triads: 0.0010540485382080078\n",
      "Found 76 connected triads\n",
      "Time spent classifying triads: 0.002949953079223633\n"
     ]
    },
    {
     "name": "stderr",
     "output_type": "stream",
     "text": [
      " 95%|█████████▍| 52/55 [00:06<00:00,  9.61it/s]"
     ]
    },
    {
     "name": "stdout",
     "output_type": "stream",
     "text": [
      "Testing 66 potential triadic pairs\n",
      "Time spent finding triads: 0.0014081001281738281\n",
      "Found 187 connected triads\n",
      "Time spent classifying triads: 0.017069339752197266\n",
      "Testing 66 potential triadic pairs\n",
      "Time spent finding triads: 0.0012371540069580078\n",
      "Found 142 connected triads\n",
      "Time spent classifying triads: 0.005414485931396484\n",
      "Testing 66 potential triadic pairs\n",
      "Time spent finding triads: 0.0013620853424072266\n",
      "Found 199 connected triads\n",
      "Time spent classifying triads: 0.007979631423950195\n"
     ]
    },
    {
     "name": "stderr",
     "output_type": "stream",
     "text": [
      "100%|██████████| 55/55 [00:06<00:00,  8.21it/s]\n"
     ]
    },
    {
     "name": "stdout",
     "output_type": "stream",
     "text": [
      "Testing 53 potential triadic pairs\n",
      "Time spent finding triads: 0.0011439323425292969\n",
      "Found 70 connected triads\n",
      "Time spent classifying triads: 0.0040645599365234375\n",
      "Testing 50 potential triadic pairs\n",
      "Time spent finding triads: 0.0010786056518554688\n",
      "Found 75 connected triads\n",
      "Time spent classifying triads: 0.0029060840606689453\n"
     ]
    },
    {
     "name": "stderr",
     "output_type": "stream",
     "text": [
      "  5%|▌         | 3/55 [00:00<00:05, 10.34it/s]"
     ]
    },
    {
     "name": "stdout",
     "output_type": "stream",
     "text": [
      "Testing 63 potential triadic pairs\n",
      "Time spent finding triads: 0.0012178421020507812\n",
      "Found 98 connected triads\n",
      "Time spent classifying triads: 0.009027719497680664\n",
      "Testing 66 potential triadic pairs\n",
      "Time spent finding triads: 0.0013549327850341797\n",
      "Found 187 connected triads\n",
      "Time spent classifying triads: 0.007057905197143555\n",
      "Testing 65 potential triadic pairs\n",
      "Time spent finding triads: 0.0012969970703125\n",
      "Found 171 connected triads\n",
      "Time spent classifying triads: 0.006463527679443359\n"
     ]
    },
    {
     "name": "stderr",
     "output_type": "stream",
     "text": [
      "\r",
      "  9%|▉         | 5/55 [00:00<00:05,  9.86it/s]"
     ]
    },
    {
     "name": "stdout",
     "output_type": "stream",
     "text": [
      "Testing 66 potential triadic pairs\n",
      "Time spent finding triads: 0.0013513565063476562\n",
      "Found 164 connected triads\n",
      "Time spent classifying triads: 0.014940261840820312\n",
      "Testing 66 potential triadic pairs\n",
      "Time spent finding triads: 0.0014014244079589844\n",
      "Found 203 connected triads\n",
      "Time spent classifying triads: 0.011913061141967773\n",
      "Testing 66 potential triadic pairs\n",
      "Time spent finding triads: 0.00135040283203125\n",
      "Found 174 connected triads\n",
      "Time spent classifying triads: 0.0066645145416259766\n"
     ]
    },
    {
     "name": "stderr",
     "output_type": "stream",
     "text": [
      " 16%|█▋        | 9/55 [00:00<00:04, 10.39it/s]"
     ]
    },
    {
     "name": "stdout",
     "output_type": "stream",
     "text": [
      "Testing 65 potential triadic pairs\n",
      "Time spent finding triads: 0.0012753009796142578\n",
      "Found 132 connected triads\n",
      "Time spent classifying triads: 0.012120246887207031\n",
      "Testing 43 potential triadic pairs\n",
      "Time spent finding triads: 0.0009899139404296875\n",
      "Found 48 connected triads\n",
      "Time spent classifying triads: 0.0018966197967529297\n",
      "Testing 63 potential triadic pairs\n",
      "Time spent finding triads: 0.001157522201538086\n",
      "Found 107 connected triads\n",
      "Time spent classifying triads: 0.004099607467651367\n"
     ]
    },
    {
     "name": "stderr",
     "output_type": "stream",
     "text": [
      "\r",
      " 20%|██        | 11/55 [00:01<00:04, 10.53it/s]"
     ]
    },
    {
     "name": "stdout",
     "output_type": "stream",
     "text": [
      "Testing 60 potential triadic pairs\n",
      "Time spent finding triads: 0.0012366771697998047\n",
      "Found 87 connected triads\n",
      "Time spent classifying triads: 0.008037567138671875\n",
      "Testing 54 potential triadic pairs\n",
      "Time spent finding triads: 0.00109100341796875\n",
      "Found 76 connected triads\n",
      "Time spent classifying triads: 0.0029447078704833984\n",
      "Testing 38 potential triadic pairs\n",
      "Time spent finding triads: 0.0009622573852539062\n",
      "Found 49 connected triads\n",
      "Time spent classifying triads: 0.0019359588623046875\n"
     ]
    },
    {
     "name": "stderr",
     "output_type": "stream",
     "text": [
      " 27%|██▋       | 15/55 [00:01<00:03, 10.53it/s]"
     ]
    },
    {
     "name": "stdout",
     "output_type": "stream",
     "text": [
      "Testing 58 potential triadic pairs\n",
      "Time spent finding triads: 0.0011949539184570312\n",
      "Found 99 connected triads\n",
      "Time spent classifying triads: 0.00911569595336914\n",
      "Testing 48 potential triadic pairs\n",
      "Time spent finding triads: 0.0010166168212890625\n",
      "Found 47 connected triads\n",
      "Time spent classifying triads: 0.001870870590209961\n",
      "Testing 66 potential triadic pairs\n",
      "Time spent finding triads: 0.0012729167938232422\n",
      "Found 157 connected triads\n",
      "Time spent classifying triads: 0.00593113899230957\n"
     ]
    },
    {
     "name": "stderr",
     "output_type": "stream",
     "text": [
      "\r",
      " 31%|███       | 17/55 [00:01<00:03, 10.38it/s]"
     ]
    },
    {
     "name": "stdout",
     "output_type": "stream",
     "text": [
      "Testing 64 potential triadic pairs\n",
      "Time spent finding triads: 0.0012557506561279297\n",
      "Found 110 connected triads\n",
      "Time spent classifying triads: 0.00785684585571289\n",
      "Testing 66 potential triadic pairs\n",
      "Time spent finding triads: 0.0012679100036621094\n",
      "Found 157 connected triads\n",
      "Time spent classifying triads: 0.005990266799926758\n",
      "Testing 60 potential triadic pairs\n",
      "Time spent finding triads: 0.0011401176452636719\n",
      "Found 86 connected triads\n",
      "Time spent classifying triads: 0.003689289093017578\n"
     ]
    },
    {
     "name": "stderr",
     "output_type": "stream",
     "text": [
      " 38%|███▊      | 21/55 [00:02<00:03, 10.26it/s]"
     ]
    },
    {
     "name": "stdout",
     "output_type": "stream",
     "text": [
      "Testing 66 potential triadic pairs\n",
      "Time spent finding triads: 0.0014052391052246094\n",
      "Found 167 connected triads\n",
      "Time spent classifying triads: 0.01154470443725586\n",
      "Testing 62 potential triadic pairs\n",
      "Time spent finding triads: 0.001155853271484375\n",
      "Found 88 connected triads\n",
      "Time spent classifying triads: 0.0033822059631347656\n",
      "Testing 54 potential triadic pairs\n",
      "Time spent finding triads: 0.0010559558868408203\n",
      "Found 59 connected triads\n",
      "Time spent classifying triads: 0.0023202896118164062\n"
     ]
    },
    {
     "name": "stderr",
     "output_type": "stream",
     "text": [
      "\r",
      " 42%|████▏     | 23/55 [00:02<00:03, 10.21it/s]"
     ]
    },
    {
     "name": "stdout",
     "output_type": "stream",
     "text": [
      "Testing 63 potential triadic pairs\n",
      "Time spent finding triads: 0.0012171268463134766\n",
      "Found 100 connected triads\n",
      "Time spent classifying triads: 0.009186267852783203\n",
      "Testing 66 potential triadic pairs\n",
      "Time spent finding triads: 0.0013229846954345703\n",
      "Found 189 connected triads\n",
      "Time spent classifying triads: 0.00711512565612793\n",
      "Testing 60 potential triadic pairs\n",
      "Time spent finding triads: 0.0011601448059082031\n",
      "Found 93 connected triads\n",
      "Time spent classifying triads: 0.003580331802368164\n"
     ]
    },
    {
     "name": "stderr",
     "output_type": "stream",
     "text": [
      " 49%|████▉     | 27/55 [00:02<00:02, 10.17it/s]"
     ]
    },
    {
     "name": "stdout",
     "output_type": "stream",
     "text": [
      "Testing 64 potential triadic pairs\n",
      "Time spent finding triads: 0.001226663589477539\n",
      "Found 100 connected triads\n",
      "Time spent classifying triads: 0.00922393798828125\n",
      "Testing 66 potential triadic pairs\n",
      "Time spent finding triads: 0.0013492107391357422\n",
      "Found 192 connected triads\n",
      "Time spent classifying triads: 0.007291555404663086\n",
      "Testing 51 potential triadic pairs\n",
      "Time spent finding triads: 0.0010685920715332031\n",
      "Found 73 connected triads\n",
      "Time spent classifying triads: 0.0028138160705566406\n"
     ]
    },
    {
     "name": "stderr",
     "output_type": "stream",
     "text": [
      "\r",
      " 53%|█████▎    | 29/55 [00:02<00:02, 10.37it/s]"
     ]
    },
    {
     "name": "stdout",
     "output_type": "stream",
     "text": [
      "Testing 66 potential triadic pairs\n",
      "Time spent finding triads: 0.0014164447784423828\n",
      "Found 198 connected triads\n",
      "Time spent classifying triads: 0.014142990112304688\n",
      "Testing 45 potential triadic pairs\n",
      "Time spent finding triads: 0.001020669937133789\n",
      "Found 60 connected triads\n",
      "Time spent classifying triads: 0.002329111099243164\n",
      "Testing 66 potential triadic pairs\n",
      "Time spent finding triads: 0.0012998580932617188\n",
      "Found 176 connected triads\n",
      "Time spent classifying triads: 0.006697177886962891\n"
     ]
    },
    {
     "name": "stderr",
     "output_type": "stream",
     "text": [
      " 60%|██████    | 33/55 [00:03<00:02, 10.32it/s]"
     ]
    },
    {
     "name": "stdout",
     "output_type": "stream",
     "text": [
      "Testing 66 potential triadic pairs\n",
      "Time spent finding triads: 0.0012691020965576172\n",
      "Found 114 connected triads\n",
      "Time spent classifying triads: 0.010501384735107422\n",
      "Testing 34 potential triadic pairs\n",
      "Time spent finding triads: 0.0009417533874511719\n",
      "Found 40 connected triads\n",
      "Time spent classifying triads: 0.0015976428985595703\n",
      "Testing 66 potential triadic pairs\n",
      "Time spent finding triads: 0.0013206005096435547\n",
      "Found 181 connected triads\n",
      "Time spent classifying triads: 0.0068471431732177734\n"
     ]
    },
    {
     "name": "stderr",
     "output_type": "stream",
     "text": [
      "\r",
      " 64%|██████▎   | 35/55 [00:03<00:01, 10.12it/s]"
     ]
    },
    {
     "name": "stdout",
     "output_type": "stream",
     "text": [
      "Testing 66 potential triadic pairs\n",
      "Time spent finding triads: 0.0013892650604248047\n",
      "Found 171 connected triads\n",
      "Time spent classifying triads: 0.009562969207763672\n",
      "Testing 66 potential triadic pairs\n",
      "Time spent finding triads: 0.0012989044189453125\n",
      "Found 159 connected triads\n",
      "Time spent classifying triads: 0.006981611251831055\n",
      "Testing 65 potential triadic pairs\n",
      "Time spent finding triads: 0.0012059211730957031\n",
      "Found 119 connected triads\n",
      "Time spent classifying triads: 0.004575252532958984\n"
     ]
    },
    {
     "name": "stderr",
     "output_type": "stream",
     "text": [
      " 71%|███████   | 39/55 [00:03<00:01, 10.15it/s]"
     ]
    },
    {
     "name": "stdout",
     "output_type": "stream",
     "text": [
      "Testing 66 potential triadic pairs\n",
      "Time spent finding triads: 0.0013728141784667969\n",
      "Found 173 connected triads\n",
      "Time spent classifying triads: 0.015784502029418945\n",
      "Testing 66 potential triadic pairs\n",
      "Time spent finding triads: 0.0012123584747314453\n",
      "Found 119 connected triads\n",
      "Time spent classifying triads: 0.004544258117675781\n",
      "Testing 48 potential triadic pairs\n",
      "Time spent finding triads: 0.0010385513305664062\n",
      "Found 62 connected triads\n",
      "Time spent classifying triads: 0.0024182796478271484\n"
     ]
    },
    {
     "name": "stderr",
     "output_type": "stream",
     "text": [
      "\r",
      " 75%|███████▍  | 41/55 [00:04<00:01, 10.15it/s]"
     ]
    },
    {
     "name": "stdout",
     "output_type": "stream",
     "text": [
      "Testing 66 potential triadic pairs\n",
      "Time spent finding triads: 0.0013403892517089844\n",
      "Found 161 connected triads\n",
      "Time spent classifying triads: 0.014801979064941406\n",
      "Testing 56 potential triadic pairs\n",
      "Time spent finding triads: 0.0011370182037353516\n",
      "Found 98 connected triads\n",
      "Time spent classifying triads: 0.0037772655487060547\n",
      "Testing 66 potential triadic pairs\n",
      "Time spent finding triads: 0.0014121532440185547\n",
      "Found 206 connected triads\n",
      "Time spent classifying triads: 0.007844924926757812\n"
     ]
    },
    {
     "name": "stderr",
     "output_type": "stream",
     "text": [
      " 82%|████████▏ | 45/55 [00:04<00:00, 10.34it/s]"
     ]
    },
    {
     "name": "stdout",
     "output_type": "stream",
     "text": [
      "Testing 44 potential triadic pairs\n",
      "Time spent finding triads: 0.00106048583984375\n",
      "Found 48 connected triads\n",
      "Time spent classifying triads: 0.004478931427001953\n",
      "Testing 53 potential triadic pairs\n",
      "Time spent finding triads: 0.0010478496551513672\n",
      "Found 65 connected triads\n",
      "Time spent classifying triads: 0.0025403499603271484\n",
      "Testing 66 potential triadic pairs\n",
      "Time spent finding triads: 0.001293182373046875\n",
      "Found 160 connected triads\n",
      "Time spent classifying triads: 0.006095170974731445\n"
     ]
    },
    {
     "name": "stderr",
     "output_type": "stream",
     "text": [
      "\r",
      " 85%|████████▌ | 47/55 [00:04<00:00, 10.36it/s]"
     ]
    },
    {
     "name": "stdout",
     "output_type": "stream",
     "text": [
      "Testing 53 potential triadic pairs\n",
      "Time spent finding triads: 0.0011353492736816406\n",
      "Found 71 connected triads\n",
      "Time spent classifying triads: 0.0065729618072509766\n",
      "Testing 66 potential triadic pairs\n",
      "Time spent finding triads: 0.0013823509216308594\n",
      "Found 200 connected triads\n",
      "Time spent classifying triads: 0.007542848587036133\n",
      "Testing 66 potential triadic pairs\n",
      "Time spent finding triads: 0.0013225078582763672\n",
      "Found 167 connected triads\n",
      "Time spent classifying triads: 0.006783962249755859\n"
     ]
    },
    {
     "name": "stderr",
     "output_type": "stream",
     "text": [
      " 93%|█████████▎| 51/55 [00:04<00:00, 10.37it/s]"
     ]
    },
    {
     "name": "stdout",
     "output_type": "stream",
     "text": [
      "Testing 63 potential triadic pairs\n",
      "Time spent finding triads: 0.0012524127960205078\n",
      "Found 105 connected triads\n",
      "Time spent classifying triads: 0.009561777114868164\n",
      "Testing 66 potential triadic pairs\n",
      "Time spent finding triads: 0.0012958049774169922\n",
      "Found 165 connected triads\n",
      "Time spent classifying triads: 0.006254434585571289\n",
      "Testing 66 potential triadic pairs\n",
      "Time spent finding triads: 0.0013120174407958984\n",
      "Found 166 connected triads\n",
      "Time spent classifying triads: 0.006341695785522461\n"
     ]
    },
    {
     "name": "stderr",
     "output_type": "stream",
     "text": [
      "\r",
      " 96%|█████████▋| 53/55 [00:05<00:00, 10.33it/s]"
     ]
    },
    {
     "name": "stdout",
     "output_type": "stream",
     "text": [
      "Testing 65 potential triadic pairs\n",
      "Time spent finding triads: 0.0012667179107666016\n",
      "Found 115 connected triads\n",
      "Time spent classifying triads: 0.010595083236694336\n",
      "Testing 66 potential triadic pairs\n",
      "Time spent finding triads: 0.001260995864868164\n",
      "Found 151 connected triads\n",
      "Time spent classifying triads: 0.0057451725006103516\n",
      "Testing 66 potential triadic pairs\n",
      "Time spent finding triads: 0.0012831687927246094\n",
      "Found 168 connected triads\n",
      "Time spent classifying triads: 0.006340503692626953\n"
     ]
    },
    {
     "name": "stderr",
     "output_type": "stream",
     "text": [
      "100%|██████████| 55/55 [00:05<00:00, 10.24it/s]"
     ]
    },
    {
     "name": "stdout",
     "output_type": "stream",
     "text": [
      "Testing 41 potential triadic pairs\n",
      "Time spent finding triads: 0.0010743141174316406\n",
      "Found 51 connected triads\n",
      "Time spent classifying triads: 0.002294778823852539\n"
     ]
    },
    {
     "name": "stderr",
     "output_type": "stream",
     "text": [
      "\n",
      "  7%|▋         | 4/55 [00:00<00:02, 18.06it/s]"
     ]
    },
    {
     "name": "stdout",
     "output_type": "stream",
     "text": [
      "Testing 21 potential triadic pairs\n",
      "Time spent finding triads: 0.0009179115295410156\n",
      "Found 25 connected triads\n",
      "Time spent classifying triads: 0.002406597137451172\n",
      "Testing 3 potential triadic pairs\n",
      "Time spent finding triads: 0.0007433891296386719\n",
      "Found 3 connected triads\n",
      "Time spent classifying triads: 0.00021314620971679688\n",
      "Testing 10 potential triadic pairs\n",
      "Time spent finding triads: 0.0007739067077636719\n",
      "Found 10 connected triads\n",
      "Time spent classifying triads: 0.00047898292541503906\n",
      "Testing 17 potential triadic pairs\n",
      "Time spent finding triads: 0.0008113384246826172\n",
      "Found 17 connected triads\n",
      "Time spent classifying triads: 0.0007402896881103516\n"
     ]
    },
    {
     "name": "stderr",
     "output_type": "stream",
     "text": [
      " 15%|█▍        | 8/55 [00:00<00:02, 18.12it/s]"
     ]
    },
    {
     "name": "stdout",
     "output_type": "stream",
     "text": [
      "Testing 6 potential triadic pairs\n",
      "Time spent finding triads: 0.0007863044738769531\n",
      "Found 6 connected triads\n",
      "Time spent classifying triads: 0.0006568431854248047\n",
      "Testing 5 potential triadic pairs\n",
      "Time spent finding triads: 0.0007340908050537109\n",
      "Found 5 connected triads\n",
      "Time spent classifying triads: 0.00029659271240234375\n",
      "Testing 8 potential triadic pairs\n",
      "Time spent finding triads: 0.0007598400115966797\n",
      "Found 8 connected triads\n",
      "Time spent classifying triads: 0.00041103363037109375\n",
      "Testing 13 potential triadic pairs\n",
      "Time spent finding triads: 0.0007841587066650391\n",
      "Found 11 connected triads\n",
      "Time spent classifying triads: 0.0005180835723876953\n"
     ]
    },
    {
     "name": "stderr",
     "output_type": "stream",
     "text": [
      " 22%|██▏       | 12/55 [00:00<00:02, 18.27it/s]"
     ]
    },
    {
     "name": "stdout",
     "output_type": "stream",
     "text": [
      "Testing 2 potential triadic pairs\n",
      "Time spent finding triads: 0.0007655620574951172\n",
      "Found 2 connected triads\n",
      "Time spent classifying triads: 0.0002911090850830078\n",
      "Testing 5 potential triadic pairs\n",
      "Time spent finding triads: 0.0007486343383789062\n",
      "Found 3 connected triads\n",
      "Time spent classifying triads: 0.00021123886108398438\n",
      "Testing 8 potential triadic pairs\n",
      "Time spent finding triads: 0.0007507801055908203\n",
      "Found 8 connected triads\n",
      "Time spent classifying triads: 0.00041294097900390625\n",
      "Testing 3 potential triadic pairs\n",
      "Time spent finding triads: 0.0007302761077880859\n",
      "Found 1 connected triads\n",
      "Time spent classifying triads: 0.00012540817260742188\n"
     ]
    },
    {
     "name": "stderr",
     "output_type": "stream",
     "text": [
      " 29%|██▉       | 16/55 [00:00<00:02, 18.15it/s]"
     ]
    },
    {
     "name": "stdout",
     "output_type": "stream",
     "text": [
      "Testing 4 potential triadic pairs\n",
      "Time spent finding triads: 0.0007817745208740234\n",
      "Found 4 connected triads\n",
      "Time spent classifying triads: 0.00047397613525390625\n",
      "Testing 9 potential triadic pairs\n",
      "Time spent finding triads: 0.0007650852203369141\n",
      "Found 9 connected triads\n",
      "Time spent classifying triads: 0.00043582916259765625\n",
      "Testing 9 potential triadic pairs\n",
      "Time spent finding triads: 0.0007545948028564453\n",
      "Found 9 connected triads\n",
      "Time spent classifying triads: 0.0004487037658691406\n",
      "Testing 4 potential triadic pairs\n",
      "Time spent finding triads: 0.0007333755493164062\n",
      "Found 6 connected triads\n",
      "Time spent classifying triads: 0.0003352165222167969\n"
     ]
    },
    {
     "name": "stderr",
     "output_type": "stream",
     "text": [
      " 36%|███▋      | 20/55 [00:01<00:01, 18.18it/s]"
     ]
    },
    {
     "name": "stdout",
     "output_type": "stream",
     "text": [
      "Testing 8 potential triadic pairs\n",
      "Time spent finding triads: 0.0008053779602050781\n",
      "Found 8 connected triads\n",
      "Time spent classifying triads: 0.0008463859558105469\n",
      "Testing 1 potential triadic pairs\n",
      "Time spent finding triads: 0.0007216930389404297\n",
      "Found 1 connected triads\n",
      "Time spent classifying triads: 0.00012636184692382812\n",
      "Testing 3 potential triadic pairs\n",
      "Time spent finding triads: 0.0007348060607910156\n",
      "Found 3 connected triads\n",
      "Time spent classifying triads: 0.00021123886108398438\n",
      "Testing 10 potential triadic pairs\n",
      "Time spent finding triads: 0.0007600784301757812\n",
      "Found 8 connected triads\n",
      "Time spent classifying triads: 0.0004067420959472656\n"
     ]
    },
    {
     "name": "stderr",
     "output_type": "stream",
     "text": [
      " 44%|████▎     | 24/55 [00:01<00:01, 18.09it/s]"
     ]
    },
    {
     "name": "stdout",
     "output_type": "stream",
     "text": [
      "Testing 11 potential triadic pairs\n",
      "Time spent finding triads: 0.0008289813995361328\n",
      "Found 11 connected triads\n",
      "Time spent classifying triads: 0.0011255741119384766\n",
      "Testing 3 potential triadic pairs\n",
      "Time spent finding triads: 0.0007340908050537109\n",
      "Found 3 connected triads\n",
      "Time spent classifying triads: 0.00021076202392578125\n",
      "Testing 17 potential triadic pairs\n",
      "Time spent finding triads: 0.0008118152618408203\n",
      "Found 15 connected triads\n",
      "Time spent classifying triads: 0.0006661415100097656\n",
      "Testing 15 potential triadic pairs\n",
      "Time spent finding triads: 0.0008084774017333984\n",
      "Found 13 connected triads\n",
      "Time spent classifying triads: 0.0005910396575927734\n"
     ]
    },
    {
     "name": "stderr",
     "output_type": "stream",
     "text": [
      " 51%|█████     | 28/55 [00:01<00:01, 18.04it/s]"
     ]
    },
    {
     "name": "stdout",
     "output_type": "stream",
     "text": [
      "Testing 1 potential triadic pairs\n",
      "Time spent finding triads: 0.0007545948028564453\n",
      "Found 1 connected triads\n",
      "Time spent classifying triads: 0.00018930435180664062\n",
      "Testing 22 potential triadic pairs\n",
      "Time spent finding triads: 0.0008432865142822266\n",
      "Found 22 connected triads\n",
      "Time spent classifying triads: 0.0009284019470214844\n",
      "Testing 25 potential triadic pairs\n",
      "Time spent finding triads: 0.000865936279296875\n",
      "Found 23 connected triads\n",
      "Time spent classifying triads: 0.0009753704071044922\n",
      "Testing 3 potential triadic pairs\n",
      "Time spent finding triads: 0.0007271766662597656\n",
      "Found 3 connected triads\n",
      "Time spent classifying triads: 0.00021147727966308594\n"
     ]
    },
    {
     "name": "stderr",
     "output_type": "stream",
     "text": [
      " 58%|█████▊    | 32/55 [00:01<00:01, 18.02it/s]"
     ]
    },
    {
     "name": "stdout",
     "output_type": "stream",
     "text": [
      "Testing 10 potential triadic pairs\n",
      "Time spent finding triads: 0.0008220672607421875\n",
      "Found 12 connected triads\n",
      "Time spent classifying triads: 0.001207590103149414\n",
      "Testing 11 potential triadic pairs\n",
      "Time spent finding triads: 0.0007803440093994141\n",
      "Found 11 connected triads\n",
      "Time spent classifying triads: 0.0005102157592773438\n",
      "Testing 3 potential triadic pairs\n",
      "Time spent finding triads: 0.0007369518280029297\n",
      "Found 3 connected triads\n",
      "Time spent classifying triads: 0.00021457672119140625\n",
      "Testing 18 potential triadic pairs\n",
      "Time spent finding triads: 0.0008218288421630859\n",
      "Found 18 connected triads\n",
      "Time spent classifying triads: 0.0007727146148681641\n"
     ]
    },
    {
     "name": "stderr",
     "output_type": "stream",
     "text": [
      "\r",
      " 62%|██████▏   | 34/55 [00:01<00:01, 17.75it/s]"
     ]
    },
    {
     "name": "stdout",
     "output_type": "stream",
     "text": [
      "Testing 26 potential triadic pairs\n",
      "Time spent finding triads: 0.0009307861328125\n",
      "Found 33 connected triads\n",
      "Time spent classifying triads: 0.0031104087829589844\n",
      "Testing 16 potential triadic pairs\n",
      "Time spent finding triads: 0.0009233951568603516\n",
      "Found 16 connected triads\n",
      "Time spent classifying triads: 0.0007092952728271484\n",
      "Testing 19 potential triadic pairs\n",
      "Time spent finding triads: 0.0014376640319824219\n",
      "Found 19 connected triads\n",
      "Time spent classifying triads: 0.0015106201171875\n",
      "Testing 19 potential triadic pairs\n",
      "Time spent finding triads: 0.0014529228210449219\n",
      "Found 17 connected triads\n",
      "Time spent classifying triads: 0.0011014938354492188\n"
     ]
    },
    {
     "name": "stderr",
     "output_type": "stream",
     "text": [
      " 69%|██████▉   | 38/55 [00:02<00:01, 14.06it/s]"
     ]
    },
    {
     "name": "stdout",
     "output_type": "stream",
     "text": [
      "Testing 3 potential triadic pairs\n",
      "Time spent finding triads: 0.0014202594757080078\n",
      "Found 3 connected triads\n",
      "Time spent classifying triads: 0.0003097057342529297\n",
      "Testing 32 potential triadic pairs\n",
      "Time spent finding triads: 0.0014891624450683594\n",
      "Found 30 connected triads\n",
      "Time spent classifying triads: 0.010489463806152344\n"
     ]
    },
    {
     "name": "stderr",
     "output_type": "stream",
     "text": [
      " 76%|███████▋  | 42/55 [00:02<00:00, 14.41it/s]"
     ]
    },
    {
     "name": "stdout",
     "output_type": "stream",
     "text": [
      "Testing 1 potential triadic pairs\n",
      "Time spent finding triads: 0.0010004043579101562\n",
      "Found 1 connected triads\n",
      "Time spent classifying triads: 0.0002346038818359375\n",
      "Testing 19 potential triadic pairs\n",
      "Time spent finding triads: 0.00084686279296875\n",
      "Found 19 connected triads\n",
      "Time spent classifying triads: 0.0008270740509033203\n",
      "Testing 1 potential triadic pairs\n",
      "Time spent finding triads: 0.000728607177734375\n",
      "Found 1 connected triads\n",
      "Time spent classifying triads: 0.00012755393981933594\n",
      "Testing 11 potential triadic pairs\n",
      "Time spent finding triads: 0.00078582763671875\n",
      "Found 11 connected triads\n",
      "Time spent classifying triads: 0.0005118846893310547\n"
     ]
    },
    {
     "name": "stderr",
     "output_type": "stream",
     "text": [
      " 84%|████████▎ | 46/55 [00:02<00:00, 15.93it/s]"
     ]
    },
    {
     "name": "stdout",
     "output_type": "stream",
     "text": [
      "Testing 19 potential triadic pairs\n",
      "Time spent finding triads: 0.0008857250213623047\n",
      "Found 21 connected triads\n",
      "Time spent classifying triads: 0.0020139217376708984\n",
      "Testing 10 potential triadic pairs\n",
      "Time spent finding triads: 0.00078582763671875\n",
      "Found 10 connected triads\n",
      "Time spent classifying triads: 0.00047397613525390625\n",
      "Testing 1 potential triadic pairs\n",
      "Time spent finding triads: 0.0007190704345703125\n",
      "Found 1 connected triads\n",
      "Time spent classifying triads: 0.00012612342834472656\n",
      "Testing 12 potential triadic pairs\n",
      "Time spent finding triads: 0.0007863044738769531\n",
      "Found 12 connected triads\n",
      "Time spent classifying triads: 0.0005602836608886719\n"
     ]
    },
    {
     "name": "stderr",
     "output_type": "stream",
     "text": [
      " 91%|█████████ | 50/55 [00:02<00:00, 17.05it/s]"
     ]
    },
    {
     "name": "stdout",
     "output_type": "stream",
     "text": [
      "Testing 7 potential triadic pairs\n",
      "Time spent finding triads: 0.0007920265197753906\n",
      "Found 7 connected triads\n",
      "Time spent classifying triads: 0.0007464885711669922\n",
      "Testing 4 potential triadic pairs\n",
      "Time spent finding triads: 0.0007343292236328125\n",
      "Found 4 connected triads\n",
      "Time spent classifying triads: 0.0002505779266357422\n",
      "Testing 8 potential triadic pairs\n",
      "Time spent finding triads: 0.0007634162902832031\n",
      "Found 8 connected triads\n",
      "Time spent classifying triads: 0.00039768218994140625\n",
      "Testing 7 potential triadic pairs\n",
      "Time spent finding triads: 0.0007393360137939453\n",
      "Found 7 connected triads\n",
      "Time spent classifying triads: 0.00037169456481933594\n"
     ]
    },
    {
     "name": "stderr",
     "output_type": "stream",
     "text": [
      " 98%|█████████▊| 54/55 [00:03<00:00, 17.52it/s]"
     ]
    },
    {
     "name": "stdout",
     "output_type": "stream",
     "text": [
      "Testing 7 potential triadic pairs\n",
      "Time spent finding triads: 0.0008101463317871094\n",
      "Found 5 connected triads\n",
      "Time spent classifying triads: 0.0005817413330078125\n",
      "Testing 33 potential triadic pairs\n",
      "Time spent finding triads: 0.0009095668792724609\n",
      "Found 27 connected triads\n",
      "Time spent classifying triads: 0.0011241436004638672\n",
      "Testing 13 potential triadic pairs\n",
      "Time spent finding triads: 0.0007932186126708984\n",
      "Found 13 connected triads\n",
      "Time spent classifying triads: 0.0005955696105957031\n",
      "Testing 2 potential triadic pairs\n",
      "Time spent finding triads: 0.0007197856903076172\n",
      "Found 2 connected triads\n",
      "Time spent classifying triads: 0.0001804828643798828\n"
     ]
    },
    {
     "name": "stderr",
     "output_type": "stream",
     "text": [
      "100%|██████████| 55/55 [00:03<00:00, 17.02it/s]\n"
     ]
    },
    {
     "name": "stdout",
     "output_type": "stream",
     "text": [
      "Testing 7 potential triadic pairs\n",
      "Time spent finding triads: 0.0009026527404785156\n",
      "Found 7 connected triads\n",
      "Time spent classifying triads: 0.0007455348968505859\n"
     ]
    },
    {
     "name": "stderr",
     "output_type": "stream",
     "text": [
      "  4%|▎         | 2/55 [00:00<00:02, 17.93it/s]"
     ]
    },
    {
     "name": "stdout",
     "output_type": "stream",
     "text": [
      "Testing 15 potential triadic pairs\n",
      "Time spent finding triads: 0.0008504390716552734\n",
      "Found 15 connected triads\n",
      "Time spent classifying triads: 0.0014951229095458984\n",
      "Testing 18 potential triadic pairs\n",
      "Time spent finding triads: 0.0008134841918945312\n",
      "Found 16 connected triads\n",
      "Time spent classifying triads: 0.0007090568542480469\n",
      "Testing 11 potential triadic pairs\n",
      "Time spent finding triads: 0.0007765293121337891\n",
      "Found 11 connected triads\n",
      "Time spent classifying triads: 0.0005145072937011719\n"
     ]
    },
    {
     "name": "stderr",
     "output_type": "stream",
     "text": [
      "\r",
      "  7%|▋         | 4/55 [00:00<00:02, 17.59it/s]"
     ]
    },
    {
     "name": "stdout",
     "output_type": "stream",
     "text": [
      "Testing 5 potential triadic pairs\n",
      "Time spent finding triads: 0.0007963180541992188\n",
      "Found 5 connected triads\n",
      "Time spent classifying triads: 0.0005705356597900391\n"
     ]
    },
    {
     "name": "stderr",
     "output_type": "stream",
     "text": [
      "\r",
      " 11%|█         | 6/55 [00:00<00:02, 17.88it/s]"
     ]
    },
    {
     "name": "stdout",
     "output_type": "stream",
     "text": [
      "Testing 0 potential triadic pairs\n",
      "Time spent finding triads: 0.0007550716400146484\n",
      "Found 0 connected triads\n",
      "Time spent classifying triads: 7.343292236328125e-05\n",
      "Testing 19 potential triadic pairs\n",
      "Time spent finding triads: 0.0008182525634765625\n",
      "Found 17 connected triads\n",
      "Time spent classifying triads: 0.0007450580596923828\n",
      "Testing 9 potential triadic pairs\n",
      "Time spent finding triads: 0.000766754150390625\n",
      "Found 9 connected triads\n",
      "Time spent classifying triads: 0.0004432201385498047\n"
     ]
    },
    {
     "name": "stderr",
     "output_type": "stream",
     "text": [
      "\r",
      " 15%|█▍        | 8/55 [00:00<00:02, 17.76it/s]"
     ]
    },
    {
     "name": "stdout",
     "output_type": "stream",
     "text": [
      "Testing 4 potential triadic pairs\n",
      "Time spent finding triads: 0.00079345703125\n",
      "Found 4 connected triads\n",
      "Time spent classifying triads: 0.0004749298095703125\n"
     ]
    },
    {
     "name": "stderr",
     "output_type": "stream",
     "text": [
      "\r",
      " 18%|█▊        | 10/55 [00:00<00:02, 17.77it/s]"
     ]
    },
    {
     "name": "stdout",
     "output_type": "stream",
     "text": [
      "Testing 6 potential triadic pairs\n",
      "Time spent finding triads: 0.0008027553558349609\n",
      "Found 6 connected triads\n",
      "Time spent classifying triads: 0.0006666183471679688\n",
      "Testing 1 potential triadic pairs\n",
      "Time spent finding triads: 0.0007295608520507812\n",
      "Found 1 connected triads\n",
      "Time spent classifying triads: 0.0001251697540283203\n",
      "Testing 27 potential triadic pairs\n",
      "Time spent finding triads: 0.0008859634399414062\n",
      "Found 27 connected triads\n",
      "Time spent classifying triads: 0.0011243820190429688\n"
     ]
    },
    {
     "name": "stderr",
     "output_type": "stream",
     "text": [
      "\r",
      " 22%|██▏       | 12/55 [00:00<00:02, 17.39it/s]"
     ]
    },
    {
     "name": "stdout",
     "output_type": "stream",
     "text": [
      "Testing 3 potential triadic pairs\n",
      "Time spent finding triads: 0.0007681846618652344\n",
      "Found 3 connected triads\n",
      "Time spent classifying triads: 0.0003848075866699219\n"
     ]
    },
    {
     "name": "stderr",
     "output_type": "stream",
     "text": [
      "\r",
      " 25%|██▌       | 14/55 [00:00<00:02, 17.36it/s]"
     ]
    },
    {
     "name": "stdout",
     "output_type": "stream",
     "text": [
      "Testing 6 potential triadic pairs\n",
      "Time spent finding triads: 0.0007815361022949219\n",
      "Found 8 connected triads\n",
      "Time spent classifying triads: 0.0008425712585449219\n",
      "Testing 11 potential triadic pairs\n",
      "Time spent finding triads: 0.0007798671722412109\n",
      "Found 11 connected triads\n",
      "Time spent classifying triads: 0.0005249977111816406\n",
      "Testing 19 potential triadic pairs\n",
      "Time spent finding triads: 0.0008325576782226562\n",
      "Found 19 connected triads\n",
      "Time spent classifying triads: 0.0008022785186767578\n"
     ]
    },
    {
     "name": "stderr",
     "output_type": "stream",
     "text": [
      "\r",
      " 29%|██▉       | 16/55 [00:00<00:02, 17.43it/s]"
     ]
    },
    {
     "name": "stdout",
     "output_type": "stream",
     "text": [
      "Testing 8 potential triadic pairs\n",
      "Time spent finding triads: 0.0007975101470947266\n",
      "Found 8 connected triads\n",
      "Time spent classifying triads: 0.0008382797241210938\n"
     ]
    },
    {
     "name": "stderr",
     "output_type": "stream",
     "text": [
      "\r",
      " 33%|███▎      | 18/55 [00:01<00:02, 17.54it/s]"
     ]
    },
    {
     "name": "stdout",
     "output_type": "stream",
     "text": [
      "Testing 7 potential triadic pairs\n",
      "Time spent finding triads: 0.0007944107055664062\n",
      "Found 7 connected triads\n",
      "Time spent classifying triads: 0.0007698535919189453\n",
      "Testing 11 potential triadic pairs\n",
      "Time spent finding triads: 0.0007736682891845703\n",
      "Found 11 connected triads\n",
      "Time spent classifying triads: 0.0005240440368652344\n",
      "Testing 21 potential triadic pairs\n",
      "Time spent finding triads: 0.0008497238159179688\n",
      "Found 21 connected triads\n",
      "Time spent classifying triads: 0.0008971691131591797\n"
     ]
    },
    {
     "name": "stderr",
     "output_type": "stream",
     "text": [
      "\r",
      " 36%|███▋      | 20/55 [00:01<00:02, 17.42it/s]"
     ]
    },
    {
     "name": "stdout",
     "output_type": "stream",
     "text": [
      "Testing 2 potential triadic pairs\n",
      "Time spent finding triads: 0.0007715225219726562\n",
      "Found 2 connected triads\n",
      "Time spent classifying triads: 0.00027632713317871094\n"
     ]
    },
    {
     "name": "stderr",
     "output_type": "stream",
     "text": [
      "\r",
      " 40%|████      | 22/55 [00:01<00:01, 17.37it/s]"
     ]
    },
    {
     "name": "stdout",
     "output_type": "stream",
     "text": [
      "Testing 1 potential triadic pairs\n",
      "Time spent finding triads: 0.0007698535919189453\n",
      "Found 1 connected triads\n",
      "Time spent classifying triads: 0.00018143653869628906\n",
      "Testing 10 potential triadic pairs\n",
      "Time spent finding triads: 0.0007669925689697266\n",
      "Found 10 connected triads\n",
      "Time spent classifying triads: 0.0004699230194091797\n",
      "Testing 1 potential triadic pairs\n",
      "Time spent finding triads: 0.0007174015045166016\n",
      "Found 1 connected triads\n",
      "Time spent classifying triads: 0.0001266002655029297\n"
     ]
    },
    {
     "name": "stderr",
     "output_type": "stream",
     "text": [
      "\r",
      " 44%|████▎     | 24/55 [00:01<00:01, 17.40it/s]"
     ]
    },
    {
     "name": "stdout",
     "output_type": "stream",
     "text": [
      "Testing 5 potential triadic pairs\n",
      "Time spent finding triads: 0.00079345703125\n",
      "Found 5 connected triads\n",
      "Time spent classifying triads: 0.0005600452423095703\n"
     ]
    },
    {
     "name": "stderr",
     "output_type": "stream",
     "text": [
      "\r",
      " 47%|████▋     | 26/55 [00:01<00:01, 17.44it/s]"
     ]
    },
    {
     "name": "stdout",
     "output_type": "stream",
     "text": [
      "Testing 13 potential triadic pairs\n",
      "Time spent finding triads: 0.0008418560028076172\n",
      "Found 15 connected triads\n",
      "Time spent classifying triads: 0.0010395050048828125\n",
      "Testing 20 potential triadic pairs\n",
      "Time spent finding triads: 0.0008358955383300781\n",
      "Found 18 connected triads\n",
      "Time spent classifying triads: 0.0007767677307128906\n",
      "Testing 9 potential triadic pairs\n",
      "Time spent finding triads: 0.0007641315460205078\n",
      "Found 9 connected triads\n",
      "Time spent classifying triads: 0.00044465065002441406\n"
     ]
    },
    {
     "name": "stderr",
     "output_type": "stream",
     "text": [
      "\r",
      " 51%|█████     | 28/55 [00:01<00:01, 17.52it/s]"
     ]
    },
    {
     "name": "stdout",
     "output_type": "stream",
     "text": [
      "Testing 4 potential triadic pairs\n",
      "Time spent finding triads: 0.0007848739624023438\n",
      "Found 4 connected triads\n",
      "Time spent classifying triads: 0.0004668235778808594\n"
     ]
    },
    {
     "name": "stderr",
     "output_type": "stream",
     "text": [
      "\r",
      " 55%|█████▍    | 30/55 [00:01<00:01, 17.64it/s]"
     ]
    },
    {
     "name": "stdout",
     "output_type": "stream",
     "text": [
      "Testing 5 potential triadic pairs\n",
      "Time spent finding triads: 0.0007944107055664062\n",
      "Found 5 connected triads\n",
      "Time spent classifying triads: 0.0005567073822021484\n",
      "Testing 1 potential triadic pairs\n",
      "Time spent finding triads: 0.0007040500640869141\n",
      "Found 1 connected triads\n",
      "Time spent classifying triads: 0.00012493133544921875\n",
      "Testing 27 potential triadic pairs\n",
      "Time spent finding triads: 0.0008893013000488281\n",
      "Found 30 connected triads\n",
      "Time spent classifying triads: 0.0012259483337402344\n"
     ]
    },
    {
     "name": "stderr",
     "output_type": "stream",
     "text": [
      "\r",
      " 58%|█████▊    | 32/55 [00:01<00:01, 17.69it/s]"
     ]
    },
    {
     "name": "stdout",
     "output_type": "stream",
     "text": [
      "Testing 0 potential triadic pairs\n",
      "Time spent finding triads: 0.0007500648498535156\n",
      "Found 0 connected triads\n",
      "Time spent classifying triads: 7.05718994140625e-05\n"
     ]
    },
    {
     "name": "stderr",
     "output_type": "stream",
     "text": [
      "\r",
      " 62%|██████▏   | 34/55 [00:01<00:01, 17.89it/s]"
     ]
    },
    {
     "name": "stdout",
     "output_type": "stream",
     "text": [
      "Testing 1 potential triadic pairs\n",
      "Time spent finding triads: 0.0007529258728027344\n",
      "Found 1 connected triads\n",
      "Time spent classifying triads: 0.00018024444580078125\n",
      "Testing 0 potential triadic pairs\n",
      "Time spent finding triads: 0.0007100105285644531\n",
      "Found 0 connected triads\n",
      "Time spent classifying triads: 6.747245788574219e-05\n",
      "Testing 26 potential triadic pairs\n",
      "Time spent finding triads: 0.0008730888366699219\n",
      "Found 28 connected triads\n",
      "Time spent classifying triads: 0.0011382102966308594\n"
     ]
    },
    {
     "name": "stderr",
     "output_type": "stream",
     "text": [
      "\r",
      " 65%|██████▌   | 36/55 [00:02<00:01, 17.75it/s]"
     ]
    },
    {
     "name": "stdout",
     "output_type": "stream",
     "text": [
      "Testing 12 potential triadic pairs\n",
      "Time spent finding triads: 0.0008268356323242188\n",
      "Found 10 connected triads\n",
      "Time spent classifying triads: 0.0010199546813964844\n"
     ]
    },
    {
     "name": "stderr",
     "output_type": "stream",
     "text": [
      "\r",
      " 69%|██████▉   | 38/55 [00:02<00:00, 17.54it/s]"
     ]
    },
    {
     "name": "stdout",
     "output_type": "stream",
     "text": [
      "Testing 20 potential triadic pairs\n",
      "Time spent finding triads: 0.0008821487426757812\n",
      "Found 22 connected triads\n",
      "Time spent classifying triads: 0.0021066665649414062\n",
      "Testing 27 potential triadic pairs\n",
      "Time spent finding triads: 0.0008833408355712891\n",
      "Found 30 connected triads\n",
      "Time spent classifying triads: 0.001218557357788086\n",
      "Testing 24 potential triadic pairs\n",
      "Time spent finding triads: 0.0008666515350341797\n",
      "Found 22 connected triads\n",
      "Time spent classifying triads: 0.0009288787841796875\n"
     ]
    },
    {
     "name": "stderr",
     "output_type": "stream",
     "text": [
      "\r",
      " 73%|███████▎  | 40/55 [00:02<00:00, 17.58it/s]"
     ]
    },
    {
     "name": "stdout",
     "output_type": "stream",
     "text": [
      "Testing 2 potential triadic pairs\n",
      "Time spent finding triads: 0.0007748603820800781\n",
      "Found 2 connected triads\n",
      "Time spent classifying triads: 0.0002789497375488281\n"
     ]
    },
    {
     "name": "stderr",
     "output_type": "stream",
     "text": [
      "\r",
      " 76%|███████▋  | 42/55 [00:02<00:00, 17.52it/s]"
     ]
    },
    {
     "name": "stdout",
     "output_type": "stream",
     "text": [
      "Testing 8 potential triadic pairs\n",
      "Time spent finding triads: 0.0008032321929931641\n",
      "Found 8 connected triads\n",
      "Time spent classifying triads: 0.0008342266082763672\n",
      "Testing 2 potential triadic pairs\n",
      "Time spent finding triads: 0.0007171630859375\n",
      "Found 2 connected triads\n",
      "Time spent classifying triads: 0.0001785755157470703\n",
      "Testing 32 potential triadic pairs\n",
      "Time spent finding triads: 0.0009102821350097656\n",
      "Found 52 connected triads\n",
      "Time spent classifying triads: 0.0020291805267333984\n"
     ]
    },
    {
     "name": "stderr",
     "output_type": "stream",
     "text": [
      "\r",
      " 80%|████████  | 44/55 [00:02<00:00, 17.26it/s]"
     ]
    },
    {
     "name": "stdout",
     "output_type": "stream",
     "text": [
      "Testing 12 potential triadic pairs\n",
      "Time spent finding triads: 0.0008499622344970703\n",
      "Found 12 connected triads\n",
      "Time spent classifying triads: 0.001199960708618164\n"
     ]
    },
    {
     "name": "stderr",
     "output_type": "stream",
     "text": [
      "\r",
      " 84%|████████▎ | 46/55 [00:02<00:00, 17.31it/s]"
     ]
    },
    {
     "name": "stdout",
     "output_type": "stream",
     "text": [
      "Testing 7 potential triadic pairs\n",
      "Time spent finding triads: 0.0007941722869873047\n",
      "Found 7 connected triads\n",
      "Time spent classifying triads: 0.0007562637329101562\n",
      "Testing 18 potential triadic pairs\n",
      "Time spent finding triads: 0.0008230209350585938\n",
      "Found 22 connected triads\n",
      "Time spent classifying triads: 0.0009207725524902344\n",
      "Testing 6 potential triadic pairs\n",
      "Time spent finding triads: 0.0007464885711669922\n",
      "Found 6 connected triads\n",
      "Time spent classifying triads: 0.0003361701965332031\n"
     ]
    },
    {
     "name": "stderr",
     "output_type": "stream",
     "text": [
      "\r",
      " 87%|████████▋ | 48/55 [00:02<00:00, 17.31it/s]"
     ]
    },
    {
     "name": "stdout",
     "output_type": "stream",
     "text": [
      "Testing 11 potential triadic pairs\n",
      "Time spent finding triads: 0.0008349418640136719\n",
      "Found 11 connected triads\n",
      "Time spent classifying triads: 0.001112222671508789\n"
     ]
    },
    {
     "name": "stderr",
     "output_type": "stream",
     "text": [
      "\r",
      " 91%|█████████ | 50/55 [00:02<00:00, 17.31it/s]"
     ]
    },
    {
     "name": "stdout",
     "output_type": "stream",
     "text": [
      "Testing 12 potential triadic pairs\n",
      "Time spent finding triads: 0.0008325576782226562\n",
      "Found 10 connected triads\n",
      "Time spent classifying triads: 0.0010290145874023438\n",
      "Testing 4 potential triadic pairs\n",
      "Time spent finding triads: 0.0007698535919189453\n",
      "Found 4 connected triads\n",
      "Time spent classifying triads: 0.00025010108947753906\n",
      "Testing 14 potential triadic pairs\n",
      "Time spent finding triads: 0.0008029937744140625\n",
      "Found 16 connected triads\n",
      "Time spent classifying triads: 0.0006992816925048828\n"
     ]
    },
    {
     "name": "stderr",
     "output_type": "stream",
     "text": [
      "\r",
      " 95%|█████████▍| 52/55 [00:02<00:00, 17.25it/s]"
     ]
    },
    {
     "name": "stdout",
     "output_type": "stream",
     "text": [
      "Testing 23 potential triadic pairs\n",
      "Time spent finding triads: 0.0008990764617919922\n",
      "Found 25 connected triads\n",
      "Time spent classifying triads: 0.0026068687438964844\n"
     ]
    },
    {
     "name": "stderr",
     "output_type": "stream",
     "text": [
      "100%|██████████| 55/55 [00:03<00:00, 17.50it/s]\n"
     ]
    },
    {
     "name": "stdout",
     "output_type": "stream",
     "text": [
      "Testing 3 potential triadic pairs\n",
      "Time spent finding triads: 0.0007691383361816406\n",
      "Found 3 connected triads\n",
      "Time spent classifying triads: 0.0003924369812011719\n",
      "Testing 1 potential triadic pairs\n",
      "Time spent finding triads: 0.0007185935974121094\n",
      "Found 1 connected triads\n",
      "Time spent classifying triads: 0.00012540817260742188\n",
      "Testing 7 potential triadic pairs\n",
      "Time spent finding triads: 0.0007543563842773438\n",
      "Found 7 connected triads\n",
      "Time spent classifying triads: 0.0003643035888671875\n"
     ]
    },
    {
     "name": "stderr",
     "output_type": "stream",
     "text": [
      "\r",
      "  0%|          | 0/55 [00:00<?, ?it/s]"
     ]
    },
    {
     "name": "stdout",
     "output_type": "stream",
     "text": [
      "Testing 8 potential triadic pairs\n",
      "Time spent finding triads: 0.00080108642578125\n",
      "Found 6 connected triads\n",
      "Time spent classifying triads: 0.0006527900695800781\n"
     ]
    },
    {
     "name": "stderr",
     "output_type": "stream",
     "text": [
      "\r",
      "  5%|▌         | 3/55 [00:00<00:02, 20.64it/s]"
     ]
    },
    {
     "name": "stdout",
     "output_type": "stream",
     "text": [
      "Testing 5 potential triadic pairs\n",
      "Time spent finding triads: 0.0007882118225097656\n",
      "Found 5 connected triads\n",
      "Time spent classifying triads: 0.00057220458984375\n",
      "Testing 3 potential triadic pairs\n",
      "Time spent finding triads: 0.0007333755493164062\n",
      "Found 3 connected triads\n",
      "Time spent classifying triads: 0.00020933151245117188\n",
      "Testing 7 potential triadic pairs\n",
      "Time spent finding triads: 0.0013420581817626953\n",
      "Found 7 connected triads\n",
      "Time spent classifying triads: 0.0006501674652099609\n",
      "Testing 15 potential triadic pairs\n",
      "Time spent finding triads: 0.0015120506286621094\n",
      "Found 15 connected triads\n",
      "Time spent classifying triads: 0.00130462646484375\n",
      "Testing 4 potential triadic pairs\n",
      "Time spent finding triads: 0.0013949871063232422\n",
      "Found 4 connected triads\n",
      "Time spent classifying triads: 0.0004496574401855469\n"
     ]
    },
    {
     "name": "stderr",
     "output_type": "stream",
     "text": [
      "\r",
      " 11%|█         | 6/55 [00:00<00:03, 16.15it/s]"
     ]
    },
    {
     "name": "stdout",
     "output_type": "stream",
     "text": [
      "Testing 5 potential triadic pairs\n",
      "Time spent finding triads: 0.0017995834350585938\n",
      "Found 5 connected triads\n",
      "Time spent classifying triads: 0.0005333423614501953\n"
     ]
    },
    {
     "name": "stderr",
     "output_type": "stream",
     "text": [
      "\r",
      " 15%|█▍        | 8/55 [00:00<00:03, 13.89it/s]"
     ]
    },
    {
     "name": "stdout",
     "output_type": "stream",
     "text": [
      "Testing 3 potential triadic pairs\n",
      "Time spent finding triads: 0.0017156600952148438\n",
      "Found 1 connected triads\n",
      "Time spent classifying triads: 0.00020599365234375\n",
      "Testing 6 potential triadic pairs\n",
      "Time spent finding triads: 0.0014400482177734375\n",
      "Found 6 connected triads\n",
      "Time spent classifying triads: 0.0006201267242431641\n"
     ]
    },
    {
     "name": "stderr",
     "output_type": "stream",
     "text": [
      "\r",
      " 18%|█▊        | 10/55 [00:00<00:03, 12.91it/s]"
     ]
    },
    {
     "name": "stdout",
     "output_type": "stream",
     "text": [
      "Testing 6 potential triadic pairs\n",
      "Time spent finding triads: 0.0018074512481689453\n",
      "Found 6 connected triads\n",
      "Time spent classifying triads: 0.001068115234375\n"
     ]
    },
    {
     "name": "stderr",
     "output_type": "stream",
     "text": [
      "\r",
      " 22%|██▏       | 12/55 [00:00<00:03, 12.64it/s]"
     ]
    },
    {
     "name": "stdout",
     "output_type": "stream",
     "text": [
      "Testing 7 potential triadic pairs\n",
      "Time spent finding triads: 0.0015711784362792969\n",
      "Found 7 connected triads\n",
      "Time spent classifying triads: 0.0007495880126953125\n",
      "Testing 11 potential triadic pairs\n",
      "Time spent finding triads: 0.0007843971252441406\n",
      "Found 9 connected triads\n",
      "Time spent classifying triads: 0.00044345855712890625\n"
     ]
    },
    {
     "name": "stderr",
     "output_type": "stream",
     "text": [
      "\r",
      " 25%|██▌       | 14/55 [00:00<00:02, 14.05it/s]"
     ]
    },
    {
     "name": "stdout",
     "output_type": "stream",
     "text": [
      "Testing 10 potential triadic pairs\n",
      "Time spent finding triads: 0.0008161067962646484\n",
      "Found 10 connected triads\n",
      "Time spent classifying triads: 0.0010218620300292969\n",
      "Testing 14 potential triadic pairs\n",
      "Time spent finding triads: 0.0008027553558349609\n",
      "Found 12 connected triads\n",
      "Time spent classifying triads: 0.00055694580078125\n",
      "Testing 9 potential triadic pairs\n",
      "Time spent finding triads: 0.0007665157318115234\n",
      "Found 7 connected triads\n",
      "Time spent classifying triads: 0.00035858154296875\n"
     ]
    },
    {
     "name": "stderr",
     "output_type": "stream",
     "text": [
      "\r",
      " 29%|██▉       | 16/55 [00:01<00:02, 15.45it/s]"
     ]
    },
    {
     "name": "stdout",
     "output_type": "stream",
     "text": [
      "Testing 9 potential triadic pairs\n",
      "Time spent finding triads: 0.0008046627044677734\n",
      "Found 7 connected triads\n",
      "Time spent classifying triads: 0.0007393360137939453\n"
     ]
    },
    {
     "name": "stderr",
     "output_type": "stream",
     "text": [
      "\r",
      " 33%|███▎      | 18/55 [00:01<00:02, 16.22it/s]"
     ]
    },
    {
     "name": "stdout",
     "output_type": "stream",
     "text": [
      "Testing 20 potential triadic pairs\n",
      "Time spent finding triads: 0.0014083385467529297\n",
      "Found 22 connected triads\n",
      "Time spent classifying triads: 0.0021066665649414062\n",
      "Testing 24 potential triadic pairs\n",
      "Time spent finding triads: 0.0008552074432373047\n",
      "Found 20 connected triads\n",
      "Time spent classifying triads: 0.0008518695831298828\n",
      "Testing 1 potential triadic pairs\n",
      "Time spent finding triads: 0.0007140636444091797\n",
      "Found 1 connected triads\n",
      "Time spent classifying triads: 0.0001277923583984375\n"
     ]
    },
    {
     "name": "stderr",
     "output_type": "stream",
     "text": [
      "\r",
      " 36%|███▋      | 20/55 [00:01<00:02, 17.08it/s]"
     ]
    },
    {
     "name": "stdout",
     "output_type": "stream",
     "text": [
      "Testing 14 potential triadic pairs\n",
      "Time spent finding triads: 0.0008342266082763672\n",
      "Found 12 connected triads\n",
      "Time spent classifying triads: 0.0009295940399169922\n",
      "Testing 15 potential triadic pairs\n",
      "Time spent finding triads: 0.0007987022399902344\n",
      "Found 17 connected triads\n",
      "Time spent classifying triads: 0.001180887222290039\n"
     ]
    },
    {
     "name": "stderr",
     "output_type": "stream",
     "text": [
      "\r",
      " 40%|████      | 22/55 [00:01<00:01, 17.65it/s]"
     ]
    },
    {
     "name": "stdout",
     "output_type": "stream",
     "text": [
      "Testing 1 potential triadic pairs\n",
      "Time spent finding triads: 0.0007600784301757812\n",
      "Found 1 connected triads\n",
      "Time spent classifying triads: 0.0001785755157470703\n",
      "Testing 25 potential triadic pairs\n",
      "Time spent finding triads: 0.0008699893951416016\n",
      "Found 27 connected triads\n",
      "Time spent classifying triads: 0.0011091232299804688\n"
     ]
    },
    {
     "name": "stderr",
     "output_type": "stream",
     "text": [
      "\r",
      " 44%|████▎     | 24/55 [00:01<00:01, 17.88it/s]"
     ]
    },
    {
     "name": "stdout",
     "output_type": "stream",
     "text": [
      "Testing 10 potential triadic pairs\n",
      "Time spent finding triads: 0.0008223056793212891\n",
      "Found 12 connected triads\n",
      "Time spent classifying triads: 0.0012066364288330078\n",
      "Testing 6 potential triadic pairs\n",
      "Time spent finding triads: 0.0007464885711669922\n",
      "Found 6 connected triads\n",
      "Time spent classifying triads: 0.0003275871276855469\n"
     ]
    },
    {
     "name": "stderr",
     "output_type": "stream",
     "text": [
      "\r",
      " 47%|████▋     | 26/55 [00:01<00:01, 17.95it/s]"
     ]
    },
    {
     "name": "stdout",
     "output_type": "stream",
     "text": [
      "Testing 10 potential triadic pairs\n",
      "Time spent finding triads: 0.0008442401885986328\n",
      "Found 8 connected triads\n",
      "Time spent classifying triads: 0.0008397102355957031\n",
      "Testing 5 potential triadic pairs\n",
      "Time spent finding triads: 0.0007481575012207031\n",
      "Found 5 connected triads\n",
      "Time spent classifying triads: 0.0002887248992919922\n"
     ]
    },
    {
     "name": "stderr",
     "output_type": "stream",
     "text": [
      "\r",
      " 51%|█████     | 28/55 [00:01<00:01, 18.43it/s]"
     ]
    },
    {
     "name": "stdout",
     "output_type": "stream",
     "text": [
      "Testing 0 potential triadic pairs\n",
      "Time spent finding triads: 0.0007486343383789062\n",
      "Found 0 connected triads\n",
      "Time spent classifying triads: 7.081031799316406e-05\n",
      "Testing 13 potential triadic pairs\n",
      "Time spent finding triads: 0.0007951259613037109\n",
      "Found 13 connected triads\n",
      "Time spent classifying triads: 0.0005955696105957031\n"
     ]
    },
    {
     "name": "stderr",
     "output_type": "stream",
     "text": [
      "\r",
      " 55%|█████▍    | 30/55 [00:01<00:01, 18.67it/s]"
     ]
    },
    {
     "name": "stdout",
     "output_type": "stream",
     "text": [
      "Testing 16 potential triadic pairs\n",
      "Time spent finding triads: 0.001605987548828125\n",
      "Found 12 connected triads\n",
      "Time spent classifying triads: 0.001033782958984375\n",
      "Testing 9 potential triadic pairs\n",
      "Time spent finding triads: 0.0007674694061279297\n",
      "Found 7 connected triads\n",
      "Time spent classifying triads: 0.00036263465881347656\n"
     ]
    },
    {
     "name": "stderr",
     "output_type": "stream",
     "text": [
      "\r",
      " 58%|█████▊    | 32/55 [00:01<00:01, 18.74it/s]"
     ]
    },
    {
     "name": "stdout",
     "output_type": "stream",
     "text": [
      "Testing 6 potential triadic pairs\n",
      "Time spent finding triads: 0.0010933876037597656\n",
      "Found 6 connected triads\n",
      "Time spent classifying triads: 0.0006539821624755859\n",
      "Testing 19 potential triadic pairs\n",
      "Time spent finding triads: 0.0008342266082763672\n",
      "Found 19 connected triads\n",
      "Time spent classifying triads: 0.0008146762847900391\n"
     ]
    },
    {
     "name": "stderr",
     "output_type": "stream",
     "text": [
      "\r",
      " 64%|██████▎   | 35/55 [00:02<00:01, 19.46it/s]"
     ]
    },
    {
     "name": "stdout",
     "output_type": "stream",
     "text": [
      "Testing 5 potential triadic pairs\n",
      "Time spent finding triads: 0.001283884048461914\n",
      "Found 5 connected triads\n",
      "Time spent classifying triads: 0.000576019287109375\n",
      "Testing 8 potential triadic pairs\n",
      "Time spent finding triads: 0.0007576942443847656\n",
      "Found 8 connected triads\n",
      "Time spent classifying triads: 0.00039839744567871094\n",
      "Testing 8 potential triadic pairs\n",
      "Time spent finding triads: 0.000759124755859375\n",
      "Found 6 connected triads\n",
      "Time spent classifying triads: 0.00032901763916015625\n"
     ]
    },
    {
     "name": "stderr",
     "output_type": "stream",
     "text": [
      "\r",
      " 67%|██████▋   | 37/55 [00:02<00:00, 19.24it/s]"
     ]
    },
    {
     "name": "stdout",
     "output_type": "stream",
     "text": [
      "Testing 6 potential triadic pairs\n",
      "Time spent finding triads: 0.0008039474487304688\n",
      "Found 6 connected triads\n",
      "Time spent classifying triads: 0.0006680488586425781\n"
     ]
    },
    {
     "name": "stderr",
     "output_type": "stream",
     "text": [
      "\r",
      " 71%|███████   | 39/55 [00:02<00:00, 19.23it/s]"
     ]
    },
    {
     "name": "stdout",
     "output_type": "stream",
     "text": [
      "Testing 14 potential triadic pairs\n",
      "Time spent finding triads: 0.0011012554168701172\n",
      "Found 12 connected triads\n",
      "Time spent classifying triads: 0.0012056827545166016\n",
      "Testing 4 potential triadic pairs\n",
      "Time spent finding triads: 0.0007386207580566406\n",
      "Found 2 connected triads\n",
      "Time spent classifying triads: 0.00016927719116210938\n",
      "Testing 14 potential triadic pairs\n",
      "Time spent finding triads: 0.0008003711700439453\n",
      "Found 14 connected triads\n",
      "Time spent classifying triads: 0.0006299018859863281\n"
     ]
    },
    {
     "name": "stderr",
     "output_type": "stream",
     "text": [
      "\r",
      " 75%|███████▍  | 41/55 [00:02<00:00, 19.11it/s]"
     ]
    },
    {
     "name": "stdout",
     "output_type": "stream",
     "text": [
      "Testing 5 potential triadic pairs\n",
      "Time spent finding triads: 0.0010886192321777344\n",
      "Found 5 connected triads\n",
      "Time spent classifying triads: 0.00051116943359375\n"
     ]
    },
    {
     "name": "stderr",
     "output_type": "stream",
     "text": [
      "\r",
      " 78%|███████▊  | 43/55 [00:02<00:00, 19.18it/s]"
     ]
    },
    {
     "name": "stdout",
     "output_type": "stream",
     "text": [
      "Testing 10 potential triadic pairs\n",
      "Time spent finding triads: 0.0012142658233642578\n",
      "Found 10 connected triads\n",
      "Time spent classifying triads: 0.001020193099975586\n",
      "Testing 7 potential triadic pairs\n",
      "Time spent finding triads: 0.0007545948028564453\n",
      "Found 7 connected triads\n",
      "Time spent classifying triads: 0.0003635883331298828\n",
      "Testing 7 potential triadic pairs\n",
      "Time spent finding triads: 0.0007548332214355469\n",
      "Found 9 connected triads\n",
      "Time spent classifying triads: 0.000446319580078125\n"
     ]
    },
    {
     "name": "stderr",
     "output_type": "stream",
     "text": [
      "\r",
      " 82%|████████▏ | 45/55 [00:02<00:00, 18.92it/s]"
     ]
    },
    {
     "name": "stdout",
     "output_type": "stream",
     "text": [
      "Testing 6 potential triadic pairs\n",
      "Time spent finding triads: 0.0007946491241455078\n",
      "Found 8 connected triads\n",
      "Time spent classifying triads: 0.0008482933044433594\n"
     ]
    },
    {
     "name": "stderr",
     "output_type": "stream",
     "text": [
      "\r",
      " 85%|████████▌ | 47/55 [00:02<00:00, 19.02it/s]"
     ]
    },
    {
     "name": "stdout",
     "output_type": "stream",
     "text": [
      "Testing 24 potential triadic pairs\n",
      "Time spent finding triads: 0.0014019012451171875\n",
      "Found 22 connected triads\n",
      "Time spent classifying triads: 0.0019211769104003906\n",
      "Testing 17 potential triadic pairs\n",
      "Time spent finding triads: 0.0008170604705810547\n",
      "Found 17 connected triads\n",
      "Time spent classifying triads: 0.0007395744323730469\n",
      "Testing 1 potential triadic pairs\n",
      "Time spent finding triads: 0.0007195472717285156\n",
      "Found 1 connected triads\n",
      "Time spent classifying triads: 0.0001266002655029297\n"
     ]
    },
    {
     "name": "stderr",
     "output_type": "stream",
     "text": [
      "\r",
      " 89%|████████▉ | 49/55 [00:02<00:00, 19.02it/s]"
     ]
    },
    {
     "name": "stdout",
     "output_type": "stream",
     "text": [
      "Testing 27 potential triadic pairs\n",
      "Time spent finding triads: 0.0011909008026123047\n",
      "Found 25 connected triads\n",
      "Time spent classifying triads: 0.002442598342895508\n"
     ]
    },
    {
     "name": "stderr",
     "output_type": "stream",
     "text": [
      "\r",
      " 93%|█████████▎| 51/55 [00:02<00:00, 19.25it/s]"
     ]
    },
    {
     "name": "stdout",
     "output_type": "stream",
     "text": [
      "Testing 14 potential triadic pairs\n",
      "Time spent finding triads: 0.0012898445129394531\n",
      "Found 14 connected triads\n",
      "Time spent classifying triads: 0.001386404037475586\n",
      "Testing 9 potential triadic pairs\n",
      "Time spent finding triads: 0.0007648468017578125\n",
      "Found 9 connected triads\n",
      "Time spent classifying triads: 0.0004343986511230469\n",
      "Testing 16 potential triadic pairs\n",
      "Time spent finding triads: 0.0007970333099365234\n",
      "Found 16 connected triads\n",
      "Time spent classifying triads: 0.0006999969482421875\n"
     ]
    },
    {
     "name": "stderr",
     "output_type": "stream",
     "text": [
      "\r",
      " 96%|█████████▋| 53/55 [00:03<00:00, 19.07it/s]"
     ]
    },
    {
     "name": "stdout",
     "output_type": "stream",
     "text": [
      "Testing 4 potential triadic pairs\n",
      "Time spent finding triads: 0.0011992454528808594\n",
      "Found 4 connected triads\n",
      "Time spent classifying triads: 0.00047135353088378906\n"
     ]
    },
    {
     "name": "stderr",
     "output_type": "stream",
     "text": [
      "100%|██████████| 55/55 [00:03<00:00, 17.51it/s]\n"
     ]
    },
    {
     "name": "stdout",
     "output_type": "stream",
     "text": [
      "Testing 23 potential triadic pairs\n",
      "Time spent finding triads: 0.0008993148803710938\n",
      "Found 26 connected triads\n",
      "Time spent classifying triads: 0.0025110244750976562\n",
      "Testing 9 potential triadic pairs\n",
      "Time spent finding triads: 0.0007734298706054688\n",
      "Found 7 connected triads\n",
      "Time spent classifying triads: 0.0003635883331298828\n"
     ]
    },
    {
     "name": "stderr",
     "output_type": "stream",
     "text": [
      "\r",
      "  0%|          | 0/55 [00:00<?, ?it/s]"
     ]
    },
    {
     "name": "stdout",
     "output_type": "stream",
     "text": [
      "Testing 3 potential triadic pairs\n",
      "Time spent finding triads: 0.0007870197296142578\n",
      "Found 3 connected triads\n",
      "Time spent classifying triads: 0.0003910064697265625\n",
      "Testing 15 potential triadic pairs\n",
      "Time spent finding triads: 0.0008630752563476562\n",
      "Found 13 connected triads\n",
      "Time spent classifying triads: 0.0012974739074707031\n"
     ]
    },
    {
     "name": "stderr",
     "output_type": "stream",
     "text": [
      "  7%|▋         | 4/55 [00:00<00:03, 15.95it/s]"
     ]
    },
    {
     "name": "stdout",
     "output_type": "stream",
     "text": [
      "Testing 12 potential triadic pairs\n",
      "Time spent finding triads: 0.0008337497711181641\n",
      "Found 12 connected triads\n",
      "Time spent classifying triads: 0.0012004375457763672\n",
      "Testing 7 potential triadic pairs\n",
      "Time spent finding triads: 0.0007641315460205078\n",
      "Found 7 connected triads\n",
      "Time spent classifying triads: 0.00037860870361328125\n",
      "Testing 1 potential triadic pairs\n",
      "Time spent finding triads: 0.0007731914520263672\n",
      "Found 1 connected triads\n",
      "Time spent classifying triads: 0.0001938343048095703\n"
     ]
    },
    {
     "name": "stderr",
     "output_type": "stream",
     "text": [
      "\r",
      " 11%|█         | 6/55 [00:00<00:03, 15.98it/s]"
     ]
    },
    {
     "name": "stdout",
     "output_type": "stream",
     "text": [
      "Testing 4 potential triadic pairs\n",
      "Time spent finding triads: 0.0007965564727783203\n",
      "Found 4 connected triads\n",
      "Time spent classifying triads: 0.0004925727844238281\n"
     ]
    },
    {
     "name": "stderr",
     "output_type": "stream",
     "text": [
      "\r",
      " 15%|█▍        | 8/55 [00:00<00:02, 15.97it/s]"
     ]
    },
    {
     "name": "stdout",
     "output_type": "stream",
     "text": [
      "Testing 3 potential triadic pairs\n",
      "Time spent finding triads: 0.0007739067077636719\n",
      "Found 3 connected triads\n",
      "Time spent classifying triads: 0.00039196014404296875\n",
      "Testing 5 potential triadic pairs\n",
      "Time spent finding triads: 0.0007433891296386719\n",
      "Found 5 connected triads\n",
      "Time spent classifying triads: 0.0003018379211425781\n",
      "Testing 29 potential triadic pairs\n",
      "Time spent finding triads: 0.0009410381317138672\n",
      "Found 27 connected triads\n",
      "Time spent classifying triads: 0.002576112747192383\n"
     ]
    },
    {
     "name": "stderr",
     "output_type": "stream",
     "text": [
      "\r",
      " 18%|█▊        | 10/55 [00:00<00:02, 15.75it/s]"
     ]
    },
    {
     "name": "stdout",
     "output_type": "stream",
     "text": [
      "Testing 43 potential triadic pairs\n",
      "Time spent finding triads: 0.0010156631469726562\n",
      "Found 43 connected triads\n",
      "Time spent classifying triads: 0.00404810905456543\n"
     ]
    },
    {
     "name": "stderr",
     "output_type": "stream",
     "text": [
      "\r",
      " 22%|██▏       | 12/55 [00:00<00:02, 16.06it/s]"
     ]
    },
    {
     "name": "stdout",
     "output_type": "stream",
     "text": [
      "Testing 5 potential triadic pairs\n",
      "Time spent finding triads: 0.0007960796356201172\n",
      "Found 5 connected triads\n",
      "Time spent classifying triads: 0.0005698204040527344\n",
      "Testing 20 potential triadic pairs\n",
      "Time spent finding triads: 0.0008363723754882812\n",
      "Found 18 connected triads\n",
      "Time spent classifying triads: 0.0007791519165039062\n",
      "Testing 5 potential triadic pairs\n",
      "Time spent finding triads: 0.0007982254028320312\n",
      "Found 5 connected triads\n",
      "Time spent classifying triads: 0.0005660057067871094\n"
     ]
    },
    {
     "name": "stderr",
     "output_type": "stream",
     "text": [
      "\r",
      " 25%|██▌       | 14/55 [00:00<00:02, 16.05it/s]"
     ]
    },
    {
     "name": "stdout",
     "output_type": "stream",
     "text": [
      "Testing 3 potential triadic pairs\n",
      "Time spent finding triads: 0.0007791519165039062\n",
      "Found 3 connected triads\n",
      "Time spent classifying triads: 0.0003845691680908203\n"
     ]
    },
    {
     "name": "stderr",
     "output_type": "stream",
     "text": [
      "\r",
      " 29%|██▉       | 16/55 [00:00<00:02, 16.08it/s]"
     ]
    },
    {
     "name": "stdout",
     "output_type": "stream",
     "text": [
      "Testing 4 potential triadic pairs\n",
      "Time spent finding triads: 0.0007910728454589844\n",
      "Found 4 connected triads\n",
      "Time spent classifying triads: 0.00048232078552246094\n",
      "Testing 23 potential triadic pairs\n",
      "Time spent finding triads: 0.0008609294891357422\n",
      "Found 35 connected triads\n",
      "Time spent classifying triads: 0.0014119148254394531\n",
      "Testing 6 potential triadic pairs\n",
      "Time spent finding triads: 0.0008068084716796875\n",
      "Found 6 connected triads\n",
      "Time spent classifying triads: 0.0006582736968994141\n"
     ]
    },
    {
     "name": "stderr",
     "output_type": "stream",
     "text": [
      "\r",
      " 33%|███▎      | 18/55 [00:01<00:02, 15.94it/s]"
     ]
    },
    {
     "name": "stdout",
     "output_type": "stream",
     "text": [
      "Testing 21 potential triadic pairs\n",
      "Time spent finding triads: 0.0008995532989501953\n",
      "Found 21 connected triads\n",
      "Time spent classifying triads: 0.0020186901092529297\n"
     ]
    },
    {
     "name": "stderr",
     "output_type": "stream",
     "text": [
      "\r",
      " 36%|███▋      | 20/55 [00:01<00:02, 16.03it/s]"
     ]
    },
    {
     "name": "stdout",
     "output_type": "stream",
     "text": [
      "Testing 6 potential triadic pairs\n",
      "Time spent finding triads: 0.0008094310760498047\n",
      "Found 4 connected triads\n",
      "Time spent classifying triads: 0.00047516822814941406\n",
      "Testing 14 potential triadic pairs\n",
      "Time spent finding triads: 0.0008006095886230469\n",
      "Found 12 connected triads\n",
      "Time spent classifying triads: 0.0005519390106201172\n",
      "Testing 7 potential triadic pairs\n",
      "Time spent finding triads: 0.0008151531219482422\n",
      "Found 9 connected triads\n",
      "Time spent classifying triads: 0.0009441375732421875\n"
     ]
    },
    {
     "name": "stderr",
     "output_type": "stream",
     "text": [
      "\r",
      " 40%|████      | 22/55 [00:01<00:02, 16.02it/s]"
     ]
    },
    {
     "name": "stdout",
     "output_type": "stream",
     "text": [
      "Testing 1 potential triadic pairs\n",
      "Time spent finding triads: 0.0007772445678710938\n",
      "Found 1 connected triads\n",
      "Time spent classifying triads: 0.00018453598022460938\n"
     ]
    },
    {
     "name": "stderr",
     "output_type": "stream",
     "text": [
      "\r",
      " 44%|████▎     | 24/55 [00:01<00:01, 16.02it/s]"
     ]
    },
    {
     "name": "stdout",
     "output_type": "stream",
     "text": [
      "Testing 9 potential triadic pairs\n",
      "Time spent finding triads: 0.0008265972137451172\n",
      "Found 9 connected triads\n",
      "Time spent classifying triads: 0.0009496212005615234\n",
      "Testing 18 potential triadic pairs\n",
      "Time spent finding triads: 0.0008358955383300781\n",
      "Found 18 connected triads\n",
      "Time spent classifying triads: 0.0007693767547607422\n",
      "Testing 21 potential triadic pairs\n",
      "Time spent finding triads: 0.0009005069732666016\n",
      "Found 19 connected triads\n",
      "Time spent classifying triads: 0.0018477439880371094\n"
     ]
    },
    {
     "name": "stderr",
     "output_type": "stream",
     "text": [
      "\r",
      " 47%|████▋     | 26/55 [00:01<00:01, 15.96it/s]"
     ]
    },
    {
     "name": "stdout",
     "output_type": "stream",
     "text": [
      "Testing 29 potential triadic pairs\n",
      "Time spent finding triads: 0.0009350776672363281\n",
      "Found 25 connected triads\n",
      "Time spent classifying triads: 0.002315521240234375\n"
     ]
    },
    {
     "name": "stderr",
     "output_type": "stream",
     "text": [
      "\r",
      " 51%|█████     | 28/55 [00:01<00:01, 15.91it/s]"
     ]
    },
    {
     "name": "stdout",
     "output_type": "stream",
     "text": [
      "Testing 9 potential triadic pairs\n",
      "Time spent finding triads: 0.0008275508880615234\n",
      "Found 9 connected triads\n",
      "Time spent classifying triads: 0.0009407997131347656\n",
      "Testing 32 potential triadic pairs\n",
      "Time spent finding triads: 0.0009191036224365234\n",
      "Found 35 connected triads\n",
      "Time spent classifying triads: 0.0014064311981201172\n",
      "Testing 13 potential triadic pairs\n",
      "Time spent finding triads: 0.0008509159088134766\n",
      "Found 9 connected triads\n",
      "Time spent classifying triads: 0.00093841552734375\n"
     ]
    },
    {
     "name": "stderr",
     "output_type": "stream",
     "text": [
      "\r",
      " 55%|█████▍    | 30/55 [00:01<00:01, 15.93it/s]"
     ]
    },
    {
     "name": "stdout",
     "output_type": "stream",
     "text": [
      "Testing 11 potential triadic pairs\n",
      "Time spent finding triads: 0.0008332729339599609\n",
      "Found 9 connected triads\n",
      "Time spent classifying triads: 0.0009353160858154297\n"
     ]
    },
    {
     "name": "stderr",
     "output_type": "stream",
     "text": [
      "\r",
      " 58%|█████▊    | 32/55 [00:02<00:01, 15.97it/s]"
     ]
    },
    {
     "name": "stdout",
     "output_type": "stream",
     "text": [
      "Testing 17 potential triadic pairs\n",
      "Time spent finding triads: 0.0008807182312011719\n",
      "Found 20 connected triads\n",
      "Time spent classifying triads: 0.0019919872283935547\n",
      "Testing 16 potential triadic pairs\n",
      "Time spent finding triads: 0.0008106231689453125\n",
      "Found 12 connected triads\n",
      "Time spent classifying triads: 0.0005595684051513672\n",
      "Testing 26 potential triadic pairs\n",
      "Time spent finding triads: 0.0009315013885498047\n",
      "Found 26 connected triads\n",
      "Time spent classifying triads: 0.002483844757080078\n"
     ]
    },
    {
     "name": "stderr",
     "output_type": "stream",
     "text": [
      "\r",
      " 62%|██████▏   | 34/55 [00:02<00:01, 15.82it/s]"
     ]
    },
    {
     "name": "stdout",
     "output_type": "stream",
     "text": [
      "Testing 19 potential triadic pairs\n",
      "Time spent finding triads: 0.0008969306945800781\n",
      "Found 15 connected triads\n",
      "Time spent classifying triads: 0.001497507095336914\n"
     ]
    },
    {
     "name": "stderr",
     "output_type": "stream",
     "text": [
      "\r",
      " 65%|██████▌   | 36/55 [00:02<00:01, 16.09it/s]"
     ]
    },
    {
     "name": "stdout",
     "output_type": "stream",
     "text": [
      "Testing 1 potential triadic pairs\n",
      "Time spent finding triads: 0.0007848739624023438\n",
      "Found 1 connected triads\n",
      "Time spent classifying triads: 0.00018525123596191406\n",
      "Testing 19 potential triadic pairs\n",
      "Time spent finding triads: 0.0008409023284912109\n",
      "Found 15 connected triads\n",
      "Time spent classifying triads: 0.0006730556488037109\n",
      "Testing 7 potential triadic pairs\n",
      "Time spent finding triads: 0.0008208751678466797\n",
      "Found 9 connected triads\n",
      "Time spent classifying triads: 0.0009360313415527344\n"
     ]
    },
    {
     "name": "stderr",
     "output_type": "stream",
     "text": [
      "\r",
      " 69%|██████▉   | 38/55 [00:02<00:01, 15.89it/s]"
     ]
    },
    {
     "name": "stdout",
     "output_type": "stream",
     "text": [
      "Testing 5 potential triadic pairs\n",
      "Time spent finding triads: 0.0008008480072021484\n",
      "Found 5 connected triads\n",
      "Time spent classifying triads: 0.0005788803100585938\n"
     ]
    },
    {
     "name": "stderr",
     "output_type": "stream",
     "text": [
      "\r",
      " 73%|███████▎  | 40/55 [00:02<00:00, 16.14it/s]"
     ]
    },
    {
     "name": "stdout",
     "output_type": "stream",
     "text": [
      "Testing 1 potential triadic pairs\n",
      "Time spent finding triads: 0.0007712841033935547\n",
      "Found 1 connected triads\n",
      "Time spent classifying triads: 0.0001842975616455078\n",
      "Testing 4 potential triadic pairs\n",
      "Time spent finding triads: 0.0007369518280029297\n",
      "Found 4 connected triads\n",
      "Time spent classifying triads: 0.00026607513427734375\n",
      "Testing 10 potential triadic pairs\n",
      "Time spent finding triads: 0.0008320808410644531\n",
      "Found 8 connected triads\n",
      "Time spent classifying triads: 0.0008509159088134766\n"
     ]
    },
    {
     "name": "stderr",
     "output_type": "stream",
     "text": [
      "\r",
      " 76%|███████▋  | 42/55 [00:02<00:00, 15.97it/s]"
     ]
    },
    {
     "name": "stdout",
     "output_type": "stream",
     "text": [
      "Testing 17 potential triadic pairs\n",
      "Time spent finding triads: 0.0008761882781982422\n",
      "Found 15 connected triads\n",
      "Time spent classifying triads: 0.0014815330505371094\n"
     ]
    },
    {
     "name": "stderr",
     "output_type": "stream",
     "text": [
      "\r",
      " 80%|████████  | 44/55 [00:02<00:00, 15.95it/s]"
     ]
    },
    {
     "name": "stdout",
     "output_type": "stream",
     "text": [
      "Testing 8 potential triadic pairs\n",
      "Time spent finding triads: 0.0008318424224853516\n",
      "Found 10 connected triads\n",
      "Time spent classifying triads: 0.0010335445404052734\n",
      "Testing 7 potential triadic pairs\n",
      "Time spent finding triads: 0.0007724761962890625\n",
      "Found 7 connected triads\n",
      "Time spent classifying triads: 0.0003726482391357422\n",
      "Testing 20 potential triadic pairs\n",
      "Time spent finding triads: 0.0008864402770996094\n",
      "Found 20 connected triads\n",
      "Time spent classifying triads: 0.0019381046295166016\n"
     ]
    },
    {
     "name": "stderr",
     "output_type": "stream",
     "text": [
      "\r",
      " 84%|████████▎ | 46/55 [00:02<00:00, 16.01it/s]"
     ]
    },
    {
     "name": "stdout",
     "output_type": "stream",
     "text": [
      "Testing 2 potential triadic pairs\n",
      "Time spent finding triads: 0.0007698535919189453\n",
      "Found 2 connected triads\n",
      "Time spent classifying triads: 0.0002791881561279297\n"
     ]
    },
    {
     "name": "stderr",
     "output_type": "stream",
     "text": [
      "\r",
      " 87%|████████▋ | 48/55 [00:03<00:00, 16.12it/s]"
     ]
    },
    {
     "name": "stdout",
     "output_type": "stream",
     "text": [
      "Testing 13 potential triadic pairs\n",
      "Time spent finding triads: 0.0008437633514404297\n",
      "Found 13 connected triads\n",
      "Time spent classifying triads: 0.001293182373046875\n",
      "Testing 3 potential triadic pairs\n",
      "Time spent finding triads: 0.0007419586181640625\n",
      "Found 3 connected triads\n",
      "Time spent classifying triads: 0.0002124309539794922\n",
      "Testing 5 potential triadic pairs\n",
      "Time spent finding triads: 0.0008065700531005859\n",
      "Found 5 connected triads\n",
      "Time spent classifying triads: 0.0005667209625244141\n"
     ]
    },
    {
     "name": "stderr",
     "output_type": "stream",
     "text": [
      "\r",
      " 91%|█████████ | 50/55 [00:03<00:00, 15.99it/s]"
     ]
    },
    {
     "name": "stdout",
     "output_type": "stream",
     "text": [
      "Testing 5 potential triadic pairs\n",
      "Time spent finding triads: 0.0007996559143066406\n",
      "Found 5 connected triads\n",
      "Time spent classifying triads: 0.0005762577056884766\n"
     ]
    },
    {
     "name": "stderr",
     "output_type": "stream",
     "text": [
      "\r",
      " 95%|█████████▍| 52/55 [00:03<00:00, 16.00it/s]"
     ]
    },
    {
     "name": "stdout",
     "output_type": "stream",
     "text": [
      "Testing 7 potential triadic pairs\n",
      "Time spent finding triads: 0.0008072853088378906\n",
      "Found 5 connected triads\n",
      "Time spent classifying triads: 0.0005743503570556641\n",
      "Testing 29 potential triadic pairs\n",
      "Time spent finding triads: 0.0008904933929443359\n",
      "Found 27 connected triads\n",
      "Time spent classifying triads: 0.0011107921600341797\n",
      "Testing 17 potential triadic pairs\n",
      "Time spent finding triads: 0.0008835792541503906\n",
      "Found 15 connected triads\n",
      "Time spent classifying triads: 0.0014946460723876953\n"
     ]
    },
    {
     "name": "stderr",
     "output_type": "stream",
     "text": [
      "\r",
      " 98%|█████████▊| 54/55 [00:03<00:00, 15.98it/s]"
     ]
    },
    {
     "name": "stdout",
     "output_type": "stream",
     "text": [
      "Testing 9 potential triadic pairs\n",
      "Time spent finding triads: 0.000823974609375\n",
      "Found 9 connected triads\n",
      "Time spent classifying triads: 0.0009348392486572266\n"
     ]
    },
    {
     "name": "stderr",
     "output_type": "stream",
     "text": [
      "100%|██████████| 55/55 [00:03<00:00, 15.98it/s]\n"
     ]
    },
    {
     "name": "stdout",
     "output_type": "stream",
     "text": [
      "Testing 6 potential triadic pairs\n",
      "Time spent finding triads: 0.00083160400390625\n",
      "Found 6 connected triads\n",
      "Time spent classifying triads: 0.0006642341613769531\n"
     ]
    },
    {
     "name": "stderr",
     "output_type": "stream",
     "text": [
      "  4%|▎         | 2/55 [00:00<00:02, 19.42it/s]"
     ]
    },
    {
     "name": "stdout",
     "output_type": "stream",
     "text": [
      "Testing 0 potential triadic pairs\n",
      "Time spent finding triads: 0.0007460117340087891\n",
      "Found 0 connected triads\n",
      "Time spent classifying triads: 7.152557373046875e-05\n",
      "Testing 19 potential triadic pairs\n",
      "Time spent finding triads: 0.0008339881896972656\n",
      "Found 19 connected triads\n",
      "Time spent classifying triads: 0.0008156299591064453\n",
      "Testing 10 potential triadic pairs\n",
      "Time spent finding triads: 0.0008177757263183594\n",
      "Found 8 connected triads\n",
      "Time spent classifying triads: 0.0008440017700195312\n"
     ]
    },
    {
     "name": "stderr",
     "output_type": "stream",
     "text": [
      "\r",
      "  7%|▋         | 4/55 [00:00<00:02, 19.44it/s]"
     ]
    },
    {
     "name": "stdout",
     "output_type": "stream",
     "text": [
      "Testing 0 potential triadic pairs\n",
      "Time spent finding triads: 0.0007386207580566406\n",
      "Found 0 connected triads\n",
      "Time spent classifying triads: 6.985664367675781e-05\n"
     ]
    },
    {
     "name": "stderr",
     "output_type": "stream",
     "text": [
      "\r",
      " 13%|█▎        | 7/55 [00:00<00:02, 20.16it/s]"
     ]
    },
    {
     "name": "stdout",
     "output_type": "stream",
     "text": [
      "Testing 11 potential triadic pairs\n",
      "Time spent finding triads: 0.0014657974243164062\n",
      "Found 11 connected triads\n",
      "Time spent classifying triads: 0.0009980201721191406\n",
      "Testing 14 potential triadic pairs\n",
      "Time spent finding triads: 0.0007877349853515625\n",
      "Found 12 connected triads\n",
      "Time spent classifying triads: 0.0005571842193603516\n",
      "Testing 8 potential triadic pairs\n",
      "Time spent finding triads: 0.0007572174072265625\n",
      "Found 8 connected triads\n",
      "Time spent classifying triads: 0.00040268898010253906\n",
      "Testing 6 potential triadic pairs\n",
      "Time spent finding triads: 0.00080108642578125\n",
      "Found 6 connected triads\n",
      "Time spent classifying triads: 0.0006625652313232422\n",
      "Testing 3 potential triadic pairs\n",
      "Time spent finding triads: 0.0007750988006591797\n",
      "Found 3 connected triads\n",
      "Time spent classifying triads: 0.0003788471221923828\n"
     ]
    },
    {
     "name": "stderr",
     "output_type": "stream",
     "text": [
      "\r",
      " 18%|█▊        | 10/55 [00:00<00:02, 19.87it/s]"
     ]
    },
    {
     "name": "stdout",
     "output_type": "stream",
     "text": [
      "Testing 12 potential triadic pairs\n",
      "Time spent finding triads: 0.0008244514465332031\n",
      "Found 12 connected triads\n",
      "Time spent classifying triads: 0.0012164115905761719\n",
      "Testing 2 potential triadic pairs\n",
      "Time spent finding triads: 0.000720977783203125\n",
      "Found 2 connected triads\n",
      "Time spent classifying triads: 0.0001709461212158203\n",
      "Testing 6 potential triadic pairs\n",
      "Time spent finding triads: 0.0007510185241699219\n",
      "Found 8 connected triads\n",
      "Time spent classifying triads: 0.0004112720489501953\n",
      "Testing 7 potential triadic pairs\n",
      "Time spent finding triads: 0.0008006095886230469\n",
      "Found 7 connected triads\n",
      "Time spent classifying triads: 0.0007562637329101562\n"
     ]
    },
    {
     "name": "stderr",
     "output_type": "stream",
     "text": [
      " 29%|██▉       | 16/55 [00:00<00:01, 19.88it/s]"
     ]
    },
    {
     "name": "stdout",
     "output_type": "stream",
     "text": [
      "Testing 1 potential triadic pairs\n",
      "Time spent finding triads: 0.0007569789886474609\n",
      "Found 1 connected triads\n",
      "Time spent classifying triads: 0.00017976760864257812\n",
      "Testing 0 potential triadic pairs\n",
      "Time spent finding triads: 0.0006890296936035156\n",
      "Found 0 connected triads\n",
      "Time spent classifying triads: 6.67572021484375e-05\n",
      "Testing 12 potential triadic pairs\n",
      "Time spent finding triads: 0.0007791519165039062\n",
      "Found 10 connected triads\n",
      "Time spent classifying triads: 0.0004725456237792969\n",
      "Testing 9 potential triadic pairs\n",
      "Time spent finding triads: 0.0010857582092285156\n",
      "Found 9 connected triads\n",
      "Time spent classifying triads: 0.0009310245513916016\n"
     ]
    },
    {
     "name": "stderr",
     "output_type": "stream",
     "text": [
      " 36%|███▋      | 20/55 [00:01<00:01, 19.46it/s]"
     ]
    },
    {
     "name": "stdout",
     "output_type": "stream",
     "text": [
      "Testing 10 potential triadic pairs\n",
      "Time spent finding triads: 0.0015456676483154297\n",
      "Found 17 connected triads\n",
      "Time spent classifying triads: 0.0014238357543945312\n",
      "Testing 28 potential triadic pairs\n",
      "Time spent finding triads: 0.0008802413940429688\n",
      "Found 28 connected triads\n",
      "Time spent classifying triads: 0.0011510848999023438\n",
      "Testing 9 potential triadic pairs\n",
      "Time spent finding triads: 0.0007517337799072266\n",
      "Found 9 connected triads\n",
      "Time spent classifying triads: 0.000446319580078125\n",
      "Testing 4 potential triadic pairs\n",
      "Time spent finding triads: 0.0012807846069335938\n",
      "Found 4 connected triads\n",
      "Time spent classifying triads: 0.00047969818115234375\n"
     ]
    },
    {
     "name": "stderr",
     "output_type": "stream",
     "text": [
      " 44%|████▎     | 24/55 [00:01<00:01, 19.41it/s]"
     ]
    },
    {
     "name": "stdout",
     "output_type": "stream",
     "text": [
      "Testing 6 potential triadic pairs\n",
      "Time spent finding triads: 0.0012562274932861328\n",
      "Found 6 connected triads\n",
      "Time spent classifying triads: 0.0006654262542724609\n",
      "Testing 8 potential triadic pairs\n",
      "Time spent finding triads: 0.0007593631744384766\n",
      "Found 8 connected triads\n",
      "Time spent classifying triads: 0.00040221214294433594\n",
      "Testing 9 potential triadic pairs\n",
      "Time spent finding triads: 0.0007631778717041016\n",
      "Found 13 connected triads\n",
      "Time spent classifying triads: 0.0005962848663330078\n",
      "Testing 2 potential triadic pairs\n",
      "Time spent finding triads: 0.0007207393646240234\n",
      "Found 2 connected triads\n",
      "Time spent classifying triads: 0.00016951560974121094\n"
     ]
    },
    {
     "name": "stderr",
     "output_type": "stream",
     "text": [
      " 53%|█████▎    | 29/55 [00:01<00:01, 19.70it/s]"
     ]
    },
    {
     "name": "stdout",
     "output_type": "stream",
     "text": [
      "Testing 8 potential triadic pairs\n",
      "Time spent finding triads: 0.0009150505065917969\n",
      "Found 8 connected triads\n",
      "Time spent classifying triads: 0.0008487701416015625\n",
      "Testing 3 potential triadic pairs\n",
      "Time spent finding triads: 0.0007147789001464844\n",
      "Found 3 connected triads\n",
      "Time spent classifying triads: 0.00021886825561523438\n",
      "Testing 5 potential triadic pairs\n",
      "Time spent finding triads: 0.0007374286651611328\n",
      "Found 5 connected triads\n",
      "Time spent classifying triads: 0.00028777122497558594\n",
      "Testing 11 potential triadic pairs\n",
      "Time spent finding triads: 0.0007803440093994141\n",
      "Found 11 connected triads\n",
      "Time spent classifying triads: 0.0005321502685546875\n",
      "Testing 15 potential triadic pairs\n",
      "Time spent finding triads: 0.0007970333099365234\n",
      "Found 13 connected triads\n",
      "Time spent classifying triads: 0.0013155937194824219\n"
     ]
    },
    {
     "name": "stderr",
     "output_type": "stream",
     "text": [
      " 60%|██████    | 33/55 [00:01<00:01, 19.36it/s]"
     ]
    },
    {
     "name": "stdout",
     "output_type": "stream",
     "text": [
      "Testing 14 potential triadic pairs\n",
      "Time spent finding triads: 0.000858306884765625\n",
      "Found 14 connected triads\n",
      "Time spent classifying triads: 0.0014045238494873047\n",
      "Testing 6 potential triadic pairs\n",
      "Time spent finding triads: 0.0007567405700683594\n",
      "Found 6 connected triads\n",
      "Time spent classifying triads: 0.0003247261047363281\n",
      "Testing 2 potential triadic pairs\n",
      "Time spent finding triads: 0.0007102489471435547\n",
      "Found 2 connected triads\n",
      "Time spent classifying triads: 0.00017690658569335938\n",
      "Testing 31 potential triadic pairs\n",
      "Time spent finding triads: 0.0008916854858398438\n",
      "Found 33 connected triads\n",
      "Time spent classifying triads: 0.0013432502746582031\n"
     ]
    },
    {
     "name": "stderr",
     "output_type": "stream",
     "text": [
      " 69%|██████▉   | 38/55 [00:01<00:00, 19.70it/s]"
     ]
    },
    {
     "name": "stdout",
     "output_type": "stream",
     "text": [
      "Testing 7 potential triadic pairs\n",
      "Time spent finding triads: 0.0012745857238769531\n",
      "Found 7 connected triads\n",
      "Time spent classifying triads: 0.0006613731384277344\n",
      "Testing 12 potential triadic pairs\n",
      "Time spent finding triads: 0.0007779598236083984\n",
      "Found 12 connected triads\n",
      "Time spent classifying triads: 0.0005452632904052734\n",
      "Testing 10 potential triadic pairs\n",
      "Time spent finding triads: 0.0008809566497802734\n",
      "Found 12 connected triads\n",
      "Time spent classifying triads: 0.0005583763122558594\n",
      "Testing 11 potential triadic pairs\n",
      "Time spent finding triads: 0.0007586479187011719\n",
      "Found 11 connected triads\n",
      "Time spent classifying triads: 0.0005249977111816406\n",
      "Testing 23 potential triadic pairs\n",
      "Time spent finding triads: 0.0008618831634521484\n",
      "Found 21 connected triads\n",
      "Time spent classifying triads: 0.000888824462890625\n"
     ]
    },
    {
     "name": "stderr",
     "output_type": "stream",
     "text": [
      " 78%|███████▊  | 43/55 [00:02<00:00, 19.61it/s]"
     ]
    },
    {
     "name": "stdout",
     "output_type": "stream",
     "text": [
      "Testing 17 potential triadic pairs\n",
      "Time spent finding triads: 0.0008707046508789062\n",
      "Found 17 connected triads\n",
      "Time spent classifying triads: 0.0016694068908691406\n",
      "Testing 6 potential triadic pairs\n",
      "Time spent finding triads: 0.0007498264312744141\n",
      "Found 6 connected triads\n",
      "Time spent classifying triads: 0.000324249267578125\n",
      "Testing 2 potential triadic pairs\n",
      "Time spent finding triads: 0.0007481575012207031\n",
      "Found 4 connected triads\n",
      "Time spent classifying triads: 0.00047278404235839844\n",
      "Testing 13 potential triadic pairs\n",
      "Time spent finding triads: 0.0007812976837158203\n",
      "Found 13 connected triads\n",
      "Time spent classifying triads: 0.0005762577056884766\n",
      "Testing 6 potential triadic pairs\n",
      "Time spent finding triads: 0.0007359981536865234\n",
      "Found 6 connected triads\n",
      "Time spent classifying triads: 0.0003669261932373047\n"
     ]
    },
    {
     "name": "stderr",
     "output_type": "stream",
     "text": [
      " 85%|████████▌ | 47/55 [00:02<00:00, 19.43it/s]"
     ]
    },
    {
     "name": "stdout",
     "output_type": "stream",
     "text": [
      "Testing 12 potential triadic pairs\n",
      "Time spent finding triads: 0.000835418701171875\n",
      "Found 12 connected triads\n",
      "Time spent classifying triads: 0.0012013912200927734\n",
      "Testing 5 potential triadic pairs\n",
      "Time spent finding triads: 0.0007355213165283203\n",
      "Found 5 connected triads\n",
      "Time spent classifying triads: 0.0002841949462890625\n",
      "Testing 24 potential triadic pairs\n",
      "Time spent finding triads: 0.0008449554443359375\n",
      "Found 30 connected triads\n",
      "Time spent classifying triads: 0.0012149810791015625\n",
      "Testing 2 potential triadic pairs\n",
      "Time spent finding triads: 0.0007092952728271484\n",
      "Found 2 connected triads\n",
      "Time spent classifying triads: 0.0001811981201171875\n"
     ]
    },
    {
     "name": "stderr",
     "output_type": "stream",
     "text": [
      " 95%|█████████▍| 52/55 [00:02<00:00, 19.49it/s]"
     ]
    },
    {
     "name": "stdout",
     "output_type": "stream",
     "text": [
      "Testing 5 potential triadic pairs\n",
      "Time spent finding triads: 0.0013718605041503906\n",
      "Found 5 connected triads\n",
      "Time spent classifying triads: 0.0005750656127929688\n",
      "Testing 7 potential triadic pairs\n",
      "Time spent finding triads: 0.0007522106170654297\n",
      "Found 5 connected triads\n",
      "Time spent classifying triads: 0.0002872943878173828\n",
      "Testing 3 potential triadic pairs\n",
      "Time spent finding triads: 0.0008318424224853516\n",
      "Found 1 connected triads\n",
      "Time spent classifying triads: 0.00013566017150878906\n",
      "Testing 12 potential triadic pairs\n",
      "Time spent finding triads: 0.0007832050323486328\n",
      "Found 12 connected triads\n",
      "Time spent classifying triads: 0.0005559921264648438\n",
      "Testing 10 potential triadic pairs\n",
      "Time spent finding triads: 0.0007624626159667969\n",
      "Found 10 connected triads\n",
      "Time spent classifying triads: 0.00048089027404785156\n"
     ]
    },
    {
     "name": "stderr",
     "output_type": "stream",
     "text": [
      "100%|██████████| 55/55 [00:02<00:00, 19.46it/s]\n"
     ]
    },
    {
     "name": "stdout",
     "output_type": "stream",
     "text": [
      "Testing 16 potential triadic pairs\n",
      "Time spent finding triads: 0.0008616447448730469\n",
      "Found 14 connected triads\n",
      "Time spent classifying triads: 0.0013952255249023438\n",
      "Testing 13 potential triadic pairs\n",
      "Time spent finding triads: 0.0007901191711425781\n",
      "Found 11 connected triads\n",
      "Time spent classifying triads: 0.000522613525390625\n"
     ]
    },
    {
     "name": "stderr",
     "output_type": "stream",
     "text": [
      "  4%|▎         | 2/55 [00:00<00:02, 18.07it/s]"
     ]
    },
    {
     "name": "stdout",
     "output_type": "stream",
     "text": [
      "Testing 12 potential triadic pairs\n",
      "Time spent finding triads: 0.000820159912109375\n",
      "Found 12 connected triads\n",
      "Time spent classifying triads: 0.0012125968933105469\n",
      "Testing 7 potential triadic pairs\n",
      "Time spent finding triads: 0.0007500648498535156\n",
      "Found 7 connected triads\n",
      "Time spent classifying triads: 0.00036787986755371094\n"
     ]
    },
    {
     "name": "stderr",
     "output_type": "stream",
     "text": [
      "\r",
      "  7%|▋         | 4/55 [00:00<00:02, 18.39it/s]"
     ]
    },
    {
     "name": "stdout",
     "output_type": "stream",
     "text": [
      "Testing 4 potential triadic pairs\n",
      "Time spent finding triads: 0.0007781982421875\n",
      "Found 4 connected triads\n",
      "Time spent classifying triads: 0.00047397613525390625\n",
      "Testing 19 potential triadic pairs\n",
      "Time spent finding triads: 0.0008296966552734375\n",
      "Found 23 connected triads\n",
      "Time spent classifying triads: 0.0009734630584716797\n"
     ]
    },
    {
     "name": "stderr",
     "output_type": "stream",
     "text": [
      "\r",
      " 11%|█         | 6/55 [00:00<00:02, 18.08it/s]"
     ]
    },
    {
     "name": "stdout",
     "output_type": "stream",
     "text": [
      "Testing 12 potential triadic pairs\n",
      "Time spent finding triads: 0.0008380413055419922\n",
      "Found 12 connected triads\n",
      "Time spent classifying triads: 0.0012178421020507812\n",
      "Testing 1 potential triadic pairs\n",
      "Time spent finding triads: 0.0007083415985107422\n",
      "Found 1 connected triads\n",
      "Time spent classifying triads: 0.0001373291015625\n"
     ]
    },
    {
     "name": "stderr",
     "output_type": "stream",
     "text": [
      "\r",
      " 15%|█▍        | 8/55 [00:00<00:02, 18.10it/s]"
     ]
    },
    {
     "name": "stdout",
     "output_type": "stream",
     "text": [
      "Testing 10 potential triadic pairs\n",
      "Time spent finding triads: 0.0008268356323242188\n",
      "Found 10 connected triads\n",
      "Time spent classifying triads: 0.0010318756103515625\n",
      "Testing 11 potential triadic pairs\n",
      "Time spent finding triads: 0.0007834434509277344\n",
      "Found 13 connected triads\n",
      "Time spent classifying triads: 0.0005977153778076172\n"
     ]
    },
    {
     "name": "stderr",
     "output_type": "stream",
     "text": [
      "\r",
      " 18%|█▊        | 10/55 [00:00<00:02, 17.88it/s]"
     ]
    },
    {
     "name": "stdout",
     "output_type": "stream",
     "text": [
      "Testing 18 potential triadic pairs\n",
      "Time spent finding triads: 0.0008656978607177734\n",
      "Found 18 connected triads\n",
      "Time spent classifying triads: 0.0017592906951904297\n",
      "Testing 16 potential triadic pairs\n",
      "Time spent finding triads: 0.0008091926574707031\n",
      "Found 12 connected triads\n",
      "Time spent classifying triads: 0.0005617141723632812\n"
     ]
    },
    {
     "name": "stderr",
     "output_type": "stream",
     "text": [
      "\r",
      " 22%|██▏       | 12/55 [00:00<00:02, 17.79it/s]"
     ]
    },
    {
     "name": "stdout",
     "output_type": "stream",
     "text": [
      "Testing 8 potential triadic pairs\n",
      "Time spent finding triads: 0.0008265972137451172\n",
      "Found 8 connected triads\n",
      "Time spent classifying triads: 0.0008535385131835938\n",
      "Testing 17 potential triadic pairs\n",
      "Time spent finding triads: 0.0008132457733154297\n",
      "Found 17 connected triads\n",
      "Time spent classifying triads: 0.0007455348968505859\n"
     ]
    },
    {
     "name": "stderr",
     "output_type": "stream",
     "text": [
      "\r",
      " 25%|██▌       | 14/55 [00:00<00:02, 17.83it/s]"
     ]
    },
    {
     "name": "stdout",
     "output_type": "stream",
     "text": [
      "Testing 16 potential triadic pairs\n",
      "Time spent finding triads: 0.0008587837219238281\n",
      "Found 16 connected triads\n",
      "Time spent classifying triads: 0.0016608238220214844\n",
      "Testing 27 potential triadic pairs\n",
      "Time spent finding triads: 0.0008704662322998047\n",
      "Found 27 connected triads\n",
      "Time spent classifying triads: 0.0011131763458251953\n"
     ]
    },
    {
     "name": "stderr",
     "output_type": "stream",
     "text": [
      "\r",
      " 29%|██▉       | 16/55 [00:00<00:02, 17.83it/s]"
     ]
    },
    {
     "name": "stdout",
     "output_type": "stream",
     "text": [
      "Testing 16 potential triadic pairs\n",
      "Time spent finding triads: 0.0008714199066162109\n",
      "Found 14 connected triads\n",
      "Time spent classifying triads: 0.0013806819915771484\n",
      "Testing 6 potential triadic pairs\n",
      "Time spent finding triads: 0.0007483959197998047\n",
      "Found 6 connected triads\n",
      "Time spent classifying triads: 0.0003223419189453125\n"
     ]
    },
    {
     "name": "stderr",
     "output_type": "stream",
     "text": [
      "\r",
      " 33%|███▎      | 18/55 [00:01<00:02, 17.75it/s]"
     ]
    },
    {
     "name": "stdout",
     "output_type": "stream",
     "text": [
      "Testing 3 potential triadic pairs\n",
      "Time spent finding triads: 0.0007889270782470703\n",
      "Found 3 connected triads\n",
      "Time spent classifying triads: 0.0003943443298339844\n",
      "Testing 32 potential triadic pairs\n",
      "Time spent finding triads: 0.0009114742279052734\n",
      "Found 30 connected triads\n",
      "Time spent classifying triads: 0.001215219497680664\n"
     ]
    },
    {
     "name": "stderr",
     "output_type": "stream",
     "text": [
      "\r",
      " 36%|███▋      | 20/55 [00:01<00:01, 17.81it/s]"
     ]
    },
    {
     "name": "stdout",
     "output_type": "stream",
     "text": [
      "Testing 8 potential triadic pairs\n",
      "Time spent finding triads: 0.0008132457733154297\n",
      "Found 8 connected triads\n",
      "Time spent classifying triads: 0.0008456707000732422\n",
      "Testing 5 potential triadic pairs\n",
      "Time spent finding triads: 0.0007388591766357422\n",
      "Found 5 connected triads\n",
      "Time spent classifying triads: 0.0002980232238769531\n"
     ]
    },
    {
     "name": "stderr",
     "output_type": "stream",
     "text": [
      "\r",
      " 40%|████      | 22/55 [00:01<00:01, 17.88it/s]"
     ]
    },
    {
     "name": "stdout",
     "output_type": "stream",
     "text": [
      "Testing 3 potential triadic pairs\n",
      "Time spent finding triads: 0.0007789134979248047\n",
      "Found 3 connected triads\n",
      "Time spent classifying triads: 0.00038361549377441406\n",
      "Testing 20 potential triadic pairs\n",
      "Time spent finding triads: 0.0008237361907958984\n",
      "Found 20 connected triads\n",
      "Time spent classifying triads: 0.0008394718170166016\n"
     ]
    },
    {
     "name": "stderr",
     "output_type": "stream",
     "text": [
      "\r",
      " 44%|████▎     | 24/55 [00:01<00:01, 17.87it/s]"
     ]
    },
    {
     "name": "stdout",
     "output_type": "stream",
     "text": [
      "Testing 5 potential triadic pairs\n",
      "Time spent finding triads: 0.0007843971252441406\n",
      "Found 5 connected triads\n",
      "Time spent classifying triads: 0.0005640983581542969\n",
      "Testing 13 potential triadic pairs\n",
      "Time spent finding triads: 0.0007941722869873047\n",
      "Found 11 connected triads\n",
      "Time spent classifying triads: 0.0005097389221191406\n"
     ]
    },
    {
     "name": "stderr",
     "output_type": "stream",
     "text": [
      "\r",
      " 47%|████▋     | 26/55 [00:01<00:01, 17.93it/s]"
     ]
    },
    {
     "name": "stdout",
     "output_type": "stream",
     "text": [
      "Testing 6 potential triadic pairs\n",
      "Time spent finding triads: 0.0007958412170410156\n",
      "Found 6 connected triads\n",
      "Time spent classifying triads: 0.000667572021484375\n",
      "Testing 24 potential triadic pairs\n",
      "Time spent finding triads: 0.0008690357208251953\n",
      "Found 26 connected triads\n",
      "Time spent classifying triads: 0.0010797977447509766\n"
     ]
    },
    {
     "name": "stderr",
     "output_type": "stream",
     "text": [
      "\r",
      " 51%|█████     | 28/55 [00:01<00:01, 18.05it/s]"
     ]
    },
    {
     "name": "stdout",
     "output_type": "stream",
     "text": [
      "Testing 13 potential triadic pairs\n",
      "Time spent finding triads: 0.0008585453033447266\n",
      "Found 11 connected triads\n",
      "Time spent classifying triads: 0.00112152099609375\n",
      "Testing 13 potential triadic pairs\n",
      "Time spent finding triads: 0.0007929801940917969\n",
      "Found 13 connected triads\n",
      "Time spent classifying triads: 0.0005822181701660156\n"
     ]
    },
    {
     "name": "stderr",
     "output_type": "stream",
     "text": [
      "\r",
      " 55%|█████▍    | 30/55 [00:01<00:01, 18.00it/s]"
     ]
    },
    {
     "name": "stdout",
     "output_type": "stream",
     "text": [
      "Testing 5 potential triadic pairs\n",
      "Time spent finding triads: 0.0008087158203125\n",
      "Found 5 connected triads\n",
      "Time spent classifying triads: 0.0005640983581542969\n",
      "Testing 22 potential triadic pairs\n",
      "Time spent finding triads: 0.0008480548858642578\n",
      "Found 20 connected triads\n",
      "Time spent classifying triads: 0.0008602142333984375\n"
     ]
    },
    {
     "name": "stderr",
     "output_type": "stream",
     "text": [
      "\r",
      " 58%|█████▊    | 32/55 [00:01<00:01, 18.20it/s]"
     ]
    },
    {
     "name": "stdout",
     "output_type": "stream",
     "text": [
      "Testing 5 potential triadic pairs\n",
      "Time spent finding triads: 0.0007939338684082031\n",
      "Found 3 connected triads\n",
      "Time spent classifying triads: 0.0003809928894042969\n",
      "Testing 14 potential triadic pairs\n",
      "Time spent finding triads: 0.0007925033569335938\n",
      "Found 14 connected triads\n",
      "Time spent classifying triads: 0.0006268024444580078\n"
     ]
    },
    {
     "name": "stderr",
     "output_type": "stream",
     "text": [
      "\r",
      " 62%|██████▏   | 34/55 [00:01<00:01, 18.11it/s]"
     ]
    },
    {
     "name": "stdout",
     "output_type": "stream",
     "text": [
      "Testing 13 potential triadic pairs\n",
      "Time spent finding triads: 0.0008325576782226562\n",
      "Found 13 connected triads\n",
      "Time spent classifying triads: 0.0011162757873535156\n",
      "Testing 6 potential triadic pairs\n",
      "Time spent finding triads: 0.0007450580596923828\n",
      "Found 6 connected triads\n",
      "Time spent classifying triads: 0.0003247261047363281\n"
     ]
    },
    {
     "name": "stderr",
     "output_type": "stream",
     "text": [
      "\r",
      " 65%|██████▌   | 36/55 [00:02<00:01, 17.87it/s]"
     ]
    },
    {
     "name": "stdout",
     "output_type": "stream",
     "text": [
      "Testing 30 potential triadic pairs\n",
      "Time spent finding triads: 0.0009455680847167969\n",
      "Found 36 connected triads\n",
      "Time spent classifying triads: 0.003392934799194336\n",
      "Testing 14 potential triadic pairs\n",
      "Time spent finding triads: 0.0007941722869873047\n",
      "Found 14 connected triads\n",
      "Time spent classifying triads: 0.0006260871887207031\n"
     ]
    },
    {
     "name": "stderr",
     "output_type": "stream",
     "text": [
      "\r",
      " 69%|██████▉   | 38/55 [00:02<00:00, 18.12it/s]"
     ]
    },
    {
     "name": "stdout",
     "output_type": "stream",
     "text": [
      "Testing 28 potential triadic pairs\n",
      "Time spent finding triads: 0.0009284019470214844\n",
      "Found 24 connected triads\n",
      "Time spent classifying triads: 0.002290964126586914\n",
      "Testing 0 potential triadic pairs\n",
      "Time spent finding triads: 0.0006971359252929688\n",
      "Found 0 connected triads\n",
      "Time spent classifying triads: 6.723403930664062e-05\n"
     ]
    },
    {
     "name": "stderr",
     "output_type": "stream",
     "text": [
      "\r",
      " 73%|███████▎  | 40/55 [00:02<00:00, 17.95it/s]"
     ]
    },
    {
     "name": "stdout",
     "output_type": "stream",
     "text": [
      "Testing 17 potential triadic pairs\n",
      "Time spent finding triads: 0.0008823871612548828\n",
      "Found 19 connected triads\n",
      "Time spent classifying triads: 0.001857757568359375\n",
      "Testing 9 potential triadic pairs\n",
      "Time spent finding triads: 0.0007715225219726562\n",
      "Found 9 connected triads\n",
      "Time spent classifying triads: 0.00044083595275878906\n"
     ]
    },
    {
     "name": "stderr",
     "output_type": "stream",
     "text": [
      "\r",
      " 76%|███████▋  | 42/55 [00:02<00:00, 17.88it/s]"
     ]
    },
    {
     "name": "stdout",
     "output_type": "stream",
     "text": [
      "Testing 23 potential triadic pairs\n",
      "Time spent finding triads: 0.0008995532989501953\n",
      "Found 19 connected triads\n",
      "Time spent classifying triads: 0.0018372535705566406\n",
      "Testing 17 potential triadic pairs\n",
      "Time spent finding triads: 0.0008096694946289062\n",
      "Found 15 connected triads\n",
      "Time spent classifying triads: 0.0006699562072753906\n"
     ]
    },
    {
     "name": "stderr",
     "output_type": "stream",
     "text": [
      "\r",
      " 80%|████████  | 44/55 [00:02<00:00, 17.98it/s]"
     ]
    },
    {
     "name": "stdout",
     "output_type": "stream",
     "text": [
      "Testing 6 potential triadic pairs\n",
      "Time spent finding triads: 0.0007879734039306641\n",
      "Found 6 connected triads\n",
      "Time spent classifying triads: 0.0006597042083740234\n",
      "Testing 6 potential triadic pairs\n",
      "Time spent finding triads: 0.0007424354553222656\n",
      "Found 6 connected triads\n",
      "Time spent classifying triads: 0.0003371238708496094\n"
     ]
    },
    {
     "name": "stderr",
     "output_type": "stream",
     "text": [
      "\r",
      " 84%|████████▎ | 46/55 [00:02<00:00, 17.98it/s]"
     ]
    },
    {
     "name": "stdout",
     "output_type": "stream",
     "text": [
      "Testing 16 potential triadic pairs\n",
      "Time spent finding triads: 0.0008378028869628906\n",
      "Found 16 connected triads\n",
      "Time spent classifying triads: 0.0015649795532226562\n",
      "Testing 18 potential triadic pairs\n",
      "Time spent finding triads: 0.0008370876312255859\n",
      "Found 21 connected triads\n",
      "Time spent classifying triads: 0.0008902549743652344\n"
     ]
    },
    {
     "name": "stderr",
     "output_type": "stream",
     "text": [
      "\r",
      " 87%|████████▋ | 48/55 [00:02<00:00, 18.09it/s]"
     ]
    },
    {
     "name": "stdout",
     "output_type": "stream",
     "text": [
      "Testing 8 potential triadic pairs\n",
      "Time spent finding triads: 0.0008156299591064453\n",
      "Found 8 connected triads\n",
      "Time spent classifying triads: 0.0008482933044433594\n",
      "Testing 5 potential triadic pairs\n",
      "Time spent finding triads: 0.0007357597351074219\n",
      "Found 5 connected triads\n",
      "Time spent classifying triads: 0.00029850006103515625\n"
     ]
    },
    {
     "name": "stderr",
     "output_type": "stream",
     "text": [
      "\r",
      " 91%|█████████ | 50/55 [00:02<00:00, 18.04it/s]"
     ]
    },
    {
     "name": "stdout",
     "output_type": "stream",
     "text": [
      "Testing 15 potential triadic pairs\n",
      "Time spent finding triads: 0.0008511543273925781\n",
      "Found 15 connected triads\n",
      "Time spent classifying triads: 0.0014896392822265625\n",
      "Testing 2 potential triadic pairs\n",
      "Time spent finding triads: 0.0007348060607910156\n",
      "Found 2 connected triads\n",
      "Time spent classifying triads: 0.00017213821411132812\n"
     ]
    },
    {
     "name": "stderr",
     "output_type": "stream",
     "text": [
      "\r",
      " 95%|█████████▍| 52/55 [00:02<00:00, 18.02it/s]"
     ]
    },
    {
     "name": "stdout",
     "output_type": "stream",
     "text": [
      "Testing 7 potential triadic pairs\n",
      "Time spent finding triads: 0.0007965564727783203\n",
      "Found 7 connected triads\n",
      "Time spent classifying triads: 0.0007586479187011719\n",
      "Testing 12 potential triadic pairs\n",
      "Time spent finding triads: 0.0007798671722412109\n",
      "Found 10 connected triads\n",
      "Time spent classifying triads: 0.00048804283142089844\n"
     ]
    },
    {
     "name": "stderr",
     "output_type": "stream",
     "text": [
      "\r",
      " 98%|█████████▊| 54/55 [00:03<00:00, 17.87it/s]"
     ]
    },
    {
     "name": "stdout",
     "output_type": "stream",
     "text": [
      "Testing 4 potential triadic pairs\n",
      "Time spent finding triads: 0.0007851123809814453\n",
      "Found 4 connected triads\n",
      "Time spent classifying triads: 0.0004818439483642578\n",
      "Testing 10 potential triadic pairs\n",
      "Time spent finding triads: 0.0007686614990234375\n",
      "Found 10 connected triads\n",
      "Time spent classifying triads: 0.0004887580871582031\n"
     ]
    },
    {
     "name": "stderr",
     "output_type": "stream",
     "text": [
      "100%|██████████| 55/55 [00:03<00:00, 17.95it/s]\n"
     ]
    },
    {
     "name": "stdout",
     "output_type": "stream",
     "text": [
      "Testing 11 potential triadic pairs\n",
      "Time spent finding triads: 0.0008265972137451172\n",
      "Found 11 connected triads\n",
      "Time spent classifying triads: 0.0011093616485595703\n"
     ]
    },
    {
     "name": "stderr",
     "output_type": "stream",
     "text": [
      "\r",
      "  0%|          | 0/55 [00:00<?, ?it/s]"
     ]
    },
    {
     "name": "stdout",
     "output_type": "stream",
     "text": [
      "Testing 8 potential triadic pairs\n",
      "Time spent finding triads: 0.0008056163787841797\n",
      "Found 6 connected triads\n",
      "Time spent classifying triads: 0.0006694793701171875\n"
     ]
    },
    {
     "name": "stderr",
     "output_type": "stream",
     "text": [
      "\r",
      "  4%|▎         | 2/55 [00:00<00:02, 17.82it/s]"
     ]
    },
    {
     "name": "stdout",
     "output_type": "stream",
     "text": [
      "Testing 11 potential triadic pairs\n",
      "Time spent finding triads: 0.0008318424224853516\n",
      "Found 9 connected triads\n",
      "Time spent classifying triads: 0.0009377002716064453\n",
      "Testing 7 potential triadic pairs\n",
      "Time spent finding triads: 0.0007557868957519531\n",
      "Found 7 connected triads\n",
      "Time spent classifying triads: 0.00036215782165527344\n"
     ]
    },
    {
     "name": "stderr",
     "output_type": "stream",
     "text": [
      "\r",
      "  7%|▋         | 4/55 [00:00<00:02, 18.26it/s]"
     ]
    },
    {
     "name": "stdout",
     "output_type": "stream",
     "text": [
      "Testing 1 potential triadic pairs\n",
      "Time spent finding triads: 0.0007505416870117188\n",
      "Found 1 connected triads\n",
      "Time spent classifying triads: 0.0001926422119140625\n",
      "Testing 4 potential triadic pairs\n",
      "Time spent finding triads: 0.0007865428924560547\n",
      "Found 4 connected triads\n",
      "Time spent classifying triads: 0.0004775524139404297\n"
     ]
    },
    {
     "name": "stderr",
     "output_type": "stream",
     "text": [
      "\r",
      " 11%|█         | 6/55 [00:00<00:02, 18.28it/s]"
     ]
    },
    {
     "name": "stdout",
     "output_type": "stream",
     "text": [
      "Testing 13 potential triadic pairs\n",
      "Time spent finding triads: 0.0008134841918945312\n",
      "Found 13 connected triads\n",
      "Time spent classifying triads: 0.0013048648834228516\n",
      "Testing 1 potential triadic pairs\n",
      "Time spent finding triads: 0.0007076263427734375\n",
      "Found 1 connected triads\n",
      "Time spent classifying triads: 0.00012564659118652344\n"
     ]
    },
    {
     "name": "stderr",
     "output_type": "stream",
     "text": [
      "\r",
      " 15%|█▍        | 8/55 [00:00<00:02, 18.42it/s]"
     ]
    },
    {
     "name": "stdout",
     "output_type": "stream",
     "text": [
      "Testing 22 potential triadic pairs\n",
      "Time spent finding triads: 0.0008845329284667969\n",
      "Found 20 connected triads\n",
      "Time spent classifying triads: 0.0019428730010986328\n",
      "Testing 7 potential triadic pairs\n",
      "Time spent finding triads: 0.0007877349853515625\n",
      "Found 7 connected triads\n",
      "Time spent classifying triads: 0.0007560253143310547\n"
     ]
    },
    {
     "name": "stderr",
     "output_type": "stream",
     "text": [
      "\r",
      " 18%|█▊        | 10/55 [00:00<00:02, 18.09it/s]"
     ]
    },
    {
     "name": "stdout",
     "output_type": "stream",
     "text": [
      "Testing 21 potential triadic pairs\n",
      "Time spent finding triads: 0.0008809566497802734\n",
      "Found 19 connected triads\n",
      "Time spent classifying triads: 0.001844167709350586\n",
      "Testing 0 potential triadic pairs\n",
      "Time spent finding triads: 0.0007021427154541016\n",
      "Found 0 connected triads\n",
      "Time spent classifying triads: 6.723403930664062e-05\n"
     ]
    },
    {
     "name": "stderr",
     "output_type": "stream",
     "text": [
      "\r",
      " 22%|██▏       | 12/55 [00:00<00:02, 18.57it/s]"
     ]
    },
    {
     "name": "stdout",
     "output_type": "stream",
     "text": [
      "Testing 9 potential triadic pairs\n",
      "Time spent finding triads: 0.0007903575897216797\n",
      "Found 9 connected triads\n",
      "Time spent classifying triads: 0.0009298324584960938\n",
      "Testing 38 potential triadic pairs\n",
      "Time spent finding triads: 0.0009815692901611328\n",
      "Found 40 connected triads\n",
      "Time spent classifying triads: 0.0020596981048583984\n"
     ]
    },
    {
     "name": "stderr",
     "output_type": "stream",
     "text": [
      "\r",
      " 25%|██▌       | 14/55 [00:00<00:02, 18.21it/s]"
     ]
    },
    {
     "name": "stdout",
     "output_type": "stream",
     "text": [
      "Testing 13 potential triadic pairs\n",
      "Time spent finding triads: 0.0008428096771240234\n",
      "Found 13 connected triads\n",
      "Time spent classifying triads: 0.0012905597686767578\n",
      "Testing 2 potential triadic pairs\n",
      "Time spent finding triads: 0.0007190704345703125\n",
      "Found 2 connected triads\n",
      "Time spent classifying triads: 0.00016999244689941406\n"
     ]
    },
    {
     "name": "stderr",
     "output_type": "stream",
     "text": [
      "\r",
      " 29%|██▉       | 16/55 [00:00<00:02, 18.28it/s]"
     ]
    },
    {
     "name": "stdout",
     "output_type": "stream",
     "text": [
      "Testing 3 potential triadic pairs\n",
      "Time spent finding triads: 0.0007729530334472656\n",
      "Found 3 connected triads\n",
      "Time spent classifying triads: 0.0003769397735595703\n",
      "Testing 1 potential triadic pairs\n",
      "Time spent finding triads: 0.0007586479187011719\n",
      "Found 1 connected triads\n",
      "Time spent classifying triads: 0.0001800060272216797\n"
     ]
    },
    {
     "name": "stderr",
     "output_type": "stream",
     "text": [
      "\r",
      " 33%|███▎      | 18/55 [00:00<00:02, 18.42it/s]"
     ]
    },
    {
     "name": "stdout",
     "output_type": "stream",
     "text": [
      "Testing 10 potential triadic pairs\n",
      "Time spent finding triads: 0.0008146762847900391\n",
      "Found 10 connected triads\n",
      "Time spent classifying triads: 0.001026153564453125\n",
      "Testing 7 potential triadic pairs\n",
      "Time spent finding triads: 0.0007617473602294922\n",
      "Found 7 connected triads\n",
      "Time spent classifying triads: 0.0003612041473388672\n"
     ]
    },
    {
     "name": "stderr",
     "output_type": "stream",
     "text": [
      "\r",
      " 36%|███▋      | 20/55 [00:01<00:01, 18.31it/s]"
     ]
    },
    {
     "name": "stdout",
     "output_type": "stream",
     "text": [
      "Testing 16 potential triadic pairs\n",
      "Time spent finding triads: 0.0008559226989746094\n",
      "Found 14 connected triads\n",
      "Time spent classifying triads: 0.0013995170593261719\n",
      "Testing 4 potential triadic pairs\n",
      "Time spent finding triads: 0.0007805824279785156\n",
      "Found 4 connected triads\n",
      "Time spent classifying triads: 0.00047016143798828125\n"
     ]
    },
    {
     "name": "stderr",
     "output_type": "stream",
     "text": [
      "\r",
      " 40%|████      | 22/55 [00:01<00:01, 18.23it/s]"
     ]
    },
    {
     "name": "stdout",
     "output_type": "stream",
     "text": [
      "Testing 16 potential triadic pairs\n",
      "Time spent finding triads: 0.0008649826049804688\n",
      "Found 14 connected triads\n",
      "Time spent classifying triads: 0.0013878345489501953\n",
      "Testing 2 potential triadic pairs\n",
      "Time spent finding triads: 0.0007250308990478516\n",
      "Found 2 connected triads\n",
      "Time spent classifying triads: 0.00016760826110839844\n"
     ]
    },
    {
     "name": "stderr",
     "output_type": "stream",
     "text": [
      "\r",
      " 44%|████▎     | 24/55 [00:01<00:01, 18.32it/s]"
     ]
    },
    {
     "name": "stdout",
     "output_type": "stream",
     "text": [
      "Testing 7 potential triadic pairs\n",
      "Time spent finding triads: 0.00079345703125\n",
      "Found 5 connected triads\n",
      "Time spent classifying triads: 0.0005621910095214844\n",
      "Testing 18 potential triadic pairs\n",
      "Time spent finding triads: 0.000858306884765625\n",
      "Found 16 connected triads\n",
      "Time spent classifying triads: 0.0015611648559570312\n"
     ]
    },
    {
     "name": "stderr",
     "output_type": "stream",
     "text": [
      "\r",
      " 47%|████▋     | 26/55 [00:01<00:01, 18.20it/s]"
     ]
    },
    {
     "name": "stdout",
     "output_type": "stream",
     "text": [
      "Testing 14 potential triadic pairs\n",
      "Time spent finding triads: 0.0008525848388671875\n",
      "Found 12 connected triads\n",
      "Time spent classifying triads: 0.0012178421020507812\n",
      "Testing 5 potential triadic pairs\n",
      "Time spent finding triads: 0.0007441043853759766\n",
      "Found 5 connected triads\n",
      "Time spent classifying triads: 0.0002899169921875\n"
     ]
    },
    {
     "name": "stderr",
     "output_type": "stream",
     "text": [
      "\r",
      " 51%|█████     | 28/55 [00:01<00:01, 18.31it/s]"
     ]
    },
    {
     "name": "stdout",
     "output_type": "stream",
     "text": [
      "Testing 1 potential triadic pairs\n",
      "Time spent finding triads: 0.0007681846618652344\n",
      "Found 1 connected triads\n",
      "Time spent classifying triads: 0.00017952919006347656\n",
      "Testing 16 potential triadic pairs\n",
      "Time spent finding triads: 0.0008544921875\n",
      "Found 16 connected triads\n",
      "Time spent classifying triads: 0.0015664100646972656\n"
     ]
    },
    {
     "name": "stderr",
     "output_type": "stream",
     "text": [
      "\r",
      " 55%|█████▍    | 30/55 [00:01<00:01, 18.09it/s]"
     ]
    },
    {
     "name": "stdout",
     "output_type": "stream",
     "text": [
      "Testing 16 potential triadic pairs\n",
      "Time spent finding triads: 0.0008456707000732422\n",
      "Found 16 connected triads\n",
      "Time spent classifying triads: 0.0015554428100585938\n",
      "Testing 16 potential triadic pairs\n",
      "Time spent finding triads: 0.0008060932159423828\n",
      "Found 14 connected triads\n",
      "Time spent classifying triads: 0.0006270408630371094\n"
     ]
    },
    {
     "name": "stderr",
     "output_type": "stream",
     "text": [
      "\r",
      " 58%|█████▊    | 32/55 [00:01<00:01, 18.07it/s]"
     ]
    },
    {
     "name": "stdout",
     "output_type": "stream",
     "text": [
      "Testing 10 potential triadic pairs\n",
      "Time spent finding triads: 0.000804901123046875\n",
      "Found 8 connected triads\n",
      "Time spent classifying triads: 0.0008332729339599609\n",
      "Testing 13 potential triadic pairs\n",
      "Time spent finding triads: 0.0008344650268554688\n",
      "Found 13 connected triads\n",
      "Time spent classifying triads: 0.001291036605834961\n"
     ]
    },
    {
     "name": "stderr",
     "output_type": "stream",
     "text": [
      "\r",
      " 62%|██████▏   | 34/55 [00:01<00:01, 18.05it/s]"
     ]
    },
    {
     "name": "stdout",
     "output_type": "stream",
     "text": [
      "Testing 9 potential triadic pairs\n",
      "Time spent finding triads: 0.00081634521484375\n",
      "Found 11 connected triads\n",
      "Time spent classifying triads: 0.0011055469512939453\n",
      "Testing 16 potential triadic pairs\n",
      "Time spent finding triads: 0.0007996559143066406\n",
      "Found 16 connected triads\n",
      "Time spent classifying triads: 0.0007107257843017578\n"
     ]
    },
    {
     "name": "stderr",
     "output_type": "stream",
     "text": [
      "\r",
      " 65%|██████▌   | 36/55 [00:01<00:01, 18.19it/s]"
     ]
    },
    {
     "name": "stdout",
     "output_type": "stream",
     "text": [
      "Testing 2 potential triadic pairs\n",
      "Time spent finding triads: 0.0007658004760742188\n",
      "Found 2 connected triads\n",
      "Time spent classifying triads: 0.0002765655517578125\n",
      "Testing 16 potential triadic pairs\n",
      "Time spent finding triads: 0.0008597373962402344\n",
      "Found 14 connected triads\n",
      "Time spent classifying triads: 0.0013875961303710938\n"
     ]
    },
    {
     "name": "stderr",
     "output_type": "stream",
     "text": [
      "\r",
      " 69%|██████▉   | 38/55 [00:02<00:00, 17.84it/s]"
     ]
    },
    {
     "name": "stdout",
     "output_type": "stream",
     "text": [
      "Testing 22 potential triadic pairs\n",
      "Time spent finding triads: 0.0008928775787353516\n",
      "Found 25 connected triads\n",
      "Time spent classifying triads: 0.002374410629272461\n",
      "Testing 10 potential triadic pairs\n",
      "Time spent finding triads: 0.0007710456848144531\n",
      "Found 8 connected triads\n",
      "Time spent classifying triads: 0.000396728515625\n"
     ]
    },
    {
     "name": "stderr",
     "output_type": "stream",
     "text": [
      "\r",
      " 73%|███████▎  | 40/55 [00:02<00:00, 17.97it/s]"
     ]
    },
    {
     "name": "stdout",
     "output_type": "stream",
     "text": [
      "Testing 20 potential triadic pairs\n",
      "Time spent finding triads: 0.0008666515350341797\n",
      "Found 20 connected triads\n",
      "Time spent classifying triads: 0.0019266605377197266\n",
      "Testing 20 potential triadic pairs\n",
      "Time spent finding triads: 0.0008628368377685547\n",
      "Found 18 connected triads\n",
      "Time spent classifying triads: 0.0017464160919189453\n"
     ]
    },
    {
     "name": "stderr",
     "output_type": "stream",
     "text": [
      "\r",
      " 76%|███████▋  | 42/55 [00:02<00:00, 17.77it/s]"
     ]
    },
    {
     "name": "stdout",
     "output_type": "stream",
     "text": [
      "Testing 9 potential triadic pairs\n",
      "Time spent finding triads: 0.0008115768432617188\n",
      "Found 13 connected triads\n",
      "Time spent classifying triads: 0.0012769699096679688\n",
      "Testing 4 potential triadic pairs\n",
      "Time spent finding triads: 0.0007333755493164062\n",
      "Found 4 connected triads\n",
      "Time spent classifying triads: 0.00024771690368652344\n"
     ]
    },
    {
     "name": "stderr",
     "output_type": "stream",
     "text": [
      "\r",
      " 80%|████████  | 44/55 [00:02<00:00, 18.00it/s]"
     ]
    },
    {
     "name": "stdout",
     "output_type": "stream",
     "text": [
      "Testing 5 potential triadic pairs\n",
      "Time spent finding triads: 0.0008070468902587891\n",
      "Found 5 connected triads\n",
      "Time spent classifying triads: 0.0005788803100585938\n",
      "Testing 1 potential triadic pairs\n",
      "Time spent finding triads: 0.0007615089416503906\n",
      "Found 1 connected triads\n",
      "Time spent classifying triads: 0.00018167495727539062\n"
     ]
    },
    {
     "name": "stderr",
     "output_type": "stream",
     "text": [
      "\r",
      " 84%|████████▎ | 46/55 [00:02<00:00, 17.96it/s]"
     ]
    },
    {
     "name": "stdout",
     "output_type": "stream",
     "text": [
      "Testing 21 potential triadic pairs\n",
      "Time spent finding triads: 0.0008993148803710938\n",
      "Found 21 connected triads\n",
      "Time spent classifying triads: 0.0020194053649902344\n",
      "Testing 6 potential triadic pairs\n",
      "Time spent finding triads: 0.0007429122924804688\n",
      "Found 4 connected triads\n",
      "Time spent classifying triads: 0.00025177001953125\n"
     ]
    },
    {
     "name": "stderr",
     "output_type": "stream",
     "text": [
      "\r",
      " 87%|████████▋ | 48/55 [00:02<00:00, 18.16it/s]"
     ]
    },
    {
     "name": "stdout",
     "output_type": "stream",
     "text": [
      "Testing 27 potential triadic pairs\n",
      "Time spent finding triads: 0.0009076595306396484\n",
      "Found 23 connected triads\n",
      "Time spent classifying triads: 0.002190113067626953\n",
      "Testing 6 potential triadic pairs\n",
      "Time spent finding triads: 0.0009152889251708984\n",
      "Found 8 connected triads\n",
      "Time spent classifying triads: 0.0006957054138183594\n"
     ]
    },
    {
     "name": "stderr",
     "output_type": "stream",
     "text": [
      "\r",
      " 91%|█████████ | 50/55 [00:02<00:00, 18.35it/s]"
     ]
    },
    {
     "name": "stdout",
     "output_type": "stream",
     "text": [
      "Testing 10 potential triadic pairs\n",
      "Time spent finding triads: 0.0008082389831542969\n",
      "Found 10 connected triads\n",
      "Time spent classifying triads: 0.001027822494506836\n",
      "Testing 13 potential triadic pairs\n",
      "Time spent finding triads: 0.0007855892181396484\n",
      "Found 13 connected triads\n",
      "Time spent classifying triads: 0.0005865097045898438\n"
     ]
    },
    {
     "name": "stderr",
     "output_type": "stream",
     "text": [
      "\r",
      " 95%|█████████▍| 52/55 [00:02<00:00, 18.38it/s]"
     ]
    },
    {
     "name": "stdout",
     "output_type": "stream",
     "text": [
      "Testing 14 potential triadic pairs\n",
      "Time spent finding triads: 0.0008499622344970703\n",
      "Found 12 connected triads\n",
      "Time spent classifying triads: 0.0011761188507080078\n",
      "Testing 20 potential triadic pairs\n",
      "Time spent finding triads: 0.0009427070617675781\n",
      "Found 18 connected triads\n",
      "Time spent classifying triads: 0.001756429672241211\n"
     ]
    },
    {
     "name": "stderr",
     "output_type": "stream",
     "text": [
      "100%|██████████| 55/55 [00:03<00:00, 18.09it/s]"
     ]
    },
    {
     "name": "stdout",
     "output_type": "stream",
     "text": [
      "Testing 2 potential triadic pairs\n",
      "Time spent finding triads: 0.0007998943328857422\n",
      "Found 2 connected triads\n",
      "Time spent classifying triads: 0.000278472900390625\n",
      "Testing 11 potential triadic pairs\n",
      "Time spent finding triads: 0.0007855892181396484\n",
      "Found 9 connected triads\n",
      "Time spent classifying triads: 0.00043702125549316406\n"
     ]
    },
    {
     "name": "stderr",
     "output_type": "stream",
     "text": [
      "\n",
      "  4%|▎         | 2/55 [00:00<00:06,  8.56it/s]"
     ]
    },
    {
     "name": "stdout",
     "output_type": "stream",
     "text": [
      "Testing 2 potential triadic pairs\n",
      "Time spent finding triads: 0.0008082389831542969\n",
      "Found 2 connected triads\n",
      "Time spent classifying triads: 0.0002918243408203125\n",
      "Testing 9 potential triadic pairs\n",
      "Time spent finding triads: 0.0007801055908203125\n",
      "Found 9 connected triads\n",
      "Time spent classifying triads: 0.0004665851593017578\n"
     ]
    },
    {
     "name": "stderr",
     "output_type": "stream",
     "text": [
      " 11%|█         | 6/55 [00:00<00:03, 14.02it/s]"
     ]
    },
    {
     "name": "stdout",
     "output_type": "stream",
     "text": [
      "Testing 11 potential triadic pairs\n",
      "Time spent finding triads: 0.0008482933044433594\n",
      "Found 9 connected triads\n",
      "Time spent classifying triads: 0.0007224082946777344\n",
      "Testing 35 potential triadic pairs\n",
      "Time spent finding triads: 0.0009274482727050781\n",
      "Found 36 connected triads\n",
      "Time spent classifying triads: 0.0014503002166748047\n",
      "Testing 21 potential triadic pairs\n",
      "Time spent finding triads: 0.0009057521820068359\n",
      "Found 19 connected triads\n",
      "Time spent classifying triads: 0.0008220672607421875\n",
      "Testing 10 potential triadic pairs\n",
      "Time spent finding triads: 0.0007750988006591797\n",
      "Found 10 connected triads\n",
      "Time spent classifying triads: 0.00048470497131347656\n"
     ]
    },
    {
     "name": "stderr",
     "output_type": "stream",
     "text": [
      " 18%|█▊        | 10/55 [00:00<00:02, 15.60it/s]"
     ]
    },
    {
     "name": "stdout",
     "output_type": "stream",
     "text": [
      "Testing 32 potential triadic pairs\n",
      "Time spent finding triads: 0.0009486675262451172\n",
      "Found 29 connected triads\n",
      "Time spent classifying triads: 0.002748250961303711\n",
      "Testing 12 potential triadic pairs\n",
      "Time spent finding triads: 0.0007915496826171875\n",
      "Found 12 connected triads\n",
      "Time spent classifying triads: 0.0005548000335693359\n",
      "Testing 31 potential triadic pairs\n",
      "Time spent finding triads: 0.0008993148803710938\n",
      "Found 31 connected triads\n",
      "Time spent classifying triads: 0.0012664794921875\n",
      "Testing 42 potential triadic pairs\n",
      "Time spent finding triads: 0.0009706020355224609\n",
      "Found 46 connected triads\n",
      "Time spent classifying triads: 0.0018215179443359375\n"
     ]
    },
    {
     "name": "stderr",
     "output_type": "stream",
     "text": [
      " 25%|██▌       | 14/55 [00:00<00:02, 15.95it/s]"
     ]
    },
    {
     "name": "stdout",
     "output_type": "stream",
     "text": [
      "Testing 60 potential triadic pairs\n",
      "Time spent finding triads: 0.0011785030364990234\n",
      "Found 105 connected triads\n",
      "Time spent classifying triads: 0.009590625762939453\n",
      "Testing 28 potential triadic pairs\n",
      "Time spent finding triads: 0.0008854866027832031\n",
      "Found 32 connected triads\n",
      "Time spent classifying triads: 0.0012936592102050781\n",
      "Testing 8 potential triadic pairs\n",
      "Time spent finding triads: 0.0007584095001220703\n",
      "Found 8 connected triads\n",
      "Time spent classifying triads: 0.0004019737243652344\n",
      "Testing 22 potential triadic pairs\n",
      "Time spent finding triads: 0.0008487701416015625\n",
      "Found 24 connected triads\n",
      "Time spent classifying triads: 0.001004934310913086\n"
     ]
    },
    {
     "name": "stderr",
     "output_type": "stream",
     "text": [
      " 33%|███▎      | 18/55 [00:01<00:02, 16.41it/s]"
     ]
    },
    {
     "name": "stdout",
     "output_type": "stream",
     "text": [
      "Testing 41 potential triadic pairs\n",
      "Time spent finding triads: 0.0010213851928710938\n",
      "Found 48 connected triads\n",
      "Time spent classifying triads: 0.004468202590942383\n",
      "Testing 22 potential triadic pairs\n",
      "Time spent finding triads: 0.0008411407470703125\n",
      "Found 20 connected triads\n",
      "Time spent classifying triads: 0.0008542537689208984\n",
      "Testing 8 potential triadic pairs\n",
      "Time spent finding triads: 0.0007655620574951172\n",
      "Found 8 connected triads\n",
      "Time spent classifying triads: 0.00040912628173828125\n",
      "Testing 16 potential triadic pairs\n",
      "Time spent finding triads: 0.0008134841918945312\n",
      "Found 12 connected triads\n",
      "Time spent classifying triads: 0.0005450248718261719\n"
     ]
    },
    {
     "name": "stderr",
     "output_type": "stream",
     "text": [
      " 40%|████      | 22/55 [00:01<00:02, 16.35it/s]"
     ]
    },
    {
     "name": "stdout",
     "output_type": "stream",
     "text": [
      "Testing 48 potential triadic pairs\n",
      "Time spent finding triads: 0.0010807514190673828\n",
      "Found 58 connected triads\n",
      "Time spent classifying triads: 0.0053844451904296875\n",
      "Testing 39 potential triadic pairs\n",
      "Time spent finding triads: 0.00096893310546875\n",
      "Found 46 connected triads\n",
      "Time spent classifying triads: 0.0018131732940673828\n",
      "Testing 26 potential triadic pairs\n",
      "Time spent finding triads: 0.0008676052093505859\n",
      "Found 29 connected triads\n",
      "Time spent classifying triads: 0.0011882781982421875\n",
      "Testing 5 potential triadic pairs\n",
      "Time spent finding triads: 0.0007507801055908203\n",
      "Found 5 connected triads\n",
      "Time spent classifying triads: 0.0002872943878173828\n"
     ]
    },
    {
     "name": "stderr",
     "output_type": "stream",
     "text": [
      " 47%|████▋     | 26/55 [00:01<00:01, 16.42it/s]"
     ]
    },
    {
     "name": "stdout",
     "output_type": "stream",
     "text": [
      "Testing 58 potential triadic pairs\n",
      "Time spent finding triads: 0.001150369644165039\n",
      "Found 78 connected triads\n",
      "Time spent classifying triads: 0.0071964263916015625\n",
      "Testing 4 potential triadic pairs\n",
      "Time spent finding triads: 0.0007390975952148438\n",
      "Found 4 connected triads\n",
      "Time spent classifying triads: 0.0002491474151611328\n",
      "Testing 17 potential triadic pairs\n",
      "Time spent finding triads: 0.0008280277252197266\n",
      "Found 17 connected triads\n",
      "Time spent classifying triads: 0.0007445812225341797\n",
      "Testing 44 potential triadic pairs\n",
      "Time spent finding triads: 0.000997304916381836\n",
      "Found 58 connected triads\n",
      "Time spent classifying triads: 0.0022635459899902344\n"
     ]
    },
    {
     "name": "stderr",
     "output_type": "stream",
     "text": [
      " 55%|█████▍    | 30/55 [00:01<00:01, 16.66it/s]"
     ]
    },
    {
     "name": "stdout",
     "output_type": "stream",
     "text": [
      "Testing 4 potential triadic pairs\n",
      "Time spent finding triads: 0.0007956027984619141\n",
      "Found 4 connected triads\n",
      "Time spent classifying triads: 0.00047588348388671875\n",
      "Testing 35 potential triadic pairs\n",
      "Time spent finding triads: 0.0009357929229736328\n",
      "Found 37 connected triads\n",
      "Time spent classifying triads: 0.0014793872833251953\n",
      "Testing 3 potential triadic pairs\n",
      "Time spent finding triads: 0.0007319450378417969\n",
      "Found 3 connected triads\n",
      "Time spent classifying triads: 0.00021386146545410156\n",
      "Testing 36 potential triadic pairs\n",
      "Time spent finding triads: 0.0009393692016601562\n",
      "Found 51 connected triads\n",
      "Time spent classifying triads: 0.0020055770874023438\n"
     ]
    },
    {
     "name": "stderr",
     "output_type": "stream",
     "text": [
      " 62%|██████▏   | 34/55 [00:02<00:01, 16.86it/s]"
     ]
    },
    {
     "name": "stdout",
     "output_type": "stream",
     "text": [
      "Testing 13 potential triadic pairs\n",
      "Time spent finding triads: 0.0008192062377929688\n",
      "Found 13 connected triads\n",
      "Time spent classifying triads: 0.0012907981872558594\n",
      "Testing 4 potential triadic pairs\n",
      "Time spent finding triads: 0.0007314682006835938\n",
      "Found 4 connected triads\n",
      "Time spent classifying triads: 0.0002582073211669922\n",
      "Testing 44 potential triadic pairs\n",
      "Time spent finding triads: 0.000980377197265625\n",
      "Found 45 connected triads\n",
      "Time spent classifying triads: 0.0017771720886230469\n",
      "Testing 20 potential triadic pairs\n",
      "Time spent finding triads: 0.0008337497711181641\n",
      "Found 16 connected triads\n",
      "Time spent classifying triads: 0.0006999969482421875\n"
     ]
    },
    {
     "name": "stderr",
     "output_type": "stream",
     "text": [
      " 69%|██████▉   | 38/55 [00:02<00:01, 16.94it/s]"
     ]
    },
    {
     "name": "stdout",
     "output_type": "stream",
     "text": [
      "Testing 24 potential triadic pairs\n",
      "Time spent finding triads: 0.0009126663208007812\n",
      "Found 26 connected triads\n",
      "Time spent classifying triads: 0.002460479736328125\n",
      "Testing 39 potential triadic pairs\n",
      "Time spent finding triads: 0.0009531974792480469\n",
      "Found 40 connected triads\n",
      "Time spent classifying triads: 0.001585245132446289\n",
      "Testing 22 potential triadic pairs\n",
      "Time spent finding triads: 0.0008516311645507812\n",
      "Found 22 connected triads\n",
      "Time spent classifying triads: 0.0009303092956542969\n",
      "Testing 12 potential triadic pairs\n",
      "Time spent finding triads: 0.0007913112640380859\n",
      "Found 12 connected triads\n",
      "Time spent classifying triads: 0.00054931640625\n"
     ]
    },
    {
     "name": "stderr",
     "output_type": "stream",
     "text": [
      " 76%|███████▋  | 42/55 [00:02<00:00, 16.61it/s]"
     ]
    },
    {
     "name": "stdout",
     "output_type": "stream",
     "text": [
      "Testing 20 potential triadic pairs\n",
      "Time spent finding triads: 0.0008966922760009766\n",
      "Found 24 connected triads\n",
      "Time spent classifying triads: 0.0022881031036376953\n",
      "Testing 62 potential triadic pairs\n",
      "Time spent finding triads: 0.001125335693359375\n",
      "Found 83 connected triads\n",
      "Time spent classifying triads: 0.0031936168670654297\n",
      "Testing 57 potential triadic pairs\n",
      "Time spent finding triads: 0.001085042953491211\n",
      "Found 78 connected triads\n",
      "Time spent classifying triads: 0.0030150413513183594\n",
      "Testing 16 potential triadic pairs\n",
      "Time spent finding triads: 0.00079345703125\n",
      "Found 14 connected triads\n",
      "Time spent classifying triads: 0.0006303787231445312\n"
     ]
    },
    {
     "name": "stderr",
     "output_type": "stream",
     "text": [
      " 84%|████████▎ | 46/55 [00:02<00:00, 16.81it/s]"
     ]
    },
    {
     "name": "stdout",
     "output_type": "stream",
     "text": [
      "Testing 20 potential triadic pairs\n",
      "Time spent finding triads: 0.0008904933929443359\n",
      "Found 22 connected triads\n",
      "Time spent classifying triads: 0.002115964889526367\n",
      "Testing 4 potential triadic pairs\n",
      "Time spent finding triads: 0.0008420944213867188\n",
      "Found 4 connected triads\n",
      "Time spent classifying triads: 0.00025463104248046875\n",
      "Testing 22 potential triadic pairs\n",
      "Time spent finding triads: 0.0008523464202880859\n",
      "Found 20 connected triads\n",
      "Time spent classifying triads: 0.0008504390716552734\n",
      "Testing 37 potential triadic pairs\n",
      "Time spent finding triads: 0.0009465217590332031\n",
      "Found 42 connected triads\n",
      "Time spent classifying triads: 0.0016734600067138672\n"
     ]
    },
    {
     "name": "stderr",
     "output_type": "stream",
     "text": [
      " 91%|█████████ | 50/55 [00:03<00:00, 16.70it/s]"
     ]
    },
    {
     "name": "stdout",
     "output_type": "stream",
     "text": [
      "Testing 37 potential triadic pairs\n",
      "Time spent finding triads: 0.0009963512420654297\n",
      "Found 44 connected triads\n",
      "Time spent classifying triads: 0.004119873046875\n",
      "Testing 15 potential triadic pairs\n",
      "Time spent finding triads: 0.0008020401000976562\n",
      "Found 13 connected triads\n",
      "Time spent classifying triads: 0.0005984306335449219\n",
      "Testing 52 potential triadic pairs\n",
      "Time spent finding triads: 0.0010607242584228516\n",
      "Found 65 connected triads\n",
      "Time spent classifying triads: 0.002529144287109375\n",
      "Testing 41 potential triadic pairs\n",
      "Time spent finding triads: 0.0009722709655761719\n",
      "Found 49 connected triads\n",
      "Time spent classifying triads: 0.0019290447235107422\n"
     ]
    },
    {
     "name": "stderr",
     "output_type": "stream",
     "text": [
      " 98%|█████████▊| 54/55 [00:03<00:00, 16.57it/s]"
     ]
    },
    {
     "name": "stdout",
     "output_type": "stream",
     "text": [
      "Testing 29 potential triadic pairs\n",
      "Time spent finding triads: 0.0009424686431884766\n",
      "Found 38 connected triads\n",
      "Time spent classifying triads: 0.002235889434814453\n",
      "Testing 23 potential triadic pairs\n",
      "Time spent finding triads: 0.0008466243743896484\n",
      "Found 21 connected triads\n",
      "Time spent classifying triads: 0.0008809566497802734\n",
      "Testing 58 potential triadic pairs\n",
      "Time spent finding triads: 0.0011019706726074219\n",
      "Found 83 connected triads\n",
      "Time spent classifying triads: 0.0031502246856689453\n",
      "Testing 26 potential triadic pairs\n",
      "Time spent finding triads: 0.0008687973022460938\n",
      "Found 28 connected triads\n",
      "Time spent classifying triads: 0.001146554946899414\n"
     ]
    },
    {
     "name": "stderr",
     "output_type": "stream",
     "text": [
      "100%|██████████| 55/55 [00:03<00:00, 16.06it/s]\n"
     ]
    },
    {
     "name": "stdout",
     "output_type": "stream",
     "text": [
      "Testing 25 potential triadic pairs\n",
      "Time spent finding triads: 0.0009238719940185547\n",
      "Found 22 connected triads\n",
      "Time spent classifying triads: 0.0021283626556396484\n"
     ]
    },
    {
     "name": "stderr",
     "output_type": "stream",
     "text": [
      "  4%|▎         | 2/55 [00:00<00:03, 15.80it/s]"
     ]
    },
    {
     "name": "stdout",
     "output_type": "stream",
     "text": [
      "Testing 30 potential triadic pairs\n",
      "Time spent finding triads: 0.0009579658508300781\n",
      "Found 34 connected triads\n",
      "Time spent classifying triads: 0.0032095909118652344\n",
      "Testing 55 potential triadic pairs\n",
      "Time spent finding triads: 0.0010561943054199219\n",
      "Found 64 connected triads\n",
      "Time spent classifying triads: 0.002488851547241211\n"
     ]
    },
    {
     "name": "stderr",
     "output_type": "stream",
     "text": [
      "\r",
      "  7%|▋         | 4/55 [00:00<00:03, 15.47it/s]"
     ]
    },
    {
     "name": "stdout",
     "output_type": "stream",
     "text": [
      "Testing 49 potential triadic pairs\n",
      "Time spent finding triads: 0.0010776519775390625\n",
      "Found 63 connected triads\n",
      "Time spent classifying triads: 0.005837202072143555\n",
      "Testing 60 potential triadic pairs\n",
      "Time spent finding triads: 0.0011119842529296875\n",
      "Found 93 connected triads\n",
      "Time spent classifying triads: 0.0035686492919921875\n"
     ]
    },
    {
     "name": "stderr",
     "output_type": "stream",
     "text": [
      "\r",
      " 11%|█         | 6/55 [00:00<00:03, 15.33it/s]"
     ]
    },
    {
     "name": "stdout",
     "output_type": "stream",
     "text": [
      "Testing 49 potential triadic pairs\n",
      "Time spent finding triads: 0.0010936260223388672\n",
      "Found 62 connected triads\n",
      "Time spent classifying triads: 0.00573277473449707\n",
      "Testing 53 potential triadic pairs\n",
      "Time spent finding triads: 0.001056671142578125\n",
      "Found 71 connected triads\n",
      "Time spent classifying triads: 0.0027544498443603516\n"
     ]
    },
    {
     "name": "stderr",
     "output_type": "stream",
     "text": [
      "\r",
      " 15%|█▍        | 8/55 [00:00<00:03, 15.57it/s]"
     ]
    },
    {
     "name": "stdout",
     "output_type": "stream",
     "text": [
      "Testing 19 potential triadic pairs\n",
      "Time spent finding triads: 0.0008802413940429688\n",
      "Found 15 connected triads\n",
      "Time spent classifying triads: 0.0014705657958984375\n",
      "Testing 48 potential triadic pairs\n",
      "Time spent finding triads: 0.0010259151458740234\n",
      "Found 58 connected triads\n",
      "Time spent classifying triads: 0.0022509098052978516\n"
     ]
    },
    {
     "name": "stderr",
     "output_type": "stream",
     "text": [
      "\r",
      " 18%|█▊        | 10/55 [00:00<00:02, 15.42it/s]"
     ]
    },
    {
     "name": "stdout",
     "output_type": "stream",
     "text": [
      "Testing 52 potential triadic pairs\n",
      "Time spent finding triads: 0.0010809898376464844\n",
      "Found 60 connected triads\n",
      "Time spent classifying triads: 0.005565166473388672\n",
      "Testing 61 potential triadic pairs\n",
      "Time spent finding triads: 0.001140594482421875\n",
      "Found 100 connected triads\n",
      "Time spent classifying triads: 0.0038194656372070312\n"
     ]
    },
    {
     "name": "stderr",
     "output_type": "stream",
     "text": [
      "\r",
      " 22%|██▏       | 12/55 [00:00<00:02, 15.72it/s]"
     ]
    },
    {
     "name": "stdout",
     "output_type": "stream",
     "text": [
      "Testing 4 potential triadic pairs\n",
      "Time spent finding triads: 0.0007879734039306641\n",
      "Found 4 connected triads\n",
      "Time spent classifying triads: 0.00047898292541503906\n",
      "Testing 33 potential triadic pairs\n",
      "Time spent finding triads: 0.0009074211120605469\n",
      "Found 35 connected triads\n",
      "Time spent classifying triads: 0.001394510269165039\n"
     ]
    },
    {
     "name": "stderr",
     "output_type": "stream",
     "text": [
      "\r",
      " 25%|██▌       | 14/55 [00:00<00:02, 15.70it/s]"
     ]
    },
    {
     "name": "stdout",
     "output_type": "stream",
     "text": [
      "Testing 57 potential triadic pairs\n",
      "Time spent finding triads: 0.001165151596069336\n",
      "Found 83 connected triads\n",
      "Time spent classifying triads: 0.0077702999114990234\n",
      "Testing 29 potential triadic pairs\n",
      "Time spent finding triads: 0.0008747577667236328\n",
      "Found 29 connected triads\n",
      "Time spent classifying triads: 0.0011854171752929688\n"
     ]
    },
    {
     "name": "stderr",
     "output_type": "stream",
     "text": [
      "\r",
      " 29%|██▉       | 16/55 [00:01<00:02, 15.92it/s]"
     ]
    },
    {
     "name": "stdout",
     "output_type": "stream",
     "text": [
      "Testing 15 potential triadic pairs\n",
      "Time spent finding triads: 0.0008461475372314453\n",
      "Found 17 connected triads\n",
      "Time spent classifying triads: 0.0016596317291259766\n",
      "Testing 1 potential triadic pairs\n",
      "Time spent finding triads: 0.0007100105285644531\n",
      "Found 1 connected triads\n",
      "Time spent classifying triads: 0.0001266002655029297\n"
     ]
    },
    {
     "name": "stderr",
     "output_type": "stream",
     "text": [
      "\r",
      " 33%|███▎      | 18/55 [00:01<00:02, 15.91it/s]"
     ]
    },
    {
     "name": "stdout",
     "output_type": "stream",
     "text": [
      "Testing 14 potential triadic pairs\n",
      "Time spent finding triads: 0.0008611679077148438\n",
      "Found 14 connected triads\n",
      "Time spent classifying triads: 0.0014019012451171875\n",
      "Testing 23 potential triadic pairs\n",
      "Time spent finding triads: 0.0008604526519775391\n",
      "Found 23 connected triads\n",
      "Time spent classifying triads: 0.0009701251983642578\n"
     ]
    },
    {
     "name": "stderr",
     "output_type": "stream",
     "text": [
      "\r",
      " 36%|███▋      | 20/55 [00:01<00:02, 15.79it/s]"
     ]
    },
    {
     "name": "stdout",
     "output_type": "stream",
     "text": [
      "Testing 40 potential triadic pairs\n",
      "Time spent finding triads: 0.0010085105895996094\n",
      "Found 48 connected triads\n",
      "Time spent classifying triads: 0.004454135894775391\n",
      "Testing 19 potential triadic pairs\n",
      "Time spent finding triads: 0.0008263587951660156\n",
      "Found 19 connected triads\n",
      "Time spent classifying triads: 0.0008184909820556641\n"
     ]
    },
    {
     "name": "stderr",
     "output_type": "stream",
     "text": [
      "\r",
      " 40%|████      | 22/55 [00:01<00:02, 15.78it/s]"
     ]
    },
    {
     "name": "stdout",
     "output_type": "stream",
     "text": [
      "Testing 47 potential triadic pairs\n",
      "Time spent finding triads: 0.0010492801666259766\n",
      "Found 56 connected triads\n",
      "Time spent classifying triads: 0.005181312561035156\n",
      "Testing 39 potential triadic pairs\n",
      "Time spent finding triads: 0.0009717941284179688\n",
      "Found 55 connected triads\n",
      "Time spent classifying triads: 0.0021429061889648438\n"
     ]
    },
    {
     "name": "stderr",
     "output_type": "stream",
     "text": [
      "\r",
      " 44%|████▎     | 24/55 [00:01<00:01, 15.94it/s]"
     ]
    },
    {
     "name": "stdout",
     "output_type": "stream",
     "text": [
      "Testing 5 potential triadic pairs\n",
      "Time spent finding triads: 0.0008060932159423828\n",
      "Found 5 connected triads\n",
      "Time spent classifying triads: 0.0005736351013183594\n",
      "Testing 12 potential triadic pairs\n",
      "Time spent finding triads: 0.0007784366607666016\n",
      "Found 12 connected triads\n",
      "Time spent classifying triads: 0.0005559921264648438\n"
     ]
    },
    {
     "name": "stderr",
     "output_type": "stream",
     "text": [
      "\r",
      " 47%|████▋     | 26/55 [00:01<00:01, 16.05it/s]"
     ]
    },
    {
     "name": "stdout",
     "output_type": "stream",
     "text": [
      "Testing 45 potential triadic pairs\n",
      "Time spent finding triads: 0.0010595321655273438\n",
      "Found 59 connected triads\n",
      "Time spent classifying triads: 0.004439830780029297\n",
      "Testing 16 potential triadic pairs\n",
      "Time spent finding triads: 0.0008158683776855469\n",
      "Found 18 connected triads\n",
      "Time spent classifying triads: 0.0007698535919189453\n"
     ]
    },
    {
     "name": "stderr",
     "output_type": "stream",
     "text": [
      "\r",
      " 51%|█████     | 28/55 [00:01<00:01, 15.78it/s]"
     ]
    },
    {
     "name": "stdout",
     "output_type": "stream",
     "text": [
      "Testing 25 potential triadic pairs\n",
      "Time spent finding triads: 0.0009295940399169922\n",
      "Found 23 connected triads\n",
      "Time spent classifying triads: 0.0022192001342773438\n",
      "Testing 36 potential triadic pairs\n",
      "Time spent finding triads: 0.000946044921875\n",
      "Found 35 connected triads\n",
      "Time spent classifying triads: 0.0014126300811767578\n"
     ]
    },
    {
     "name": "stderr",
     "output_type": "stream",
     "text": [
      "\r",
      " 55%|█████▍    | 30/55 [00:01<00:01, 15.79it/s]"
     ]
    },
    {
     "name": "stdout",
     "output_type": "stream",
     "text": [
      "Testing 35 potential triadic pairs\n",
      "Time spent finding triads: 0.0009775161743164062\n",
      "Found 38 connected triads\n",
      "Time spent classifying triads: 0.0035750865936279297\n",
      "Testing 22 potential triadic pairs\n",
      "Time spent finding triads: 0.0008549690246582031\n",
      "Found 22 connected triads\n",
      "Time spent classifying triads: 0.0009276866912841797\n"
     ]
    },
    {
     "name": "stderr",
     "output_type": "stream",
     "text": [
      "\r",
      " 58%|█████▊    | 32/55 [00:02<00:01, 15.69it/s]"
     ]
    },
    {
     "name": "stdout",
     "output_type": "stream",
     "text": [
      "Testing 33 potential triadic pairs\n",
      "Time spent finding triads: 0.0009818077087402344\n",
      "Found 37 connected triads\n",
      "Time spent classifying triads: 0.0034911632537841797\n",
      "Testing 47 potential triadic pairs\n",
      "Time spent finding triads: 0.0010082721710205078\n",
      "Found 59 connected triads\n",
      "Time spent classifying triads: 0.002306222915649414\n"
     ]
    },
    {
     "name": "stderr",
     "output_type": "stream",
     "text": [
      "\r",
      " 62%|██████▏   | 34/55 [00:02<00:01, 15.77it/s]"
     ]
    },
    {
     "name": "stdout",
     "output_type": "stream",
     "text": [
      "Testing 18 potential triadic pairs\n",
      "Time spent finding triads: 0.0008792877197265625\n",
      "Found 16 connected triads\n",
      "Time spent classifying triads: 0.0015926361083984375\n",
      "Testing 16 potential triadic pairs\n",
      "Time spent finding triads: 0.0008211135864257812\n",
      "Found 14 connected triads\n",
      "Time spent classifying triads: 0.0006322860717773438\n"
     ]
    },
    {
     "name": "stderr",
     "output_type": "stream",
     "text": [
      "\r",
      " 65%|██████▌   | 36/55 [00:02<00:01, 15.75it/s]"
     ]
    },
    {
     "name": "stdout",
     "output_type": "stream",
     "text": [
      "Testing 17 potential triadic pairs\n",
      "Time spent finding triads: 0.0008754730224609375\n",
      "Found 17 connected triads\n",
      "Time spent classifying triads: 0.0016639232635498047\n",
      "Testing 24 potential triadic pairs\n",
      "Time spent finding triads: 0.0008611679077148438\n",
      "Found 20 connected triads\n",
      "Time spent classifying triads: 0.0008554458618164062\n"
     ]
    },
    {
     "name": "stderr",
     "output_type": "stream",
     "text": [
      "\r",
      " 69%|██████▉   | 38/55 [00:02<00:01, 15.87it/s]"
     ]
    },
    {
     "name": "stdout",
     "output_type": "stream",
     "text": [
      "Testing 16 potential triadic pairs\n",
      "Time spent finding triads: 0.0008752346038818359\n",
      "Found 16 connected triads\n",
      "Time spent classifying triads: 0.0015761852264404297\n",
      "Testing 5 potential triadic pairs\n",
      "Time spent finding triads: 0.0007503032684326172\n",
      "Found 5 connected triads\n",
      "Time spent classifying triads: 0.0002884864807128906\n"
     ]
    },
    {
     "name": "stderr",
     "output_type": "stream",
     "text": [
      "\r",
      " 73%|███████▎  | 40/55 [00:02<00:00, 15.95it/s]"
     ]
    },
    {
     "name": "stdout",
     "output_type": "stream",
     "text": [
      "Testing 44 potential triadic pairs\n",
      "Time spent finding triads: 0.0010411739349365234\n",
      "Found 58 connected triads\n",
      "Time spent classifying triads: 0.0026748180389404297\n",
      "Testing 34 potential triadic pairs\n",
      "Time spent finding triads: 0.0009284019470214844\n",
      "Found 31 connected triads\n",
      "Time spent classifying triads: 0.0012652873992919922\n"
     ]
    },
    {
     "name": "stderr",
     "output_type": "stream",
     "text": [
      "\r",
      " 76%|███████▋  | 42/55 [00:02<00:00, 15.89it/s]"
     ]
    },
    {
     "name": "stdout",
     "output_type": "stream",
     "text": [
      "Testing 7 potential triadic pairs\n",
      "Time spent finding triads: 0.0008282661437988281\n",
      "Found 7 connected triads\n",
      "Time spent classifying triads: 0.0007603168487548828\n",
      "Testing 65 potential triadic pairs\n",
      "Time spent finding triads: 0.0011878013610839844\n",
      "Found 112 connected triads\n",
      "Time spent classifying triads: 0.0042722225189208984\n"
     ]
    },
    {
     "name": "stderr",
     "output_type": "stream",
     "text": [
      "\r",
      " 80%|████████  | 44/55 [00:02<00:00, 16.06it/s]"
     ]
    },
    {
     "name": "stdout",
     "output_type": "stream",
     "text": [
      "Testing 2 potential triadic pairs\n",
      "Time spent finding triads: 0.00078582763671875\n",
      "Found 2 connected triads\n",
      "Time spent classifying triads: 0.0002810955047607422\n",
      "Testing 36 potential triadic pairs\n",
      "Time spent finding triads: 0.000985860824584961\n",
      "Found 43 connected triads\n",
      "Time spent classifying triads: 0.0017142295837402344\n"
     ]
    },
    {
     "name": "stderr",
     "output_type": "stream",
     "text": [
      "\r",
      " 84%|████████▎ | 46/55 [00:02<00:00, 15.94it/s]"
     ]
    },
    {
     "name": "stdout",
     "output_type": "stream",
     "text": [
      "Testing 40 potential triadic pairs\n",
      "Time spent finding triads: 0.0010190010070800781\n",
      "Found 43 connected triads\n",
      "Time spent classifying triads: 0.004043102264404297\n",
      "Testing 36 potential triadic pairs\n",
      "Time spent finding triads: 0.0009427070617675781\n",
      "Found 43 connected triads\n",
      "Time spent classifying triads: 0.0017085075378417969\n"
     ]
    },
    {
     "name": "stderr",
     "output_type": "stream",
     "text": [
      "\r",
      " 87%|████████▋ | 48/55 [00:03<00:00, 16.06it/s]"
     ]
    },
    {
     "name": "stdout",
     "output_type": "stream",
     "text": [
      "Testing 2 potential triadic pairs\n",
      "Time spent finding triads: 0.0007834434509277344\n",
      "Found 2 connected triads\n",
      "Time spent classifying triads: 0.00028252601623535156\n",
      "Testing 6 potential triadic pairs\n",
      "Time spent finding triads: 0.0007390975952148438\n",
      "Found 6 connected triads\n",
      "Time spent classifying triads: 0.0003368854522705078\n"
     ]
    },
    {
     "name": "stderr",
     "output_type": "stream",
     "text": [
      "\r",
      " 91%|█████████ | 50/55 [00:03<00:00, 15.98it/s]"
     ]
    },
    {
     "name": "stdout",
     "output_type": "stream",
     "text": [
      "Testing 26 potential triadic pairs\n",
      "Time spent finding triads: 0.0009171962738037109\n",
      "Found 26 connected triads\n",
      "Time spent classifying triads: 0.002469301223754883\n",
      "Testing 1 potential triadic pairs\n",
      "Time spent finding triads: 0.00070953369140625\n",
      "Found 1 connected triads\n",
      "Time spent classifying triads: 0.000125885009765625\n"
     ]
    },
    {
     "name": "stderr",
     "output_type": "stream",
     "text": [
      "\r",
      " 95%|█████████▍| 52/55 [00:03<00:00, 15.97it/s]"
     ]
    },
    {
     "name": "stdout",
     "output_type": "stream",
     "text": [
      "Testing 34 potential triadic pairs\n",
      "Time spent finding triads: 0.0009665489196777344\n",
      "Found 35 connected triads\n",
      "Time spent classifying triads: 0.0032935142517089844\n",
      "Testing 8 potential triadic pairs\n",
      "Time spent finding triads: 0.0007700920104980469\n",
      "Found 6 connected triads\n",
      "Time spent classifying triads: 0.00032901763916015625\n"
     ]
    },
    {
     "name": "stderr",
     "output_type": "stream",
     "text": [
      "\r",
      " 98%|█████████▊| 54/55 [00:03<00:00, 16.06it/s]"
     ]
    },
    {
     "name": "stdout",
     "output_type": "stream",
     "text": [
      "Testing 39 potential triadic pairs\n",
      "Time spent finding triads: 0.001007080078125\n",
      "Found 45 connected triads\n",
      "Time spent classifying triads: 0.002748250961303711\n",
      "Testing 15 potential triadic pairs\n",
      "Time spent finding triads: 0.0008161067962646484\n",
      "Found 17 connected triads\n",
      "Time spent classifying triads: 0.0007452964782714844\n"
     ]
    },
    {
     "name": "stderr",
     "output_type": "stream",
     "text": [
      "100%|██████████| 55/55 [00:03<00:00, 15.80it/s]\n"
     ]
    },
    {
     "name": "stdout",
     "output_type": "stream",
     "text": [
      "Testing 55 potential triadic pairs\n",
      "Time spent finding triads: 0.0011448860168457031\n",
      "Found 82 connected triads\n",
      "Time spent classifying triads: 0.007589817047119141\n"
     ]
    },
    {
     "name": "stderr",
     "output_type": "stream",
     "text": [
      "  4%|▎         | 2/55 [00:00<00:02, 18.82it/s]"
     ]
    },
    {
     "name": "stdout",
     "output_type": "stream",
     "text": [
      "Testing 20 potential triadic pairs\n",
      "Time spent finding triads: 0.000885009765625\n",
      "Found 20 connected triads\n",
      "Time spent classifying triads: 0.0019290447235107422\n",
      "Testing 4 potential triadic pairs\n",
      "Time spent finding triads: 0.00087738037109375\n",
      "Found 4 connected triads\n",
      "Time spent classifying triads: 0.0002498626708984375\n",
      "Testing 54 potential triadic pairs\n",
      "Time spent finding triads: 0.0010609626770019531\n",
      "Found 66 connected triads\n",
      "Time spent classifying triads: 0.0025565624237060547\n"
     ]
    },
    {
     "name": "stderr",
     "output_type": "stream",
     "text": [
      "\r",
      "  7%|▋         | 4/55 [00:00<00:02, 17.54it/s]"
     ]
    },
    {
     "name": "stdout",
     "output_type": "stream",
     "text": [
      "Testing 17 potential triadic pairs\n",
      "Time spent finding triads: 0.0008685588836669922\n",
      "Found 15 connected triads\n",
      "Time spent classifying triads: 0.0014793872833251953\n"
     ]
    },
    {
     "name": "stderr",
     "output_type": "stream",
     "text": [
      "\r",
      " 11%|█         | 6/55 [00:00<00:02, 17.39it/s]"
     ]
    },
    {
     "name": "stdout",
     "output_type": "stream",
     "text": [
      "Testing 59 potential triadic pairs\n",
      "Time spent finding triads: 0.0011887550354003906\n",
      "Found 113 connected triads\n",
      "Time spent classifying triads: 0.007479667663574219\n",
      "Testing 36 potential triadic pairs\n",
      "Time spent finding triads: 0.000934600830078125\n",
      "Found 39 connected triads\n",
      "Time spent classifying triads: 0.0015583038330078125\n",
      "Testing 18 potential triadic pairs\n",
      "Time spent finding triads: 0.0008220672607421875\n",
      "Found 16 connected triads\n",
      "Time spent classifying triads: 0.0006997585296630859\n"
     ]
    },
    {
     "name": "stderr",
     "output_type": "stream",
     "text": [
      "\r",
      " 15%|█▍        | 8/55 [00:00<00:02, 17.39it/s]"
     ]
    },
    {
     "name": "stdout",
     "output_type": "stream",
     "text": [
      "Testing 50 potential triadic pairs\n",
      "Time spent finding triads: 0.0010564327239990234\n",
      "Found 53 connected triads\n",
      "Time spent classifying triads: 0.004910469055175781\n"
     ]
    },
    {
     "name": "stderr",
     "output_type": "stream",
     "text": [
      "\r",
      " 18%|█▊        | 10/55 [00:00<00:02, 17.34it/s]"
     ]
    },
    {
     "name": "stdout",
     "output_type": "stream",
     "text": [
      "Testing 48 potential triadic pairs\n",
      "Time spent finding triads: 0.001055002212524414\n",
      "Found 55 connected triads\n",
      "Time spent classifying triads: 0.005092620849609375\n",
      "Testing 18 potential triadic pairs\n",
      "Time spent finding triads: 0.0008211135864257812\n",
      "Found 16 connected triads\n",
      "Time spent classifying triads: 0.0007076263427734375\n",
      "Testing 54 potential triadic pairs\n",
      "Time spent finding triads: 0.0010521411895751953\n",
      "Found 66 connected triads\n",
      "Time spent classifying triads: 0.002562284469604492\n"
     ]
    },
    {
     "name": "stderr",
     "output_type": "stream",
     "text": [
      "\r",
      " 22%|██▏       | 12/55 [00:00<00:02, 17.26it/s]"
     ]
    },
    {
     "name": "stdout",
     "output_type": "stream",
     "text": [
      "Testing 19 potential triadic pairs\n",
      "Time spent finding triads: 0.0008790493011474609\n",
      "Found 17 connected triads\n",
      "Time spent classifying triads: 0.0016682147979736328\n"
     ]
    },
    {
     "name": "stderr",
     "output_type": "stream",
     "text": [
      "\r",
      " 25%|██▌       | 14/55 [00:00<00:02, 17.57it/s]"
     ]
    },
    {
     "name": "stdout",
     "output_type": "stream",
     "text": [
      "Testing 7 potential triadic pairs\n",
      "Time spent finding triads: 0.0008034706115722656\n",
      "Found 7 connected triads\n",
      "Time spent classifying triads: 0.0007543563842773438\n",
      "Testing 27 potential triadic pairs\n",
      "Time spent finding triads: 0.0008668899536132812\n",
      "Found 25 connected triads\n",
      "Time spent classifying triads: 0.001039743423461914\n",
      "Testing 19 potential triadic pairs\n",
      "Time spent finding triads: 0.0008196830749511719\n",
      "Found 19 connected triads\n",
      "Time spent classifying triads: 0.0008134841918945312\n"
     ]
    },
    {
     "name": "stderr",
     "output_type": "stream",
     "text": [
      "\r",
      " 29%|██▉       | 16/55 [00:00<00:02, 17.75it/s]"
     ]
    },
    {
     "name": "stdout",
     "output_type": "stream",
     "text": [
      "Testing 53 potential triadic pairs\n",
      "Time spent finding triads: 0.0010995864868164062\n",
      "Found 77 connected triads\n",
      "Time spent classifying triads: 0.007085561752319336\n"
     ]
    },
    {
     "name": "stderr",
     "output_type": "stream",
     "text": [
      "\r",
      " 33%|███▎      | 18/55 [00:01<00:02, 17.96it/s]"
     ]
    },
    {
     "name": "stdout",
     "output_type": "stream",
     "text": [
      "Testing 41 potential triadic pairs\n",
      "Time spent finding triads: 0.0010266304016113281\n",
      "Found 62 connected triads\n",
      "Time spent classifying triads: 0.002956390380859375\n",
      "Testing 10 potential triadic pairs\n",
      "Time spent finding triads: 0.0007615089416503906\n",
      "Found 10 connected triads\n",
      "Time spent classifying triads: 0.0004863739013671875\n",
      "Testing 20 potential triadic pairs\n",
      "Time spent finding triads: 0.0008182525634765625\n",
      "Found 18 connected triads\n",
      "Time spent classifying triads: 0.0007870197296142578\n"
     ]
    },
    {
     "name": "stderr",
     "output_type": "stream",
     "text": [
      "\r",
      " 36%|███▋      | 20/55 [00:01<00:01, 17.94it/s]"
     ]
    },
    {
     "name": "stdout",
     "output_type": "stream",
     "text": [
      "Testing 28 potential triadic pairs\n",
      "Time spent finding triads: 0.0009257793426513672\n",
      "Found 32 connected triads\n",
      "Time spent classifying triads: 0.003014802932739258\n"
     ]
    },
    {
     "name": "stderr",
     "output_type": "stream",
     "text": [
      "\r",
      " 40%|████      | 22/55 [00:01<00:01, 17.59it/s]"
     ]
    },
    {
     "name": "stdout",
     "output_type": "stream",
     "text": [
      "Testing 57 potential triadic pairs\n",
      "Time spent finding triads: 0.0011548995971679688\n",
      "Found 85 connected triads\n",
      "Time spent classifying triads: 0.0060689449310302734\n",
      "Testing 38 potential triadic pairs\n",
      "Time spent finding triads: 0.0009388923645019531\n",
      "Found 41 connected triads\n",
      "Time spent classifying triads: 0.0016231536865234375\n",
      "Testing 2 potential triadic pairs\n",
      "Time spent finding triads: 0.0007300376892089844\n",
      "Found 2 connected triads\n",
      "Time spent classifying triads: 0.00016880035400390625\n"
     ]
    },
    {
     "name": "stderr",
     "output_type": "stream",
     "text": [
      "\r",
      " 44%|████▎     | 24/55 [00:01<00:01, 17.37it/s]"
     ]
    },
    {
     "name": "stdout",
     "output_type": "stream",
     "text": [
      "Testing 43 potential triadic pairs\n",
      "Time spent finding triads: 0.0010564327239990234\n",
      "Found 55 connected triads\n",
      "Time spent classifying triads: 0.005109548568725586\n"
     ]
    },
    {
     "name": "stderr",
     "output_type": "stream",
     "text": [
      "\r",
      " 47%|████▋     | 26/55 [00:01<00:01, 17.22it/s]"
     ]
    },
    {
     "name": "stdout",
     "output_type": "stream",
     "text": [
      "Testing 17 potential triadic pairs\n",
      "Time spent finding triads: 0.0009753704071044922\n",
      "Found 13 connected triads\n",
      "Time spent classifying triads: 0.0013012886047363281\n",
      "Testing 53 potential triadic pairs\n",
      "Time spent finding triads: 0.0010502338409423828\n",
      "Found 73 connected triads\n",
      "Time spent classifying triads: 0.002807140350341797\n",
      "Testing 5 potential triadic pairs\n",
      "Time spent finding triads: 0.0007524490356445312\n",
      "Found 5 connected triads\n",
      "Time spent classifying triads: 0.00028634071350097656\n"
     ]
    },
    {
     "name": "stderr",
     "output_type": "stream",
     "text": [
      "\r",
      " 51%|█████     | 28/55 [00:01<00:01, 17.28it/s]"
     ]
    },
    {
     "name": "stdout",
     "output_type": "stream",
     "text": [
      "Testing 37 potential triadic pairs\n",
      "Time spent finding triads: 0.0009856224060058594\n",
      "Found 44 connected triads\n",
      "Time spent classifying triads: 0.004094123840332031\n"
     ]
    },
    {
     "name": "stderr",
     "output_type": "stream",
     "text": [
      "\r",
      " 55%|█████▍    | 30/55 [00:01<00:01, 17.32it/s]"
     ]
    },
    {
     "name": "stdout",
     "output_type": "stream",
     "text": [
      "Testing 13 potential triadic pairs\n",
      "Time spent finding triads: 0.0008459091186523438\n",
      "Found 13 connected triads\n",
      "Time spent classifying triads: 0.001313924789428711\n",
      "Testing 63 potential triadic pairs\n",
      "Time spent finding triads: 0.0011327266693115234\n",
      "Found 95 connected triads\n",
      "Time spent classifying triads: 0.0036363601684570312\n",
      "Testing 39 potential triadic pairs\n",
      "Time spent finding triads: 0.0009465217590332031\n",
      "Found 42 connected triads\n",
      "Time spent classifying triads: 0.0016803741455078125\n"
     ]
    },
    {
     "name": "stderr",
     "output_type": "stream",
     "text": [
      "\r",
      " 58%|█████▊    | 32/55 [00:01<00:01, 17.34it/s]"
     ]
    },
    {
     "name": "stdout",
     "output_type": "stream",
     "text": [
      "Testing 33 potential triadic pairs\n",
      "Time spent finding triads: 0.0009837150573730469\n",
      "Found 35 connected triads\n",
      "Time spent classifying triads: 0.003321409225463867\n"
     ]
    },
    {
     "name": "stderr",
     "output_type": "stream",
     "text": [
      "\r",
      " 62%|██████▏   | 34/55 [00:01<00:01, 17.06it/s]"
     ]
    },
    {
     "name": "stdout",
     "output_type": "stream",
     "text": [
      "Testing 66 potential triadic pairs\n",
      "Time spent finding triads: 0.001293182373046875\n",
      "Found 146 connected triads\n",
      "Time spent classifying triads: 0.01340031623840332\n",
      "Testing 50 potential triadic pairs\n",
      "Time spent finding triads: 0.0010666847229003906\n",
      "Found 90 connected triads\n",
      "Time spent classifying triads: 0.0034911632537841797\n",
      "Testing 38 potential triadic pairs\n",
      "Time spent finding triads: 0.0009396076202392578\n",
      "Found 39 connected triads\n",
      "Time spent classifying triads: 0.0015490055084228516\n"
     ]
    },
    {
     "name": "stderr",
     "output_type": "stream",
     "text": [
      "\r",
      " 65%|██████▌   | 36/55 [00:02<00:01, 17.20it/s]"
     ]
    },
    {
     "name": "stdout",
     "output_type": "stream",
     "text": [
      "Testing 31 potential triadic pairs\n",
      "Time spent finding triads: 0.0009419918060302734\n",
      "Found 33 connected triads\n",
      "Time spent classifying triads: 0.003086566925048828\n"
     ]
    },
    {
     "name": "stderr",
     "output_type": "stream",
     "text": [
      "\r",
      " 69%|██████▉   | 38/55 [00:02<00:00, 17.18it/s]"
     ]
    },
    {
     "name": "stdout",
     "output_type": "stream",
     "text": [
      "Testing 4 potential triadic pairs\n",
      "Time spent finding triads: 0.0007760524749755859\n",
      "Found 4 connected triads\n",
      "Time spent classifying triads: 0.0004665851593017578\n",
      "Testing 61 potential triadic pairs\n",
      "Time spent finding triads: 0.0011243820190429688\n",
      "Found 96 connected triads\n",
      "Time spent classifying triads: 0.003664731979370117\n",
      "Testing 46 potential triadic pairs\n",
      "Time spent finding triads: 0.0009946823120117188\n",
      "Found 51 connected triads\n",
      "Time spent classifying triads: 0.002000093460083008\n"
     ]
    },
    {
     "name": "stderr",
     "output_type": "stream",
     "text": [
      "\r",
      " 73%|███████▎  | 40/55 [00:02<00:00, 17.44it/s]"
     ]
    },
    {
     "name": "stdout",
     "output_type": "stream",
     "text": [
      "Testing 57 potential triadic pairs\n",
      "Time spent finding triads: 0.0011265277862548828\n",
      "Found 77 connected triads\n",
      "Time spent classifying triads: 0.004117727279663086\n"
     ]
    },
    {
     "name": "stderr",
     "output_type": "stream",
     "text": [
      "\r",
      " 76%|███████▋  | 42/55 [00:02<00:00, 17.27it/s]"
     ]
    },
    {
     "name": "stdout",
     "output_type": "stream",
     "text": [
      "Testing 60 potential triadic pairs\n",
      "Time spent finding triads: 0.0011222362518310547\n",
      "Found 84 connected triads\n",
      "Time spent classifying triads: 0.007741689682006836\n",
      "Testing 25 potential triadic pairs\n",
      "Time spent finding triads: 0.0008578300476074219\n",
      "Found 23 connected triads\n",
      "Time spent classifying triads: 0.0009629726409912109\n",
      "Testing 35 potential triadic pairs\n",
      "Time spent finding triads: 0.0009272098541259766\n",
      "Found 34 connected triads\n",
      "Time spent classifying triads: 0.0013806819915771484\n"
     ]
    },
    {
     "name": "stderr",
     "output_type": "stream",
     "text": [
      "\r",
      " 80%|████████  | 44/55 [00:02<00:00, 17.59it/s]"
     ]
    },
    {
     "name": "stdout",
     "output_type": "stream",
     "text": [
      "Testing 20 potential triadic pairs\n",
      "Time spent finding triads: 0.0008797645568847656\n",
      "Found 22 connected triads\n",
      "Time spent classifying triads: 0.002110719680786133\n"
     ]
    },
    {
     "name": "stderr",
     "output_type": "stream",
     "text": [
      "\r",
      " 84%|████████▎ | 46/55 [00:02<00:00, 17.78it/s]"
     ]
    },
    {
     "name": "stdout",
     "output_type": "stream",
     "text": [
      "Testing 4 potential triadic pairs\n",
      "Time spent finding triads: 0.0007963180541992188\n",
      "Found 4 connected triads\n",
      "Time spent classifying triads: 0.00047397613525390625\n",
      "Testing 59 potential triadic pairs\n",
      "Time spent finding triads: 0.001092672348022461\n",
      "Found 80 connected triads\n",
      "Time spent classifying triads: 0.0031175613403320312\n",
      "Testing 0 potential triadic pairs\n",
      "Time spent finding triads: 0.0007092952728271484\n",
      "Found 0 connected triads\n",
      "Time spent classifying triads: 6.699562072753906e-05\n"
     ]
    },
    {
     "name": "stderr",
     "output_type": "stream",
     "text": [
      "\r",
      " 87%|████████▋ | 48/55 [00:02<00:00, 17.77it/s]"
     ]
    },
    {
     "name": "stdout",
     "output_type": "stream",
     "text": [
      "Testing 16 potential triadic pairs\n",
      "Time spent finding triads: 0.0008521080017089844\n",
      "Found 14 connected triads\n",
      "Time spent classifying triads: 0.00138092041015625\n"
     ]
    },
    {
     "name": "stderr",
     "output_type": "stream",
     "text": [
      "\r",
      " 91%|█████████ | 50/55 [00:02<00:00, 17.58it/s]"
     ]
    },
    {
     "name": "stdout",
     "output_type": "stream",
     "text": [
      "Testing 48 potential triadic pairs\n",
      "Time spent finding triads: 0.0010552406311035156\n",
      "Found 67 connected triads\n",
      "Time spent classifying triads: 0.004728078842163086\n",
      "Testing 33 potential triadic pairs\n",
      "Time spent finding triads: 0.0009295940399169922\n",
      "Found 40 connected triads\n",
      "Time spent classifying triads: 0.0016012191772460938\n",
      "Testing 38 potential triadic pairs\n",
      "Time spent finding triads: 0.0009331703186035156\n",
      "Found 36 connected triads\n",
      "Time spent classifying triads: 0.0014503002166748047\n"
     ]
    },
    {
     "name": "stderr",
     "output_type": "stream",
     "text": [
      "\r",
      " 95%|█████████▍| 52/55 [00:02<00:00, 17.81it/s]"
     ]
    },
    {
     "name": "stdout",
     "output_type": "stream",
     "text": [
      "Testing 17 potential triadic pairs\n",
      "Time spent finding triads: 0.0008819103240966797\n",
      "Found 17 connected triads\n",
      "Time spent classifying triads: 0.0016715526580810547\n"
     ]
    },
    {
     "name": "stderr",
     "output_type": "stream",
     "text": [
      "100%|██████████| 55/55 [00:03<00:00, 17.53it/s]\n"
     ]
    },
    {
     "name": "stdout",
     "output_type": "stream",
     "text": [
      "Testing 3 potential triadic pairs\n",
      "Time spent finding triads: 0.0007920265197753906\n",
      "Found 3 connected triads\n",
      "Time spent classifying triads: 0.0003974437713623047\n",
      "Testing 38 potential triadic pairs\n",
      "Time spent finding triads: 0.0009517669677734375\n",
      "Found 38 connected triads\n",
      "Time spent classifying triads: 0.0015268325805664062\n",
      "Testing 34 potential triadic pairs\n",
      "Time spent finding triads: 0.0009217262268066406\n",
      "Found 35 connected triads\n",
      "Time spent classifying triads: 0.001422882080078125\n"
     ]
    },
    {
     "name": "stderr",
     "output_type": "stream",
     "text": [
      "  7%|▋         | 4/55 [00:00<00:03, 14.92it/s]"
     ]
    },
    {
     "name": "stdout",
     "output_type": "stream",
     "text": [
      "Testing 61 potential triadic pairs\n",
      "Time spent finding triads: 0.001134634017944336\n",
      "Found 71 connected triads\n",
      "Time spent classifying triads: 0.006551504135131836\n",
      "Testing 29 potential triadic pairs\n",
      "Time spent finding triads: 0.0008969306945800781\n",
      "Found 30 connected triads\n",
      "Time spent classifying triads: 0.001224517822265625\n",
      "Testing 3 potential triadic pairs\n",
      "Time spent finding triads: 0.0007274150848388672\n",
      "Found 1 connected triads\n",
      "Time spent classifying triads: 0.000125885009765625\n",
      "Testing 13 potential triadic pairs\n",
      "Time spent finding triads: 0.0008060932159423828\n",
      "Found 13 connected triads\n",
      "Time spent classifying triads: 0.0006010532379150391\n"
     ]
    },
    {
     "name": "stderr",
     "output_type": "stream",
     "text": [
      "\r",
      " 11%|█         | 6/55 [00:00<00:03, 14.85it/s]"
     ]
    },
    {
     "name": "stdout",
     "output_type": "stream",
     "text": [
      "Testing 27 potential triadic pairs\n",
      "Time spent finding triads: 0.0009396076202392578\n",
      "Found 27 connected triads\n",
      "Time spent classifying triads: 0.0025746822357177734\n",
      "Testing 34 potential triadic pairs\n",
      "Time spent finding triads: 0.0009524822235107422\n",
      "Found 43 connected triads\n",
      "Time spent classifying triads: 0.0017206668853759766\n",
      "Testing 10 potential triadic pairs\n",
      "Time spent finding triads: 0.00078582763671875\n",
      "Found 10 connected triads\n",
      "Time spent classifying triads: 0.0004811286926269531\n",
      "Testing 37 potential triadic pairs\n",
      "Time spent finding triads: 0.0009469985961914062\n",
      "Found 37 connected triads\n",
      "Time spent classifying triads: 0.0015015602111816406\n"
     ]
    },
    {
     "name": "stderr",
     "output_type": "stream",
     "text": [
      " 22%|██▏       | 12/55 [00:00<00:02, 14.99it/s]"
     ]
    },
    {
     "name": "stdout",
     "output_type": "stream",
     "text": [
      "Testing 36 potential triadic pairs\n",
      "Time spent finding triads: 0.001001596450805664\n",
      "Found 40 connected triads\n",
      "Time spent classifying triads: 0.0037703514099121094\n",
      "Testing 12 potential triadic pairs\n",
      "Time spent finding triads: 0.0007927417755126953\n",
      "Found 12 connected triads\n",
      "Time spent classifying triads: 0.0005595684051513672\n",
      "Testing 40 potential triadic pairs\n",
      "Time spent finding triads: 0.0009589195251464844\n",
      "Found 40 connected triads\n",
      "Time spent classifying triads: 0.001588582992553711\n",
      "Testing 34 potential triadic pairs\n",
      "Time spent finding triads: 0.0009274482727050781\n",
      "Found 35 connected triads\n",
      "Time spent classifying triads: 0.0014193058013916016\n"
     ]
    },
    {
     "name": "stderr",
     "output_type": "stream",
     "text": [
      " 29%|██▉       | 16/55 [00:01<00:02, 15.05it/s]"
     ]
    },
    {
     "name": "stdout",
     "output_type": "stream",
     "text": [
      "Testing 42 potential triadic pairs\n",
      "Time spent finding triads: 0.0010290145874023438\n",
      "Found 52 connected triads\n",
      "Time spent classifying triads: 0.004835844039916992\n",
      "Testing 3 potential triadic pairs\n",
      "Time spent finding triads: 0.0007383823394775391\n",
      "Found 3 connected triads\n",
      "Time spent classifying triads: 0.00021266937255859375\n",
      "Testing 8 potential triadic pairs\n",
      "Time spent finding triads: 0.0007693767547607422\n",
      "Found 8 connected triads\n",
      "Time spent classifying triads: 0.0004055500030517578\n",
      "Testing 40 potential triadic pairs\n",
      "Time spent finding triads: 0.0009694099426269531\n",
      "Found 46 connected triads\n",
      "Time spent classifying triads: 0.0018181800842285156\n"
     ]
    },
    {
     "name": "stderr",
     "output_type": "stream",
     "text": [
      "\r",
      " 33%|███▎      | 18/55 [00:01<00:02, 14.81it/s]"
     ]
    },
    {
     "name": "stdout",
     "output_type": "stream",
     "text": [
      "Testing 49 potential triadic pairs\n",
      "Time spent finding triads: 0.0010750293731689453\n",
      "Found 58 connected triads\n",
      "Time spent classifying triads: 0.0053713321685791016\n",
      "Testing 22 potential triadic pairs\n",
      "Time spent finding triads: 0.0008466243743896484\n",
      "Found 18 connected triads\n",
      "Time spent classifying triads: 0.000782012939453125\n",
      "Testing 52 potential triadic pairs\n",
      "Time spent finding triads: 0.0010523796081542969\n",
      "Found 55 connected triads\n",
      "Time spent classifying triads: 0.0045909881591796875\n",
      "Testing 9 potential triadic pairs\n",
      "Time spent finding triads: 0.0007789134979248047\n",
      "Found 7 connected triads\n",
      "Time spent classifying triads: 0.0003654956817626953\n"
     ]
    },
    {
     "name": "stderr",
     "output_type": "stream",
     "text": [
      " 44%|████▎     | 24/55 [00:01<00:02, 15.03it/s]"
     ]
    },
    {
     "name": "stdout",
     "output_type": "stream",
     "text": [
      "Testing 11 potential triadic pairs\n",
      "Time spent finding triads: 0.0008542537689208984\n",
      "Found 11 connected triads\n",
      "Time spent classifying triads: 0.001123666763305664\n",
      "Testing 25 potential triadic pairs\n",
      "Time spent finding triads: 0.0008707046508789062\n",
      "Found 25 connected triads\n",
      "Time spent classifying triads: 0.0010387897491455078\n",
      "Testing 46 potential triadic pairs\n",
      "Time spent finding triads: 0.0010120868682861328\n",
      "Found 57 connected triads\n",
      "Time spent classifying triads: 0.0022292137145996094\n",
      "Testing 1 potential triadic pairs\n",
      "Time spent finding triads: 0.0007257461547851562\n",
      "Found 1 connected triads\n",
      "Time spent classifying triads: 0.0001277923583984375\n"
     ]
    },
    {
     "name": "stderr",
     "output_type": "stream",
     "text": [
      "\r",
      " 47%|████▋     | 26/55 [00:01<00:01, 14.90it/s]"
     ]
    },
    {
     "name": "stdout",
     "output_type": "stream",
     "text": [
      "Testing 23 potential triadic pairs\n",
      "Time spent finding triads: 0.0009188652038574219\n",
      "Found 30 connected triads\n",
      "Time spent classifying triads: 0.0028505325317382812\n",
      "Testing 52 potential triadic pairs\n",
      "Time spent finding triads: 0.0010590553283691406\n",
      "Found 66 connected triads\n",
      "Time spent classifying triads: 0.0025777816772460938\n",
      "Testing 31 potential triadic pairs\n",
      "Time spent finding triads: 0.0009121894836425781\n",
      "Found 38 connected triads\n",
      "Time spent classifying triads: 0.001979351043701172\n",
      "Testing 56 potential triadic pairs\n",
      "Time spent finding triads: 0.0011069774627685547\n",
      "Found 85 connected triads\n",
      "Time spent classifying triads: 0.0044443607330322266\n"
     ]
    },
    {
     "name": "stderr",
     "output_type": "stream",
     "text": [
      " 58%|█████▊    | 32/55 [00:02<00:01, 15.01it/s]"
     ]
    },
    {
     "name": "stdout",
     "output_type": "stream",
     "text": [
      "Testing 4 potential triadic pairs\n",
      "Time spent finding triads: 0.0008177757263183594\n",
      "Found 4 connected triads\n",
      "Time spent classifying triads: 0.0004858970642089844\n",
      "Testing 35 potential triadic pairs\n",
      "Time spent finding triads: 0.0009372234344482422\n",
      "Found 39 connected triads\n",
      "Time spent classifying triads: 0.0015654563903808594\n",
      "Testing 35 potential triadic pairs\n",
      "Time spent finding triads: 0.0009307861328125\n",
      "Found 31 connected triads\n",
      "Time spent classifying triads: 0.0012650489807128906\n",
      "Testing 48 potential triadic pairs\n",
      "Time spent finding triads: 0.0010137557983398438\n",
      "Found 51 connected triads\n",
      "Time spent classifying triads: 0.0020160675048828125\n"
     ]
    },
    {
     "name": "stderr",
     "output_type": "stream",
     "text": [
      "\r",
      " 62%|██████▏   | 34/55 [00:02<00:01, 14.97it/s]"
     ]
    },
    {
     "name": "stdout",
     "output_type": "stream",
     "text": [
      "Testing 1 potential triadic pairs\n",
      "Time spent finding triads: 0.0007760524749755859\n",
      "Found 1 connected triads\n",
      "Time spent classifying triads: 0.000186920166015625\n",
      "Testing 12 potential triadic pairs\n",
      "Time spent finding triads: 0.0007882118225097656\n",
      "Found 12 connected triads\n",
      "Time spent classifying triads: 0.0005495548248291016\n",
      "Testing 31 potential triadic pairs\n",
      "Time spent finding triads: 0.0009038448333740234\n",
      "Found 31 connected triads\n",
      "Time spent classifying triads: 0.0012614727020263672\n",
      "Testing 3 potential triadic pairs\n",
      "Time spent finding triads: 0.0007426738739013672\n",
      "Found 3 connected triads\n",
      "Time spent classifying triads: 0.00021386146545410156\n"
     ]
    },
    {
     "name": "stderr",
     "output_type": "stream",
     "text": [
      " 73%|███████▎  | 40/55 [00:02<00:00, 15.04it/s]"
     ]
    },
    {
     "name": "stdout",
     "output_type": "stream",
     "text": [
      "Testing 40 potential triadic pairs\n",
      "Time spent finding triads: 0.0010230541229248047\n",
      "Found 50 connected triads\n",
      "Time spent classifying triads: 0.004669904708862305\n",
      "Testing 17 potential triadic pairs\n",
      "Time spent finding triads: 0.0008265972137451172\n",
      "Found 17 connected triads\n",
      "Time spent classifying triads: 0.0007433891296386719\n",
      "Testing 52 potential triadic pairs\n",
      "Time spent finding triads: 0.0010547637939453125\n",
      "Found 65 connected triads\n",
      "Time spent classifying triads: 0.002527952194213867\n",
      "Testing 3 potential triadic pairs\n",
      "Time spent finding triads: 0.0007376670837402344\n",
      "Found 3 connected triads\n",
      "Time spent classifying triads: 0.00021195411682128906\n"
     ]
    },
    {
     "name": "stderr",
     "output_type": "stream",
     "text": [
      " 80%|████████  | 44/55 [00:02<00:00, 14.94it/s]"
     ]
    },
    {
     "name": "stdout",
     "output_type": "stream",
     "text": [
      "Testing 38 potential triadic pairs\n",
      "Time spent finding triads: 0.0010082721710205078\n",
      "Found 37 connected triads\n",
      "Time spent classifying triads: 0.0034868717193603516\n",
      "Testing 24 potential triadic pairs\n",
      "Time spent finding triads: 0.0008683204650878906\n",
      "Found 22 connected triads\n",
      "Time spent classifying triads: 0.0009319782257080078\n",
      "Testing 45 potential triadic pairs\n",
      "Time spent finding triads: 0.0010411739349365234\n",
      "Found 48 connected triads\n",
      "Time spent classifying triads: 0.0019032955169677734\n",
      "Testing 13 potential triadic pairs\n",
      "Time spent finding triads: 0.0007979869842529297\n",
      "Found 11 connected triads\n",
      "Time spent classifying triads: 0.0005211830139160156\n"
     ]
    },
    {
     "name": "stderr",
     "output_type": "stream",
     "text": [
      "\r",
      " 84%|████████▎ | 46/55 [00:03<00:00, 14.88it/s]"
     ]
    },
    {
     "name": "stdout",
     "output_type": "stream",
     "text": [
      "Testing 20 potential triadic pairs\n",
      "Time spent finding triads: 0.0009059906005859375\n",
      "Found 16 connected triads\n",
      "Time spent classifying triads: 0.0015797615051269531\n",
      "Testing 44 potential triadic pairs\n",
      "Time spent finding triads: 0.0010006427764892578\n",
      "Found 55 connected triads\n",
      "Time spent classifying triads: 0.0021474361419677734\n",
      "Testing 40 potential triadic pairs\n",
      "Time spent finding triads: 0.0009796619415283203\n",
      "Found 54 connected triads\n",
      "Time spent classifying triads: 0.002116680145263672\n",
      "Testing 44 potential triadic pairs\n",
      "Time spent finding triads: 0.0010013580322265625\n",
      "Found 53 connected triads\n",
      "Time spent classifying triads: 0.0020847320556640625\n"
     ]
    },
    {
     "name": "stderr",
     "output_type": "stream",
     "text": [
      " 91%|█████████ | 50/55 [00:03<00:00, 14.89it/s]"
     ]
    },
    {
     "name": "stdout",
     "output_type": "stream",
     "text": [
      "Testing 12 potential triadic pairs\n",
      "Time spent finding triads: 0.0008633136749267578\n",
      "Found 12 connected triads\n",
      "Time spent classifying triads: 0.0010638236999511719\n",
      "Testing 47 potential triadic pairs\n",
      "Time spent finding triads: 0.0010099411010742188\n",
      "Found 63 connected triads\n",
      "Time spent classifying triads: 0.002467632293701172\n",
      "Testing 48 potential triadic pairs\n",
      "Time spent finding triads: 0.0010330677032470703\n",
      "Found 69 connected triads\n",
      "Time spent classifying triads: 0.0026924610137939453\n",
      "Testing 29 potential triadic pairs\n",
      "Time spent finding triads: 0.0008985996246337891\n",
      "Found 33 connected triads\n",
      "Time spent classifying triads: 0.001329660415649414\n"
     ]
    },
    {
     "name": "stderr",
     "output_type": "stream",
     "text": [
      "100%|██████████| 55/55 [00:03<00:00, 14.92it/s]\n"
     ]
    },
    {
     "name": "stdout",
     "output_type": "stream",
     "text": [
      "Testing 3 potential triadic pairs\n",
      "Time spent finding triads: 0.0007977485656738281\n",
      "Found 3 connected triads\n",
      "Time spent classifying triads: 0.0003807544708251953\n",
      "Testing 30 potential triadic pairs\n",
      "Time spent finding triads: 0.0008952617645263672\n",
      "Found 34 connected triads\n",
      "Time spent classifying triads: 0.0013785362243652344\n",
      "Testing 10 potential triadic pairs\n",
      "Time spent finding triads: 0.0007731914520263672\n",
      "Found 10 connected triads\n",
      "Time spent classifying triads: 0.00048232078552246094\n"
     ]
    },
    {
     "name": "stderr",
     "output_type": "stream",
     "text": [
      "  7%|▋         | 4/55 [00:00<00:02, 18.09it/s]"
     ]
    },
    {
     "name": "stdout",
     "output_type": "stream",
     "text": [
      "Testing 39 potential triadic pairs\n",
      "Time spent finding triads: 0.0009965896606445312\n",
      "Found 43 connected triads\n",
      "Time spent classifying triads: 0.0040247440338134766\n",
      "Testing 12 potential triadic pairs\n",
      "Time spent finding triads: 0.0009145736694335938\n",
      "Found 10 connected triads\n",
      "Time spent classifying triads: 0.00047898292541503906\n",
      "Testing 11 potential triadic pairs\n",
      "Time spent finding triads: 0.0007805824279785156\n",
      "Found 11 connected triads\n",
      "Time spent classifying triads: 0.0005125999450683594\n",
      "Testing 45 potential triadic pairs\n",
      "Time spent finding triads: 0.0009942054748535156\n",
      "Found 45 connected triads\n",
      "Time spent classifying triads: 0.0018012523651123047\n"
     ]
    },
    {
     "name": "stderr",
     "output_type": "stream",
     "text": [
      " 15%|█▍        | 8/55 [00:00<00:02, 18.04it/s]"
     ]
    },
    {
     "name": "stdout",
     "output_type": "stream",
     "text": [
      "Testing 15 potential triadic pairs\n",
      "Time spent finding triads: 0.0008537769317626953\n",
      "Found 17 connected triads\n",
      "Time spent classifying triads: 0.001667022705078125\n",
      "Testing 60 potential triadic pairs\n",
      "Time spent finding triads: 0.0011141300201416016\n",
      "Found 89 connected triads\n",
      "Time spent classifying triads: 0.003420591354370117\n",
      "Testing 8 potential triadic pairs\n",
      "Time spent finding triads: 0.000762939453125\n",
      "Found 6 connected triads\n",
      "Time spent classifying triads: 0.0003230571746826172\n",
      "Testing 6 potential triadic pairs\n",
      "Time spent finding triads: 0.000751495361328125\n",
      "Found 6 connected triads\n",
      "Time spent classifying triads: 0.00033354759216308594\n"
     ]
    },
    {
     "name": "stderr",
     "output_type": "stream",
     "text": [
      " 22%|██▏       | 12/55 [00:00<00:02, 17.94it/s]"
     ]
    },
    {
     "name": "stdout",
     "output_type": "stream",
     "text": [
      "Testing 45 potential triadic pairs\n",
      "Time spent finding triads: 0.0010402202606201172\n",
      "Found 54 connected triads\n",
      "Time spent classifying triads: 0.005017518997192383\n",
      "Testing 23 potential triadic pairs\n",
      "Time spent finding triads: 0.0008473396301269531\n",
      "Found 21 connected triads\n",
      "Time spent classifying triads: 0.0008771419525146484\n",
      "Testing 42 potential triadic pairs\n",
      "Time spent finding triads: 0.0009746551513671875\n",
      "Found 48 connected triads\n",
      "Time spent classifying triads: 0.0018970966339111328\n",
      "Testing 17 potential triadic pairs\n",
      "Time spent finding triads: 0.0008139610290527344\n",
      "Found 15 connected triads\n",
      "Time spent classifying triads: 0.0006668567657470703\n"
     ]
    },
    {
     "name": "stderr",
     "output_type": "stream",
     "text": [
      " 29%|██▉       | 16/55 [00:00<00:02, 17.91it/s]"
     ]
    },
    {
     "name": "stdout",
     "output_type": "stream",
     "text": [
      "Testing 39 potential triadic pairs\n",
      "Time spent finding triads: 0.000995635986328125\n",
      "Found 43 connected triads\n",
      "Time spent classifying triads: 0.00402069091796875\n",
      "Testing 22 potential triadic pairs\n",
      "Time spent finding triads: 0.0008563995361328125\n",
      "Found 18 connected triads\n",
      "Time spent classifying triads: 0.0007927417755126953\n",
      "Testing 44 potential triadic pairs\n",
      "Time spent finding triads: 0.0009875297546386719\n",
      "Found 51 connected triads\n",
      "Time spent classifying triads: 0.0019958019256591797\n",
      "Testing 29 potential triadic pairs\n",
      "Time spent finding triads: 0.000888824462890625\n",
      "Found 30 connected triads\n",
      "Time spent classifying triads: 0.0012178421020507812\n"
     ]
    },
    {
     "name": "stderr",
     "output_type": "stream",
     "text": [
      " 36%|███▋      | 20/55 [00:01<00:01, 17.91it/s]"
     ]
    },
    {
     "name": "stdout",
     "output_type": "stream",
     "text": [
      "Testing 50 potential triadic pairs\n",
      "Time spent finding triads: 0.0010917186737060547\n",
      "Found 67 connected triads\n",
      "Time spent classifying triads: 0.006190299987792969\n",
      "Testing 10 potential triadic pairs\n",
      "Time spent finding triads: 0.0007636547088623047\n",
      "Found 10 connected triads\n",
      "Time spent classifying triads: 0.00048351287841796875\n",
      "Testing 27 potential triadic pairs\n",
      "Time spent finding triads: 0.0008761882781982422\n",
      "Found 27 connected triads\n",
      "Time spent classifying triads: 0.0011074542999267578\n",
      "Testing 5 potential triadic pairs\n",
      "Time spent finding triads: 0.0007288455963134766\n",
      "Found 3 connected triads\n",
      "Time spent classifying triads: 0.00021266937255859375\n"
     ]
    },
    {
     "name": "stderr",
     "output_type": "stream",
     "text": [
      " 44%|████▎     | 24/55 [00:01<00:01, 17.62it/s]"
     ]
    },
    {
     "name": "stdout",
     "output_type": "stream",
     "text": [
      "Testing 43 potential triadic pairs\n",
      "Time spent finding triads: 0.0010259151458740234\n",
      "Found 50 connected triads\n",
      "Time spent classifying triads: 0.004670858383178711\n",
      "Testing 42 potential triadic pairs\n",
      "Time spent finding triads: 0.0009729862213134766\n",
      "Found 55 connected triads\n",
      "Time spent classifying triads: 0.002141714096069336\n",
      "Testing 9 potential triadic pairs\n",
      "Time spent finding triads: 0.0007684230804443359\n",
      "Found 9 connected triads\n",
      "Time spent classifying triads: 0.0004391670227050781\n",
      "Testing 21 potential triadic pairs\n",
      "Time spent finding triads: 0.0008397102355957031\n",
      "Found 21 connected triads\n",
      "Time spent classifying triads: 0.0008957386016845703\n"
     ]
    },
    {
     "name": "stderr",
     "output_type": "stream",
     "text": [
      " 51%|█████     | 28/55 [00:01<00:01, 18.08it/s]"
     ]
    },
    {
     "name": "stdout",
     "output_type": "stream",
     "text": [
      "Testing 49 potential triadic pairs\n",
      "Time spent finding triads: 0.0010671615600585938\n",
      "Found 55 connected triads\n",
      "Time spent classifying triads: 0.005154609680175781\n",
      "Testing 42 potential triadic pairs\n",
      "Time spent finding triads: 0.0009684562683105469\n",
      "Found 47 connected triads\n",
      "Time spent classifying triads: 0.0018582344055175781\n",
      "Testing 51 potential triadic pairs\n",
      "Time spent finding triads: 0.0010211467742919922\n",
      "Found 57 connected triads\n",
      "Time spent classifying triads: 0.0022475719451904297\n",
      "Testing 51 potential triadic pairs\n",
      "Time spent finding triads: 0.0010476112365722656\n",
      "Found 63 connected triads\n",
      "Time spent classifying triads: 0.002488851547241211\n"
     ]
    },
    {
     "name": "stderr",
     "output_type": "stream",
     "text": [
      " 58%|█████▊    | 32/55 [00:01<00:01, 17.96it/s]"
     ]
    },
    {
     "name": "stdout",
     "output_type": "stream",
     "text": [
      "Testing 56 potential triadic pairs\n",
      "Time spent finding triads: 0.0011217594146728516\n",
      "Found 62 connected triads\n",
      "Time spent classifying triads: 0.005765676498413086\n",
      "Testing 54 potential triadic pairs\n",
      "Time spent finding triads: 0.0010547637939453125\n",
      "Found 73 connected triads\n",
      "Time spent classifying triads: 0.0028243064880371094\n",
      "Testing 33 potential triadic pairs\n",
      "Time spent finding triads: 0.0009126663208007812\n",
      "Found 33 connected triads\n",
      "Time spent classifying triads: 0.0013408660888671875\n",
      "Testing 29 potential triadic pairs\n",
      "Time spent finding triads: 0.0008924007415771484\n",
      "Found 30 connected triads\n",
      "Time spent classifying triads: 0.001220703125\n"
     ]
    },
    {
     "name": "stderr",
     "output_type": "stream",
     "text": [
      " 65%|██████▌   | 36/55 [00:02<00:01, 18.32it/s]"
     ]
    },
    {
     "name": "stdout",
     "output_type": "stream",
     "text": [
      "Testing 14 potential triadic pairs\n",
      "Time spent finding triads: 0.0008373260498046875\n",
      "Found 12 connected triads\n",
      "Time spent classifying triads: 0.0012178421020507812\n",
      "Testing 11 potential triadic pairs\n",
      "Time spent finding triads: 0.0007846355438232422\n",
      "Found 11 connected triads\n",
      "Time spent classifying triads: 0.0005121231079101562\n",
      "Testing 41 potential triadic pairs\n",
      "Time spent finding triads: 0.0009675025939941406\n",
      "Found 41 connected triads\n",
      "Time spent classifying triads: 0.0016279220581054688\n",
      "Testing 27 potential triadic pairs\n",
      "Time spent finding triads: 0.0008790493011474609\n",
      "Found 25 connected triads\n",
      "Time spent classifying triads: 0.001043081283569336\n"
     ]
    },
    {
     "name": "stderr",
     "output_type": "stream",
     "text": [
      " 73%|███████▎  | 40/55 [00:02<00:00, 18.53it/s]"
     ]
    },
    {
     "name": "stdout",
     "output_type": "stream",
     "text": [
      "Testing 19 potential triadic pairs\n",
      "Time spent finding triads: 0.0008637905120849609\n",
      "Found 19 connected triads\n",
      "Time spent classifying triads: 0.0018377304077148438\n",
      "Testing 35 potential triadic pairs\n",
      "Time spent finding triads: 0.0009136199951171875\n",
      "Found 35 connected triads\n",
      "Time spent classifying triads: 0.0014073848724365234\n",
      "Testing 25 potential triadic pairs\n",
      "Time spent finding triads: 0.0008573532104492188\n",
      "Found 29 connected triads\n",
      "Time spent classifying triads: 0.0011973381042480469\n",
      "Testing 60 potential triadic pairs\n",
      "Time spent finding triads: 0.0011081695556640625\n",
      "Found 92 connected triads\n",
      "Time spent classifying triads: 0.003535747528076172\n"
     ]
    },
    {
     "name": "stderr",
     "output_type": "stream",
     "text": [
      " 80%|████████  | 44/55 [00:02<00:00, 18.48it/s]"
     ]
    },
    {
     "name": "stdout",
     "output_type": "stream",
     "text": [
      "Testing 42 potential triadic pairs\n",
      "Time spent finding triads: 0.0010254383087158203\n",
      "Found 63 connected triads\n",
      "Time spent classifying triads: 0.005824089050292969\n",
      "Testing 18 potential triadic pairs\n",
      "Time spent finding triads: 0.0008220672607421875\n",
      "Found 18 connected triads\n",
      "Time spent classifying triads: 0.0007870197296142578\n",
      "Testing 30 potential triadic pairs\n",
      "Time spent finding triads: 0.0008928775787353516\n",
      "Found 31 connected triads\n",
      "Time spent classifying triads: 0.0012500286102294922\n",
      "Testing 46 potential triadic pairs\n",
      "Time spent finding triads: 0.0010044574737548828\n",
      "Found 65 connected triads\n",
      "Time spent classifying triads: 0.002538919448852539\n"
     ]
    },
    {
     "name": "stderr",
     "output_type": "stream",
     "text": [
      " 87%|████████▋ | 48/55 [00:02<00:00, 18.15it/s]"
     ]
    },
    {
     "name": "stdout",
     "output_type": "stream",
     "text": [
      "Testing 51 potential triadic pairs\n",
      "Time spent finding triads: 0.0012793540954589844\n",
      "Found 81 connected triads\n",
      "Time spent classifying triads: 0.004948616027832031\n",
      "Testing 52 potential triadic pairs\n",
      "Time spent finding triads: 0.0010290145874023438\n",
      "Found 67 connected triads\n",
      "Time spent classifying triads: 0.002592325210571289\n",
      "Testing 32 potential triadic pairs\n",
      "Time spent finding triads: 0.0009067058563232422\n",
      "Found 31 connected triads\n",
      "Time spent classifying triads: 0.0012607574462890625\n",
      "Testing 58 potential triadic pairs\n",
      "Time spent finding triads: 0.001077413558959961\n",
      "Found 79 connected triads\n",
      "Time spent classifying triads: 0.003035306930541992\n"
     ]
    },
    {
     "name": "stderr",
     "output_type": "stream",
     "text": [
      " 95%|█████████▍| 52/55 [00:02<00:00, 18.03it/s]"
     ]
    },
    {
     "name": "stdout",
     "output_type": "stream",
     "text": [
      "Testing 42 potential triadic pairs\n",
      "Time spent finding triads: 0.0010325908660888672\n",
      "Found 56 connected triads\n",
      "Time spent classifying triads: 0.002829313278198242\n",
      "Testing 9 potential triadic pairs\n",
      "Time spent finding triads: 0.0007698535919189453\n",
      "Found 9 connected triads\n",
      "Time spent classifying triads: 0.0004470348358154297\n",
      "Testing 55 potential triadic pairs\n",
      "Time spent finding triads: 0.0010836124420166016\n",
      "Found 81 connected triads\n",
      "Time spent classifying triads: 0.003126382827758789\n",
      "Testing 14 potential triadic pairs\n",
      "Time spent finding triads: 0.0007920265197753906\n",
      "Found 12 connected triads\n",
      "Time spent classifying triads: 0.0005543231964111328\n"
     ]
    },
    {
     "name": "stderr",
     "output_type": "stream",
     "text": [
      "100%|██████████| 55/55 [00:03<00:00, 18.04it/s]\n"
     ]
    },
    {
     "name": "stdout",
     "output_type": "stream",
     "text": [
      "Testing 10 potential triadic pairs\n",
      "Time spent finding triads: 0.0008211135864257812\n",
      "Found 14 connected triads\n",
      "Time spent classifying triads: 0.0011091232299804688\n",
      "Testing 36 potential triadic pairs\n",
      "Time spent finding triads: 0.0009329319000244141\n",
      "Found 36 connected triads\n",
      "Time spent classifying triads: 0.0014357566833496094\n",
      "Testing 55 potential triadic pairs\n",
      "Time spent finding triads: 0.0010983943939208984\n",
      "Found 81 connected triads\n",
      "Time spent classifying triads: 0.0030984878540039062\n"
     ]
    },
    {
     "name": "stderr",
     "output_type": "stream",
     "text": [
      "\r",
      "  0%|          | 0/55 [00:00<?, ?it/s]"
     ]
    },
    {
     "name": "stdout",
     "output_type": "stream",
     "text": [
      "Testing 44 potential triadic pairs\n",
      "Time spent finding triads: 0.001056671142578125\n",
      "Found 64 connected triads\n",
      "Time spent classifying triads: 0.005956172943115234\n"
     ]
    },
    {
     "name": "stderr",
     "output_type": "stream",
     "text": [
      "  7%|▋         | 4/55 [00:00<00:03, 16.52it/s]"
     ]
    },
    {
     "name": "stdout",
     "output_type": "stream",
     "text": [
      "Testing 19 potential triadic pairs\n",
      "Time spent finding triads: 0.0009999275207519531\n",
      "Found 21 connected triads\n",
      "Time spent classifying triads: 0.0020170211791992188\n",
      "Testing 8 potential triadic pairs\n",
      "Time spent finding triads: 0.0008933544158935547\n",
      "Found 8 connected triads\n",
      "Time spent classifying triads: 0.0004057884216308594\n",
      "Testing 39 potential triadic pairs\n",
      "Time spent finding triads: 0.0009596347808837891\n",
      "Found 46 connected triads\n",
      "Time spent classifying triads: 0.0018131732940673828\n",
      "Testing 63 potential triadic pairs\n",
      "Time spent finding triads: 0.0012221336364746094\n",
      "Found 117 connected triads\n",
      "Time spent classifying triads: 0.01077580451965332\n"
     ]
    },
    {
     "name": "stderr",
     "output_type": "stream",
     "text": [
      " 15%|█▍        | 8/55 [00:00<00:02, 16.51it/s]"
     ]
    },
    {
     "name": "stdout",
     "output_type": "stream",
     "text": [
      "Testing 6 potential triadic pairs\n",
      "Time spent finding triads: 0.0008065700531005859\n",
      "Found 6 connected triads\n",
      "Time spent classifying triads: 0.000667572021484375\n",
      "Testing 5 potential triadic pairs\n",
      "Time spent finding triads: 0.0007245540618896484\n",
      "Found 5 connected triads\n",
      "Time spent classifying triads: 0.0002982616424560547\n",
      "Testing 15 potential triadic pairs\n",
      "Time spent finding triads: 0.0008053779602050781\n",
      "Found 11 connected triads\n",
      "Time spent classifying triads: 0.0005114078521728516\n",
      "Testing 17 potential triadic pairs\n",
      "Time spent finding triads: 0.0008647441864013672\n",
      "Found 19 connected triads\n",
      "Time spent classifying triads: 0.0018413066864013672\n"
     ]
    },
    {
     "name": "stderr",
     "output_type": "stream",
     "text": [
      " 22%|██▏       | 12/55 [00:00<00:02, 16.65it/s]"
     ]
    },
    {
     "name": "stdout",
     "output_type": "stream",
     "text": [
      "Testing 2 potential triadic pairs\n",
      "Time spent finding triads: 0.0007717609405517578\n",
      "Found 2 connected triads\n",
      "Time spent classifying triads: 0.0002772808074951172\n",
      "Testing 1 potential triadic pairs\n",
      "Time spent finding triads: 0.0007123947143554688\n",
      "Found 1 connected triads\n",
      "Time spent classifying triads: 0.0001266002655029297\n",
      "Testing 49 potential triadic pairs\n",
      "Time spent finding triads: 0.0010311603546142578\n",
      "Found 66 connected triads\n",
      "Time spent classifying triads: 0.002600431442260742\n",
      "Testing 31 potential triadic pairs\n",
      "Time spent finding triads: 0.0009641647338867188\n",
      "Found 32 connected triads\n",
      "Time spent classifying triads: 0.003025531768798828\n"
     ]
    },
    {
     "name": "stderr",
     "output_type": "stream",
     "text": [
      " 29%|██▉       | 16/55 [00:00<00:02, 16.36it/s]"
     ]
    },
    {
     "name": "stdout",
     "output_type": "stream",
     "text": [
      "Testing 55 potential triadic pairs\n",
      "Time spent finding triads: 0.0011141300201416016\n",
      "Found 78 connected triads\n",
      "Time spent classifying triads: 0.007169008255004883\n",
      "Testing 34 potential triadic pairs\n",
      "Time spent finding triads: 0.0009336471557617188\n",
      "Found 40 connected triads\n",
      "Time spent classifying triads: 0.0016131401062011719\n",
      "Testing 41 potential triadic pairs\n",
      "Time spent finding triads: 0.0009720325469970703\n",
      "Found 50 connected triads\n",
      "Time spent classifying triads: 0.0019609928131103516\n",
      "Testing 0 potential triadic pairs\n",
      "Time spent finding triads: 0.0007541179656982422\n",
      "Found 0 connected triads\n",
      "Time spent classifying triads: 7.414817810058594e-05\n"
     ]
    },
    {
     "name": "stderr",
     "output_type": "stream",
     "text": [
      " 36%|███▋      | 20/55 [00:01<00:02, 16.47it/s]"
     ]
    },
    {
     "name": "stdout",
     "output_type": "stream",
     "text": [
      "Testing 32 potential triadic pairs\n",
      "Time spent finding triads: 0.0009582042694091797\n",
      "Found 37 connected triads\n",
      "Time spent classifying triads: 0.0034606456756591797\n",
      "Testing 41 potential triadic pairs\n",
      "Time spent finding triads: 0.0009846687316894531\n",
      "Found 54 connected triads\n",
      "Time spent classifying triads: 0.0021255016326904297\n",
      "Testing 16 potential triadic pairs\n",
      "Time spent finding triads: 0.0008211135864257812\n",
      "Found 16 connected triads\n",
      "Time spent classifying triads: 0.0007078647613525391\n",
      "Testing 6 potential triadic pairs\n",
      "Time spent finding triads: 0.0007991790771484375\n",
      "Found 6 connected triads\n",
      "Time spent classifying triads: 0.0006663799285888672\n"
     ]
    },
    {
     "name": "stderr",
     "output_type": "stream",
     "text": [
      " 44%|████▎     | 24/55 [00:01<00:01, 16.74it/s]"
     ]
    },
    {
     "name": "stdout",
     "output_type": "stream",
     "text": [
      "Testing 34 potential triadic pairs\n",
      "Time spent finding triads: 0.0009801387786865234\n",
      "Found 40 connected triads\n",
      "Time spent classifying triads: 0.002012014389038086\n",
      "Testing 21 potential triadic pairs\n",
      "Time spent finding triads: 0.0008521080017089844\n",
      "Found 31 connected triads\n",
      "Time spent classifying triads: 0.0012509822845458984\n",
      "Testing 7 potential triadic pairs\n",
      "Time spent finding triads: 0.0007493495941162109\n",
      "Found 7 connected triads\n",
      "Time spent classifying triads: 0.00037384033203125\n",
      "Testing 36 potential triadic pairs\n",
      "Time spent finding triads: 0.0009951591491699219\n",
      "Found 39 connected triads\n",
      "Time spent classifying triads: 0.0036478042602539062\n"
     ]
    },
    {
     "name": "stderr",
     "output_type": "stream",
     "text": [
      " 51%|█████     | 28/55 [00:01<00:01, 16.57it/s]"
     ]
    },
    {
     "name": "stdout",
     "output_type": "stream",
     "text": [
      "Testing 23 potential triadic pairs\n",
      "Time spent finding triads: 0.0008902549743652344\n",
      "Found 23 connected triads\n",
      "Time spent classifying triads: 0.002187013626098633\n",
      "Testing 14 potential triadic pairs\n",
      "Time spent finding triads: 0.0008051395416259766\n",
      "Found 14 connected triads\n",
      "Time spent classifying triads: 0.0006227493286132812\n",
      "Testing 20 potential triadic pairs\n",
      "Time spent finding triads: 0.0008313655853271484\n",
      "Found 18 connected triads\n",
      "Time spent classifying triads: 0.0007791519165039062\n",
      "Testing 40 potential triadic pairs\n",
      "Time spent finding triads: 0.0010180473327636719\n",
      "Found 40 connected triads\n",
      "Time spent classifying triads: 0.0037550926208496094\n"
     ]
    },
    {
     "name": "stderr",
     "output_type": "stream",
     "text": [
      " 58%|█████▊    | 32/55 [00:01<00:01, 16.72it/s]"
     ]
    },
    {
     "name": "stdout",
     "output_type": "stream",
     "text": [
      "Testing 39 potential triadic pairs\n",
      "Time spent finding triads: 0.0009872913360595703\n",
      "Found 37 connected triads\n",
      "Time spent classifying triads: 0.0034723281860351562\n",
      "Testing 56 potential triadic pairs\n",
      "Time spent finding triads: 0.0010797977447509766\n",
      "Found 80 connected triads\n",
      "Time spent classifying triads: 0.0030663013458251953\n",
      "Testing 0 potential triadic pairs\n",
      "Time spent finding triads: 0.0007047653198242188\n",
      "Found 0 connected triads\n",
      "Time spent classifying triads: 6.604194641113281e-05\n",
      "Testing 3 potential triadic pairs\n",
      "Time spent finding triads: 0.0007925033569335938\n",
      "Found 3 connected triads\n",
      "Time spent classifying triads: 0.0003914833068847656\n"
     ]
    },
    {
     "name": "stderr",
     "output_type": "stream",
     "text": [
      " 65%|██████▌   | 36/55 [00:02<00:01, 16.63it/s]"
     ]
    },
    {
     "name": "stdout",
     "output_type": "stream",
     "text": [
      "Testing 12 potential triadic pairs\n",
      "Time spent finding triads: 0.0008306503295898438\n",
      "Found 14 connected triads\n",
      "Time spent classifying triads: 0.0013988018035888672\n",
      "Testing 16 potential triadic pairs\n",
      "Time spent finding triads: 0.0008141994476318359\n",
      "Found 16 connected triads\n",
      "Time spent classifying triads: 0.0006959438323974609\n",
      "Testing 38 potential triadic pairs\n",
      "Time spent finding triads: 0.0009522438049316406\n",
      "Found 39 connected triads\n",
      "Time spent classifying triads: 0.0015559196472167969\n",
      "Testing 34 potential triadic pairs\n",
      "Time spent finding triads: 0.0009846687316894531\n",
      "Found 38 connected triads\n",
      "Time spent classifying triads: 0.003576040267944336\n"
     ]
    },
    {
     "name": "stderr",
     "output_type": "stream",
     "text": [
      " 73%|███████▎  | 40/55 [00:02<00:00, 16.59it/s]"
     ]
    },
    {
     "name": "stdout",
     "output_type": "stream",
     "text": [
      "Testing 7 potential triadic pairs\n",
      "Time spent finding triads: 0.0008099079132080078\n",
      "Found 7 connected triads\n",
      "Time spent classifying triads: 0.0007474422454833984\n",
      "Testing 10 potential triadic pairs\n",
      "Time spent finding triads: 0.0007779598236083984\n",
      "Found 12 connected triads\n",
      "Time spent classifying triads: 0.0005667209625244141\n",
      "Testing 46 potential triadic pairs\n",
      "Time spent finding triads: 0.0010135173797607422\n",
      "Found 59 connected triads\n",
      "Time spent classifying triads: 0.0023193359375\n",
      "Testing 9 potential triadic pairs\n",
      "Time spent finding triads: 0.0008156299591064453\n",
      "Found 9 connected triads\n",
      "Time spent classifying triads: 0.0009465217590332031\n"
     ]
    },
    {
     "name": "stderr",
     "output_type": "stream",
     "text": [
      " 80%|████████  | 44/55 [00:02<00:00, 16.67it/s]"
     ]
    },
    {
     "name": "stdout",
     "output_type": "stream",
     "text": [
      "Testing 4 potential triadic pairs\n",
      "Time spent finding triads: 0.0007760524749755859\n",
      "Found 4 connected triads\n",
      "Time spent classifying triads: 0.00047397613525390625\n",
      "Testing 53 potential triadic pairs\n",
      "Time spent finding triads: 0.0010614395141601562\n",
      "Found 65 connected triads\n",
      "Time spent classifying triads: 0.0025565624237060547\n",
      "Testing 52 potential triadic pairs\n",
      "Time spent finding triads: 0.0010459423065185547\n",
      "Found 71 connected triads\n",
      "Time spent classifying triads: 0.0027284622192382812\n",
      "Testing 11 potential triadic pairs\n",
      "Time spent finding triads: 0.0008594989776611328\n",
      "Found 9 connected triads\n",
      "Time spent classifying triads: 0.0009505748748779297\n"
     ]
    },
    {
     "name": "stderr",
     "output_type": "stream",
     "text": [
      " 87%|████████▋ | 48/55 [00:02<00:00, 16.90it/s]"
     ]
    },
    {
     "name": "stdout",
     "output_type": "stream",
     "text": [
      "Testing 8 potential triadic pairs\n",
      "Time spent finding triads: 0.0008189678192138672\n",
      "Found 8 connected triads\n",
      "Time spent classifying triads: 0.0008463859558105469\n",
      "Testing 17 potential triadic pairs\n",
      "Time spent finding triads: 0.0008301734924316406\n",
      "Found 15 connected triads\n",
      "Time spent classifying triads: 0.0006639957427978516\n",
      "Testing 14 potential triadic pairs\n",
      "Time spent finding triads: 0.0008044242858886719\n",
      "Found 12 connected triads\n",
      "Time spent classifying triads: 0.0005519390106201172\n",
      "Testing 51 potential triadic pairs\n",
      "Time spent finding triads: 0.0010752677917480469\n",
      "Found 69 connected triads\n",
      "Time spent classifying triads: 0.006081342697143555\n"
     ]
    },
    {
     "name": "stderr",
     "output_type": "stream",
     "text": [
      " 95%|█████████▍| 52/55 [00:03<00:00, 16.63it/s]"
     ]
    },
    {
     "name": "stdout",
     "output_type": "stream",
     "text": [
      "Testing 7 potential triadic pairs\n",
      "Time spent finding triads: 0.0008144378662109375\n",
      "Found 7 connected triads\n",
      "Time spent classifying triads: 0.0007460117340087891\n",
      "Testing 39 potential triadic pairs\n",
      "Time spent finding triads: 0.0009608268737792969\n",
      "Found 46 connected triads\n",
      "Time spent classifying triads: 0.0018045902252197266\n",
      "Testing 56 potential triadic pairs\n",
      "Time spent finding triads: 0.0010826587677001953\n",
      "Found 77 connected triads\n",
      "Time spent classifying triads: 0.0029811859130859375\n",
      "Testing 26 potential triadic pairs\n",
      "Time spent finding triads: 0.0009176731109619141\n",
      "Found 24 connected triads\n",
      "Time spent classifying triads: 0.0022995471954345703\n"
     ]
    },
    {
     "name": "stderr",
     "output_type": "stream",
     "text": [
      "100%|██████████| 55/55 [00:03<00:00, 16.56it/s]\n"
     ]
    },
    {
     "name": "stdout",
     "output_type": "stream",
     "text": [
      "Testing 16 potential triadic pairs\n",
      "Time spent finding triads: 0.0008547306060791016\n",
      "Found 14 connected triads\n",
      "Time spent classifying triads: 0.0014050006866455078\n",
      "Testing 46 potential triadic pairs\n",
      "Time spent finding triads: 0.0010044574737548828\n",
      "Found 49 connected triads\n",
      "Time spent classifying triads: 0.001934051513671875\n"
     ]
    },
    {
     "name": "stderr",
     "output_type": "stream",
     "text": [
      "\r",
      "  0%|          | 0/55 [00:00<?, ?it/s]"
     ]
    },
    {
     "name": "stdout",
     "output_type": "stream",
     "text": [
      "Testing 37 potential triadic pairs\n",
      "Time spent finding triads: 0.0012078285217285156\n",
      "Found 41 connected triads\n",
      "Time spent classifying triads: 0.0038602352142333984\n"
     ]
    },
    {
     "name": "stderr",
     "output_type": "stream",
     "text": [
      "  7%|▋         | 4/55 [00:00<00:03, 16.94it/s]"
     ]
    },
    {
     "name": "stdout",
     "output_type": "stream",
     "text": [
      "Testing 28 potential triadic pairs\n",
      "Time spent finding triads: 0.0014088153839111328\n",
      "Found 26 connected triads\n",
      "Time spent classifying triads: 0.002499818801879883\n",
      "Testing 13 potential triadic pairs\n",
      "Time spent finding triads: 0.0007982254028320312\n",
      "Found 15 connected triads\n",
      "Time spent classifying triads: 0.0007724761962890625\n",
      "Testing 4 potential triadic pairs\n",
      "Time spent finding triads: 0.0007407665252685547\n",
      "Found 4 connected triads\n",
      "Time spent classifying triads: 0.0002465248107910156\n",
      "Testing 52 potential triadic pairs\n",
      "Time spent finding triads: 0.0011019706726074219\n",
      "Found 78 connected triads\n",
      "Time spent classifying triads: 0.007226467132568359\n"
     ]
    },
    {
     "name": "stderr",
     "output_type": "stream",
     "text": [
      " 15%|█▍        | 8/55 [00:00<00:02, 16.77it/s]"
     ]
    },
    {
     "name": "stdout",
     "output_type": "stream",
     "text": [
      "Testing 36 potential triadic pairs\n",
      "Time spent finding triads: 0.0009710788726806641\n",
      "Found 36 connected triads\n",
      "Time spent classifying triads: 0.0033991336822509766\n",
      "Testing 55 potential triadic pairs\n",
      "Time spent finding triads: 0.0010867118835449219\n",
      "Found 81 connected triads\n",
      "Time spent classifying triads: 0.0031402111053466797\n",
      "Testing 14 potential triadic pairs\n",
      "Time spent finding triads: 0.0007996559143066406\n",
      "Found 16 connected triads\n",
      "Time spent classifying triads: 0.0007078647613525391\n",
      "Testing 40 potential triadic pairs\n",
      "Time spent finding triads: 0.0010173320770263672\n",
      "Found 52 connected triads\n",
      "Time spent classifying triads: 0.0026733875274658203\n"
     ]
    },
    {
     "name": "stderr",
     "output_type": "stream",
     "text": [
      " 22%|██▏       | 12/55 [00:00<00:02, 16.75it/s]"
     ]
    },
    {
     "name": "stdout",
     "output_type": "stream",
     "text": [
      "Testing 45 potential triadic pairs\n",
      "Time spent finding triads: 0.0010495185852050781\n",
      "Found 59 connected triads\n",
      "Time spent classifying triads: 0.0038263797760009766\n",
      "Testing 51 potential triadic pairs\n",
      "Time spent finding triads: 0.0010478496551513672\n",
      "Found 76 connected triads\n",
      "Time spent classifying triads: 0.002930879592895508\n",
      "Testing 54 potential triadic pairs\n",
      "Time spent finding triads: 0.001039743423461914\n",
      "Found 72 connected triads\n",
      "Time spent classifying triads: 0.0028009414672851562\n",
      "Testing 23 potential triadic pairs\n",
      "Time spent finding triads: 0.0009059906005859375\n",
      "Found 19 connected triads\n",
      "Time spent classifying triads: 0.0018663406372070312\n"
     ]
    },
    {
     "name": "stderr",
     "output_type": "stream",
     "text": [
      " 29%|██▉       | 16/55 [00:00<00:02, 16.70it/s]"
     ]
    },
    {
     "name": "stdout",
     "output_type": "stream",
     "text": [
      "Testing 24 potential triadic pairs\n",
      "Time spent finding triads: 0.0008928775787353516\n",
      "Found 23 connected triads\n",
      "Time spent classifying triads: 0.002227783203125\n",
      "Testing 48 potential triadic pairs\n",
      "Time spent finding triads: 0.0010325908660888672\n",
      "Found 69 connected triads\n",
      "Time spent classifying triads: 0.0026695728302001953\n",
      "Testing 28 potential triadic pairs\n",
      "Time spent finding triads: 0.0008962154388427734\n",
      "Found 26 connected triads\n",
      "Time spent classifying triads: 0.0010712146759033203\n",
      "Testing 22 potential triadic pairs\n",
      "Time spent finding triads: 0.0009019374847412109\n",
      "Found 20 connected triads\n",
      "Time spent classifying triads: 0.001125335693359375\n"
     ]
    },
    {
     "name": "stderr",
     "output_type": "stream",
     "text": [
      " 36%|███▋      | 20/55 [00:01<00:02, 16.77it/s]"
     ]
    },
    {
     "name": "stdout",
     "output_type": "stream",
     "text": [
      "Testing 19 potential triadic pairs\n",
      "Time spent finding triads: 0.0008802413940429688\n",
      "Found 19 connected triads\n",
      "Time spent classifying triads: 0.001851797103881836\n",
      "Testing 51 potential triadic pairs\n",
      "Time spent finding triads: 0.0010433197021484375\n",
      "Found 75 connected triads\n",
      "Time spent classifying triads: 0.002897024154663086\n",
      "Testing 47 potential triadic pairs\n",
      "Time spent finding triads: 0.0010061264038085938\n",
      "Found 57 connected triads\n",
      "Time spent classifying triads: 0.002236604690551758\n",
      "Testing 55 potential triadic pairs\n",
      "Time spent finding triads: 0.001117706298828125\n",
      "Found 82 connected triads\n",
      "Time spent classifying triads: 0.007590532302856445\n"
     ]
    },
    {
     "name": "stderr",
     "output_type": "stream",
     "text": [
      " 44%|████▎     | 24/55 [00:01<00:01, 16.71it/s]"
     ]
    },
    {
     "name": "stdout",
     "output_type": "stream",
     "text": [
      "Testing 14 potential triadic pairs\n",
      "Time spent finding triads: 0.0008504390716552734\n",
      "Found 16 connected triads\n",
      "Time spent classifying triads: 0.0015859603881835938\n",
      "Testing 41 potential triadic pairs\n",
      "Time spent finding triads: 0.00096893310546875\n",
      "Found 49 connected triads\n",
      "Time spent classifying triads: 0.0019466876983642578\n",
      "Testing 1 potential triadic pairs\n",
      "Time spent finding triads: 0.0007307529449462891\n",
      "Found 1 connected triads\n",
      "Time spent classifying triads: 0.00012731552124023438\n",
      "Testing 59 potential triadic pairs\n",
      "Time spent finding triads: 0.0011336803436279297\n",
      "Found 77 connected triads\n",
      "Time spent classifying triads: 0.00714874267578125\n"
     ]
    },
    {
     "name": "stderr",
     "output_type": "stream",
     "text": [
      " 51%|█████     | 28/55 [00:01<00:01, 16.58it/s]"
     ]
    },
    {
     "name": "stdout",
     "output_type": "stream",
     "text": [
      "Testing 14 potential triadic pairs\n",
      "Time spent finding triads: 0.0008642673492431641\n",
      "Found 14 connected triads\n",
      "Time spent classifying triads: 0.0013856887817382812\n",
      "Testing 23 potential triadic pairs\n",
      "Time spent finding triads: 0.0008618831634521484\n",
      "Found 21 connected triads\n",
      "Time spent classifying triads: 0.0008952617645263672\n",
      "Testing 17 potential triadic pairs\n",
      "Time spent finding triads: 0.0008220672607421875\n",
      "Found 15 connected triads\n",
      "Time spent classifying triads: 0.0006678104400634766\n",
      "Testing 53 potential triadic pairs\n",
      "Time spent finding triads: 0.0011072158813476562\n",
      "Found 80 connected triads\n",
      "Time spent classifying triads: 0.007394313812255859\n"
     ]
    },
    {
     "name": "stderr",
     "output_type": "stream",
     "text": [
      " 58%|█████▊    | 32/55 [00:01<00:01, 16.51it/s]"
     ]
    },
    {
     "name": "stdout",
     "output_type": "stream",
     "text": [
      "Testing 11 potential triadic pairs\n",
      "Time spent finding triads: 0.00083160400390625\n",
      "Found 9 connected triads\n",
      "Time spent classifying triads: 0.0009286403656005859\n",
      "Testing 7 potential triadic pairs\n",
      "Time spent finding triads: 0.0007734298706054688\n",
      "Found 5 connected triads\n",
      "Time spent classifying triads: 0.0002987384796142578\n",
      "Testing 24 potential triadic pairs\n",
      "Time spent finding triads: 0.0008618831634521484\n",
      "Found 20 connected triads\n",
      "Time spent classifying triads: 0.0008568763732910156\n",
      "Testing 45 potential triadic pairs\n",
      "Time spent finding triads: 0.0010423660278320312\n",
      "Found 49 connected triads\n",
      "Time spent classifying triads: 0.0045506954193115234\n"
     ]
    },
    {
     "name": "stderr",
     "output_type": "stream",
     "text": [
      " 65%|██████▌   | 36/55 [00:02<00:01, 16.42it/s]"
     ]
    },
    {
     "name": "stdout",
     "output_type": "stream",
     "text": [
      "Testing 7 potential triadic pairs\n",
      "Time spent finding triads: 0.0007853507995605469\n",
      "Found 7 connected triads\n",
      "Time spent classifying triads: 0.0007479190826416016\n",
      "Testing 53 potential triadic pairs\n",
      "Time spent finding triads: 0.0010383129119873047\n",
      "Found 63 connected triads\n",
      "Time spent classifying triads: 0.002440929412841797\n",
      "Testing 50 potential triadic pairs\n",
      "Time spent finding triads: 0.0010440349578857422\n",
      "Found 66 connected triads\n",
      "Time spent classifying triads: 0.002561330795288086\n",
      "Testing 17 potential triadic pairs\n",
      "Time spent finding triads: 0.0008676052093505859\n",
      "Found 15 connected triads\n",
      "Time spent classifying triads: 0.0014836788177490234\n"
     ]
    },
    {
     "name": "stderr",
     "output_type": "stream",
     "text": [
      " 73%|███████▎  | 40/55 [00:02<00:00, 16.78it/s]"
     ]
    },
    {
     "name": "stdout",
     "output_type": "stream",
     "text": [
      "Testing 45 potential triadic pairs\n",
      "Time spent finding triads: 0.0010237693786621094\n",
      "Found 51 connected triads\n",
      "Time spent classifying triads: 0.004787921905517578\n",
      "Testing 19 potential triadic pairs\n",
      "Time spent finding triads: 0.0008368492126464844\n",
      "Found 17 connected triads\n",
      "Time spent classifying triads: 0.0007433891296386719\n",
      "Testing 49 potential triadic pairs\n",
      "Time spent finding triads: 0.0010378360748291016\n",
      "Found 64 connected triads\n",
      "Time spent classifying triads: 0.0024824142456054688\n",
      "Testing 8 potential triadic pairs\n",
      "Time spent finding triads: 0.0008165836334228516\n",
      "Found 8 connected triads\n",
      "Time spent classifying triads: 0.0008428096771240234\n"
     ]
    },
    {
     "name": "stderr",
     "output_type": "stream",
     "text": [
      " 80%|████████  | 44/55 [00:02<00:00, 17.02it/s]"
     ]
    },
    {
     "name": "stdout",
     "output_type": "stream",
     "text": [
      "Testing 33 potential triadic pairs\n",
      "Time spent finding triads: 0.0009753704071044922\n",
      "Found 37 connected triads\n",
      "Time spent classifying triads: 0.003477811813354492\n",
      "Testing 28 potential triadic pairs\n",
      "Time spent finding triads: 0.0008983612060546875\n",
      "Found 30 connected triads\n",
      "Time spent classifying triads: 0.001233816146850586\n",
      "Testing 25 potential triadic pairs\n",
      "Time spent finding triads: 0.0008654594421386719\n",
      "Found 34 connected triads\n",
      "Time spent classifying triads: 0.0013973712921142578\n",
      "Testing 49 potential triadic pairs\n",
      "Time spent finding triads: 0.0010802745819091797\n",
      "Found 73 connected triads\n",
      "Time spent classifying triads: 0.006738185882568359\n"
     ]
    },
    {
     "name": "stderr",
     "output_type": "stream",
     "text": [
      " 87%|████████▋ | 48/55 [00:02<00:00, 17.11it/s]"
     ]
    },
    {
     "name": "stdout",
     "output_type": "stream",
     "text": [
      "Testing 6 potential triadic pairs\n",
      "Time spent finding triads: 0.0007932186126708984\n",
      "Found 8 connected triads\n",
      "Time spent classifying triads: 0.0008416175842285156\n",
      "Testing 6 potential triadic pairs\n",
      "Time spent finding triads: 0.0007510185241699219\n",
      "Found 6 connected triads\n",
      "Time spent classifying triads: 0.00032806396484375\n",
      "Testing 46 potential triadic pairs\n",
      "Time spent finding triads: 0.0010037422180175781\n",
      "Found 54 connected triads\n",
      "Time spent classifying triads: 0.002129077911376953\n",
      "Testing 23 potential triadic pairs\n",
      "Time spent finding triads: 0.0009136199951171875\n",
      "Found 21 connected triads\n",
      "Time spent classifying triads: 0.002020597457885742\n"
     ]
    },
    {
     "name": "stderr",
     "output_type": "stream",
     "text": [
      " 95%|█████████▍| 52/55 [00:03<00:00, 16.78it/s]"
     ]
    },
    {
     "name": "stdout",
     "output_type": "stream",
     "text": [
      "Testing 49 potential triadic pairs\n",
      "Time spent finding triads: 0.0010781288146972656\n",
      "Found 66 connected triads\n",
      "Time spent classifying triads: 0.0061304569244384766\n",
      "Testing 66 potential triadic pairs\n",
      "Time spent finding triads: 0.0011475086212158203\n",
      "Found 99 connected triads\n",
      "Time spent classifying triads: 0.003799915313720703\n",
      "Testing 24 potential triadic pairs\n",
      "Time spent finding triads: 0.0008559226989746094\n",
      "Found 24 connected triads\n",
      "Time spent classifying triads: 0.00099945068359375\n",
      "Testing 13 potential triadic pairs\n",
      "Time spent finding triads: 0.0008525848388671875\n",
      "Found 13 connected triads\n",
      "Time spent classifying triads: 0.0012879371643066406\n"
     ]
    },
    {
     "name": "stderr",
     "output_type": "stream",
     "text": [
      "100%|██████████| 55/55 [00:03<00:00, 16.67it/s]\n"
     ]
    },
    {
     "name": "stdout",
     "output_type": "stream",
     "text": [
      "Testing 8 potential triadic pairs\n",
      "Time spent finding triads: 0.0007987022399902344\n",
      "Found 10 connected triads\n",
      "Time spent classifying triads: 0.0010187625885009766\n",
      "Testing 1 potential triadic pairs\n",
      "Time spent finding triads: 0.0007071495056152344\n",
      "Found 1 connected triads\n",
      "Time spent classifying triads: 0.00013327598571777344\n"
     ]
    }
   ],
   "source": [
    "def patch_result_to_con_probs(deltas):\n",
    "    deltas = deltas[(deltas != 0).any(axis=1)]\n",
    "\n",
    "    tst = deltas.reset_index().groupby(\"subvolume\")[\"level_1\"].value_counts().unstack(\"level_1\")\n",
    "    tst[\"connected\"] = tst[\"reciprocal\"] + tst[\"unidirectional\"]\n",
    "    tst[\"reciprocal_pairs\"] = tst[\"reciprocal\"] / 2 # Because the original analysis counts rc pairs twice, once for each direction\n",
    "    tst[\"sorted_pairs\"] = tst[\"connected\"] + tst[\"unconnected\"]\n",
    "    tst[\"pairs\"] = tst[\"sorted_pairs\"] / 2\n",
    "\n",
    "    count_srt = int(tst[\"sorted_pairs\"][0]) # All samplings have the same number. Just using the first.\n",
    "    count_unsrt = int(tst[\"pairs\"][0])\n",
    "    \n",
    "    return tst, count_srt, count_unsrt\n",
    "\n",
    "campaign_cfg = {\n",
    "    \"decomposition_plane\": [\"x\", \"z\"], # What are the horizontal axes of the volume?Decomposition will happen in this plane.\n",
    "    \"decomposition_sz\": 250,\n",
    "    \"min_column_sz\": 500, # After decomposition, columns smaller than this will be discarded,\n",
    "    \"mv_cv\": [[145**2, 0], [0, 150**2]], # Describes the patch sampling spatial dimensions. 40 ** 2 will sample neuron pairs up to ~100 um.\n",
    "    \"patch_kwargs\": {\n",
    "        \"slice_thickness\": 200,\n",
    "        \"n_samples\": 55, # The number of times the patch sampling procedure will be applied\n",
    "        \"n_patch\": 12 # Up to this number of neurons will be sampled together\n",
    "    }\n",
    "}\n",
    "\n",
    "df_Ps = []; counts_srt = []; counts_unsrt = []\n",
    "for k, M in Ms.items():\n",
    "    counts, deltas, P = execute_slice_and_patch_campaign(M, campaign_cfg)\n",
    "    df_P, c_srt, c_un = patch_result_to_con_probs(deltas)\n",
    "    df_Ps.append((k, df_P)); counts_srt.append((k, c_srt)); counts_unsrt.append((k, c_un))\n",
    "df_Ps = dict(df_Ps); counts_srt = dict(counts_srt); counts_unsrt = dict(counts_unsrt)"
   ]
  },
  {
   "cell_type": "markdown",
   "id": "4c02311c",
   "metadata": {},
   "source": [
    "Total reciprocal over-/under-expression without sampling"
   ]
  },
  {
   "cell_type": "code",
   "execution_count": 23,
   "id": "7eb10170",
   "metadata": {},
   "outputs": [
    {
     "data": {
      "image/png": "[encoded data removed]",
      "text/plain": [
       "<Figure size 850x400 with 1 Axes>"
      ]
     },
     "metadata": {},
     "output_type": "display_data"
    }
   ],
   "source": [
    "fig = plt.figure(figsize=(1.5 * len(df_Ps) + 1, 4))\n",
    "i = 1\n",
    "xticks = []; xticklbls = []; ttls = []\n",
    "for k, df_P in df_Ps.items():\n",
    "    ax = fig.gca()\n",
    "\n",
    "    x = 0.5 * (numpy.random.rand(len(df_P)) - 0.5) + 0 + i\n",
    "    y = df_P[\"connected\"].sum() / df_P[\"sorted_pairs\"].sum()\n",
    "    mn = int(df_P[\"connected\"].mean()); sd = int(df_P[\"connected\"].std())\n",
    "    ax.bar(i, y, color=\"black\")\n",
    "    ax.plot(x, df_P[\"connected\"] / df_P[\"sorted_pairs\"], marker='.', color=\"grey\", ls=\"None\")\n",
    "    ax.text(i + 0.25, y + 0.01, \"{0}+-{1}/{2}\".format(mn, sd, count))\n",
    "\n",
    "    x = 0.5 * (numpy.random.rand(len(df_P)) - 0.5) + 1 + i\n",
    "    y = df_P[\"reciprocal_pairs\"].sum() / df_P[\"pairs\"].sum()\n",
    "    mn = int(df_P[\"reciprocal_pairs\"].mean()); sd = int(df_P[\"reciprocal_pairs\"].std())\n",
    "    ax.bar(i + 1, y, color=\"orange\")\n",
    "    ax.plot(x, df_P[\"reciprocal_pairs\"] / df_P[\"pairs\"], marker='.', color=\"red\", ls=\"None\")\n",
    "    ax.text(i + 1.25, y + 0.01, \"{0}+-{1}/{2}\".format(mn, sd, count_b))\n",
    "\n",
    "    x = 0.5 * (numpy.random.rand(len(df_P)) - 0.5) + 2 + i\n",
    "    y = (df_P[\"connected\"].sum() / df_P[\"sorted_pairs\"].sum()) ** 2\n",
    "    smpls = df_P[\"pairs\"] * (df_P[\"connected\"] / df_P[\"sorted_pairs\"]) ** 2\n",
    "    mn = int(smpls.mean()); sd = int(smpls.std())\n",
    "    ax.bar(i + 2, y, color=\"grey\")\n",
    "    ax.plot(x, (df_P[\"connected\"] / df_P[\"sorted_pairs\"]) ** 2, marker='.', color=\"black\", ls=\"None\")\n",
    "    # ax.text(2.25, y + 0.01, \"{0}+-{1}/{2}\".format(mn, sd, count_b))\n",
    "    \n",
    "    xticks.extend([i, i + 1, i + 2])\n",
    "    xticklbls.extend([\"unidirectional\", \"reciprocal\", \"reciprocal ER\"])\n",
    "    ttls.append(k)\n",
    "    i = i + 4\n",
    "\n",
    "ax.set_xticks(xticks); ax.set_xticklabels(xticklbls, rotation=45)\n",
    "ax.set_frame_on(False)\n",
    "ax.set_ylabel(\"Connection probability\")\n",
    "ax.set_xlim(ax.get_xlim())\n",
    "ax.plot(ax.get_xlim(), [0.16, 0.16], color=\"grey\", ls=\"--\")\n",
    "\n",
    "ymx = ax.get_ylim()[1]\n",
    "for _ttl, _x in zip(ttls, xticks[1::3]):\n",
    "    ax.text(_x, ymx, _ttl, horizontalalignment=\"center\", verticalalignment=\"top\")"
   ]
  },
  {
   "cell_type": "markdown",
   "id": "16fc6131",
   "metadata": {},
   "source": [
    "### Part IIa: Reciprocal connectivity at different scales"
   ]
  },
  {
   "cell_type": "markdown",
   "id": "9baa9e79",
   "metadata": {},
   "source": [
    "Systematic sampling at different scales"
   ]
  },
  {
   "cell_type": "code",
   "execution_count": null,
   "id": "02f2a980",
   "metadata": {
    "scrolled": true
   },
   "outputs": [],
   "source": [
    "szs = [40, 80, 120, 160, 200, 240, 280, 320, 360, 400]\n",
    "all_counts = []\n",
    "all_P = []\n",
    "for sz_arg in szs:\n",
    "    campaign_cfg = {\n",
    "        \"mv_cv\": [[sz_arg**2, 0], [0, sz_arg**2]], # Describes the patch sampling spatial dimensions. 40 ** 2 will sample neuron pairs up to ~100 um.\n",
    "        \"patch_kwargs\": {\n",
    "            \"slice_thickness\": sz_arg * 2.5,\n",
    "            \"n_samples\": 200, # The number of times the patch sampling procedure will be applied\n",
    "            \"n_patch\": 12 # Up to this number of neurons will be sampled together\n",
    "        }\n",
    "    }\n",
    "\n",
    "    counts, deltas, P = execute_slice_and_patch_campaign(M, campaign_cfg)\n",
    "    all_counts.append(counts)\n",
    "    all_P.append(P)\n",
    "    \n",
    "all_counts = pandas.concat(all_counts, axis=0, keys=szs, names=[\"scale\"])\n",
    "all_P = pandas.concat(all_P, axis=0, keys=szs, names=[\"scale\"])  "
   ]
  },
  {
   "cell_type": "code",
   "execution_count": 30,
   "id": "dc6288af",
   "metadata": {},
   "outputs": [],
   "source": [
    "P_uni_ttl = M.matrix.nnz / (len(M) * (len(M) - 1))\n",
    "P_rec_ttl = M.to_reciprocal().matrix.nnz / (len(M) * (len(M) - 1))"
   ]
  },
  {
   "cell_type": "code",
   "execution_count": null,
   "id": "5ab66952",
   "metadata": {},
   "outputs": [],
   "source": [
    "deltas[\"horizontal\"] = numpy.abs(deltas[\"horizontal\"])\n",
    "deltas = deltas[numpy.any(deltas != 0, axis=1)]\n",
    "\n",
    "hbins = numpy.arange(0, 300, 75)\n",
    "hbinc = 0.5 * (hbins[:-1] + hbins[1:])\n",
    "vbins = numpy.arange(-225, 300, 75)\n",
    "vbinc = 0.5 * (vbins[:-1] + vbins[1:])\n",
    "deltas[\"hbins\"] = numpy.digitize(deltas[\"horizontal\"], bins=hbins[:-1]) - 1\n",
    "deltas[\"vbins\"] = numpy.digitize(deltas[\"vertical\"], bins=vbins[:-1]) - 1\n",
    "\n",
    "\n",
    "\n",
    "fig = plt.figure(figsize=(3.5, 6.))\n",
    "ax_c = fig.add_axes([0.1, 0.1, 0.6, 0.6])\n",
    "ax_t = fig.add_axes([0.1, 0.8, 0.6, 0.15])\n",
    "ax_r = fig.add_axes([0.85, 0.1, 0.15, 0.6])\n",
    "\n",
    "tst = deltas.reset_index().groupby(\"hbins\")[\"level_1\"].value_counts().unstack(\"level_1\", fill_value=0)\n",
    "tst[\"pairs\"] = tst.sum(axis=1)\n",
    "ax_t.plot(hbinc[tst.index], 100 * tst[\"reciprocal\"] / tst[\"pairs\"], color=\"red\")\n",
    "ax_t.plot(hbinc[tst.index], 100 * (tst[\"reciprocal\"] + tst[\"unidirectional\"]) / tst[\"pairs\"], color=\"blue\")\n",
    "ax_t.set_xlabel(\"Horizontal dist. (um)\")\n",
    "ax_t.set_ylabel(\"Connection prob. (%)\")\n",
    "ax_t.set_frame_on(False)\n",
    "\n",
    "tst = deltas.reset_index().groupby(\"vbins\")[\"level_1\"].value_counts().unstack(\"level_1\", fill_value=0).drop(-1)\n",
    "tst[\"pairs\"] = tst.sum(axis=1)\n",
    "ax_r.plot(100 * tst[\"reciprocal\"] / tst[\"pairs\"], vbinc[tst.index], color=\"red\")\n",
    "ax_r.plot(100 * (tst[\"reciprocal\"] + tst[\"unidirectional\"]) / tst[\"pairs\"], vbinc[tst.index], color=\"blue\")\n",
    "ax_r.set_ylabel(\"Vert. offset (um)\")\n",
    "ax_r.set_xlabel(\"Connection prob. (%)\")\n",
    "ax_r.set_frame_on(False)\n",
    "\n",
    "tst = deltas.reset_index().groupby([\"hbins\", \"vbins\"])[\"level_1\"].value_counts().unstack(\"level_1\", fill_value=0)\n",
    "tst[\"pairs\"] = tst.sum(axis=1)\n",
    "\n",
    "tstP = (tst[\"reciprocal\"] + tst[\"unidirectional\"]) / tst[\"pairs\"]\n",
    "\n",
    "ax_c.imshow(tstP.unstack(\"hbins\").drop(-1), cmap=\"Blues\", clim=[-0.05, 0.4],\n",
    "           extent=[hbins[0], hbins[-1], vbins[-1], vbins[0]])\n",
    "ax_c.set_ylim(sorted(ax_c.set_ylim()))\n",
    "ax_c.set_xticks([]); ax_c.set_yticks([]); ax_c.set_frame_on(False)\n",
    "\n",
    "for hb, hv in enumerate(hbinc):\n",
    "    for vb, vv in enumerate(vbinc):\n",
    "        v = tstP[(hb, vb)]\n",
    "        ax_c.text(hv, vv, \"{0}%\".format(int(numpy.round(100 * v))),\n",
    "                 verticalalignment=\"center\", horizontalalignment=\"center\")"
   ]
  },
  {
   "cell_type": "markdown",
   "id": "9ba7e430",
   "metadata": {},
   "source": [
    "#### Show that distance matters\n",
    "Second panel shows that when sampling at higher distances the reciprocity increases.\n",
    "\n",
    "Black arrow indicates where a Peng et al.-like sampling is found"
   ]
  },
  {
   "cell_type": "code",
   "execution_count": null,
   "id": "2c10eb4c",
   "metadata": {},
   "outputs": [],
   "source": [
    "fig = plt.figure(figsize=(3, 2.0))\n",
    "ax = fig.gca()\n",
    "\n",
    "x = all_P.index.to_frame()[\"scale\"].values\n",
    "x_extra = x[-1] + 1.5 * numpy.mean(numpy.diff(x))\n",
    "ax.bar(x, all_P['reciprocal'] / (all_P['unidirectional'] ** 2), width=35)\n",
    "ax.bar(x_extra, P_rec_ttl / (P_uni_ttl ** 2), width=35, color=\"red\")\n",
    "ax.set_xlim(ax.get_xlim())\n",
    "ax.plot(ax.get_xlim(), [1, 1], color=\"grey\", ls=\"--\")\n",
    "ax.quiver([130], [4], [0], [-2])\n",
    "ticks = x[::4]\n",
    "ax.set_xticks(list(ticks) + [x_extra])\n",
    "ax.set_xticklabels(list(ticks) + [\"total\"])\n",
    "ax.set_xlabel(\"Sampling scale (um)\")\n",
    "ax.set_ylabel(\"Reciprocal overexpression\")\n",
    "ax.set_frame_on(False)"
   ]
  },
  {
   "cell_type": "markdown",
   "id": "8e34adcc",
   "metadata": {},
   "source": [
    "#### Part IIa: Triad motifs at different scales"
   ]
  },
  {
   "cell_type": "code",
   "execution_count": null,
   "id": "2d6e5411",
   "metadata": {},
   "outputs": [],
   "source": [
    "from matplotlib import cm\n",
    "fig = plt.figure(figsize=(5, 2.75))\n",
    "ax = fig.add_axes([0.025, 0.025, 0.8, 0.9])\n",
    "\n",
    "lvls = all_counts.index.levels[0]\n",
    "cols = cm.copper(numpy.linspace(0, 1, len(lvls)))\n",
    "\n",
    "for lvl, col in zip(lvls, cols):\n",
    "    x = all_counts.columns + 0.4 * (numpy.random.rand(len(all_counts.columns)) - 0.5)\n",
    "    ax.plot(x, all_counts.loc[lvl].mean(), color=col, ls=\"None\", marker='o', ms=3)\n",
    "    ax.plot([0, 13], [0, 0], color=\"grey\", lw=0.5)\n",
    "ax.set_frame_on(False)\n",
    "ax.set_xlabel(\"Triad #\")\n",
    "ax.set_ylabel(\"Z-score\")\n",
    "\n",
    "ax = fig.add_axes([0.85, 0.15, 0.035, 0.6])\n",
    "c = cols.reshape((-1, 1, 4))\n",
    "ax.imshow(c)\n",
    "ax.set_xticks([]); ax.yaxis.tick_right()\n",
    "ticks = numpy.arange(0, len(lvls), 3)\n",
    "ax.set_yticks(ticks)\n",
    "ax.set_yticklabels(lvls.values[ticks])\n",
    "ax.set_ylabel(\"Sampling scale(um)\")"
   ]
  }
 ],
 "metadata": {
  "kernelspec": {
   "display_name": "bluepysnap",
   "language": "python",
   "name": "bluepysnap"
  },
  "language_info": {
   "codemirror_mode": {
    "name": "ipython",
    "version": 3
   },
   "file_extension": ".py",
   "mimetype": "text/x-python",
   "name": "python",
   "nbconvert_exporter": "python",
   "pygments_lexer": "ipython3",
   "version": "3.10.8"
  }
 },
 "nbformat": 4,
 "nbformat_minor": 5
}
