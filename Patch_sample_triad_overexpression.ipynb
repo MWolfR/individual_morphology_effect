{
 "cells": [
  {
   "cell_type": "code",
   "execution_count": 1,
   "id": "8da81fd5",
   "metadata": {},
   "outputs": [],
   "source": [
    "import numpy, pandas\n",
    "import conntility\n",
    "import os\n",
    "import connalysis\n",
    "import tqdm\n",
    "\n",
    "from scipy.spatial import distance\n",
    "from matplotlib import pyplot as plt\n"
   ]
  },
  {
   "cell_type": "code",
   "execution_count": 2,
   "id": "a82f3159",
   "metadata": {},
   "outputs": [],
   "source": [
    "# Connectivity matrix to use\n",
    "fn_mat = \"/gpfs/bbp.cscs.ch/project/proj159/home/barros/conn_matrix/Human_960um_squared_funct_conmat_filtered_compressed.h5\"\n",
    "# Volume will be decomposed into volumes of this size\n",
    "decomposition_sz = 200\n",
    "# What are the horizontal axes of the volume? Decomposition will happen in this plane.\n",
    "decomposition_plane = [\"x\", \"z\"]\n",
    "# After decomposition, columns smaller than this will be discarded\n",
    "min_column_sz = 500\n",
    "\n",
    "# Describes the patch sampling spatial dimensions. 40 ** 2 will sample neuron pairs up to ~100 um.\n",
    "mv_cv = numpy.array([[40**2, 0], [0, 40**2]]) \n",
    "# Up to this number of neurons will be sampled together\n",
    "n_patch = 12\n",
    "# The number of times the patch sampling procedure will be applied\n",
    "# I.e. the number of sampled pairs will be <= n_patch * (n_patch - 1) * n_samples\n",
    "n_samples = 25\n",
    "\n",
    "M = conntility.ConnectivityMatrix.from_h5(fn_mat)"
   ]
  },
  {
   "cell_type": "code",
   "execution_count": 3,
   "id": "21cc7086",
   "metadata": {},
   "outputs": [],
   "source": [
    "grps = conntility.circuit_models.neuron_groups.group_by_grid(M.vertices, decomposition_plane, decomposition_sz)\n",
    "grps = grps.groupby(\"grid-subtarget\")[\"node_ids\"].apply(list)\n",
    "\n",
    "Ms = []\n",
    "for grp in grps:\n",
    "    m = M.subpopulation(grp)\n",
    "    if len(m) > min_column_sz:\n",
    "        Ms.append(m)"
   ]
  },
  {
   "cell_type": "markdown",
   "id": "1c8fa1b3",
   "metadata": {},
   "source": [
    "Functions to patch sample and evaluate triads"
   ]
  },
  {
   "cell_type": "code",
   "execution_count": 4,
   "id": "b87ee06a",
   "metadata": {},
   "outputs": [
    {
     "data": {
      "text/plain": [
       "array([251.7563175 , 125.87815875, 125.87815875, 107.89556464,\n",
       "       107.89556464, 107.89556464,  35.96518821,  23.12047814,\n",
       "        46.24095628,  23.12047814,  23.12047814,  19.81755269,\n",
       "         1.41553948])"
      ]
     },
     "execution_count": 4,
     "metadata": {},
     "output_type": "execute_result"
    }
   ],
   "source": [
    "P = 0.3\n",
    "N = 1000\n",
    "from connalysis.network.topology import triad_combinations\n",
    "from scipy.stats import binom\n",
    "\n",
    "num_edge_per_triad = numpy.array([2, 2, 2, 3, 3, 3, 3, 4, 4 ,4 ,4, 5, 6])\n",
    "num_edge_per_non_triad = numpy.array([0, 1, 2])\n",
    "non_triad_combinations = numpy.array([1, 6, 3])\n",
    "\n",
    "p_er = triad_combinations * (P ** num_edge_per_triad) * ((1 - P) ** (6 - num_edge_per_triad))\n",
    "p_er_non = non_triad_combinations * (P ** num_edge_per_non_triad) * ((1 - P) ** (6 - num_edge_per_non_triad))\n",
    "assert numpy.abs(1 - (p_er.sum() + p_er_non.sum())) < 1E-6\n",
    "\n",
    "n_expected = N * (p_er / p_er.sum())\n",
    "binom(N, (p_er / p_er.sum())).mean()"
   ]
  },
  {
   "cell_type": "code",
   "execution_count": 5,
   "id": "0b1f99cb",
   "metadata": {},
   "outputs": [],
   "source": [
    "col_slc = [\"slice_x\", \"slice_y\"]\n",
    "\n",
    "def number_expected_er(P, N):\n",
    "    from connalysis.network.topology import triad_combinations\n",
    "    from scipy.stats import binom\n",
    "    num_edge_per_triad = numpy.array([2, 2, 2, 3, 3, 3, 3, 4, 4 ,4 ,4, 5, 6])\n",
    "    num_edge_per_non_triad = numpy.array([0, 1, 2])\n",
    "    non_triad_combinations = numpy.array([1, 6, 3])\n",
    "\n",
    "    p_er = triad_combinations * (P ** num_edge_per_triad) * ((1 - P) ** (6 - num_edge_per_triad))\n",
    "    p_er_non = non_triad_combinations * (P ** num_edge_per_non_triad) * ((1 - P) ** (6 - num_edge_per_non_triad))\n",
    "    assert numpy.abs(1 - (p_er.sum() + p_er_non.sum())) < 1E-6\n",
    "\n",
    "    distr_er = binom(N, (p_er / p_er.sum()))\n",
    "    return distr_er.mean(), distr_er.std()\n",
    "\n",
    "def sample_and_count_triads(m, mv_cv, n_patch=12, n_samples=25):\n",
    "    counts = []\n",
    "    sum_pairs = 0\n",
    "    sum_connected = 0\n",
    "    delta_rec = []\n",
    "    delta_con = []\n",
    "    delta_unc = []\n",
    "    for _ in tqdm.tqdm(range(n_samples)):\n",
    "        try:\n",
    "            s = m.slice(numpy.random.rand() * numpy.pi, (numpy.random.rand() - 0.5) * 50, 150)\n",
    "            s = s.patch_sample(n_patch, [0, 0], mv_cv, columns_xy=[\"slice_x\", \"slice_y\"])\n",
    "            sum_pairs += (len(s) * (len(s) - 1))\n",
    "            sum_connected += s.matrix.nnz\n",
    "            counts.append(connalysis.network.topology.count_triads_fully_connected(s.matrix > 0, return_normalized=False))\n",
    "            D = s.vertices[col_slc].values.reshape((-1, 1, 2)) - s.vertices[col_slc].values.reshape((1, -1, 2))\n",
    "            delta_rec.append(D[(s.array > 0) & (s.array.transpose() > 0)])\n",
    "            delta_con.append(D[(s.array > 0) & (s.array.transpose() == 0)])\n",
    "            delta_unc.append(D[(s.array == 0)])\n",
    "        except:\n",
    "            pass\n",
    "    P = sum_connected / sum_pairs\n",
    "    deltas = {\"reciprocal\": delta_rec, \"connected\": delta_con, \"unconnected\": delta_unc}\n",
    "    counts = numpy.vstack(counts).sum(axis=0)\n",
    "    return counts, P, deltas\n"
   ]
  },
  {
   "cell_type": "markdown",
   "id": "dc959d8c",
   "metadata": {},
   "source": [
    "EXECUTE!"
   ]
  },
  {
   "cell_type": "code",
   "execution_count": 6,
   "id": "e8f37298",
   "metadata": {},
   "outputs": [
    {
     "name": "stderr",
     "output_type": "stream",
     "text": [
      " 24%|██▍       | 6/25 [00:00<00:00, 24.47it/s]"
     ]
    },
    {
     "name": "stdout",
     "output_type": "stream",
     "text": [
      "Testing 66 potential triadic pairs\n",
      "Time spent finding triads: 0.001482248306274414\n",
      "Found 161 connected triads\n",
      "Time spent classifying triads: 0.014796018600463867\n",
      "Testing 66 potential triadic pairs\n",
      "Time spent finding triads: 0.001314401626586914\n",
      "Found 173 connected triads\n",
      "Time spent classifying triads: 0.0066375732421875\n",
      "Testing 66 potential triadic pairs\n",
      "Time spent finding triads: 0.0012564659118652344\n",
      "Found 147 connected triads\n",
      "Time spent classifying triads: 0.005670070648193359\n",
      "Testing 66 potential triadic pairs\n",
      "Time spent finding triads: 0.0012543201446533203\n",
      "Found 165 connected triads\n",
      "Time spent classifying triads: 0.006339550018310547\n",
      "Testing 64 potential triadic pairs\n",
      "Time spent finding triads: 0.0011739730834960938\n",
      "Found 113 connected triads\n",
      "Time spent classifying triads: 0.004518985748291016\n",
      "Testing 66 potential triadic pairs\n",
      "Time spent finding triads: 0.0013692378997802734\n",
      "Found 198 connected triads\n",
      "Time spent classifying triads: 0.0075473785400390625\n"
     ]
    },
    {
     "name": "stderr",
     "output_type": "stream",
     "text": [
      " 48%|████▊     | 12/25 [00:00<00:00, 24.71it/s]"
     ]
    },
    {
     "name": "stdout",
     "output_type": "stream",
     "text": [
      "Testing 66 potential triadic pairs\n",
      "Time spent finding triads: 0.0013251304626464844\n",
      "Found 169 connected triads\n",
      "Time spent classifying triads: 0.013069629669189453\n",
      "Testing 66 potential triadic pairs\n",
      "Time spent finding triads: 0.0013341903686523438\n",
      "Found 187 connected triads\n",
      "Time spent classifying triads: 0.007151603698730469\n",
      "Testing 66 potential triadic pairs\n",
      "Time spent finding triads: 0.0013256072998046875\n",
      "Found 185 connected triads\n",
      "Time spent classifying triads: 0.0070302486419677734\n",
      "Testing 66 potential triadic pairs\n",
      "Time spent finding triads: 0.0013263225555419922\n",
      "Found 185 connected triads\n",
      "Time spent classifying triads: 0.006996870040893555\n",
      "Testing 66 potential triadic pairs\n",
      "Time spent finding triads: 0.001256704330444336\n",
      "Found 152 connected triads\n",
      "Time spent classifying triads: 0.006273031234741211\n",
      "Testing 65 potential triadic pairs\n",
      "Time spent finding triads: 0.0011951923370361328\n",
      "Found 130 connected triads\n",
      "Time spent classifying triads: 0.0049686431884765625\n"
     ]
    },
    {
     "name": "stderr",
     "output_type": "stream",
     "text": [
      " 72%|███████▏  | 18/25 [00:00<00:00, 25.00it/s]"
     ]
    },
    {
     "name": "stdout",
     "output_type": "stream",
     "text": [
      "Testing 65 potential triadic pairs\n",
      "Time spent finding triads: 0.001283884048461914\n",
      "Found 153 connected triads\n",
      "Time spent classifying triads: 0.010906219482421875\n",
      "Testing 66 potential triadic pairs\n",
      "Time spent finding triads: 0.0012884140014648438\n",
      "Found 167 connected triads\n",
      "Time spent classifying triads: 0.00639653205871582\n",
      "Testing 66 potential triadic pairs\n",
      "Time spent finding triads: 0.0013179779052734375\n",
      "Found 190 connected triads\n",
      "Time spent classifying triads: 0.0072591304779052734\n",
      "Testing 66 potential triadic pairs\n",
      "Time spent finding triads: 0.0012469291687011719\n",
      "Found 165 connected triads\n",
      "Time spent classifying triads: 0.006310939788818359\n",
      "Testing 65 potential triadic pairs\n",
      "Time spent finding triads: 0.0012929439544677734\n",
      "Found 162 connected triads\n",
      "Time spent classifying triads: 0.006193399429321289\n",
      "Testing 66 potential triadic pairs\n",
      "Time spent finding triads: 0.001287221908569336\n",
      "Found 184 connected triads\n",
      "Time spent classifying triads: 0.007013082504272461\n"
     ]
    },
    {
     "name": "stderr",
     "output_type": "stream",
     "text": [
      " 96%|█████████▌| 24/25 [00:00<00:00, 25.26it/s]"
     ]
    },
    {
     "name": "stdout",
     "output_type": "stream",
     "text": [
      "Testing 65 potential triadic pairs\n",
      "Time spent finding triads: 0.0012907981872558594\n",
      "Found 153 connected triads\n",
      "Time spent classifying triads: 0.013986825942993164\n",
      "Testing 66 potential triadic pairs\n",
      "Time spent finding triads: 0.0011980533599853516\n",
      "Found 129 connected triads\n",
      "Time spent classifying triads: 0.004953145980834961\n",
      "Testing 66 potential triadic pairs\n",
      "Time spent finding triads: 0.0013039112091064453\n",
      "Found 176 connected triads\n",
      "Time spent classifying triads: 0.006699323654174805\n",
      "Testing 66 potential triadic pairs\n",
      "Time spent finding triads: 0.0013098716735839844\n",
      "Found 180 connected triads\n",
      "Time spent classifying triads: 0.0068967342376708984\n",
      "Testing 63 potential triadic pairs\n",
      "Time spent finding triads: 0.0011856555938720703\n",
      "Found 124 connected triads\n",
      "Time spent classifying triads: 0.0047054290771484375\n",
      "Testing 66 potential triadic pairs\n",
      "Time spent finding triads: 0.0012145042419433594\n",
      "Found 138 connected triads\n",
      "Time spent classifying triads: 0.005257606506347656\n"
     ]
    },
    {
     "name": "stderr",
     "output_type": "stream",
     "text": [
      "100%|██████████| 25/25 [00:01<00:00, 24.67it/s]\n"
     ]
    },
    {
     "name": "stdout",
     "output_type": "stream",
     "text": [
      "Testing 59 potential triadic pairs\n",
      "Time spent finding triads: 0.0011723041534423828\n",
      "Found 105 connected triads\n",
      "Time spent classifying triads: 0.009634017944335938\n"
     ]
    },
    {
     "name": "stderr",
     "output_type": "stream",
     "text": [
      " 12%|█▏        | 3/25 [00:00<00:00, 24.60it/s]"
     ]
    },
    {
     "name": "stdout",
     "output_type": "stream",
     "text": [
      "Testing 66 potential triadic pairs\n",
      "Time spent finding triads: 0.0012726783752441406\n",
      "Found 141 connected triads\n",
      "Time spent classifying triads: 0.012968301773071289\n",
      "Testing 66 potential triadic pairs\n",
      "Time spent finding triads: 0.001257181167602539\n",
      "Found 162 connected triads\n",
      "Time spent classifying triads: 0.006154775619506836\n",
      "Testing 63 potential triadic pairs\n",
      "Time spent finding triads: 0.0011408329010009766\n",
      "Found 117 connected triads\n",
      "Time spent classifying triads: 0.004492282867431641\n",
      "Testing 66 potential triadic pairs\n",
      "Time spent finding triads: 0.001340627670288086\n",
      "Found 146 connected triads\n",
      "Time spent classifying triads: 0.005543231964111328\n",
      "Testing 66 potential triadic pairs\n",
      "Time spent finding triads: 0.0012335777282714844\n",
      "Found 157 connected triads\n",
      "Time spent classifying triads: 0.009170293807983398\n"
     ]
    },
    {
     "name": "stderr",
     "output_type": "stream",
     "text": [
      "\r",
      " 24%|██▍       | 6/25 [00:00<00:00, 24.91it/s]"
     ]
    },
    {
     "name": "stdout",
     "output_type": "stream",
     "text": [
      "Testing 47 potential triadic pairs\n",
      "Time spent finding triads: 0.001047372817993164\n",
      "Found 67 connected triads\n",
      "Time spent classifying triads: 0.006197929382324219\n"
     ]
    },
    {
     "name": "stderr",
     "output_type": "stream",
     "text": [
      "\r",
      " 36%|███▌      | 9/25 [00:00<00:00, 24.72it/s]"
     ]
    },
    {
     "name": "stdout",
     "output_type": "stream",
     "text": [
      "Testing 66 potential triadic pairs\n",
      "Time spent finding triads: 0.0012409687042236328\n",
      "Found 135 connected triads\n",
      "Time spent classifying triads: 0.01240992546081543\n",
      "Testing 66 potential triadic pairs\n",
      "Time spent finding triads: 0.001219034194946289\n",
      "Found 138 connected triads\n",
      "Time spent classifying triads: 0.005265235900878906\n",
      "Testing 66 potential triadic pairs\n",
      "Time spent finding triads: 0.0012607574462890625\n",
      "Found 162 connected triads\n",
      "Time spent classifying triads: 0.0061571598052978516\n",
      "Testing 66 potential triadic pairs\n",
      "Time spent finding triads: 0.0013020038604736328\n",
      "Found 179 connected triads\n",
      "Time spent classifying triads: 0.005897045135498047\n",
      "Testing 66 potential triadic pairs\n",
      "Time spent finding triads: 0.0012483596801757812\n",
      "Found 165 connected triads\n",
      "Time spent classifying triads: 0.006201267242431641\n",
      "Testing 66 potential triadic pairs\n",
      "Time spent finding triads: 0.0013043880462646484\n",
      "Found 163 connected triads\n",
      "Time spent classifying triads: 0.014919281005859375\n"
     ]
    },
    {
     "name": "stderr",
     "output_type": "stream",
     "text": [
      " 60%|██████    | 15/25 [00:00<00:00, 24.28it/s]"
     ]
    },
    {
     "name": "stdout",
     "output_type": "stream",
     "text": [
      "Testing 66 potential triadic pairs\n",
      "Time spent finding triads: 0.001386880874633789\n",
      "Found 196 connected triads\n",
      "Time spent classifying triads: 0.01794147491455078\n",
      "Testing 61 potential triadic pairs\n",
      "Time spent finding triads: 0.0010852813720703125\n",
      "Found 79 connected triads\n",
      "Time spent classifying triads: 0.003064393997192383\n",
      "Testing 66 potential triadic pairs\n",
      "Time spent finding triads: 0.0011777877807617188\n",
      "Found 128 connected triads\n",
      "Time spent classifying triads: 0.004901409149169922\n",
      "Testing 66 potential triadic pairs\n",
      "Time spent finding triads: 0.0012371540069580078\n",
      "Found 152 connected triads\n",
      "Time spent classifying triads: 0.005754232406616211\n",
      "Testing 66 potential triadic pairs\n",
      "Time spent finding triads: 0.001262664794921875\n",
      "Found 165 connected triads\n",
      "Time spent classifying triads: 0.006253719329833984\n"
     ]
    },
    {
     "name": "stderr",
     "output_type": "stream",
     "text": [
      "\r",
      " 72%|███████▏  | 18/25 [00:00<00:00, 24.53it/s]"
     ]
    },
    {
     "name": "stdout",
     "output_type": "stream",
     "text": [
      "Testing 60 potential triadic pairs\n",
      "Time spent finding triads: 0.0011587142944335938\n",
      "Found 99 connected triads\n",
      "Time spent classifying triads: 0.009064197540283203\n"
     ]
    },
    {
     "name": "stderr",
     "output_type": "stream",
     "text": [
      "\r",
      " 84%|████████▍ | 21/25 [00:00<00:00, 24.49it/s]"
     ]
    },
    {
     "name": "stdout",
     "output_type": "stream",
     "text": [
      "Testing 66 potential triadic pairs\n",
      "Time spent finding triads: 0.0013408660888671875\n",
      "Found 176 connected triads\n",
      "Time spent classifying triads: 0.016132831573486328\n",
      "Testing 66 potential triadic pairs\n",
      "Time spent finding triads: 0.0012209415435791016\n",
      "Found 127 connected triads\n",
      "Time spent classifying triads: 0.0064318180084228516\n",
      "Testing 46 potential triadic pairs\n",
      "Time spent finding triads: 0.0009865760803222656\n",
      "Found 53 connected triads\n",
      "Time spent classifying triads: 0.0020830631256103516\n",
      "Testing 66 potential triadic pairs\n",
      "Time spent finding triads: 0.0012257099151611328\n",
      "Found 154 connected triads\n",
      "Time spent classifying triads: 0.00583338737487793\n",
      "Testing 66 potential triadic pairs\n",
      "Time spent finding triads: 0.0012271404266357422\n",
      "Found 137 connected triads\n"
     ]
    },
    {
     "name": "stderr",
     "output_type": "stream",
     "text": [
      "\r",
      " 96%|█████████▌| 24/25 [00:00<00:00, 24.64it/s]"
     ]
    },
    {
     "name": "stdout",
     "output_type": "stream",
     "text": [
      "Time spent classifying triads: 0.005973100662231445\n",
      "Testing 66 potential triadic pairs\n",
      "Time spent finding triads: 0.0012369155883789062\n",
      "Found 152 connected triads\n",
      "Time spent classifying triads: 0.0057942867279052734\n"
     ]
    },
    {
     "name": "stderr",
     "output_type": "stream",
     "text": [
      "100%|██████████| 25/25 [00:01<00:00, 24.34it/s]\n"
     ]
    },
    {
     "name": "stdout",
     "output_type": "stream",
     "text": [
      "Testing 65 potential triadic pairs\n",
      "Time spent finding triads: 0.0012547969818115234\n",
      "Found 131 connected triads\n",
      "Time spent classifying triads: 0.012011051177978516\n"
     ]
    },
    {
     "name": "stderr",
     "output_type": "stream",
     "text": [
      "\r",
      "  0%|          | 0/25 [00:00<?, ?it/s]"
     ]
    },
    {
     "name": "stdout",
     "output_type": "stream",
     "text": [
      "Testing 61 potential triadic pairs\n",
      "Time spent finding triads: 0.0011782646179199219\n",
      "Found 102 connected triads\n",
      "Time spent classifying triads: 0.009404182434082031\n",
      "Testing 66 potential triadic pairs\n",
      "Time spent finding triads: 0.0013515949249267578\n",
      "Found 181 connected triads\n",
      "Time spent classifying triads: 0.006924867630004883\n"
     ]
    },
    {
     "name": "stderr",
     "output_type": "stream",
     "text": [
      "\r",
      " 12%|█▏        | 3/25 [00:00<00:00, 23.77it/s]"
     ]
    },
    {
     "name": "stdout",
     "output_type": "stream",
     "text": [
      "Testing 64 potential triadic pairs\n",
      "Time spent finding triads: 0.002142667770385742\n",
      "Found 116 connected triads\n",
      "Time spent classifying triads: 0.010558605194091797\n",
      "Testing 52 potential triadic pairs\n",
      "Time spent finding triads: 0.0010399818420410156\n",
      "Found 68 connected triads\n",
      "Time spent classifying triads: 0.002649068832397461\n",
      "Testing 66 potential triadic pairs\n",
      "Time spent finding triads: 0.0013501644134521484\n",
      "Found 192 connected triads\n",
      "Time spent classifying triads: 0.013556480407714844\n",
      "Testing 66 potential triadic pairs\n",
      "Time spent finding triads: 0.0013170242309570312\n",
      "Found 167 connected triads\n",
      "Time spent classifying triads: 0.015311241149902344\n"
     ]
    },
    {
     "name": "stderr",
     "output_type": "stream",
     "text": [
      "\r",
      " 24%|██▍       | 6/25 [00:00<00:00, 23.33it/s]"
     ]
    },
    {
     "name": "stdout",
     "output_type": "stream",
     "text": [
      "Testing 62 potential triadic pairs\n",
      "Time spent finding triads: 0.0012216567993164062\n",
      "Found 127 connected triads\n",
      "Time spent classifying triads: 0.011708259582519531\n"
     ]
    },
    {
     "name": "stderr",
     "output_type": "stream",
     "text": [
      "\r",
      " 36%|███▌      | 9/25 [00:00<00:00, 23.10it/s]"
     ]
    },
    {
     "name": "stdout",
     "output_type": "stream",
     "text": [
      "Testing 66 potential triadic pairs\n",
      "Time spent finding triads: 0.0013556480407714844\n",
      "Found 178 connected triads\n",
      "Time spent classifying triads: 0.014061212539672852\n",
      "Testing 66 potential triadic pairs\n",
      "Time spent finding triads: 0.0012240409851074219\n",
      "Found 147 connected triads\n",
      "Time spent classifying triads: 0.0055735111236572266\n",
      "Testing 66 potential triadic pairs\n",
      "Time spent finding triads: 0.0012712478637695312\n",
      "Found 168 connected triads\n",
      "Time spent classifying triads: 0.006424427032470703\n",
      "Testing 66 potential triadic pairs\n",
      "Time spent finding triads: 0.001956939697265625\n",
      "Found 113 connected triads\n",
      "Time spent classifying triads: 0.010295391082763672\n",
      "Testing 59 potential triadic pairs\n",
      "Time spent finding triads: 0.0011246204376220703\n",
      "Found 92 connected triads\n",
      "Time spent classifying triads: 0.004449605941772461\n"
     ]
    },
    {
     "name": "stderr",
     "output_type": "stream",
     "text": [
      "\r",
      " 48%|████▊     | 12/25 [00:00<00:00, 23.92it/s]"
     ]
    },
    {
     "name": "stdout",
     "output_type": "stream",
     "text": [
      "Testing 66 potential triadic pairs\n",
      "Time spent finding triads: 0.0013632774353027344\n",
      "Found 180 connected triads\n",
      "Time spent classifying triads: 0.014295578002929688\n"
     ]
    },
    {
     "name": "stderr",
     "output_type": "stream",
     "text": [
      "\r",
      " 60%|██████    | 15/25 [00:00<00:00, 23.24it/s]"
     ]
    },
    {
     "name": "stdout",
     "output_type": "stream",
     "text": [
      "Testing 66 potential triadic pairs\n",
      "Time spent finding triads: 0.0014100074768066406\n",
      "Found 199 connected triads\n",
      "Time spent classifying triads: 0.018218517303466797\n",
      "Testing 56 potential triadic pairs\n",
      "Time spent finding triads: 0.0010907649993896484\n",
      "Found 83 connected triads\n",
      "Time spent classifying triads: 0.003198385238647461\n",
      "Testing 66 potential triadic pairs\n",
      "Time spent finding triads: 0.002202749252319336\n",
      "Found 124 connected triads\n",
      "Time spent classifying triads: 0.011362075805664062\n",
      "Testing 63 potential triadic pairs\n",
      "Time spent finding triads: 0.0012195110321044922\n",
      "Found 137 connected triads\n",
      "Time spent classifying triads: 0.005264997482299805\n",
      "Testing 66 potential triadic pairs\n",
      "Time spent finding triads: 0.0012488365173339844\n",
      "Found 159 connected triads\n",
      "Time spent classifying triads: 0.012073040008544922\n"
     ]
    },
    {
     "name": "stderr",
     "output_type": "stream",
     "text": [
      "\r",
      " 72%|███████▏  | 18/25 [00:00<00:00, 23.34it/s]"
     ]
    },
    {
     "name": "stdout",
     "output_type": "stream",
     "text": [
      "Testing 63 potential triadic pairs\n",
      "Time spent finding triads: 0.0012307167053222656\n",
      "Found 131 connected triads\n",
      "Time spent classifying triads: 0.009435176849365234\n",
      "Testing 66 potential triadic pairs\n",
      "Time spent finding triads: 0.0015232563018798828\n",
      "Found 209 connected triads\n",
      "Time spent classifying triads: 0.014743566513061523\n"
     ]
    },
    {
     "name": "stderr",
     "output_type": "stream",
     "text": [
      "\r",
      " 84%|████████▍ | 21/25 [00:00<00:00, 23.34it/s]"
     ]
    },
    {
     "name": "stdout",
     "output_type": "stream",
     "text": [
      "Testing 27 potential triadic pairs\n",
      "Time spent finding triads: 0.0014836788177490234\n",
      "Found 30 connected triads\n",
      "Time spent classifying triads: 0.002172231674194336\n",
      "Testing 66 potential triadic pairs\n",
      "Time spent finding triads: 0.0011746883392333984\n",
      "Found 111 connected triads\n",
      "Time spent classifying triads: 0.00421595573425293\n",
      "Testing 62 potential triadic pairs\n",
      "Time spent finding triads: 0.001132965087890625\n",
      "Found 100 connected triads\n",
      "Time spent classifying triads: 0.0038568973541259766\n",
      "Testing 66 potential triadic pairs\n",
      "Time spent finding triads: 0.0012502670288085938\n",
      "Found 155 connected triads\n",
      "Time spent classifying triads: 0.006933450698852539\n"
     ]
    },
    {
     "name": "stderr",
     "output_type": "stream",
     "text": [
      "\r",
      " 96%|█████████▌| 24/25 [00:01<00:00, 24.32it/s]"
     ]
    },
    {
     "name": "stdout",
     "output_type": "stream",
     "text": [
      "Testing 66 potential triadic pairs\n",
      "Time spent finding triads: 0.0013048648834228516\n",
      "Found 160 connected triads\n",
      "Time spent classifying triads: 0.014747142791748047\n"
     ]
    },
    {
     "name": "stderr",
     "output_type": "stream",
     "text": [
      "100%|██████████| 25/25 [00:01<00:00, 23.58it/s]\n",
      " 12%|█▏        | 3/25 [00:00<00:00, 24.70it/s]"
     ]
    },
    {
     "name": "stdout",
     "output_type": "stream",
     "text": [
      "Testing 58 potential triadic pairs\n",
      "Time spent finding triads: 0.0012884140014648438\n",
      "Found 107 connected triads\n",
      "Time spent classifying triads: 0.00985574722290039\n",
      "Testing 66 potential triadic pairs\n",
      "Time spent finding triads: 0.0012471675872802734\n",
      "Found 156 connected triads\n",
      "Time spent classifying triads: 0.0059015750885009766\n",
      "Testing 65 potential triadic pairs\n",
      "Time spent finding triads: 0.0011754035949707031\n",
      "Found 113 connected triads\n",
      "Time spent classifying triads: 0.0043337345123291016\n",
      "Testing 63 potential triadic pairs\n",
      "Time spent finding triads: 0.0011661052703857422\n",
      "Found 112 connected triads\n",
      "Time spent classifying triads: 0.004285573959350586\n",
      "Testing 66 potential triadic pairs\n",
      "Time spent finding triads: 0.0022728443145751953\n",
      "Found 143 connected triads\n",
      "Time spent classifying triads: 0.013028621673583984\n",
      "Testing 65 potential triadic pairs\n",
      "Time spent finding triads: 0.0011696815490722656\n",
      "Found 121 connected triads\n"
     ]
    },
    {
     "name": "stderr",
     "output_type": "stream",
     "text": [
      " 36%|███▌      | 9/25 [00:00<00:00, 24.17it/s]"
     ]
    },
    {
     "name": "stdout",
     "output_type": "stream",
     "text": [
      "Time spent classifying triads: 0.009665966033935547\n",
      "Testing 61 potential triadic pairs\n",
      "Time spent finding triads: 0.0011301040649414062\n",
      "Found 93 connected triads\n",
      "Time spent classifying triads: 0.0036039352416992188\n",
      "Testing 63 potential triadic pairs\n",
      "Time spent finding triads: 0.0013341903686523438\n",
      "Found 141 connected triads\n",
      "Time spent classifying triads: 0.005373477935791016\n",
      "Testing 66 potential triadic pairs\n",
      "Time spent finding triads: 0.0012450218200683594\n",
      "Found 161 connected triads\n",
      "Time spent classifying triads: 0.006171703338623047\n",
      "Testing 61 potential triadic pairs\n",
      "Time spent finding triads: 0.0011334419250488281\n",
      "Found 108 connected triads\n",
      "Time spent classifying triads: 0.004340171813964844\n",
      "Testing 66 potential triadic pairs\n",
      "Time spent finding triads: 0.0012331008911132812\n",
      "Found 123 connected triads\n",
      "Time spent classifying triads: 0.009878396987915039\n"
     ]
    },
    {
     "name": "stderr",
     "output_type": "stream",
     "text": [
      " 60%|██████    | 15/25 [00:00<00:00, 23.98it/s]"
     ]
    },
    {
     "name": "stdout",
     "output_type": "stream",
     "text": [
      "Testing 64 potential triadic pairs\n",
      "Time spent finding triads: 0.0012116432189941406\n",
      "Found 118 connected triads\n",
      "Time spent classifying triads: 0.010433673858642578\n",
      "Testing 66 potential triadic pairs\n",
      "Time spent finding triads: 0.0012764930725097656\n",
      "Found 171 connected triads\n",
      "Time spent classifying triads: 0.00647425651550293\n",
      "Testing 66 potential triadic pairs\n",
      "Time spent finding triads: 0.00130462646484375\n",
      "Found 180 connected triads\n",
      "Time spent classifying triads: 0.015377521514892578\n",
      "Testing 40 potential triadic pairs\n",
      "Time spent finding triads: 0.0009453296661376953\n",
      "Found 41 connected triads\n",
      "Time spent classifying triads: 0.0016422271728515625\n",
      "Testing 66 potential triadic pairs\n",
      "Time spent finding triads: 0.0012712478637695312\n",
      "Found 158 connected triads\n",
      "Time spent classifying triads: 0.014678001403808594\n"
     ]
    },
    {
     "name": "stderr",
     "output_type": "stream",
     "text": [
      " 84%|████████▍ | 21/25 [00:00<00:00, 24.04it/s]"
     ]
    },
    {
     "name": "stdout",
     "output_type": "stream",
     "text": [
      "Testing 60 potential triadic pairs\n",
      "Time spent finding triads: 0.0011944770812988281\n",
      "Found 118 connected triads\n",
      "Time spent classifying triads: 0.009435892105102539\n",
      "Testing 66 potential triadic pairs\n",
      "Time spent finding triads: 0.0013196468353271484\n",
      "Found 185 connected triads\n",
      "Time spent classifying triads: 0.007134437561035156\n",
      "Testing 63 potential triadic pairs\n",
      "Time spent finding triads: 0.0011816024780273438\n",
      "Found 124 connected triads\n",
      "Time spent classifying triads: 0.004751443862915039\n",
      "Testing 66 potential triadic pairs\n",
      "Time spent finding triads: 0.0011920928955078125\n",
      "Found 125 connected triads\n",
      "Time spent classifying triads: 0.004787921905517578\n",
      "Testing 52 potential triadic pairs\n",
      "Time spent finding triads: 0.0010838508605957031\n",
      "Found 92 connected triads\n",
      "Time spent classifying triads: 0.0035812854766845703\n",
      "Testing 66 potential triadic pairs\n",
      "Time spent finding triads: 0.0012629032135009766\n",
      "Found 142 connected triads\n"
     ]
    },
    {
     "name": "stderr",
     "output_type": "stream",
     "text": [
      "100%|██████████| 25/25 [00:01<00:00, 23.73it/s]\n"
     ]
    },
    {
     "name": "stdout",
     "output_type": "stream",
     "text": [
      "Time spent classifying triads: 0.013408422470092773\n",
      "Testing 66 potential triadic pairs\n",
      "Time spent finding triads: 0.0012466907501220703\n",
      "Found 148 connected triads\n",
      "Time spent classifying triads: 0.01114964485168457\n",
      "Testing 65 potential triadic pairs\n",
      "Time spent finding triads: 0.0011701583862304688\n",
      "Found 108 connected triads\n",
      "Time spent classifying triads: 0.004162788391113281\n",
      "Testing 66 potential triadic pairs\n",
      "Time spent finding triads: 0.0012264251708984375\n",
      "Found 140 connected triads\n",
      "Time spent classifying triads: 0.005323886871337891\n"
     ]
    },
    {
     "name": "stderr",
     "output_type": "stream",
     "text": [
      "\r",
      "  0%|          | 0/25 [00:00<?, ?it/s]"
     ]
    },
    {
     "name": "stdout",
     "output_type": "stream",
     "text": [
      "Testing 62 potential triadic pairs\n",
      "Time spent finding triads: 0.0012705326080322266\n",
      "Found 155 connected triads\n",
      "Time spent classifying triads: 0.014235734939575195\n"
     ]
    },
    {
     "name": "stderr",
     "output_type": "stream",
     "text": [
      " 16%|█▌        | 4/25 [00:00<00:01, 16.54it/s]"
     ]
    },
    {
     "name": "stdout",
     "output_type": "stream",
     "text": [
      "Testing 66 potential triadic pairs\n",
      "Time spent finding triads: 0.0014050006866455078\n",
      "Found 191 connected triads\n",
      "Time spent classifying triads: 0.01747894287109375\n",
      "Testing 66 potential triadic pairs\n",
      "Time spent finding triads: 0.0013048648834228516\n",
      "Found 180 connected triads\n",
      "Time spent classifying triads: 0.006913185119628906\n",
      "Testing 65 potential triadic pairs\n",
      "Time spent finding triads: 0.0012409687042236328\n",
      "Found 150 connected triads\n",
      "Time spent classifying triads: 0.005738496780395508\n",
      "Testing 65 potential triadic pairs\n",
      "Time spent finding triads: 0.0012242794036865234\n",
      "Found 106 connected triads\n",
      "Time spent classifying triads: 0.00981450080871582\n"
     ]
    },
    {
     "name": "stderr",
     "output_type": "stream",
     "text": [
      " 32%|███▏      | 8/25 [00:00<00:00, 17.20it/s]"
     ]
    },
    {
     "name": "stdout",
     "output_type": "stream",
     "text": [
      "Testing 66 potential triadic pairs\n",
      "Time spent finding triads: 0.0013706684112548828\n",
      "Found 173 connected triads\n",
      "Time spent classifying triads: 0.015819072723388672\n",
      "Testing 66 potential triadic pairs\n",
      "Time spent finding triads: 0.0013315677642822266\n",
      "Found 174 connected triads\n",
      "Time spent classifying triads: 0.006633758544921875\n",
      "Testing 64 potential triadic pairs\n",
      "Time spent finding triads: 0.0011777877807617188\n",
      "Found 115 connected triads\n",
      "Time spent classifying triads: 0.0044155120849609375\n",
      "Testing 66 potential triadic pairs\n",
      "Time spent finding triads: 0.0012607574462890625\n",
      "Found 129 connected triads\n",
      "Time spent classifying triads: 0.011846780776977539\n"
     ]
    },
    {
     "name": "stderr",
     "output_type": "stream",
     "text": [
      " 48%|████▊     | 12/25 [00:00<00:00, 17.65it/s]"
     ]
    },
    {
     "name": "stdout",
     "output_type": "stream",
     "text": [
      "Testing 66 potential triadic pairs\n",
      "Time spent finding triads: 0.001394510269165039\n",
      "Found 193 connected triads\n",
      "Time spent classifying triads: 0.011480331420898438\n",
      "Testing 66 potential triadic pairs\n",
      "Time spent finding triads: 0.001220703125\n",
      "Found 137 connected triads\n",
      "Time spent classifying triads: 0.0052449703216552734\n",
      "Testing 66 potential triadic pairs\n",
      "Time spent finding triads: 0.0012695789337158203\n",
      "Found 165 connected triads\n",
      "Time spent classifying triads: 0.006307125091552734\n",
      "Testing 66 potential triadic pairs\n",
      "Time spent finding triads: 0.0012488365173339844\n",
      "Found 124 connected triads\n",
      "Time spent classifying triads: 0.011388301849365234\n"
     ]
    },
    {
     "name": "stderr",
     "output_type": "stream",
     "text": [
      " 64%|██████▍   | 16/25 [00:00<00:00, 17.45it/s]"
     ]
    },
    {
     "name": "stdout",
     "output_type": "stream",
     "text": [
      "Testing 66 potential triadic pairs\n",
      "Time spent finding triads: 0.0013260841369628906\n",
      "Found 150 connected triads\n",
      "Time spent classifying triads: 0.013844490051269531\n",
      "Testing 64 potential triadic pairs\n",
      "Time spent finding triads: 0.001226186752319336\n",
      "Found 137 connected triads\n",
      "Time spent classifying triads: 0.005216360092163086\n",
      "Testing 66 potential triadic pairs\n",
      "Time spent finding triads: 0.0011861324310302734\n",
      "Found 116 connected triads\n",
      "Time spent classifying triads: 0.004457235336303711\n",
      "Testing 62 potential triadic pairs\n",
      "Time spent finding triads: 0.0011832714080810547\n",
      "Found 105 connected triads\n",
      "Time spent classifying triads: 0.00747370719909668\n"
     ]
    },
    {
     "name": "stderr",
     "output_type": "stream",
     "text": [
      " 80%|████████  | 20/25 [00:01<00:00, 17.62it/s]"
     ]
    },
    {
     "name": "stdout",
     "output_type": "stream",
     "text": [
      "Testing 65 potential triadic pairs\n",
      "Time spent finding triads: 0.0012714862823486328\n",
      "Found 134 connected triads\n",
      "Time spent classifying triads: 0.01232290267944336\n",
      "Testing 66 potential triadic pairs\n",
      "Time spent finding triads: 0.0012691020965576172\n",
      "Found 152 connected triads\n",
      "Time spent classifying triads: 0.005796670913696289\n",
      "Testing 59 potential triadic pairs\n",
      "Time spent finding triads: 0.0011463165283203125\n",
      "Found 101 connected triads\n",
      "Time spent classifying triads: 0.003912210464477539\n",
      "Testing 65 potential triadic pairs\n",
      "Time spent finding triads: 0.00122833251953125\n",
      "Found 113 connected triads\n",
      "Time spent classifying triads: 0.010568857192993164\n"
     ]
    },
    {
     "name": "stderr",
     "output_type": "stream",
     "text": [
      " 96%|█████████▌| 24/25 [00:01<00:00, 18.03it/s]"
     ]
    },
    {
     "name": "stdout",
     "output_type": "stream",
     "text": [
      "Testing 66 potential triadic pairs\n",
      "Time spent finding triads: 0.0012269020080566406\n",
      "Found 107 connected triads\n",
      "Time spent classifying triads: 0.009830951690673828\n",
      "Testing 66 potential triadic pairs\n",
      "Time spent finding triads: 0.0011854171752929688\n",
      "Found 121 connected triads\n",
      "Time spent classifying triads: 0.0046389102935791016\n",
      "Testing 66 potential triadic pairs\n",
      "Time spent finding triads: 0.0012314319610595703\n",
      "Found 140 connected triads\n",
      "Time spent classifying triads: 0.005362272262573242\n"
     ]
    },
    {
     "name": "stderr",
     "output_type": "stream",
     "text": [
      "100%|██████████| 25/25 [00:01<00:00, 17.26it/s]\n"
     ]
    },
    {
     "name": "stdout",
     "output_type": "stream",
     "text": [
      "Testing 66 potential triadic pairs\n",
      "Time spent finding triads: 0.001413106918334961\n",
      "Found 183 connected triads\n",
      "Time spent classifying triads: 0.01681041717529297\n"
     ]
    },
    {
     "name": "stderr",
     "output_type": "stream",
     "text": [
      "  8%|▊         | 2/25 [00:00<00:01, 16.83it/s]"
     ]
    },
    {
     "name": "stdout",
     "output_type": "stream",
     "text": [
      "Testing 66 potential triadic pairs\n",
      "Time spent finding triads: 0.0013427734375\n",
      "Found 168 connected triads\n",
      "Time spent classifying triads: 0.015391349792480469\n",
      "Testing 66 potential triadic pairs\n",
      "Time spent finding triads: 0.001256704330444336\n",
      "Found 147 connected triads\n",
      "Time spent classifying triads: 0.0057032108306884766\n",
      "Testing 66 potential triadic pairs\n",
      "Time spent finding triads: 0.0012204647064208984\n",
      "Found 140 connected triads\n",
      "Time spent classifying triads: 0.0053746700286865234\n"
     ]
    },
    {
     "name": "stderr",
     "output_type": "stream",
     "text": [
      "\r",
      " 16%|█▌        | 4/25 [00:00<00:01, 17.19it/s]"
     ]
    },
    {
     "name": "stdout",
     "output_type": "stream",
     "text": [
      "Testing 64 potential triadic pairs\n",
      "Time spent finding triads: 0.0012445449829101562\n",
      "Found 114 connected triads\n",
      "Time spent classifying triads: 0.010541677474975586\n"
     ]
    },
    {
     "name": "stderr",
     "output_type": "stream",
     "text": [
      "\r",
      " 24%|██▍       | 6/25 [00:00<00:01, 16.86it/s]"
     ]
    },
    {
     "name": "stdout",
     "output_type": "stream",
     "text": [
      "Testing 61 potential triadic pairs\n",
      "Time spent finding triads: 0.0012395381927490234\n",
      "Found 123 connected triads\n",
      "Time spent classifying triads: 0.011305809020996094\n",
      "Testing 66 potential triadic pairs\n",
      "Time spent finding triads: 0.0012748241424560547\n",
      "Found 153 connected triads\n",
      "Time spent classifying triads: 0.005820035934448242\n",
      "Testing 60 potential triadic pairs\n",
      "Time spent finding triads: 0.0011951923370361328\n",
      "Found 135 connected triads\n",
      "Time spent classifying triads: 0.005160331726074219\n"
     ]
    },
    {
     "name": "stderr",
     "output_type": "stream",
     "text": [
      "\r",
      " 32%|███▏      | 8/25 [00:00<00:00, 17.03it/s]"
     ]
    },
    {
     "name": "stdout",
     "output_type": "stream",
     "text": [
      "Testing 64 potential triadic pairs\n",
      "Time spent finding triads: 0.0012526512145996094\n",
      "Found 125 connected triads\n",
      "Time spent classifying triads: 0.011461973190307617\n"
     ]
    },
    {
     "name": "stderr",
     "output_type": "stream",
     "text": [
      "\r",
      " 40%|████      | 10/25 [00:00<00:00, 17.33it/s]"
     ]
    },
    {
     "name": "stdout",
     "output_type": "stream",
     "text": [
      "Testing 53 potential triadic pairs\n",
      "Time spent finding triads: 0.00113677978515625\n",
      "Found 83 connected triads\n",
      "Time spent classifying triads: 0.007651805877685547\n",
      "Testing 66 potential triadic pairs\n",
      "Time spent finding triads: 0.0012292861938476562\n",
      "Found 151 connected triads\n",
      "Time spent classifying triads: 0.005789995193481445\n",
      "Testing 66 potential triadic pairs\n",
      "Time spent finding triads: 0.001232147216796875\n",
      "Found 140 connected triads\n",
      "Time spent classifying triads: 0.005345582962036133\n"
     ]
    },
    {
     "name": "stderr",
     "output_type": "stream",
     "text": [
      "\r",
      " 48%|████▊     | 12/25 [00:00<00:00, 17.09it/s]"
     ]
    },
    {
     "name": "stdout",
     "output_type": "stream",
     "text": [
      "Testing 66 potential triadic pairs\n",
      "Time spent finding triads: 0.0013778209686279297\n",
      "Found 173 connected triads\n",
      "Time spent classifying triads: 0.01589345932006836\n"
     ]
    },
    {
     "name": "stderr",
     "output_type": "stream",
     "text": [
      "\r",
      " 56%|█████▌    | 14/25 [00:00<00:00, 16.92it/s]"
     ]
    },
    {
     "name": "stdout",
     "output_type": "stream",
     "text": [
      "Testing 66 potential triadic pairs\n",
      "Time spent finding triads: 0.0013020038604736328\n",
      "Found 164 connected triads\n",
      "Time spent classifying triads: 0.015118122100830078\n",
      "Testing 66 potential triadic pairs\n",
      "Time spent finding triads: 0.001337289810180664\n",
      "Found 192 connected triads\n",
      "Time spent classifying triads: 0.0073108673095703125\n",
      "Testing 62 potential triadic pairs\n",
      "Time spent finding triads: 0.0011675357818603516\n",
      "Found 117 connected triads\n",
      "Time spent classifying triads: 0.004527091979980469\n"
     ]
    },
    {
     "name": "stderr",
     "output_type": "stream",
     "text": [
      "\r",
      " 64%|██████▍   | 16/25 [00:00<00:00, 16.75it/s]"
     ]
    },
    {
     "name": "stdout",
     "output_type": "stream",
     "text": [
      "Testing 66 potential triadic pairs\n",
      "Time spent finding triads: 0.0013880729675292969\n",
      "Found 182 connected triads\n",
      "Time spent classifying triads: 0.016708850860595703\n"
     ]
    },
    {
     "name": "stderr",
     "output_type": "stream",
     "text": [
      "\r",
      " 72%|███████▏  | 18/25 [00:01<00:00, 16.74it/s]"
     ]
    },
    {
     "name": "stdout",
     "output_type": "stream",
     "text": [
      "Testing 66 potential triadic pairs\n",
      "Time spent finding triads: 0.001329660415649414\n",
      "Found 152 connected triads\n",
      "Time spent classifying triads: 0.008740425109863281\n",
      "Testing 66 potential triadic pairs\n",
      "Time spent finding triads: 0.0012357234954833984\n",
      "Found 141 connected triads\n",
      "Time spent classifying triads: 0.00535273551940918\n",
      "Testing 62 potential triadic pairs\n",
      "Time spent finding triads: 0.001154184341430664\n",
      "Found 104 connected triads\n",
      "Time spent classifying triads: 0.004063844680786133\n"
     ]
    },
    {
     "name": "stderr",
     "output_type": "stream",
     "text": [
      "\r",
      " 80%|████████  | 20/25 [00:01<00:00, 16.95it/s]"
     ]
    },
    {
     "name": "stdout",
     "output_type": "stream",
     "text": [
      "Testing 66 potential triadic pairs\n",
      "Time spent finding triads: 0.0012621879577636719\n",
      "Found 129 connected triads\n",
      "Time spent classifying triads: 0.011813640594482422\n"
     ]
    },
    {
     "name": "stderr",
     "output_type": "stream",
     "text": [
      "\r",
      " 88%|████████▊ | 22/25 [00:01<00:00, 17.32it/s]"
     ]
    },
    {
     "name": "stdout",
     "output_type": "stream",
     "text": [
      "Testing 58 potential triadic pairs\n",
      "Time spent finding triads: 0.001148223876953125\n",
      "Found 80 connected triads\n",
      "Time spent classifying triads: 0.007372856140136719\n",
      "Testing 63 potential triadic pairs\n",
      "Time spent finding triads: 0.0011570453643798828\n",
      "Found 109 connected triads\n",
      "Time spent classifying triads: 0.0042095184326171875\n",
      "Testing 65 potential triadic pairs\n",
      "Time spent finding triads: 0.0012297630310058594\n",
      "Found 132 connected triads\n",
      "Time spent classifying triads: 0.005084037780761719\n"
     ]
    },
    {
     "name": "stderr",
     "output_type": "stream",
     "text": [
      "\r",
      " 96%|█████████▌| 24/25 [00:01<00:00, 17.29it/s]"
     ]
    },
    {
     "name": "stdout",
     "output_type": "stream",
     "text": [
      "Testing 63 potential triadic pairs\n",
      "Time spent finding triads: 0.0012843608856201172\n",
      "Found 141 connected triads\n",
      "Time spent classifying triads: 0.01300191879272461\n"
     ]
    },
    {
     "name": "stderr",
     "output_type": "stream",
     "text": [
      "100%|██████████| 25/25 [00:01<00:00, 17.00it/s]\n"
     ]
    },
    {
     "name": "stdout",
     "output_type": "stream",
     "text": [
      "Testing 66 potential triadic pairs\n",
      "Time spent finding triads: 0.0012943744659423828\n",
      "Found 154 connected triads\n",
      "Time spent classifying triads: 0.014104843139648438\n"
     ]
    },
    {
     "name": "stderr",
     "output_type": "stream",
     "text": [
      " 12%|█▏        | 3/25 [00:00<00:00, 25.73it/s]"
     ]
    },
    {
     "name": "stdout",
     "output_type": "stream",
     "text": [
      "Testing 53 potential triadic pairs\n",
      "Time spent finding triads: 0.001088857650756836\n",
      "Found 66 connected triads\n",
      "Time spent classifying triads: 0.006117582321166992\n",
      "Testing 63 potential triadic pairs\n",
      "Time spent finding triads: 0.0011608600616455078\n",
      "Found 109 connected triads\n",
      "Time spent classifying triads: 0.004190206527709961\n",
      "Testing 66 potential triadic pairs\n",
      "Time spent finding triads: 0.0012259483337402344\n",
      "Found 142 connected triads\n",
      "Time spent classifying triads: 0.005426168441772461\n",
      "Testing 54 potential triadic pairs\n",
      "Time spent finding triads: 0.0011348724365234375\n",
      "Found 80 connected triads\n",
      "Time spent classifying triads: 0.007424116134643555\n",
      "Testing 66 potential triadic pairs\n",
      "Time spent finding triads: 0.002194643020629883\n",
      "Found 112 connected triads\n",
      "Time spent classifying triads: 0.010245084762573242\n",
      "Testing 66 potential triadic pairs\n",
      "Time spent finding triads: 0.0012581348419189453\n",
      "Found 158 connected triads\n",
      "Time spent classifying triads: 0.010426998138427734\n"
     ]
    },
    {
     "name": "stderr",
     "output_type": "stream",
     "text": [
      "\r",
      " 24%|██▍       | 6/25 [00:00<00:00, 23.55it/s]"
     ]
    },
    {
     "name": "stdout",
     "output_type": "stream",
     "text": [
      "Testing 66 potential triadic pairs\n",
      "Time spent finding triads: 0.0013096332550048828\n",
      "Found 155 connected triads\n",
      "Time spent classifying triads: 0.014229774475097656\n",
      "Testing 65 potential triadic pairs\n",
      "Time spent finding triads: 0.0012204647064208984\n",
      "Found 140 connected triads\n",
      "Time spent classifying triads: 0.005357503890991211\n"
     ]
    },
    {
     "name": "stderr",
     "output_type": "stream",
     "text": [
      "\r",
      " 36%|███▌      | 9/25 [00:00<00:00, 23.38it/s]"
     ]
    },
    {
     "name": "stdout",
     "output_type": "stream",
     "text": [
      "Testing 43 potential triadic pairs\n",
      "Time spent finding triads: 0.0010097026824951172\n",
      "Found 45 connected triads\n",
      "Time spent classifying triads: 0.004205226898193359\n",
      "Testing 66 potential triadic pairs\n",
      "Time spent finding triads: 0.0012238025665283203\n",
      "Found 121 connected triads\n",
      "Time spent classifying triads: 0.011116266250610352\n",
      "Testing 66 potential triadic pairs\n",
      "Time spent finding triads: 0.0013206005096435547\n",
      "Found 187 connected triads\n",
      "Time spent classifying triads: 0.0072062015533447266\n",
      "Testing 66 potential triadic pairs\n",
      "Time spent finding triads: 0.0012712478637695312\n",
      "Found 160 connected triads\n",
      "Time spent classifying triads: 0.014696836471557617\n"
     ]
    },
    {
     "name": "stderr",
     "output_type": "stream",
     "text": [
      "\r",
      " 48%|████▊     | 12/25 [00:00<00:00, 22.50it/s]"
     ]
    },
    {
     "name": "stdout",
     "output_type": "stream",
     "text": [
      "Testing 55 potential triadic pairs\n",
      "Time spent finding triads: 0.0012142658233642578\n",
      "Found 129 connected triads\n",
      "Time spent classifying triads: 0.011842012405395508\n",
      "Testing 61 potential triadic pairs\n",
      "Time spent finding triads: 0.0011603832244873047\n",
      "Found 90 connected triads\n",
      "Time spent classifying triads: 0.008325338363647461\n"
     ]
    },
    {
     "name": "stderr",
     "output_type": "stream",
     "text": [
      "\r",
      " 60%|██████    | 15/25 [00:00<00:00, 22.05it/s]"
     ]
    },
    {
     "name": "stdout",
     "output_type": "stream",
     "text": [
      "Testing 65 potential triadic pairs\n",
      "Time spent finding triads: 0.001268148422241211\n",
      "Found 141 connected triads\n",
      "Time spent classifying triads: 0.01294398307800293\n",
      "Testing 66 potential triadic pairs\n",
      "Time spent finding triads: 0.0012936592102050781\n",
      "Found 169 connected triads\n",
      "Time spent classifying triads: 0.006484031677246094\n",
      "Testing 59 potential triadic pairs\n",
      "Time spent finding triads: 0.0010859966278076172\n",
      "Found 87 connected triads\n",
      "Time spent classifying triads: 0.003359079360961914\n"
     ]
    },
    {
     "name": "stderr",
     "output_type": "stream",
     "text": [
      "\r",
      " 72%|███████▏  | 18/25 [00:00<00:00, 22.66it/s]"
     ]
    },
    {
     "name": "stdout",
     "output_type": "stream",
     "text": [
      "Testing 63 potential triadic pairs\n",
      "Time spent finding triads: 0.0012967586517333984\n",
      "Found 97 connected triads\n",
      "Time spent classifying triads: 0.0084686279296875\n",
      "Testing 66 potential triadic pairs\n",
      "Time spent finding triads: 0.0012691020965576172\n",
      "Found 148 connected triads\n",
      "Time spent classifying triads: 0.013529300689697266\n"
     ]
    },
    {
     "name": "stderr",
     "output_type": "stream",
     "text": [
      "\r",
      " 84%|████████▍ | 21/25 [00:00<00:00, 22.59it/s]"
     ]
    },
    {
     "name": "stdout",
     "output_type": "stream",
     "text": [
      "Testing 66 potential triadic pairs\n",
      "Time spent finding triads: 0.0012738704681396484\n",
      "Found 158 connected triads\n",
      "Time spent classifying triads: 0.0072209835052490234\n",
      "Testing 66 potential triadic pairs\n",
      "Time spent finding triads: 0.0012676715850830078\n",
      "Found 169 connected triads\n",
      "Time spent classifying triads: 0.006470203399658203\n",
      "Testing 66 potential triadic pairs\n",
      "Time spent finding triads: 0.0012164115905761719\n",
      "Found 145 connected triads\n",
      "Time spent classifying triads: 0.005529165267944336\n",
      "Testing 64 potential triadic pairs\n",
      "Time spent finding triads: 0.0013058185577392578\n",
      "Found 159 connected triads\n",
      "Time spent classifying triads: 0.014499425888061523\n"
     ]
    },
    {
     "name": "stderr",
     "output_type": "stream",
     "text": [
      "\r",
      " 96%|█████████▌| 24/25 [00:01<00:00, 22.24it/s]"
     ]
    },
    {
     "name": "stdout",
     "output_type": "stream",
     "text": [
      "Testing 55 potential triadic pairs\n",
      "Time spent finding triads: 0.0012478828430175781\n",
      "Found 144 connected triads\n",
      "Time spent classifying triads: 0.013257980346679688\n"
     ]
    },
    {
     "name": "stderr",
     "output_type": "stream",
     "text": [
      "100%|██████████| 25/25 [00:01<00:00, 22.69it/s]\n"
     ]
    },
    {
     "name": "stdout",
     "output_type": "stream",
     "text": [
      "Testing 44 potential triadic pairs\n",
      "Time spent finding triads: 0.0010118484497070312\n",
      "Found 48 connected triads\n",
      "Time spent classifying triads: 0.004483938217163086\n"
     ]
    },
    {
     "name": "stderr",
     "output_type": "stream",
     "text": [
      "\r",
      "  0%|          | 0/25 [00:00<?, ?it/s]"
     ]
    },
    {
     "name": "stdout",
     "output_type": "stream",
     "text": [
      "Testing 66 potential triadic pairs\n",
      "Time spent finding triads: 0.0012793540954589844\n",
      "Found 147 connected triads\n",
      "Time spent classifying triads: 0.012821435928344727\n"
     ]
    },
    {
     "name": "stderr",
     "output_type": "stream",
     "text": [
      "\r",
      "  8%|▊         | 2/25 [00:00<00:01, 16.99it/s]"
     ]
    },
    {
     "name": "stdout",
     "output_type": "stream",
     "text": [
      "Testing 66 potential triadic pairs\n",
      "Time spent finding triads: 0.0021927356719970703\n",
      "Found 144 connected triads\n",
      "Time spent classifying triads: 0.007094860076904297\n",
      "Testing 66 potential triadic pairs\n",
      "Time spent finding triads: 0.0013020038604736328\n",
      "Found 150 connected triads\n",
      "Time spent classifying triads: 0.013758182525634766\n"
     ]
    },
    {
     "name": "stderr",
     "output_type": "stream",
     "text": [
      "\r",
      " 16%|█▌        | 4/25 [00:00<00:01, 16.09it/s]"
     ]
    },
    {
     "name": "stdout",
     "output_type": "stream",
     "text": [
      "Testing 66 potential triadic pairs\n",
      "Time spent finding triads: 0.0013632774353027344\n",
      "Found 170 connected triads\n",
      "Time spent classifying triads: 0.01508021354675293\n",
      "Testing 64 potential triadic pairs\n",
      "Time spent finding triads: 0.001260995864868164\n",
      "Found 136 connected triads\n",
      "Time spent classifying triads: 0.012511491775512695\n"
     ]
    },
    {
     "name": "stderr",
     "output_type": "stream",
     "text": [
      "\r",
      " 24%|██▍       | 6/25 [00:00<00:01, 16.39it/s]"
     ]
    },
    {
     "name": "stdout",
     "output_type": "stream",
     "text": [
      "Testing 55 potential triadic pairs\n",
      "Time spent finding triads: 0.0012488365173339844\n",
      "Found 131 connected triads\n",
      "Time spent classifying triads: 0.009591102600097656\n",
      "Testing 66 potential triadic pairs\n",
      "Time spent finding triads: 0.0012822151184082031\n",
      "Found 146 connected triads\n",
      "Time spent classifying triads: 0.008854389190673828\n"
     ]
    },
    {
     "name": "stderr",
     "output_type": "stream",
     "text": [
      "\r",
      " 32%|███▏      | 8/25 [00:00<00:01, 16.59it/s]"
     ]
    },
    {
     "name": "stdout",
     "output_type": "stream",
     "text": [
      "Testing 66 potential triadic pairs\n",
      "Time spent finding triads: 0.0012600421905517578\n",
      "Found 133 connected triads\n",
      "Time spent classifying triads: 0.012231111526489258\n",
      "Testing 41 potential triadic pairs\n",
      "Time spent finding triads: 0.001049041748046875\n",
      "Found 62 connected triads\n",
      "Time spent classifying triads: 0.005750894546508789\n"
     ]
    },
    {
     "name": "stderr",
     "output_type": "stream",
     "text": [
      "\r",
      " 40%|████      | 10/25 [00:00<00:00, 16.81it/s]"
     ]
    },
    {
     "name": "stdout",
     "output_type": "stream",
     "text": [
      "Testing 66 potential triadic pairs\n",
      "Time spent finding triads: 0.0013053417205810547\n",
      "Found 148 connected triads\n",
      "Time spent classifying triads: 0.013582229614257812\n",
      "Testing 61 potential triadic pairs\n",
      "Time spent finding triads: 0.0013053417205810547\n",
      "Found 147 connected triads\n",
      "Time spent classifying triads: 0.013506889343261719\n"
     ]
    },
    {
     "name": "stderr",
     "output_type": "stream",
     "text": [
      "\r",
      " 48%|████▊     | 12/25 [00:00<00:00, 16.56it/s]"
     ]
    },
    {
     "name": "stdout",
     "output_type": "stream",
     "text": [
      "Testing 66 potential triadic pairs\n",
      "Time spent finding triads: 0.0012688636779785156\n",
      "Found 144 connected triads\n",
      "Time spent classifying triads: 0.012300252914428711\n",
      "Testing 66 potential triadic pairs\n",
      "Time spent finding triads: 0.0012857913970947266\n",
      "Found 136 connected triads\n",
      "Time spent classifying triads: 0.012606143951416016\n"
     ]
    },
    {
     "name": "stderr",
     "output_type": "stream",
     "text": [
      "\r",
      " 56%|█████▌    | 14/25 [00:00<00:00, 16.37it/s]"
     ]
    },
    {
     "name": "stdout",
     "output_type": "stream",
     "text": [
      "Testing 66 potential triadic pairs\n",
      "Time spent finding triads: 0.001257181167602539\n",
      "Found 129 connected triads\n",
      "Time spent classifying triads: 0.01192164421081543\n",
      "Testing 66 potential triadic pairs\n",
      "Time spent finding triads: 0.0013179779052734375\n",
      "Found 156 connected triads\n",
      "Time spent classifying triads: 0.014364957809448242\n"
     ]
    },
    {
     "name": "stderr",
     "output_type": "stream",
     "text": [
      "\r",
      " 64%|██████▍   | 16/25 [00:00<00:00, 15.88it/s]"
     ]
    },
    {
     "name": "stdout",
     "output_type": "stream",
     "text": [
      "Testing 66 potential triadic pairs\n",
      "Time spent finding triads: 0.0012793540954589844\n",
      "Found 128 connected triads\n",
      "Time spent classifying triads: 0.011778116226196289\n",
      "Testing 66 potential triadic pairs\n",
      "Time spent finding triads: 0.0013418197631835938\n",
      "Found 162 connected triads\n",
      "Time spent classifying triads: 0.014861345291137695\n"
     ]
    },
    {
     "name": "stderr",
     "output_type": "stream",
     "text": [
      "\r",
      " 72%|███████▏  | 18/25 [00:01<00:00, 15.99it/s]"
     ]
    },
    {
     "name": "stdout",
     "output_type": "stream",
     "text": [
      "Testing 65 potential triadic pairs\n",
      "Time spent finding triads: 0.001285552978515625\n",
      "Found 143 connected triads\n",
      "Time spent classifying triads: 0.013149738311767578\n",
      "Testing 66 potential triadic pairs\n",
      "Time spent finding triads: 0.001394510269165039\n",
      "Found 189 connected triads\n",
      "Time spent classifying triads: 0.017304182052612305\n"
     ]
    },
    {
     "name": "stderr",
     "output_type": "stream",
     "text": [
      "\r",
      " 80%|████████  | 20/25 [00:01<00:00, 15.98it/s]"
     ]
    },
    {
     "name": "stdout",
     "output_type": "stream",
     "text": [
      "Testing 66 potential triadic pairs\n",
      "Time spent finding triads: 0.0013689994812011719\n",
      "Found 183 connected triads\n",
      "Time spent classifying triads: 0.012472867965698242\n",
      "Testing 66 potential triadic pairs\n",
      "Time spent finding triads: 0.0012259483337402344\n",
      "Found 115 connected triads\n",
      "Time spent classifying triads: 0.005906581878662109\n"
     ]
    },
    {
     "name": "stderr",
     "output_type": "stream",
     "text": [
      "\r",
      " 88%|████████▊ | 22/25 [00:01<00:00, 16.70it/s]"
     ]
    },
    {
     "name": "stdout",
     "output_type": "stream",
     "text": [
      "Testing 64 potential triadic pairs\n",
      "Time spent finding triads: 0.00130462646484375\n",
      "Found 145 connected triads\n",
      "Time spent classifying triads: 0.00691986083984375\n",
      "Testing 66 potential triadic pairs\n",
      "Time spent finding triads: 0.0013773441314697266\n",
      "Found 168 connected triads\n",
      "Time spent classifying triads: 0.015402793884277344\n"
     ]
    },
    {
     "name": "stderr",
     "output_type": "stream",
     "text": [
      "\r",
      " 96%|█████████▌| 24/25 [00:01<00:00, 16.56it/s]"
     ]
    },
    {
     "name": "stdout",
     "output_type": "stream",
     "text": [
      "Testing 64 potential triadic pairs\n",
      "Time spent finding triads: 0.0012621879577636719\n",
      "Found 137 connected triads\n",
      "Time spent classifying triads: 0.010393142700195312\n"
     ]
    },
    {
     "name": "stderr",
     "output_type": "stream",
     "text": [
      "100%|██████████| 25/25 [00:01<00:00, 16.38it/s]\n"
     ]
    },
    {
     "name": "stdout",
     "output_type": "stream",
     "text": [
      "Testing 66 potential triadic pairs\n",
      "Time spent finding triads: 0.0013384819030761719\n",
      "Found 168 connected triads\n",
      "Time spent classifying triads: 0.013518333435058594\n"
     ]
    },
    {
     "name": "stderr",
     "output_type": "stream",
     "text": [
      "\r",
      "  0%|          | 0/25 [00:00<?, ?it/s]"
     ]
    },
    {
     "name": "stdout",
     "output_type": "stream",
     "text": [
      "Testing 65 potential triadic pairs\n",
      "Time spent finding triads: 0.0012462139129638672\n",
      "Found 111 connected triads\n",
      "Time spent classifying triads: 0.010221004486083984\n"
     ]
    },
    {
     "name": "stderr",
     "output_type": "stream",
     "text": [
      "\r",
      "  8%|▊         | 2/25 [00:00<00:01, 16.37it/s]"
     ]
    },
    {
     "name": "stdout",
     "output_type": "stream",
     "text": [
      "Testing 61 potential triadic pairs\n",
      "Time spent finding triads: 0.0012350082397460938\n",
      "Found 118 connected triads\n",
      "Time spent classifying triads: 0.010897636413574219\n",
      "Testing 66 potential triadic pairs\n",
      "Time spent finding triads: 0.0013499259948730469\n",
      "Found 172 connected triads\n",
      "Time spent classifying triads: 0.01574993133544922\n"
     ]
    },
    {
     "name": "stderr",
     "output_type": "stream",
     "text": [
      "\r",
      " 16%|█▌        | 4/25 [00:00<00:01, 15.28it/s]"
     ]
    },
    {
     "name": "stdout",
     "output_type": "stream",
     "text": [
      "Testing 66 potential triadic pairs\n",
      "Time spent finding triads: 0.0013668537139892578\n",
      "Found 180 connected triads\n",
      "Time spent classifying triads: 0.016641855239868164\n",
      "Testing 61 potential triadic pairs\n",
      "Time spent finding triads: 0.0012035369873046875\n",
      "Found 90 connected triads\n",
      "Time spent classifying triads: 0.008344650268554688\n"
     ]
    },
    {
     "name": "stderr",
     "output_type": "stream",
     "text": [
      "\r",
      " 24%|██▍       | 6/25 [00:00<00:01, 15.63it/s]"
     ]
    },
    {
     "name": "stdout",
     "output_type": "stream",
     "text": [
      "Testing 66 potential triadic pairs\n",
      "Time spent finding triads: 0.0012919902801513672\n",
      "Found 152 connected triads\n",
      "Time spent classifying triads: 0.013952016830444336\n",
      "Testing 66 potential triadic pairs\n",
      "Time spent finding triads: 0.0013058185577392578\n",
      "Found 154 connected triads\n",
      "Time spent classifying triads: 0.012462615966796875\n"
     ]
    },
    {
     "name": "stderr",
     "output_type": "stream",
     "text": [
      "\r",
      " 32%|███▏      | 8/25 [00:00<00:01, 16.08it/s]"
     ]
    },
    {
     "name": "stdout",
     "output_type": "stream",
     "text": [
      "Testing 66 potential triadic pairs\n",
      "Time spent finding triads: 0.0012669563293457031\n",
      "Found 137 connected triads\n",
      "Time spent classifying triads: 0.005972623825073242\n",
      "Testing 65 potential triadic pairs\n",
      "Time spent finding triads: 0.0012323856353759766\n",
      "Found 118 connected triads\n",
      "Time spent classifying triads: 0.010867118835449219\n"
     ]
    },
    {
     "name": "stderr",
     "output_type": "stream",
     "text": [
      "\r",
      " 40%|████      | 10/25 [00:00<00:00, 16.10it/s]"
     ]
    },
    {
     "name": "stdout",
     "output_type": "stream",
     "text": [
      "Testing 65 potential triadic pairs\n",
      "Time spent finding triads: 0.0012500286102294922\n",
      "Found 123 connected triads\n",
      "Time spent classifying triads: 0.011342763900756836\n",
      "Testing 52 potential triadic pairs\n",
      "Time spent finding triads: 0.0011010169982910156\n",
      "Found 75 connected triads\n",
      "Time spent classifying triads: 0.0069501399993896484\n"
     ]
    },
    {
     "name": "stderr",
     "output_type": "stream",
     "text": [
      "\r",
      " 48%|████▊     | 12/25 [00:00<00:00, 15.93it/s]"
     ]
    },
    {
     "name": "stdout",
     "output_type": "stream",
     "text": [
      "Testing 66 potential triadic pairs\n",
      "Time spent finding triads: 0.001424551010131836\n",
      "Found 195 connected triads\n",
      "Time spent classifying triads: 0.01786971092224121\n",
      "Testing 60 potential triadic pairs\n",
      "Time spent finding triads: 0.0012404918670654297\n",
      "Found 117 connected triads\n",
      "Time spent classifying triads: 0.010795116424560547\n"
     ]
    },
    {
     "name": "stderr",
     "output_type": "stream",
     "text": [
      "\r",
      " 56%|█████▌    | 14/25 [00:00<00:00, 16.03it/s]"
     ]
    },
    {
     "name": "stdout",
     "output_type": "stream",
     "text": [
      "Testing 66 potential triadic pairs\n",
      "Time spent finding triads: 0.0012764930725097656\n",
      "Found 130 connected triads\n",
      "Time spent classifying triads: 0.0065305233001708984\n",
      "Testing 66 potential triadic pairs\n",
      "Time spent finding triads: 0.0013759136199951172\n",
      "Found 173 connected triads\n",
      "Time spent classifying triads: 0.015856027603149414\n"
     ]
    },
    {
     "name": "stderr",
     "output_type": "stream",
     "text": [
      "\r",
      " 64%|██████▍   | 16/25 [00:01<00:00, 15.72it/s]"
     ]
    },
    {
     "name": "stdout",
     "output_type": "stream",
     "text": [
      "Testing 66 potential triadic pairs\n",
      "Time spent finding triads: 0.0012369155883789062\n",
      "Found 112 connected triads\n",
      "Time spent classifying triads: 0.010317564010620117\n",
      "Testing 66 potential triadic pairs\n",
      "Time spent finding triads: 0.0013012886047363281\n",
      "Found 145 connected triads\n",
      "Time spent classifying triads: 0.013352155685424805\n"
     ]
    },
    {
     "name": "stderr",
     "output_type": "stream",
     "text": [
      "\r",
      " 72%|███████▏  | 18/25 [00:01<00:00, 15.62it/s]"
     ]
    },
    {
     "name": "stdout",
     "output_type": "stream",
     "text": [
      "Testing 66 potential triadic pairs\n",
      "Time spent finding triads: 0.0013592243194580078\n",
      "Found 169 connected triads\n",
      "Time spent classifying triads: 0.015479087829589844\n",
      "Testing 56 potential triadic pairs\n",
      "Time spent finding triads: 0.0011725425720214844\n",
      "Found 97 connected triads\n",
      "Time spent classifying triads: 0.008929967880249023\n"
     ]
    },
    {
     "name": "stderr",
     "output_type": "stream",
     "text": [
      "\r",
      " 80%|████████  | 20/25 [00:01<00:00, 15.75it/s]"
     ]
    },
    {
     "name": "stdout",
     "output_type": "stream",
     "text": [
      "Testing 66 potential triadic pairs\n",
      "Time spent finding triads: 0.001299142837524414\n",
      "Found 151 connected triads\n",
      "Time spent classifying triads: 0.013918399810791016\n",
      "Testing 66 potential triadic pairs\n",
      "Time spent finding triads: 0.0014209747314453125\n",
      "Found 196 connected triads\n",
      "Time spent classifying triads: 0.01808762550354004\n"
     ]
    },
    {
     "name": "stderr",
     "output_type": "stream",
     "text": [
      "\r",
      " 88%|████████▊ | 22/25 [00:01<00:00, 15.60it/s]"
     ]
    },
    {
     "name": "stdout",
     "output_type": "stream",
     "text": [
      "Testing 66 potential triadic pairs\n",
      "Time spent finding triads: 0.0012538433074951172\n",
      "Found 132 connected triads\n",
      "Time spent classifying triads: 0.012094736099243164\n",
      "Testing 63 potential triadic pairs\n",
      "Time spent finding triads: 0.0012278556823730469\n",
      "Found 121 connected triads\n",
      "Time spent classifying triads: 0.011194705963134766\n"
     ]
    },
    {
     "name": "stderr",
     "output_type": "stream",
     "text": [
      "\r",
      " 96%|█████████▌| 24/25 [00:01<00:00, 15.79it/s]"
     ]
    },
    {
     "name": "stdout",
     "output_type": "stream",
     "text": [
      "Testing 66 potential triadic pairs\n",
      "Time spent finding triads: 0.0012464523315429688\n",
      "Found 120 connected triads\n",
      "Time spent classifying triads: 0.011060953140258789\n"
     ]
    },
    {
     "name": "stderr",
     "output_type": "stream",
     "text": [
      "100%|██████████| 25/25 [00:01<00:00, 15.79it/s]\n"
     ]
    },
    {
     "name": "stdout",
     "output_type": "stream",
     "text": [
      "Testing 66 potential triadic pairs\n",
      "Time spent finding triads: 0.0013039112091064453\n",
      "Found 150 connected triads\n",
      "Time spent classifying triads: 0.013827800750732422\n"
     ]
    },
    {
     "name": "stderr",
     "output_type": "stream",
     "text": [
      "\r",
      "  0%|          | 0/25 [00:00<?, ?it/s]"
     ]
    },
    {
     "name": "stdout",
     "output_type": "stream",
     "text": [
      "Testing 52 potential triadic pairs\n",
      "Time spent finding triads: 0.0011074542999267578\n",
      "Found 75 connected triads\n",
      "Time spent classifying triads: 0.006945371627807617\n"
     ]
    },
    {
     "name": "stderr",
     "output_type": "stream",
     "text": [
      "\r",
      "  8%|▊         | 2/25 [00:00<00:01, 16.27it/s]"
     ]
    },
    {
     "name": "stdout",
     "output_type": "stream",
     "text": [
      "Testing 66 potential triadic pairs\n",
      "Time spent finding triads: 0.0013370513916015625\n",
      "Found 162 connected triads\n",
      "Time spent classifying triads: 0.014878988265991211\n",
      "Testing 66 potential triadic pairs\n",
      "Time spent finding triads: 0.0013613700866699219\n",
      "Found 154 connected triads\n"
     ]
    },
    {
     "name": "stderr",
     "output_type": "stream",
     "text": [
      "\r",
      " 16%|█▌        | 4/25 [00:00<00:01, 12.46it/s]"
     ]
    },
    {
     "name": "stdout",
     "output_type": "stream",
     "text": [
      "Time spent classifying triads: 0.014602184295654297\n",
      "Testing 63 potential triadic pairs\n",
      "Time spent finding triads: 0.0011742115020751953\n",
      "Found 108 connected triads\n",
      "Time spent classifying triads: 0.00415802001953125\n"
     ]
    },
    {
     "name": "stderr",
     "output_type": "stream",
     "text": [
      "\r",
      " 24%|██▍       | 6/25 [00:00<00:01, 14.49it/s]"
     ]
    },
    {
     "name": "stdout",
     "output_type": "stream",
     "text": [
      "Testing 65 potential triadic pairs\n",
      "Time spent finding triads: 0.0012354850769042969\n",
      "Found 101 connected triads\n",
      "Time spent classifying triads: 0.009301900863647461\n",
      "Testing 66 potential triadic pairs\n",
      "Time spent finding triads: 0.0013120174407958984\n",
      "Found 169 connected triads\n",
      "Time spent classifying triads: 0.006466388702392578\n"
     ]
    },
    {
     "name": "stderr",
     "output_type": "stream",
     "text": [
      "\r",
      " 32%|███▏      | 8/25 [00:00<00:01, 15.76it/s]"
     ]
    },
    {
     "name": "stdout",
     "output_type": "stream",
     "text": [
      "Testing 63 potential triadic pairs\n",
      "Time spent finding triads: 0.001188039779663086\n",
      "Found 95 connected triads\n",
      "Time spent classifying triads: 0.008762121200561523\n",
      "Testing 66 potential triadic pairs\n",
      "Time spent finding triads: 0.0012254714965820312\n",
      "Found 130 connected triads\n",
      "Time spent classifying triads: 0.0050029754638671875\n"
     ]
    },
    {
     "name": "stderr",
     "output_type": "stream",
     "text": [
      "\r",
      " 40%|████      | 10/25 [00:00<00:00, 16.72it/s]"
     ]
    },
    {
     "name": "stdout",
     "output_type": "stream",
     "text": [
      "Testing 66 potential triadic pairs\n",
      "Time spent finding triads: 0.0014295578002929688\n",
      "Found 191 connected triads\n",
      "Time spent classifying triads: 0.00794529914855957\n",
      "Testing 66 potential triadic pairs\n",
      "Time spent finding triads: 0.001291036605834961\n",
      "Found 172 connected triads\n",
      "Time spent classifying triads: 0.006568193435668945\n"
     ]
    },
    {
     "name": "stderr",
     "output_type": "stream",
     "text": [
      "\r",
      " 48%|████▊     | 12/25 [00:00<00:00, 16.76it/s]"
     ]
    },
    {
     "name": "stdout",
     "output_type": "stream",
     "text": [
      "Testing 66 potential triadic pairs\n",
      "Time spent finding triads: 0.0013730525970458984\n",
      "Found 187 connected triads\n",
      "Time spent classifying triads: 0.017108678817749023\n",
      "Testing 61 potential triadic pairs\n",
      "Time spent finding triads: 0.0011627674102783203\n",
      "Found 113 connected triads\n",
      "Time spent classifying triads: 0.004358768463134766\n"
     ]
    },
    {
     "name": "stderr",
     "output_type": "stream",
     "text": [
      "\r",
      " 56%|█████▌    | 14/25 [00:00<00:00, 16.88it/s]"
     ]
    },
    {
     "name": "stdout",
     "output_type": "stream",
     "text": [
      "Testing 66 potential triadic pairs\n",
      "Time spent finding triads: 0.0013141632080078125\n",
      "Found 160 connected triads\n",
      "Time spent classifying triads: 0.014679431915283203\n",
      "Testing 66 potential triadic pairs\n",
      "Time spent finding triads: 0.0013113021850585938\n",
      "Found 185 connected triads\n",
      "Time spent classifying triads: 0.007005453109741211\n"
     ]
    },
    {
     "name": "stderr",
     "output_type": "stream",
     "text": [
      "\r",
      " 64%|██████▍   | 16/25 [00:00<00:00, 17.21it/s]"
     ]
    },
    {
     "name": "stdout",
     "output_type": "stream",
     "text": [
      "Testing 64 potential triadic pairs\n",
      "Time spent finding triads: 0.0011823177337646484\n",
      "Found 89 connected triads\n",
      "Time spent classifying triads: 0.008193254470825195\n",
      "Testing 66 potential triadic pairs\n",
      "Time spent finding triads: 0.0012691020965576172\n",
      "Found 149 connected triads\n",
      "Time spent classifying triads: 0.005656719207763672\n"
     ]
    },
    {
     "name": "stderr",
     "output_type": "stream",
     "text": [
      "\r",
      " 72%|███████▏  | 18/25 [00:01<00:00, 17.36it/s]"
     ]
    },
    {
     "name": "stdout",
     "output_type": "stream",
     "text": [
      "Testing 66 potential triadic pairs\n",
      "Time spent finding triads: 0.001275777816772461\n",
      "Found 145 connected triads\n",
      "Time spent classifying triads: 0.013308048248291016\n",
      "Testing 63 potential triadic pairs\n",
      "Time spent finding triads: 0.0011818408966064453\n",
      "Found 107 connected triads\n",
      "Time spent classifying triads: 0.004124641418457031\n"
     ]
    },
    {
     "name": "stderr",
     "output_type": "stream",
     "text": [
      "\r",
      " 80%|████████  | 20/25 [00:01<00:00, 17.49it/s]"
     ]
    },
    {
     "name": "stdout",
     "output_type": "stream",
     "text": [
      "Testing 63 potential triadic pairs\n",
      "Time spent finding triads: 0.001238107681274414\n",
      "Found 107 connected triads\n",
      "Time spent classifying triads: 0.009843826293945312\n",
      "Testing 66 potential triadic pairs\n",
      "Time spent finding triads: 0.001241445541381836\n",
      "Found 145 connected triads\n",
      "Time spent classifying triads: 0.005540132522583008\n"
     ]
    },
    {
     "name": "stderr",
     "output_type": "stream",
     "text": [
      "\r",
      " 88%|████████▊ | 22/25 [00:01<00:00, 17.79it/s]"
     ]
    },
    {
     "name": "stdout",
     "output_type": "stream",
     "text": [
      "Testing 65 potential triadic pairs\n",
      "Time spent finding triads: 0.0012660026550292969\n",
      "Found 126 connected triads\n",
      "Time spent classifying triads: 0.007276058197021484\n",
      "Testing 66 potential triadic pairs\n",
      "Time spent finding triads: 0.0012812614440917969\n",
      "Found 162 connected triads\n",
      "Time spent classifying triads: 0.006140708923339844\n"
     ]
    },
    {
     "name": "stderr",
     "output_type": "stream",
     "text": [
      "\r",
      " 96%|█████████▌| 24/25 [00:01<00:00, 18.05it/s]"
     ]
    },
    {
     "name": "stdout",
     "output_type": "stream",
     "text": [
      "Testing 57 potential triadic pairs\n",
      "Time spent finding triads: 0.0011487007141113281\n",
      "Found 82 connected triads\n",
      "Time spent classifying triads: 0.006065845489501953\n",
      "Testing 66 potential triadic pairs\n",
      "Time spent finding triads: 0.0012764930725097656\n",
      "Found 155 connected triads\n",
      "Time spent classifying triads: 0.005878925323486328\n"
     ]
    },
    {
     "name": "stderr",
     "output_type": "stream",
     "text": [
      "100%|██████████| 25/25 [00:01<00:00, 16.85it/s]\n"
     ]
    },
    {
     "name": "stdout",
     "output_type": "stream",
     "text": [
      "Testing 64 potential triadic pairs\n",
      "Time spent finding triads: 0.0012035369873046875\n",
      "Found 108 connected triads\n",
      "Time spent classifying triads: 0.00993204116821289\n"
     ]
    },
    {
     "name": "stderr",
     "output_type": "stream",
     "text": [
      "\r",
      "  0%|          | 0/25 [00:00<?, ?it/s]"
     ]
    },
    {
     "name": "stdout",
     "output_type": "stream",
     "text": [
      "Testing 66 potential triadic pairs\n",
      "Time spent finding triads: 0.0014357566833496094\n",
      "Found 179 connected triads\n",
      "Time spent classifying triads: 0.016408681869506836\n"
     ]
    },
    {
     "name": "stderr",
     "output_type": "stream",
     "text": [
      "\r",
      "  8%|▊         | 2/25 [00:00<00:01, 19.58it/s]"
     ]
    },
    {
     "name": "stdout",
     "output_type": "stream",
     "text": [
      "Testing 65 potential triadic pairs\n",
      "Time spent finding triads: 0.001245737075805664\n",
      "Found 127 connected triads\n",
      "Time spent classifying triads: 0.011622190475463867\n",
      "Testing 63 potential triadic pairs\n",
      "Time spent finding triads: 0.0011682510375976562\n",
      "Found 125 connected triads\n",
      "Time spent classifying triads: 0.004924774169921875\n",
      "Testing 66 potential triadic pairs\n",
      "Time spent finding triads: 0.0012674331665039062\n",
      "Found 154 connected triads\n",
      "Time spent classifying triads: 0.005896806716918945\n"
     ]
    },
    {
     "name": "stderr",
     "output_type": "stream",
     "text": [
      "\r",
      " 20%|██        | 5/25 [00:00<00:00, 22.26it/s]"
     ]
    },
    {
     "name": "stdout",
     "output_type": "stream",
     "text": [
      "Testing 65 potential triadic pairs\n",
      "Time spent finding triads: 0.0012521743774414062\n",
      "Found 122 connected triads\n",
      "Time spent classifying triads: 0.011180400848388672\n",
      "Testing 65 potential triadic pairs\n",
      "Time spent finding triads: 0.0011966228485107422\n",
      "Found 116 connected triads\n",
      "Time spent classifying triads: 0.01061391830444336\n"
     ]
    },
    {
     "name": "stderr",
     "output_type": "stream",
     "text": [
      "\r",
      " 32%|███▏      | 8/25 [00:00<00:00, 21.97it/s]"
     ]
    },
    {
     "name": "stdout",
     "output_type": "stream",
     "text": [
      "Testing 66 potential triadic pairs\n",
      "Time spent finding triads: 0.0012552738189697266\n",
      "Found 140 connected triads\n",
      "Time spent classifying triads: 0.01278066635131836\n",
      "Testing 63 potential triadic pairs\n",
      "Time spent finding triads: 0.0011839866638183594\n",
      "Found 112 connected triads\n",
      "Time spent classifying triads: 0.00433802604675293\n",
      "Testing 66 potential triadic pairs\n",
      "Time spent finding triads: 0.0012385845184326172\n",
      "Found 151 connected triads\n",
      "Time spent classifying triads: 0.005793571472167969\n",
      "Testing 66 potential triadic pairs\n",
      "Time spent finding triads: 0.0012421607971191406\n",
      "Found 135 connected triads\n",
      "Time spent classifying triads: 0.012348413467407227\n"
     ]
    },
    {
     "name": "stderr",
     "output_type": "stream",
     "text": [
      "\r",
      " 44%|████▍     | 11/25 [00:00<00:00, 22.16it/s]"
     ]
    },
    {
     "name": "stdout",
     "output_type": "stream",
     "text": [
      "Testing 62 potential triadic pairs\n",
      "Time spent finding triads: 0.0012257099151611328\n",
      "Found 116 connected triads\n",
      "Time spent classifying triads: 0.01065373420715332\n"
     ]
    },
    {
     "name": "stderr",
     "output_type": "stream",
     "text": [
      "\r",
      " 56%|█████▌    | 14/25 [00:00<00:00, 22.62it/s]"
     ]
    },
    {
     "name": "stdout",
     "output_type": "stream",
     "text": [
      "Testing 66 potential triadic pairs\n",
      "Time spent finding triads: 0.0013077259063720703\n",
      "Found 154 connected triads\n",
      "Time spent classifying triads: 0.014104366302490234\n",
      "Testing 66 potential triadic pairs\n",
      "Time spent finding triads: 0.0011818408966064453\n",
      "Found 121 connected triads\n",
      "Time spent classifying triads: 0.004630565643310547\n",
      "Testing 66 potential triadic pairs\n",
      "Time spent finding triads: 0.0012519359588623047\n",
      "Found 157 connected triads\n",
      "Time spent classifying triads: 0.005990266799926758\n",
      "Testing 66 potential triadic pairs\n",
      "Time spent finding triads: 0.001312255859375\n",
      "Found 168 connected triads\n",
      "Time spent classifying triads: 0.010867595672607422\n",
      "Testing 64 potential triadic pairs\n",
      "Time spent finding triads: 0.0011992454528808594\n",
      "Found 108 connected triads\n",
      "Time spent classifying triads: 0.005472660064697266\n",
      "Testing 66 potential triadic pairs\n",
      "Time spent finding triads: 0.001287221908569336\n",
      "Found 179 connected triads\n"
     ]
    },
    {
     "name": "stderr",
     "output_type": "stream",
     "text": [
      "\r",
      " 68%|██████▊   | 17/25 [00:00<00:00, 22.50it/s]"
     ]
    },
    {
     "name": "stdout",
     "output_type": "stream",
     "text": [
      "Time spent classifying triads: 0.011556625366210938\n",
      "Testing 53 potential triadic pairs\n",
      "Time spent finding triads: 0.0010712146759033203\n",
      "Found 92 connected triads\n",
      "Time spent classifying triads: 0.0035338401794433594\n",
      "Testing 66 potential triadic pairs\n",
      "Time spent finding triads: 0.001367330551147461\n",
      "Found 198 connected triads\n",
      "Time spent classifying triads: 0.007549285888671875\n"
     ]
    },
    {
     "name": "stderr",
     "output_type": "stream",
     "text": [
      "\r",
      " 80%|████████  | 20/25 [00:00<00:00, 23.16it/s]"
     ]
    },
    {
     "name": "stdout",
     "output_type": "stream",
     "text": [
      "Testing 56 potential triadic pairs\n",
      "Time spent finding triads: 0.0015888214111328125\n",
      "Found 83 connected triads\n",
      "Time spent classifying triads: 0.007676839828491211\n",
      "Testing 66 potential triadic pairs\n",
      "Time spent finding triads: 0.0013208389282226562\n",
      "Found 164 connected triads\n",
      "Time spent classifying triads: 0.0147247314453125\n"
     ]
    },
    {
     "name": "stderr",
     "output_type": "stream",
     "text": [
      "\r",
      " 92%|█████████▏| 23/25 [00:01<00:00, 22.91it/s]"
     ]
    },
    {
     "name": "stdout",
     "output_type": "stream",
     "text": [
      "Testing 65 potential triadic pairs\n",
      "Time spent finding triads: 0.0022537708282470703\n",
      "Found 125 connected triads\n",
      "Time spent classifying triads: 0.011430025100708008\n",
      "Testing 62 potential triadic pairs\n",
      "Time spent finding triads: 0.001131296157836914\n",
      "Found 113 connected triads\n",
      "Time spent classifying triads: 0.00434565544128418\n",
      "Testing 37 potential triadic pairs\n",
      "Time spent finding triads: 0.0009222030639648438\n",
      "Found 36 connected triads\n",
      "Time spent classifying triads: 0.0014662742614746094\n"
     ]
    },
    {
     "name": "stderr",
     "output_type": "stream",
     "text": [
      "100%|██████████| 25/25 [00:01<00:00, 22.65it/s]\n"
     ]
    },
    {
     "name": "stdout",
     "output_type": "stream",
     "text": [
      "Testing 66 potential triadic pairs\n",
      "Time spent finding triads: 0.002367258071899414\n",
      "Found 144 connected triads\n",
      "Time spent classifying triads: 0.013221502304077148\n"
     ]
    },
    {
     "name": "stderr",
     "output_type": "stream",
     "text": [
      "\r",
      "  0%|          | 0/25 [00:00<?, ?it/s]"
     ]
    },
    {
     "name": "stdout",
     "output_type": "stream",
     "text": [
      "Testing 66 potential triadic pairs\n",
      "Time spent finding triads: 0.0013730525970458984\n",
      "Found 176 connected triads\n",
      "Time spent classifying triads: 0.013787269592285156\n"
     ]
    },
    {
     "name": "stderr",
     "output_type": "stream",
     "text": [
      "\r",
      "  8%|▊         | 2/25 [00:00<00:01, 15.94it/s]"
     ]
    },
    {
     "name": "stdout",
     "output_type": "stream",
     "text": [
      "Testing 66 potential triadic pairs\n",
      "Time spent finding triads: 0.0013895034790039062\n",
      "Found 193 connected triads\n",
      "Time spent classifying triads: 0.017791271209716797\n",
      "Testing 60 potential triadic pairs\n",
      "Time spent finding triads: 0.0011780261993408203\n",
      "Found 121 connected triads\n",
      "Time spent classifying triads: 0.004653453826904297\n"
     ]
    },
    {
     "name": "stderr",
     "output_type": "stream",
     "text": [
      "\r",
      " 16%|█▌        | 4/25 [00:00<00:01, 17.15it/s]"
     ]
    },
    {
     "name": "stdout",
     "output_type": "stream",
     "text": [
      "Testing 64 potential triadic pairs\n",
      "Time spent finding triads: 0.0012233257293701172\n",
      "Found 121 connected triads\n",
      "Time spent classifying triads: 0.011150121688842773\n",
      "Testing 66 potential triadic pairs\n",
      "Time spent finding triads: 0.0013630390167236328\n",
      "Found 183 connected triads\n",
      "Time spent classifying triads: 0.01459813117980957\n"
     ]
    },
    {
     "name": "stderr",
     "output_type": "stream",
     "text": [
      "\r",
      " 24%|██▍       | 6/25 [00:00<00:01, 16.70it/s]"
     ]
    },
    {
     "name": "stdout",
     "output_type": "stream",
     "text": [
      "Testing 64 potential triadic pairs\n",
      "Time spent finding triads: 0.001256704330444336\n",
      "Found 138 connected triads\n",
      "Time spent classifying triads: 0.012689352035522461\n",
      "Testing 66 potential triadic pairs\n",
      "Time spent finding triads: 0.0012586116790771484\n",
      "Found 166 connected triads\n",
      "Time spent classifying triads: 0.006266593933105469\n"
     ]
    },
    {
     "name": "stderr",
     "output_type": "stream",
     "text": [
      "\r",
      " 32%|███▏      | 8/25 [00:00<00:00, 17.33it/s]"
     ]
    },
    {
     "name": "stdout",
     "output_type": "stream",
     "text": [
      "Testing 66 potential triadic pairs\n",
      "Time spent finding triads: 0.0012428760528564453\n",
      "Found 123 connected triads\n",
      "Time spent classifying triads: 0.00986623764038086\n",
      "Testing 66 potential triadic pairs\n",
      "Time spent finding triads: 0.001287221908569336\n",
      "Found 144 connected triads\n",
      "Time spent classifying triads: 0.013248205184936523\n"
     ]
    },
    {
     "name": "stderr",
     "output_type": "stream",
     "text": [
      "\r",
      " 40%|████      | 10/25 [00:00<00:00, 17.13it/s]"
     ]
    },
    {
     "name": "stdout",
     "output_type": "stream",
     "text": [
      "Testing 62 potential triadic pairs\n",
      "Time spent finding triads: 0.0011968612670898438\n",
      "Found 99 connected triads\n",
      "Time spent classifying triads: 0.009129524230957031\n",
      "Testing 66 potential triadic pairs\n",
      "Time spent finding triads: 0.0012776851654052734\n",
      "Found 159 connected triads\n",
      "Time spent classifying triads: 0.00607609748840332\n"
     ]
    },
    {
     "name": "stderr",
     "output_type": "stream",
     "text": [
      "\r",
      " 48%|████▊     | 12/25 [00:00<00:00, 17.68it/s]"
     ]
    },
    {
     "name": "stdout",
     "output_type": "stream",
     "text": [
      "Testing 66 potential triadic pairs\n",
      "Time spent finding triads: 0.0012578964233398438\n",
      "Found 124 connected triads\n",
      "Time spent classifying triads: 0.008052587509155273\n",
      "Testing 66 potential triadic pairs\n",
      "Time spent finding triads: 0.0012788772583007812\n",
      "Found 131 connected triads\n",
      "Time spent classifying triads: 0.012018680572509766\n"
     ]
    },
    {
     "name": "stderr",
     "output_type": "stream",
     "text": [
      "\r",
      " 56%|█████▌    | 14/25 [00:00<00:00, 17.41it/s]"
     ]
    },
    {
     "name": "stdout",
     "output_type": "stream",
     "text": [
      "Testing 65 potential triadic pairs\n",
      "Time spent finding triads: 0.0012564659118652344\n",
      "Found 131 connected triads\n",
      "Time spent classifying triads: 0.0086669921875\n",
      "Testing 65 potential triadic pairs\n",
      "Time spent finding triads: 0.0011775493621826172\n",
      "Found 112 connected triads\n",
      "Time spent classifying triads: 0.004290580749511719\n"
     ]
    },
    {
     "name": "stderr",
     "output_type": "stream",
     "text": [
      "\r",
      " 64%|██████▍   | 16/25 [00:00<00:00, 17.74it/s]"
     ]
    },
    {
     "name": "stdout",
     "output_type": "stream",
     "text": [
      "Testing 66 potential triadic pairs\n",
      "Time spent finding triads: 0.0013666152954101562\n",
      "Found 171 connected triads\n",
      "Time spent classifying triads: 0.01138162612915039\n",
      "Testing 61 potential triadic pairs\n",
      "Time spent finding triads: 0.00125885009765625\n",
      "Found 121 connected triads\n",
      "Time spent classifying triads: 0.011175155639648438\n"
     ]
    },
    {
     "name": "stderr",
     "output_type": "stream",
     "text": [
      "\r",
      " 72%|███████▏  | 18/25 [00:01<00:00, 17.72it/s]"
     ]
    },
    {
     "name": "stdout",
     "output_type": "stream",
     "text": [
      "Testing 49 potential triadic pairs\n",
      "Time spent finding triads: 0.0010688304901123047\n",
      "Found 63 connected triads\n",
      "Time spent classifying triads: 0.0058519840240478516\n",
      "Testing 65 potential triadic pairs\n",
      "Time spent finding triads: 0.0012521743774414062\n",
      "Found 151 connected triads\n",
      "Time spent classifying triads: 0.005783557891845703\n"
     ]
    },
    {
     "name": "stderr",
     "output_type": "stream",
     "text": [
      "\r",
      " 80%|████████  | 20/25 [00:01<00:00, 17.73it/s]"
     ]
    },
    {
     "name": "stdout",
     "output_type": "stream",
     "text": [
      "Testing 64 potential triadic pairs\n",
      "Time spent finding triads: 0.001300811767578125\n",
      "Found 147 connected triads\n",
      "Time spent classifying triads: 0.013587474822998047\n",
      "Testing 66 potential triadic pairs\n",
      "Time spent finding triads: 0.0013666152954101562\n",
      "Found 174 connected triads\n",
      "Time spent classifying triads: 0.006587028503417969\n"
     ]
    },
    {
     "name": "stderr",
     "output_type": "stream",
     "text": [
      "\r",
      " 88%|████████▊ | 22/25 [00:01<00:00, 17.45it/s]"
     ]
    },
    {
     "name": "stdout",
     "output_type": "stream",
     "text": [
      "Testing 66 potential triadic pairs\n",
      "Time spent finding triads: 0.0014278888702392578\n",
      "Found 195 connected triads\n",
      "Time spent classifying triads: 0.017905473709106445\n",
      "Testing 65 potential triadic pairs\n",
      "Time spent finding triads: 0.001218557357788086\n",
      "Found 142 connected triads\n",
      "Time spent classifying triads: 0.0054395198822021484\n"
     ]
    },
    {
     "name": "stderr",
     "output_type": "stream",
     "text": [
      "\r",
      " 96%|█████████▌| 24/25 [00:01<00:00, 17.72it/s]"
     ]
    },
    {
     "name": "stdout",
     "output_type": "stream",
     "text": [
      "Testing 64 potential triadic pairs\n",
      "Time spent finding triads: 0.0012056827545166016\n",
      "Found 104 connected triads\n",
      "Time spent classifying triads: 0.009567737579345703\n"
     ]
    },
    {
     "name": "stderr",
     "output_type": "stream",
     "text": [
      "100%|██████████| 25/25 [00:01<00:00, 17.35it/s]\n"
     ]
    },
    {
     "name": "stdout",
     "output_type": "stream",
     "text": [
      "Testing 66 potential triadic pairs\n",
      "Time spent finding triads: 0.00133514404296875\n",
      "Found 173 connected triads\n",
      "Time spent classifying triads: 0.01584339141845703\n"
     ]
    },
    {
     "name": "stderr",
     "output_type": "stream",
     "text": [
      "  8%|▊         | 2/25 [00:00<00:01, 18.87it/s]"
     ]
    },
    {
     "name": "stdout",
     "output_type": "stream",
     "text": [
      "Testing 66 potential triadic pairs\n",
      "Time spent finding triads: 0.0012907981872558594\n",
      "Found 143 connected triads\n",
      "Time spent classifying triads: 0.005793333053588867\n",
      "Testing 66 potential triadic pairs\n",
      "Time spent finding triads: 0.0012886524200439453\n",
      "Found 163 connected triads\n",
      "Time spent classifying triads: 0.006232261657714844\n",
      "Testing 64 potential triadic pairs\n",
      "Time spent finding triads: 0.0012447834014892578\n",
      "Found 123 connected triads\n",
      "Time spent classifying triads: 0.011290550231933594\n"
     ]
    },
    {
     "name": "stderr",
     "output_type": "stream",
     "text": [
      "\r",
      " 16%|█▌        | 4/25 [00:00<00:01, 17.14it/s]"
     ]
    },
    {
     "name": "stdout",
     "output_type": "stream",
     "text": [
      "Testing 66 potential triadic pairs\n",
      "Time spent finding triads: 0.0013718605041503906\n",
      "Found 176 connected triads\n",
      "Time spent classifying triads: 0.016118764877319336\n"
     ]
    },
    {
     "name": "stderr",
     "output_type": "stream",
     "text": [
      "\r",
      " 24%|██▍       | 6/25 [00:00<00:01, 17.63it/s]"
     ]
    },
    {
     "name": "stdout",
     "output_type": "stream",
     "text": [
      "Testing 54 potential triadic pairs\n",
      "Time spent finding triads: 0.0011281967163085938\n",
      "Found 94 connected triads\n",
      "Time spent classifying triads: 0.008650779724121094\n",
      "Testing 66 potential triadic pairs\n",
      "Time spent finding triads: 0.0012629032135009766\n",
      "Found 161 connected triads\n",
      "Time spent classifying triads: 0.0061910152435302734\n",
      "Testing 66 potential triadic pairs\n",
      "Time spent finding triads: 0.0012469291687011719\n",
      "Found 134 connected triads\n",
      "Time spent classifying triads: 0.012317180633544922\n"
     ]
    },
    {
     "name": "stderr",
     "output_type": "stream",
     "text": [
      "\r",
      " 32%|███▏      | 8/25 [00:00<00:01, 16.93it/s]"
     ]
    },
    {
     "name": "stdout",
     "output_type": "stream",
     "text": [
      "Testing 66 potential triadic pairs\n",
      "Time spent finding triads: 0.0013630390167236328\n",
      "Found 173 connected triads\n",
      "Time spent classifying triads: 0.015868186950683594\n"
     ]
    },
    {
     "name": "stderr",
     "output_type": "stream",
     "text": [
      "\r",
      " 40%|████      | 10/25 [00:00<00:00, 17.16it/s]"
     ]
    },
    {
     "name": "stdout",
     "output_type": "stream",
     "text": [
      "Testing 65 potential triadic pairs\n",
      "Time spent finding triads: 0.0012488365173339844\n",
      "Found 133 connected triads\n",
      "Time spent classifying triads: 0.012225151062011719\n",
      "Testing 66 potential triadic pairs\n",
      "Time spent finding triads: 0.0013163089752197266\n",
      "Found 178 connected triads\n",
      "Time spent classifying triads: 0.00682830810546875\n",
      "Testing 52 potential triadic pairs\n",
      "Time spent finding triads: 0.0011186599731445312\n",
      "Found 76 connected triads\n",
      "Time spent classifying triads: 0.007061958312988281\n"
     ]
    },
    {
     "name": "stderr",
     "output_type": "stream",
     "text": [
      "\r",
      " 48%|████▊     | 12/25 [00:00<00:00, 17.31it/s]"
     ]
    },
    {
     "name": "stdout",
     "output_type": "stream",
     "text": [
      "Testing 62 potential triadic pairs\n",
      "Time spent finding triads: 0.0012094974517822266\n",
      "Found 105 connected triads\n",
      "Time spent classifying triads: 0.009662151336669922\n"
     ]
    },
    {
     "name": "stderr",
     "output_type": "stream",
     "text": [
      "\r",
      " 56%|█████▌    | 14/25 [00:00<00:00, 17.87it/s]"
     ]
    },
    {
     "name": "stdout",
     "output_type": "stream",
     "text": [
      "Testing 62 potential triadic pairs\n",
      "Time spent finding triads: 0.0012056827545166016\n",
      "Found 103 connected triads\n",
      "Time spent classifying triads: 0.007824182510375977\n",
      "Testing 59 potential triadic pairs\n",
      "Time spent finding triads: 0.0011081695556640625\n",
      "Found 87 connected triads\n",
      "Time spent classifying triads: 0.0034046173095703125\n",
      "Testing 66 potential triadic pairs\n",
      "Time spent finding triads: 0.0014719963073730469\n",
      "Found 206 connected triads\n",
      "Time spent classifying triads: 0.018869638442993164\n"
     ]
    },
    {
     "name": "stderr",
     "output_type": "stream",
     "text": [
      "\r",
      " 64%|██████▍   | 16/25 [00:00<00:00, 16.99it/s]"
     ]
    },
    {
     "name": "stdout",
     "output_type": "stream",
     "text": [
      "Testing 66 potential triadic pairs\n",
      "Time spent finding triads: 0.0013077259063720703\n",
      "Found 156 connected triads\n",
      "Time spent classifying triads: 0.014295578002929688\n"
     ]
    },
    {
     "name": "stderr",
     "output_type": "stream",
     "text": [
      "\r",
      " 72%|███████▏  | 18/25 [00:01<00:00, 17.46it/s]"
     ]
    },
    {
     "name": "stdout",
     "output_type": "stream",
     "text": [
      "Testing 66 potential triadic pairs\n",
      "Time spent finding triads: 0.0012996196746826172\n",
      "Found 147 connected triads\n",
      "Time spent classifying triads: 0.008854150772094727\n",
      "Testing 64 potential triadic pairs\n",
      "Time spent finding triads: 0.0011959075927734375\n",
      "Found 128 connected triads\n",
      "Time spent classifying triads: 0.004950046539306641\n",
      "Testing 64 potential triadic pairs\n",
      "Time spent finding triads: 0.001226186752319336\n",
      "Found 114 connected triads\n",
      "Time spent classifying triads: 0.010482072830200195\n"
     ]
    },
    {
     "name": "stderr",
     "output_type": "stream",
     "text": [
      "\r",
      " 80%|████████  | 20/25 [00:01<00:00, 17.35it/s]"
     ]
    },
    {
     "name": "stdout",
     "output_type": "stream",
     "text": [
      "Testing 62 potential triadic pairs\n",
      "Time spent finding triads: 0.0012235641479492188\n",
      "Found 110 connected triads\n",
      "Time spent classifying triads: 0.010108232498168945\n"
     ]
    },
    {
     "name": "stderr",
     "output_type": "stream",
     "text": [
      "\r",
      " 88%|████████▊ | 22/25 [00:01<00:00, 17.64it/s]"
     ]
    },
    {
     "name": "stdout",
     "output_type": "stream",
     "text": [
      "Testing 64 potential triadic pairs\n",
      "Time spent finding triads: 0.0012209415435791016\n",
      "Found 117 connected triads\n",
      "Time spent classifying triads: 0.010150432586669922\n",
      "Testing 57 potential triadic pairs\n",
      "Time spent finding triads: 0.0010797977447509766\n",
      "Found 76 connected triads\n",
      "Time spent classifying triads: 0.0062296390533447266\n",
      "Testing 62 potential triadic pairs\n",
      "Time spent finding triads: 0.0013039112091064453\n",
      "Found 143 connected triads\n",
      "Time spent classifying triads: 0.013175487518310547\n"
     ]
    },
    {
     "name": "stderr",
     "output_type": "stream",
     "text": [
      "\r",
      " 96%|█████████▌| 24/25 [00:01<00:00, 17.44it/s]"
     ]
    },
    {
     "name": "stdout",
     "output_type": "stream",
     "text": [
      "Testing 66 potential triadic pairs\n",
      "Time spent finding triads: 0.0015826225280761719\n",
      "Found 196 connected triads\n",
      "Time spent classifying triads: 0.007471323013305664\n"
     ]
    },
    {
     "name": "stderr",
     "output_type": "stream",
     "text": [
      "100%|██████████| 25/25 [00:01<00:00, 17.37it/s]\n"
     ]
    },
    {
     "name": "stdout",
     "output_type": "stream",
     "text": [
      "Testing 66 potential triadic pairs\n",
      "Time spent finding triads: 0.0013194084167480469\n",
      "Found 167 connected triads\n",
      "Time spent classifying triads: 0.011852502822875977\n"
     ]
    },
    {
     "name": "stderr",
     "output_type": "stream",
     "text": [
      "\r",
      "  0%|          | 0/25 [00:00<?, ?it/s]"
     ]
    },
    {
     "name": "stdout",
     "output_type": "stream",
     "text": [
      "Testing 62 potential triadic pairs\n",
      "Time spent finding triads: 0.0012226104736328125\n",
      "Found 109 connected triads\n",
      "Time spent classifying triads: 0.010052680969238281\n",
      "Testing 66 potential triadic pairs\n",
      "Time spent finding triads: 0.0012366771697998047\n",
      "Found 140 connected triads\n",
      "Time spent classifying triads: 0.01285862922668457\n"
     ]
    },
    {
     "name": "stderr",
     "output_type": "stream",
     "text": [
      "\r",
      " 12%|█▏        | 3/25 [00:00<00:00, 22.02it/s]"
     ]
    },
    {
     "name": "stdout",
     "output_type": "stream",
     "text": [
      "Testing 66 potential triadic pairs\n",
      "Time spent finding triads: 0.0013439655303955078\n",
      "Found 143 connected triads\n",
      "Time spent classifying triads: 0.008326530456542969\n",
      "Testing 66 potential triadic pairs\n",
      "Time spent finding triads: 0.0013251304626464844\n",
      "Found 160 connected triads\n",
      "Time spent classifying triads: 0.006144523620605469\n",
      "Testing 63 potential triadic pairs\n",
      "Time spent finding triads: 0.001172780990600586\n",
      "Found 100 connected triads\n",
      "Time spent classifying triads: 0.009225845336914062\n"
     ]
    },
    {
     "name": "stderr",
     "output_type": "stream",
     "text": [
      "\r",
      " 24%|██▍       | 6/25 [00:00<00:00, 22.39it/s]"
     ]
    },
    {
     "name": "stdout",
     "output_type": "stream",
     "text": [
      "Testing 63 potential triadic pairs\n",
      "Time spent finding triads: 0.001176595687866211\n",
      "Found 101 connected triads\n",
      "Time spent classifying triads: 0.009308815002441406\n",
      "Testing 57 potential triadic pairs\n",
      "Time spent finding triads: 0.0010976791381835938\n",
      "Found 91 connected triads\n",
      "Time spent classifying triads: 0.003518819808959961\n"
     ]
    },
    {
     "name": "stderr",
     "output_type": "stream",
     "text": [
      "\r",
      " 36%|███▌      | 9/25 [00:00<00:00, 24.01it/s]"
     ]
    },
    {
     "name": "stdout",
     "output_type": "stream",
     "text": [
      "Testing 66 potential triadic pairs\n",
      "Time spent finding triads: 0.00151824951171875\n",
      "Found 135 connected triads\n",
      "Time spent classifying triads: 0.005239248275756836\n",
      "Testing 64 potential triadic pairs\n",
      "Time spent finding triads: 0.0011754035949707031\n",
      "Found 123 connected triads\n",
      "Time spent classifying triads: 0.004743099212646484\n",
      "Testing 66 potential triadic pairs\n",
      "Time spent finding triads: 0.0012791156768798828\n",
      "Found 172 connected triads\n",
      "Time spent classifying triads: 0.008451223373413086\n",
      "Testing 60 potential triadic pairs\n",
      "Time spent finding triads: 0.0011069774627685547\n",
      "Found 85 connected triads\n",
      "Time spent classifying triads: 0.003289461135864258\n"
     ]
    },
    {
     "name": "stderr",
     "output_type": "stream",
     "text": [
      "\r",
      " 48%|████▊     | 12/25 [00:00<00:00, 23.65it/s]"
     ]
    },
    {
     "name": "stdout",
     "output_type": "stream",
     "text": [
      "Testing 66 potential triadic pairs\n",
      "Time spent finding triads: 0.0012545585632324219\n",
      "Found 146 connected triads\n",
      "Time spent classifying triads: 0.013435125350952148\n",
      "Testing 66 potential triadic pairs\n",
      "Time spent finding triads: 0.0013048648834228516\n",
      "Found 156 connected triads\n",
      "Time spent classifying triads: 0.014303922653198242\n",
      "Testing 66 potential triadic pairs\n",
      "Time spent finding triads: 0.001341104507446289\n",
      "Found 186 connected triads\n",
      "Time spent classifying triads: 0.0070726871490478516\n"
     ]
    },
    {
     "name": "stderr",
     "output_type": "stream",
     "text": [
      "\r",
      " 60%|██████    | 15/25 [00:00<00:00, 22.78it/s]"
     ]
    },
    {
     "name": "stdout",
     "output_type": "stream",
     "text": [
      "Testing 66 potential triadic pairs\n",
      "Time spent finding triads: 0.0025272369384765625\n",
      "Found 170 connected triads\n",
      "Time spent classifying triads: 0.015658855438232422\n",
      "Testing 66 potential triadic pairs\n",
      "Time spent finding triads: 0.0012969970703125\n",
      "Found 170 connected triads\n",
      "Time spent classifying triads: 0.0064678192138671875\n",
      "Testing 65 potential triadic pairs\n",
      "Time spent finding triads: 0.0012488365173339844\n",
      "Found 144 connected triads\n",
      "Time spent classifying triads: 0.013208150863647461\n"
     ]
    },
    {
     "name": "stderr",
     "output_type": "stream",
     "text": [
      "\r",
      " 72%|███████▏  | 18/25 [00:00<00:00, 22.82it/s]"
     ]
    },
    {
     "name": "stdout",
     "output_type": "stream",
     "text": [
      "Testing 66 potential triadic pairs\n",
      "Time spent finding triads: 0.0012843608856201172\n",
      "Found 156 connected triads\n",
      "Time spent classifying triads: 0.006538867950439453\n",
      "Testing 66 potential triadic pairs\n",
      "Time spent finding triads: 0.0012125968933105469\n",
      "Found 136 connected triads\n",
      "Time spent classifying triads: 0.005224466323852539\n"
     ]
    },
    {
     "name": "stderr",
     "output_type": "stream",
     "text": [
      "\r",
      " 84%|████████▍ | 21/25 [00:00<00:00, 23.26it/s]"
     ]
    },
    {
     "name": "stdout",
     "output_type": "stream",
     "text": [
      "Testing 63 potential triadic pairs\n",
      "Time spent finding triads: 0.0019795894622802734\n",
      "Found 117 connected triads\n",
      "Time spent classifying triads: 0.010763406753540039\n",
      "Testing 66 potential triadic pairs\n",
      "Time spent finding triads: 0.0012521743774414062\n",
      "Found 153 connected triads\n",
      "Time spent classifying triads: 0.005891323089599609\n",
      "Testing 66 potential triadic pairs\n",
      "Time spent finding triads: 0.0022950172424316406\n",
      "Found 139 connected triads\n",
      "Time spent classifying triads: 0.012776613235473633\n"
     ]
    },
    {
     "name": "stderr",
     "output_type": "stream",
     "text": [
      "\r",
      " 96%|█████████▌| 24/25 [00:01<00:00, 22.52it/s]"
     ]
    },
    {
     "name": "stdout",
     "output_type": "stream",
     "text": [
      "Testing 66 potential triadic pairs\n",
      "Time spent finding triads: 0.0013227462768554688\n",
      "Found 175 connected triads\n",
      "Time spent classifying triads: 0.015937089920043945\n",
      "Testing 66 potential triadic pairs\n",
      "Time spent finding triads: 0.0012822151184082031\n",
      "Found 164 connected triads\n",
      "Time spent classifying triads: 0.006281375885009766\n"
     ]
    },
    {
     "name": "stderr",
     "output_type": "stream",
     "text": [
      "\r",
      "100%|██████████| 25/25 [00:01<00:00, 22.70it/s]"
     ]
    },
    {
     "name": "stdout",
     "output_type": "stream",
     "text": [
      "Testing 65 potential triadic pairs\n",
      "Time spent finding triads: 0.001252889633178711\n",
      "Found 135 connected triads\n",
      "Time spent classifying triads: 0.012381315231323242\n"
     ]
    },
    {
     "name": "stderr",
     "output_type": "stream",
     "text": [
      "\n"
     ]
    }
   ],
   "source": [
    "all_counts = []\n",
    "all_er = []\n",
    "all_deltas = []\n",
    "for m in Ms:\n",
    "    counts, P, deltas = sample_and_count_triads(m, mv_cv)\n",
    "    count_er_mn, count_er_sd = number_expected_er(P, counts.sum())\n",
    "    all_counts.append((counts - count_er_mn) / count_er_sd)\n",
    "    all_deltas.append(deltas)\n",
    "\n",
    "all_counts = pandas.DataFrame(all_counts,\n",
    "                 index=pandas.RangeIndex(len(all_counts), name=\"subvolume\"),\n",
    "                 columns=pandas.RangeIndex(13, name=\"motif\"))"
   ]
  },
  {
   "cell_type": "markdown",
   "id": "48f97040",
   "metadata": {},
   "source": [
    "Plot"
   ]
  },
  {
   "cell_type": "code",
   "execution_count": 7,
   "id": "fb6ab8d1",
   "metadata": {},
   "outputs": [
    {
     "data": {
      "text/plain": [
       "Text(0, 0.5, 'Z-score')"
      ]
     },
     "execution_count": 7,
     "metadata": {},
     "output_type": "execute_result"
    },
    {
     "data": {
      "image/png": "[encoded data removed]",
      "text/plain": [
       "<Figure size 500x300 with 1 Axes>"
      ]
     },
     "metadata": {},
     "output_type": "display_data"
    }
   ],
   "source": [
    "fig = plt.figure(figsize=(5, 3))\n",
    "ax = fig.gca()\n",
    "\n",
    "ax.bar(all_counts.columns, all_counts.mean())\n",
    "x = numpy.repeat(all_counts.columns.values.reshape((1, -1)), len(all_counts), axis=0)\n",
    "x = x + 0.25 * (numpy.random.rand(*x.shape) - 0.5)\n",
    "ax.plot(x, all_counts.values, color=\"black\", ls=\"None\", marker='s', ms=2)\n",
    "ax.plot([0, 13], [0, 0], color=\"grey\", lw=0.5)\n",
    "ax.set_frame_on(False)\n",
    "ax.set_xlabel(\"Triad #\")\n",
    "ax.set_ylabel(\"Z-score\")"
   ]
  },
  {
   "cell_type": "code",
   "execution_count": 8,
   "id": "d6690bfe",
   "metadata": {},
   "outputs": [
    {
     "data": {
      "text/plain": [
       "Text(0, 0.5, 'Mean distance (um)')"
      ]
     },
     "execution_count": 8,
     "metadata": {},
     "output_type": "execute_result"
    },
    {
     "data": {
      "image/png": "[encoded data removed]",
      "text/plain": [
       "<Figure size 500x300 with 2 Axes>"
      ]
     },
     "metadata": {},
     "output_type": "display_data"
    }
   ],
   "source": [
    "i = 0\n",
    "d = all_deltas[i]\n",
    "d = dict([(k, numpy.vstack(v)) for k, v in d.items()])\n",
    "dists = dict([(k, numpy.linalg.norm(v, axis=1).mean()) for k, v in d.items()])\n",
    "\n",
    "fig = plt.figure(figsize=(5, 3))\n",
    "ax = fig.add_axes([0.1, 0.1, 0.5, 0.85])\n",
    "\n",
    "def sample_random_fraction(arr_in, frac):\n",
    "    assert frac <= 1\n",
    "    b = numpy.random.choice(arr_in.shape[0], int(arr_in.shape[0] * frac), replace=False)\n",
    "    return arr_in[b, 0], arr_in[b, 1]\n",
    "\n",
    "ax.scatter(*sample_random_fraction(d[\"unconnected\"], 0.1), c=\"grey\", s=7, alpha=0.5, label=\"Unconnected\")\n",
    "ax.scatter(*sample_random_fraction(d[\"connected\"], 0.1), c=\"orange\", s=7, alpha=0.5, label=\"Unidirectional\")\n",
    "ax.scatter(*sample_random_fraction(d[\"reciprocal\"], 0.1), c=\"red\", s=7, alpha=0.5, label=\"Reciprocal\")\n",
    "ax.plot(0, 0, marker=\"^\", ms=8, color=\"black\")\n",
    "ax.set_xlabel(\"Horizontal offset (um)\")\n",
    "ax.set_ylabel(\"Vertical offset (um)\")\n",
    "plt.axis(\"equal\")\n",
    "plt.legend()\n",
    "\n",
    "ax = fig.add_axes([0.7, 0.35, 0.275, 0.35])\n",
    "ax.bar(2, dists[\"reciprocal\"], color=\"red\")\n",
    "ax.bar(1, dists[\"connected\"], color=\"orange\")\n",
    "ax.bar(0, dists[\"unconnected\"], color=\"grey\")\n",
    "ax.set_xticks([0, 1, 2]); ax.set_xticklabels([\"Unconnected\", \"Unidirectional\", \"Reciprocal\"], rotation=\"vertical\")\n",
    "ax.set_ylabel(\"Mean distance (um)\")"
   ]
  }
 ],
 "metadata": {
  "kernelspec": {
   "display_name": "bluepysnap",
   "language": "python",
   "name": "bluepysnap"
  },
  "language_info": {
   "codemirror_mode": {
    "name": "ipython",
    "version": 3
   },
   "file_extension": ".py",
   "mimetype": "text/x-python",
   "name": "python",
   "nbconvert_exporter": "python",
   "pygments_lexer": "ipython3",
   "version": "3.10.8"
  }
 },
 "nbformat": 4,
 "nbformat_minor": 5
}
