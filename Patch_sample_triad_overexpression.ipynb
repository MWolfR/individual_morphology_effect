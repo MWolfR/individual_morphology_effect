{
 "cells": [
  {
   "cell_type": "code",
   "execution_count": 1,
   "id": "7ff3add2",
   "metadata": {},
   "outputs": [],
   "source": [
    "import numpy, pandas\n",
    "import conntility\n",
    "import os\n",
    "import connalysis\n",
    "import tqdm\n",
    "\n",
    "from scipy.spatial import distance\n",
    "from matplotlib import pyplot as plt\n"
   ]
  },
  {
   "cell_type": "code",
   "execution_count": 2,
   "id": "6e73e44d",
   "metadata": {},
   "outputs": [],
   "source": [
    "# Connectivity matrix to use\n",
    "fn_mat = \"/gpfs/bbp.cscs.ch/project/proj159/home/barros/conn_matrix/Human_960um_squared_funct_conmat_filtered_compressed.h5\"\n",
    "# Volume will be decomposed into volumes of this size\n",
    "decomposition_sz = 200\n",
    "# What are the horizontal axes of the volume? Decomposition will happen in this plane.\n",
    "decomposition_plane = [\"x\", \"z\"]\n",
    "# After decomposition, columns smaller than this will be discarded\n",
    "min_column_sz = 500\n",
    "\n",
    "# Describes the patch sampling spatial dimensions. 40 ** 2 will sample neuron pairs up to ~100 um.\n",
    "mv_cv = numpy.array([[40**2, 0], [0, 40**2]]) \n",
    "# Up to this number of neurons will be sampled together\n",
    "n_patch = 12\n",
    "# The number of times the patch sampling procedure will be applied\n",
    "# I.e. the number of sampled pairs will be <= n_patch * (n_patch - 1) * n_samples\n",
    "n_samples = 25\n",
    "\n",
    "M = conntility.ConnectivityMatrix.from_h5(fn_mat)"
   ]
  },
  {
   "cell_type": "code",
   "execution_count": 3,
   "id": "dc48e87b",
   "metadata": {},
   "outputs": [],
   "source": [
    "grps = conntility.circuit_models.neuron_groups.group_by_grid(M.vertices, decomposition_plane, decomposition_sz)\n",
    "grps = grps.groupby(\"grid-subtarget\")[\"node_ids\"].apply(list)\n",
    "\n",
    "Ms = []\n",
    "for grp in grps:\n",
    "    m = M.subpopulation(grp)\n",
    "    if len(m) > min_column_sz:\n",
    "        Ms.append(m)"
   ]
  },
  {
   "cell_type": "markdown",
   "id": "90e102fb",
   "metadata": {},
   "source": [
    "Functions to patch sample and evaluate triads"
   ]
  },
  {
   "cell_type": "code",
   "execution_count": 4,
   "id": "f5939a74",
   "metadata": {},
   "outputs": [],
   "source": [
    "col_slc = [\"slice_x\", \"slice_y\"]\n",
    "\n",
    "def number_expected_er(P):\n",
    "    from connalysis.network.topology import triad_combinations\n",
    "    num_edge_per_triad = numpy.array([2, 2, 2, 3, 3, 3, 3, 4, 4 ,4 ,4, 5, 6])\n",
    "    num_edge_per_non_triad = numpy.array([0, 1, 2])\n",
    "    non_triad_combinations = numpy.array([1, 6, 3])\n",
    "\n",
    "    p_er = triad_combinations * (P ** num_edge_per_triad) * ((1 - P) ** (6 - num_edge_per_triad))\n",
    "    p_er_non = non_triad_combinations * (P ** num_edge_per_non_triad) * ((1 - P) ** (6 - num_edge_per_non_triad))\n",
    "    assert numpy.abs(1 - (p_er.sum() + p_er_non.sum())) < 1E-6\n",
    "\n",
    "    n_er = (p_er / p_er.sum())\n",
    "    return n_er\n",
    "\n",
    "def sample_and_count_triads(m, mv_cv, n_patch=12, n_samples=25):\n",
    "    counts = []\n",
    "    sum_pairs = 0\n",
    "    sum_connected = 0\n",
    "    delta_rec = []\n",
    "    delta_con = []\n",
    "    delta_unc = []\n",
    "    for _ in tqdm.tqdm(range(n_samples)):\n",
    "        try:\n",
    "            s = m.slice(numpy.random.rand() * numpy.pi, (numpy.random.rand() - 0.5) * 50, 150)\n",
    "            s = s.patch_sample(n_patch, [0, 0], mv_cv, columns_xy=[\"slice_x\", \"slice_y\"])\n",
    "            sum_pairs += (len(s) * (len(s) - 1))\n",
    "            sum_connected += s.matrix.nnz\n",
    "            counts.append(connalysis.network.topology.count_triads_fully_connected(s.matrix > 0, return_normalized=False))\n",
    "            D = s.vertices[col_slc].values.reshape((-1, 1, 2)) - s.vertices[col_slc].values.reshape((1, -1, 2))\n",
    "            delta_rec.append(D[(s.array > 0) & (s.array.transpose() > 0)])\n",
    "            delta_con.append(D[(s.array > 0) & (s.array.transpose() == 0)])\n",
    "            delta_unc.append(D[(s.array == 0)])\n",
    "        except:\n",
    "            pass\n",
    "    P = sum_connected / sum_pairs\n",
    "    deltas = {\"reciprocal\": delta_rec, \"connected\": delta_con, \"unconnected\": delta_unc}\n",
    "    counts = numpy.vstack(counts).sum(axis=0) / numpy.vstack(counts).sum()\n",
    "    return counts, P, deltas\n"
   ]
  },
  {
   "cell_type": "markdown",
   "id": "7e696aa3",
   "metadata": {},
   "source": [
    "EXECUTE!"
   ]
  },
  {
   "cell_type": "code",
   "execution_count": 5,
   "id": "0e10e644",
   "metadata": {},
   "outputs": [
    {
     "name": "stderr",
     "output_type": "stream",
     "text": [
      " 24%|██▍       | 6/25 [00:00<00:00, 25.27it/s]"
     ]
    },
    {
     "name": "stdout",
     "output_type": "stream",
     "text": [
      "Testing 64 potential triadic pairs\n",
      "Time spent finding triads: 0.0026590824127197266\n",
      "Found 153 connected triads\n",
      "Time spent classifying triads: 0.008014202117919922\n",
      "Testing 65 potential triadic pairs\n",
      "Time spent finding triads: 0.001222372055053711\n",
      "Found 121 connected triads\n",
      "Time spent classifying triads: 0.004668235778808594\n",
      "Testing 64 potential triadic pairs\n",
      "Time spent finding triads: 0.0011649131774902344\n",
      "Found 100 connected triads\n",
      "Time spent classifying triads: 0.0038743019104003906\n",
      "Testing 65 potential triadic pairs\n",
      "Time spent finding triads: 0.0012869834899902344\n",
      "Found 149 connected triads\n",
      "Time spent classifying triads: 0.005713939666748047\n",
      "Testing 66 potential triadic pairs\n",
      "Time spent finding triads: 0.0013265609741210938\n",
      "Found 175 connected triads\n",
      "Time spent classifying triads: 0.006675004959106445\n",
      "Testing 66 potential triadic pairs\n",
      "Time spent finding triads: 0.001430511474609375\n",
      "Found 167 connected triads\n",
      "Time spent classifying triads: 0.006350517272949219\n"
     ]
    },
    {
     "name": "stderr",
     "output_type": "stream",
     "text": [
      " 48%|████▊     | 12/25 [00:00<00:00, 25.60it/s]"
     ]
    },
    {
     "name": "stdout",
     "output_type": "stream",
     "text": [
      "Testing 65 potential triadic pairs\n",
      "Time spent finding triads: 0.0012760162353515625\n",
      "Found 131 connected triads\n",
      "Time spent classifying triads: 0.012057065963745117\n",
      "Testing 66 potential triadic pairs\n",
      "Time spent finding triads: 0.0012285709381103516\n",
      "Found 137 connected triads\n",
      "Time spent classifying triads: 0.005368947982788086\n",
      "Testing 65 potential triadic pairs\n",
      "Time spent finding triads: 0.0011868476867675781\n",
      "Found 113 connected triads\n",
      "Time spent classifying triads: 0.0043599605560302734\n",
      "Testing 56 potential triadic pairs\n",
      "Time spent finding triads: 0.0010781288146972656\n",
      "Found 73 connected triads\n",
      "Time spent classifying triads: 0.0028395652770996094\n",
      "Testing 66 potential triadic pairs\n",
      "Time spent finding triads: 0.0012133121490478516\n",
      "Found 133 connected triads\n",
      "Time spent classifying triads: 0.005052804946899414\n",
      "Testing 66 potential triadic pairs\n",
      "Time spent finding triads: 0.0013020038604736328\n",
      "Found 164 connected triads\n",
      "Time spent classifying triads: 0.006256103515625\n"
     ]
    },
    {
     "name": "stderr",
     "output_type": "stream",
     "text": [
      " 72%|███████▏  | 18/25 [00:00<00:00, 25.32it/s]"
     ]
    },
    {
     "name": "stdout",
     "output_type": "stream",
     "text": [
      "Testing 66 potential triadic pairs\n",
      "Time spent finding triads: 0.0013256072998046875\n",
      "Found 164 connected triads\n",
      "Time spent classifying triads: 0.015216827392578125\n",
      "Testing 66 potential triadic pairs\n",
      "Time spent finding triads: 0.0012128353118896484\n",
      "Found 121 connected triads\n",
      "Time spent classifying triads: 0.004629850387573242\n",
      "Testing 60 potential triadic pairs\n",
      "Time spent finding triads: 0.0012090206146240234\n",
      "Found 133 connected triads\n",
      "Time spent classifying triads: 0.005076169967651367\n",
      "Testing 66 potential triadic pairs\n",
      "Time spent finding triads: 0.0013344287872314453\n",
      "Found 192 connected triads\n",
      "Time spent classifying triads: 0.00734400749206543\n",
      "Testing 66 potential triadic pairs\n",
      "Time spent finding triads: 0.001253366470336914\n",
      "Found 152 connected triads\n",
      "Time spent classifying triads: 0.006025552749633789\n",
      "Testing 65 potential triadic pairs\n",
      "Time spent finding triads: 0.0011844635009765625\n",
      "Found 117 connected triads\n",
      "Time spent classifying triads: 0.0044574737548828125\n"
     ]
    },
    {
     "name": "stderr",
     "output_type": "stream",
     "text": [
      " 96%|█████████▌| 24/25 [00:00<00:00, 25.28it/s]"
     ]
    },
    {
     "name": "stdout",
     "output_type": "stream",
     "text": [
      "Testing 66 potential triadic pairs\n",
      "Time spent finding triads: 0.0013120174407958984\n",
      "Found 158 connected triads\n",
      "Time spent classifying triads: 0.014561891555786133\n",
      "Testing 61 potential triadic pairs\n",
      "Time spent finding triads: 0.0011394023895263672\n",
      "Found 97 connected triads\n",
      "Time spent classifying triads: 0.00374603271484375\n",
      "Testing 66 potential triadic pairs\n",
      "Time spent finding triads: 0.0012018680572509766\n",
      "Found 125 connected triads\n",
      "Time spent classifying triads: 0.0047452449798583984\n",
      "Testing 66 potential triadic pairs\n",
      "Time spent finding triads: 0.0012083053588867188\n",
      "Found 127 connected triads\n",
      "Time spent classifying triads: 0.004826068878173828\n",
      "Testing 66 potential triadic pairs\n",
      "Time spent finding triads: 0.0012173652648925781\n",
      "Found 147 connected triads\n",
      "Time spent classifying triads: 0.005605220794677734\n",
      "Testing 66 potential triadic pairs\n",
      "Time spent finding triads: 0.0012385845184326172\n",
      "Found 150 connected triads\n",
      "Time spent classifying triads: 0.0056650638580322266\n"
     ]
    },
    {
     "name": "stderr",
     "output_type": "stream",
     "text": [
      "100%|██████████| 25/25 [00:01<00:00, 24.94it/s]\n"
     ]
    },
    {
     "name": "stdout",
     "output_type": "stream",
     "text": [
      "Testing 65 potential triadic pairs\n",
      "Time spent finding triads: 0.0012636184692382812\n",
      "Found 136 connected triads\n",
      "Time spent classifying triads: 0.012500762939453125\n"
     ]
    },
    {
     "name": "stderr",
     "output_type": "stream",
     "text": [
      " 12%|█▏        | 3/25 [00:00<00:00, 25.97it/s]"
     ]
    },
    {
     "name": "stdout",
     "output_type": "stream",
     "text": [
      "Testing 66 potential triadic pairs\n",
      "Time spent finding triads: 0.0014863014221191406\n",
      "Found 139 connected triads\n",
      "Time spent classifying triads: 0.005312919616699219\n",
      "Testing 66 potential triadic pairs\n",
      "Time spent finding triads: 0.0013480186462402344\n",
      "Found 189 connected triads\n",
      "Time spent classifying triads: 0.007150888442993164\n",
      "Testing 65 potential triadic pairs\n",
      "Time spent finding triads: 0.0011818408966064453\n",
      "Found 119 connected triads\n",
      "Time spent classifying triads: 0.004559040069580078\n",
      "Testing 64 potential triadic pairs\n",
      "Time spent finding triads: 0.0012807846069335938\n",
      "Found 155 connected triads\n",
      "Time spent classifying triads: 0.006103992462158203\n",
      "Testing 64 potential triadic pairs\n",
      "Time spent finding triads: 0.0011410713195800781\n",
      "Found 101 connected triads\n",
      "Time spent classifying triads: 0.0038607120513916016\n",
      "Testing 66 potential triadic pairs\n",
      "Time spent finding triads: 0.0012891292572021484\n",
      "Found 166 connected triads\n"
     ]
    },
    {
     "name": "stderr",
     "output_type": "stream",
     "text": [
      " 36%|███▌      | 9/25 [00:00<00:00, 25.26it/s]"
     ]
    },
    {
     "name": "stdout",
     "output_type": "stream",
     "text": [
      "Time spent classifying triads: 0.015608787536621094\n",
      "Testing 66 potential triadic pairs\n",
      "Time spent finding triads: 0.00128173828125\n",
      "Found 174 connected triads\n",
      "Time spent classifying triads: 0.0066623687744140625\n",
      "Testing 46 potential triadic pairs\n",
      "Time spent finding triads: 0.001001119613647461\n",
      "Found 64 connected triads\n",
      "Time spent classifying triads: 0.0025110244750976562\n",
      "Testing 66 potential triadic pairs\n",
      "Time spent finding triads: 0.0012896060943603516\n",
      "Found 171 connected triads\n",
      "Time spent classifying triads: 0.006514549255371094\n",
      "Testing 66 potential triadic pairs\n",
      "Time spent finding triads: 0.0014185905456542969\n",
      "Found 210 connected triads\n",
      "Time spent classifying triads: 0.007976055145263672\n",
      "Testing 65 potential triadic pairs\n",
      "Time spent finding triads: 0.0011548995971679688\n",
      "Found 106 connected triads\n",
      "Time spent classifying triads: 0.004047870635986328\n"
     ]
    },
    {
     "name": "stderr",
     "output_type": "stream",
     "text": [
      " 60%|██████    | 15/25 [00:00<00:00, 25.01it/s]"
     ]
    },
    {
     "name": "stdout",
     "output_type": "stream",
     "text": [
      "Testing 66 potential triadic pairs\n",
      "Time spent finding triads: 0.0013668537139892578\n",
      "Found 184 connected triads\n",
      "Time spent classifying triads: 0.016831398010253906\n",
      "Testing 64 potential triadic pairs\n",
      "Time spent finding triads: 0.0012099742889404297\n",
      "Found 112 connected triads\n",
      "Time spent classifying triads: 0.004277467727661133\n",
      "Testing 66 potential triadic pairs\n",
      "Time spent finding triads: 0.0012323856353759766\n",
      "Found 143 connected triads\n",
      "Time spent classifying triads: 0.005517721176147461\n",
      "Testing 66 potential triadic pairs\n",
      "Time spent finding triads: 0.0013353824615478516\n",
      "Found 188 connected triads\n",
      "Time spent classifying triads: 0.007107973098754883\n",
      "Testing 66 potential triadic pairs\n",
      "Time spent finding triads: 0.0012776851654052734\n",
      "Found 163 connected triads\n",
      "Time spent classifying triads: 0.0062105655670166016\n",
      "Testing 64 potential triadic pairs\n",
      "Time spent finding triads: 0.001165628433227539\n",
      "Found 123 connected triads\n",
      "Time spent classifying triads: 0.004737377166748047\n"
     ]
    },
    {
     "name": "stderr",
     "output_type": "stream",
     "text": [
      " 84%|████████▍ | 21/25 [00:00<00:00, 25.65it/s]"
     ]
    },
    {
     "name": "stdout",
     "output_type": "stream",
     "text": [
      "Testing 65 potential triadic pairs\n",
      "Time spent finding triads: 0.001199483871459961\n",
      "Found 122 connected triads\n",
      "Time spent classifying triads: 0.006834268569946289\n",
      "Testing 65 potential triadic pairs\n",
      "Time spent finding triads: 0.0011835098266601562\n",
      "Found 118 connected triads\n",
      "Time spent classifying triads: 0.004481792449951172\n",
      "Testing 66 potential triadic pairs\n",
      "Time spent finding triads: 0.0012259483337402344\n",
      "Found 147 connected triads\n",
      "Time spent classifying triads: 0.0055768489837646484\n",
      "Testing 65 potential triadic pairs\n",
      "Time spent finding triads: 0.0011987686157226562\n",
      "Found 129 connected triads\n",
      "Time spent classifying triads: 0.004921436309814453\n",
      "Testing 61 potential triadic pairs\n",
      "Time spent finding triads: 0.0011513233184814453\n",
      "Found 109 connected triads\n",
      "Time spent classifying triads: 0.004216670989990234\n",
      "Testing 66 potential triadic pairs\n",
      "Time spent finding triads: 0.0012962818145751953\n",
      "Found 171 connected triads\n",
      "Time spent classifying triads: 0.006555318832397461\n"
     ]
    },
    {
     "name": "stderr",
     "output_type": "stream",
     "text": [
      "100%|██████████| 25/25 [00:00<00:00, 25.14it/s]\n"
     ]
    },
    {
     "name": "stdout",
     "output_type": "stream",
     "text": [
      "Testing 64 potential triadic pairs\n",
      "Time spent finding triads: 0.0012471675872802734\n",
      "Found 122 connected triads\n",
      "Time spent classifying triads: 0.011064767837524414\n",
      "Testing 66 potential triadic pairs\n",
      "Time spent finding triads: 0.0012316703796386719\n",
      "Found 138 connected triads\n",
      "Time spent classifying triads: 0.0052373409271240234\n"
     ]
    },
    {
     "name": "stderr",
     "output_type": "stream",
     "text": [
      " 12%|█▏        | 3/25 [00:00<00:00, 25.95it/s]"
     ]
    },
    {
     "name": "stdout",
     "output_type": "stream",
     "text": [
      "Testing 59 potential triadic pairs\n",
      "Time spent finding triads: 0.0011632442474365234\n",
      "Found 77 connected triads\n",
      "Time spent classifying triads: 0.0071146488189697266\n",
      "Testing 66 potential triadic pairs\n",
      "Time spent finding triads: 0.0012867450714111328\n",
      "Found 155 connected triads\n",
      "Time spent classifying triads: 0.00591278076171875\n",
      "Testing 65 potential triadic pairs\n",
      "Time spent finding triads: 0.0011911392211914062\n",
      "Found 112 connected triads\n",
      "Time spent classifying triads: 0.004326343536376953\n",
      "Testing 66 potential triadic pairs\n",
      "Time spent finding triads: 0.0013384819030761719\n",
      "Found 172 connected triads\n",
      "Time spent classifying triads: 0.006522655487060547\n",
      "Testing 66 potential triadic pairs\n",
      "Time spent finding triads: 0.0014488697052001953\n",
      "Found 201 connected triads\n",
      "Time spent classifying triads: 0.018438100814819336\n",
      "Testing 63 potential triadic pairs\n",
      "Time spent finding triads: 0.001180410385131836\n",
      "Found 103 connected triads\n",
      "Time spent classifying triads: 0.004330635070800781\n"
     ]
    },
    {
     "name": "stderr",
     "output_type": "stream",
     "text": [
      " 36%|███▌      | 9/25 [00:00<00:00, 24.27it/s]"
     ]
    },
    {
     "name": "stdout",
     "output_type": "stream",
     "text": [
      "Testing 65 potential triadic pairs\n",
      "Time spent finding triads: 0.0013251304626464844\n",
      "Found 149 connected triads\n",
      "Time spent classifying triads: 0.01178741455078125\n",
      "Testing 66 potential triadic pairs\n",
      "Time spent finding triads: 0.001489400863647461\n",
      "Found 219 connected triads\n",
      "Time spent classifying triads: 0.00831460952758789\n",
      "Testing 54 potential triadic pairs\n",
      "Time spent finding triads: 0.0011332035064697266\n",
      "Found 92 connected triads\n",
      "Time spent classifying triads: 0.003551959991455078\n",
      "Testing 65 potential triadic pairs\n",
      "Time spent finding triads: 0.001234292984008789\n",
      "Found 120 connected triads\n",
      "Time spent classifying triads: 0.004620552062988281\n",
      "Testing 66 potential triadic pairs\n",
      "Time spent finding triads: 0.0013530254364013672\n",
      "Found 169 connected triads\n",
      "Time spent classifying triads: 0.01540517807006836\n",
      "Testing 66 potential triadic pairs\n",
      "Time spent finding triads: 0.0014717578887939453\n",
      "Found 215 connected triads\n"
     ]
    },
    {
     "name": "stderr",
     "output_type": "stream",
     "text": [
      " 60%|██████    | 15/25 [00:00<00:00, 23.63it/s]"
     ]
    },
    {
     "name": "stdout",
     "output_type": "stream",
     "text": [
      "Time spent classifying triads: 0.018250703811645508\n",
      "Testing 66 potential triadic pairs\n",
      "Time spent finding triads: 0.0013349056243896484\n",
      "Found 168 connected triads\n",
      "Time spent classifying triads: 0.006410837173461914\n",
      "Testing 66 potential triadic pairs\n",
      "Time spent finding triads: 0.001294851303100586\n",
      "Found 147 connected triads\n",
      "Time spent classifying triads: 0.00559234619140625\n",
      "Testing 66 potential triadic pairs\n",
      "Time spent finding triads: 0.0013706684112548828\n",
      "Found 184 connected triads\n",
      "Time spent classifying triads: 0.007052183151245117\n",
      "Testing 66 potential triadic pairs\n",
      "Time spent finding triads: 0.00124359130859375\n",
      "Found 102 connected triads\n",
      "Time spent classifying triads: 0.009062051773071289\n",
      "Testing 66 potential triadic pairs\n",
      "Time spent finding triads: 0.0013494491577148438\n",
      "Found 176 connected triads\n"
     ]
    },
    {
     "name": "stderr",
     "output_type": "stream",
     "text": [
      " 84%|████████▍ | 21/25 [00:00<00:00, 24.38it/s]"
     ]
    },
    {
     "name": "stdout",
     "output_type": "stream",
     "text": [
      "Time spent classifying triads: 0.007681369781494141\n",
      "Testing 66 potential triadic pairs\n",
      "Time spent finding triads: 0.0013058185577392578\n",
      "Found 156 connected triads\n",
      "Time spent classifying triads: 0.0059473514556884766\n",
      "Testing 50 potential triadic pairs\n",
      "Time spent finding triads: 0.0010991096496582031\n",
      "Found 75 connected triads\n",
      "Time spent classifying triads: 0.002909421920776367\n",
      "Testing 66 potential triadic pairs\n",
      "Time spent finding triads: 0.001360177993774414\n",
      "Found 177 connected triads\n",
      "Time spent classifying triads: 0.005870819091796875\n",
      "Testing 66 potential triadic pairs\n",
      "Time spent finding triads: 0.001313924789428711\n",
      "Found 159 connected triads\n",
      "Time spent classifying triads: 0.006100893020629883\n",
      "Testing 66 potential triadic pairs\n",
      "Time spent finding triads: 0.0015399456024169922\n",
      "Found 216 connected triads\n",
      "Time spent classifying triads: 0.009894371032714844\n"
     ]
    },
    {
     "name": "stderr",
     "output_type": "stream",
     "text": [
      "100%|██████████| 25/25 [00:01<00:00, 23.96it/s]\n"
     ]
    },
    {
     "name": "stdout",
     "output_type": "stream",
     "text": [
      "Testing 66 potential triadic pairs\n",
      "Time spent finding triads: 0.0013017654418945312\n",
      "Found 142 connected triads\n",
      "Time spent classifying triads: 0.011537790298461914\n",
      "Testing 66 potential triadic pairs\n",
      "Time spent finding triads: 0.0013022422790527344\n",
      "Found 169 connected triads\n",
      "Time spent classifying triads: 0.006440877914428711\n",
      "Testing 65 potential triadic pairs\n",
      "Time spent finding triads: 0.0012364387512207031\n",
      "Found 132 connected triads\n",
      "Time spent classifying triads: 0.005097389221191406\n"
     ]
    },
    {
     "name": "stderr",
     "output_type": "stream",
     "text": [
      "\r",
      "  0%|          | 0/25 [00:00<?, ?it/s]"
     ]
    },
    {
     "name": "stdout",
     "output_type": "stream",
     "text": [
      "Testing 63 potential triadic pairs\n",
      "Time spent finding triads: 0.0013573169708251953\n",
      "Found 159 connected triads\n",
      "Time spent classifying triads: 0.014296531677246094\n",
      "Testing 62 potential triadic pairs\n",
      "Time spent finding triads: 0.0012781620025634766\n",
      "Found 142 connected triads\n",
      "Time spent classifying triads: 0.013043880462646484\n"
     ]
    },
    {
     "name": "stderr",
     "output_type": "stream",
     "text": [
      "\r",
      " 12%|█▏        | 3/25 [00:00<00:01, 20.77it/s]"
     ]
    },
    {
     "name": "stdout",
     "output_type": "stream",
     "text": [
      "Testing 65 potential triadic pairs\n",
      "Time spent finding triads: 0.00130462646484375\n",
      "Found 139 connected triads\n",
      "Time spent classifying triads: 0.012797355651855469\n",
      "Testing 66 potential triadic pairs\n",
      "Time spent finding triads: 0.0012392997741699219\n",
      "Found 125 connected triads\n",
      "Time spent classifying triads: 0.004798412322998047\n",
      "Testing 65 potential triadic pairs\n",
      "Time spent finding triads: 0.0012030601501464844\n",
      "Found 122 connected triads\n",
      "Time spent classifying triads: 0.004644155502319336\n"
     ]
    },
    {
     "name": "stderr",
     "output_type": "stream",
     "text": [
      "\r",
      " 24%|██▍       | 6/25 [00:00<00:00, 22.08it/s]"
     ]
    },
    {
     "name": "stdout",
     "output_type": "stream",
     "text": [
      "Testing 66 potential triadic pairs\n",
      "Time spent finding triads: 0.0013387203216552734\n",
      "Found 156 connected triads\n",
      "Time spent classifying triads: 0.01180267333984375\n",
      "Testing 66 potential triadic pairs\n",
      "Time spent finding triads: 0.0012640953063964844\n",
      "Found 114 connected triads\n",
      "Time spent classifying triads: 0.01047515869140625\n"
     ]
    },
    {
     "name": "stderr",
     "output_type": "stream",
     "text": [
      "\r",
      " 36%|███▌      | 9/25 [00:00<00:00, 22.30it/s]"
     ]
    },
    {
     "name": "stdout",
     "output_type": "stream",
     "text": [
      "Testing 66 potential triadic pairs\n",
      "Time spent finding triads: 0.0012516975402832031\n",
      "Found 105 connected triads\n",
      "Time spent classifying triads: 0.008490324020385742\n",
      "Testing 64 potential triadic pairs\n",
      "Time spent finding triads: 0.0012562274932861328\n",
      "Found 139 connected triads\n",
      "Time spent classifying triads: 0.005338430404663086\n",
      "Testing 64 potential triadic pairs\n",
      "Time spent finding triads: 0.0011909008026123047\n",
      "Found 120 connected triads\n",
      "Time spent classifying triads: 0.004586696624755859\n",
      "Testing 66 potential triadic pairs\n",
      "Time spent finding triads: 0.001332998275756836\n",
      "Found 149 connected triads\n",
      "Time spent classifying triads: 0.013671159744262695\n"
     ]
    },
    {
     "name": "stderr",
     "output_type": "stream",
     "text": [
      "\r",
      " 48%|████▊     | 12/25 [00:00<00:00, 22.03it/s]"
     ]
    },
    {
     "name": "stdout",
     "output_type": "stream",
     "text": [
      "Testing 54 potential triadic pairs\n",
      "Time spent finding triads: 0.0011508464813232422\n",
      "Found 87 connected triads\n",
      "Time spent classifying triads: 0.008006095886230469\n"
     ]
    },
    {
     "name": "stderr",
     "output_type": "stream",
     "text": [
      "\r",
      " 60%|██████    | 15/25 [00:00<00:00, 22.35it/s]"
     ]
    },
    {
     "name": "stdout",
     "output_type": "stream",
     "text": [
      "Testing 60 potential triadic pairs\n",
      "Time spent finding triads: 0.0012049674987792969\n",
      "Found 93 connected triads\n",
      "Time spent classifying triads: 0.007985115051269531\n",
      "Testing 55 potential triadic pairs\n",
      "Time spent finding triads: 0.0011925697326660156\n",
      "Found 121 connected triads\n",
      "Time spent classifying triads: 0.004675149917602539\n",
      "Testing 66 potential triadic pairs\n",
      "Time spent finding triads: 0.0013873577117919922\n",
      "Found 187 connected triads\n",
      "Time spent classifying triads: 0.007130861282348633\n",
      "Testing 66 potential triadic pairs\n",
      "Time spent finding triads: 0.0013568401336669922\n",
      "Found 151 connected triads\n",
      "Time spent classifying triads: 0.012928009033203125\n",
      "Testing 66 potential triadic pairs\n",
      "Time spent finding triads: 0.0014417171478271484\n",
      "Found 196 connected triads\n",
      "Time spent classifying triads: 0.01793694496154785\n"
     ]
    },
    {
     "name": "stderr",
     "output_type": "stream",
     "text": [
      "\r",
      " 72%|███████▏  | 18/25 [00:00<00:00, 21.64it/s]"
     ]
    },
    {
     "name": "stdout",
     "output_type": "stream",
     "text": [
      "Testing 57 potential triadic pairs\n",
      "Time spent finding triads: 0.001173257827758789\n",
      "Found 80 connected triads\n",
      "Time spent classifying triads: 0.004126787185668945\n",
      "Testing 66 potential triadic pairs\n",
      "Time spent finding triads: 0.0013415813446044922\n",
      "Found 171 connected triads\n",
      "Time spent classifying triads: 0.006487369537353516\n",
      "Testing 66 potential triadic pairs\n",
      "Time spent finding triads: 0.0012555122375488281\n",
      "Found 126 connected triads\n",
      "Time spent classifying triads: 0.004860401153564453\n"
     ]
    },
    {
     "name": "stderr",
     "output_type": "stream",
     "text": [
      "\r",
      " 84%|████████▍ | 21/25 [00:00<00:00, 22.03it/s]"
     ]
    },
    {
     "name": "stdout",
     "output_type": "stream",
     "text": [
      "Testing 65 potential triadic pairs\n",
      "Time spent finding triads: 0.0013022422790527344\n",
      "Found 112 connected triads\n",
      "Time spent classifying triads: 0.010393857955932617\n",
      "Testing 66 potential triadic pairs\n",
      "Time spent finding triads: 0.00144195556640625\n",
      "Found 185 connected triads\n",
      "Time spent classifying triads: 0.01697087287902832\n"
     ]
    },
    {
     "name": "stderr",
     "output_type": "stream",
     "text": [
      "100%|██████████| 25/25 [00:01<00:00, 21.71it/s]\n"
     ]
    },
    {
     "name": "stdout",
     "output_type": "stream",
     "text": [
      "Testing 66 potential triadic pairs\n",
      "Time spent finding triads: 0.0014083385467529297\n",
      "Found 159 connected triads\n",
      "Time spent classifying triads: 0.012133598327636719\n",
      "Testing 66 potential triadic pairs\n",
      "Time spent finding triads: 0.0013356208801269531\n",
      "Found 167 connected triads\n",
      "Time spent classifying triads: 0.006391048431396484\n",
      "Testing 66 potential triadic pairs\n",
      "Time spent finding triads: 0.001407623291015625\n",
      "Found 180 connected triads\n",
      "Time spent classifying triads: 0.00687408447265625\n"
     ]
    },
    {
     "name": "stderr",
     "output_type": "stream",
     "text": [
      "\r",
      "  0%|          | 0/25 [00:00<?, ?it/s]"
     ]
    },
    {
     "name": "stdout",
     "output_type": "stream",
     "text": [
      "Testing 65 potential triadic pairs\n",
      "Time spent finding triads: 0.0012989044189453125\n",
      "Found 117 connected triads\n",
      "Time spent classifying triads: 0.005460977554321289\n",
      "Testing 66 potential triadic pairs\n",
      "Time spent finding triads: 0.001392364501953125\n",
      "Found 159 connected triads\n"
     ]
    },
    {
     "name": "stderr",
     "output_type": "stream",
     "text": [
      " 16%|█▌        | 4/25 [00:00<00:01, 17.10it/s]"
     ]
    },
    {
     "name": "stdout",
     "output_type": "stream",
     "text": [
      "Time spent classifying triads: 0.01507115364074707\n",
      "Testing 66 potential triadic pairs\n",
      "Time spent finding triads: 0.0012688636779785156\n",
      "Found 133 connected triads\n",
      "Time spent classifying triads: 0.005135774612426758\n",
      "Testing 66 potential triadic pairs\n",
      "Time spent finding triads: 0.0013489723205566406\n",
      "Found 177 connected triads\n",
      "Time spent classifying triads: 0.0069239139556884766\n",
      "Testing 63 potential triadic pairs\n",
      "Time spent finding triads: 0.0014061927795410156\n",
      "Found 142 connected triads\n",
      "Time spent classifying triads: 0.013044357299804688\n"
     ]
    },
    {
     "name": "stderr",
     "output_type": "stream",
     "text": [
      " 32%|███▏      | 8/25 [00:00<00:01, 16.70it/s]"
     ]
    },
    {
     "name": "stdout",
     "output_type": "stream",
     "text": [
      "Testing 64 potential triadic pairs\n",
      "Time spent finding triads: 0.00133514404296875\n",
      "Found 142 connected triads\n",
      "Time spent classifying triads: 0.010857105255126953\n",
      "Testing 66 potential triadic pairs\n",
      "Time spent finding triads: 0.0013420581817626953\n",
      "Found 169 connected triads\n",
      "Time spent classifying triads: 0.0064275264739990234\n",
      "Testing 66 potential triadic pairs\n",
      "Time spent finding triads: 0.0013031959533691406\n",
      "Found 144 connected triads\n",
      "Time spent classifying triads: 0.005530357360839844\n",
      "Testing 59 potential triadic pairs\n",
      "Time spent finding triads: 0.0011963844299316406\n",
      "Found 86 connected triads\n",
      "Time spent classifying triads: 0.007928133010864258\n"
     ]
    },
    {
     "name": "stderr",
     "output_type": "stream",
     "text": [
      " 48%|████▊     | 12/25 [00:00<00:00, 17.11it/s]"
     ]
    },
    {
     "name": "stdout",
     "output_type": "stream",
     "text": [
      "Testing 65 potential triadic pairs\n",
      "Time spent finding triads: 0.0013628005981445312\n",
      "Found 147 connected triads\n",
      "Time spent classifying triads: 0.013007164001464844\n",
      "Testing 63 potential triadic pairs\n",
      "Time spent finding triads: 0.0012118816375732422\n",
      "Found 109 connected triads\n",
      "Time spent classifying triads: 0.004265308380126953\n",
      "Testing 66 potential triadic pairs\n",
      "Time spent finding triads: 0.0012292861938476562\n",
      "Found 128 connected triads\n",
      "Time spent classifying triads: 0.0049593448638916016\n",
      "Testing 66 potential triadic pairs\n",
      "Time spent finding triads: 0.0012850761413574219\n",
      "Found 115 connected triads\n",
      "Time spent classifying triads: 0.008087158203125\n"
     ]
    },
    {
     "name": "stderr",
     "output_type": "stream",
     "text": [
      " 64%|██████▍   | 16/25 [00:00<00:00, 17.66it/s]"
     ]
    },
    {
     "name": "stdout",
     "output_type": "stream",
     "text": [
      "Testing 63 potential triadic pairs\n",
      "Time spent finding triads: 0.0012476444244384766\n",
      "Found 102 connected triads\n",
      "Time spent classifying triads: 0.007059812545776367\n",
      "Testing 65 potential triadic pairs\n",
      "Time spent finding triads: 0.0012714862823486328\n",
      "Found 148 connected triads\n",
      "Time spent classifying triads: 0.0056493282318115234\n",
      "Testing 63 potential triadic pairs\n",
      "Time spent finding triads: 0.00125885009765625\n",
      "Found 133 connected triads\n",
      "Time spent classifying triads: 0.0050661563873291016\n",
      "Testing 64 potential triadic pairs\n",
      "Time spent finding triads: 0.0012586116790771484\n",
      "Found 105 connected triads\n",
      "Time spent classifying triads: 0.009673118591308594\n"
     ]
    },
    {
     "name": "stderr",
     "output_type": "stream",
     "text": [
      " 80%|████████  | 20/25 [00:01<00:00, 17.25it/s]"
     ]
    },
    {
     "name": "stdout",
     "output_type": "stream",
     "text": [
      "Testing 64 potential triadic pairs\n",
      "Time spent finding triads: 0.001264333724975586\n",
      "Found 109 connected triads\n",
      "Time spent classifying triads: 0.01008749008178711\n",
      "Testing 66 potential triadic pairs\n",
      "Time spent finding triads: 0.0012929439544677734\n",
      "Found 138 connected triads\n",
      "Time spent classifying triads: 0.005321502685546875\n",
      "Testing 66 potential triadic pairs\n",
      "Time spent finding triads: 0.001439809799194336\n",
      "Found 201 connected triads\n",
      "Time spent classifying triads: 0.007605075836181641\n",
      "Testing 66 potential triadic pairs\n",
      "Time spent finding triads: 0.00135040283203125\n",
      "Found 149 connected triads\n",
      "Time spent classifying triads: 0.013597726821899414\n"
     ]
    },
    {
     "name": "stderr",
     "output_type": "stream",
     "text": [
      " 96%|█████████▌| 24/25 [00:01<00:00, 16.95it/s]"
     ]
    },
    {
     "name": "stdout",
     "output_type": "stream",
     "text": [
      "Testing 66 potential triadic pairs\n",
      "Time spent finding triads: 0.0014431476593017578\n",
      "Found 183 connected triads\n",
      "Time spent classifying triads: 0.01547098159790039\n",
      "Testing 66 potential triadic pairs\n",
      "Time spent finding triads: 0.0013718605041503906\n",
      "Found 170 connected triads\n",
      "Time spent classifying triads: 0.0066432952880859375\n",
      "Testing 66 potential triadic pairs\n",
      "Time spent finding triads: 0.0013644695281982422\n",
      "Found 164 connected triads\n",
      "Time spent classifying triads: 0.0063364505767822266\n"
     ]
    },
    {
     "name": "stderr",
     "output_type": "stream",
     "text": [
      "100%|██████████| 25/25 [00:01<00:00, 16.90it/s]\n"
     ]
    },
    {
     "name": "stdout",
     "output_type": "stream",
     "text": [
      "Testing 65 potential triadic pairs\n",
      "Time spent finding triads: 0.0013322830200195312\n",
      "Found 131 connected triads\n",
      "Time spent classifying triads: 0.008165121078491211\n"
     ]
    },
    {
     "name": "stderr",
     "output_type": "stream",
     "text": [
      "  8%|▊         | 2/25 [00:00<00:01, 17.30it/s]"
     ]
    },
    {
     "name": "stdout",
     "output_type": "stream",
     "text": [
      "Testing 64 potential triadic pairs\n",
      "Time spent finding triads: 0.001314401626586914\n",
      "Found 121 connected triads\n",
      "Time spent classifying triads: 0.006262302398681641\n",
      "Testing 66 potential triadic pairs\n",
      "Time spent finding triads: 0.0014293193817138672\n",
      "Found 199 connected triads\n",
      "Time spent classifying triads: 0.0075702667236328125\n",
      "Testing 63 potential triadic pairs\n",
      "Time spent finding triads: 0.0012230873107910156\n",
      "Found 116 connected triads\n",
      "Time spent classifying triads: 0.004483938217163086\n"
     ]
    },
    {
     "name": "stderr",
     "output_type": "stream",
     "text": [
      "\r",
      " 16%|█▌        | 4/25 [00:00<00:01, 17.02it/s]"
     ]
    },
    {
     "name": "stdout",
     "output_type": "stream",
     "text": [
      "Testing 65 potential triadic pairs\n",
      "Time spent finding triads: 0.0012850761413574219\n",
      "Found 115 connected triads\n",
      "Time spent classifying triads: 0.01056528091430664\n"
     ]
    },
    {
     "name": "stderr",
     "output_type": "stream",
     "text": [
      "\r",
      " 24%|██▍       | 6/25 [00:00<00:01, 17.08it/s]"
     ]
    },
    {
     "name": "stdout",
     "output_type": "stream",
     "text": [
      "Testing 65 potential triadic pairs\n",
      "Time spent finding triads: 0.0013315677642822266\n",
      "Found 134 connected triads\n",
      "Time spent classifying triads: 0.008194208145141602\n",
      "Testing 64 potential triadic pairs\n",
      "Time spent finding triads: 0.0012390613555908203\n",
      "Found 124 connected triads\n",
      "Time spent classifying triads: 0.004786252975463867\n",
      "Testing 66 potential triadic pairs\n",
      "Time spent finding triads: 0.001291036605834961\n",
      "Found 140 connected triads\n",
      "Time spent classifying triads: 0.005361318588256836\n"
     ]
    },
    {
     "name": "stderr",
     "output_type": "stream",
     "text": [
      "\r",
      " 32%|███▏      | 8/25 [00:00<00:01, 16.61it/s]"
     ]
    },
    {
     "name": "stdout",
     "output_type": "stream",
     "text": [
      "Testing 66 potential triadic pairs\n",
      "Time spent finding triads: 0.0013687610626220703\n",
      "Found 144 connected triads\n",
      "Time spent classifying triads: 0.009157419204711914\n"
     ]
    },
    {
     "name": "stderr",
     "output_type": "stream",
     "text": [
      "\r",
      " 40%|████      | 10/25 [00:00<00:00, 16.64it/s]"
     ]
    },
    {
     "name": "stdout",
     "output_type": "stream",
     "text": [
      "Testing 64 potential triadic pairs\n",
      "Time spent finding triads: 0.001329183578491211\n",
      "Found 134 connected triads\n",
      "Time spent classifying triads: 0.012312650680541992\n",
      "Testing 66 potential triadic pairs\n",
      "Time spent finding triads: 0.0013151168823242188\n",
      "Found 166 connected triads\n",
      "Time spent classifying triads: 0.0063381195068359375\n",
      "Testing 66 potential triadic pairs\n",
      "Time spent finding triads: 0.0013186931610107422\n",
      "Found 166 connected triads\n",
      "Time spent classifying triads: 0.006779670715332031\n"
     ]
    },
    {
     "name": "stderr",
     "output_type": "stream",
     "text": [
      "\r",
      " 48%|████▊     | 12/25 [00:00<00:00, 16.42it/s]"
     ]
    },
    {
     "name": "stdout",
     "output_type": "stream",
     "text": [
      "Testing 66 potential triadic pairs\n",
      "Time spent finding triads: 0.001373291015625\n",
      "Found 158 connected triads\n",
      "Time spent classifying triads: 0.014523744583129883\n"
     ]
    },
    {
     "name": "stderr",
     "output_type": "stream",
     "text": [
      "\r",
      " 56%|█████▌    | 14/25 [00:00<00:00, 16.64it/s]"
     ]
    },
    {
     "name": "stdout",
     "output_type": "stream",
     "text": [
      "Testing 65 potential triadic pairs\n",
      "Time spent finding triads: 0.0012671947479248047\n",
      "Found 112 connected triads\n",
      "Time spent classifying triads: 0.010349035263061523\n",
      "Testing 65 potential triadic pairs\n",
      "Time spent finding triads: 0.0012576580047607422\n",
      "Found 133 connected triads\n",
      "Time spent classifying triads: 0.005118846893310547\n",
      "Testing 66 potential triadic pairs\n",
      "Time spent finding triads: 0.0011892318725585938\n",
      "Found 90 connected triads\n",
      "Time spent classifying triads: 0.0034852027893066406\n"
     ]
    },
    {
     "name": "stderr",
     "output_type": "stream",
     "text": [
      "\r",
      " 64%|██████▍   | 16/25 [00:00<00:00, 16.99it/s]"
     ]
    },
    {
     "name": "stdout",
     "output_type": "stream",
     "text": [
      "Testing 62 potential triadic pairs\n",
      "Time spent finding triads: 0.0012459754943847656\n",
      "Found 109 connected triads\n",
      "Time spent classifying triads: 0.006071805953979492\n"
     ]
    },
    {
     "name": "stderr",
     "output_type": "stream",
     "text": [
      "\r",
      " 72%|███████▏  | 18/25 [00:01<00:00, 16.88it/s]"
     ]
    },
    {
     "name": "stdout",
     "output_type": "stream",
     "text": [
      "Testing 63 potential triadic pairs\n",
      "Time spent finding triads: 0.001317739486694336\n",
      "Found 135 connected triads\n",
      "Time spent classifying triads: 0.012404680252075195\n",
      "Testing 62 potential triadic pairs\n",
      "Time spent finding triads: 0.0012133121490478516\n",
      "Found 117 connected triads\n",
      "Time spent classifying triads: 0.004445552825927734\n",
      "Testing 66 potential triadic pairs\n",
      "Time spent finding triads: 0.001382589340209961\n",
      "Found 186 connected triads\n",
      "Time spent classifying triads: 0.0070645809173583984\n"
     ]
    },
    {
     "name": "stderr",
     "output_type": "stream",
     "text": [
      "\r",
      " 80%|████████  | 20/25 [00:01<00:00, 16.37it/s]"
     ]
    },
    {
     "name": "stdout",
     "output_type": "stream",
     "text": [
      "Testing 66 potential triadic pairs\n",
      "Time spent finding triads: 0.0014286041259765625\n",
      "Found 193 connected triads\n",
      "Time spent classifying triads: 0.013946533203125\n"
     ]
    },
    {
     "name": "stderr",
     "output_type": "stream",
     "text": [
      "\r",
      " 88%|████████▊ | 22/25 [00:01<00:00, 16.39it/s]"
     ]
    },
    {
     "name": "stdout",
     "output_type": "stream",
     "text": [
      "Testing 66 potential triadic pairs\n",
      "Time spent finding triads: 0.0013468265533447266\n",
      "Found 142 connected triads\n",
      "Time spent classifying triads: 0.01309967041015625\n",
      "Testing 66 potential triadic pairs\n",
      "Time spent finding triads: 0.0013256072998046875\n",
      "Found 172 connected triads\n",
      "Time spent classifying triads: 0.006525993347167969\n",
      "Testing 66 potential triadic pairs\n",
      "Time spent finding triads: 0.0012772083282470703\n",
      "Found 151 connected triads\n",
      "Time spent classifying triads: 0.005791902542114258\n"
     ]
    },
    {
     "name": "stderr",
     "output_type": "stream",
     "text": [
      "\r",
      " 96%|█████████▌| 24/25 [00:01<00:00, 16.64it/s]"
     ]
    },
    {
     "name": "stdout",
     "output_type": "stream",
     "text": [
      "Testing 66 potential triadic pairs\n",
      "Time spent finding triads: 0.0013546943664550781\n",
      "Found 144 connected triads\n",
      "Time spent classifying triads: 0.0073604583740234375\n"
     ]
    },
    {
     "name": "stderr",
     "output_type": "stream",
     "text": [
      "100%|██████████| 25/25 [00:01<00:00, 16.67it/s]\n"
     ]
    },
    {
     "name": "stdout",
     "output_type": "stream",
     "text": [
      "Testing 47 potential triadic pairs\n",
      "Time spent finding triads: 0.001108407974243164\n",
      "Found 65 connected triads\n",
      "Time spent classifying triads: 0.006072282791137695\n"
     ]
    },
    {
     "name": "stderr",
     "output_type": "stream",
     "text": [
      " 12%|█▏        | 3/25 [00:00<00:00, 24.12it/s]"
     ]
    },
    {
     "name": "stdout",
     "output_type": "stream",
     "text": [
      "Testing 65 potential triadic pairs\n",
      "Time spent finding triads: 0.001298666000366211\n",
      "Found 133 connected triads\n",
      "Time spent classifying triads: 0.008301734924316406\n",
      "Testing 66 potential triadic pairs\n",
      "Time spent finding triads: 0.0012958049774169922\n",
      "Found 139 connected triads\n",
      "Time spent classifying triads: 0.005281209945678711\n",
      "Testing 66 potential triadic pairs\n",
      "Time spent finding triads: 0.00125885009765625\n",
      "Found 134 connected triads\n",
      "Time spent classifying triads: 0.005144834518432617\n",
      "Testing 65 potential triadic pairs\n",
      "Time spent finding triads: 0.0013146400451660156\n",
      "Found 136 connected triads\n",
      "Time spent classifying triads: 0.008624076843261719\n",
      "Testing 61 potential triadic pairs\n",
      "Time spent finding triads: 0.0012576580047607422\n",
      "Found 117 connected triads\n",
      "Time spent classifying triads: 0.010801076889038086\n"
     ]
    },
    {
     "name": "stderr",
     "output_type": "stream",
     "text": [
      "\r",
      " 24%|██▍       | 6/25 [00:00<00:00, 22.06it/s]"
     ]
    },
    {
     "name": "stdout",
     "output_type": "stream",
     "text": [
      "Testing 66 potential triadic pairs\n",
      "Time spent finding triads: 0.0013294219970703125\n",
      "Found 134 connected triads\n",
      "Time spent classifying triads: 0.009748220443725586\n",
      "Testing 66 potential triadic pairs\n",
      "Time spent finding triads: 0.00128936767578125\n",
      "Found 153 connected triads\n",
      "Time spent classifying triads: 0.0058057308197021484\n",
      "Testing 66 potential triadic pairs\n",
      "Time spent finding triads: 0.001317739486694336\n",
      "Found 168 connected triads\n",
      "Time spent classifying triads: 0.006406307220458984\n"
     ]
    },
    {
     "name": "stderr",
     "output_type": "stream",
     "text": [
      "\r",
      " 36%|███▌      | 9/25 [00:00<00:00, 22.64it/s]"
     ]
    },
    {
     "name": "stdout",
     "output_type": "stream",
     "text": [
      "Testing 41 potential triadic pairs\n",
      "Time spent finding triads: 0.0010404586791992188\n",
      "Found 44 connected triads\n",
      "Time spent classifying triads: 0.004103422164916992\n",
      "Testing 56 potential triadic pairs\n",
      "Time spent finding triads: 0.0011856555938720703\n",
      "Found 97 connected triads\n",
      "Time spent classifying triads: 0.008977413177490234\n"
     ]
    },
    {
     "name": "stderr",
     "output_type": "stream",
     "text": [
      "\r",
      " 48%|████▊     | 12/25 [00:00<00:00, 22.95it/s]"
     ]
    },
    {
     "name": "stdout",
     "output_type": "stream",
     "text": [
      "Testing 53 potential triadic pairs\n",
      "Time spent finding triads: 0.0011284351348876953\n",
      "Found 74 connected triads\n",
      "Time spent classifying triads: 0.0068471431732177734\n",
      "Testing 66 potential triadic pairs\n",
      "Time spent finding triads: 0.0012691020965576172\n",
      "Found 151 connected triads\n",
      "Time spent classifying triads: 0.0057599544525146484\n",
      "Testing 63 potential triadic pairs\n",
      "Time spent finding triads: 0.00118255615234375\n",
      "Found 106 connected triads\n",
      "Time spent classifying triads: 0.004047870635986328\n",
      "Testing 65 potential triadic pairs\n",
      "Time spent finding triads: 0.0023131370544433594\n",
      "Found 106 connected triads\n",
      "Time spent classifying triads: 0.006247043609619141\n",
      "Testing 66 potential triadic pairs\n",
      "Time spent finding triads: 0.0012810230255126953\n",
      "Found 158 connected triads\n",
      "Time spent classifying triads: 0.006622791290283203\n"
     ]
    },
    {
     "name": "stderr",
     "output_type": "stream",
     "text": [
      " 72%|███████▏  | 18/25 [00:00<00:00, 23.09it/s]"
     ]
    },
    {
     "name": "stdout",
     "output_type": "stream",
     "text": [
      "Testing 66 potential triadic pairs\n",
      "Time spent finding triads: 0.0015146732330322266\n",
      "Found 181 connected triads\n",
      "Time spent classifying triads: 0.01655888557434082\n",
      "Testing 66 potential triadic pairs\n",
      "Time spent finding triads: 0.0012934207916259766\n",
      "Found 156 connected triads\n",
      "Time spent classifying triads: 0.005991697311401367\n",
      "Testing 58 potential triadic pairs\n",
      "Time spent finding triads: 0.0011334419250488281\n",
      "Found 91 connected triads\n",
      "Time spent classifying triads: 0.003520488739013672\n",
      "Testing 66 potential triadic pairs\n",
      "Time spent finding triads: 0.0012693405151367188\n",
      "Found 128 connected triads\n",
      "Time spent classifying triads: 0.01168513298034668\n",
      "Testing 63 potential triadic pairs\n",
      "Time spent finding triads: 0.0011591911315917969\n",
      "Found 95 connected triads\n",
      "Time spent classifying triads: 0.003670930862426758\n"
     ]
    },
    {
     "name": "stderr",
     "output_type": "stream",
     "text": [
      "\r",
      " 84%|████████▍ | 21/25 [00:00<00:00, 22.84it/s]"
     ]
    },
    {
     "name": "stdout",
     "output_type": "stream",
     "text": [
      "Testing 47 potential triadic pairs\n",
      "Time spent finding triads: 0.001664876937866211\n",
      "Found 73 connected triads\n",
      "Time spent classifying triads: 0.0067462921142578125\n",
      "Testing 66 potential triadic pairs\n",
      "Time spent finding triads: 0.0012888908386230469\n",
      "Found 171 connected triads\n",
      "Time spent classifying triads: 0.006524324417114258\n",
      "Testing 60 potential triadic pairs\n",
      "Time spent finding triads: 0.0011179447174072266\n",
      "Found 78 connected triads\n",
      "Time spent classifying triads: 0.0030167102813720703\n",
      "Testing 59 potential triadic pairs\n",
      "Time spent finding triads: 0.0011134147644042969\n",
      "Found 86 connected triads\n"
     ]
    },
    {
     "name": "stderr",
     "output_type": "stream",
     "text": [
      "100%|██████████| 25/25 [00:01<00:00, 23.14it/s]\n"
     ]
    },
    {
     "name": "stdout",
     "output_type": "stream",
     "text": [
      "Time spent classifying triads: 0.005882978439331055\n",
      "Testing 63 potential triadic pairs\n",
      "Time spent finding triads: 0.0011913776397705078\n",
      "Found 120 connected triads\n",
      "Time spent classifying triads: 0.0047228336334228516\n"
     ]
    },
    {
     "name": "stderr",
     "output_type": "stream",
     "text": [
      "  8%|▊         | 2/25 [00:00<00:01, 16.75it/s]"
     ]
    },
    {
     "name": "stdout",
     "output_type": "stream",
     "text": [
      "Testing 66 potential triadic pairs\n",
      "Time spent finding triads: 0.0014901161193847656\n",
      "Found 208 connected triads\n",
      "Time spent classifying triads: 0.018248796463012695\n",
      "Testing 64 potential triadic pairs\n",
      "Time spent finding triads: 0.0012404918670654297\n",
      "Found 130 connected triads\n",
      "Time spent classifying triads: 0.0049591064453125\n"
     ]
    },
    {
     "name": "stderr",
     "output_type": "stream",
     "text": [
      "\r",
      " 16%|█▌        | 4/25 [00:00<00:01, 16.85it/s]"
     ]
    },
    {
     "name": "stdout",
     "output_type": "stream",
     "text": [
      "Testing 66 potential triadic pairs\n",
      "Time spent finding triads: 0.0013797283172607422\n",
      "Found 170 connected triads\n",
      "Time spent classifying triads: 0.01361846923828125\n",
      "Testing 66 potential triadic pairs\n",
      "Time spent finding triads: 0.0013184547424316406\n",
      "Found 171 connected triads\n",
      "Time spent classifying triads: 0.006516933441162109\n"
     ]
    },
    {
     "name": "stderr",
     "output_type": "stream",
     "text": [
      "\r",
      " 24%|██▍       | 6/25 [00:00<00:01, 16.75it/s]"
     ]
    },
    {
     "name": "stdout",
     "output_type": "stream",
     "text": [
      "Testing 66 potential triadic pairs\n",
      "Time spent finding triads: 0.0013606548309326172\n",
      "Found 164 connected triads\n",
      "Time spent classifying triads: 0.01474452018737793\n",
      "Testing 66 potential triadic pairs\n",
      "Time spent finding triads: 0.0013227462768554688\n",
      "Found 167 connected triads\n",
      "Time spent classifying triads: 0.006389617919921875\n"
     ]
    },
    {
     "name": "stderr",
     "output_type": "stream",
     "text": [
      "\r",
      " 32%|███▏      | 8/25 [00:00<00:00, 17.36it/s]"
     ]
    },
    {
     "name": "stdout",
     "output_type": "stream",
     "text": [
      "Testing 62 potential triadic pairs\n",
      "Time spent finding triads: 0.0012156963348388672\n",
      "Found 88 connected triads\n",
      "Time spent classifying triads: 0.006038188934326172\n",
      "Testing 66 potential triadic pairs\n",
      "Time spent finding triads: 0.0012485980987548828\n",
      "Found 125 connected triads\n",
      "Time spent classifying triads: 0.00480198860168457\n"
     ]
    },
    {
     "name": "stderr",
     "output_type": "stream",
     "text": [
      "\r",
      " 40%|████      | 10/25 [00:00<00:00, 17.23it/s]"
     ]
    },
    {
     "name": "stdout",
     "output_type": "stream",
     "text": [
      "Testing 66 potential triadic pairs\n",
      "Time spent finding triads: 0.0013470649719238281\n",
      "Found 142 connected triads\n",
      "Time spent classifying triads: 0.013029813766479492\n",
      "Testing 64 potential triadic pairs\n",
      "Time spent finding triads: 0.0012309551239013672\n",
      "Found 124 connected triads\n",
      "Time spent classifying triads: 0.004735231399536133\n"
     ]
    },
    {
     "name": "stderr",
     "output_type": "stream",
     "text": [
      "\r",
      " 48%|████▊     | 12/25 [00:00<00:00, 17.47it/s]"
     ]
    },
    {
     "name": "stdout",
     "output_type": "stream",
     "text": [
      "Testing 66 potential triadic pairs\n",
      "Time spent finding triads: 0.0013065338134765625\n",
      "Found 139 connected triads\n",
      "Time spent classifying triads: 0.008048772811889648\n",
      "Testing 66 potential triadic pairs\n",
      "Time spent finding triads: 0.0013301372528076172\n",
      "Found 164 connected triads\n",
      "Time spent classifying triads: 0.006273984909057617\n"
     ]
    },
    {
     "name": "stderr",
     "output_type": "stream",
     "text": [
      "\r",
      " 56%|█████▌    | 14/25 [00:00<00:00, 17.29it/s]"
     ]
    },
    {
     "name": "stdout",
     "output_type": "stream",
     "text": [
      "Testing 66 potential triadic pairs\n",
      "Time spent finding triads: 0.0013761520385742188\n",
      "Found 159 connected triads\n",
      "Time spent classifying triads: 0.014574050903320312\n",
      "Testing 66 potential triadic pairs\n",
      "Time spent finding triads: 0.0012447834014892578\n",
      "Found 127 connected triads\n",
      "Time spent classifying triads: 0.00488734245300293\n"
     ]
    },
    {
     "name": "stderr",
     "output_type": "stream",
     "text": [
      "\r",
      " 64%|██████▍   | 16/25 [00:00<00:00, 17.10it/s]"
     ]
    },
    {
     "name": "stdout",
     "output_type": "stream",
     "text": [
      "Testing 66 potential triadic pairs\n",
      "Time spent finding triads: 0.0013456344604492188\n",
      "Found 157 connected triads\n",
      "Time spent classifying triads: 0.014423131942749023\n",
      "Testing 64 potential triadic pairs\n",
      "Time spent finding triads: 0.0011909008026123047\n",
      "Found 102 connected triads\n",
      "Time spent classifying triads: 0.0039675235748291016\n"
     ]
    },
    {
     "name": "stderr",
     "output_type": "stream",
     "text": [
      "\r",
      " 72%|███████▏  | 18/25 [00:01<00:00, 16.68it/s]"
     ]
    },
    {
     "name": "stdout",
     "output_type": "stream",
     "text": [
      "Testing 66 potential triadic pairs\n",
      "Time spent finding triads: 0.0013511180877685547\n",
      "Found 164 connected triads\n",
      "Time spent classifying triads: 0.007953643798828125\n",
      "Testing 66 potential triadic pairs\n",
      "Time spent finding triads: 0.0014553070068359375\n",
      "Found 214 connected triads\n",
      "Time spent classifying triads: 0.008038520812988281\n"
     ]
    },
    {
     "name": "stderr",
     "output_type": "stream",
     "text": [
      "\r",
      " 80%|████████  | 20/25 [00:01<00:00, 16.84it/s]"
     ]
    },
    {
     "name": "stdout",
     "output_type": "stream",
     "text": [
      "Testing 65 potential triadic pairs\n",
      "Time spent finding triads: 0.0012977123260498047\n",
      "Found 141 connected triads\n",
      "Time spent classifying triads: 0.012956380844116211\n",
      "Testing 66 potential triadic pairs\n",
      "Time spent finding triads: 0.0012822151184082031\n",
      "Found 162 connected triads\n",
      "Time spent classifying triads: 0.0061664581298828125\n"
     ]
    },
    {
     "name": "stderr",
     "output_type": "stream",
     "text": [
      "\r",
      " 88%|████████▊ | 22/25 [00:01<00:00, 17.02it/s]"
     ]
    },
    {
     "name": "stdout",
     "output_type": "stream",
     "text": [
      "Testing 64 potential triadic pairs\n",
      "Time spent finding triads: 0.0012481212615966797\n",
      "Found 106 connected triads\n",
      "Time spent classifying triads: 0.00976419448852539\n",
      "Testing 66 potential triadic pairs\n",
      "Time spent finding triads: 0.0012671947479248047\n",
      "Found 140 connected triads\n",
      "Time spent classifying triads: 0.005352020263671875\n"
     ]
    },
    {
     "name": "stderr",
     "output_type": "stream",
     "text": [
      "\r",
      " 96%|█████████▌| 24/25 [00:01<00:00, 17.26it/s]"
     ]
    },
    {
     "name": "stdout",
     "output_type": "stream",
     "text": [
      "Testing 56 potential triadic pairs\n",
      "Time spent finding triads: 0.0011627674102783203\n",
      "Found 81 connected triads\n",
      "Time spent classifying triads: 0.007501840591430664\n",
      "Testing 66 potential triadic pairs\n",
      "Time spent finding triads: 0.0012776851654052734\n",
      "Found 155 connected triads\n",
      "Time spent classifying triads: 0.0058977603912353516\n"
     ]
    },
    {
     "name": "stderr",
     "output_type": "stream",
     "text": [
      "100%|██████████| 25/25 [00:01<00:00, 17.00it/s]\n"
     ]
    },
    {
     "name": "stdout",
     "output_type": "stream",
     "text": [
      "Testing 66 potential triadic pairs\n",
      "Time spent finding triads: 0.0013878345489501953\n",
      "Found 172 connected triads\n",
      "Time spent classifying triads: 0.015779733657836914\n"
     ]
    },
    {
     "name": "stderr",
     "output_type": "stream",
     "text": [
      "\r",
      "  0%|          | 0/25 [00:00<?, ?it/s]"
     ]
    },
    {
     "name": "stdout",
     "output_type": "stream",
     "text": [
      "Testing 66 potential triadic pairs\n",
      "Time spent finding triads: 0.0013828277587890625\n",
      "Found 171 connected triads\n",
      "Time spent classifying triads: 0.015663862228393555\n"
     ]
    },
    {
     "name": "stderr",
     "output_type": "stream",
     "text": [
      "\r",
      "  8%|▊         | 2/25 [00:00<00:01, 14.93it/s]"
     ]
    },
    {
     "name": "stdout",
     "output_type": "stream",
     "text": [
      "Testing 66 potential triadic pairs\n",
      "Time spent finding triads: 0.0014083385467529297\n",
      "Found 177 connected triads\n",
      "Time spent classifying triads: 0.016264915466308594\n",
      "Testing 59 potential triadic pairs\n",
      "Time spent finding triads: 0.0011396408081054688\n",
      "Found 90 connected triads\n",
      "Time spent classifying triads: 0.0035033226013183594\n"
     ]
    },
    {
     "name": "stderr",
     "output_type": "stream",
     "text": [
      "\r",
      " 16%|█▌        | 4/25 [00:00<00:01, 16.11it/s]"
     ]
    },
    {
     "name": "stdout",
     "output_type": "stream",
     "text": [
      "Testing 64 potential triadic pairs\n",
      "Time spent finding triads: 0.0012578964233398438\n",
      "Found 112 connected triads\n",
      "Time spent classifying triads: 0.010326862335205078\n",
      "Testing 66 potential triadic pairs\n",
      "Time spent finding triads: 0.0014252662658691406\n",
      "Found 181 connected triads\n",
      "Time spent classifying triads: 0.015634536743164062\n"
     ]
    },
    {
     "name": "stderr",
     "output_type": "stream",
     "text": [
      "\r",
      " 24%|██▍       | 6/25 [00:00<00:01, 15.73it/s]"
     ]
    },
    {
     "name": "stdout",
     "output_type": "stream",
     "text": [
      "Testing 48 potential triadic pairs\n",
      "Time spent finding triads: 0.0011227130889892578\n",
      "Found 62 connected triads\n",
      "Time spent classifying triads: 0.005765438079833984\n",
      "Testing 66 potential triadic pairs\n",
      "Time spent finding triads: 0.0012404918670654297\n",
      "Found 122 connected triads\n",
      "Time spent classifying triads: 0.004715919494628906\n"
     ]
    },
    {
     "name": "stderr",
     "output_type": "stream",
     "text": [
      "\r",
      " 32%|███▏      | 8/25 [00:00<00:01, 16.23it/s]"
     ]
    },
    {
     "name": "stdout",
     "output_type": "stream",
     "text": [
      "Testing 65 potential triadic pairs\n",
      "Time spent finding triads: 0.0012614727020263672\n",
      "Found 111 connected triads\n",
      "Time spent classifying triads: 0.010225057601928711\n",
      "Testing 60 potential triadic pairs\n",
      "Time spent finding triads: 0.0012052059173583984\n",
      "Found 97 connected triads\n",
      "Time spent classifying triads: 0.008974313735961914\n"
     ]
    },
    {
     "name": "stderr",
     "output_type": "stream",
     "text": [
      "\r",
      " 40%|████      | 10/25 [00:00<00:00, 16.14it/s]"
     ]
    },
    {
     "name": "stdout",
     "output_type": "stream",
     "text": [
      "Testing 65 potential triadic pairs\n",
      "Time spent finding triads: 0.001291513442993164\n",
      "Found 120 connected triads\n",
      "Time spent classifying triads: 0.011039495468139648\n",
      "Testing 66 potential triadic pairs\n",
      "Time spent finding triads: 0.0013527870178222656\n",
      "Found 167 connected triads\n",
      "Time spent classifying triads: 0.006371021270751953\n"
     ]
    },
    {
     "name": "stderr",
     "output_type": "stream",
     "text": [
      "\r",
      " 48%|████▊     | 12/25 [00:00<00:00, 16.35it/s]"
     ]
    },
    {
     "name": "stdout",
     "output_type": "stream",
     "text": [
      "Testing 55 potential triadic pairs\n",
      "Time spent finding triads: 0.0012538433074951172\n",
      "Found 100 connected triads\n",
      "Time spent classifying triads: 0.009261131286621094\n",
      "Testing 66 potential triadic pairs\n",
      "Time spent finding triads: 0.0013895034790039062\n",
      "Found 173 connected triads\n",
      "Time spent classifying triads: 0.009637117385864258\n"
     ]
    },
    {
     "name": "stderr",
     "output_type": "stream",
     "text": [
      "\r",
      " 56%|█████▌    | 14/25 [00:00<00:00, 16.15it/s]"
     ]
    },
    {
     "name": "stdout",
     "output_type": "stream",
     "text": [
      "Testing 60 potential triadic pairs\n",
      "Time spent finding triads: 0.0012722015380859375\n",
      "Found 111 connected triads\n",
      "Time spent classifying triads: 0.010252952575683594\n",
      "Testing 66 potential triadic pairs\n",
      "Time spent finding triads: 0.0014181137084960938\n",
      "Found 203 connected triads\n",
      "Time spent classifying triads: 0.007714033126831055\n"
     ]
    },
    {
     "name": "stderr",
     "output_type": "stream",
     "text": [
      "\r",
      " 64%|██████▍   | 16/25 [00:00<00:00, 16.19it/s]"
     ]
    },
    {
     "name": "stdout",
     "output_type": "stream",
     "text": [
      "Testing 66 potential triadic pairs\n",
      "Time spent finding triads: 0.0013070106506347656\n",
      "Found 135 connected triads\n",
      "Time spent classifying triads: 0.012356758117675781\n",
      "Testing 66 potential triadic pairs\n",
      "Time spent finding triads: 0.0013794898986816406\n",
      "Found 170 connected triads\n",
      "Time spent classifying triads: 0.007402896881103516\n"
     ]
    },
    {
     "name": "stderr",
     "output_type": "stream",
     "text": [
      "\r",
      " 72%|███████▏  | 18/25 [00:01<00:00, 16.18it/s]"
     ]
    },
    {
     "name": "stdout",
     "output_type": "stream",
     "text": [
      "Testing 66 potential triadic pairs\n",
      "Time spent finding triads: 0.0013153553009033203\n",
      "Found 135 connected triads\n",
      "Time spent classifying triads: 0.01122426986694336\n",
      "Testing 66 potential triadic pairs\n",
      "Time spent finding triads: 0.001230001449584961\n",
      "Found 124 connected triads\n",
      "Time spent classifying triads: 0.004750251770019531\n"
     ]
    },
    {
     "name": "stderr",
     "output_type": "stream",
     "text": [
      "\r",
      " 80%|████████  | 20/25 [00:01<00:00, 16.29it/s]"
     ]
    },
    {
     "name": "stdout",
     "output_type": "stream",
     "text": [
      "Testing 61 potential triadic pairs\n",
      "Time spent finding triads: 0.0013735294342041016\n",
      "Found 151 connected triads\n",
      "Time spent classifying triads: 0.013826847076416016\n",
      "Testing 66 potential triadic pairs\n",
      "Time spent finding triads: 0.0014307498931884766\n",
      "Found 186 connected triads\n",
      "Time spent classifying triads: 0.007796287536621094\n"
     ]
    },
    {
     "name": "stderr",
     "output_type": "stream",
     "text": [
      "\r",
      " 88%|████████▊ | 22/25 [00:01<00:00, 16.52it/s]"
     ]
    },
    {
     "name": "stdout",
     "output_type": "stream",
     "text": [
      "Testing 61 potential triadic pairs\n",
      "Time spent finding triads: 0.0012276172637939453\n",
      "Found 107 connected triads\n",
      "Time spent classifying triads: 0.006663799285888672\n",
      "Testing 66 potential triadic pairs\n",
      "Time spent finding triads: 0.0013308525085449219\n",
      "Found 165 connected triads\n",
      "Time spent classifying triads: 0.006346940994262695\n"
     ]
    },
    {
     "name": "stderr",
     "output_type": "stream",
     "text": [
      "\r",
      " 96%|█████████▌| 24/25 [00:01<00:00, 16.09it/s]"
     ]
    },
    {
     "name": "stdout",
     "output_type": "stream",
     "text": [
      "Testing 65 potential triadic pairs\n",
      "Time spent finding triads: 0.002326488494873047\n",
      "Found 159 connected triads\n",
      "Time spent classifying triads: 0.015592813491821289\n",
      "Testing 66 potential triadic pairs\n",
      "Time spent finding triads: 0.001417398452758789\n",
      "Found 174 connected triads\n"
     ]
    },
    {
     "name": "stderr",
     "output_type": "stream",
     "text": [
      "100%|██████████| 25/25 [00:01<00:00, 15.97it/s]\n"
     ]
    },
    {
     "name": "stdout",
     "output_type": "stream",
     "text": [
      "Time spent classifying triads: 0.016484975814819336\n"
     ]
    },
    {
     "name": "stderr",
     "output_type": "stream",
     "text": [
      "\r",
      "  0%|          | 0/25 [00:00<?, ?it/s]"
     ]
    },
    {
     "name": "stdout",
     "output_type": "stream",
     "text": [
      "Testing 66 potential triadic pairs\n",
      "Time spent finding triads: 0.00146484375\n",
      "Found 192 connected triads\n",
      "Time spent classifying triads: 0.017606019973754883\n"
     ]
    },
    {
     "name": "stderr",
     "output_type": "stream",
     "text": [
      "\r",
      "  8%|▊         | 2/25 [00:00<00:01, 15.78it/s]"
     ]
    },
    {
     "name": "stdout",
     "output_type": "stream",
     "text": [
      "Testing 66 potential triadic pairs\n",
      "Time spent finding triads: 0.0013303756713867188\n",
      "Found 138 connected triads\n",
      "Time spent classifying triads: 0.010638713836669922\n",
      "Testing 66 potential triadic pairs\n",
      "Time spent finding triads: 0.0013079643249511719\n",
      "Found 155 connected triads\n",
      "Time spent classifying triads: 0.005925655364990234\n"
     ]
    },
    {
     "name": "stderr",
     "output_type": "stream",
     "text": [
      "\r",
      " 16%|█▌        | 4/25 [00:00<00:01, 16.02it/s]"
     ]
    },
    {
     "name": "stdout",
     "output_type": "stream",
     "text": [
      "Testing 66 potential triadic pairs\n",
      "Time spent finding triads: 0.0013163089752197266\n",
      "Found 135 connected triads\n",
      "Time spent classifying triads: 0.012403249740600586\n",
      "Testing 66 potential triadic pairs\n",
      "Time spent finding triads: 0.0014095306396484375\n",
      "Found 168 connected triads\n",
      "Time spent classifying triads: 0.015427589416503906\n",
      "Testing 66 potential triadic pairs\n",
      "Time spent finding triads: 0.0012347698211669922\n",
      "Found 128 connected triads\n",
      "Time spent classifying triads: 0.004893302917480469\n"
     ]
    },
    {
     "name": "stderr",
     "output_type": "stream",
     "text": [
      " 32%|███▏      | 8/25 [00:00<00:01, 13.95it/s]"
     ]
    },
    {
     "name": "stdout",
     "output_type": "stream",
     "text": [
      "Testing 66 potential triadic pairs\n",
      "Time spent finding triads: 0.001397848129272461\n",
      "Found 176 connected triads\n",
      "Time spent classifying triads: 0.014690637588500977\n",
      "Testing 66 potential triadic pairs\n",
      "Time spent finding triads: 0.0013153553009033203\n",
      "Found 167 connected triads\n",
      "Time spent classifying triads: 0.00632476806640625\n"
     ]
    },
    {
     "name": "stderr",
     "output_type": "stream",
     "text": [
      "\r",
      " 40%|████      | 10/25 [00:00<00:00, 15.16it/s]"
     ]
    },
    {
     "name": "stdout",
     "output_type": "stream",
     "text": [
      "Testing 66 potential triadic pairs\n",
      "Time spent finding triads: 0.0014438629150390625\n",
      "Found 188 connected triads\n",
      "Time spent classifying triads: 0.007558345794677734\n",
      "Testing 64 potential triadic pairs\n",
      "Time spent finding triads: 0.0012400150299072266\n",
      "Found 129 connected triads\n",
      "Time spent classifying triads: 0.004913330078125\n"
     ]
    },
    {
     "name": "stderr",
     "output_type": "stream",
     "text": [
      "\r",
      " 48%|████▊     | 12/25 [00:00<00:00, 15.49it/s]"
     ]
    },
    {
     "name": "stdout",
     "output_type": "stream",
     "text": [
      "Testing 66 potential triadic pairs\n",
      "Time spent finding triads: 0.0014274120330810547\n",
      "Found 187 connected triads\n",
      "Time spent classifying triads: 0.017116069793701172\n",
      "Testing 66 potential triadic pairs\n",
      "Time spent finding triads: 0.0012407302856445312\n",
      "Found 135 connected triads\n",
      "Time spent classifying triads: 0.005213737487792969\n"
     ]
    },
    {
     "name": "stderr",
     "output_type": "stream",
     "text": [
      "\r",
      " 56%|█████▌    | 14/25 [00:00<00:00, 15.52it/s]"
     ]
    },
    {
     "name": "stdout",
     "output_type": "stream",
     "text": [
      "Testing 65 potential triadic pairs\n",
      "Time spent finding triads: 0.0013363361358642578\n",
      "Found 145 connected triads\n",
      "Time spent classifying triads: 0.0132904052734375\n",
      "Testing 66 potential triadic pairs\n",
      "Time spent finding triads: 0.0013251304626464844\n",
      "Found 161 connected triads\n",
      "Time spent classifying triads: 0.014197111129760742\n"
     ]
    },
    {
     "name": "stderr",
     "output_type": "stream",
     "text": [
      "\r",
      " 64%|██████▍   | 16/25 [00:01<00:00, 16.08it/s]"
     ]
    },
    {
     "name": "stdout",
     "output_type": "stream",
     "text": [
      "Testing 66 potential triadic pairs\n",
      "Time spent finding triads: 0.0013837814331054688\n",
      "Found 165 connected triads\n",
      "Time spent classifying triads: 0.011878013610839844\n",
      "Testing 56 potential triadic pairs\n",
      "Time spent finding triads: 0.0010783672332763672\n",
      "Found 62 connected triads\n",
      "Time spent classifying triads: 0.002440929412841797\n"
     ]
    },
    {
     "name": "stderr",
     "output_type": "stream",
     "text": [
      "\r",
      " 72%|███████▏  | 18/25 [00:01<00:00, 16.27it/s]"
     ]
    },
    {
     "name": "stdout",
     "output_type": "stream",
     "text": [
      "Testing 66 potential triadic pairs\n",
      "Time spent finding triads: 0.0013294219970703125\n",
      "Found 146 connected triads\n",
      "Time spent classifying triads: 0.009855508804321289\n",
      "Testing 66 potential triadic pairs\n",
      "Time spent finding triads: 0.0015120506286621094\n",
      "Found 212 connected triads\n",
      "Time spent classifying triads: 0.008159160614013672\n"
     ]
    },
    {
     "name": "stderr",
     "output_type": "stream",
     "text": [
      "\r",
      " 80%|████████  | 20/25 [00:01<00:00, 16.33it/s]"
     ]
    },
    {
     "name": "stdout",
     "output_type": "stream",
     "text": [
      "Testing 66 potential triadic pairs\n",
      "Time spent finding triads: 0.0014369487762451172\n",
      "Found 188 connected triads\n",
      "Time spent classifying triads: 0.01597738265991211\n",
      "Testing 66 potential triadic pairs\n",
      "Time spent finding triads: 0.0012898445129394531\n",
      "Found 155 connected triads\n",
      "Time spent classifying triads: 0.005929708480834961\n"
     ]
    },
    {
     "name": "stderr",
     "output_type": "stream",
     "text": [
      "\r",
      " 88%|████████▊ | 22/25 [00:01<00:00, 16.76it/s]"
     ]
    },
    {
     "name": "stdout",
     "output_type": "stream",
     "text": [
      "Testing 65 potential triadic pairs\n",
      "Time spent finding triads: 0.0013284683227539062\n",
      "Found 153 connected triads\n",
      "Time spent classifying triads: 0.010314702987670898\n",
      "Testing 66 potential triadic pairs\n",
      "Time spent finding triads: 0.0012125968933105469\n",
      "Found 129 connected triads\n",
      "Time spent classifying triads: 0.004906654357910156\n"
     ]
    },
    {
     "name": "stderr",
     "output_type": "stream",
     "text": [
      "\r",
      " 96%|█████████▌| 24/25 [00:01<00:00, 17.16it/s]"
     ]
    },
    {
     "name": "stdout",
     "output_type": "stream",
     "text": [
      "Testing 55 potential triadic pairs\n",
      "Time spent finding triads: 0.001207590103149414\n",
      "Found 104 connected triads\n",
      "Time spent classifying triads: 0.009526491165161133\n",
      "Testing 65 potential triadic pairs\n",
      "Time spent finding triads: 0.0012218952178955078\n",
      "Found 125 connected triads\n",
      "Time spent classifying triads: 0.004868030548095703\n"
     ]
    },
    {
     "name": "stderr",
     "output_type": "stream",
     "text": [
      "100%|██████████| 25/25 [00:01<00:00, 15.91it/s]\n"
     ]
    },
    {
     "name": "stdout",
     "output_type": "stream",
     "text": [
      "Testing 65 potential triadic pairs\n",
      "Time spent finding triads: 0.0012328624725341797\n",
      "Found 98 connected triads\n",
      "Time spent classifying triads: 0.00823211669921875\n"
     ]
    },
    {
     "name": "stderr",
     "output_type": "stream",
     "text": [
      "\r",
      "  0%|          | 0/25 [00:00<?, ?it/s]"
     ]
    },
    {
     "name": "stdout",
     "output_type": "stream",
     "text": [
      "Testing 64 potential triadic pairs\n",
      "Time spent finding triads: 0.0012314319610595703\n",
      "Found 110 connected triads\n",
      "Time spent classifying triads: 0.005131959915161133\n",
      "Testing 65 potential triadic pairs\n",
      "Time spent finding triads: 0.0012083053588867188\n",
      "Found 120 connected triads\n",
      "Time spent classifying triads: 0.0046007633209228516\n"
     ]
    },
    {
     "name": "stderr",
     "output_type": "stream",
     "text": [
      "\r",
      " 12%|█▏        | 3/25 [00:00<00:00, 23.53it/s]"
     ]
    },
    {
     "name": "stdout",
     "output_type": "stream",
     "text": [
      "Testing 62 potential triadic pairs\n",
      "Time spent finding triads: 0.0012226104736328125\n",
      "Found 114 connected triads\n",
      "Time spent classifying triads: 0.009695053100585938\n",
      "Testing 64 potential triadic pairs\n",
      "Time spent finding triads: 0.0011777877807617188\n",
      "Found 96 connected triads\n",
      "Time spent classifying triads: 0.003724813461303711\n",
      "Testing 66 potential triadic pairs\n",
      "Time spent finding triads: 0.0013599395751953125\n",
      "Found 120 connected triads\n",
      "Time spent classifying triads: 0.01033639907836914\n"
     ]
    },
    {
     "name": "stderr",
     "output_type": "stream",
     "text": [
      "\r",
      " 24%|██▍       | 6/25 [00:00<00:00, 23.10it/s]"
     ]
    },
    {
     "name": "stdout",
     "output_type": "stream",
     "text": [
      "Testing 61 potential triadic pairs\n",
      "Time spent finding triads: 0.0013031959533691406\n",
      "Found 142 connected triads\n",
      "Time spent classifying triads: 0.008577823638916016\n",
      "Testing 66 potential triadic pairs\n",
      "Time spent finding triads: 0.0012845993041992188\n",
      "Found 158 connected triads\n",
      "Time spent classifying triads: 0.006002187728881836\n"
     ]
    },
    {
     "name": "stderr",
     "output_type": "stream",
     "text": [
      "\r",
      " 36%|███▌      | 9/25 [00:00<00:00, 23.52it/s]"
     ]
    },
    {
     "name": "stdout",
     "output_type": "stream",
     "text": [
      "Testing 63 potential triadic pairs\n",
      "Time spent finding triads: 0.0012102127075195312\n",
      "Found 103 connected triads\n",
      "Time spent classifying triads: 0.009507894515991211\n",
      "Testing 63 potential triadic pairs\n",
      "Time spent finding triads: 0.0012056827545166016\n",
      "Found 123 connected triads\n",
      "Time spent classifying triads: 0.0046727657318115234\n",
      "Testing 66 potential triadic pairs\n",
      "Time spent finding triads: 0.0013120174407958984\n",
      "Found 162 connected triads\n",
      "Time spent classifying triads: 0.014903068542480469\n"
     ]
    },
    {
     "name": "stderr",
     "output_type": "stream",
     "text": [
      "\r",
      " 48%|████▊     | 12/25 [00:00<00:00, 23.09it/s]"
     ]
    },
    {
     "name": "stdout",
     "output_type": "stream",
     "text": [
      "Testing 66 potential triadic pairs\n",
      "Time spent finding triads: 0.0012638568878173828\n",
      "Found 128 connected triads\n",
      "Time spent classifying triads: 0.007929086685180664\n",
      "Testing 58 potential triadic pairs\n",
      "Time spent finding triads: 0.001150369644165039\n",
      "Found 103 connected triads\n",
      "Time spent classifying triads: 0.003948688507080078\n",
      "Testing 65 potential triadic pairs\n",
      "Time spent finding triads: 0.0013227462768554688\n",
      "Found 148 connected triads\n",
      "Time spent classifying triads: 0.013591527938842773\n",
      "Testing 64 potential triadic pairs\n",
      "Time spent finding triads: 0.0012257099151611328\n",
      "Found 134 connected triads\n",
      "Time spent classifying triads: 0.0051271915435791016\n"
     ]
    },
    {
     "name": "stderr",
     "output_type": "stream",
     "text": [
      "\r",
      " 60%|██████    | 15/25 [00:00<00:00, 22.55it/s]"
     ]
    },
    {
     "name": "stdout",
     "output_type": "stream",
     "text": [
      "Testing 66 potential triadic pairs\n",
      "Time spent finding triads: 0.0013489723205566406\n",
      "Found 177 connected triads\n",
      "Time spent classifying triads: 0.013011932373046875\n",
      "Testing 66 potential triadic pairs\n",
      "Time spent finding triads: 0.0012481212615966797\n",
      "Found 113 connected triads\n",
      "Time spent classifying triads: 0.005566835403442383\n",
      "Testing 66 potential triadic pairs\n",
      "Time spent finding triads: 0.0012493133544921875\n",
      "Found 144 connected triads\n",
      "Time spent classifying triads: 0.005471229553222656\n"
     ]
    },
    {
     "name": "stderr",
     "output_type": "stream",
     "text": [
      "\r",
      " 72%|███████▏  | 18/25 [00:00<00:00, 22.38it/s]"
     ]
    },
    {
     "name": "stdout",
     "output_type": "stream",
     "text": [
      "Testing 66 potential triadic pairs\n",
      "Time spent finding triads: 0.001363515853881836\n",
      "Found 169 connected triads\n",
      "Time spent classifying triads: 0.013968467712402344\n",
      "Testing 66 potential triadic pairs\n",
      "Time spent finding triads: 0.0012898445129394531\n",
      "Found 164 connected triads\n",
      "Time spent classifying triads: 0.006252765655517578\n",
      "Testing 66 potential triadic pairs\n",
      "Time spent finding triads: 0.0013518333435058594\n",
      "Found 172 connected triads\n",
      "Time spent classifying triads: 0.015765905380249023\n"
     ]
    },
    {
     "name": "stderr",
     "output_type": "stream",
     "text": [
      "\r",
      " 84%|████████▍ | 21/25 [00:00<00:00, 22.00it/s]"
     ]
    },
    {
     "name": "stdout",
     "output_type": "stream",
     "text": [
      "Testing 54 potential triadic pairs\n",
      "Time spent finding triads: 0.0012042522430419922\n",
      "Found 112 connected triads\n",
      "Time spent classifying triads: 0.010359048843383789\n",
      "Testing 65 potential triadic pairs\n",
      "Time spent finding triads: 0.0012021064758300781\n",
      "Found 118 connected triads\n",
      "Time spent classifying triads: 0.004541158676147461\n"
     ]
    },
    {
     "name": "stderr",
     "output_type": "stream",
     "text": [
      "\r",
      " 96%|█████████▌| 24/25 [00:01<00:00, 22.43it/s]"
     ]
    },
    {
     "name": "stdout",
     "output_type": "stream",
     "text": [
      "Testing 63 potential triadic pairs\n",
      "Time spent finding triads: 0.0012745857238769531\n",
      "Found 140 connected triads\n",
      "Time spent classifying triads: 0.012893915176391602\n",
      "Testing 65 potential triadic pairs\n",
      "Time spent finding triads: 0.0012712478637695312\n",
      "Found 149 connected triads\n",
      "Time spent classifying triads: 0.00566864013671875\n"
     ]
    },
    {
     "name": "stderr",
     "output_type": "stream",
     "text": [
      "100%|██████████| 25/25 [00:01<00:00, 22.45it/s]\n"
     ]
    },
    {
     "name": "stdout",
     "output_type": "stream",
     "text": [
      "Testing 66 potential triadic pairs\n",
      "Time spent finding triads: 0.0013337135314941406\n",
      "Found 166 connected triads\n",
      "Time spent classifying triads: 0.013144731521606445\n"
     ]
    },
    {
     "name": "stderr",
     "output_type": "stream",
     "text": [
      "\r",
      "  0%|          | 0/25 [00:00<?, ?it/s]"
     ]
    },
    {
     "name": "stdout",
     "output_type": "stream",
     "text": [
      "Testing 66 potential triadic pairs\n",
      "Time spent finding triads: 0.0013282299041748047\n",
      "Found 142 connected triads\n",
      "Time spent classifying triads: 0.012948989868164062\n",
      "Testing 65 potential triadic pairs\n",
      "Time spent finding triads: 0.001348733901977539\n",
      "Found 158 connected triads\n",
      "Time spent classifying triads: 0.014535903930664062\n"
     ]
    },
    {
     "name": "stderr",
     "output_type": "stream",
     "text": [
      "\r",
      "  8%|▊         | 2/25 [00:00<00:01, 16.42it/s]"
     ]
    },
    {
     "name": "stdout",
     "output_type": "stream",
     "text": [
      "Testing 66 potential triadic pairs\n",
      "Time spent finding triads: 0.0014040470123291016\n",
      "Found 174 connected triads\n",
      "Time spent classifying triads: 0.007197856903076172\n"
     ]
    },
    {
     "name": "stderr",
     "output_type": "stream",
     "text": [
      "\r",
      " 16%|█▌        | 4/25 [00:00<00:01, 16.27it/s]"
     ]
    },
    {
     "name": "stdout",
     "output_type": "stream",
     "text": [
      "Testing 66 potential triadic pairs\n",
      "Time spent finding triads: 0.0014357566833496094\n",
      "Found 193 connected triads\n",
      "Time spent classifying triads: 0.017679214477539062\n"
     ]
    },
    {
     "name": "stderr",
     "output_type": "stream",
     "text": [
      "\r",
      " 24%|██▍       | 6/25 [00:00<00:01, 16.87it/s]"
     ]
    },
    {
     "name": "stdout",
     "output_type": "stream",
     "text": [
      "Testing 66 potential triadic pairs\n",
      "Time spent finding triads: 0.0014111995697021484\n",
      "Found 171 connected triads\n",
      "Time spent classifying triads: 0.015575170516967773\n",
      "Testing 60 potential triadic pairs\n",
      "Time spent finding triads: 0.0011568069458007812\n",
      "Found 96 connected triads\n",
      "Time spent classifying triads: 0.003674030303955078\n",
      "Testing 66 potential triadic pairs\n",
      "Time spent finding triads: 0.001390695571899414\n",
      "Found 172 connected triads\n",
      "Time spent classifying triads: 0.012633562088012695\n"
     ]
    },
    {
     "name": "stderr",
     "output_type": "stream",
     "text": [
      "\r",
      " 32%|███▏      | 8/25 [00:00<00:01, 16.83it/s]"
     ]
    },
    {
     "name": "stdout",
     "output_type": "stream",
     "text": [
      "Testing 66 potential triadic pairs\n",
      "Time spent finding triads: 0.0014328956604003906\n",
      "Found 186 connected triads\n",
      "Time spent classifying triads: 0.008524894714355469\n"
     ]
    },
    {
     "name": "stderr",
     "output_type": "stream",
     "text": [
      "\r",
      " 40%|████      | 10/25 [00:00<00:00, 17.47it/s]"
     ]
    },
    {
     "name": "stdout",
     "output_type": "stream",
     "text": [
      "Testing 66 potential triadic pairs\n",
      "Time spent finding triads: 0.0013537406921386719\n",
      "Found 171 connected triads\n",
      "Time spent classifying triads: 0.008075237274169922\n",
      "Testing 64 potential triadic pairs\n",
      "Time spent finding triads: 0.0011649131774902344\n",
      "Found 100 connected triads\n",
      "Time spent classifying triads: 0.0038602352142333984\n",
      "Testing 66 potential triadic pairs\n",
      "Time spent finding triads: 0.0013387203216552734\n",
      "Found 144 connected triads\n",
      "Time spent classifying triads: 0.013242959976196289\n"
     ]
    },
    {
     "name": "stderr",
     "output_type": "stream",
     "text": [
      "\r",
      " 48%|████▊     | 12/25 [00:00<00:00, 17.10it/s]"
     ]
    },
    {
     "name": "stdout",
     "output_type": "stream",
     "text": [
      "Testing 59 potential triadic pairs\n",
      "Time spent finding triads: 0.0012183189392089844\n",
      "Found 106 connected triads\n",
      "Time spent classifying triads: 0.009752988815307617\n"
     ]
    },
    {
     "name": "stderr",
     "output_type": "stream",
     "text": [
      "\r",
      " 56%|█████▌    | 14/25 [00:00<00:00, 17.34it/s]"
     ]
    },
    {
     "name": "stdout",
     "output_type": "stream",
     "text": [
      "Testing 66 potential triadic pairs\n",
      "Time spent finding triads: 0.0013086795806884766\n",
      "Found 135 connected triads\n",
      "Time spent classifying triads: 0.00973653793334961\n",
      "Testing 66 potential triadic pairs\n",
      "Time spent finding triads: 0.0013499259948730469\n",
      "Found 180 connected triads\n",
      "Time spent classifying triads: 0.0059359073638916016\n",
      "Testing 66 potential triadic pairs\n",
      "Time spent finding triads: 0.0013442039489746094\n",
      "Found 171 connected triads\n",
      "Time spent classifying triads: 0.012850761413574219\n"
     ]
    },
    {
     "name": "stderr",
     "output_type": "stream",
     "text": [
      "\r",
      " 64%|██████▍   | 16/25 [00:00<00:00, 16.87it/s]"
     ]
    },
    {
     "name": "stdout",
     "output_type": "stream",
     "text": [
      "Testing 66 potential triadic pairs\n",
      "Time spent finding triads: 0.0013484954833984375\n",
      "Found 164 connected triads\n",
      "Time spent classifying triads: 0.013676881790161133\n"
     ]
    },
    {
     "name": "stderr",
     "output_type": "stream",
     "text": [
      "\r",
      " 72%|███████▏  | 18/25 [00:01<00:00, 17.09it/s]"
     ]
    },
    {
     "name": "stdout",
     "output_type": "stream",
     "text": [
      "Testing 66 potential triadic pairs\n",
      "Time spent finding triads: 0.001363992691040039\n",
      "Found 166 connected triads\n",
      "Time spent classifying triads: 0.013653993606567383\n",
      "Testing 64 potential triadic pairs\n",
      "Time spent finding triads: 0.0012464523315429688\n",
      "Found 139 connected triads\n",
      "Time spent classifying triads: 0.005252838134765625\n",
      "Testing 58 potential triadic pairs\n",
      "Time spent finding triads: 0.0011928081512451172\n",
      "Found 87 connected triads\n",
      "Time spent classifying triads: 0.008027791976928711\n"
     ]
    },
    {
     "name": "stderr",
     "output_type": "stream",
     "text": [
      "\r",
      " 80%|████████  | 20/25 [00:01<00:00, 17.15it/s]"
     ]
    },
    {
     "name": "stdout",
     "output_type": "stream",
     "text": [
      "Testing 65 potential triadic pairs\n",
      "Time spent finding triads: 0.00135040283203125\n",
      "Found 163 connected triads\n",
      "Time spent classifying triads: 0.009525299072265625\n"
     ]
    },
    {
     "name": "stderr",
     "output_type": "stream",
     "text": [
      "\r",
      " 88%|████████▊ | 22/25 [00:01<00:00, 17.37it/s]"
     ]
    },
    {
     "name": "stdout",
     "output_type": "stream",
     "text": [
      "Testing 66 potential triadic pairs\n",
      "Time spent finding triads: 0.0012884140014648438\n",
      "Found 116 connected triads\n",
      "Time spent classifying triads: 0.007863998413085938\n",
      "Testing 66 potential triadic pairs\n",
      "Time spent finding triads: 0.0012674331665039062\n",
      "Found 154 connected triads\n",
      "Time spent classifying triads: 0.005888700485229492\n",
      "Testing 62 potential triadic pairs\n",
      "Time spent finding triads: 0.0012812614440917969\n",
      "Found 124 connected triads\n",
      "Time spent classifying triads: 0.010730266571044922\n"
     ]
    },
    {
     "name": "stderr",
     "output_type": "stream",
     "text": [
      "\r",
      " 96%|█████████▌| 24/25 [00:01<00:00, 17.41it/s]"
     ]
    },
    {
     "name": "stdout",
     "output_type": "stream",
     "text": [
      "Testing 65 potential triadic pairs\n",
      "Time spent finding triads: 0.0013053417205810547\n",
      "Found 137 connected triads\n",
      "Time spent classifying triads: 0.006696224212646484\n"
     ]
    },
    {
     "name": "stderr",
     "output_type": "stream",
     "text": [
      "100%|██████████| 25/25 [00:01<00:00, 17.10it/s]\n"
     ]
    },
    {
     "name": "stdout",
     "output_type": "stream",
     "text": [
      "Testing 66 potential triadic pairs\n",
      "Time spent finding triads: 0.0014998912811279297\n",
      "Found 207 connected triads\n",
      "Time spent classifying triads: 0.012488365173339844\n"
     ]
    },
    {
     "name": "stderr",
     "output_type": "stream",
     "text": [
      "\r",
      "  0%|          | 0/25 [00:00<?, ?it/s]"
     ]
    },
    {
     "name": "stdout",
     "output_type": "stream",
     "text": [
      "Testing 66 potential triadic pairs\n",
      "Time spent finding triads: 0.0013728141784667969\n",
      "Found 166 connected triads\n",
      "Time spent classifying triads: 0.015214920043945312\n",
      "Testing 66 potential triadic pairs\n",
      "Time spent finding triads: 0.0013136863708496094\n",
      "Found 144 connected triads\n",
      "Time spent classifying triads: 0.013085365295410156\n"
     ]
    },
    {
     "name": "stderr",
     "output_type": "stream",
     "text": [
      "\r",
      "  8%|▊         | 2/25 [00:00<00:01, 15.77it/s]"
     ]
    },
    {
     "name": "stdout",
     "output_type": "stream",
     "text": [
      "Testing 65 potential triadic pairs\n",
      "Time spent finding triads: 0.0014081001281738281\n",
      "Found 163 connected triads\n",
      "Time spent classifying triads: 0.010076761245727539\n"
     ]
    },
    {
     "name": "stderr",
     "output_type": "stream",
     "text": [
      "\r",
      " 16%|█▌        | 4/25 [00:00<00:01, 16.13it/s]"
     ]
    },
    {
     "name": "stdout",
     "output_type": "stream",
     "text": [
      "Testing 64 potential triadic pairs\n",
      "Time spent finding triads: 0.0013651847839355469\n",
      "Found 151 connected triads\n",
      "Time spent classifying triads: 0.013810157775878906\n",
      "Testing 62 potential triadic pairs\n",
      "Time spent finding triads: 0.0012471675872802734\n",
      "Found 109 connected triads\n",
      "Time spent classifying triads: 0.008661746978759766\n"
     ]
    },
    {
     "name": "stderr",
     "output_type": "stream",
     "text": [
      "\r",
      " 24%|██▍       | 6/25 [00:00<00:01, 16.29it/s]"
     ]
    },
    {
     "name": "stdout",
     "output_type": "stream",
     "text": [
      "Testing 66 potential triadic pairs\n",
      "Time spent finding triads: 0.0013263225555419922\n",
      "Found 156 connected triads\n",
      "Time spent classifying triads: 0.01427149772644043\n",
      "Testing 64 potential triadic pairs\n",
      "Time spent finding triads: 0.0012805461883544922\n",
      "Found 123 connected triads\n",
      "Time spent classifying triads: 0.01133584976196289\n"
     ]
    },
    {
     "name": "stderr",
     "output_type": "stream",
     "text": [
      "\r",
      " 32%|███▏      | 8/25 [00:00<00:01, 16.47it/s]"
     ]
    },
    {
     "name": "stdout",
     "output_type": "stream",
     "text": [
      "Testing 56 potential triadic pairs\n",
      "Time spent finding triads: 0.0012216567993164062\n",
      "Found 103 connected triads\n",
      "Time spent classifying triads: 0.009493827819824219\n",
      "Testing 64 potential triadic pairs\n",
      "Time spent finding triads: 0.0013194084167480469\n",
      "Found 136 connected triads\n",
      "Time spent classifying triads: 0.012510538101196289\n"
     ]
    },
    {
     "name": "stderr",
     "output_type": "stream",
     "text": [
      "\r",
      " 40%|████      | 10/25 [00:00<00:00, 16.57it/s]"
     ]
    },
    {
     "name": "stdout",
     "output_type": "stream",
     "text": [
      "Testing 62 potential triadic pairs\n",
      "Time spent finding triads: 0.0012402534484863281\n",
      "Found 105 connected triads\n",
      "Time spent classifying triads: 0.009652137756347656\n",
      "Testing 66 potential triadic pairs\n",
      "Time spent finding triads: 0.0014269351959228516\n",
      "Found 185 connected triads\n",
      "Time spent classifying triads: 0.007880449295043945\n"
     ]
    },
    {
     "name": "stderr",
     "output_type": "stream",
     "text": [
      "\r",
      " 48%|████▊     | 12/25 [00:00<00:00, 16.81it/s]"
     ]
    },
    {
     "name": "stdout",
     "output_type": "stream",
     "text": [
      "Testing 63 potential triadic pairs\n",
      "Time spent finding triads: 0.0012273788452148438\n",
      "Found 102 connected triads\n",
      "Time spent classifying triads: 0.009432315826416016\n",
      "Testing 66 potential triadic pairs\n",
      "Time spent finding triads: 0.001348257064819336\n",
      "Found 157 connected triads\n",
      "Time spent classifying triads: 0.014345169067382812\n"
     ]
    },
    {
     "name": "stderr",
     "output_type": "stream",
     "text": [
      "\r",
      " 56%|█████▌    | 14/25 [00:00<00:00, 16.73it/s]"
     ]
    },
    {
     "name": "stdout",
     "output_type": "stream",
     "text": [
      "Testing 43 potential triadic pairs\n",
      "Time spent finding triads: 0.0010497570037841797\n",
      "Found 50 connected triads\n",
      "Time spent classifying triads: 0.004647016525268555\n",
      "Testing 66 potential triadic pairs\n",
      "Time spent finding triads: 0.0013737678527832031\n",
      "Found 171 connected triads\n",
      "Time spent classifying triads: 0.01394510269165039\n"
     ]
    },
    {
     "name": "stderr",
     "output_type": "stream",
     "text": [
      "\r",
      " 64%|██████▍   | 16/25 [00:00<00:00, 16.79it/s]"
     ]
    },
    {
     "name": "stdout",
     "output_type": "stream",
     "text": [
      "Testing 65 potential triadic pairs\n",
      "Time spent finding triads: 0.0013492107391357422\n",
      "Found 143 connected triads\n",
      "Time spent classifying triads: 0.006011962890625\n",
      "Testing 66 potential triadic pairs\n",
      "Time spent finding triads: 0.0013990402221679688\n",
      "Found 180 connected triads\n",
      "Time spent classifying triads: 0.0063707828521728516\n"
     ]
    },
    {
     "name": "stderr",
     "output_type": "stream",
     "text": [
      "\r",
      " 72%|███████▏  | 18/25 [00:01<00:00, 17.12it/s]"
     ]
    },
    {
     "name": "stdout",
     "output_type": "stream",
     "text": [
      "Testing 64 potential triadic pairs\n",
      "Time spent finding triads: 0.0013022422790527344\n",
      "Found 140 connected triads\n",
      "Time spent classifying triads: 0.0073394775390625\n",
      "Testing 60 potential triadic pairs\n",
      "Time spent finding triads: 0.0012252330780029297\n",
      "Found 101 connected triads\n",
      "Time spent classifying triads: 0.009332656860351562\n"
     ]
    },
    {
     "name": "stderr",
     "output_type": "stream",
     "text": [
      "\r",
      " 80%|████████  | 20/25 [00:01<00:00, 16.99it/s]"
     ]
    },
    {
     "name": "stdout",
     "output_type": "stream",
     "text": [
      "Testing 66 potential triadic pairs\n",
      "Time spent finding triads: 0.0014407634735107422\n",
      "Found 184 connected triads\n",
      "Time spent classifying triads: 0.010132789611816406\n",
      "Testing 66 potential triadic pairs\n",
      "Time spent finding triads: 0.0012612342834472656\n",
      "Found 115 connected triads\n",
      "Time spent classifying triads: 0.01059579849243164\n"
     ]
    },
    {
     "name": "stderr",
     "output_type": "stream",
     "text": [
      "\r",
      " 88%|████████▊ | 22/25 [00:01<00:00, 17.14it/s]"
     ]
    },
    {
     "name": "stdout",
     "output_type": "stream",
     "text": [
      "Testing 59 potential triadic pairs\n",
      "Time spent finding triads: 0.0011985301971435547\n",
      "Found 94 connected triads\n",
      "Time spent classifying triads: 0.005662679672241211\n",
      "Testing 59 potential triadic pairs\n",
      "Time spent finding triads: 0.001224517822265625\n",
      "Found 104 connected triads\n",
      "Time spent classifying triads: 0.00944209098815918\n"
     ]
    },
    {
     "name": "stderr",
     "output_type": "stream",
     "text": [
      "\r",
      " 96%|█████████▌| 24/25 [00:01<00:00, 16.74it/s]"
     ]
    },
    {
     "name": "stdout",
     "output_type": "stream",
     "text": [
      "Testing 66 potential triadic pairs\n",
      "Time spent finding triads: 0.0014348030090332031\n",
      "Found 194 connected triads\n",
      "Time spent classifying triads: 0.01772475242614746\n"
     ]
    },
    {
     "name": "stderr",
     "output_type": "stream",
     "text": [
      "100%|██████████| 25/25 [00:01<00:00, 16.67it/s]\n"
     ]
    },
    {
     "name": "stdout",
     "output_type": "stream",
     "text": [
      "Testing 66 potential triadic pairs\n",
      "Time spent finding triads: 0.001344919204711914\n",
      "Found 150 connected triads\n",
      "Time spent classifying triads: 0.013779640197753906\n"
     ]
    },
    {
     "name": "stderr",
     "output_type": "stream",
     "text": [
      "\r",
      "  0%|          | 0/25 [00:00<?, ?it/s]"
     ]
    },
    {
     "name": "stdout",
     "output_type": "stream",
     "text": [
      "Testing 66 potential triadic pairs\n",
      "Time spent finding triads: 0.001367807388305664\n",
      "Found 174 connected triads\n",
      "Time spent classifying triads: 0.013951539993286133\n",
      "Testing 66 potential triadic pairs\n",
      "Time spent finding triads: 0.0015327930450439453\n",
      "Found 176 connected triads\n",
      "Time spent classifying triads: 0.006701946258544922\n"
     ]
    },
    {
     "name": "stderr",
     "output_type": "stream",
     "text": [
      "\r",
      " 12%|█▏        | 3/25 [00:00<00:01, 20.26it/s]"
     ]
    },
    {
     "name": "stdout",
     "output_type": "stream",
     "text": [
      "Testing 66 potential triadic pairs\n",
      "Time spent finding triads: 0.002427339553833008\n",
      "Found 148 connected triads\n",
      "Time spent classifying triads: 0.013448715209960938\n",
      "Testing 65 potential triadic pairs\n",
      "Time spent finding triads: 0.0012197494506835938\n",
      "Found 116 connected triads\n",
      "Time spent classifying triads: 0.0044362545013427734\n",
      "Testing 64 potential triadic pairs\n",
      "Time spent finding triads: 0.001302480697631836\n",
      "Found 142 connected triads\n",
      "Time spent classifying triads: 0.013000965118408203\n",
      "Testing 65 potential triadic pairs\n",
      "Time spent finding triads: 0.0013568401336669922\n",
      "Found 134 connected triads\n",
      "Time spent classifying triads: 0.012261390686035156\n"
     ]
    },
    {
     "name": "stderr",
     "output_type": "stream",
     "text": [
      "\r",
      " 24%|██▍       | 6/25 [00:00<00:00, 20.62it/s]"
     ]
    },
    {
     "name": "stdout",
     "output_type": "stream",
     "text": [
      "Testing 66 potential triadic pairs\n",
      "Time spent finding triads: 0.001314401626586914\n",
      "Found 139 connected triads\n",
      "Time spent classifying triads: 0.012758255004882812\n"
     ]
    },
    {
     "name": "stderr",
     "output_type": "stream",
     "text": [
      "\r",
      " 36%|███▌      | 9/25 [00:00<00:00, 20.77it/s]"
     ]
    },
    {
     "name": "stdout",
     "output_type": "stream",
     "text": [
      "Testing 66 potential triadic pairs\n",
      "Time spent finding triads: 0.00131988525390625\n",
      "Found 155 connected triads\n",
      "Time spent classifying triads: 0.014144659042358398\n",
      "Testing 66 potential triadic pairs\n",
      "Time spent finding triads: 0.0012946128845214844\n",
      "Found 172 connected triads\n",
      "Time spent classifying triads: 0.006555318832397461\n",
      "Testing 66 potential triadic pairs\n",
      "Time spent finding triads: 0.001333475112915039\n",
      "Found 151 connected triads\n",
      "Time spent classifying triads: 0.013871192932128906\n",
      "Testing 66 potential triadic pairs\n",
      "Time spent finding triads: 0.0013272762298583984\n",
      "Found 153 connected triads\n",
      "Time spent classifying triads: 0.014034032821655273\n"
     ]
    },
    {
     "name": "stderr",
     "output_type": "stream",
     "text": [
      "\r",
      " 48%|████▊     | 12/25 [00:00<00:00, 20.16it/s]"
     ]
    },
    {
     "name": "stdout",
     "output_type": "stream",
     "text": [
      "Testing 66 potential triadic pairs\n",
      "Time spent finding triads: 0.0013778209686279297\n",
      "Found 179 connected triads\n",
      "Time spent classifying triads: 0.016376495361328125\n",
      "Testing 66 potential triadic pairs\n",
      "Time spent finding triads: 0.0014812946319580078\n",
      "Found 201 connected triads\n",
      "Time spent classifying triads: 0.013010501861572266\n",
      "Testing 52 potential triadic pairs\n",
      "Time spent finding triads: 0.001074075698852539\n",
      "Found 70 connected triads\n",
      "Time spent classifying triads: 0.0027227401733398438\n"
     ]
    },
    {
     "name": "stderr",
     "output_type": "stream",
     "text": [
      "\r",
      " 60%|██████    | 15/25 [00:00<00:00, 21.01it/s]"
     ]
    },
    {
     "name": "stdout",
     "output_type": "stream",
     "text": [
      "Testing 66 potential triadic pairs\n",
      "Time spent finding triads: 0.001308441162109375\n",
      "Found 141 connected triads\n",
      "Time spent classifying triads: 0.008758544921875\n",
      "Testing 62 potential triadic pairs\n",
      "Time spent finding triads: 0.0012204647064208984\n",
      "Found 100 connected triads\n",
      "Time spent classifying triads: 0.007974386215209961\n",
      "Testing 66 potential triadic pairs\n",
      "Time spent finding triads: 0.001280069351196289\n",
      "Found 125 connected triads\n",
      "Time spent classifying triads: 0.011446952819824219\n"
     ]
    },
    {
     "name": "stderr",
     "output_type": "stream",
     "text": [
      "\r",
      " 72%|███████▏  | 18/25 [00:00<00:00, 21.05it/s]"
     ]
    },
    {
     "name": "stdout",
     "output_type": "stream",
     "text": [
      "Testing 66 potential triadic pairs\n",
      "Time spent finding triads: 0.0012938976287841797\n",
      "Found 127 connected triads\n",
      "Time spent classifying triads: 0.011391401290893555\n",
      "Testing 66 potential triadic pairs\n",
      "Time spent finding triads: 0.0013613700866699219\n",
      "Found 187 connected triads\n",
      "Time spent classifying triads: 0.007155179977416992\n",
      "Testing 57 potential triadic pairs\n",
      "Time spent finding triads: 0.001153707504272461\n",
      "Found 82 connected triads\n",
      "Time spent classifying triads: 0.007593870162963867\n"
     ]
    },
    {
     "name": "stderr",
     "output_type": "stream",
     "text": [
      "\r",
      " 84%|████████▍ | 21/25 [00:00<00:00, 21.82it/s]"
     ]
    },
    {
     "name": "stdout",
     "output_type": "stream",
     "text": [
      "Testing 56 potential triadic pairs\n",
      "Time spent finding triads: 0.001157522201538086\n",
      "Found 85 connected triads\n",
      "Time spent classifying triads: 0.007883071899414062\n",
      "Testing 66 potential triadic pairs\n",
      "Time spent finding triads: 0.0013113021850585938\n",
      "Found 157 connected triads\n",
      "Time spent classifying triads: 0.0100555419921875\n"
     ]
    },
    {
     "name": "stderr",
     "output_type": "stream",
     "text": [
      "\r",
      " 96%|█████████▌| 24/25 [00:01<00:00, 21.69it/s]"
     ]
    },
    {
     "name": "stdout",
     "output_type": "stream",
     "text": [
      "Testing 66 potential triadic pairs\n",
      "Time spent finding triads: 0.0013034343719482422\n",
      "Found 159 connected triads\n",
      "Time spent classifying triads: 0.01456594467163086\n",
      "Testing 66 potential triadic pairs\n",
      "Time spent finding triads: 0.0013270378112792969\n",
      "Found 182 connected triads\n",
      "Time spent classifying triads: 0.006941080093383789\n"
     ]
    },
    {
     "name": "stderr",
     "output_type": "stream",
     "text": [
      "\r",
      "100%|██████████| 25/25 [00:01<00:00, 21.05it/s]"
     ]
    },
    {
     "name": "stdout",
     "output_type": "stream",
     "text": [
      "Testing 66 potential triadic pairs\n",
      "Time spent finding triads: 0.0013432502746582031\n",
      "Found 162 connected triads\n",
      "Time spent classifying triads: 0.014861106872558594\n"
     ]
    },
    {
     "name": "stderr",
     "output_type": "stream",
     "text": [
      "\n"
     ]
    }
   ],
   "source": [
    "all_counts = []\n",
    "all_er = []\n",
    "all_deltas = []\n",
    "for m in Ms:\n",
    "    counts, P, deltas = sample_and_count_triads(m, mv_cv)\n",
    "    all_counts.append(counts)\n",
    "    all_er.append(number_expected_er(P))\n",
    "    all_deltas.append(deltas)\n",
    "\n",
    "all_counts = pandas.DataFrame(all_counts,\n",
    "                 index=pandas.RangeIndex(len(all_counts), name=\"subvolume\"),\n",
    "                 columns=pandas.RangeIndex(13, name=\"motif\"))\n",
    "all_er = pandas.DataFrame(all_er,\n",
    "                 index=pandas.RangeIndex(len(all_er), name=\"subvolume\"),\n",
    "                 columns=pandas.RangeIndex(13, name=\"motif\"))"
   ]
  },
  {
   "cell_type": "markdown",
   "id": "60603a72",
   "metadata": {},
   "source": [
    "Plot"
   ]
  },
  {
   "cell_type": "code",
   "execution_count": 6,
   "id": "cde227d9",
   "metadata": {},
   "outputs": [
    {
     "data": {
      "text/plain": [
       "Text(0, 0.5, 'Z-score')"
      ]
     },
     "execution_count": 6,
     "metadata": {},
     "output_type": "execute_result"
    },
    {
     "data": {
      "image/png": "[encoded data removed]",
      "text/plain": [
       "<Figure size 500x300 with 1 Axes>"
      ]
     },
     "metadata": {},
     "output_type": "display_data"
    }
   ],
   "source": [
    "nrm_counts = (all_counts - all_er.mean()) / all_er.std()\n",
    "\n",
    "fig = plt.figure(figsize=(5, 3))\n",
    "ax = fig.gca()\n",
    "\n",
    "ax.plot(nrm_counts.transpose(), color=\"black\", lw=0.5, marker='s', ms=3)\n",
    "ax.plot([0, 13], [0, 0], color=\"grey\", ls=\"--\")\n",
    "ax.set_frame_on(False)\n",
    "ax.set_xlabel(\"Triad #\")\n",
    "ax.set_ylabel(\"Z-score\")"
   ]
  },
  {
   "cell_type": "code",
   "execution_count": 7,
   "id": "d5654073",
   "metadata": {},
   "outputs": [
    {
     "data": {
      "text/plain": [
       "Text(0, 0.5, 'Mean distance (um)')"
      ]
     },
     "execution_count": 7,
     "metadata": {},
     "output_type": "execute_result"
    },
    {
     "data": {
      "image/png": "[encoded data removed]",
      "text/plain": [
       "<Figure size 500x300 with 2 Axes>"
      ]
     },
     "metadata": {},
     "output_type": "display_data"
    }
   ],
   "source": [
    "i = 0\n",
    "d = all_deltas[i]\n",
    "d = dict([(k, numpy.vstack(v)) for k, v in d.items()])\n",
    "dists = dict([(k, numpy.linalg.norm(v, axis=1).mean()) for k, v in d.items()])\n",
    "\n",
    "fig = plt.figure(figsize=(5, 3))\n",
    "ax = fig.add_axes([0.1, 0.1, 0.5, 0.85])\n",
    "\n",
    "def sample_random_fraction(arr_in, frac):\n",
    "    assert frac <= 1\n",
    "    b = numpy.random.choice(arr_in.shape[0], int(arr_in.shape[0] * frac), replace=False)\n",
    "    return arr_in[b, 0], arr_in[b, 1]\n",
    "\n",
    "ax.scatter(*sample_random_fraction(d[\"unconnected\"], 0.1), c=\"grey\", s=7, alpha=0.5, label=\"Unconnected\")\n",
    "ax.scatter(*sample_random_fraction(d[\"connected\"], 0.1), c=\"orange\", s=7, alpha=0.5, label=\"Unidirectional\")\n",
    "ax.scatter(*sample_random_fraction(d[\"reciprocal\"], 0.1), c=\"red\", s=7, alpha=0.5, label=\"Reciprocal\")\n",
    "ax.plot(0, 0, marker=\"^\", ms=8, color=\"black\")\n",
    "ax.set_xlabel(\"Horizontal offset (um)\")\n",
    "ax.set_ylabel(\"Vertical offset (um)\")\n",
    "plt.axis(\"equal\")\n",
    "plt.legend()\n",
    "\n",
    "ax = fig.add_axes([0.7, 0.35, 0.275, 0.35])\n",
    "ax.bar(2, dists[\"reciprocal\"], color=\"red\")\n",
    "ax.bar(1, dists[\"connected\"], color=\"orange\")\n",
    "ax.bar(0, dists[\"unconnected\"], color=\"grey\")\n",
    "ax.set_xticks([0, 1, 2]); ax.set_xticklabels([\"Unconnected\", \"Unidirectional\", \"Reciprocal\"], rotation=\"vertical\")\n",
    "ax.set_ylabel(\"Mean distance (um)\")"
   ]
  }
 ],
 "metadata": {
  "kernelspec": {
   "display_name": "bluepysnap",
   "language": "python",
   "name": "bluepysnap"
  },
  "language_info": {
   "codemirror_mode": {
    "name": "ipython",
    "version": 3
   },
   "file_extension": ".py",
   "mimetype": "text/x-python",
   "name": "python",
   "nbconvert_exporter": "python",
   "pygments_lexer": "ipython3",
   "version": "3.10.8"
  }
 },
 "nbformat": 4,
 "nbformat_minor": 5
}
