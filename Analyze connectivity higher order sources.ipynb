{
 "cells": [
  {
   "cell_type": "code",
   "execution_count": 1,
   "id": "93fa12cc",
   "metadata": {},
   "outputs": [],
   "source": [
    "import numpy\n",
    "import pandas\n",
    "\n",
    "import conntility\n",
    "\n",
    "from scipy.spatial.distance import cdist\n",
    "import tqdm\n",
    "\n",
    "from matplotlib import pyplot as plt"
   ]
  },
  {
   "cell_type": "markdown",
   "id": "a7a027b2",
   "metadata": {},
   "source": [
    "## Part 1:\n",
    "Measure the strengths of statistical interactions in connectivity based on individual morphologies that are not capture by a fourth-order simplifed model"
   ]
  },
  {
   "cell_type": "code",
   "execution_count": 2,
   "id": "5f80eb95",
   "metadata": {},
   "outputs": [
    {
     "data": {
      "text/plain": [
       "mtype\n",
       "L3_TPC:A     8702\n",
       "L2_TPC:B     7062\n",
       "L3_TPC:C     2499\n",
       "L2_TPC:A     1067\n",
       "L2_IPC        707\n",
       "L5_DBC          0\n",
       "L5_LBC          0\n",
       "L5_MC           0\n",
       "L5_NBC          0\n",
       "L5_NGC          0\n",
       "L5_SBC          0\n",
       "L5_TPC:A        0\n",
       "L5_TPC:B        0\n",
       "L5_TPC:C        0\n",
       "L5_UPC          0\n",
       "L6_BP           0\n",
       "L1_DAC          0\n",
       "L5_BTC          0\n",
       "L6_BPC          0\n",
       "L6_BTC          0\n",
       "L6_CHC          0\n",
       "L6_DBC          0\n",
       "L6_HPC          0\n",
       "L6_IPC          0\n",
       "L6_LBC          0\n",
       "L6_MC           0\n",
       "L6_NBC          0\n",
       "L6_NGC          0\n",
       "L6_SBC          0\n",
       "L6_TPC:A        0\n",
       "L6_TPC:C        0\n",
       "L5_CHC          0\n",
       "L4_TPC          0\n",
       "L5_BP           0\n",
       "L23_NGC         0\n",
       "L1_LAC          0\n",
       "L1_NGC-DA       0\n",
       "L1_NGC-SA       0\n",
       "L1_SAC          0\n",
       "L23_BP          0\n",
       "L23_BTC         0\n",
       "L23_CHC         0\n",
       "L23_DBC         0\n",
       "L23_LBC         0\n",
       "L23_MC          0\n",
       "L23_NBC         0\n",
       "L23_SBC         0\n",
       "L4_UPC          0\n",
       "L4_BP           0\n",
       "L4_BTC          0\n",
       "L4_CHC          0\n",
       "L4_DBC          0\n",
       "L4_LBC          0\n",
       "L4_MC           0\n",
       "L4_NBC          0\n",
       "L4_NGC          0\n",
       "L4_SBC          0\n",
       "L4_SSC          0\n",
       "L1_HAC          0\n",
       "L6_UPC          0\n",
       "Name: count, dtype: int64"
      ]
     },
     "execution_count": 2,
     "metadata": {},
     "output_type": "execute_result"
    }
   ],
   "source": [
    "fn_rat = \"/gpfs/bbp.cscs.ch/project/proj159/home/barros/conn_matrix/Rat_623um_squared_struc_conmat_filtered_compressed.h5\"\n",
    "fn_human = \"/gpfs/bbp.cscs.ch/project/proj159/home/barros/conn_matrix/Human_960um_squared_struc_conmat_filtered_compressed.h5\"\n",
    "\n",
    "loaded = \"rat\"  # Set to human to analyze that instead\n",
    "extent_xz = 900\n",
    "nbins_xz = 31\n",
    "extent_y = 700\n",
    "nbins_y = 41\n",
    "\n",
    "if loaded == \"rat\":\n",
    "    M_h = conntility.ConnectivityMatrix.from_h5(fn_rat)\n",
    "    col_y = \"depth\"\n",
    "    col_xz = [\"ss_flat_x\", \"ss_flat_y\"]\n",
    "elif loaded == \"human\":\n",
    "    M_h = conntility.ConnectivityMatrix.from_h5(fn_human)\n",
    "    col_y = \"y\"\n",
    "    col_xz = [\"x\", \"z\"]\n",
    "\n",
    "dbins_xz = numpy.hstack([[0, 1E-12], numpy.linspace(1E-12, extent_xz, nbins_xz)])\n",
    "binid_xz = numpy.arange(0, nbins_xz + 1)\n",
    "\n",
    "dbins_y = numpy.linspace(-extent_y, extent_y, nbins_y)\n",
    "binid_y = numpy.arange(0, nbins_y + 1)\n",
    "\n",
    "M_h.vertices[\"mtype\"].value_counts()"
   ]
  },
  {
   "cell_type": "code",
   "execution_count": null,
   "id": "141cea2a",
   "metadata": {},
   "outputs": [],
   "source": [
    "from scipy.spatial import KDTree\n",
    "\n",
    "_coords = col_xz + [col_y]\n",
    "tree = KDTree(M_h.vertices[_coords].values)\n",
    "\n",
    "_, nn_id = tree.query(M_h.vertices[_coords], k=2)\n",
    "nn_id = nn_id[:, 1]  # nn_id[:, 0] is the original node, which has distance 0. nn_id[:, 1] is neighbor\n",
    "\n",
    "# Lookup from pre / post ids to edge ids\n",
    "edge_id_lookup = M_h._edge_indices.reset_index(drop=True).reset_index().set_index([\"row\", \"col\"])[\"index\"]"
   ]
  },
  {
   "cell_type": "code",
   "execution_count": null,
   "id": "28739ec4",
   "metadata": {},
   "outputs": [],
   "source": [
    "def for_pre_chunk(chunk_pre):\n",
    "    # Which offset bin the pairs fall into\n",
    "    Dxz = cdist(M_h.vertices.iloc[chunk_pre][col_xz], M_h.vertices[col_xz]) # PRE X POST\n",
    "    Dxz = numpy.digitize(Dxz, dbins_xz) - 2  # -2 means distance = 0 will be bin id -1\n",
    "\n",
    "    Dy = M_h.vertices.iloc[chunk_pre][[col_y]].values - M_h.vertices[[col_y]].values.transpose() # PRE X POST\n",
    "    Dy = numpy.digitize(Dy, dbins_y) - 1  # NOTE: Negative values -> upwards connection\n",
    "    \n",
    "    # Numer of touches between them\n",
    "    j, i = numpy.meshgrid(numpy.arange(len(M_h)), chunk_pre)\n",
    "    assert j.shape == Dy.shape\n",
    "    con_index = pandas.MultiIndex.from_frame(pandas.DataFrame({\"row\": i.flatten(), \"col\": j.flatten()}))\n",
    "    edge_ids = edge_id_lookup.reindex(con_index, fill_value=-1).values\n",
    "    \n",
    "    touch_count = numpy.zeros(len(edge_ids))\n",
    "    v = edge_ids > 0\n",
    "    touch_count[v] = M_h.edges[\"count\"].values[edge_ids[v]]\n",
    "    \n",
    "    # Number of touches with nearest neighbor (pre)\n",
    "    _pre = nn_id[i.flatten()]; _post = j.flatten()\n",
    "    con_index = pandas.MultiIndex.from_frame(pandas.DataFrame({\"row\": _pre, \"col\": _post}))\n",
    "    edge_ids = edge_id_lookup.reindex(con_index, fill_value=-1).values\n",
    "    \n",
    "    touch_count_nnpre = numpy.zeros(len(edge_ids))\n",
    "    v = edge_ids > 0\n",
    "    touch_count_nnpre[v] = M_h.edges[\"count\"].values[edge_ids[v]]\n",
    "    collision_pre = _pre != _post\n",
    "    \n",
    "    # Number of touches with nearest neighbor (post)\n",
    "    _pre = i.flatten(); _post = nn_id[j.flatten()]\n",
    "    con_index = pandas.MultiIndex.from_frame(pandas.DataFrame({\"row\": _pre, \"col\": _post}))\n",
    "    edge_ids = edge_id_lookup.reindex(con_index, fill_value=-1).values\n",
    "    \n",
    "    touch_count_nnpost = numpy.zeros(len(edge_ids))\n",
    "    v = edge_ids > 0\n",
    "    touch_count_nnpost[v] = M_h.edges[\"count\"].values[edge_ids[v]]\n",
    "    collision_post = _pre != _post\n",
    "    \n",
    "    # Count instances of each\n",
    "    ret_pre = pandas.DataFrame({\n",
    "        \"xz\": Dxz.flatten()[collision_pre],\n",
    "        \"y\": Dy.flatten()[collision_pre],\n",
    "        \"touches_pair\": touch_count[collision_pre],\n",
    "        \"touches_nn_pre\": touch_count_nnpre[collision_pre],\n",
    "    }).value_counts()\n",
    "    \n",
    "    ret_post = pandas.DataFrame({\n",
    "        \"xz\": Dxz.flatten()[collision_post],\n",
    "        \"y\": Dy.flatten()[collision_post],\n",
    "        \"touches_pair\": touch_count[collision_post],\n",
    "        \"touches_nn_post\": touch_count_nnpost[collision_post],\n",
    "    }).value_counts()\n",
    "    return ret_pre, ret_post\n",
    "    \n"
   ]
  },
  {
   "cell_type": "code",
   "execution_count": null,
   "id": "fb78badd",
   "metadata": {},
   "outputs": [],
   "source": [
    "#In each offset-bin: How many pairs exist?\n",
    "full_master_pre = []\n",
    "full_master_post = []\n",
    "chunk_sz = 1000\n",
    "chunking = numpy.arange(0, len(M_h) + chunk_sz, chunk_sz)\n",
    "\n",
    "chunk_pre = numpy.arange(chunking[0], numpy.minimum(chunking[1], len(M_h)))\n",
    "full_master_pre, full_master_post = for_pre_chunk(chunk_pre)\n",
    "\n",
    "for a, b in tqdm.tqdm(list(zip(chunking[1:-1], chunking[2:]))):\n",
    "    chunk_pre = numpy.arange(a, numpy.minimum(b, len(M_h)))\n",
    "    new_master_pre, new_master_post = for_pre_chunk(chunk_pre)\n",
    "    full_master_pre = full_master_pre.add(new_master_pre, fill_value=0)\n",
    "    full_master_post = full_master_post.add(new_master_post, fill_value=0)\n"
   ]
  },
  {
   "cell_type": "code",
   "execution_count": null,
   "id": "16d0bc72",
   "metadata": {},
   "outputs": [],
   "source": [
    "full_master_pre = full_master_pre.reset_index()\n",
    "full_master_post = full_master_post.reset_index()\n",
    "\n",
    "bin_centers_y = numpy.hstack([\n",
    "    0.5 * (dbins_y[:-1] + dbins_y[1:]),\n",
    "    dbins_y[-1] + 0.5 * numpy.mean(numpy.diff(dbins_y))\n",
    "])\n",
    "bin_centers_xz = numpy.hstack([\n",
    "    0.5 * (dbins_xz[1:-1] + dbins_xz[2:]),\n",
    "    dbins_xz[-1] + 0.5 * numpy.mean(numpy.diff(dbins_xz[1:]))\n",
    "])"
   ]
  },
  {
   "cell_type": "code",
   "execution_count": null,
   "id": "66aa61aa",
   "metadata": {},
   "outputs": [],
   "source": [
    "_v = full_master_pre[\"xz\"] >= 0\n",
    "full_master_pre[\"xz\"][_v] = bin_centers_xz[full_master_pre[\"xz\"][_v]]\n",
    "full_master_pre[\"y\"] = bin_centers_y[full_master_pre[\"y\"]]\n",
    "\n",
    "_v = full_master_post[\"xz\"] >= 0\n",
    "full_master_post[\"xz\"][_v] = bin_centers_xz[full_master_post[\"xz\"][_v]]\n",
    "full_master_post[\"y\"] = bin_centers_y[full_master_post[\"y\"]]"
   ]
  },
  {
   "cell_type": "code",
   "execution_count": null,
   "id": "361d16da",
   "metadata": {},
   "outputs": [],
   "source": [
    "out_fn = \"/gpfs/bbp.cscs.ch/project/proj159/home/reimann/connectivity_higher_order_effect.h5\"\n",
    "\n",
    "full_master_pre.to_hdf(out_fn, key=\"{0}/pre\".format(loaded))\n",
    "full_master_post.to_hdf(out_fn, key=\"{0}/post\".format(loaded))"
   ]
  },
  {
   "cell_type": "markdown",
   "id": "59a6e852",
   "metadata": {},
   "source": [
    "## Part 2:\n",
    "Build a stochastic model of the process:\n",
    "For a fourth order model, in each offset bin the number of neurons connected to a presynaptic partner would follow a binomial distribution. We show that the actual distribution based on touches in wider than that. Then we fit a gamma distribution to it. The stochastic model then uses random variates from the gamma distributions to determine how many connected neurons to pick. "
   ]
  },
  {
   "cell_type": "code",
   "execution_count": 11,
   "id": "c49e4dde",
   "metadata": {},
   "outputs": [],
   "source": [
    "extent_xz = 900\n",
    "nbins_xz = 16\n",
    "extent_y = 700\n",
    "nbins_y = 21\n",
    "\n",
    "dbins_xz = numpy.hstack([[0, 1E-12], numpy.linspace(1E-12, extent_xz, nbins_xz)])\n",
    "binid_xz = numpy.arange(0, nbins_xz + 1)\n",
    "\n",
    "dbins_y = numpy.linspace(-extent_y, extent_y, nbins_y)\n",
    "binid_y = numpy.arange(0, nbins_y + 1)\n",
    "\n",
    "edge_id_lookup = M_h._edge_indices.reset_index(drop=True).reset_index().set_index([\"row\", \"col\"])[\"index\"]\n",
    "\n",
    "def for_pre_chunk(chunk_pre):\n",
    "    # Which offset bin the pairs fall into\n",
    "    Dxz = cdist(M_h.vertices.iloc[chunk_pre][col_xz], M_h.vertices[col_xz]) # PRE X POST\n",
    "    Dxz = numpy.digitize(Dxz, dbins_xz) - 2  # -2 means distance = 0 will be bin id -1\n",
    "\n",
    "    Dy = M_h.vertices.iloc[chunk_pre][[col_y]].values - M_h.vertices[[col_y]].values.transpose() # PRE X POST\n",
    "    Dy = numpy.digitize(Dy, dbins_y) - 1  # NOTE: Negative values -> upwards connection\n",
    "    \n",
    "    # Numer of touches between them\n",
    "    j, i = numpy.meshgrid(numpy.arange(len(M_h)), chunk_pre)\n",
    "    assert j.shape == Dy.shape\n",
    "    con_index = pandas.MultiIndex.from_frame(pandas.DataFrame({\"row\": i.flatten(), \"col\": j.flatten()}))\n",
    "    edge_ids = edge_id_lookup.reindex(con_index, fill_value=-1).values\n",
    "    \n",
    "    touch_count = numpy.zeros(len(edge_ids))\n",
    "    v = edge_ids > 0\n",
    "    touch_count[v] = M_h.edges[\"count\"].values[edge_ids[v]]\n",
    "    touch_count.reshape(Dy.shape)\n",
    "        \n",
    "    # Count instances of each\n",
    "    ret = pandas.DataFrame({\n",
    "        \"xz\": Dxz.flatten(),\n",
    "        \"y\": Dy.flatten(),\n",
    "        \"touches_pair\": touch_count,\n",
    "        \"pre id\": i.flatten(),\n",
    "    }).value_counts()\n",
    "    \n",
    "    return ret\n",
    "    \n"
   ]
  },
  {
   "cell_type": "code",
   "execution_count": 12,
   "id": "43e1fd1b",
   "metadata": {},
   "outputs": [
    {
     "name": "stderr",
     "output_type": "stream",
     "text": [
      "100%|██████████| 21/21 [02:43<00:00,  7.76s/it]\n"
     ]
    }
   ],
   "source": [
    "tst = []\n",
    "chunk_sz = 1000\n",
    "chunking = numpy.arange(0, len(M_h) + chunk_sz, chunk_sz)\n",
    "\n",
    "for a, b in tqdm.tqdm(list(zip(chunking[:-1], chunking[1:]))):\n",
    "    chunk_pre = numpy.arange(a, numpy.minimum(b, len(M_h)))\n",
    "    tst.append(for_pre_chunk(chunk_pre))\n",
    "    \n",
    "tst = pandas.concat(tst, axis=0)"
   ]
  },
  {
   "cell_type": "code",
   "execution_count": 13,
   "id": "b053f391",
   "metadata": {},
   "outputs": [],
   "source": [
    "# We introduce a threshold for minimum number of touches to make the results sparser. That enables simplex counting later\n",
    "thresh = 7  # HOW MANY TOUCHES NEED TO BE REACHED FOR A CONNECTION\n",
    "\n",
    "\n",
    "def m_p_mdl(df_in):\n",
    "    M = df_in.pivot(index=\"touches_pair\", columns=\"pre id\", values=\"count\")\n",
    "    V = pandas.concat([M.sum(axis=0), M.loc[thresh:].sum(axis=0) / M.sum(axis=0)], axis=1, keys=[\"N\", \"P\"])\n",
    "    return V\n",
    "\n",
    "foo = tst.reset_index().groupby([\"xz\", \"y\"]).apply(m_p_mdl)"
   ]
  },
  {
   "cell_type": "code",
   "execution_count": 14,
   "id": "625adbae",
   "metadata": {},
   "outputs": [
    {
     "data": {
      "image/png": "[encoded data removed]",
      "text/plain": [
       "<Figure size 640x480 with 1 Axes>"
      ]
     },
     "metadata": {},
     "output_type": "display_data"
    }
   ],
   "source": [
    "from scipy import stats \n",
    "\n",
    "p_bins = numpy.linspace(0, 0.25, 51)\n",
    "meh = foo.loc[(3, 10)] # Results from an exemplary offset bin\n",
    "\n",
    "H = numpy.histogram(meh[\"P\"], bins=p_bins)[0] # Distribution in the data\n",
    "plt.plot(p_bins[:-1], H)\n",
    "\n",
    "p = (meh[\"N\"] * meh[\"P\"]).sum() / meh[\"N\"].sum()\n",
    "Pctrl = stats.binom(meh[\"N\"].astype(int), p).rvs() / meh[\"N\"]  # Expected in a fourth-order model: Binomial\n",
    "H = numpy.histogram(Pctrl, bins=p_bins)[0]\n",
    "plt.plot(p_bins[:-1], H)\n",
    "plt.gca().set_yscale(\"log\")"
   ]
  },
  {
   "cell_type": "code",
   "execution_count": 15,
   "id": "b513ab0e",
   "metadata": {},
   "outputs": [
    {
     "data": {
      "text/plain": [
       "[<matplotlib.lines.Line2D at 0x2aaba5b5cf10>]"
      ]
     },
     "execution_count": 15,
     "metadata": {},
     "output_type": "execute_result"
    },
    {
     "data": {
      "image/png": "[encoded data removed]",
      "text/plain": [
       "<Figure size 640x480 with 1 Axes>"
      ]
     },
     "metadata": {},
     "output_type": "display_data"
    }
   ],
   "source": [
    "from scipy.stats import gamma\n",
    "\n",
    "p_bins = numpy.linspace(0, 1, 51)\n",
    "\n",
    "meh = foo.loc[(1, 10)]\n",
    "fitres = stats.fit(stats.gamma, meh[\"P\"], bounds={\"a\":[1E-6, 25], \"scale\": [0.01, 1.0]})\n",
    "a = fitres.params[0]\n",
    "scale = fitres.params[2]\n",
    "\n",
    "H = numpy.histogram(meh[\"P\"], bins=p_bins, density=True)[0]\n",
    "\n",
    "#a = 1.81\n",
    "plt.plot(p_bins, gamma(a, scale=scale).pdf(p_bins),\n",
    "       'r-', lw=5, alpha=0.6, label='gamma pdf')\n",
    "plt.plot(p_bins[:-1], H)"
   ]
  },
  {
   "cell_type": "code",
   "execution_count": 16,
   "id": "54cf7214",
   "metadata": {},
   "outputs": [],
   "source": [
    "def perform_fit(df_in):\n",
    "    fitres = stats.fit(stats.gamma, df_in[\"P\"], bounds={\"a\":[1E-6, 25], \"scale\": [0.01, 1.0]})\n",
    "    a = fitres.params[0]\n",
    "    scale = fitres.params[2]\n",
    "    return pandas.Series({\"a\": a, \"scale\": scale})\n",
    "\n",
    "res = foo.groupby([\"xz\", \"y\"]).apply(perform_fit)"
   ]
  },
  {
   "cell_type": "code",
   "execution_count": null,
   "id": "27fba416",
   "metadata": {},
   "outputs": [],
   "source": [
    "out_fn = \"/gpfs/bbp.cscs.ch/project/proj159/home/reimann/connectivity_higher_order_gamma_model.h5\"\n",
    "\n",
    "res.to_hdf(out_fn, key=\"{0}\".format(loaded))"
   ]
  },
  {
   "cell_type": "markdown",
   "id": "114cceb9",
   "metadata": {},
   "source": [
    "## Run the model"
   ]
  },
  {
   "cell_type": "code",
   "execution_count": 17,
   "id": "d3ccd14d",
   "metadata": {},
   "outputs": [],
   "source": [
    "def mdl_pre_chunk(chunk_pre):\n",
    "    Dxz = cdist(M_h.vertices.iloc[chunk_pre][col_xz], M_h.vertices[col_xz]) # PRE X POST\n",
    "    Dxz = numpy.digitize(Dxz, dbins_xz) - 2  # -2 means distance = 0 will be bin id -1\n",
    "\n",
    "    Dy = M_h.vertices.iloc[chunk_pre][[col_y]].values - M_h.vertices[[col_y]].values.transpose() # PRE X POST\n",
    "    Dy = numpy.digitize(Dy, dbins_y) - 1  # NOTE: Negative values -> upwards connection\n",
    "\n",
    "    # USE MESHGRID, NERD!\n",
    "    pre_id = numpy.repeat(chunk_pre.reshape((-1, 1)), Dy.shape[1], axis=1)\n",
    "    post_id = numpy.repeat(numpy.arange(Dy.shape[1]).reshape((1, -1)), len(chunk_pre), axis=0)\n",
    "    \n",
    "    lo = pandas.DataFrame({\n",
    "        \"xz\": Dxz.flatten(),\n",
    "        \"y\": Dy.flatten(),\n",
    "        \"pre\": pre_id.flatten()\n",
    "    })\n",
    "    lo_idx = pandas.MultiIndex.from_frame(lo)\n",
    "    \n",
    "    evaluated = res.apply(lambda _x: pandas.Series(gamma(_x[\"a\"], scale=_x[\"scale\"]).rvs(size=len(chunk_pre)),\n",
    "                                               index=pandas.Index(chunk_pre, name=\"pre\")), axis=1).stack()\n",
    "    P = evaluated[lo_idx].values.reshape(Dy.shape)\n",
    "    M = numpy.random.rand(*P.shape) <= P\n",
    "\n",
    "    return pandas.DataFrame({\"row\": pre_id[M], \"col\": post_id[M]})"
   ]
  },
  {
   "cell_type": "code",
   "execution_count": 18,
   "id": "67e18540",
   "metadata": {},
   "outputs": [
    {
     "name": "stderr",
     "output_type": "stream",
     "text": [
      "100%|██████████| 9/9 [05:53<00:00, 39.27s/it]\n"
     ]
    }
   ],
   "source": [
    "#In each offset-bin: How many pairs exist?\n",
    "mdl_edge_table = []\n",
    "chunk_sz = 2500\n",
    "chunking = numpy.arange(0, len(M_h) + chunk_sz, chunk_sz)\n",
    "\n",
    "for a, b in tqdm.tqdm(list(zip(chunking[:-1], chunking[1:]))):\n",
    "    chunk_pre = numpy.arange(a, numpy.minimum(b, len(M_h)))\n",
    "    mdl_edge_table.append(mdl_pre_chunk(chunk_pre))\n",
    "mdl_edge_table = pandas.concat(mdl_edge_table, axis=0)"
   ]
  },
  {
   "cell_type": "code",
   "execution_count": 19,
   "id": "cdecbc95",
   "metadata": {},
   "outputs": [],
   "source": [
    "from scipy import sparse\n",
    "\n",
    "edge_props = pandas.DataFrame({\"connected\": numpy.ones(len(mdl_edge_table), dtype=bool)})\n",
    "\n",
    "myM = conntility.ConnectivityMatrix(mdl_edge_table, vertex_properties=M_h._vertex_properties,\n",
    "                                    edge_properties=edge_props,\n",
    "                                    shape=(len(M_h), len(M_h)))"
   ]
  },
  {
   "cell_type": "code",
   "execution_count": 3,
   "id": "5742fea7",
   "metadata": {},
   "outputs": [],
   "source": [
    "# myM.to_h5(\"/gpfs/bbp.cscs.ch/project/proj159/home/reimann/rat_gamma_corr_model.h5\")\n",
    "myM = conntility.ConnectivityMatrix.from_h5(\"/gpfs/bbp.cscs.ch/project/proj159/home/reimann/rat_gamma_corr_model.h5\")"
   ]
  },
  {
   "cell_type": "code",
   "execution_count": 20,
   "id": "539a9b21",
   "metadata": {},
   "outputs": [],
   "source": [
    "width = 200\n",
    "center = myM.vertices[[\"ss_flat_x\", \"ss_flat_y\"]].mean()\n",
    "\n",
    "spM = myM\n",
    "dataM = M_h.filter(\"count\").ge(5)\n",
    "for _coord in [\"ss_flat_x\", \"ss_flat_y\"]:\n",
    "    spM = spM.index(_coord).lt(center[_coord] + width).index(_coord).gt(center[_coord] - width)\n",
    "    dataM = dataM.index(_coord).lt(center[_coord] + width).index(_coord).gt(center[_coord] - width)"
   ]
  },
  {
   "cell_type": "code",
   "execution_count": 26,
   "id": "2a77786c",
   "metadata": {},
   "outputs": [
    {
     "name": "stderr",
     "output_type": "stream",
     "text": [
      " 2024-07-08 19:53:41,159: No seed among keyword arguments\n",
      " 2024-07-08 19:53:41,331: Shuffle 934951 edges following Erdos-Renyi\n"
     ]
    },
    {
     "data": {
      "text/plain": [
       "<matplotlib.legend.Legend at 0x2aaaedb001f0>"
      ]
     },
     "execution_count": 26,
     "metadata": {},
     "output_type": "execute_result"
    },
    {
     "data": {
      "image/png": "[encoded data removed]",
      "text/plain": [
       "<Figure size 640x480 with 1 Axes>"
      ]
     },
     "metadata": {},
     "output_type": "display_data"
    }
   ],
   "source": [
    "import connalysis\n",
    "from scipy import sparse\n",
    "\n",
    "_m = spM.array\n",
    "_n = dataM.array > 0\n",
    "numpy.fill_diagonal(_m, False) # Currently the stochastic model builds autapses. Can be easily fixed later.\n",
    "p = 0.5\n",
    "__m = (_m * (numpy.random.rand(*_m.shape) < p)).astype(int)\n",
    "__n = (_n * (numpy.random.rand(*_n.shape) < (__m.mean() / _n.mean()))).astype(int)\n",
    "\n",
    "plt.plot(connalysis.network.topology.simplex_counts(__m), label=\"Data\")\n",
    "plt.plot(connalysis.network.topology.simplex_counts(__n), label=\"Original\")\n",
    "_c = connalysis.randomization.ER_shuffle(sparse.coo_matrix(__n))\n",
    "plt.plot(connalysis.network.topology.simplex_counts(_c), label=\"ER\")\n",
    "_c = connalysis.randomization.configuration_model(sparse.coo_matrix(__n))\n",
    "plt.plot(connalysis.network.topology.simplex_counts(_c), label=\"Config. model\")\n",
    "\n",
    "plt.gca().set_xlabel(\"Dimension\")\n",
    "plt.gca().set_ylabel(\"Simplex count\")\n",
    "plt.legend()"
   ]
  }
 ],
 "metadata": {
  "kernelspec": {
   "display_name": "bluepysnap",
   "language": "python",
   "name": "bluepysnap"
  },
  "language_info": {
   "codemirror_mode": {
    "name": "ipython",
    "version": 3
   },
   "file_extension": ".py",
   "mimetype": "text/x-python",
   "name": "python",
   "nbconvert_exporter": "python",
   "pygments_lexer": "ipython3",
   "version": "3.10.8"
  }
 },
 "nbformat": 4,
 "nbformat_minor": 5
}
