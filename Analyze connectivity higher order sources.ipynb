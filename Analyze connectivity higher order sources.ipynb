{
 "cells": [
  {
   "cell_type": "code",
   "execution_count": 1,
   "id": "93fa12cc",
   "metadata": {},
   "outputs": [],
   "source": [
    "import numpy\n",
    "import pandas\n",
    "\n",
    "import conntility\n",
    "\n",
    "from scipy.spatial.distance import cdist\n",
    "import tqdm\n",
    "\n",
    "from matplotlib import pyplot as plt"
   ]
  },
  {
   "cell_type": "markdown",
   "id": "f5b5cc9b",
   "metadata": {},
   "source": [
    "## Part 1:\n",
    "Measure the strengths of statistical interactions in connectivity based on individual morphologies that are not capture by a fourth-order simplifed model"
   ]
  },
  {
   "cell_type": "code",
   "execution_count": 2,
   "id": "5f80eb95",
   "metadata": {},
   "outputs": [
    {
     "data": {
      "text/plain": [
       "mtype\n",
       "L3_TPC:A     8702\n",
       "L2_TPC:B     7062\n",
       "L3_TPC:C     2499\n",
       "L2_TPC:A     1067\n",
       "L2_IPC        707\n",
       "L5_DBC          0\n",
       "L5_LBC          0\n",
       "L5_MC           0\n",
       "L5_NBC          0\n",
       "L5_NGC          0\n",
       "L5_SBC          0\n",
       "L5_TPC:A        0\n",
       "L5_TPC:B        0\n",
       "L5_TPC:C        0\n",
       "L5_UPC          0\n",
       "L6_BP           0\n",
       "L1_DAC          0\n",
       "L5_BTC          0\n",
       "L6_BPC          0\n",
       "L6_BTC          0\n",
       "L6_CHC          0\n",
       "L6_DBC          0\n",
       "L6_HPC          0\n",
       "L6_IPC          0\n",
       "L6_LBC          0\n",
       "L6_MC           0\n",
       "L6_NBC          0\n",
       "L6_NGC          0\n",
       "L6_SBC          0\n",
       "L6_TPC:A        0\n",
       "L6_TPC:C        0\n",
       "L5_CHC          0\n",
       "L4_TPC          0\n",
       "L5_BP           0\n",
       "L23_NGC         0\n",
       "L1_LAC          0\n",
       "L1_NGC-DA       0\n",
       "L1_NGC-SA       0\n",
       "L1_SAC          0\n",
       "L23_BP          0\n",
       "L23_BTC         0\n",
       "L23_CHC         0\n",
       "L23_DBC         0\n",
       "L23_LBC         0\n",
       "L23_MC          0\n",
       "L23_NBC         0\n",
       "L23_SBC         0\n",
       "L4_UPC          0\n",
       "L4_BP           0\n",
       "L4_BTC          0\n",
       "L4_CHC          0\n",
       "L4_DBC          0\n",
       "L4_LBC          0\n",
       "L4_MC           0\n",
       "L4_NBC          0\n",
       "L4_NGC          0\n",
       "L4_SBC          0\n",
       "L4_SSC          0\n",
       "L1_HAC          0\n",
       "L6_UPC          0\n",
       "Name: count, dtype: int64"
      ]
     },
     "execution_count": 2,
     "metadata": {},
     "output_type": "execute_result"
    }
   ],
   "source": [
    "fn_rat = \"/gpfs/bbp.cscs.ch/project/proj159/home/barros/conn_matrix/Rat_623um_squared_struc_conmat_filtered_compressed.h5\"\n",
    "fn_human = \"/gpfs/bbp.cscs.ch/project/proj159/home/barros/conn_matrix/Human_960um_squared_struc_conmat_filtered_compressed.h5\"\n",
    "\n",
    "# https://doi.org/10.5281/zenodo.13849415\n",
    "fn_microns = \"/gpfs/bbp.cscs.ch/project/proj159/home/reimann/microns/microns_mm3_connectome_v1181.h5\"\n",
    "\n",
    "loaded = \"rat\"  # Set to human to analyze that instead\n",
    "\n",
    "if loaded == \"rat\":\n",
    "    M_h = conntility.ConnectivityMatrix.from_h5(fn_rat)\n",
    "    col_y = \"depth\"\n",
    "    col_xz = [\"ss_flat_x\", \"ss_flat_y\"]\n",
    "    bin_sz = 50.0\n",
    "elif loaded == \"human\":\n",
    "    M_h = conntility.ConnectivityMatrix.from_h5(fn_human)\n",
    "    col_y = \"y\"\n",
    "    col_xz = [\"x\", \"z\"]\n",
    "    bin_sz = 50.0 * 1.76\n",
    "elif loaded == \"microns\":\n",
    "    M_h = conntility.ConnectivityMatrix.from_h5(fn_microns, \"condensed\")\n",
    "    M_h = M_h.index(\"cell_type\").isin([\"L2a\", \"L2b\", \"L2c\", \"L3a\", \"L3b\"])\n",
    "    for col in [\"x\", \"y\", \"z\"]:\n",
    "        M_h.add_vertex_property(col, M_h.vertices[col + \"_nm\"].values / 1000)\n",
    "    M_h.add_vertex_property(\"mtype\", M_h.vertices[\"cell_type\"].values)\n",
    "    col_y = \"y\"\n",
    "    col_xz = [\"x\", \"z\"]\n",
    "    bin_sz = 50.0\n",
    "    \n",
    "def make_spatial_bins(M_h, cols, bin_sz):\n",
    "    _data = M_h.vertices[cols]\n",
    "    delta = _data.max() - _data.min()\n",
    "\n",
    "    sz = numpy.sqrt((delta.values ** 2).sum())\n",
    "    if len(delta) == 1: # case 1d: negative and positive bins\n",
    "        bins = numpy.arange(0, (bin_sz * numpy.ceil(sz / bin_sz)) + bin_sz, bin_sz)\n",
    "        bins = numpy.hstack([-bins[:0:-1], bins])\n",
    "    else: # case 2d: Only positive bins, but exclude 0 dist\n",
    "        bins = numpy.arange(0, (bin_sz * numpy.ceil(sz / bin_sz)) + bin_sz, bin_sz)\n",
    "        bins = numpy.hstack([[0, 1E-12], bins[1:]])\n",
    "    return bins\n",
    "\n",
    "dbins_xz = make_spatial_bins(M_h, col_xz, bin_sz)\n",
    "binid_xz = numpy.arange(0, len(dbins_xz) + 1)\n",
    "\n",
    "dbins_y = make_spatial_bins(M_h, [col_y], bin_sz)\n",
    "binid_y = numpy.arange(0, len(dbins_y) + 1)\n",
    "\n",
    "bin_centers_y = 0.5 * (dbins_y[:-1] + dbins_y[1:])\n",
    "bin_centers_xz = 0.5 * (dbins_xz[1:-1] + dbins_xz[2:])\n",
    "\n",
    "M_h.vertices[\"mtype\"].value_counts()"
   ]
  },
  {
   "cell_type": "code",
   "execution_count": 3,
   "id": "141cea2a",
   "metadata": {},
   "outputs": [],
   "source": [
    "from scipy.spatial import KDTree\n",
    "\n",
    "_coords = col_xz + [col_y]\n",
    "tree = KDTree(M_h.vertices[_coords].values)\n",
    "\n",
    "_, nn_id = tree.query(M_h.vertices[_coords], k=2)\n",
    "nn_id = nn_id[:, 1]  # nn_id[:, 0] is the original node, which has distance 0. nn_id[:, 1] is neighbor\n",
    "\n",
    "# Lookup from pre / post ids to edge ids\n",
    "edge_id_lookup = M_h._edge_indices.reset_index(drop=True).reset_index().set_index([\"row\", \"col\"])[\"index\"]"
   ]
  },
  {
   "cell_type": "markdown",
   "id": "1cc6eafc",
   "metadata": {},
   "source": [
    "For this analysis we build a table as follows:\n",
    "\n",
    "For each possible xz/y bin and value of n and m:\n",
    "    We count the number of instances where a neuron N_a at offset xz, y from another neuron N_b has n touches/synapses with N_b, and the nearest neighbor of N_a has m touches/synapses with N_b."
   ]
  },
  {
   "cell_type": "code",
   "execution_count": 4,
   "id": "28739ec4",
   "metadata": {},
   "outputs": [],
   "source": [
    "def for_pre_chunk(chunk_pre):\n",
    "    # Which offset bin the pairs fall into\n",
    "    Dxz = cdist(M_h.vertices.iloc[chunk_pre][col_xz], M_h.vertices[col_xz]) # PRE X POST\n",
    "    Dxz = numpy.digitize(Dxz, dbins_xz) - 2  # -2 means distance = 0 will be bin id -1. That is the one to exclude.\n",
    "\n",
    "    Dy = M_h.vertices.iloc[chunk_pre][[col_y]].values - M_h.vertices[[col_y]].values.transpose() # PRE X POST\n",
    "    Dy = numpy.digitize(Dy, dbins_y) - 1  # NOTE: Negative values -> upwards connection\n",
    "    \n",
    "    # Numer of touches between them\n",
    "    j, i = numpy.meshgrid(numpy.arange(len(M_h)), chunk_pre) # Chunk is i.: Presyn.\n",
    "    assert j.shape == Dy.shape\n",
    "    con_index = pandas.MultiIndex.from_frame(pandas.DataFrame({\"row\": i.flatten(), \"col\": j.flatten()}))\n",
    "    edge_ids = edge_id_lookup.reindex(con_index, fill_value=-1).values\n",
    "    \n",
    "    touch_count = numpy.zeros(len(edge_ids))\n",
    "    v = edge_ids > 0\n",
    "    touch_count[v] = M_h.edges[\"count\"].values[edge_ids[v]]\n",
    "    \n",
    "    # Number of touches with nearest neighbor of the presynaptic neuron\n",
    "    _pre = nn_id[i.flatten()]; _post = j.flatten()\n",
    "    con_index = pandas.MultiIndex.from_frame(pandas.DataFrame({\"row\": _pre, \"col\": _post}))\n",
    "    edge_ids = edge_id_lookup.reindex(con_index, fill_value=-1).values\n",
    "    \n",
    "    touch_count_nnpre = numpy.zeros(len(edge_ids))\n",
    "    v = edge_ids > 0\n",
    "    touch_count_nnpre[v] = M_h.edges[\"count\"].values[edge_ids[v]]\n",
    "    collision_pre = _pre != _post\n",
    "    \n",
    "    # Number of touches with nearest neighbor of the postsynaptic neuron\n",
    "    _pre = i.flatten(); _post = nn_id[j.flatten()]\n",
    "    con_index = pandas.MultiIndex.from_frame(pandas.DataFrame({\"row\": _pre, \"col\": _post}))\n",
    "    edge_ids = edge_id_lookup.reindex(con_index, fill_value=-1).values\n",
    "    \n",
    "    touch_count_nnpost = numpy.zeros(len(edge_ids))\n",
    "    v = edge_ids > 0\n",
    "    touch_count_nnpost[v] = M_h.edges[\"count\"].values[edge_ids[v]]\n",
    "    collision_post = _pre != _post\n",
    "    \n",
    "    # Count instances of each\n",
    "    ret_pre = pandas.DataFrame({\n",
    "        \"xz\": Dxz.flatten()[collision_pre],\n",
    "        \"y\": Dy.flatten()[collision_pre],\n",
    "        \"touches_pair\": touch_count[collision_pre],\n",
    "        \"touches_nn_pre\": touch_count_nnpre[collision_pre],\n",
    "    }).value_counts()\n",
    "    \n",
    "    ret_post = pandas.DataFrame({\n",
    "        \"xz\": Dxz.flatten()[collision_post],\n",
    "        \"y\": Dy.flatten()[collision_post],\n",
    "        \"touches_pair\": touch_count[collision_post],\n",
    "        \"touches_nn_post\": touch_count_nnpost[collision_post],\n",
    "    }).value_counts()\n",
    "    return ret_pre, ret_post\n",
    "    \n"
   ]
  },
  {
   "cell_type": "code",
   "execution_count": 5,
   "id": "fb78badd",
   "metadata": {},
   "outputs": [
    {
     "name": "stderr",
     "output_type": "stream",
     "text": [
      "100%|██████████| 20/20 [06:07<00:00, 18.40s/it]\n"
     ]
    }
   ],
   "source": [
    "#In each offset-bin: How many pairs exist?\n",
    "full_master_pre = []\n",
    "full_master_post = []\n",
    "chunk_sz = 1000\n",
    "chunking = numpy.arange(0, len(M_h) + chunk_sz, chunk_sz)\n",
    "\n",
    "chunk_pre = numpy.arange(chunking[0], numpy.minimum(chunking[1], len(M_h)))\n",
    "full_master_pre, full_master_post = for_pre_chunk(chunk_pre)\n",
    "\n",
    "for a, b in tqdm.tqdm(list(zip(chunking[1:-1], chunking[2:]))):\n",
    "    chunk_pre = numpy.arange(a, numpy.minimum(b, len(M_h)))\n",
    "    new_master_pre, new_master_post = for_pre_chunk(chunk_pre)\n",
    "    full_master_pre = full_master_pre.add(new_master_pre, fill_value=0)\n",
    "    full_master_post = full_master_post.add(new_master_post, fill_value=0)\n"
   ]
  },
  {
   "cell_type": "code",
   "execution_count": 6,
   "id": "16d0bc72",
   "metadata": {},
   "outputs": [],
   "source": [
    "full_master_pre = full_master_pre.drop(-1, axis=0).reset_index()\n",
    "full_master_post = full_master_post.drop(-1, axis=0).reset_index()\n",
    "\n",
    "\n",
    "assert (full_master_pre[[\"xz\", \"y\"]] >= 0).all().all()\n",
    "assert (full_master_post[[\"xz\", \"y\"]] >= 0).all().all()\n",
    "\n",
    "assert (full_master_pre[\"xz\"] < len(binid_xz)).all()\n",
    "assert (full_master_pre[\"y\"] < len(binid_y)).all()\n",
    "assert (full_master_post[\"xz\"] < len(binid_xz)).all()\n",
    "assert (full_master_post[\"y\"] < len(binid_y)).all()"
   ]
  },
  {
   "cell_type": "code",
   "execution_count": 7,
   "id": "66aa61aa",
   "metadata": {},
   "outputs": [],
   "source": [
    "full_master_pre[\"xz\"] = bin_centers_xz[full_master_pre[\"xz\"]]\n",
    "full_master_pre[\"y\"] = bin_centers_y[full_master_pre[\"y\"]]\n",
    "\n",
    "full_master_post[\"xz\"] = bin_centers_xz[full_master_post[\"xz\"]]\n",
    "full_master_post[\"y\"] = bin_centers_y[full_master_post[\"y\"]]"
   ]
  },
  {
   "cell_type": "code",
   "execution_count": 8,
   "id": "361d16da",
   "metadata": {},
   "outputs": [],
   "source": [
    "out_fn = \"/gpfs/bbp.cscs.ch/project/proj159/home/reimann/connectivity_higher_order_effect_24-11-11.h5\"\n",
    "\n",
    "full_master_pre.to_hdf(out_fn, key=\"{0}/pre\".format(loaded))\n",
    "full_master_post.to_hdf(out_fn, key=\"{0}/post\".format(loaded))"
   ]
  },
  {
   "cell_type": "markdown",
   "id": "59a6e852",
   "metadata": {},
   "source": [
    "## Part 2:\n",
    "The above characterizes statistical interactions within one spatial bin. Here, we consider interactions _between_ bins. "
   ]
  },
  {
   "cell_type": "markdown",
   "id": "72e08e0f",
   "metadata": {},
   "source": [
    "For this analysis we build a table as follows:\n",
    "\n",
    "For each possible xz/y bin, value of n neuron N_b:\n",
    "    We count the number of instances where a neuron N_a at offset xz, y from N_b has n touches/synapses with N_b. The difference  with respect to the previous analysis is that we count separately for each neuron N_b"
   ]
  },
  {
   "cell_type": "code",
   "execution_count": 9,
   "id": "c49e4dde",
   "metadata": {},
   "outputs": [],
   "source": [
    "edge_id_lookup = M_h._edge_indices.reset_index(drop=True).reset_index().set_index([\"row\", \"col\"])[\"index\"]\n",
    "\n",
    "def for_chunk(chunk, interaction_for=\"pre\"):\n",
    "    # Which offset bin the pairs fall into\n",
    "    if interaction_for == \"pre\": # Pre means: from chunk to all neurons\n",
    "        Dxz = cdist(M_h.vertices.iloc[chunk][col_xz], M_h.vertices[col_xz]) # PRE X POST\n",
    "        Dxz = numpy.digitize(Dxz, dbins_xz) - 2  # -2 means distance = 0 will be bin id -1\n",
    "\n",
    "        Dy = M_h.vertices.iloc[chunk][[col_y]].values - M_h.vertices[[col_y]].values.transpose() # PRE X POST\n",
    "        Dy = numpy.digitize(Dy, dbins_y) - 1  # NOTE: Negative values -> upwards connection\n",
    "        \n",
    "        j, i = numpy.meshgrid(numpy.arange(len(M_h)), chunk) # chunk is i: presyn. => consider outgoing\n",
    "        node_id = i.flatten()\n",
    "    elif interaction_for == \"post\":\n",
    "        Dxz = cdist(M_h.vertices[col_xz], M_h.vertices.iloc[chunk][col_xz]) # PRE X POST\n",
    "        Dxz = numpy.digitize(Dxz, dbins_xz) - 2  # -2 means distance = 0 will be bin id -1\n",
    "\n",
    "        Dy = M_h.vertices[[col_y]].values - M_h.vertices.iloc[chunk][[col_y]].values.transpose() # PRE X POST\n",
    "        Dy = numpy.digitize(Dy, dbins_y) - 1  # NOTE: Negative values -> upwards connection\n",
    "        \n",
    "        j, i = numpy.meshgrid(chunk, numpy.arange(len(M_h))) # chunk is j: postsyn. => consider incoming\n",
    "        node_id = j.flatten()\n",
    "    \n",
    "    # Numer of touches between them\n",
    "    assert j.shape == Dy.shape\n",
    "    con_index = pandas.MultiIndex.from_frame(pandas.DataFrame({\"row\": i.flatten(), \"col\": j.flatten()}))\n",
    "    edge_ids = edge_id_lookup.reindex(con_index, fill_value=-1).values\n",
    "    \n",
    "    touch_count = numpy.zeros(len(edge_ids))\n",
    "    v = edge_ids > 0\n",
    "    touch_count[v] = M_h.edges[\"count\"].values[edge_ids[v]]\n",
    "    touch_count.reshape(Dy.shape)\n",
    "        \n",
    "    # Count instances of each\n",
    "    ret = pandas.DataFrame({\n",
    "        \"xz\": Dxz.flatten(),\n",
    "        \"y\": Dy.flatten(),\n",
    "        \"touches_pair\": touch_count,\n",
    "        \"node_id\": node_id,\n",
    "    }).value_counts()\n",
    "    \n",
    "    return ret\n",
    "    \n"
   ]
  },
  {
   "cell_type": "code",
   "execution_count": 10,
   "id": "43e1fd1b",
   "metadata": {},
   "outputs": [
    {
     "name": "stderr",
     "output_type": "stream",
     "text": [
      "100%|██████████| 11/11 [05:45<00:00, 31.44s/it]\n"
     ]
    }
   ],
   "source": [
    "df_for_pre = []\n",
    "df_for_post = []\n",
    "\n",
    "chunk_sz = 2000\n",
    "chunking = numpy.arange(0, len(M_h) + chunk_sz, chunk_sz)\n",
    "\n",
    "for a, b in tqdm.tqdm(list(zip(chunking[:-1], chunking[1:]))):\n",
    "    chunk = numpy.arange(a, numpy.minimum(b, len(M_h)))\n",
    "    df_for_pre.append(for_chunk(chunk, interaction_for=\"pre\"))\n",
    "    df_for_post.append(for_chunk(chunk, interaction_for=\"post\"))\n",
    "    \n",
    "\n",
    "df_for_pre = pandas.concat(df_for_pre, axis=0).drop(-1, axis=0, level=\"xz\")\n",
    "df_for_post = pandas.concat(df_for_post, axis=0).drop(-1, axis=0, level=\"xz\")"
   ]
  },
  {
   "cell_type": "markdown",
   "id": "330dfa7d",
   "metadata": {},
   "source": [
    "Next, we convert the information in the table as follows: For each offset bin and neuron calculate the number of connected neurons in that bin and the total number of neurons (connected or not)."
   ]
  },
  {
   "cell_type": "code",
   "execution_count": 11,
   "id": "b053f391",
   "metadata": {},
   "outputs": [],
   "source": [
    "# We introduce a threshold for minimum number of touches to make the results sparser.\n",
    "# For Microns connectivity or functional connectivity set to 1.\n",
    "thresh = 1  # HOW MANY TOUCHES NEED TO BE REACHED FOR A CONNECTION\n",
    "\n",
    "# For each pre- or post-neuron: How many partners does it have in each offset bin (N) and what fraction is connected (P)?\n",
    "def count_n_and_p(df_in):\n",
    "    M = df_in.pivot(index=\"touches_pair\", columns=\"node_id\", values=\"count\") # \"node_id\"\n",
    "    V = pandas.concat([M.sum(axis=0), M.loc[thresh:].sum(axis=0) / M.sum(axis=0)], axis=1, keys=[\"N\", \"P\"])\n",
    "    return V\n",
    "\n",
    "df_n_p_pre = df_for_pre.reset_index().groupby([\"xz\", \"y\"]).apply(count_n_and_p)\n",
    "df_n_p_post = df_for_post.reset_index().groupby([\"xz\", \"y\"]).apply(count_n_and_p)"
   ]
  },
  {
   "cell_type": "markdown",
   "id": "818f99b1",
   "metadata": {},
   "source": [
    "An example for wat we consider. \n",
    "\n",
    "For a pair of spatial bins, we consider the connection probabilities of all neurons with partners at that offset.\n",
    "Then we can ask, what is the correlation?"
   ]
  },
  {
   "cell_type": "code",
   "execution_count": 12,
   "id": "f902eb7a",
   "metadata": {},
   "outputs": [
    {
     "data": {
      "text/plain": [
       "(-0.001, 0.025)"
      ]
     },
     "execution_count": 12,
     "metadata": {},
     "output_type": "execute_result"
    },
    {
     "data": {
      "image/png": "[encoded data removed]",
      "text/plain": [
       "<Figure size 640x480 with 1 Axes>"
      ]
     },
     "metadata": {},
     "output_type": "display_data"
    }
   ],
   "source": [
    "a = df_n_p_post.loc[(3, 10)]\n",
    "b = df_n_p_post.loc[(4, 12)]\n",
    "\n",
    "ab = pandas.concat([a[\"P\"], b[\"P\"]], axis=1, keys=[\"a\", \"b\"], names=[\"bin\"])\n",
    "\n",
    "plt.scatter(ab[\"a\"], ab[\"b\"], alpha=0.4, s=5)\n",
    "plt.gca().set_xlim([-1E-3, 0.025])\n",
    "plt.gca().set_ylim([-1E-3, 0.025])"
   ]
  },
  {
   "cell_type": "code",
   "execution_count": 13,
   "id": "06b8096d",
   "metadata": {},
   "outputs": [],
   "source": [
    "# Overall mean connection probability in each offset bin\n",
    "mn_P_pre = df_n_p_pre.groupby([\"xz\", \"y\"]).apply(lambda _x: (_x[\"N\"] * _x[\"P\"]).sum() / _x[\"N\"].sum())\n",
    "mn_P_post = df_n_p_post.groupby([\"xz\", \"y\"]).apply(lambda _x: (_x[\"N\"] * _x[\"P\"]).sum() / _x[\"N\"].sum())\n",
    "\n",
    "# What is the correlation between observed values of \"P\" over pre- or post-neurons in a given offset bin?\n",
    "def observations_to_cc_of_offset_bins(df_in, mode=\"valid\"):\n",
    "    df_cc = df_in.reset_index()\n",
    "    # columns: offset bin. index: neuron. values: observed \"P\", or NaN if the neuron has no other neuron at that offset\n",
    "    df_cc = df_cc.pivot(columns=[\"xz\", \"y\"], index=\"node_id\", values=\"P\")\n",
    "    # How to deal with NaN values? The default behavior of pandas is to ignore them, i.e. calculate correlation only\n",
    "    # for observations where neither of a pair is NaN. \n",
    "    # A more conservative approach is to assume that the neuron would have the overall mean connection probability.\n",
    "    # Finally we can add a small, random noise to all observations. That way, bins with all zeros will show up\n",
    "    # to have zero correlation with all others. Else they will have NaN correlation\n",
    "    if mode == \"valid\":\n",
    "        return df_cc.corr()\n",
    "    else:\n",
    "        return (df_cc.fillna(mn_P) + 1E-9 * numpy.random.rand(*df_cc.shape)).corr()\n",
    "    \n",
    "CC_pre = observations_to_cc_of_offset_bins(df_n_p_pre)\n",
    "CC_post = observations_to_cc_of_offset_bins(df_n_p_post)"
   ]
  },
  {
   "cell_type": "code",
   "execution_count": 14,
   "id": "e707a976",
   "metadata": {},
   "outputs": [],
   "source": [
    "def translate_index(idx):\n",
    "    idx = idx.to_frame().reset_index(drop=True)\n",
    "    idx[\"xz\"] = bin_centers_xz[idx[\"xz\"]]\n",
    "    idx[\"y\"] = bin_centers_y[idx[\"y\"]]\n",
    "    return pandas.MultiIndex.from_frame(idx)\n",
    "\n",
    "CC_post.index = translate_index(CC_post.index)\n",
    "CC_post.columns = translate_index(CC_post.columns)\n",
    "CC_pre.index = translate_index(CC_pre.index)\n",
    "CC_pre.columns = translate_index(CC_pre.columns)"
   ]
  },
  {
   "cell_type": "code",
   "execution_count": 15,
   "id": "5986c0a3",
   "metadata": {},
   "outputs": [
    {
     "name": "stderr",
     "output_type": "stream",
     "text": [
      "/gpfs/bbp.cscs.ch/home/reimann/venvs/bpsnap/lib/python3.10/site-packages/tables/path.py:137: NaturalNameWarning: object name is not a valid Python identifier: '1'; it does not match the pattern ``^[a-zA-Z_][a-zA-Z0-9_]*$``; you will not be able to use natural naming to access this object; using ``getattr()`` will still work, though\n",
      "  check_attribute_name(name)\n"
     ]
    }
   ],
   "source": [
    "out_fn = \"/gpfs/bbp.cscs.ch/project/proj159/home/reimann/connectivity_higher_order_interactions_24-11-11.h5\"\n",
    "\n",
    "CC_pre.to_hdf(out_fn, key=\"{0}/{1}/pre\".format(loaded, thresh))\n",
    "CC_post.to_hdf(out_fn, key=\"{0}/{1}/post\".format(loaded, thresh))"
   ]
  },
  {
   "cell_type": "code",
   "execution_count": 16,
   "id": "c2950ea6",
   "metadata": {},
   "outputs": [],
   "source": [
    "mn_edge_count_pre = df_n_p_pre.groupby([\"xz\", \"y\"]).apply(lambda _x: _x[\"N\"].mean())\n",
    "mn_edge_count_pre.index = translate_index(mn_edge_count_pre.index)\n",
    "mn_edge_count_post = df_n_p_post.groupby([\"xz\", \"y\"]).apply(lambda _x: _x[\"N\"].mean())\n",
    "mn_edge_count_post.index = translate_index(mn_edge_count_post.index)"
   ]
  },
  {
   "cell_type": "code",
   "execution_count": 17,
   "id": "bdaddaa9",
   "metadata": {},
   "outputs": [],
   "source": [
    "out_fn = \"/gpfs/bbp.cscs.ch/project/proj159/home/reimann/connectivity_higher_order_interactions_24-11-11.h5\"\n",
    "\n",
    "mn_edge_count_pre.to_hdf(out_fn, key=\"{0}/{1}/pre_N\".format(loaded, thresh))\n",
    "mn_edge_count_post.to_hdf(out_fn, key=\"{0}/{1}/post_N\".format(loaded, thresh))"
   ]
  }
 ],
 "metadata": {
  "kernelspec": {
   "display_name": "bluepysnap",
   "language": "python",
   "name": "bluepysnap"
  },
  "language_info": {
   "codemirror_mode": {
    "name": "ipython",
    "version": 3
   },
   "file_extension": ".py",
   "mimetype": "text/x-python",
   "name": "python",
   "nbconvert_exporter": "python",
   "pygments_lexer": "ipython3",
   "version": "3.10.8"
  }
 },
 "nbformat": 4,
 "nbformat_minor": 5
}
